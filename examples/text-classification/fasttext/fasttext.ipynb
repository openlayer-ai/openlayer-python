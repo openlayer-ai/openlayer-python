{
 "cells": [
  {
   "cell_type": "markdown",
   "id": "bb12588a",
   "metadata": {},
   "source": [
    "[![Open In Colab](https://colab.research.google.com/assets/colab-badge.svg)](https://colab.research.google.com/github/unboxai/examples-gallery/blob/main/text-classification/fasttext/fasttext.ipynb)\n",
    "\n",
    "\n",
    "# Text classification using fastText\n",
    "\n",
    "This notebook illustrates how fastText models can be upladed to the Unbox platform."
   ]
  },
  {
   "cell_type": "markdown",
   "id": "23b549c1",
   "metadata": {},
   "source": [
    "## Importing the modules and loading the dataset"
   ]
  },
  {
   "cell_type": "code",
   "execution_count": 3,
   "id": "42de6fd6",
   "metadata": {},
   "outputs": [],
   "source": [
    "import fasttext\n",
    "import numpy as np"
   ]
  },
  {
   "cell_type": "code",
   "execution_count": 4,
   "id": "mineral-madison",
   "metadata": {},
   "outputs": [
    {
     "name": "stderr",
     "output_type": "stream",
     "text": [
      "  % Total    % Received % Xferd  Average Speed   Time    Time     Time  Current\n",
      "                                 Dload  Upload   Total   Spent    Left  Speed\n",
      "100  446k  100  446k    0     0   194k      0  0:00:02  0:00:02 --:--:--  194k\n",
      "x cooking.stackexchange.id\n",
      "x cooking.stackexchange.txt\n",
      "x readme.txt\n"
     ]
    }
   ],
   "source": [
    "%%bash\n",
    "\n",
    "if [ ! -d ./data ]; then\n",
    "    mkdir ./data\n",
    "fi\n",
    "\n",
    "curl https://dl.fbaipublicfiles.com/fasttext/data/cooking.stackexchange.tar.gz --output data/cooking.stackexchange.tar.gz && tar xvzf data/cooking.stackexchange.tar.gz -C data\n",
    "head -n 12404 data/cooking.stackexchange.txt > data/cooking.train\n",
    "tail -n 3000 data/cooking.stackexchange.txt > data/cooking.valid"
   ]
  },
  {
   "cell_type": "markdown",
   "id": "63d94200",
   "metadata": {},
   "source": [
    "## Training and evaluating the model's performance"
   ]
  },
  {
   "cell_type": "code",
   "execution_count": 5,
   "id": "9f9ab20d",
   "metadata": {},
   "outputs": [
    {
     "name": "stderr",
     "output_type": "stream",
     "text": [
      "Read 0M words\n",
      "Number of words:  14543\n",
      "Number of labels: 735\n",
      "Progress: 100.0% words/sec/thread: 1863090 lr:  0.000000 avg.loss:  5.498450 ETA:   0h 0m 0s\n"
     ]
    }
   ],
   "source": [
    "fasttext_model = fasttext.train_supervised(input=\"./data/cooking.train\", lr=0.8, epoch=70, loss='hs')"
   ]
  },
  {
   "cell_type": "code",
   "execution_count": 6,
   "id": "2b1d9925",
   "metadata": {},
   "outputs": [
    {
     "data": {
      "text/plain": [
       "(3000, 0.49633333333333335, 0.2146461006198645)"
      ]
     },
     "execution_count": 6,
     "metadata": {},
     "output_type": "execute_result"
    }
   ],
   "source": [
    "fasttext_model.test(\"./data/cooking.valid\")"
   ]
  },
  {
   "cell_type": "markdown",
   "id": "7c6d1452",
   "metadata": {},
   "source": [
    "## Unbox part!\n",
    "\n",
    "### Instantiating the client"
   ]
  },
  {
   "cell_type": "code",
   "execution_count": 7,
   "id": "c16e4344",
   "metadata": {},
   "outputs": [],
   "source": [
    "import unboxapi\n",
    "\n",
    "client = unboxapi.UnboxClient(\"YOUR_API_KEY_HERE\")"
   ]
  },
  {
   "cell_type": "markdown",
   "id": "9f93e4a9",
   "metadata": {},
   "source": [
    "### Creating a project on the platform"
   ]
  },
  {
   "cell_type": "code",
   "execution_count": 14,
   "id": "a3d793a1",
   "metadata": {},
   "outputs": [
    {
     "name": "stdout",
     "output_type": "stream",
     "text": [
      "Created your project. Check out https://unbox.ai/projects!\n"
     ]
    }
   ],
   "source": [
    "from unboxapi.tasks import TaskType\n",
    "\n",
    "project = client.create_project(name=\"Recipe classification\",\n",
    "                                task_type=TaskType.TextClassification,\n",
    "                                description=\"Fasttext Demo Project\")"
   ]
  },
  {
   "cell_type": "markdown",
   "id": "44631689",
   "metadata": {},
   "source": [
    "### Uploading the model\n",
    "\n",
    "First, it is important to create a `predict_proba` function, which is how Unbox interacts with your model"
   ]
  },
  {
   "cell_type": "code",
   "execution_count": 15,
   "id": "9e60d9f3",
   "metadata": {},
   "outputs": [],
   "source": [
    "class_names = fasttext_model.labels\n",
    "class_names = [s.replace(\"__label__\", \"\") for s in class_names]\n",
    "\n",
    "k = len(class_names)\n",
    "idx_to_labels = {i:k for k, i in zip(class_names, range(k))}\n",
    "labels_to_idx = {k:i for k, i in zip(class_names, range(k))}"
   ]
  },
  {
   "cell_type": "code",
   "execution_count": 16,
   "id": "f0e802ac",
   "metadata": {},
   "outputs": [],
   "source": [
    "def predict_proba(model, text_list):\n",
    "    \n",
    "    predictions = model.predict(text_list, k=k)\n",
    "    x, y = predictions\n",
    "    \n",
    "    probabilities_full_list = []\n",
    "    for label_list, prob_list in zip(x, y):\n",
    "        label_prob_pair_dict = {}\n",
    "        for lbl, prob in zip(label_list, prob_list):\n",
    "            label_prob_pair_dict[lbl.replace(\"__label__\", \"\")] = prob\n",
    "        probabilities_list = []\n",
    "        for cls in class_names:\n",
    "            if cls in label_prob_pair_dict:\n",
    "                p = label_prob_pair_dict[cls]\n",
    "                probabilities_list.append(p)\n",
    "            else:\n",
    "                probabilities_list.append(0.0)\n",
    "        probabilities_full_list.append(probabilities_list)\n",
    "        \n",
    "    return np.array(probabilities_full_list)"
   ]
  },
  {
   "cell_type": "markdown",
   "id": "ae34b7ac",
   "metadata": {},
   "source": [
    "Let's test the `predict_proba` function to make sure the input-output format is consistent with what Unbox expects:"
   ]
  },
  {
   "cell_type": "code",
   "execution_count": 17,
   "id": "34eb8d30",
   "metadata": {},
   "outputs": [
    {
     "data": {
      "text/plain": [
       "array([[1.6712982e-05, 0.0000000e+00, 0.0000000e+00, ..., 0.0000000e+00,\n",
       "        0.0000000e+00, 0.0000000e+00],\n",
       "       [1.6712982e-05, 0.0000000e+00, 0.0000000e+00, ..., 0.0000000e+00,\n",
       "        0.0000000e+00, 0.0000000e+00],\n",
       "       [1.6712982e-05, 0.0000000e+00, 0.0000000e+00, ..., 0.0000000e+00,\n",
       "        0.0000000e+00, 0.0000000e+00],\n",
       "       ...,\n",
       "       [1.6712982e-05, 0.0000000e+00, 0.0000000e+00, ..., 0.0000000e+00,\n",
       "        0.0000000e+00, 0.0000000e+00],\n",
       "       [1.6712982e-05, 0.0000000e+00, 0.0000000e+00, ..., 0.0000000e+00,\n",
       "        0.0000000e+00, 0.0000000e+00],\n",
       "       [1.6712982e-05, 0.0000000e+00, 0.0000000e+00, ..., 0.0000000e+00,\n",
       "        0.0000000e+00, 0.0000000e+00]])"
      ]
     },
     "execution_count": 17,
     "metadata": {},
     "output_type": "execute_result"
    }
   ],
   "source": [
    "predict_proba(fasttext_model, [\"cake\"]*1000*10)"
   ]
  },
  {
   "cell_type": "markdown",
   "id": "081ffb7b",
   "metadata": {},
   "source": [
    "Now, we can upload the model:"
   ]
  },
  {
   "cell_type": "code",
   "execution_count": 18,
   "id": "bb09ca2f",
   "metadata": {},
   "outputs": [
    {
     "name": "stdout",
     "output_type": "stream",
     "text": [
      "Bundling model and artifacts...\n",
      "Uploading model to Unbox! Check out https://unbox.ai/models to have a look!\n"
     ]
    }
   ],
   "source": [
    "from unboxapi.models import ModelType\n",
    "\n",
    "model = project.add_model(\n",
    "    function=predict_proba, \n",
    "    model=fasttext_model,\n",
    "    model_type=ModelType.fasttext,\n",
    "    class_names=class_names,\n",
    "    name='Cooking Fast Text',\n",
    "    commit_message='this is my fasttext model',\n",
    "    requirements_txt_file='./requirements.txt'\n",
    ")"
   ]
  },
  {
   "cell_type": "code",
   "execution_count": null,
   "id": "5e3a6c42",
   "metadata": {},
   "outputs": [],
   "source": []
  }
 ],
 "metadata": {
  "kernelspec": {
   "display_name": "Python 3 (ipykernel)",
   "language": "python",
   "name": "python3"
  },
  "language_info": {
   "codemirror_mode": {
    "name": "ipython",
    "version": 3
   },
   "file_extension": ".py",
   "mimetype": "text/x-python",
   "name": "python",
   "nbconvert_exporter": "python",
   "pygments_lexer": "ipython3",
   "version": "3.8.13"
  }
 },
 "nbformat": 4,
 "nbformat_minor": 5
}
