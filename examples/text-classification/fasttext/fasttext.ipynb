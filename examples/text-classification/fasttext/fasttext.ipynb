{
 "cells": [
  {
   "cell_type": "markdown",
   "id": "bb12588a",
   "metadata": {},
   "source": [
    "[![Open In Colab](https://colab.research.google.com/assets/colab-badge.svg)](https://colab.research.google.com/github/openlayer-ai/examples-gallery/blob/main/text-classification/fasttext/fasttext.ipynb)\n",
    "\n",
    "\n",
    "# <a id=\"top\">Text classification using fastText</a>\n",
    "\n",
    "This notebook illustrates how fastText models can be uploaded to the Openlayer platform.\n",
    "\n",
    "## <a id=\"toc\">Table of contents</a>\n",
    "\n",
    "1. [**Getting the data and training the model**](#1)\n",
    "    - [Downloading the dataset](#download)\n",
    "    - [Preparing the data](#prepare)\n",
    "    - [Training the model](#train)\n",
    "    \n",
    "\n",
    "2. [**Using Openlayer's Python API**](#2)\n",
    "    - [Instantiating the client](#client)\n",
    "    - [Creating a project](#project)\n",
    "    - [Uploading datasets](#dataset)\n",
    "    - [Uploading models](#model)\n",
    "        - [Shell models](#shell)\n",
    "        - [Full models](#full-model)\n",
    "    - [Committing and pushing to the platform](#commit)"
   ]
  },
  {
   "cell_type": "code",
   "execution_count": null,
   "id": "c9647c25",
   "metadata": {},
   "outputs": [],
   "source": [
    "%%bash\n",
    "\n",
    "if [ ! -e \"requirements.txt\" ]; then\n",
    "    curl \"https://raw.githubusercontent.com/openlayer-ai/examples-gallery/main/text-classification/fasttext/requirements.txt\" --output \"requirements.txt\"\n",
    "fi"
   ]
  },
  {
   "cell_type": "code",
   "execution_count": null,
   "id": "4a6e1c59",
   "metadata": {},
   "outputs": [],
   "source": [
    "!pip install -r requirements.txt"
   ]
  },
  {
   "cell_type": "markdown",
   "id": "23b549c1",
   "metadata": {},
   "source": [
    "## <a id=\"1\"> 1. Getting the data and training the model </a>\n",
    "\n",
    "[Back to top](#top)\n",
    "\n",
    "In this first part, we will get the dataset, pre-process it, split it into training and validation sets, and train a model. Feel free to skim through this section if you are already comfortable with how these steps look for a fastText model.   "
   ]
  },
  {
   "cell_type": "code",
   "execution_count": null,
   "id": "42de6fd6",
   "metadata": {},
   "outputs": [],
   "source": [
    "import fasttext\n",
    "import numpy as np\n",
    "import pandas as pd"
   ]
  },
  {
   "cell_type": "markdown",
   "id": "9d5cbaa1",
   "metadata": {},
   "source": [
    "### <a id=\"download\">Downloading the dataset </a>\n",
    "\n",
    "We have stored the dataset on the following S3 bucket. If, for some reason, you get an error reading the csv directly from it, feel free to copy and paste the URL in your browser and download the csv file. Alternatively, you can also find the dataset on [HuggingFace](https://huggingface.co/datasets/banking77)."
   ]
  },
  {
   "cell_type": "code",
   "execution_count": null,
   "id": "a9068578",
   "metadata": {},
   "outputs": [],
   "source": [
    "%%bash\n",
    "\n",
    "if [ ! -e \"banking.csv\" ]; then\n",
    "    curl \"https://openlayer-static-assets.s3.us-west-2.amazonaws.com/examples-datasets/text-classification/banking.csv\" --output \"banking.csv\"\n",
    "fi"
   ]
  },
  {
   "cell_type": "code",
   "execution_count": null,
   "id": "15883ab2",
   "metadata": {},
   "outputs": [],
   "source": [
    "data = pd.read_csv(\"./banking.csv\")\n",
    "data.head()"
   ]
  },
  {
   "cell_type": "markdown",
   "id": "0584ac3a",
   "metadata": {},
   "source": [
    "### <a id=\"prepare\">Preparing the data</a>\n",
    "\n",
    "FastText datasets have the labels specified with `__label__{}` pattern and the text input in the same line. Therefore, let's make the training and validation datasets conform with the expected format:"
   ]
  },
  {
   "cell_type": "code",
   "execution_count": null,
   "id": "0d48a1d8",
   "metadata": {},
   "outputs": [],
   "source": [
    "# shuffling the data\n",
    "data = data.sample(frac=1, random_state=42)  \n",
    "\n",
    "training_set = data.copy()[:7000]\n",
    "validation_set = data.copy()[7000:]"
   ]
  },
  {
   "cell_type": "code",
   "execution_count": null,
   "id": "6e11be8e",
   "metadata": {},
   "outputs": [],
   "source": [
    "training_set.loc[:, \"fasttext_label\"] = \"__label__\" + training_set[\"category\"]\n",
    "validation_set.loc[:, \"fasttext_label\"] = \"__label__\" + validation_set[\"category\"]"
   ]
  },
  {
   "cell_type": "code",
   "execution_count": null,
   "id": "0d0a246c",
   "metadata": {},
   "outputs": [],
   "source": [
    "training_set[[\"fasttext_label\", \"text\"]].to_csv(\"training_set.txt\", index=None, header=None, sep=\" \")\n",
    "validation_set[[\"fasttext_label\", \"text\"]].to_csv(\"validation_set.txt\", index=None, header=None, sep=\" \")"
   ]
  },
  {
   "cell_type": "markdown",
   "id": "63d94200",
   "metadata": {},
   "source": [
    "### <a id=\"train\">Training the model</a>"
   ]
  },
  {
   "cell_type": "code",
   "execution_count": null,
   "id": "9f9ab20d",
   "metadata": {},
   "outputs": [],
   "source": [
    "fasttext_model = fasttext.train_supervised(\n",
    "    input=\"training_set.txt\", \n",
    "    lr=0.8, \n",
    "    epoch=70, \n",
    "    loss='hs'\n",
    ")"
   ]
  },
  {
   "cell_type": "code",
   "execution_count": null,
   "id": "2b1d9925",
   "metadata": {},
   "outputs": [],
   "source": [
    "fasttext_model.test(\"validation_set.txt\")"
   ]
  },
  {
   "cell_type": "markdown",
   "id": "7c6d1452",
   "metadata": {},
   "source": [
    "## <a id=\"2\"> 2. Using Openlayer's Python API</a>\n",
    "\n",
    "[Back to top](#top)\n",
    "\n",
    "Now it's time to upload the datasets and model to the Openlayer platform."
   ]
  },
  {
   "cell_type": "code",
   "execution_count": null,
   "id": "ad5cf6df",
   "metadata": {},
   "outputs": [],
   "source": [
    "!pip install openlayer"
   ]
  },
  {
   "cell_type": "markdown",
   "id": "898869a9",
   "metadata": {},
   "source": [
    "### <a id=\"client\">Instantiating the client</a>"
   ]
  },
  {
   "cell_type": "code",
   "execution_count": null,
   "id": "c16e4344",
   "metadata": {},
   "outputs": [],
   "source": [
    "import openlayer\n",
    "\n",
    "client = openlayer.OpenlayerClient(\"YOUR_API_KEY_HERE\")"
   ]
  },
  {
   "cell_type": "markdown",
   "id": "9f93e4a9",
   "metadata": {},
   "source": [
    "### <a id=\"project\">Creating a project on the platform</a>"
   ]
  },
  {
   "cell_type": "code",
   "execution_count": null,
   "id": "a3d793a1",
   "metadata": {},
   "outputs": [],
   "source": [
    "from openlayer.tasks import TaskType\n",
    "\n",
    "project = client.create_or_load_project(\n",
    "    name=\"Chatbot with fastText\",\n",
    "    task_type=TaskType.TextClassification,\n",
    "    description=\"Fasttext Demo Project\"\n",
    ")"
   ]
  },
  {
   "cell_type": "markdown",
   "id": "5f9a638d",
   "metadata": {},
   "source": [
    "### <a id=\"dataset\">Uploading datasets</a>\n",
    "\n",
    "Before adding the datasets to a project, we need to do two things:\n",
    "1. Enhance the dataset with additional columns to make it comprehensive, such as adding a column for labels and one for model predictions (if you're uploading a model as well).\n",
    "2. Prepare a `dataset_config.yaml` file. This is a file that contains all the information needed by the Openlayer platform to utilize the dataset. It should include the column names, the class names, etc. For details on the fields of the `dataset_config.yaml` file, see the [API reference](https://reference.openlayer.com/reference/api/openlayer.OpenlayerClient.add_dataset.html#openlayer.OpenlayerClient.add_dataset).\n",
    "\n",
    "Let's start by enhancing the datasets with the extra columns:"
   ]
  },
  {
   "cell_type": "code",
   "execution_count": null,
   "id": "722f34b5",
   "metadata": {},
   "outputs": [],
   "source": [
    "class_names = fasttext_model.labels\n",
    "class_names = [s.replace(\"__label__\", \"\") for s in class_names]\n",
    "\n",
    "k = len(class_names)\n",
    "idx_to_labels = {i: k for k, i in zip(class_names, range(k))}\n",
    "labels_to_idx = {k: i for k, i in zip(class_names, range(k))}"
   ]
  },
  {
   "cell_type": "code",
   "execution_count": null,
   "id": "395668e5",
   "metadata": {},
   "outputs": [],
   "source": [
    "from typing import List\n",
    "\n",
    "def predict_proba(text: str) -> List[float]:\n",
    "    text = text.replace(\"\\n\",\" \")\n",
    "    class_names, probabilities = fasttext_model.predict(text, k=k)\n",
    "    \n",
    "    pred_dict = {}\n",
    "    for class_name, probability in zip(class_names, probabilities):\n",
    "        class_name = class_name.replace(\"__label__\", \"\")\n",
    "        pred_dict[labels_to_idx[class_name]] = probability\n",
    "    \n",
    "    return [pred_dict[key] if key in pred_dict.keys() else 0.0 for key in range(k)]"
   ]
  },
  {
   "cell_type": "code",
   "execution_count": null,
   "id": "a4e4b303",
   "metadata": {},
   "outputs": [],
   "source": [
    "training_set.loc[:, \"predictions\"] = training_set[\"text\"].apply(predict_proba)\n",
    "validation_set.loc[:, \"predictions\"] = validation_set[\"text\"].apply(predict_proba)"
   ]
  },
  {
   "cell_type": "code",
   "execution_count": null,
   "id": "e7945452",
   "metadata": {},
   "outputs": [],
   "source": [
    "training_set.loc[:, \"label_code\"] = training_set[\"category\"].map(labels_to_idx)\n",
    "validation_set.loc[:, \"label_code\"] = validation_set[\"category\"].map(labels_to_idx)"
   ]
  },
  {
   "cell_type": "markdown",
   "id": "5e3754bc",
   "metadata": {},
   "source": [
    "Now, we can prepare the `dataset_config.yaml` files for the training and validation sets."
   ]
  },
  {
   "cell_type": "code",
   "execution_count": null,
   "id": "b22a9033",
   "metadata": {},
   "outputs": [],
   "source": [
    "# Some variables that will go into the `dataset_config.yaml` file\n",
    "column_names = list(training_set.columns)\n",
    "label_column_name = \"label_code\"\n",
    "prediction_scores_column_name = \"predictions\"\n",
    "text_column_name = \"text\""
   ]
  },
  {
   "cell_type": "code",
   "execution_count": null,
   "id": "ac71d3de",
   "metadata": {},
   "outputs": [],
   "source": [
    "import yaml \n",
    "\n",
    "# Note the camelCase for the dict's keys\n",
    "training_dataset_config = {\n",
    "    \"classNames\": class_names,\n",
    "    \"columnNames\": column_names,\n",
    "    \"textColumnName\": text_column_name,\n",
    "    \"label\": \"training\",\n",
    "    \"labelColumnName\": label_column_name,\n",
    "    \"predictionScoresColumnName\": prediction_scores_column_name,\n",
    "}\n",
    "\n",
    "with open(\"training_dataset_config.yaml\", \"w\") as dataset_config_file:\n",
    "    yaml.dump(training_dataset_config, dataset_config_file, default_flow_style=False)"
   ]
  },
  {
   "cell_type": "code",
   "execution_count": null,
   "id": "4ecf4d8a",
   "metadata": {},
   "outputs": [],
   "source": [
    "import copy\n",
    "\n",
    "validation_dataset_config = copy.deepcopy(training_dataset_config)\n",
    "\n",
    "# In our case, the only field that changes is the `label`, from \"training\" -> \"validation\"\n",
    "validation_dataset_config[\"label\"] = \"validation\"\n",
    "\n",
    "with open(\"validation_dataset_config.yaml\", \"w\") as dataset_config_file:\n",
    "    yaml.dump(validation_dataset_config, dataset_config_file, default_flow_style=False)"
   ]
  },
  {
   "cell_type": "code",
   "execution_count": null,
   "id": "8773a05b",
   "metadata": {},
   "outputs": [],
   "source": [
    "# Training set\n",
    "project.add_dataframe(\n",
    "    dataset_df=training_set,\n",
    "    dataset_config_file_path=\"training_dataset_config.yaml\",\n",
    ")"
   ]
  },
  {
   "cell_type": "code",
   "execution_count": null,
   "id": "2015754a",
   "metadata": {},
   "outputs": [],
   "source": [
    "# Validation set\n",
    "project.add_dataframe(\n",
    "    dataset_df=validation_set,\n",
    "    dataset_config_file_path=\"validation_dataset_config.yaml\",\n",
    ")"
   ]
  },
  {
   "cell_type": "markdown",
   "id": "f7833750",
   "metadata": {},
   "source": [
    "We can check that both datasets are now staged using the `project.status()` method. "
   ]
  },
  {
   "cell_type": "code",
   "execution_count": null,
   "id": "ce8f899e",
   "metadata": {},
   "outputs": [],
   "source": [
    "project.status()"
   ]
  },
  {
   "cell_type": "markdown",
   "id": "f304abf8",
   "metadata": {},
   "source": [
    "### <a id=\"model\">Uploading models</a>\n",
    "\n",
    "When it comes to uploading models to the Openlayer platform, there are two options:\n",
    "\n",
    "- The first one is to upload a **shell model**. Shell models are the most straightforward way to get started. They are comprised of metadata and all of the analysis are done via its predictions (which are [uploaded with the datasets](#dataset)).\n",
    "- The second one is to upload a **full model**, with artifacts. When a full model is uploaded, it becomes available in the platform and it becomes possible to perform what-if analysis, use all the explainability techniques available, and perform a series of robustness assessments with it. "
   ]
  },
  {
   "cell_type": "markdown",
   "id": "44631689",
   "metadata": {},
   "source": [
    "#### <a id=\"shell\">Shell models</a>\n",
    "\n",
    "To upload a shell model, we only need to define its name, the architecture type, and add some metadata that will be rendered in the platform to help us identify it. This information should be saved to a `model_config.yaml` file.\n",
    "\n",
    "Let's create a `model_config.yaml` file for our model:"
   ]
  },
  {
   "cell_type": "code",
   "execution_count": null,
   "id": "9e60d9f3",
   "metadata": {},
   "outputs": [],
   "source": [
    "import yaml\n",
    "\n",
    "model_config = {\n",
    "    \"name\": \"Banking classifier\",\n",
    "    \"architectureType\": \"fasttext\",\n",
    "    \"metadata\": {  # Can add anything here, as long as it is a dict\n",
    "        \"learning_rate\": \"0.8\",\n",
    "        \"num_epochs\": 70,\n",
    "        \"regularization\": \"None\",\n",
    "    },\n",
    "    \"classNames\": class_names,\n",
    "}\n",
    "\n",
    "with open(\"model_config.yaml\", \"w\") as model_config_file:\n",
    "    yaml.dump(model_config, model_config_file, default_flow_style=False)"
   ]
  },
  {
   "cell_type": "code",
   "execution_count": null,
   "id": "cf3d7fd3",
   "metadata": {},
   "outputs": [],
   "source": [
    "project.add_model(\n",
    "    model_config_file_path=\"model_config.yaml\",\n",
    ")"
   ]
  },
  {
   "cell_type": "markdown",
   "id": "a8285319",
   "metadata": {},
   "source": [
    "We can check that both datasets and model are staged using the `project.status()` method."
   ]
  },
  {
   "cell_type": "code",
   "execution_count": null,
   "id": "b81c2abc",
   "metadata": {},
   "outputs": [],
   "source": [
    "project.status()"
   ]
  },
  {
   "cell_type": "markdown",
   "id": "50145aaf",
   "metadata": {},
   "source": [
    "Since in this example, we're interested in uploading a full model, let's unstage the shell model:"
   ]
  },
  {
   "cell_type": "code",
   "execution_count": null,
   "id": "88b2d44d",
   "metadata": {},
   "outputs": [],
   "source": [
    "project.restore(\"model\")"
   ]
  },
  {
   "cell_type": "markdown",
   "id": "8179562d",
   "metadata": {},
   "source": [
    "#### <a id=\"full-model\"> Full models </a>\n",
    "\n",
    "To upload a full model to Openlayer, you will need to create a model package, which is nothing more than a folder with all the necessary information to run inference with the model. The package should include the following:\n",
    "1. A `requirements.txt` file listing the dependencies for the model.\n",
    "2. Serialized model files, such as model weights, encoders, etc., in a format specific to the framework used for training (e.g. `.bin` for fastText, `.pkl` for sklearn, `.pb` for TensorFlow, and so on.)\n",
    "3. A `prediction_interface.py` file that acts as a wrapper for the model and implements the `predict_proba` function. \n",
    "\n",
    "Other than the model package, a `model_config.yaml` file is needed, with information about the model to the Openlayer platform, such as the framework used, feature names, and categorical feature names.\n",
    "\n",
    "Lets prepare the model package one piece at a time"
   ]
  },
  {
   "cell_type": "code",
   "execution_count": null,
   "id": "95d9ef25",
   "metadata": {},
   "outputs": [],
   "source": [
    "# Creating the model package folder (we'll call it `model_package`)\n",
    "!mkdir model_package"
   ]
  },
  {
   "cell_type": "markdown",
   "id": "b9670036",
   "metadata": {},
   "source": [
    "**1. Adding the `requirements.txt` to the model package**"
   ]
  },
  {
   "cell_type": "code",
   "execution_count": null,
   "id": "ea3db091",
   "metadata": {},
   "outputs": [],
   "source": [
    "!scp requirements.txt model_package"
   ]
  },
  {
   "cell_type": "markdown",
   "id": "6c240179",
   "metadata": {},
   "source": [
    "**2. Serializing the model and other objects needed**"
   ]
  },
  {
   "cell_type": "code",
   "execution_count": null,
   "id": "4b437cd7",
   "metadata": {},
   "outputs": [],
   "source": [
    "import pickle \n",
    "\n",
    "fasttext_model.save_model(\"model_package/model.bin\")\n",
    "\n",
    "# Mapping from labels to ids\n",
    "with open('model_package/labels_to_idx.pkl', 'wb') as handle:\n",
    "    pickle.dump(labels_to_idx, handle, protocol=pickle.HIGHEST_PROTOCOL)"
   ]
  },
  {
   "cell_type": "markdown",
   "id": "3fb76595",
   "metadata": {},
   "source": [
    "**3. Writing the `prediction_interface.py` file**"
   ]
  },
  {
   "cell_type": "code",
   "execution_count": null,
   "id": "fc231368",
   "metadata": {},
   "outputs": [],
   "source": [
    "%%writefile model_package/prediction_interface.py\n",
    "\n",
    "import fasttext\n",
    "import pickle\n",
    "import numpy as np\n",
    "\n",
    "from pathlib import Path\n",
    "from typing import List\n",
    "import pandas as pd\n",
    "\n",
    "PACKAGE_PATH = Path(__file__).parent\n",
    "\n",
    "\n",
    "class FastTextModel:\n",
    "    def __init__(self):\n",
    "        \"\"\"This is where the serialized objects needed should\n",
    "        be loaded as class attributes.\"\"\"\n",
    "        self.model = fasttext.load_model(str(PACKAGE_PATH) +  \"/model.bin\")\n",
    "        with open(PACKAGE_PATH / \"labels_to_idx.pkl\", \"rb\") as map_file:\n",
    "            self.labels_to_idx = pickle.load(map_file)\n",
    "        self.k = 62\n",
    "        \n",
    "    def predict_proba(self, input_data_df: pd.DataFrame):\n",
    "        \"\"\"Makes predictions with the model. Returns the class probabilities.\"\"\"\n",
    "        text_column = input_data_df.columns[0]\n",
    "        \n",
    "        preds = input_data_df[text_column].apply(self._predict_row)\n",
    "        \n",
    "        return np.stack(preds.values)\n",
    "\n",
    "    def _predict_row(self, text: str) -> List[float]:\n",
    "        text = text.replace(\"\\n\",\" \")\n",
    "        class_names, probabilities = self.model.predict(text, k=self.k)\n",
    "\n",
    "        pred_dict = {}\n",
    "        for class_name, probability in zip(class_names, probabilities):\n",
    "            class_name = class_name.replace(\"__label__\", \"\")\n",
    "            pred_dict[self.labels_to_idx[class_name]] = probability\n",
    "\n",
    "        return [pred_dict[key] if key in pred_dict.keys() else 0.0 for key in range(self.k)]\n",
    "    \n",
    "    \n",
    "def load_model():\n",
    "    \"\"\"Function that returns the wrapped model object.\"\"\"\n",
    "    return FastTextModel()"
   ]
  },
  {
   "cell_type": "markdown",
   "id": "47059612",
   "metadata": {},
   "source": [
    "**Creating the `model_config.yaml`**"
   ]
  },
  {
   "cell_type": "code",
   "execution_count": null,
   "id": "1f932e5c",
   "metadata": {},
   "outputs": [],
   "source": [
    "import yaml \n",
    "\n",
    "model_config = {\n",
    "    \"name\": \"Recipe classifier\",\n",
    "    \"architectureType\": \"fasttext\",\n",
    "    \"metadata\": {  # Can add anything here, as long as it is a dict\n",
    "        \"learning_rate\": \"0.8\",\n",
    "        \"num_epochs\": 70,\n",
    "        \"regularization\": \"None\",\n",
    "    },\n",
    "    \"classNames\": class_names,\n",
    "}\n",
    "\n",
    "with open('model_config.yaml', 'w') as model_config_file:\n",
    "    yaml.dump(model_config, model_config_file, default_flow_style=False)"
   ]
  },
  {
   "cell_type": "markdown",
   "id": "34bbb498",
   "metadata": {},
   "source": [
    "Lets check that the model package contains everything needed:"
   ]
  },
  {
   "cell_type": "code",
   "execution_count": null,
   "id": "e65ac45a",
   "metadata": {},
   "outputs": [],
   "source": [
    "from openlayer.validators import model_validators\n",
    "\n",
    "model_validator = model_validators.get_validator(\n",
    "    task_type=TaskType.TextClassification,\n",
    "    model_package_dir=\"model_package\", \n",
    "    sample_data = validation_set[[\"text\"]].iloc[:10],\n",
    "    model_config_file_path=\"model_config.yaml\",\n",
    ")\n",
    "model_validator.validate()"
   ]
  },
  {
   "cell_type": "markdown",
   "id": "149357a9",
   "metadata": {},
   "source": [
    "Now, we are ready to add the model:"
   ]
  },
  {
   "cell_type": "code",
   "execution_count": null,
   "id": "317eccc0",
   "metadata": {},
   "outputs": [],
   "source": [
    "project.add_model(\n",
    "    model_package_dir=\"model_package\",\n",
    "    model_config_file_path=\"model_config.yaml\",\n",
    "    sample_data=validation_set[[\"text\"]].iloc[:10]\n",
    ")"
   ]
  },
  {
   "cell_type": "markdown",
   "id": "11f53aa6",
   "metadata": {},
   "source": [
    "We can check that both datasets and model are staged using the `project.status()` method."
   ]
  },
  {
   "cell_type": "code",
   "execution_count": null,
   "id": "c8d65d96",
   "metadata": {},
   "outputs": [],
   "source": [
    "project.status()"
   ]
  },
  {
   "cell_type": "markdown",
   "id": "b2a4ab73",
   "metadata": {},
   "source": [
    "### <a id=\"commit\"> Committing and pushing to the platform </a>\n",
    "\n",
    "Finally, we can commit the first project version to the platform. "
   ]
  },
  {
   "cell_type": "code",
   "execution_count": null,
   "id": "50387f73",
   "metadata": {},
   "outputs": [],
   "source": [
    "project.commit(\"Initial commit!\")"
   ]
  },
  {
   "cell_type": "code",
   "execution_count": null,
   "id": "5d61f401",
   "metadata": {},
   "outputs": [],
   "source": [
    "project.status()"
   ]
  },
  {
   "cell_type": "code",
   "execution_count": null,
   "id": "d82d547f",
   "metadata": {},
   "outputs": [],
   "source": [
    "project.push()"
   ]
  },
  {
   "cell_type": "code",
   "execution_count": null,
   "id": "45871ee0",
   "metadata": {},
   "outputs": [],
   "source": []
  }
 ],
 "metadata": {
  "kernelspec": {
   "display_name": "Python 3 (ipykernel)",
   "language": "python",
   "name": "python3"
  },
  "language_info": {
   "codemirror_mode": {
    "name": "ipython",
    "version": 3
   },
   "file_extension": ".py",
   "mimetype": "text/x-python",
   "name": "python",
   "nbconvert_exporter": "python",
   "pygments_lexer": "ipython3",
   "version": "3.8.13"
  }
 },
 "nbformat": 4,
 "nbformat_minor": 5
}
