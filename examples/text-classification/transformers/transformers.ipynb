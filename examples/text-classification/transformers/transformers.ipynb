{
 "cells": [
  {
   "cell_type": "markdown",
   "id": "24fdee49",
   "metadata": {},
   "source": [
    "[![Open In Colab](https://colab.research.google.com/assets/colab-badge.svg)](https://colab.research.google.com/github/openlayer-ai/examples-gallery/blob/main/text-classification/transformers/transformers.ipynb)\n",
    "\n",
    "# <a id=\"top\">Sentiment analysis using HuggingFace Transformers</a>\n",
    "\n",
    "This notebook illustrates how transformer models can be uploaded to the Openlayer platform.\n",
    "\n",
    "## <a id=\"toc\">Table of contents</a>\n",
    "\n",
    "1. [**Getting the data and training the model**](#1)\n",
    "    - [Downloading the dataset](#download)\n",
    "    - [Preparing the data](#prepare)\n",
    "    - [Fine-tuning a transformer](#fine-tuning)\n",
    "    \n",
    "\n",
    "2. [**Using Openlayer's Python API**](#2)\n",
    "    - [Instantiating the client](#client)\n",
    "    - [Creating a project](#project)\n",
    "    - [Uploading datasets](#dataset)\n",
    "    - [Uploading models](#model)\n",
    "        - [Shell models](#shell)\n",
    "        - [Full models](#full-model)\n",
    "    - [Committing and pushing to the platform](#commit)"
   ]
  },
  {
   "cell_type": "code",
   "execution_count": null,
   "id": "b2127bfc",
   "metadata": {},
   "outputs": [],
   "source": [
    "%%bash\n",
    "\n",
    "if [ ! -e \"requirements.txt\" ]; then\n",
    "    curl \"https://raw.githubusercontent.com/openlayer-ai/examples-gallery/main/text-classification/transformers/requirements.txt\" --output \"requirements.txt\"\n",
    "fi"
   ]
  },
  {
   "cell_type": "code",
   "execution_count": null,
   "id": "375673f8",
   "metadata": {},
   "outputs": [],
   "source": [
    "!pip install -r requirements.txt"
   ]
  },
  {
   "cell_type": "markdown",
   "id": "5984588d",
   "metadata": {},
   "source": [
    "## <a id=\"1\"> 1. Getting the data and training the model </a>\n",
    "\n",
    "[Back to top](#top)\n",
    "\n",
    "In this first part, we will get the dataset, pre-process it, split it into training and validation sets, and fine-tune a transformer. Feel free to skim through this section if you are already comfortable with how these steps look for a HuggingFace transformer.   "
   ]
  },
  {
   "cell_type": "code",
   "execution_count": null,
   "id": "d5c094be",
   "metadata": {},
   "outputs": [],
   "source": [
    "import torch\n",
    "\n",
    "from datasets import load_dataset\n",
    "from scipy.special import softmax\n",
    "from transformers import AutoTokenizer, AutoModelForSequenceClassification"
   ]
  },
  {
   "cell_type": "markdown",
   "id": "70febb8a",
   "metadata": {},
   "source": [
    "### <a id=\"download\">Downloading the dataset </a>\n",
    "\n",
    "\n",
    "We will use the open-source [Yelp's Reviews](https://huggingface.co/datasets/yelp_review_full) dataset."
   ]
  },
  {
   "cell_type": "code",
   "execution_count": null,
   "id": "aebe75e1",
   "metadata": {},
   "outputs": [],
   "source": [
    "dataset = load_dataset(\"yelp_review_full\")"
   ]
  },
  {
   "cell_type": "code",
   "execution_count": null,
   "id": "d081bf80",
   "metadata": {},
   "outputs": [],
   "source": [
    "dataset[\"train\"][100]"
   ]
  },
  {
   "cell_type": "code",
   "execution_count": null,
   "id": "cb3e1312",
   "metadata": {},
   "outputs": [],
   "source": [
    "# For simplicity we'll only take 100 samples\n",
    "training_set = dataset[\"train\"].shuffle(seed=42).select(range(100))\n",
    "validation_set = dataset[\"test\"].shuffle(seed=42).select(range(100))"
   ]
  },
  {
   "cell_type": "markdown",
   "id": "4f258529",
   "metadata": {},
   "source": [
    "### <a id=\"prepare\">Preparing the data</a>\n"
   ]
  },
  {
   "cell_type": "code",
   "execution_count": null,
   "id": "65fb7ee8",
   "metadata": {},
   "outputs": [],
   "source": [
    "tokenizer = AutoTokenizer.from_pretrained(\"bert-base-cased\")"
   ]
  },
  {
   "cell_type": "code",
   "execution_count": null,
   "id": "27e61367",
   "metadata": {},
   "outputs": [],
   "source": [
    "def tokenize_function(examples):\n",
    "    return tokenizer(examples[\"text\"], padding=\"max_length\", truncation=True)"
   ]
  },
  {
   "cell_type": "code",
   "execution_count": null,
   "id": "6b8e06d5",
   "metadata": {},
   "outputs": [],
   "source": [
    "tokenized_training_set = training_set.map(tokenize_function, batched=True)\n",
    "tokenized_validation_set = validation_set.map(tokenize_function, batched=True)"
   ]
  },
  {
   "cell_type": "markdown",
   "id": "88f623b6",
   "metadata": {},
   "source": [
    "### <a id=\"model\">Loading the model</a>"
   ]
  },
  {
   "cell_type": "code",
   "execution_count": null,
   "id": "bd0c96f2",
   "metadata": {},
   "outputs": [],
   "source": [
    "model = AutoModelForSequenceClassification.from_pretrained(\n",
    "    \"bert-base-cased\", \n",
    "    num_labels=5,\n",
    "    ignore_mismatched_sizes=True\n",
    ")"
   ]
  },
  {
   "cell_type": "markdown",
   "id": "923e6827",
   "metadata": {},
   "source": [
    "### <a id=\"fine-tuning\">(Optional) Fine-tuning a transformer -- might take a long time to run</a>\n",
    "\n"
   ]
  },
  {
   "cell_type": "markdown",
   "id": "ba1ebed2",
   "metadata": {},
   "source": [
    "We are going to use the `Trainer` class to fine-tune the transformer. It doesn't evaluate model performance during training by default, so the next few cells are taking care of that:"
   ]
  },
  {
   "cell_type": "code",
   "execution_count": null,
   "id": "090fc3a1",
   "metadata": {},
   "outputs": [],
   "source": [
    "import numpy as np\n",
    "import evaluate\n",
    "\n",
    "metric = evaluate.load(\"accuracy\")"
   ]
  },
  {
   "cell_type": "code",
   "execution_count": null,
   "id": "f18c7ea6",
   "metadata": {},
   "outputs": [],
   "source": [
    "def compute_metrics(eval_pred):\n",
    "    logits, labels = eval_pred\n",
    "    predictions = np.argmax(logits, axis=-1)\n",
    "    return metric.compute(predictions=predictions, references=labels)"
   ]
  },
  {
   "cell_type": "code",
   "execution_count": null,
   "id": "f8f04d66",
   "metadata": {},
   "outputs": [],
   "source": [
    "from transformers import TrainingArguments\n",
    "\n",
    "training_args = TrainingArguments(output_dir=\"test_trainer\", evaluation_strategy=\"epoch\")"
   ]
  },
  {
   "cell_type": "markdown",
   "id": "4a8b91f1",
   "metadata": {},
   "source": [
    "Now we can train the model:"
   ]
  },
  {
   "cell_type": "code",
   "execution_count": null,
   "id": "ee8f5b58",
   "metadata": {},
   "outputs": [],
   "source": [
    "from transformers import Trainer\n",
    "\n",
    "trainer = Trainer(\n",
    "    model=model,\n",
    "    args=training_args,\n",
    "    train_dataset=tokenized_training_set,\n",
    "    eval_dataset=tokenized_validation_set,\n",
    ")"
   ]
  },
  {
   "cell_type": "code",
   "execution_count": null,
   "id": "71823473",
   "metadata": {},
   "outputs": [],
   "source": [
    "trainer.train()"
   ]
  },
  {
   "cell_type": "markdown",
   "id": "98632dac",
   "metadata": {},
   "source": [
    "## <a id=\"2\"> 2. Using Openlayer's Python API</a>\n",
    "\n",
    "[Back to top](#top)\n",
    "\n",
    "Now it's time to upload the datasets and model to the Openlayer platform."
   ]
  },
  {
   "cell_type": "code",
   "execution_count": null,
   "id": "cf61442a",
   "metadata": {},
   "outputs": [],
   "source": [
    "!pip install openlayer"
   ]
  },
  {
   "cell_type": "markdown",
   "id": "a326d5e7",
   "metadata": {},
   "source": [
    "### <a id=\"client\">Instantiating the client</a>"
   ]
  },
  {
   "cell_type": "code",
   "execution_count": null,
   "id": "66d0b86b",
   "metadata": {},
   "outputs": [],
   "source": [
    "import openlayer\n",
    "\n",
    "client = openlayer.OpenlayerClient(\"YOUR_API_KEY_HERE\")"
   ]
  },
  {
   "cell_type": "markdown",
   "id": "0a6cd737",
   "metadata": {},
   "source": [
    "### <a id=\"project\">Creating a project on the platform</a>"
   ]
  },
  {
   "cell_type": "code",
   "execution_count": null,
   "id": "8a69e32c",
   "metadata": {},
   "outputs": [],
   "source": [
    "from openlayer.tasks import TaskType\n",
    "\n",
    "project = client.create_or_load_project(\n",
    "    name=\"Transformer Demo Project\",\n",
    "    task_type=TaskType.TextClassification,\n",
    "    description=\"Project to Demo Transformers with Openlayer\"\n",
    ")"
   ]
  },
  {
   "cell_type": "markdown",
   "id": "a15f9dd5",
   "metadata": {},
   "source": [
    "### <a id=\"dataset\">Uploading datasets</a>\n",
    "\n",
    "Before adding the datasets to a project, we need to do two things:\n",
    "1. Enhance the dataset with additional columns to make it comprehensive, such as adding a column for labels and one for model predictions (if you're uploading a model as well).\n",
    "2. Prepare a `dataset_config.yaml` file. This is a file that contains all the information needed by the Openlayer platform to utilize the dataset. It should include the column names, the class names, etc. For details on the fields of the `dataset_config.yaml` file, see the [API reference](https://reference.openlayer.com/reference/api/openlayer.OpenlayerClient.add_dataset.html#openlayer.OpenlayerClient.add_dataset).\n",
    "\n",
    "Let's start by enhancing the datasets with the extra columns:"
   ]
  },
  {
   "cell_type": "code",
   "execution_count": null,
   "id": "bb58fb12",
   "metadata": {},
   "outputs": [],
   "source": [
    "train_df = training_set.to_pandas()\n",
    "val_df = validation_set.to_pandas()"
   ]
  },
  {
   "cell_type": "code",
   "execution_count": null,
   "id": "cdd0936d",
   "metadata": {},
   "outputs": [],
   "source": [
    "from transformers import TextClassificationPipeline\n",
    "from typing import List\n",
    "\n",
    "pipe = TextClassificationPipeline(model=model, tokenizer=tokenizer, top_k=5)\n",
    "\n",
    "def predicted_class_probabilities(text: str) -> List[float]:\n",
    "    \"\"\"From an input text, returns a list with the predicted\n",
    "    class probabilities.\"\"\"\n",
    "    class_proba_dicts = pipe(text)\n",
    "    \n",
    "    class_proba_list = [0] * 5\n",
    "    \n",
    "    for item in class_proba_dicts:\n",
    "        idx = int(item[\"label\"].split(\"_\")[1])\n",
    "        class_proba_list[idx] = item[\"score\"]\n",
    "    \n",
    "    return class_proba_list\n"
   ]
  },
  {
   "cell_type": "code",
   "execution_count": null,
   "id": "3418f4c4",
   "metadata": {},
   "outputs": [],
   "source": [
    "# Truncate the number of characters\n",
    "train_df[\"text\"] = train_df[\"text\"].apply(lambda x: x[:1000])\n",
    "val_df[\"text\"] = val_df[\"text\"].apply(lambda x: x[:1000])"
   ]
  },
  {
   "cell_type": "code",
   "execution_count": null,
   "id": "a24ebd36",
   "metadata": {},
   "outputs": [],
   "source": [
    "# Adding the column with the predictions (since we'll also upload a model later)\n",
    "train_df[\"predictions\"] = train_df[\"text\"].apply(predicted_class_probabilities)\n",
    "val_df[\"predictions\"] = val_df[\"text\"].apply(predicted_class_probabilities)"
   ]
  },
  {
   "cell_type": "markdown",
   "id": "d8abe119",
   "metadata": {},
   "source": [
    "Now, we can prepare the `dataset_config.yaml` files for the training and validation sets."
   ]
  },
  {
   "cell_type": "code",
   "execution_count": null,
   "id": "30024c32",
   "metadata": {},
   "outputs": [],
   "source": [
    "# Some variables that will go into the `dataset_config.yaml` file\n",
    "column_names = list(train_df.columns)\n",
    "class_names = [\"1 star\", \"2 stars\", \"3 stars\", \"4 stars\", \"5 stars\"]\n",
    "label_column_name = \"label\"\n",
    "prediction_scores_column_name = \"predictions\"\n",
    "text_column_name = \"text\""
   ]
  },
  {
   "cell_type": "code",
   "execution_count": null,
   "id": "fbb30c1d",
   "metadata": {},
   "outputs": [],
   "source": [
    "import yaml \n",
    "\n",
    "# Note the camelCase for the dict's keys\n",
    "training_dataset_config = {\n",
    "    \"classNames\": class_names,\n",
    "    \"columnNames\": column_names,\n",
    "    \"textColumnName\": text_column_name,\n",
    "    \"label\": \"training\",\n",
    "    \"labelColumnName\": label_column_name,\n",
    "    \"predictionScoresColumnName\": prediction_scores_column_name,\n",
    "}\n",
    "\n",
    "with open(\"training_dataset_config.yaml\", \"w\") as dataset_config_file:\n",
    "    yaml.dump(training_dataset_config, dataset_config_file, default_flow_style=False)"
   ]
  },
  {
   "cell_type": "code",
   "execution_count": null,
   "id": "9204f0f4",
   "metadata": {},
   "outputs": [],
   "source": [
    "import copy\n",
    "\n",
    "validation_dataset_config = copy.deepcopy(training_dataset_config)\n",
    "\n",
    "# In our case, the only field that changes is the `label`, from \"training\" -> \"validation\"\n",
    "validation_dataset_config[\"label\"] = \"validation\"\n",
    "\n",
    "with open(\"validation_dataset_config.yaml\", \"w\") as dataset_config_file:\n",
    "    yaml.dump(validation_dataset_config, dataset_config_file, default_flow_style=False)"
   ]
  },
  {
   "cell_type": "code",
   "execution_count": null,
   "id": "afa84169",
   "metadata": {},
   "outputs": [],
   "source": [
    "# Training set\n",
    "project.add_dataframe(\n",
    "    dataset_df=train_df,\n",
    "    dataset_config_file_path=\"training_dataset_config.yaml\",\n",
    ")"
   ]
  },
  {
   "cell_type": "code",
   "execution_count": null,
   "id": "09bf51a3",
   "metadata": {},
   "outputs": [],
   "source": [
    "# Validation set\n",
    "project.add_dataframe(\n",
    "    dataset_df=val_df,\n",
    "    dataset_config_file_path=\"validation_dataset_config.yaml\",\n",
    ")"
   ]
  },
  {
   "cell_type": "markdown",
   "id": "0b18141e",
   "metadata": {},
   "source": [
    "We can check that both datasets are now staged using the `project.status()` method. "
   ]
  },
  {
   "cell_type": "code",
   "execution_count": null,
   "id": "0123f57e",
   "metadata": {},
   "outputs": [],
   "source": [
    "project.status()"
   ]
  },
  {
   "cell_type": "markdown",
   "id": "fc79a435",
   "metadata": {},
   "source": [
    "### <a id=\"model\">Uploading models</a>\n",
    "\n",
    "When it comes to uploading models to the Openlayer platform, there are two options:\n",
    "\n",
    "- The first one is to upload a **shell model**. Shell models are the most straightforward way to get started. They are comprised of metadata and all of the analysis are done via its predictions (which are [uploaded with the datasets](#dataset)).\n",
    "- The second one is to upload a **full model**, with artifacts. When a full model is uploaded, it becomes available in the platform and it becomes possible to perform what-if analysis, use all the explainability techniques available, and perform a series of robustness assessments with it. "
   ]
  },
  {
   "cell_type": "markdown",
   "id": "390735dc",
   "metadata": {},
   "source": [
    "#### <a id=\"shell\">Shell models</a>\n",
    "\n",
    "To upload a shell model, we only need to define its name, the architecture type, and add some metadata that will be rendered in the platform to help us identify it. This information should be saved to a `model_config.yaml` file.\n",
    "\n",
    "Let's create a `model_config.yaml` file for our model:"
   ]
  },
  {
   "cell_type": "code",
   "execution_count": null,
   "id": "55b9e1f4",
   "metadata": {},
   "outputs": [],
   "source": [
    "import yaml\n",
    "\n",
    "model_config = {\n",
    "    \"name\": \"Restaurant review model\",\n",
    "    \"architectureType\": \"transformers\",\n",
    "    \"metadata\": {  # Can add anything here, as long as it is a dict\n",
    "        \"model_used\": \"bert-base-cased\",\n",
    "        \"tokenizer_used\": \"bert-base-cased\",\n",
    "    },\n",
    "    \"classNames\": class_names,\n",
    "}\n",
    "\n",
    "with open(\"model_config.yaml\", \"w\") as model_config_file:\n",
    "    yaml.dump(model_config, model_config_file, default_flow_style=False)"
   ]
  },
  {
   "cell_type": "code",
   "execution_count": null,
   "id": "e940f4c8",
   "metadata": {},
   "outputs": [],
   "source": [
    "project.add_model(\n",
    "    model_config_file_path=\"model_config.yaml\",\n",
    ")"
   ]
  },
  {
   "cell_type": "markdown",
   "id": "e934fb35",
   "metadata": {},
   "source": [
    "We can check that both datasets and model are staged using the `project.status()` method."
   ]
  },
  {
   "cell_type": "code",
   "execution_count": null,
   "id": "2ae3c98d",
   "metadata": {},
   "outputs": [],
   "source": [
    "project.status()"
   ]
  },
  {
   "cell_type": "markdown",
   "id": "579057f5",
   "metadata": {},
   "source": [
    "Since in this example, we're interested in uploading a full model, let's unstage the shell model:"
   ]
  },
  {
   "cell_type": "code",
   "execution_count": null,
   "id": "ecaa5b40",
   "metadata": {},
   "outputs": [],
   "source": [
    "project.restore(\"model\")"
   ]
  },
  {
   "cell_type": "markdown",
   "id": "e067ea85",
   "metadata": {},
   "source": [
    "#### <a id=\"full-model\"> Full models </a>\n",
    "\n",
    "To upload a full model to Openlayer, you will need to create a model package, which is nothing more than a folder with all the necessary information to run inference with the model. The package should include the following:\n",
    "1. A `requirements.txt` file listing the dependencies for the model.\n",
    "2. Serialized model files, such as model weights, encoders, etc., in a format specific to the framework used for training (e.g. `.pkl` for sklearn, `.pb` for TensorFlow, and so on.)\n",
    "3. A `prediction_interface.py` file that acts as a wrapper for the model and implements the `predict_proba` function. \n",
    "\n",
    "Other than the model package, a `model_config.yaml` file is needed, with information about the model to the Openlayer platform, such as the framework used, feature names, and categorical feature names.\n",
    "\n",
    "Lets prepare the model package one piece at a time"
   ]
  },
  {
   "cell_type": "code",
   "execution_count": null,
   "id": "7c971e33",
   "metadata": {},
   "outputs": [],
   "source": [
    "# Creating the model package folder (we'll call it `model_package`)\n",
    "!mkdir model_package"
   ]
  },
  {
   "cell_type": "markdown",
   "id": "d2c82d02",
   "metadata": {},
   "source": [
    "**1. Adding the `requirements.txt` to the model package**"
   ]
  },
  {
   "cell_type": "code",
   "execution_count": null,
   "id": "5990f746",
   "metadata": {},
   "outputs": [],
   "source": [
    "!scp requirements.txt model_package"
   ]
  },
  {
   "cell_type": "markdown",
   "id": "7c7b56d8",
   "metadata": {},
   "source": [
    "**2. Serializing the model and other objects needed**"
   ]
  },
  {
   "cell_type": "code",
   "execution_count": null,
   "id": "4d73b961",
   "metadata": {},
   "outputs": [],
   "source": [
    "# Saving the pipeline (tokenizer and model)\n",
    "pipe = TextClassificationPipeline(model=model, tokenizer=tokenizer, top_k=5)\n",
    "\n",
    "pipe.save_pretrained(\"model_package/pipeline\")"
   ]
  },
  {
   "cell_type": "markdown",
   "id": "68dc0a7f",
   "metadata": {},
   "source": [
    "**3. Writing the `prediction_interface.py` file**"
   ]
  },
  {
   "cell_type": "code",
   "execution_count": null,
   "id": "178c62d6",
   "metadata": {},
   "outputs": [],
   "source": [
    "%%writefile model_package/prediction_interface.py\n",
    "import numpy as np\n",
    "\n",
    "from pathlib import Path\n",
    "from typing import List\n",
    "import pandas as pd\n",
    "from transformers import pipeline\n",
    "\n",
    "PACKAGE_PATH = Path(__file__).parent\n",
    "\n",
    "\n",
    "class TransformerModel:\n",
    "    def __init__(self):\n",
    "        \"\"\"This is where the serialized objects needed should\n",
    "        be loaded as class attributes.\"\"\"\n",
    "        self.pipeline = pipeline(\n",
    "            \"text-classification\", \n",
    "            str(PACKAGE_PATH) +  \"/pipeline\",\n",
    "            top_k=5\n",
    "        )\n",
    "        \n",
    "    def predict_proba(self, input_data_df: pd.DataFrame):\n",
    "        \"\"\"Makes predictions with the model. Returns the class probabilities.\"\"\"\n",
    "        text_column = input_data_df.columns[0]\n",
    "        \n",
    "        preds = input_data_df[text_column].apply(self._predict_row)\n",
    "\n",
    "        return np.stack(preds.values)\n",
    "\n",
    "    def _predict_row(self, text: str) -> List[float]:\n",
    "        class_proba_dicts = self.pipeline(text)\n",
    "    \n",
    "        class_proba_list = [0] * 5\n",
    "\n",
    "        for item in class_proba_dicts:\n",
    "            idx = int(item[\"label\"].split(\"_\")[1])\n",
    "            class_proba_list[idx] = item[\"score\"]\n",
    "\n",
    "        return class_proba_list\n",
    "    \n",
    "    \n",
    "def load_model():\n",
    "    \"\"\"Function that returns the wrapped model object.\"\"\"\n",
    "    return TransformerModel()"
   ]
  },
  {
   "cell_type": "markdown",
   "id": "a52cdea5",
   "metadata": {},
   "source": [
    "**Creating the `model_config.yaml`**"
   ]
  },
  {
   "cell_type": "code",
   "execution_count": null,
   "id": "1278da39",
   "metadata": {},
   "outputs": [],
   "source": [
    "import yaml\n",
    "\n",
    "model_config = {\n",
    "    \"name\": \"Restaurant review model\",\n",
    "    \"architectureType\": \"transformers\",\n",
    "    \"metadata\": {  # Can add anything here, as long as it is a dict\n",
    "        \"model_used\": \"bert-base-cased\",\n",
    "        \"tokenizer_used\": \"bert-base-cased\",\n",
    "    },\n",
    "    \"classNames\": class_names,\n",
    "}\n",
    "\n",
    "with open(\"model_config.yaml\", \"w\") as model_config_file:\n",
    "    yaml.dump(model_config, model_config_file, default_flow_style=False)"
   ]
  },
  {
   "cell_type": "markdown",
   "id": "b92546e3",
   "metadata": {},
   "source": [
    "Lets check that the model package contains everything needed:"
   ]
  },
  {
   "cell_type": "code",
   "execution_count": null,
   "id": "66b2760b",
   "metadata": {},
   "outputs": [],
   "source": [
    "from openlayer.validators import model_validators\n",
    "\n",
    "model_validator = model_validators.get_validator(\n",
    "    task_type=TaskType.TextClassification,\n",
    "    model_package_dir=\"model_package\",\n",
    "    model_config_file_path=\"model_config.yaml\",\n",
    "    sample_data = val_df[[\"text\"]].iloc[:10, :]\n",
    ")\n",
    "model_validator.validate()"
   ]
  },
  {
   "cell_type": "markdown",
   "id": "c1012c0a",
   "metadata": {},
   "source": [
    "Now, we are ready to add the model:"
   ]
  },
  {
   "cell_type": "code",
   "execution_count": null,
   "id": "e4ee2824",
   "metadata": {},
   "outputs": [],
   "source": [
    "project.add_model(\n",
    "    model_package_dir=\"model_package\",\n",
    "    model_config_file_path=\"model_config.yaml\",\n",
    "    sample_data=val_df[[\"text\"]].iloc[:10, :]\n",
    ")"
   ]
  },
  {
   "cell_type": "markdown",
   "id": "eea2518a",
   "metadata": {},
   "source": [
    "We can check that both datasets and model are staged using the `project.status()` method."
   ]
  },
  {
   "cell_type": "code",
   "execution_count": null,
   "id": "6858119b",
   "metadata": {},
   "outputs": [],
   "source": [
    "project.status()"
   ]
  },
  {
   "cell_type": "markdown",
   "id": "069a39ec",
   "metadata": {},
   "source": [
    "### <a id=\"commit\"> Committing and pushing to the platform </a>\n",
    "\n",
    "Finally, we can commit the first project version to the platform. "
   ]
  },
  {
   "cell_type": "code",
   "execution_count": null,
   "id": "035ca0b7",
   "metadata": {},
   "outputs": [],
   "source": [
    "project.commit(\"Initial commit!\")"
   ]
  },
  {
   "cell_type": "code",
   "execution_count": null,
   "id": "9f7f740f",
   "metadata": {},
   "outputs": [],
   "source": [
    "project.status()"
   ]
  },
  {
   "cell_type": "code",
   "execution_count": null,
   "id": "7313ee1b",
   "metadata": {},
   "outputs": [],
   "source": [
    "project.push()"
   ]
  },
  {
   "cell_type": "code",
   "execution_count": null,
   "id": "15be7b8a",
   "metadata": {},
   "outputs": [],
   "source": []
  }
 ],
 "metadata": {
  "kernelspec": {
   "display_name": "Python 3 (ipykernel)",
   "language": "python",
   "name": "python3"
  },
  "language_info": {
   "codemirror_mode": {
    "name": "ipython",
    "version": 3
   },
   "file_extension": ".py",
   "mimetype": "text/x-python",
   "name": "python",
   "nbconvert_exporter": "python",
   "pygments_lexer": "ipython3",
   "version": "3.8.13"
  }
 },
 "nbformat": 4,
 "nbformat_minor": 5
}
