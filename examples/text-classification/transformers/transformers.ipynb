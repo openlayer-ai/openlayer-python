{
 "cells": [
  {
   "cell_type": "markdown",
   "id": "47953d6b",
   "metadata": {},
   "source": [
    "## Build model"
   ]
  },
  {
   "cell_type": "code",
   "execution_count": null,
   "id": "4654b028",
   "metadata": {},
   "outputs": [],
   "source": [
    "from transformers import AutoTokenizer, AutoModelForSequenceClassification\n",
    "from scipy.special import softmax\n",
    "import torch"
   ]
  },
  {
   "cell_type": "code",
   "execution_count": null,
   "id": "2941b98d",
   "metadata": {},
   "outputs": [],
   "source": [
    "tokenizer = AutoTokenizer.from_pretrained(\n",
    "    \"distilbert-base-uncased-finetuned-sst-2-english\"\n",
    ")"
   ]
  },
  {
   "cell_type": "code",
   "execution_count": null,
   "id": "8716646c",
   "metadata": {},
   "outputs": [],
   "source": [
    "model = AutoModelForSequenceClassification.from_pretrained(\n",
    "    \"distilbert-base-uncased-finetuned-sst-2-english\"\n",
    ")"
   ]
  },
  {
   "cell_type": "code",
   "execution_count": null,
   "id": "90f0b4f9",
   "metadata": {},
   "outputs": [],
   "source": [
    "def predict_proba(model, texts, tokenizer):\n",
    "    \n",
    "    batch = tokenizer(\n",
    "        texts,\n",
    "        padding=True,\n",
    "        truncation=True,\n",
    "        max_length=512,\n",
    "        return_tensors=\"pt\"\n",
    "    )\n",
    "    \n",
    "    with torch.no_grad():        \n",
    "        outputs = model(**batch)\n",
    "        predictions = torch.nn.functional.softmax(outputs.logits, dim=-1)\n",
    "        probs = predictions.detach().numpy().tolist()\n",
    "        \n",
    "        return probs"
   ]
  },
  {
   "cell_type": "code",
   "execution_count": null,
   "id": "010bff85",
   "metadata": {},
   "outputs": [],
   "source": [
    "predict_proba(model, [\"good\", \"bad\"], tokenizer)"
   ]
  },
  {
   "cell_type": "markdown",
   "id": "b130d86f",
   "metadata": {},
   "source": [
    "# UNBOX"
   ]
  },
  {
   "cell_type": "code",
   "execution_count": null,
   "id": "66d0b86b",
   "metadata": {},
   "outputs": [],
   "source": [
    "import unboxapi\n",
    "from unboxapi.models import ModelType\n",
    "from unboxapi.tasks import TaskType\n",
    "client = unboxapi.UnboxClient(\"YOUR_API_KEY_HERE\")"
   ]
  },
  {
   "cell_type": "markdown",
   "id": "5eb22786",
   "metadata": {},
   "source": [
    "# Package & Upload to Unbox"
   ]
  },
  {
   "cell_type": "markdown",
   "id": "955d42a1",
   "metadata": {},
   "source": [
    "### Upload model"
   ]
  },
  {
   "cell_type": "code",
   "execution_count": null,
   "id": "f0315ed0",
   "metadata": {},
   "outputs": [],
   "source": [
    "# Comment this out and uncomment the next section to load the project\n",
    "project = client.create_project(\n",
    "    name=\"Transformer Demo Project\",\n",
    "    description=\"Project to Demo Transformers with Unbox\"\n",
    ")\n",
    "\n",
    "# Use this for loading the project on subsequent runs\n",
    "'''\n",
    "project = client.load_project(\n",
    "    name=\"Transformer Demo Project\"\n",
    ")\n",
    "'''\n",
    "\n",
    "model = project.add_model(\n",
    "    function=predict_proba, \n",
    "    model=model,\n",
    "    model_type=ModelType.transformers,\n",
    "    task_type=TaskType.TextClassification,\n",
    "    class_names=['negative', 'positive'],\n",
    "    name='transformers.sentiment_analyzer',\n",
    "    description='this is my transformers sentiment model',\n",
    "    tokenizer=tokenizer,\n",
    "    requirements_txt_file='./requirements.txt'\n",
    ")\n",
    "model.to_dict()"
   ]
  }
 ],
 "metadata": {
  "kernelspec": {
   "display_name": "Python 3 (ipykernel)",
   "language": "python",
   "name": "python3"
  },
  "language_info": {
   "codemirror_mode": {
    "name": "ipython",
    "version": 3
   },
   "file_extension": ".py",
   "mimetype": "text/x-python",
   "name": "python",
   "nbconvert_exporter": "python",
   "pygments_lexer": "ipython3",
   "version": "3.8.12"
  }
 },
 "nbformat": 4,
 "nbformat_minor": 5
}
