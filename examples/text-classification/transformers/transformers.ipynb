{
 "cells": [
  {
   "cell_type": "markdown",
   "id": "24fdee49",
   "metadata": {},
   "source": [
    "[![Open In Colab](https://colab.research.google.com/assets/colab-badge.svg)](https://colab.research.google.com/github/unboxai/examples-gallery/blob/main/text-classification/transformers/transformers.ipynb)\n",
    "\n",
    "\n",
    "# Text classification using HuggingFace Transformers\n",
    "\n",
    "This notebook illustrates how transformers can be upladed to the Unbox platform."
   ]
  },
  {
   "cell_type": "markdown",
   "id": "5984588d",
   "metadata": {},
   "source": [
    "## Importing the modules"
   ]
  },
  {
   "cell_type": "code",
   "execution_count": 1,
   "id": "4654b028",
   "metadata": {},
   "outputs": [],
   "source": [
    "from scipy.special import softmax\n",
    "from transformers import AutoTokenizer, AutoModelForSequenceClassification\n",
    "import torch"
   ]
  },
  {
   "cell_type": "markdown",
   "id": "81736602",
   "metadata": {},
   "source": [
    "## Loading the pre-trained model and tokenizer"
   ]
  },
  {
   "cell_type": "code",
   "execution_count": 2,
   "id": "2941b98d",
   "metadata": {},
   "outputs": [],
   "source": [
    "tokenizer = AutoTokenizer.from_pretrained(\n",
    "    \"distilbert-base-uncased-finetuned-sst-2-english\"\n",
    ")"
   ]
  },
  {
   "cell_type": "code",
   "execution_count": 3,
   "id": "8716646c",
   "metadata": {},
   "outputs": [],
   "source": [
    "model = AutoModelForSequenceClassification.from_pretrained(\n",
    "    \"distilbert-base-uncased-finetuned-sst-2-english\"\n",
    ")"
   ]
  },
  {
   "cell_type": "markdown",
   "id": "98632dac",
   "metadata": {},
   "source": [
    "## Unbox part!\n",
    "\n",
    "### Instantiating the client"
   ]
  },
  {
   "cell_type": "code",
   "execution_count": 4,
   "id": "66d0b86b",
   "metadata": {},
   "outputs": [],
   "source": [
    "import unboxapi\n",
    "\n",
    "client = unboxapi.UnboxClient(\"YOUR_API_KEY_HERE\")"
   ]
  },
  {
   "cell_type": "markdown",
   "id": "0a6cd737",
   "metadata": {},
   "source": [
    "### Creating a project"
   ]
  },
  {
   "cell_type": "code",
   "execution_count": 5,
   "id": "8a69e32c",
   "metadata": {},
   "outputs": [
    {
     "name": "stdout",
     "output_type": "stream",
     "text": [
      "Created your project. Check out https://unbox.ai/projects!\n"
     ]
    }
   ],
   "source": [
    "from unboxapi.tasks import TaskType\n",
    "\n",
    "project = client.create_project(name=\"Transformer Demo Project\",\n",
    "                                task_type=TaskType.TextClassification,\n",
    "                                description=\"Project to Demo Transformers with Unbox\")"
   ]
  },
  {
   "cell_type": "markdown",
   "id": "7dc3ffed",
   "metadata": {},
   "source": [
    "### Uploading the model\n",
    "\n",
    "First, it is important to create a `predict_proba` function, which is how Unbox interacts with your model"
   ]
  },
  {
   "cell_type": "code",
   "execution_count": 6,
   "id": "90f0b4f9",
   "metadata": {},
   "outputs": [],
   "source": [
    "def predict_proba(model, texts, tokenizer):\n",
    "    \n",
    "    batch = tokenizer(\n",
    "        texts,\n",
    "        padding=True,\n",
    "        truncation=True,\n",
    "        max_length=512,\n",
    "        return_tensors=\"pt\"\n",
    "    )\n",
    "    \n",
    "    with torch.no_grad():        \n",
    "        outputs = model(**batch)\n",
    "        predictions = torch.nn.functional.softmax(outputs.logits, dim=-1)\n",
    "        probs = predictions.detach().numpy().tolist()\n",
    "        \n",
    "        return probs"
   ]
  },
  {
   "cell_type": "markdown",
   "id": "c78bfc52",
   "metadata": {},
   "source": [
    "Let's test the `predict_proba` function to make sure the input-output format is consistent with what Unbox expects:"
   ]
  },
  {
   "cell_type": "code",
   "execution_count": 7,
   "id": "010bff85",
   "metadata": {},
   "outputs": [
    {
     "data": {
      "text/plain": [
       "[[0.00017212914826814085, 0.9998278617858887],\n",
       " [0.999519944190979, 0.0004800486785825342]]"
      ]
     },
     "execution_count": 7,
     "metadata": {},
     "output_type": "execute_result"
    }
   ],
   "source": [
    "predict_proba(model, [\"good morning!\", \"I've had a horrible day.\"], tokenizer)"
   ]
  },
  {
   "cell_type": "markdown",
   "id": "5ad9c9bb",
   "metadata": {},
   "source": [
    "Now, we can upload the model:"
   ]
  },
  {
   "cell_type": "code",
   "execution_count": 8,
   "id": "94f1d89e",
   "metadata": {},
   "outputs": [
    {
     "name": "stdout",
     "output_type": "stream",
     "text": [
      "Bundling model and artifacts...\n",
      "Uploading model to Unbox! Check out https://unbox.ai/models to have a look!\n"
     ]
    }
   ],
   "source": [
    "from unboxapi.models import ModelType\n",
    "\n",
    "model = project.add_model(\n",
    "    function=predict_proba, \n",
    "    model=model,\n",
    "    model_type=ModelType.transformers,\n",
    "    class_names=['negative', 'positive'],\n",
    "    name='transformers.sentiment_analyzer',\n",
    "    commit_message='this is my transformers sentiment model',\n",
    "    tokenizer=tokenizer,\n",
    "    requirements_txt_file='./requirements.txt'\n",
    ")"
   ]
  },
  {
   "cell_type": "code",
   "execution_count": null,
   "id": "6858119b",
   "metadata": {},
   "outputs": [],
   "source": []
  }
 ],
 "metadata": {
  "kernelspec": {
   "display_name": "Python 3 (ipykernel)",
   "language": "python",
   "name": "python3"
  },
  "language_info": {
   "codemirror_mode": {
    "name": "ipython",
    "version": 3
   },
   "file_extension": ".py",
   "mimetype": "text/x-python",
   "name": "python",
   "nbconvert_exporter": "python",
   "pygments_lexer": "ipython3",
   "version": "3.8.13"
  }
 },
 "nbformat": 4,
 "nbformat_minor": 5
}
