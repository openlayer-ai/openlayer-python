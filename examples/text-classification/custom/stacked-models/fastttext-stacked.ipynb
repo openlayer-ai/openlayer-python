{
 "cells": [
  {
   "cell_type": "markdown",
   "id": "e4b6f9ba",
   "metadata": {},
   "source": [
    "[![Open In Colab](https://colab.research.google.com/assets/colab-badge.svg)](https://colab.research.google.com/github/unboxai/examples-gallery/blob/main/text-classification/demo-banking.ipynb)\n",
    "\n",
    "\n",
    "# Text classification using a custom\n",
    "\n",
    "This notebook illustrates how custom models can be upladed to the Unbox platform."
   ]
  },
  {
   "cell_type": "markdown",
   "id": "d51c6a93",
   "metadata": {},
   "source": [
    "## Importing the modules"
   ]
  },
  {
   "cell_type": "code",
   "execution_count": 2,
   "id": "bc5fc92e",
   "metadata": {},
   "outputs": [],
   "source": [
    "import os\n",
    "import fasttext\n",
    "import numpy as np"
   ]
  },
  {
   "cell_type": "markdown",
   "id": "200513e6",
   "metadata": {},
   "source": [
    "## Training two fastText models on two datasets"
   ]
  },
  {
   "cell_type": "code",
   "execution_count": 3,
   "id": "03b71c88",
   "metadata": {},
   "outputs": [
    {
     "name": "stderr",
     "output_type": "stream",
     "text": [
      "Read 2M words\n",
      "Number of words:  211125\n",
      "Number of labels: 2\n",
      "Progress: 100.0% words/sec/thread: 6976027 lr:  0.000000 avg.loss:  0.394708 ETA:   0h 0m 0s\n"
     ]
    }
   ],
   "source": [
    "rec_model = fasttext.train_supervised(input=\"rec.txt\", lr=0.3, epoch=100, loss='hs')"
   ]
  },
  {
   "cell_type": "code",
   "execution_count": 4,
   "id": "fa17bdaa",
   "metadata": {},
   "outputs": [
    {
     "name": "stderr",
     "output_type": "stream",
     "text": [
      "Read 0M words\n",
      "Number of words:  49236\n",
      "Number of labels: 4\n",
      "Progress: 100.0% words/sec/thread: 6655753 lr:  0.000000 avg.loss:  1.088968 ETA:   0h 0m 0s\n"
     ]
    }
   ],
   "source": [
    "rec_type_model = fasttext.train_supervised(input=\"rec_type.txt\", lr=0.3, epoch=100, loss='hs')"
   ]
  },
  {
   "cell_type": "code",
   "execution_count": 5,
   "id": "fc97bdd2",
   "metadata": {},
   "outputs": [
    {
     "data": {
      "text/plain": [
       "(([['__label__not.rec']], [array([0.9151641], dtype=float32)]),\n",
       " ([['__label__rec.autos']], [array([0.5754844], dtype=float32)]))"
      ]
     },
     "execution_count": 5,
     "metadata": {},
     "output_type": "execute_result"
    }
   ],
   "source": [
    "rec_model.predict([\"science and politics\"]), rec_type_model.predict([\"science and politics\"])"
   ]
  },
  {
   "cell_type": "code",
   "execution_count": 6,
   "id": "0e8e20fa",
   "metadata": {},
   "outputs": [],
   "source": [
    "rec_class_names = [s.replace(\"__label__\", \"\") for s in rec_model.labels]\n",
    "rec_type_class_names = [s.replace(\"__label__\", \"\") for s in rec_type_model.labels]\n",
    "rec_k = len(rec_class_names)\n",
    "rec_type_k = len(rec_type_class_names)"
   ]
  },
  {
   "cell_type": "code",
   "execution_count": 7,
   "id": "5accb0ee",
   "metadata": {},
   "outputs": [
    {
     "data": {
      "text/plain": [
       "(2, 4)"
      ]
     },
     "execution_count": 7,
     "metadata": {},
     "output_type": "execute_result"
    }
   ],
   "source": [
    "rec_k, rec_type_k"
   ]
  },
  {
   "cell_type": "code",
   "execution_count": 8,
   "id": "ec1ea908",
   "metadata": {},
   "outputs": [
    {
     "data": {
      "text/plain": [
       "(['not.rec', 'rec'],\n",
       " ['rec.sport.hockey', 'rec.motorcycles', 'rec.sport.baseball', 'rec.autos'])"
      ]
     },
     "execution_count": 8,
     "metadata": {},
     "output_type": "execute_result"
    }
   ],
   "source": [
    "rec_class_names, rec_type_class_names"
   ]
  },
  {
   "cell_type": "code",
   "execution_count": 9,
   "id": "1dfec9f3",
   "metadata": {},
   "outputs": [],
   "source": [
    "all_class_names = ['not.rec', 'rec.sport.hockey', 'rec.motorcycles', 'rec.sport.baseball', 'rec.autos']"
   ]
  },
  {
   "cell_type": "code",
   "execution_count": 10,
   "id": "1984afd9",
   "metadata": {},
   "outputs": [],
   "source": [
    "def get_predictions(models, text_list):\n",
    "    \n",
    "    rec_model, rec_type_model = models\n",
    "    \n",
    "    predictions = rec_model.predict(text_list, k=rec_k)\n",
    "    x, y = predictions\n",
    "    \n",
    "    predictions = rec_type_model.predict(text_list, k=rec_k)\n",
    "    x2, y2 = predictions\n",
    "    \n",
    "    probabilities_full_list = []\n",
    "    for rec_label_list, rec_prob_list, rec_type_label_list, rec_type_prob_list in zip(x, y, x2, y2):\n",
    "        rec_label_prob_pair_dict = {}\n",
    "        rec_type_label_prob_pair_dict = {}\n",
    "        \n",
    "        for rec_lbl, rec_prob, rec_type_lbl, rec_type_prob in zip(\n",
    "            rec_label_list, rec_prob_list, rec_type_label_list, rec_type_prob_list\n",
    "        ):\n",
    "            rec_label_prob_pair_dict[\n",
    "                rec_lbl.replace(\"__label__\", \"\")\n",
    "            ] = rec_prob\n",
    "            rec_type_label_prob_pair_dict[\n",
    "                rec_type_lbl.replace(\"__label__\", \"\")\n",
    "            ] = rec_type_prob\n",
    "        \n",
    "        rec_weight = rec_label_prob_pair_dict['rec']\n",
    "        not_rec_weight = rec_label_prob_pair_dict['not.rec']\n",
    "        probabilities_list = []\n",
    "        \n",
    "        if rec_weight > not_rec_weight:\n",
    "            for cls in all_class_names:\n",
    "                if cls in rec_type_label_prob_pair_dict:\n",
    "                    p = rec_type_label_prob_pair_dict[cls]\n",
    "                    probabilities_list.append(p)\n",
    "                else:\n",
    "                    probabilities_list.append(0.0)\n",
    "        \n",
    "        if not_rec_weight > rec_weight:\n",
    "            for cls in all_class_names:\n",
    "                if cls == 'not.rec':\n",
    "                    p = rec_label_prob_pair_dict[cls]\n",
    "                    probabilities_list.append(p)\n",
    "                elif cls in rec_type_label_prob_pair_dict:\n",
    "                    p = rec_type_label_prob_pair_dict[cls]*rec_weight\n",
    "                    probabilities_list.append(p)\n",
    "                else:\n",
    "                    probabilities_list.append(0.0)\n",
    "                    \n",
    "        probabilities_full_list.append(probabilities_list)\n",
    "        \n",
    "        \n",
    "    return np.array(probabilities_full_list)"
   ]
  },
  {
   "cell_type": "code",
   "execution_count": 11,
   "id": "85fa756a",
   "metadata": {},
   "outputs": [],
   "source": [
    "phrases = [\"science\", \"motorcycles are cool\"]"
   ]
  },
  {
   "cell_type": "code",
   "execution_count": 12,
   "id": "2ae39e8a",
   "metadata": {},
   "outputs": [
    {
     "data": {
      "text/plain": [
       "array([[0.99033558, 0.00254227, 0.00263809, 0.        , 0.        ],\n",
       "       [0.        , 0.24073192, 0.        , 0.37864381, 0.        ]])"
      ]
     },
     "execution_count": 12,
     "metadata": {},
     "output_type": "execute_result"
    }
   ],
   "source": [
    "get_predictions((rec_model, rec_type_model), phrases)"
   ]
  },
  {
   "cell_type": "code",
   "execution_count": null,
   "id": "03f47ebc",
   "metadata": {},
   "outputs": [],
   "source": [
    "all_class_names"
   ]
  },
  {
   "cell_type": "code",
   "execution_count": null,
   "id": "b3836047",
   "metadata": {},
   "outputs": [],
   "source": [
    "folder_name = \"./dependencies\"\n",
    "rec_model_path = f\"{folder_name}/rec_model.bin\"\n",
    "rec_type_model_path = f\"{folder_name}/rec_type_model.bin\"\n",
    "\n",
    "# Save model binaries for packaging\n",
    "os.makedirs(folder_name)\n",
    "rec_model.save_model(rec_model_path)\n",
    "rec_type_model.save_model(rec_type_model_path)"
   ]
  },
  {
   "cell_type": "markdown",
   "id": "3c47c98e",
   "metadata": {},
   "source": [
    "# Unbox"
   ]
  },
  {
   "cell_type": "code",
   "execution_count": null,
   "id": "fb1d8a3d",
   "metadata": {},
   "outputs": [],
   "source": [
    "import unboxapi\n",
    "from unboxapi.models import ModelType\n",
    "from unboxapi.tasks import TaskType\n",
    "\n",
    "client = unboxapi.UnboxClient(\"YOUR_API_KEY_HERE\")"
   ]
  },
  {
   "cell_type": "code",
   "execution_count": null,
   "id": "75a77aa7",
   "metadata": {},
   "outputs": [],
   "source": [
    "# Comment this out and uncomment the next section to load the project\n",
    "project = client.create_project(\n",
    "    name=\"Fasttext Stacked Model\",\n",
    "    description=\"Project to Demo Fasttext Stacked\"\n",
    ")\n",
    "\n",
    "# Use this for loading the project on subsequent runs\n",
    "'''\n",
    "project = client.load_project(\n",
    "    name=\"Fasttext Stacked Model\"\n",
    ")\n",
    "'''"
   ]
  },
  {
   "cell_type": "code",
   "execution_count": null,
   "id": "5e6c275c",
   "metadata": {},
   "outputs": [],
   "source": [
    "custom_model_code = f\"\"\"\n",
    "import fasttext\n",
    "\n",
    "rec_model = fasttext.load_model(\"{rec_model_path}\")\n",
    "rec_type_model = fasttext.load_model(\"{rec_type_model_path}\")\n",
    "model = (rec_model, rec_type_model)\n",
    "\"\"\"\n",
    "\n",
    "ml_model = project.add_model(\n",
    "    function=get_predictions, \n",
    "    model=None,\n",
    "    dependent_dir=folder_name,\n",
    "    custom_model_code=custom_model_code,\n",
    "    model_type=ModelType.custom,\n",
    "    task_type=TaskType.TextClassification,\n",
    "    class_names=all_class_names,\n",
    "    requirements_txt_file=\"./requirements.txt\",\n",
    "    name='Stacked model',\n",
    "    description='there are two models here'\n",
    ")\n",
    "ml_model.to_dict()"
   ]
  }
 ],
 "metadata": {
  "kernelspec": {
   "display_name": "Python 3 (ipykernel)",
   "language": "python",
   "name": "python3"
  },
  "language_info": {
   "codemirror_mode": {
    "name": "ipython",
    "version": 3
   },
   "file_extension": ".py",
   "mimetype": "text/x-python",
   "name": "python",
   "nbconvert_exporter": "python",
   "pygments_lexer": "ipython3",
   "version": "3.8.13"
  }
 },
 "nbformat": 4,
 "nbformat_minor": 5
}
