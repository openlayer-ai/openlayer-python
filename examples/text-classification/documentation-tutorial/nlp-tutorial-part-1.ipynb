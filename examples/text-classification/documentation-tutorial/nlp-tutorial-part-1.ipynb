{
    "cells": [
        {
            "cell_type": "markdown",
            "id": "501dbca0",
            "metadata": {},
            "source": [
                "[![Open In Colab](https://colab.research.google.com/assets/colab-badge.svg)](https://colab.research.google.com/github/unboxai/examples-gallery/blob/main/text-classification/documentation-tutorial/nlp-tutorial-part-1.ipynb)\n",
                "\n"
            ]
        },
        {
            "cell_type": "markdown",
            "id": "9deda21b",
            "metadata": {},
            "source": [
                "# Welcome to the Openlayer NLP tutorial - Part 1\n",
                "\n",
                "You should use this notebook together with the [**NLP tutorial**](https://docs.openlayer.com/docs/uploading-your-first-model-and-dataset-1) from our documentation."
            ]
        },
        {
            "cell_type": "code",
            "execution_count": 13,
            "id": "56758c0a",
            "metadata": {},
            "outputs": [],
            "source": [
                "%%bash\n",
                "\n",
                "if [ ! -e \"requirements.txt\" ]; then\n",
                "    curl \"https://raw.githubusercontent.com/unboxai/examples-gallery/main/text-classification/documentation-tutorial/requirements.txt\" --output \"requirements.txt\"\n",
                "fi"
            ]
        },
        {
            "cell_type": "code",
            "execution_count": null,
            "id": "7debb76b",
            "metadata": {},
            "outputs": [],
            "source": [
                "!pip install -r requirements.txt"
            ]
        },
        {
            "cell_type": "markdown",
            "id": "ee2b5430",
            "metadata": {},
            "source": [
                "## 1. Loading the dataset\n",
                "\n",
                "First, let's import the libraries we need and load training and validation datasets."
            ]
        },
        {
            "cell_type": "code",
            "execution_count": 15,
            "id": "4f69dcb3",
            "metadata": {},
            "outputs": [],
            "source": [
                "import numpy as np\n",
                "import pandas as pd\n",
                "\n",
                "from sklearn.ensemble import GradientBoostingClassifier\n",
                "from sklearn.feature_extraction.text import CountVectorizer\n",
                "from sklearn.linear_model import LogisticRegression\n",
                "from sklearn.metrics import classification_report\n",
                "from sklearn.pipeline import Pipeline"
            ]
        },
        {
            "cell_type": "markdown",
            "id": "1bcd7852",
            "metadata": {},
            "source": [
                "We have stored the dataset on the following S3 bucket. If, for some reason, you get an error reading the csv directly from it, feel free to copy and paste the URL in your browser and download the csv file. "
            ]
        },
        {
            "cell_type": "code",
            "execution_count": 16,
            "id": "2ed8bf11",
            "metadata": {},
            "outputs": [],
            "source": [
                "TRAINING_SET_URL = \"https://openlayer-static-assets.s3.us-west-2.amazonaws.com/examples-datasets/text-classification/Urgent+events/urgent_events_train.csv\"\n",
                "VALIDATION_SET_URL = \"https://openlayer-static-assets.s3.us-west-2.amazonaws.com/examples-datasets/text-classification/Urgent+events/urgent_events_val.csv\""
            ]
        },
        {
            "cell_type": "code",
            "execution_count": 17,
            "id": "ac811397",
            "metadata": {},
            "outputs": [
                {
                    "data": {
                        "text/html": [
                            "<div>\n",
                            "<style scoped>\n",
                            "    .dataframe tbody tr th:only-of-type {\n",
                            "        vertical-align: middle;\n",
                            "    }\n",
                            "\n",
                            "    .dataframe tbody tr th {\n",
                            "        vertical-align: top;\n",
                            "    }\n",
                            "\n",
                            "    .dataframe thead th {\n",
                            "        text-align: right;\n",
                            "    }\n",
                            "</style>\n",
                            "<table border=\"1\" class=\"dataframe\">\n",
                            "  <thead>\n",
                            "    <tr style=\"text-align: right;\">\n",
                            "      <th></th>\n",
                            "      <th>text</th>\n",
                            "      <th>label</th>\n",
                            "    </tr>\n",
                            "  </thead>\n",
                            "  <tbody>\n",
                            "    <tr>\n",
                            "      <th>0</th>\n",
                            "      <td>how do i install a second hard drive onto my w...</td>\n",
                            "      <td>0</td>\n",
                            "    </tr>\n",
                            "    <tr>\n",
                            "      <th>1</th>\n",
                            "      <td>how to add a movie to a powerpoint presentation</td>\n",
                            "      <td>0</td>\n",
                            "    </tr>\n",
                            "    <tr>\n",
                            "      <th>2</th>\n",
                            "      <td>i feel so bad that im posting this blog so late</td>\n",
                            "      <td>0</td>\n",
                            "    </tr>\n",
                            "    <tr>\n",
                            "      <th>3</th>\n",
                            "      <td>he sleeps under the rain,send a tent to him he...</td>\n",
                            "      <td>1</td>\n",
                            "    </tr>\n",
                            "    <tr>\n",
                            "      <th>4</th>\n",
                            "      <td>im now and still addicted to the way living a ...</td>\n",
                            "      <td>0</td>\n",
                            "    </tr>\n",
                            "  </tbody>\n",
                            "</table>\n",
                            "</div>"
                        ],
                        "text/plain": [
                            "                                                text  label\n",
                            "0  how do i install a second hard drive onto my w...      0\n",
                            "1    how to add a movie to a powerpoint presentation      0\n",
                            "2    i feel so bad that im posting this blog so late      0\n",
                            "3  he sleeps under the rain,send a tent to him he...      1\n",
                            "4  im now and still addicted to the way living a ...      0"
                        ]
                    },
                    "execution_count": 17,
                    "metadata": {},
                    "output_type": "execute_result"
                }
            ],
            "source": [
                "# loading and having a look at the training set\n",
                "training_set = pd.read_csv(TRAINING_SET_URL, index_col=0)\n",
                "val_set = pd.read_csv(VALIDATION_SET_URL, index_col=0)\n",
                "\n",
                "training_set.head()"
            ]
        },
        {
            "cell_type": "markdown",
            "id": "1b626945",
            "metadata": {},
            "source": [
                "The label we want to learn to predict is in the column `label`: urgent messages have a value of 0 while not urgent messages have a value of 1. "
            ]
        },
        {
            "cell_type": "markdown",
            "id": "c0c0f1a8",
            "metadata": {},
            "source": [
                "## 2. Training and evaluating our model\n",
                "\n",
                "We are going to train a gradient boosting classifier on the training data. Let's then check out what the model's performance is in the validation set."
            ]
        },
        {
            "cell_type": "code",
            "execution_count": 18,
            "id": "a981bc4b",
            "metadata": {},
            "outputs": [
                {
                    "data": {
                        "text/plain": [
                            "Pipeline(steps=[('count_vect',\n",
                            "                 CountVectorizer(ngram_range=(1, 2), stop_words='english')),\n",
                            "                ('lr', GradientBoostingClassifier(random_state=42))])"
                        ]
                    },
                    "execution_count": 18,
                    "metadata": {},
                    "output_type": "execute_result"
                }
            ],
            "source": [
                "sklearn_model = Pipeline([('count_vect', CountVectorizer(ngram_range=(1,2), stop_words='english')), \n",
                "                          ('lr', GradientBoostingClassifier(random_state=42))])\n",
                "sklearn_model.fit(training_set['text'], training_set['label'])"
            ]
        },
        {
            "cell_type": "code",
            "execution_count": 19,
            "id": "ba829dcd",
            "metadata": {},
            "outputs": [
                {
                    "name": "stdout",
                    "output_type": "stream",
                    "text": [
                        "              precision    recall  f1-score   support\n",
                        "\n",
                        "           0       0.97      1.00      0.98      1818\n",
                        "           1       0.94      0.72      0.81       182\n",
                        "\n",
                        "    accuracy                           0.97      2000\n",
                        "   macro avg       0.95      0.86      0.90      2000\n",
                        "weighted avg       0.97      0.97      0.97      2000\n",
                        "\n"
                    ]
                }
            ],
            "source": [
                "print(classification_report(val_set['label'], sklearn_model.predict(val_set['text'])))"
            ]
        },
        {
            "cell_type": "markdown",
            "id": "eb702d1f",
            "metadata": {},
            "source": [
                "## 3. Openlayer part!\n",
                "\n",
                "Now it's up to you! \n",
                "\n",
                "Head back to the tutorial for an explanation of next few cells."
            ]
        },
        {
            "cell_type": "code",
            "execution_count": null,
            "id": "945e2619",
            "metadata": {},
            "outputs": [],
            "source": [
                "# installing the Openlayer Python API\n",
                "!pip install openlayer"
            ]
        },
        {
            "cell_type": "code",
            "execution_count": 20,
            "id": "65964db9",
            "metadata": {},
            "outputs": [],
            "source": [
                "# instantiating the client\n",
                "import openlayer\n",
                "\n",
                "client = openlayer.OpenlayerClient('YOUR_API_KEY_HERE')"
            ]
        },
        {
            "cell_type": "code",
            "execution_count": null,
            "id": "2dee6250",
            "metadata": {},
            "outputs": [],
            "source": [
                "# creating the project\n",
                "from openlayer.tasks import TaskType\n",
                "\n",
                "project = client.create_or_load_project(name=\"Urgent event classification\",\n",
                "                                        task_type=TaskType.TextClassification,\n",
                "                                        description=\"Evaluation of ML approaches to classify messages\")"
            ]
        },
        {
            "cell_type": "code",
            "execution_count": null,
            "id": "d0c680e8",
            "metadata": {},
            "outputs": [],
            "source": [
                "# uploading the dataset to the project\n",
                "dataset = project.add_dataframe(\n",
                "    df=val_set,\n",
                "    class_names=[\"Not urgent\", \"Urgent\"],\n",
                "    label_column_name=\"label\",\n",
                "    text_column_name=\"text\",\n",
                "    commit_message=\"First commit!\"  \n",
                ")"
            ]
        },
        {
            "cell_type": "code",
            "execution_count": 23,
            "id": "5b55095c",
            "metadata": {},
            "outputs": [],
            "source": [
                "# defining the model's predict probability function\n",
                "def predict_proba(model, text_list):    \n",
                "    # Getting the model's predictions\n",
                "    preds = model.predict_proba(text_list)\n",
                "    \n",
                "    return preds"
            ]
        },
        {
            "cell_type": "code",
            "execution_count": null,
            "id": "d22d5cef",
            "metadata": {},
            "outputs": [],
            "source": [
                "# uploading the model to the project\n",
                "from openlayer.models import ModelType\n",
                "\n",
                "model = project.add_model(\n",
                "    function=predict_proba, \n",
                "    model=sklearn_model,\n",
                "    model_type=ModelType.sklearn,\n",
                "    class_names=[\"Not urgent\", \"Urgent\"],\n",
                "    name='Gradient boosting classifier',\n",
                "    commit_message='First commit!',\n",
                "    requirements_txt_file='requirements.txt'\n",
                ")"
            ]
        },
        {
            "cell_type": "code",
            "execution_count": null,
            "id": "c9a29256",
            "metadata": {},
            "outputs": [],
            "source": []
        }
    ],
    "metadata": {
        "kernelspec": {
            "display_name": "Python 3 (ipykernel)",
            "language": "python",
            "name": "python3"
        },
        "language_info": {
            "codemirror_mode": {
                "name": "ipython",
                "version": 3
            },
            "file_extension": ".py",
            "mimetype": "text/x-python",
            "name": "python",
            "nbconvert_exporter": "python",
            "pygments_lexer": "ipython3",
            "version": "3.8.13"
        }
    },
    "nbformat": 4,
    "nbformat_minor": 5
}