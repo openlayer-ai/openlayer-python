{
    "cells": [
        {
            "cell_type": "markdown",
            "id": "385cda6d",
            "metadata": {},
            "source": [
                "[![Open In Colab](https://colab.research.google.com/assets/colab-badge.svg)](https://colab.research.google.com/github/unboxai/examples-gallery/blob/main/text-classification/documentation-tutorial/nlp-tutorial-part-2.ipynb)\n",
                "\n"
            ]
        },
        {
            "cell_type": "markdown",
            "id": "9deda21b",
            "metadata": {},
            "source": [
                "# Welcome to the Openlayer NLP tutorial - Part 2\n",
                "\n",
                "You should use this notebook together with the final part of the [**NLP tutorial**](https://docs.openlayer.com/docs/uploading-your-first-model-and-dataset-1) from our documentation. This is where we solve the identified issue affecting the first version of our model."
            ]
        },
        {
            "cell_type": "code",
            "execution_count": 13,
            "id": "56758c0a",
            "metadata": {},
            "outputs": [],
            "source": [
                "%%bash\n",
                "\n",
                "if [ ! -e \"requirements.txt\" ]; then\n",
                "    curl \"https://raw.githubusercontent.com/unboxai/examples-gallery/main/text-classification/documentation-tutorial/requirements.txt\" --output \"requirements.txt\"\n",
                "fi"
            ]
        },
        {
            "cell_type": "code",
            "execution_count": null,
            "id": "7debb76b",
            "metadata": {},
            "outputs": [],
            "source": [
                "!pip install -r requirements.txt"
            ]
        },
        {
            "cell_type": "markdown",
            "id": "ee2b5430",
            "metadata": {},
            "source": [
                "## 1. Loading the training set\n",
                "\n",
                "First, let's import the libraries we need and load the new training set as well as the original validation set."
            ]
        },
        {
            "cell_type": "code",
            "execution_count": 1,
            "id": "4f69dcb3",
            "metadata": {},
            "outputs": [],
            "source": [
                "import numpy as np\n",
                "import pandas as pd\n",
                "\n",
                "from sklearn.ensemble import GradientBoostingClassifier\n",
                "from sklearn.feature_extraction.text import CountVectorizer\n",
                "from sklearn.linear_model import LogisticRegression\n",
                "from sklearn.metrics import classification_report\n",
                "from sklearn.pipeline import Pipeline"
            ]
        },
        {
            "cell_type": "markdown",
            "id": "1bcd7852",
            "metadata": {},
            "source": [
                "We have stored the dataset on the following S3 bucket. If, for some reason, you get an error reading the csv directly from it, feel free to copy and paste the URL in your browser and download the csv file. "
            ]
        },
        {
            "cell_type": "code",
            "execution_count": 2,
            "id": "2ed8bf11",
            "metadata": {},
            "outputs": [],
            "source": [
                "NEW_TRAINING_SET_URL = \"https://openlayer-static-assets.s3.us-west-2.amazonaws.com/examples-datasets/text-classification/Urgent+events/augmented_urgent_events_train.csv\"\n",
                "VALIDATION_SET_URL = \"https://openlayer-static-assets.s3.us-west-2.amazonaws.com/examples-datasets/text-classification/Urgent+events/urgent_events_val.csv\""
            ]
        },
        {
            "cell_type": "code",
            "execution_count": 3,
            "id": "ac811397",
            "metadata": {},
            "outputs": [
                {
                    "data": {
                        "text/html": [
                            "<div>\n",
                            "<style scoped>\n",
                            "    .dataframe tbody tr th:only-of-type {\n",
                            "        vertical-align: middle;\n",
                            "    }\n",
                            "\n",
                            "    .dataframe tbody tr th {\n",
                            "        vertical-align: top;\n",
                            "    }\n",
                            "\n",
                            "    .dataframe thead th {\n",
                            "        text-align: right;\n",
                            "    }\n",
                            "</style>\n",
                            "<table border=\"1\" class=\"dataframe\">\n",
                            "  <thead>\n",
                            "    <tr style=\"text-align: right;\">\n",
                            "      <th></th>\n",
                            "      <th>text</th>\n",
                            "      <th>label</th>\n",
                            "    </tr>\n",
                            "  </thead>\n",
                            "  <tbody>\n",
                            "    <tr>\n",
                            "      <th>0</th>\n",
                            "      <td>.. . i am homeless, my family sleeps under the...</td>\n",
                            "      <td>1</td>\n",
                            "    </tr>\n",
                            "    <tr>\n",
                            "      <th>1</th>\n",
                            "      <td>what does someone from titus magloire have to ...</td>\n",
                            "      <td>1</td>\n",
                            "    </tr>\n",
                            "    <tr>\n",
                            "      <th>2</th>\n",
                            "      <td>i and my family (16 persons) in 3e comunal sec...</td>\n",
                            "      <td>1</td>\n",
                            "    </tr>\n",
                            "    <tr>\n",
                            "      <th>3</th>\n",
                            "      <td>is anyone else sitting at work obsesivley answ...</td>\n",
                            "      <td>0</td>\n",
                            "    </tr>\n",
                            "    <tr>\n",
                            "      <th>4</th>\n",
                            "      <td>how many babies do they have to squeeze to get...</td>\n",
                            "      <td>0</td>\n",
                            "    </tr>\n",
                            "  </tbody>\n",
                            "</table>\n",
                            "</div>"
                        ],
                        "text/plain": [
                            "                                                text  label\n",
                            "0  .. . i am homeless, my family sleeps under the...      1\n",
                            "1  what does someone from titus magloire have to ...      1\n",
                            "2  i and my family (16 persons) in 3e comunal sec...      1\n",
                            "3  is anyone else sitting at work obsesivley answ...      0\n",
                            "4  how many babies do they have to squeeze to get...      0"
                        ]
                    },
                    "execution_count": 3,
                    "metadata": {},
                    "output_type": "execute_result"
                }
            ],
            "source": [
                "# loading and having a look at the training set\n",
                "training_set = pd.read_csv(NEW_TRAINING_SET_URL, index_col=0)\n",
                "val_set = pd.read_csv(VALIDATION_SET_URL, index_col=0)\n",
                "\n",
                "training_set.reset_index(inplace=True, drop=True)\n",
                "training_set.head()"
            ]
        },
        {
            "cell_type": "markdown",
            "id": "734851d2",
            "metadata": {},
            "source": [
                "This is the new training set we will use to try to mitigate the location issue we identified during the tutorial. Compared to the original dataset, the new training set was augmented by adding new rows with different locations for every `Urgent` sample that mentions a location. Here are a few augmented samples:"
            ]
        },
        {
            "cell_type": "code",
            "execution_count": 4,
            "id": "c398bc78",
            "metadata": {},
            "outputs": [
                {
                    "data": {
                        "text/html": [
                            "<div>\n",
                            "<style scoped>\n",
                            "    .dataframe tbody tr th:only-of-type {\n",
                            "        vertical-align: middle;\n",
                            "    }\n",
                            "\n",
                            "    .dataframe tbody tr th {\n",
                            "        vertical-align: top;\n",
                            "    }\n",
                            "\n",
                            "    .dataframe thead th {\n",
                            "        text-align: right;\n",
                            "    }\n",
                            "</style>\n",
                            "<table border=\"1\" class=\"dataframe\">\n",
                            "  <thead>\n",
                            "    <tr style=\"text-align: right;\">\n",
                            "      <th></th>\n",
                            "      <th>text</th>\n",
                            "      <th>label</th>\n",
                            "    </tr>\n",
                            "  </thead>\n",
                            "  <tbody>\n",
                            "    <tr>\n",
                            "      <th>33</th>\n",
                            "      <td>jacmel was badly damaged we in needs of tents ...</td>\n",
                            "      <td>1</td>\n",
                            "    </tr>\n",
                            "    <tr>\n",
                            "      <th>225</th>\n",
                            "      <td>carrefour feuilles was badly damaged we in nee...</td>\n",
                            "      <td>1</td>\n",
                            "    </tr>\n",
                            "    <tr>\n",
                            "      <th>3510</th>\n",
                            "      <td>cayes was badly damaged we in needs of tents asap</td>\n",
                            "      <td>1</td>\n",
                            "    </tr>\n",
                            "    <tr>\n",
                            "      <th>5823</th>\n",
                            "      <td>saint hillaire was badly damaged we in needs o...</td>\n",
                            "      <td>1</td>\n",
                            "    </tr>\n",
                            "    <tr>\n",
                            "      <th>6511</th>\n",
                            "      <td>sousmalta was badly damaged we in needs of ten...</td>\n",
                            "      <td>1</td>\n",
                            "    </tr>\n",
                            "  </tbody>\n",
                            "</table>\n",
                            "</div>"
                        ],
                        "text/plain": [
                            "                                                   text  label\n",
                            "33    jacmel was badly damaged we in needs of tents ...      1\n",
                            "225   carrefour feuilles was badly damaged we in nee...      1\n",
                            "3510  cayes was badly damaged we in needs of tents asap      1\n",
                            "5823  saint hillaire was badly damaged we in needs o...      1\n",
                            "6511  sousmalta was badly damaged we in needs of ten...      1"
                        ]
                    },
                    "execution_count": 4,
                    "metadata": {},
                    "output_type": "execute_result"
                }
            ],
            "source": [
                "training_set.loc[[33, 225, 3510, 5823, 6511]]"
            ]
        },
        {
            "cell_type": "markdown",
            "id": "c0c0f1a8",
            "metadata": {},
            "source": [
                "## 2. Training and evaluating our model\n",
                "\n",
                "We are going to train a gradient boosting classifier on the training data. Let's then check out what the model's performance is in the validation set."
            ]
        },
        {
            "cell_type": "code",
            "execution_count": 5,
            "id": "a981bc4b",
            "metadata": {},
            "outputs": [
                {
                    "data": {
                        "text/plain": [
                            "Pipeline(steps=[('count_vect',\n",
                            "                 CountVectorizer(ngram_range=(1, 2), stop_words='english')),\n",
                            "                ('lr', GradientBoostingClassifier(random_state=42))])"
                        ]
                    },
                    "execution_count": 5,
                    "metadata": {},
                    "output_type": "execute_result"
                }
            ],
            "source": [
                "sklearn_model = Pipeline([('count_vect', CountVectorizer(ngram_range=(1,2), stop_words='english')), \n",
                "                          ('lr', GradientBoostingClassifier(random_state=42))])\n",
                "sklearn_model.fit(training_set['text'], training_set['label'])"
            ]
        },
        {
            "cell_type": "code",
            "execution_count": 6,
            "id": "ba829dcd",
            "metadata": {},
            "outputs": [
                {
                    "name": "stdout",
                    "output_type": "stream",
                    "text": [
                        "              precision    recall  f1-score   support\n",
                        "\n",
                        "           0       0.99      0.98      0.98      1818\n",
                        "           1       0.83      0.86      0.85       182\n",
                        "\n",
                        "    accuracy                           0.97      2000\n",
                        "   macro avg       0.91      0.92      0.91      2000\n",
                        "weighted avg       0.97      0.97      0.97      2000\n",
                        "\n"
                    ]
                }
            ],
            "source": [
                "print(classification_report(val_set['label'], sklearn_model.predict(val_set['text'])))"
            ]
        },
        {
            "cell_type": "markdown",
            "id": "eb702d1f",
            "metadata": {},
            "source": [
                "## 3. Openlayer part!\n",
                "\n",
                "Now it's up to you! \n",
                "\n",
                "Head back to the tutorial for an explanation of next few cells."
            ]
        },
        {
            "cell_type": "code",
            "execution_count": null,
            "id": "945e2619",
            "metadata": {},
            "outputs": [],
            "source": [
                "# installing the Openlayer Python API\n",
                "!pip install openlayer"
            ]
        },
        {
            "cell_type": "code",
            "execution_count": null,
            "id": "65964db9",
            "metadata": {},
            "outputs": [],
            "source": [
                "# instantiating the client\n",
                "import openlayer\n",
                "\n",
                "client = openlayer.OpenlayerClient('YOUR_API_KEY_HERE')"
            ]
        },
        {
            "cell_type": "code",
            "execution_count": null,
            "id": "2dee6250",
            "metadata": {},
            "outputs": [],
            "source": [
                "# creating the project\n",
                "from openlayer.tasks import TaskType\n",
                "\n",
                "project = client.load_project(name=\"Urgent event classification\")"
            ]
        },
        {
            "cell_type": "code",
            "execution_count": null,
            "id": "5b55095c",
            "metadata": {},
            "outputs": [],
            "source": [
                "# defining the model's predict probability function\n",
                "def predict_proba(model, text_list):    \n",
                "    # Getting the model's predictions\n",
                "    preds = model.predict_proba(text_list)\n",
                "    \n",
                "    return preds"
            ]
        },
        {
            "cell_type": "code",
            "execution_count": null,
            "id": "d22d5cef",
            "metadata": {},
            "outputs": [],
            "source": [
                "# uploading the model to the project\n",
                "from openlayer.models import ModelType\n",
                "\n",
                "model = project.add_model(\n",
                "    function=predict_proba, \n",
                "    model=sklearn_model,\n",
                "    model_type=ModelType.sklearn,\n",
                "    class_names=[\"Not urgent\", \"Urgent\"],\n",
                "    name='Gradient boosting classifier',\n",
                "    commit_message='Attempt to fix location issue for Urgent class',\n",
                "    requirements_txt_file='requirements.txt'\n",
                ")"
            ]
        },
        {
            "cell_type": "code",
            "execution_count": null,
            "id": "c9a29256",
            "metadata": {},
            "outputs": [],
            "source": []
        }
    ],
    "metadata": {
        "kernelspec": {
            "display_name": "Python 3 (ipykernel)",
            "language": "python",
            "name": "python3"
        },
        "language_info": {
            "codemirror_mode": {
                "name": "ipython",
                "version": 3
            },
            "file_extension": ".py",
            "mimetype": "text/x-python",
            "name": "python",
            "nbconvert_exporter": "python",
            "pygments_lexer": "ipython3",
            "version": "3.8.13"
        }
    },
    "nbformat": 4,
    "nbformat_minor": 5
}