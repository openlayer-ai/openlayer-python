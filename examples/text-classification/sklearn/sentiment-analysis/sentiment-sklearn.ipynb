{
 "cells": [
  {
   "cell_type": "markdown",
   "id": "wrong-composer",
   "metadata": {},
   "source": [
    "# IMPORT"
   ]
  },
  {
   "cell_type": "code",
   "execution_count": 1,
   "id": "atlantic-norway",
   "metadata": {},
   "outputs": [],
   "source": [
    "import tempfile\n",
    "import numpy as np\n",
    "import pandas as pd\n",
    "from sklearn.feature_extraction.text import CountVectorizer\n",
    "from sklearn.linear_model import LogisticRegression\n",
    "from sklearn.metrics import classification_report, roc_auc_score, roc_curve\n",
    "from sklearn.pipeline import Pipeline"
   ]
  },
  {
   "cell_type": "markdown",
   "id": "chubby-clarity",
   "metadata": {},
   "source": [
    "# LOAD DATA, TRAIN MODEL"
   ]
  },
  {
   "cell_type": "code",
   "execution_count": 2,
   "id": "precise-vatican",
   "metadata": {},
   "outputs": [
    {
     "name": "stdout",
     "output_type": "stream",
     "text": [
      "Archive:  ./data/trainingandtestdata.zip\n"
     ]
    }
   ],
   "source": [
    "%%bash\n",
    "\n",
    "if [ ! -d ./data ]; then\n",
    "    mkdir ./data\n",
    "fi\n",
    "\n",
    "if [ ! -f ./data/trainingandtestdata.zip ]; then\n",
    "    wget -q -O ./data/trainingandtestdata.zip http://cs.stanford.edu/people/alecmgo/trainingandtestdata.zip\n",
    "fi\n",
    "\n",
    "unzip -n ./data/trainingandtestdata.zip -d ./data"
   ]
  },
  {
   "cell_type": "code",
   "execution_count": 3,
   "id": "incomplete-nirvana",
   "metadata": {},
   "outputs": [],
   "source": [
    "columns = ['polarity', 'tweetid', 'date', 'query_name', 'user', 'text']\n",
    "df_train_file_path = './data/training.1600000.processed.noemoticon.csv'\n",
    "df_train_name = 'training.1600000.processed.noemoticon'\n",
    "df_train = pd.read_csv(df_train_file_path,\n",
    "                      header=None,\n",
    "                      encoding='ISO-8859-1')\n",
    "\n",
    "df_test_file_path = './data/testdata.manual.2009.06.14.csv'\n",
    "df_test_name = 'testdata.manual.2009.06.14'\n",
    "df_test = pd.read_csv(df_test_file_path,\n",
    "                     header=None,\n",
    "                     encoding='ISO-8859-1')\n",
    "df_train.columns = columns\n",
    "df_test.columns = columns"
   ]
  },
  {
   "cell_type": "code",
   "execution_count": 4,
   "id": "digital-covering",
   "metadata": {},
   "outputs": [],
   "source": [
    "import random\n",
    "# Remove 'neutral' since it isn't in training dataset\n",
    "df_test['polarity'] = df_test['polarity'].replace(2, random.choice([0, 4]))\n",
    "# Make labels monotonically increasing [0,1]\n",
    "df_test['polarity'] = df_test['polarity'].replace(4, 1)\n",
    "df_train['polarity'] = df_train['polarity'].replace(4, 1)"
   ]
  },
  {
   "cell_type": "code",
   "execution_count": null,
   "id": "multiple-disability",
   "metadata": {},
   "outputs": [],
   "source": [
    "sentiment_lr = Pipeline(\n",
    "    [\n",
    "        (\n",
    "            \"count_vect\",\n",
    "            CountVectorizer(min_df=100, ngram_range=(1, 2), stop_words=\"english\"),\n",
    "        ),\n",
    "        (\"lr\", LogisticRegression()),\n",
    "    ]\n",
    ")\n",
    "sentiment_lr.fit(df_train.text, df_train.polarity)"
   ]
  },
  {
   "cell_type": "code",
   "execution_count": null,
   "id": "civilian-auditor",
   "metadata": {},
   "outputs": [],
   "source": [
    "x_test, y_test = df_test.text, df_test.polarity\n",
    "print(classification_report(y_test, sentiment_lr.predict(x_test)))"
   ]
  },
  {
   "cell_type": "code",
   "execution_count": null,
   "id": "numerous-ability",
   "metadata": {},
   "outputs": [],
   "source": [
    "sentiment_lr.predict([x_test[0]])"
   ]
  },
  {
   "cell_type": "code",
   "execution_count": null,
   "id": "electronic-princess",
   "metadata": {},
   "outputs": [],
   "source": [
    "sentiment_lr.predict(['good', 'bad'])"
   ]
  },
  {
   "cell_type": "markdown",
   "id": "scientific-dubai",
   "metadata": {},
   "source": [
    "# UNBOX"
   ]
  },
  {
   "cell_type": "code",
   "execution_count": null,
   "id": "medium-field",
   "metadata": {},
   "outputs": [],
   "source": [
    "import unboxapi\n",
    "client = unboxapi.UnboxClient(\"YOUR_API_KEY_HERE\")"
   ]
  },
  {
   "cell_type": "markdown",
   "id": "southwest-corruption",
   "metadata": {},
   "source": [
    "## Create function"
   ]
  },
  {
   "cell_type": "code",
   "execution_count": null,
   "id": "maritime-writing",
   "metadata": {},
   "outputs": [],
   "source": [
    "def predict_function(model, text_list):\n",
    "    return model.predict_proba(text_list)"
   ]
  },
  {
   "cell_type": "code",
   "execution_count": null,
   "id": "bored-treasury",
   "metadata": {},
   "outputs": [],
   "source": [
    "texts = ['some new text, sweet noodles', 'happy time', 'sad day']\n",
    "\n",
    "predict_function(sentiment_lr, ['good', 'bad'])"
   ]
  },
  {
   "cell_type": "markdown",
   "id": "classified-machinery",
   "metadata": {},
   "source": [
    "# Package & Upload to Unbox"
   ]
  },
  {
   "cell_type": "markdown",
   "id": "25d7b5f5",
   "metadata": {},
   "source": [
    "## Create/Load Project"
   ]
  },
  {
   "cell_type": "markdown",
   "id": "d17aa3fc",
   "metadata": {},
   "source": [
    "### Create Project"
   ]
  },
  {
   "cell_type": "code",
   "execution_count": null,
   "id": "750132b8",
   "metadata": {},
   "outputs": [],
   "source": [
    "# Comment this out and uncomment the next section to load the project\n",
    "project = client.create_project(\n",
    "    name=\"Sentiment Analysis Sklearn Model\",\n",
    "    description=\"Project to Demo Sklearn Sentiment Analysis with Unbox\"\n",
    ")\n",
    "\n",
    "# Use this for loading the project on subsequent runs\n",
    "'''\n",
    "project = client.load_project(\n",
    "    name=\"Sentiment Analysis Sklearn Model\"\n",
    ")\n",
    "'''"
   ]
  },
  {
   "cell_type": "markdown",
   "id": "binding-polymer",
   "metadata": {},
   "source": [
    "### Upload dataset from dataframe"
   ]
  },
  {
   "cell_type": "code",
   "execution_count": null,
   "id": "corporate-azerbaijan",
   "metadata": {},
   "outputs": [],
   "source": [
    "dataset = project.add_dataframe(\n",
    "    df=df_test,\n",
    "    class_names=['negative', 'positive'],\n",
    "    label_column_name='polarity',\n",
    "    text_column_name='text',\n",
    "    name=df_test_name,\n",
    "    description='this is my sentiment test dataset'\n",
    ")\n",
    "dataset.to_dict()"
   ]
  },
  {
   "cell_type": "markdown",
   "id": "valuable-witch",
   "metadata": {},
   "source": [
    "### Upload model"
   ]
  },
  {
   "cell_type": "code",
   "execution_count": null,
   "id": "present-seating",
   "metadata": {
    "scrolled": true
   },
   "outputs": [],
   "source": [
    "from unboxapi.models import ModelType\n",
    "\n",
    "model = project.add_model(\n",
    "    function=predict_function, \n",
    "    model=sentiment_lr,\n",
    "    model_type=ModelType.sklearn,\n",
    "    class_names=['negative', 'positive'],\n",
    "    name='05.15.2021.sentiment_analyzer',\n",
    "    description='this is my sklearn sentiment model'\n",
    ")\n",
    "model.to_dict()"
   ]
  }
 ],
 "metadata": {
  "kernelspec": {
   "display_name": "Python 3 (ipykernel)",
   "language": "python",
   "name": "python3"
  },
  "language_info": {
   "codemirror_mode": {
    "name": "ipython",
    "version": 3
   },
   "file_extension": ".py",
   "mimetype": "text/x-python",
   "name": "python",
   "nbconvert_exporter": "python",
   "pygments_lexer": "ipython3",
   "version": "3.8.12"
  }
 },
 "nbformat": 4,
 "nbformat_minor": 5
}
