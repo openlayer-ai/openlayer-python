{
    "cells": [
        {
            "cell_type": "markdown",
            "id": "55acdad9",
            "metadata": {},
            "source": [
                "[![Open In Colab](https://colab.research.google.com/assets/colab-badge.svg)](https://colab.research.google.com/github/openlayer-ai/examples-gallery/blob/main/text-classification/sklearn/sentiment-analysis/sentiment-sklearn.ipynb)\n",
                "\n",
                "\n",
                "# <a id=\"top\">Sentiment analysis using sklearn</a>\n",
                "\n",
                "This notebook illustrates how sklearn models can be uploaded to the Openlayer platform.\n",
                "\n",
                "## <a id=\"toc\">Table of contents</a>\n",
                "\n",
                "1. [**Getting the data and training the model**](#1)\n",
                "    - [Downloading the dataset](#download)\n",
                "    - [Training the model](#train)\n",
                "    \n",
                "\n",
                "2. [**Using Openlayer's Python API**](#2)\n",
                "    - [Instantiating the client](#client)\n",
                "    - [Creating a project](#project)\n",
                "    - [Uploading datasets](#dataset)\n",
                "    - [Uploading models](#model)\n",
                "        - [Shell models](#shell)\n",
                "        - [Full models](#full-model)\n",
                "    - [Committing and pushing to the platform](#commit)"
            ]
        },
        {
            "cell_type": "code",
            "execution_count": null,
            "id": "5b1a76a3",
            "metadata": {},
            "outputs": [],
            "source": [
                "%%bash\n",
                "\n",
                "if [ ! -e \"requirements.txt\" ]; then\n",
                "    curl \"https://raw.githubusercontent.com/openlayer-ai/examples-gallery/main/text-classification/sklearn/sentiment-analysis/requirements.txt\" --output \"requirements.txt\"\n",
                "fi"
            ]
        },
        {
            "cell_type": "code",
            "execution_count": null,
            "id": "813990ca",
            "metadata": {},
            "outputs": [],
            "source": [
                "!pip install -r requirements.txt"
            ]
        },
        {
            "cell_type": "markdown",
            "id": "a7e0e018",
            "metadata": {},
            "source": [
                "## <a id=\"1\"> 1. Getting the data and training the model </a>\n",
                "\n",
                "[Back to top](#top)\n",
                "\n",
                "In this first part, we will get the dataset, pre-process it, split it into training and validation sets, and train a model. Feel free to skim through this section if you are already comfortable with how these steps look for an sklearn model.   "
            ]
        },
        {
            "cell_type": "code",
            "execution_count": null,
            "id": "atlantic-norway",
            "metadata": {},
            "outputs": [],
            "source": [
                "import numpy as np\n",
                "import pandas as pd\n",
                "\n",
                "from sklearn.feature_extraction.text import CountVectorizer\n",
                "from sklearn.linear_model import LogisticRegression\n",
                "from sklearn.metrics import classification_report\n",
                "from sklearn.pipeline import Pipeline"
            ]
        },
        {
            "cell_type": "markdown",
            "id": "8f656146",
            "metadata": {},
            "source": [
                "### <a id=\"download\">Downloading the dataset </a>\n",
                "\n",
                "\n",
                "We have stored the dataset on the following S3 bucket. If, for some reason, you get an error reading the csv directly from it, feel free to copy and paste the URL in your browser and download the csv files. Alternatively, you can also find the original datasets on [this Kaggle competition](https://www.kaggle.com/datasets/abhi8923shriv/sentiment-analysis-dataset?select=testdata.manual.2009.06.14.csv). The training set in this example corresponds to the first 20,000 rows of the original training set."
            ]
        },
        {
            "cell_type": "code",
            "execution_count": null,
            "id": "509a0ab4",
            "metadata": {},
            "outputs": [],
            "source": [
                "%%bash\n",
                "\n",
                "if [ ! -e \"sentiment_train.csv\" ]; then\n",
                "    curl \"https://openlayer-static-assets.s3.us-west-2.amazonaws.com/examples-datasets/text-classification/sentiment-analysis/sentiment_train.csv\" --output \"sentiment_train.csv\"\n",
                "fi\n",
                "\n",
                "if [ ! -e \"sentiment_val.csv\" ]; then\n",
                "    curl \"https://openlayer-static-assets.s3.us-west-2.amazonaws.com/examples-datasets/text-classification/sentiment-analysis/sentiment_val.csv\" --output \"sentiment_val.csv\"\n",
                "fi"
            ]
        },
        {
            "cell_type": "code",
            "execution_count": null,
            "id": "incomplete-nirvana",
            "metadata": {},
            "outputs": [],
            "source": [
                "columns = ['polarity', 'tweetid', 'query_name', 'user', 'text']\n",
                "\n",
                "df_train = pd.read_csv(\n",
                "    \"./sentiment_train.csv\",\n",
                "    encoding='ISO-8859-1', \n",
                ")\n",
                "\n",
                "df_val = pd.read_csv(\n",
                "    \"./sentiment_val.csv\",\n",
                "    encoding='ISO-8859-1'\n",
                ")\n",
                "df_train.columns = columns\n",
                "df_val.columns = columns"
            ]
        },
        {
            "cell_type": "code",
            "execution_count": null,
            "id": "e435aecc",
            "metadata": {},
            "outputs": [],
            "source": [
                "df_train.head()"
            ]
        },
        {
            "cell_type": "markdown",
            "id": "b012a4f1",
            "metadata": {},
            "source": [
                "### <a id=\"train\">Training the model</a>"
            ]
        },
        {
            "cell_type": "code",
            "execution_count": null,
            "id": "multiple-disability",
            "metadata": {},
            "outputs": [],
            "source": [
                "sklearn_model = Pipeline([(\"count_vect\", \n",
                "                           CountVectorizer(min_df=100, \n",
                "                                           ngram_range=(1, 2), \n",
                "                                           stop_words=\"english\"),),\n",
                "                          (\"lr\", LogisticRegression()),])\n",
                "sklearn_model.fit(df_train.text, df_train.polarity)"
            ]
        },
        {
            "cell_type": "code",
            "execution_count": null,
            "id": "ae4d857e",
            "metadata": {},
            "outputs": [],
            "source": [
                "x_val, y_val = df_val.text, df_val.polarity\n",
                "print(classification_report(y_val, sklearn_model.predict(x_val)))"
            ]
        },
        {
            "cell_type": "markdown",
            "id": "9193bec1",
            "metadata": {},
            "source": [
                "## <a id=\"2\"> 2. Using Openlayer's Python API</a>\n",
                "\n",
                "[Back to top](#top)\n",
                "\n",
                "Now it's time to upload the datasets and model to the Openlayer platform."
            ]
        },
        {
            "cell_type": "code",
            "execution_count": null,
            "id": "8440a076",
            "metadata": {},
            "outputs": [],
            "source": [
                "!pip install openlayer"
            ]
        },
        {
            "cell_type": "markdown",
            "id": "b9049c05",
            "metadata": {},
            "source": [
                "### <a id=\"client\">Instantiating the client</a>"
            ]
        },
        {
            "cell_type": "code",
            "execution_count": null,
            "id": "medium-field",
            "metadata": {},
            "outputs": [],
            "source": [
                "import openlayer\n",
                "\n",
                "client = openlayer.OpenlayerClient(\"YOUR_API_KEY_HERE\")"
            ]
        },
        {
            "cell_type": "markdown",
            "id": "4ae672f2",
            "metadata": {},
            "source": [
                "### <a id=\"project\">Creating a project on the platform</a>"
            ]
        },
        {
            "cell_type": "code",
            "execution_count": null,
            "id": "750132b8",
            "metadata": {},
            "outputs": [],
            "source": [
                "from openlayer import TaskType\n",
                "\n",
                "project = client.create_or_load_project(\n",
                "    name=\"Sentiment Analysis\",\n",
                "    task_type=TaskType.TextClassification,\n",
                "    description=\"Sklearn Sentiment Analysis with Openlayer\"\n",
                ")"
            ]
        },
        {
            "cell_type": "markdown",
            "id": "6fdb6823",
            "metadata": {},
            "source": [
                "### <a id=\"dataset\">Uploading datasets</a>\n",
                "\n",
                "Before adding the datasets to a project, we need to do two things:\n",
                "1. Enhance the dataset with additional columns to make it comprehensive, such as adding a column for labels and one for model predictions (if you're uploading a model as well).\n",
                "2. Prepare a `dataset_config.yaml` file. This is a file that contains all the information needed by the Openlayer platform to utilize the dataset. It should include the column names, the class names, etc. For details on the fields of the `dataset_config.yaml` file, see the [API reference](https://reference.openlayer.com/reference/api/openlayer.OpenlayerClient.add_dataset.html#openlayer.OpenlayerClient.add_dataset).\n",
                "\n",
                "Let's start by enhancing the datasets with the extra columns:"
            ]
        },
        {
            "cell_type": "code",
            "execution_count": null,
            "id": "84023241",
            "metadata": {},
            "outputs": [],
            "source": [
                "# Adding the column with the predictions (since we'll also upload a model later)\n",
                "df_train[\"predictions\"] = sklearn_model.predict_proba(df_train['text']).tolist()\n",
                "df_val[\"predictions\"] = sklearn_model.predict_proba(df_val['text']).tolist()"
            ]
        },
        {
            "cell_type": "code",
            "execution_count": null,
            "id": "digital-covering",
            "metadata": {},
            "outputs": [],
            "source": [
                "import random\n",
                "\n",
                "# Remove 'neutral' since it isn't in training dataset\n",
                "df_val['polarity'] = df_val['polarity'].replace(2, random.choice([0, 4]))\n",
                "# Make labels monotonically increasing [0,1]\n",
                "df_val['polarity'] = df_val['polarity'].replace(4, 1)\n",
                "df_train['polarity'] = df_train['polarity'].replace(4, 1)"
            ]
        },
        {
            "cell_type": "markdown",
            "id": "80a3bab4",
            "metadata": {},
            "source": [
                "Now, we can prepare the `dataset_config.yaml` files for the training and validation sets."
            ]
        },
        {
            "cell_type": "code",
            "execution_count": null,
            "id": "b3dcc96a",
            "metadata": {},
            "outputs": [],
            "source": [
                "# Some variables that will go into the `dataset_config.yaml` file\n",
                "column_names = list(df_train.columns)\n",
                "class_names = [\"negative\", \"positive\"]\n",
                "label_column_name = \"polarity\"\n",
                "prediction_scores_column_name = \"predictions\"\n",
                "text_column_name = \"text\""
            ]
        },
        {
            "cell_type": "code",
            "execution_count": null,
            "id": "904c0242",
            "metadata": {},
            "outputs": [],
            "source": [
                "import yaml \n",
                "\n",
                "# Note the camelCase for the dict's keys\n",
                "training_dataset_config = {\n",
                "    \"classNames\": class_names,\n",
                "    \"columnNames\": column_names,\n",
                "    \"textColumnName\": text_column_name,\n",
                "    \"label\": \"training\",\n",
                "    \"labelColumnName\": label_column_name,\n",
                "    \"predictionScoresColumnName\": prediction_scores_column_name,\n",
                "}\n",
                "\n",
                "with open(\"training_dataset_config.yaml\", \"w\") as dataset_config_file:\n",
                "    yaml.dump(training_dataset_config, dataset_config_file, default_flow_style=False)"
            ]
        },
        {
            "cell_type": "code",
            "execution_count": null,
            "id": "7b4284dc",
            "metadata": {},
            "outputs": [],
            "source": [
                "import copy\n",
                "\n",
                "validation_dataset_config = copy.deepcopy(training_dataset_config)\n",
                "\n",
                "# In our case, the only field that changes is the `label`, from \"training\" -> \"validation\"\n",
                "validation_dataset_config[\"label\"] = \"validation\"\n",
                "\n",
                "with open(\"validation_dataset_config.yaml\", \"w\") as dataset_config_file:\n",
                "    yaml.dump(validation_dataset_config, dataset_config_file, default_flow_style=False)"
            ]
        },
        {
            "cell_type": "code",
            "execution_count": null,
            "id": "4f0a9761",
            "metadata": {},
            "outputs": [],
            "source": [
                "# Training set\n",
                "project.add_dataframe(\n",
                "    dataset_df=df_train,\n",
                "    dataset_config_file_path=\"training_dataset_config.yaml\",\n",
                ")"
            ]
        },
        {
            "cell_type": "code",
            "execution_count": null,
            "id": "1fbf393b",
            "metadata": {},
            "outputs": [],
            "source": [
                "# Validation set\n",
                "project.add_dataframe(\n",
                "    dataset_df=df_val,\n",
                "    dataset_config_file_path=\"validation_dataset_config.yaml\",\n",
                ")"
            ]
        },
        {
            "cell_type": "markdown",
            "id": "56d63bce",
            "metadata": {},
            "source": [
                "We can check that both datasets are now staged using the `project.status()` method. "
            ]
        },
        {
            "cell_type": "code",
            "execution_count": null,
            "id": "d22d1d9e",
            "metadata": {},
            "outputs": [],
            "source": [
                "project.status()"
            ]
        },
        {
            "cell_type": "markdown",
            "id": "d68e1834",
            "metadata": {},
            "source": [
                "### <a id=\"model\">Uploading models</a>\n",
                "\n",
                "When it comes to uploading models to the Openlayer platform, there are two options:\n",
                "\n",
                "- The first one is to upload a **shell model**. Shell models are the most straightforward way to get started. They are comprised of metadata and all of the analysis are done via its predictions (which are [uploaded with the datasets](#dataset)).\n",
                "- The second one is to upload a **full model**, with artifacts. When a full model is uploaded, it becomes available in the platform and it becomes possible to perform what-if analysis, use all the explainability techniques available, and perform a series of robustness assessments with it. "
            ]
        },
        {
            "cell_type": "markdown",
            "id": "aad7e082",
            "metadata": {},
            "source": [
                "#### <a id=\"shell\">Shell models</a>\n",
                "\n",
                "To upload a shell model, we only need to define its name, the architecture type, and add some metadata that will be rendered in the platform to help us identify it. This information should be saved to a `model_config.yaml` file.\n",
                "\n",
                "Let's create a `model_config.yaml` file for our model:"
            ]
        },
        {
            "cell_type": "code",
            "execution_count": null,
            "id": "865fb869",
            "metadata": {},
            "outputs": [],
            "source": [
                "import yaml\n",
                "\n",
                "model_config = {\n",
                "    \"name\": \"Sentiment analysis model\",\n",
                "    \"architectureType\": \"sklearn\",\n",
                "    \"metadata\": {  # Can add anything here, as long as it is a dict\n",
                "        \"model_type\": \"Logistic Regression\",\n",
                "        \"regularization\": \"None\",\n",
                "    },\n",
                "    \"classNames\": class_names,\n",
                "}\n",
                "\n",
                "with open(\"model_config.yaml\", \"w\") as model_config_file:\n",
                "    yaml.dump(model_config, model_config_file, default_flow_style=False)"
            ]
        },
        {
            "cell_type": "code",
            "execution_count": null,
            "id": "a3613129",
            "metadata": {},
            "outputs": [],
            "source": [
                "project.add_model(\n",
                "    model_config_file_path=\"model_config.yaml\",\n",
                ")"
            ]
        },
        {
            "cell_type": "markdown",
            "id": "729e2bb1",
            "metadata": {},
            "source": [
                "We can check that both datasets and model are staged using the `project.status()` method."
            ]
        },
        {
            "cell_type": "code",
            "execution_count": null,
            "id": "762619fe",
            "metadata": {},
            "outputs": [],
            "source": [
                "project.status()"
            ]
        },
        {
            "cell_type": "markdown",
            "id": "dcec5f35",
            "metadata": {},
            "source": [
                "Since in this example, we're interested in uploading a full model, let's unstage the shell model:"
            ]
        },
        {
            "cell_type": "code",
            "execution_count": null,
            "id": "b1796f6e",
            "metadata": {},
            "outputs": [],
            "source": [
                "project.restore(\"model\")"
            ]
        },
        {
            "cell_type": "markdown",
            "id": "ce39ff1e",
            "metadata": {},
            "source": [
                "#### <a id=\"full-model\"> Full models </a>\n",
                "\n",
                "To upload a full model to Openlayer, you will need to create a model package, which is nothing more than a folder with all the necessary information to run inference with the model. The package should include the following:\n",
                "1. A `requirements.txt` file listing the dependencies for the model.\n",
                "2. Serialized model files, such as model weights, encoders, etc., in a format specific to the framework used for training (e.g. `.pkl` for sklearn, `.pb` for TensorFlow, and so on.)\n",
                "3. A `prediction_interface.py` file that acts as a wrapper for the model and implements the `predict_proba` function. \n",
                "\n",
                "Other than the model package, a `model_config.yaml` file is needed, with information about the model to the Openlayer platform, such as the framework used, feature names, and categorical feature names.\n",
                "\n",
                "Lets prepare the model package one piece at a time"
            ]
        },
        {
            "cell_type": "code",
            "execution_count": null,
            "id": "9e501c46",
            "metadata": {},
            "outputs": [],
            "source": [
                "# Creating the model package folder (we'll call it `model_package`)\n",
                "!mkdir model_package"
            ]
        },
        {
            "cell_type": "markdown",
            "id": "c0f65e2e",
            "metadata": {},
            "source": [
                "**1. Adding the `requirements.txt` to the model package**"
            ]
        },
        {
            "cell_type": "code",
            "execution_count": null,
            "id": "772887d4",
            "metadata": {},
            "outputs": [],
            "source": [
                "!scp requirements.txt model_package"
            ]
        },
        {
            "cell_type": "markdown",
            "id": "81b7a767",
            "metadata": {},
            "source": [
                "**2. Serializing the model and other objects needed**"
            ]
        },
        {
            "cell_type": "code",
            "execution_count": null,
            "id": "02c65dde",
            "metadata": {},
            "outputs": [],
            "source": [
                "import pickle \n",
                "\n",
                "# Trained model pipeline\n",
                "with open('model_package/model.pkl', 'wb') as handle:\n",
                "    pickle.dump(sklearn_model, handle, protocol=pickle.HIGHEST_PROTOCOL)"
            ]
        },
        {
            "cell_type": "markdown",
            "id": "72c7d1a1",
            "metadata": {},
            "source": [
                "**3. Writing the `prediction_interface.py` file**"
            ]
        },
        {
            "cell_type": "code",
            "execution_count": null,
            "id": "51ae9723",
            "metadata": {},
            "outputs": [],
            "source": [
                "%%writefile model_package/prediction_interface.py\n",
                "\n",
                "import pickle\n",
                "from pathlib import Path\n",
                "\n",
                "import pandas as pd\n",
                "\n",
                "PACKAGE_PATH = Path(__file__).parent\n",
                "\n",
                "\n",
                "class SklearnModel:\n",
                "    def __init__(self):\n",
                "        \"\"\"This is where the serialized objects needed should\n",
                "        be loaded as class attributes.\"\"\"\n",
                "\n",
                "        with open(PACKAGE_PATH / \"model.pkl\", \"rb\") as model_file:\n",
                "            self.model = pickle.load(model_file)\n",
                "\n",
                "    def predict_proba(self, input_data_df: pd.DataFrame):\n",
                "        \"\"\"Makes predictions with the model. Returns the class probabilities.\"\"\"\n",
                "        text_column = input_data_df.columns[0]\n",
                "        return self.model.predict_proba(input_data_df[text_column])\n",
                "\n",
                "\n",
                "def load_model():\n",
                "    \"\"\"Function that returns the wrapped model object.\"\"\"\n",
                "    return SklearnModel()"
            ]
        },
        {
            "cell_type": "markdown",
            "id": "6a54b757",
            "metadata": {},
            "source": [
                "**Creating the `model_config.yaml`**"
            ]
        },
        {
            "cell_type": "code",
            "execution_count": null,
            "id": "67bb695f",
            "metadata": {},
            "outputs": [],
            "source": [
                "import yaml \n",
                "\n",
                "model_config = {\n",
                "    \"name\": \"Sentiment analysis model\",\n",
                "    \"architectureType\": \"sklearn\",\n",
                "    \"classNames\": class_names,\n",
                "}\n",
                "\n",
                "with open('model_config.yaml', 'w') as model_config_file:\n",
                "    yaml.dump(model_config, model_config_file, default_flow_style=False)"
            ]
        },
        {
            "cell_type": "markdown",
            "id": "1605e31b",
            "metadata": {},
            "source": [
                "Lets check that the model package contains everything needed:"
            ]
        },
        {
            "cell_type": "code",
            "execution_count": null,
            "id": "maritime-writing",
            "metadata": {},
            "outputs": [],
            "source": [
                "from openlayer.validators import model_validators\n",
                "\n",
                "model_validator = model_validators.ModelValidator(\n",
                "    model_package_dir=\"model_package\",\n",
                "    model_config_file_path=\"model_config.yaml\",\n",
                "    sample_data = df_val[[\"text\"]].iloc[:10, :]\n",
                ")\n",
                "model_validator.validate()"
            ]
        },
        {
            "cell_type": "markdown",
            "id": "727a7554",
            "metadata": {},
            "source": [
                "Now, we are ready to add the model:"
            ]
        },
        {
            "cell_type": "code",
            "execution_count": null,
            "id": "0341d66f",
            "metadata": {},
            "outputs": [],
            "source": [
                "project.add_model(\n",
                "    model_package_dir=\"model_package\",\n",
                "    model_config_file_path=\"model_config.yaml\",\n",
                "    sample_data=df_val[[\"text\"]].iloc[:10, :]\n",
                ")"
            ]
        },
        {
            "cell_type": "markdown",
            "id": "2756c33f",
            "metadata": {},
            "source": [
                "We can check that both datasets and model are staged using the `project.status()` method."
            ]
        },
        {
            "cell_type": "code",
            "execution_count": null,
            "id": "8cddbb49",
            "metadata": {},
            "outputs": [],
            "source": [
                "project.status()"
            ]
        },
        {
            "cell_type": "markdown",
            "id": "bdfc2577",
            "metadata": {},
            "source": [
                "### <a id=\"commit\"> Committing and pushing to the platform </a>\n",
                "\n",
                "Finally, we can commit the first project version to the platform. "
            ]
        },
        {
            "cell_type": "code",
            "execution_count": null,
            "id": "cea48e23",
            "metadata": {},
            "outputs": [],
            "source": [
                "project.commit(\"Initial commit!\")"
            ]
        },
        {
            "cell_type": "code",
            "execution_count": null,
            "id": "4ac9642d",
            "metadata": {},
            "outputs": [],
            "source": [
                "project.status()"
            ]
        },
        {
            "cell_type": "code",
            "execution_count": null,
            "id": "8c3e6527",
            "metadata": {},
            "outputs": [],
            "source": [
                "project.push()"
            ]
        },
        {
            "cell_type": "code",
            "execution_count": null,
            "id": "85b35d8f",
            "metadata": {},
            "outputs": [],
            "source": []
        }
    ],
    "metadata": {
        "kernelspec": {
            "display_name": "Python 3 (ipykernel)",
            "language": "python",
            "name": "python3"
        },
        "language_info": {
            "codemirror_mode": {
                "name": "ipython",
                "version": 3
            },
            "file_extension": ".py",
            "mimetype": "text/x-python",
            "name": "python",
            "nbconvert_exporter": "python",
            "pygments_lexer": "ipython3",
            "version": "3.8.13"
        }
    },
    "nbformat": 4,
    "nbformat_minor": 5
}