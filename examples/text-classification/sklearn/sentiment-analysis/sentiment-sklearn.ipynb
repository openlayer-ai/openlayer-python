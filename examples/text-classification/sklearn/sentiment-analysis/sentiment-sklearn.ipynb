{
 "cells": [
  {
   "cell_type": "markdown",
   "id": "55acdad9",
   "metadata": {},
   "source": [
    "[![Open In Colab](https://colab.research.google.com/assets/colab-badge.svg)](https://colab.research.google.com/github/unboxai/examples-gallery/blob/main/text-classification/sentiment-sklearn.ipynb)\n",
    "\n",
    "\n",
    "# Sentiment analysis using sklearn\n",
    "\n",
    "This notebook illustrates how sklearn models can be upladed to the Unbox platform."
   ]
  },
  {
   "cell_type": "markdown",
   "id": "a7e0e018",
   "metadata": {},
   "source": [
    "## Importing the modules and loading the dataset"
   ]
  },
  {
   "cell_type": "code",
   "execution_count": 1,
   "id": "atlantic-norway",
   "metadata": {},
   "outputs": [],
   "source": [
    "import numpy as np\n",
    "import pandas as pd\n",
    "\n",
    "from sklearn.feature_extraction.text import CountVectorizer\n",
    "from sklearn.linear_model import LogisticRegression\n",
    "from sklearn.metrics import classification_report\n",
    "from sklearn.pipeline import Pipeline"
   ]
  },
  {
   "cell_type": "code",
   "execution_count": 3,
   "id": "precise-vatican",
   "metadata": {},
   "outputs": [
    {
     "name": "stderr",
     "output_type": "stream",
     "text": [
      "  % Total    % Received % Xferd  Average Speed   Time    Time     Time  Current\n",
      "                                 Dload  Upload   Total   Spent    Left  Speed\n",
      "  0     0    0     0    0     0      0      0 --:--:-- --:--:-- --:--:--     0curl: (6) Could not resolve host: .\n",
      "  % Total    % Received % Xferd  Average Speed   Time    Time     Time  Current\n",
      "                                 Dload  Upload   Total   Spent    Left  Speed\n",
      "  0     0    0     0    0     0      0      0 --:--:--  0:01:15 --:--:--     0\n",
      "curl: (28) Failed to connect to cs.stanford.edu port 80: Operation timed out\n",
      "unzip:  cannot find or open ./data/trainingandtestdata.zip, ./data/trainingandtestdata.zip.zip or ./data/trainingandtestdata.zip.ZIP.\n"
     ]
    },
    {
     "ename": "CalledProcessError",
     "evalue": "Command 'b'\\nif [ ! -d ./data ]; then\\n    mkdir ./data\\nfi\\n\\nif [ ! -f ./data/trainingandtestdata.zip ]; then\\n    curl -q -O ./data/trainingandtestdata.zip http://cs.stanford.edu/people/alecmgo/trainingandtestdata.zip\\nfi\\n\\nunzip -n ./data/trainingandtestdata.zip -d ./data\\n'' returned non-zero exit status 9.",
     "output_type": "error",
     "traceback": [
      "\u001b[0;31m---------------------------------------------------------------------------\u001b[0m",
      "\u001b[0;31mCalledProcessError\u001b[0m                        Traceback (most recent call last)",
      "Input \u001b[0;32mIn [3]\u001b[0m, in \u001b[0;36m<cell line: 1>\u001b[0;34m()\u001b[0m\n\u001b[0;32m----> 1\u001b[0m \u001b[43mget_ipython\u001b[49m\u001b[43m(\u001b[49m\u001b[43m)\u001b[49m\u001b[38;5;241;43m.\u001b[39;49m\u001b[43mrun_cell_magic\u001b[49m\u001b[43m(\u001b[49m\u001b[38;5;124;43m'\u001b[39;49m\u001b[38;5;124;43mbash\u001b[39;49m\u001b[38;5;124;43m'\u001b[39;49m\u001b[43m,\u001b[49m\u001b[43m \u001b[49m\u001b[38;5;124;43m'\u001b[39;49m\u001b[38;5;124;43m'\u001b[39;49m\u001b[43m,\u001b[49m\u001b[43m \u001b[49m\u001b[38;5;124;43m'\u001b[39;49m\u001b[38;5;130;43;01m\\n\u001b[39;49;00m\u001b[38;5;124;43mif [ ! -d ./data ]; then\u001b[39;49m\u001b[38;5;130;43;01m\\n\u001b[39;49;00m\u001b[38;5;124;43m    mkdir ./data\u001b[39;49m\u001b[38;5;130;43;01m\\n\u001b[39;49;00m\u001b[38;5;124;43mfi\u001b[39;49m\u001b[38;5;130;43;01m\\n\u001b[39;49;00m\u001b[38;5;130;43;01m\\n\u001b[39;49;00m\u001b[38;5;124;43mif [ ! -f ./data/trainingandtestdata.zip ]; then\u001b[39;49m\u001b[38;5;130;43;01m\\n\u001b[39;49;00m\u001b[38;5;124;43m    curl -q -O ./data/trainingandtestdata.zip http://cs.stanford.edu/people/alecmgo/trainingandtestdata.zip\u001b[39;49m\u001b[38;5;130;43;01m\\n\u001b[39;49;00m\u001b[38;5;124;43mfi\u001b[39;49m\u001b[38;5;130;43;01m\\n\u001b[39;49;00m\u001b[38;5;130;43;01m\\n\u001b[39;49;00m\u001b[38;5;124;43munzip -n ./data/trainingandtestdata.zip -d ./data\u001b[39;49m\u001b[38;5;130;43;01m\\n\u001b[39;49;00m\u001b[38;5;124;43m'\u001b[39;49m\u001b[43m)\u001b[49m\n",
      "File \u001b[0;32m~/miniconda3/envs/unbox-examples/lib/python3.8/site-packages/IPython/core/interactiveshell.py:2358\u001b[0m, in \u001b[0;36mInteractiveShell.run_cell_magic\u001b[0;34m(self, magic_name, line, cell)\u001b[0m\n\u001b[1;32m   2356\u001b[0m \u001b[38;5;28;01mwith\u001b[39;00m \u001b[38;5;28mself\u001b[39m\u001b[38;5;241m.\u001b[39mbuiltin_trap:\n\u001b[1;32m   2357\u001b[0m     args \u001b[38;5;241m=\u001b[39m (magic_arg_s, cell)\n\u001b[0;32m-> 2358\u001b[0m     result \u001b[38;5;241m=\u001b[39m \u001b[43mfn\u001b[49m\u001b[43m(\u001b[49m\u001b[38;5;241;43m*\u001b[39;49m\u001b[43margs\u001b[49m\u001b[43m,\u001b[49m\u001b[43m \u001b[49m\u001b[38;5;241;43m*\u001b[39;49m\u001b[38;5;241;43m*\u001b[39;49m\u001b[43mkwargs\u001b[49m\u001b[43m)\u001b[49m\n\u001b[1;32m   2359\u001b[0m \u001b[38;5;28;01mreturn\u001b[39;00m result\n",
      "File \u001b[0;32m~/miniconda3/envs/unbox-examples/lib/python3.8/site-packages/IPython/core/magics/script.py:153\u001b[0m, in \u001b[0;36mScriptMagics._make_script_magic.<locals>.named_script_magic\u001b[0;34m(line, cell)\u001b[0m\n\u001b[1;32m    151\u001b[0m \u001b[38;5;28;01melse\u001b[39;00m:\n\u001b[1;32m    152\u001b[0m     line \u001b[38;5;241m=\u001b[39m script\n\u001b[0;32m--> 153\u001b[0m \u001b[38;5;28;01mreturn\u001b[39;00m \u001b[38;5;28;43mself\u001b[39;49m\u001b[38;5;241;43m.\u001b[39;49m\u001b[43mshebang\u001b[49m\u001b[43m(\u001b[49m\u001b[43mline\u001b[49m\u001b[43m,\u001b[49m\u001b[43m \u001b[49m\u001b[43mcell\u001b[49m\u001b[43m)\u001b[49m\n",
      "File \u001b[0;32m~/miniconda3/envs/unbox-examples/lib/python3.8/site-packages/IPython/core/magics/script.py:305\u001b[0m, in \u001b[0;36mScriptMagics.shebang\u001b[0;34m(self, line, cell)\u001b[0m\n\u001b[1;32m    300\u001b[0m \u001b[38;5;28;01mif\u001b[39;00m args\u001b[38;5;241m.\u001b[39mraise_error \u001b[38;5;129;01mand\u001b[39;00m p\u001b[38;5;241m.\u001b[39mreturncode \u001b[38;5;241m!=\u001b[39m \u001b[38;5;241m0\u001b[39m:\n\u001b[1;32m    301\u001b[0m     \u001b[38;5;66;03m# If we get here and p.returncode is still None, we must have\u001b[39;00m\n\u001b[1;32m    302\u001b[0m     \u001b[38;5;66;03m# killed it but not yet seen its return code. We don't wait for it,\u001b[39;00m\n\u001b[1;32m    303\u001b[0m     \u001b[38;5;66;03m# in case it's stuck in uninterruptible sleep. -9 = SIGKILL\u001b[39;00m\n\u001b[1;32m    304\u001b[0m     rc \u001b[38;5;241m=\u001b[39m p\u001b[38;5;241m.\u001b[39mreturncode \u001b[38;5;129;01mor\u001b[39;00m \u001b[38;5;241m-\u001b[39m\u001b[38;5;241m9\u001b[39m\n\u001b[0;32m--> 305\u001b[0m     \u001b[38;5;28;01mraise\u001b[39;00m CalledProcessError(rc, cell)\n",
      "\u001b[0;31mCalledProcessError\u001b[0m: Command 'b'\\nif [ ! -d ./data ]; then\\n    mkdir ./data\\nfi\\n\\nif [ ! -f ./data/trainingandtestdata.zip ]; then\\n    curl -q -O ./data/trainingandtestdata.zip http://cs.stanford.edu/people/alecmgo/trainingandtestdata.zip\\nfi\\n\\nunzip -n ./data/trainingandtestdata.zip -d ./data\\n'' returned non-zero exit status 9."
     ]
    }
   ],
   "source": [
    "%%bash\n",
    "\n",
    "if [ ! -d ./data ]; then\n",
    "    mkdir ./data\n",
    "fi\n",
    "\n",
    "if [ ! -f ./data/trainingandtestdata.zip ]; then\n",
    "    curl -q -O ./data/trainingandtestdata.zip http://cs.stanford.edu/people/alecmgo/trainingandtestdata.zip\n",
    "fi\n",
    "\n",
    "unzip -n ./data/trainingandtestdata.zip -d ./data"
   ]
  },
  {
   "cell_type": "code",
   "execution_count": 4,
   "id": "incomplete-nirvana",
   "metadata": {},
   "outputs": [],
   "source": [
    "columns = ['polarity', 'tweetid', 'date', 'query_name', 'user', 'text']\n",
    "df_train_file_path = './data/training.1600000.processed.noemoticon.csv'\n",
    "df_train_name = 'training.1600000.processed.noemoticon'\n",
    "df_train = pd.read_csv(df_train_file_path,\n",
    "                      header=None,\n",
    "                      encoding='ISO-8859-1')\n",
    "\n",
    "df_test_file_path = './data/testdata.manual.2009.06.14.csv'\n",
    "df_test_name = 'testdata.manual.2009.06.14'\n",
    "df_test = pd.read_csv(df_test_file_path,\n",
    "                     header=None,\n",
    "                     encoding='ISO-8859-1')\n",
    "df_train.columns = columns\n",
    "df_test.columns = columns"
   ]
  },
  {
   "cell_type": "markdown",
   "id": "b012a4f1",
   "metadata": {},
   "source": [
    "## Training and evaluating the model's performance"
   ]
  },
  {
   "cell_type": "code",
   "execution_count": 5,
   "id": "multiple-disability",
   "metadata": {},
   "outputs": [
    {
     "name": "stderr",
     "output_type": "stream",
     "text": [
      "/Users/gustavocid/miniconda3/envs/unbox-examples/lib/python3.8/site-packages/sklearn/linear_model/_logistic.py:763: ConvergenceWarning: lbfgs failed to converge (status=1):\n",
      "STOP: TOTAL NO. of ITERATIONS REACHED LIMIT.\n",
      "\n",
      "Increase the number of iterations (max_iter) or scale the data as shown in:\n",
      "    https://scikit-learn.org/stable/modules/preprocessing.html\n",
      "Please also refer to the documentation for alternative solver options:\n",
      "    https://scikit-learn.org/stable/modules/linear_model.html#logistic-regression\n",
      "  n_iter_i = _check_optimize_result(\n"
     ]
    },
    {
     "data": {
      "text/plain": [
       "Pipeline(steps=[('count_vect',\n",
       "                 CountVectorizer(min_df=100, ngram_range=(1, 2),\n",
       "                                 stop_words='english')),\n",
       "                ('lr', LogisticRegression())])"
      ]
     },
     "execution_count": 5,
     "metadata": {},
     "output_type": "execute_result"
    }
   ],
   "source": [
    "sklearn_model = Pipeline([(\"count_vect\", \n",
    "                           CountVectorizer(min_df=100, \n",
    "                                           ngram_range=(1, 2), \n",
    "                                           stop_words=\"english\"),),\n",
    "                          (\"lr\", LogisticRegression()),])\n",
    "sklearn_model.fit(df_train.text, df_train.polarity)"
   ]
  },
  {
   "cell_type": "code",
   "execution_count": 7,
   "id": "ae4d857e",
   "metadata": {},
   "outputs": [
    {
     "name": "stdout",
     "output_type": "stream",
     "text": [
      "              precision    recall  f1-score   support\n",
      "\n",
      "           0       0.75      0.82      0.78       177\n",
      "           2       0.00      0.00      0.00       139\n",
      "           4       0.52      0.88      0.66       182\n",
      "\n",
      "    accuracy                           0.61       498\n",
      "   macro avg       0.43      0.57      0.48       498\n",
      "weighted avg       0.46      0.61      0.52       498\n",
      "\n"
     ]
    },
    {
     "name": "stderr",
     "output_type": "stream",
     "text": [
      "/Users/gustavocid/miniconda3/envs/unbox-examples/lib/python3.8/site-packages/sklearn/metrics/_classification.py:1248: UndefinedMetricWarning: Precision and F-score are ill-defined and being set to 0.0 in labels with no predicted samples. Use `zero_division` parameter to control this behavior.\n",
      "  _warn_prf(average, modifier, msg_start, len(result))\n",
      "/Users/gustavocid/miniconda3/envs/unbox-examples/lib/python3.8/site-packages/sklearn/metrics/_classification.py:1248: UndefinedMetricWarning: Precision and F-score are ill-defined and being set to 0.0 in labels with no predicted samples. Use `zero_division` parameter to control this behavior.\n",
      "  _warn_prf(average, modifier, msg_start, len(result))\n",
      "/Users/gustavocid/miniconda3/envs/unbox-examples/lib/python3.8/site-packages/sklearn/metrics/_classification.py:1248: UndefinedMetricWarning: Precision and F-score are ill-defined and being set to 0.0 in labels with no predicted samples. Use `zero_division` parameter to control this behavior.\n",
      "  _warn_prf(average, modifier, msg_start, len(result))\n"
     ]
    }
   ],
   "source": [
    "x_test, y_test = df_test.text, df_test.polarity\n",
    "print(classification_report(y_test, sklearn_model.predict(x_test)))"
   ]
  },
  {
   "cell_type": "markdown",
   "id": "9193bec1",
   "metadata": {},
   "source": [
    "## Unbox part!\n",
    "\n",
    "### Instantiating the client"
   ]
  },
  {
   "cell_type": "code",
   "execution_count": 8,
   "id": "medium-field",
   "metadata": {},
   "outputs": [],
   "source": [
    "import unboxapi\n",
    "\n",
    "client = unboxapi.UnboxClient(\"8c14712a-2901-4e6d-a2c4-452ff3659726\")"
   ]
  },
  {
   "cell_type": "markdown",
   "id": "4ae672f2",
   "metadata": {},
   "source": [
    "### Creating a project on the platform"
   ]
  },
  {
   "cell_type": "code",
   "execution_count": 9,
   "id": "750132b8",
   "metadata": {},
   "outputs": [
    {
     "name": "stdout",
     "output_type": "stream",
     "text": [
      "Creating project on Unbox! Check out https://unbox.ai/projects to have a look!\n"
     ]
    }
   ],
   "source": [
    "project = client.create_project(name=\"Sentiment Analysis\",\n",
    "                                description=\"Sklearn Sentiment Analysis with Unbox\")"
   ]
  },
  {
   "cell_type": "markdown",
   "id": "6fdb6823",
   "metadata": {},
   "source": [
    "### Uploading the validation set"
   ]
  },
  {
   "cell_type": "code",
   "execution_count": 13,
   "id": "digital-covering",
   "metadata": {},
   "outputs": [],
   "source": [
    "import random\n",
    "\n",
    "# Remove 'neutral' since it isn't in training dataset\n",
    "df_test['polarity'] = df_test['polarity'].replace(2, random.choice([0, 4]))\n",
    "# Make labels monotonically increasing [0,1]\n",
    "df_test['polarity'] = df_test['polarity'].replace(4, 1)\n",
    "df_train['polarity'] = df_train['polarity'].replace(4, 1)"
   ]
  },
  {
   "cell_type": "code",
   "execution_count": 14,
   "id": "corporate-azerbaijan",
   "metadata": {},
   "outputs": [
    {
     "name": "stdout",
     "output_type": "stream",
     "text": [
      "Uploading dataset to Unbox! Check out https://unbox.ai/datasets to have a look!\n"
     ]
    }
   ],
   "source": [
    "from unboxapi.tasks import TaskType\n",
    "\n",
    "dataset = project.add_dataframe(\n",
    "    df=df_test,\n",
    "    class_names=['negative', 'positive'],\n",
    "    label_column_name='polarity',\n",
    "    text_column_name='text',\n",
    "    name=df_test_name,\n",
    "    description='this is my sentiment test dataset',\n",
    "    task_type=TaskType.TextClassification\n",
    ")"
   ]
  },
  {
   "cell_type": "markdown",
   "id": "ce39ff1e",
   "metadata": {},
   "source": [
    "### Uploading the model\n",
    "\n",
    "First, it is important to create a `predict_proba` function, which is how Unbox interacts with your model"
   ]
  },
  {
   "cell_type": "code",
   "execution_count": 15,
   "id": "maritime-writing",
   "metadata": {},
   "outputs": [],
   "source": [
    "def predict_proba(model, text_list):\n",
    "    return model.predict_proba(text_list)"
   ]
  },
  {
   "cell_type": "markdown",
   "id": "876cd559",
   "metadata": {},
   "source": [
    "Let's test the `predict_proba` function to make sure the input-output format is consistent with what Unbox expects:"
   ]
  },
  {
   "cell_type": "code",
   "execution_count": 17,
   "id": "bored-treasury",
   "metadata": {},
   "outputs": [
    {
     "data": {
      "text/plain": [
       "array([[0.30857194, 0.69142806],\n",
       "       [0.71900947, 0.28099053]])"
      ]
     },
     "execution_count": 17,
     "metadata": {},
     "output_type": "execute_result"
    }
   ],
   "source": [
    "predict_proba(sklearn_model, ['good', 'bad'])"
   ]
  },
  {
   "cell_type": "markdown",
   "id": "93f49c9a",
   "metadata": {},
   "source": [
    "Now, we can upload the model:"
   ]
  },
  {
   "cell_type": "code",
   "execution_count": 20,
   "id": "present-seating",
   "metadata": {
    "scrolled": true
   },
   "outputs": [
    {
     "name": "stdout",
     "output_type": "stream",
     "text": [
      "Bundling model and artifacts...\n",
      "Uploading model to Unbox! Check out https://unbox.ai/models to have a look!\n"
     ]
    },
    {
     "name": "stderr",
     "output_type": "stream",
     "text": [
      "/Users/gustavocid/Desktop/unbox-repos/unboxapi-python-client/unboxapi/api.py:58: DeprecationWarning: Using 'method_whitelist' with Retry is deprecated and will be removed in v2.0. Use 'allowed_methods' instead\n",
      "  retry_strategy = Retry(\n"
     ]
    }
   ],
   "source": [
    "from unboxapi.models import ModelType\n",
    "\n",
    "model = project.add_model(\n",
    "    function=predict_proba, \n",
    "    model=sklearn_model,\n",
    "    model_type=ModelType.sklearn,\n",
    "    class_names=['negative', 'positive'],\n",
    "    name='05.15.2021.sentiment_analyzer',\n",
    "    description='this is my sklearn sentiment model',\n",
    "    task_type=TaskType.TextClassification\n",
    ")"
   ]
  }
 ],
 "metadata": {
  "kernelspec": {
   "display_name": "Python 3 (ipykernel)",
   "language": "python",
   "name": "python3"
  },
  "language_info": {
   "codemirror_mode": {
    "name": "ipython",
    "version": 3
   },
   "file_extension": ".py",
   "mimetype": "text/x-python",
   "name": "python",
   "nbconvert_exporter": "python",
   "pygments_lexer": "ipython3",
   "version": "3.8.13"
  }
 },
 "nbformat": 4,
 "nbformat_minor": 5
}
