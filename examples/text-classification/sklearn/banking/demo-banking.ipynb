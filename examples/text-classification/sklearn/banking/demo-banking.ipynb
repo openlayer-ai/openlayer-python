{
 "cells": [
  {
   "cell_type": "markdown",
   "id": "1234aad0",
   "metadata": {},
   "source": [
    "[![Open In Colab](https://colab.research.google.com/assets/colab-badge.svg)](https://colab.research.google.com/github/openlayer-ai/examples-gallery/blob/main/text-classification/sklearn/banking/demo-banking.ipynb)\n",
    "\n",
    "\n",
    "# Banking chatbot using sklearn\n",
    "\n",
    "This notebook illustrates how sklearn models can be upladed to the Openlayer platform."
   ]
  },
  {
   "cell_type": "code",
   "execution_count": null,
   "id": "200cb601",
   "metadata": {},
   "outputs": [],
   "source": [
    "%%bash\n",
    "\n",
    "if [ ! -e \"requirements.txt\" ]; then\n",
    "    curl \"https://raw.githubusercontent.com/openlayer-ai/examples-gallery/main/text-classification/sklearn/banking/requirements.txt\" --output \"requirements.txt\"\n",
    "fi"
   ]
  },
  {
   "cell_type": "code",
   "execution_count": null,
   "id": "82eff65e",
   "metadata": {},
   "outputs": [],
   "source": [
    "!pip install -r requirements.txt"
   ]
  },
  {
   "cell_type": "markdown",
   "id": "feb4bd86",
   "metadata": {},
   "source": [
    "## Importing the modules and loading the dataset"
   ]
  },
  {
   "cell_type": "code",
   "execution_count": null,
   "id": "545c0a4b",
   "metadata": {},
   "outputs": [],
   "source": [
    "import numpy as np\n",
    "import pandas as pd\n",
    "\n",
    "from sklearn.feature_extraction.text import CountVectorizer\n",
    "from sklearn.linear_model import LogisticRegression\n",
    "from sklearn.metrics import classification_report\n",
    "from sklearn.pipeline import Pipeline"
   ]
  },
  {
   "cell_type": "markdown",
   "id": "efa0d201",
   "metadata": {},
   "source": [
    "We have stored the dataset on the following S3 bucket. If, for some reason, you get an error reading the csv directly from it, feel free to copy and paste the URL in your browser and download the csv file. Alternatively, you can also find the dataset on [HuggingFace](https://huggingface.co/datasets/banking77)."
   ]
  },
  {
   "cell_type": "code",
   "execution_count": null,
   "id": "3e6242e6",
   "metadata": {},
   "outputs": [],
   "source": [
    "DATASET_URL = \"https://openlayer-static-assets.s3.us-west-2.amazonaws.com/examples-datasets/text-classification/banking.csv\""
   ]
  },
  {
   "cell_type": "code",
   "execution_count": null,
   "id": "db986ed2",
   "metadata": {},
   "outputs": [],
   "source": [
    "data = pd.read_csv(DATASET_URL)\n",
    "data.head()"
   ]
  },
  {
   "cell_type": "code",
   "execution_count": null,
   "id": "510b5080",
   "metadata": {},
   "outputs": [],
   "source": [
    "data['category'] = data['category'].astype('category')\n",
    "data['label_code'] = data['category'].cat.codes"
   ]
  },
  {
   "cell_type": "markdown",
   "id": "c1d949aa",
   "metadata": {},
   "source": [
    "## Splitting the data into training and validation sets"
   ]
  },
  {
   "cell_type": "code",
   "execution_count": null,
   "id": "9bf7586c",
   "metadata": {},
   "outputs": [],
   "source": [
    "# shuffling the data\n",
    "data = data.sample(frac=1, random_state=42)  \n",
    "\n",
    "training_set = data[:7000]\n",
    "validation_set = data[7000:]"
   ]
  },
  {
   "cell_type": "markdown",
   "id": "59cd2b2f",
   "metadata": {},
   "source": [
    "## Training and evaluating the model's performance"
   ]
  },
  {
   "cell_type": "code",
   "execution_count": null,
   "id": "28faab79",
   "metadata": {},
   "outputs": [],
   "source": [
    "sklearn_model = Pipeline([('count_vect', CountVectorizer(ngram_range=(1,2), stop_words='english')), \n",
    "                          ('lr', LogisticRegression(random_state=42))])\n",
    "sklearn_model.fit(training_set['text'], training_set['label_code'])"
   ]
  },
  {
   "cell_type": "code",
   "execution_count": null,
   "id": "0d05ad47",
   "metadata": {},
   "outputs": [],
   "source": [
    "print(classification_report(validation_set['label_code'], sklearn_model.predict(validation_set['text'])))"
   ]
  },
  {
   "cell_type": "markdown",
   "id": "d84ab86a",
   "metadata": {},
   "source": [
    "## Openlayer part!\n",
    "\n",
    "### pip installing openlayer"
   ]
  },
  {
   "cell_type": "code",
   "execution_count": null,
   "id": "4868a2bd",
   "metadata": {},
   "outputs": [],
   "source": [
    "!pip install openlayer"
   ]
  },
  {
   "cell_type": "markdown",
   "id": "f0be09cf",
   "metadata": {},
   "source": [
    "### Instantiating the client"
   ]
  },
  {
   "cell_type": "code",
   "execution_count": null,
   "id": "4d2cb0e4",
   "metadata": {},
   "outputs": [],
   "source": [
    "import openlayer\n",
    "\n",
    "client = openlayer.OpenlayerClient(\"YOUR_API_KEY_HERE\")"
   ]
  },
  {
   "cell_type": "markdown",
   "id": "4b10f758",
   "metadata": {},
   "source": [
    "### Creating a project on the platform"
   ]
  },
  {
   "cell_type": "code",
   "execution_count": null,
   "id": "c1dfaa53",
   "metadata": {},
   "outputs": [],
   "source": [
    "from openlayer.tasks import TaskType\n",
    "\n",
    "project = client.create_or_load_project(name=\"Banking Project\",\n",
    "                                        task_type=TaskType.TextClassification,\n",
    "                                        description=\"Evaluating ML approaches for a chatbot\")"
   ]
  },
  {
   "cell_type": "markdown",
   "id": "62b0badf",
   "metadata": {},
   "source": [
    "### Uploading the validation set"
   ]
  },
  {
   "cell_type": "code",
   "execution_count": null,
   "id": "68cbc63b",
   "metadata": {},
   "outputs": [],
   "source": [
    "# Getting the label list\n",
    "label_dict = dict(zip(data.category.cat.codes, data.category))\n",
    "\n",
    "label_list = [None] * len(label_dict)\n",
    "for index, label in label_dict.items():\n",
    "    label_list[index] = label"
   ]
  },
  {
   "cell_type": "code",
   "execution_count": null,
   "id": "embedded-assurance",
   "metadata": {},
   "outputs": [],
   "source": [
    "from openlayer.tasks import TaskType\n",
    "\n",
    "dataset = project.add_dataframe(\n",
    "    df=validation_set,\n",
    "    class_names=label_list,\n",
    "    label_column_name=\"label_code\",\n",
    "    text_column_name=\"text\",\n",
    "    commit_message=\"First commit!\"\n",
    ")"
   ]
  },
  {
   "cell_type": "markdown",
   "id": "44040f57",
   "metadata": {},
   "source": [
    "### Uploading the model\n",
    "\n",
    "First, it is important to create a `predict_proba` function, which is how Openlayer interacts with your model"
   ]
  },
  {
   "cell_type": "code",
   "execution_count": null,
   "id": "registered-grocery",
   "metadata": {},
   "outputs": [],
   "source": [
    "def predict_proba(model, text_list):\n",
    "    return model.predict_proba(text_list)"
   ]
  },
  {
   "cell_type": "markdown",
   "id": "e97b00c9",
   "metadata": {},
   "source": [
    "Let's test the `predict_proba` function to make sure the input-output format is consistent with what Openlayer expects:"
   ]
  },
  {
   "cell_type": "code",
   "execution_count": null,
   "id": "african-rwanda",
   "metadata": {},
   "outputs": [],
   "source": [
    "texts = ['some new text, sweet noodles', 'where is my card?', 'sad day']\n",
    "\n",
    "predict_proba(sklearn_model, texts)"
   ]
  },
  {
   "cell_type": "markdown",
   "id": "880a85f4",
   "metadata": {},
   "source": [
    "Now, we can upload the model:"
   ]
  },
  {
   "cell_type": "code",
   "execution_count": null,
   "id": "956b40f7",
   "metadata": {},
   "outputs": [],
   "source": [
    "from openlayer.models import ModelType\n",
    "\n",
    "model = project.add_model(\n",
    "    function=predict_proba, \n",
    "    model=sklearn_model,\n",
    "    model_type=ModelType.sklearn,\n",
    "    class_names=label_list,\n",
    "    name='Banking Model',\n",
    "    commit_message='First commit!',\n",
    "    requirements_txt_file='requirements.txt'\n",
    ")"
   ]
  }
 ],
 "metadata": {
  "kernelspec": {
   "display_name": "Python 3 (ipykernel)",
   "language": "python",
   "name": "python3"
  },
  "language_info": {
   "codemirror_mode": {
    "name": "ipython",
    "version": 3
   },
   "file_extension": ".py",
   "mimetype": "text/x-python",
   "name": "python",
   "nbconvert_exporter": "python",
   "pygments_lexer": "ipython3",
   "version": "3.8.10"
  }
 },
 "nbformat": 4,
 "nbformat_minor": 5
}
