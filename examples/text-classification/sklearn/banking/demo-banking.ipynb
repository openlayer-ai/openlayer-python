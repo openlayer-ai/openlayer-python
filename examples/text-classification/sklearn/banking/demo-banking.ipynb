{
 "cells": [
  {
   "cell_type": "markdown",
   "id": "flush-triumph",
   "metadata": {},
   "source": [
    "# IMPORT"
   ]
  },
  {
   "cell_type": "code",
   "execution_count": null,
   "id": "female-creativity",
   "metadata": {},
   "outputs": [],
   "source": [
    "import tempfile\n",
    "import numpy as np\n",
    "import pandas as pd\n",
    "from sklearn.feature_extraction.text import CountVectorizer\n",
    "from sklearn.linear_model import LogisticRegression\n",
    "from sklearn.metrics import classification_report, roc_auc_score, roc_curve\n",
    "from sklearn.pipeline import Pipeline"
   ]
  },
  {
   "cell_type": "markdown",
   "id": "fossil-press",
   "metadata": {},
   "source": [
    "# LOAD DATA, TRAIN MODEL"
   ]
  },
  {
   "cell_type": "code",
   "execution_count": null,
   "id": "defined-interview",
   "metadata": {},
   "outputs": [],
   "source": [
    "df = pd.read_csv(\"./training.csv\")\n",
    "df = df.sample(frac=1)"
   ]
  },
  {
   "cell_type": "code",
   "execution_count": null,
   "id": "collective-headline",
   "metadata": {},
   "outputs": [],
   "source": [
    "df[\"category\"] = df.category.astype('category')\n",
    "df[\"label_code\"] = df.category.cat.codes"
   ]
  },
  {
   "cell_type": "code",
   "execution_count": null,
   "id": "acquired-rwanda",
   "metadata": {},
   "outputs": [],
   "source": [
    "label_dict = dict(zip(df.category.cat.codes, df.category))\n",
    "\n",
    "label_list = [None] * len(label_dict)\n",
    "for index, label in label_dict.items():\n",
    "    label_list[index] = label"
   ]
  },
  {
   "cell_type": "code",
   "execution_count": null,
   "id": "early-curve",
   "metadata": {},
   "outputs": [],
   "source": [
    "df_train = df[:7000]\n",
    "df_test = df[7000:]"
   ]
  },
  {
   "cell_type": "code",
   "execution_count": null,
   "id": "adverse-colombia",
   "metadata": {},
   "outputs": [],
   "source": [
    "df_train"
   ]
  },
  {
   "cell_type": "code",
   "execution_count": null,
   "id": "spanish-midnight",
   "metadata": {},
   "outputs": [],
   "source": [
    "model = Pipeline([\n",
    "                         ('count_vect', CountVectorizer(ngram_range=(1,2),\n",
    "                                                        stop_words='english')), \n",
    "                         ('lr', LogisticRegression())])\n",
    "model.fit(df_train.text, df_train.label_code)"
   ]
  },
  {
   "cell_type": "code",
   "execution_count": null,
   "id": "documentary-guard",
   "metadata": {},
   "outputs": [],
   "source": [
    "x_test, y_test = df_test.text, df_test.label_code\n",
    "print(classification_report(y_test, model.predict(x_test)))"
   ]
  },
  {
   "cell_type": "code",
   "execution_count": null,
   "id": "external-concert",
   "metadata": {},
   "outputs": [],
   "source": [
    "model.predict(['good', 'bad'])"
   ]
  },
  {
   "cell_type": "markdown",
   "id": "selected-portsmouth",
   "metadata": {},
   "source": [
    "# UNBOX"
   ]
  },
  {
   "cell_type": "code",
   "execution_count": null,
   "id": "beautiful-psychiatry",
   "metadata": {},
   "outputs": [],
   "source": [
    "import unboxapi\n",
    "from unboxapi.models import ModelType\n",
    "from unboxapi.tasks import TaskType\n",
    "\n",
    "client = unboxapi.UnboxClient(\"YOUR_API_KEY_HERE\")"
   ]
  },
  {
   "cell_type": "markdown",
   "id": "completed-partner",
   "metadata": {},
   "source": [
    "## Create function"
   ]
  },
  {
   "cell_type": "code",
   "execution_count": null,
   "id": "registered-grocery",
   "metadata": {},
   "outputs": [],
   "source": [
    "def predict_function(model, text_list):\n",
    "    return model.predict_proba(text_list)"
   ]
  },
  {
   "cell_type": "code",
   "execution_count": null,
   "id": "african-rwanda",
   "metadata": {},
   "outputs": [],
   "source": [
    "texts = ['some new text, sweet noodles', 'happy time', 'sad day']\n",
    "\n",
    "predict_function(model, texts)"
   ]
  },
  {
   "cell_type": "markdown",
   "id": "chicken-dragon",
   "metadata": {},
   "source": [
    "# Package (function, model) & Upload to Unbox Server"
   ]
  },
  {
   "cell_type": "code",
   "execution_count": null,
   "id": "ordinary-pendant",
   "metadata": {
    "scrolled": true
   },
   "outputs": [],
   "source": [
    "unbox_model = client.add_model(\n",
    "    function=predict_function, \n",
    "    model=model,\n",
    "    model_type=ModelType.sklearn,\n",
    "    task_type=TaskType.TextClassification,\n",
    "    class_names=label_list,\n",
    "    name='Banking Model',\n",
    "    description='this is my sklearn banking model'\n",
    ")\n",
    "unbox_model.to_dict()"
   ]
  },
  {
   "cell_type": "code",
   "execution_count": null,
   "id": "embedded-assurance",
   "metadata": {},
   "outputs": [],
   "source": [
    "dataset = client.add_dataframe(\n",
    "    df=df_test,\n",
    "    class_names=label_list,\n",
    "    label_column_name=\"label_code\",\n",
    "    text_column_name=\"text\",\n",
    "    task_type=TaskType.TextClassification,\n",
    "    name=\"Banking Test Dataset\",\n",
    "    description=\"my banking validation dataset\"\n",
    ")\n",
    "dataset.to_dict()"
   ]
  }
 ],
 "metadata": {
  "kernelspec": {
   "display_name": "Python 3 (ipykernel)",
   "language": "python",
   "name": "python3"
  },
  "language_info": {
   "codemirror_mode": {
    "name": "ipython",
    "version": 3
   },
   "file_extension": ".py",
   "mimetype": "text/x-python",
   "name": "python",
   "nbconvert_exporter": "python",
   "pygments_lexer": "ipython3",
   "version": "3.8.10"
  }
 },
 "nbformat": 4,
 "nbformat_minor": 5
}
