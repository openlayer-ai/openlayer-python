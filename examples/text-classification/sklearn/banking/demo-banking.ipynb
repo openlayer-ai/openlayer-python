{
 "cells": [
  {
   "cell_type": "markdown",
   "id": "1234aad0",
   "metadata": {},
   "source": [
    "[![Open In Colab](https://colab.research.google.com/assets/colab-badge.svg)](https://colab.research.google.com/github/unboxai/examples-gallery/blob/main/text-classification/demo-banking.ipynb)\n",
    "\n",
    "\n",
    "# Banking chatbot using sklearn\n",
    "\n",
    "This notebook illustrates how sklearn models can be upladed to the Unbox platform."
   ]
  },
  {
   "cell_type": "markdown",
   "id": "feb4bd86",
   "metadata": {},
   "source": [
    "## Importing the modules and loading the dataset"
   ]
  },
  {
   "cell_type": "code",
   "execution_count": 2,
   "id": "545c0a4b",
   "metadata": {},
   "outputs": [],
   "source": [
    "import numpy as np\n",
    "import pandas as pd\n",
    "\n",
    "from sklearn.feature_extraction.text import CountVectorizer\n",
    "from sklearn.linear_model import LogisticRegression\n",
    "from sklearn.metrics import classification_report\n",
    "from sklearn.pipeline import Pipeline"
   ]
  },
  {
   "cell_type": "code",
   "execution_count": 3,
   "id": "db986ed2",
   "metadata": {},
   "outputs": [
    {
     "data": {
      "text/html": [
       "<div>\n",
       "<style scoped>\n",
       "    .dataframe tbody tr th:only-of-type {\n",
       "        vertical-align: middle;\n",
       "    }\n",
       "\n",
       "    .dataframe tbody tr th {\n",
       "        vertical-align: top;\n",
       "    }\n",
       "\n",
       "    .dataframe thead th {\n",
       "        text-align: right;\n",
       "    }\n",
       "</style>\n",
       "<table border=\"1\" class=\"dataframe\">\n",
       "  <thead>\n",
       "    <tr style=\"text-align: right;\">\n",
       "      <th></th>\n",
       "      <th>text</th>\n",
       "      <th>category</th>\n",
       "    </tr>\n",
       "  </thead>\n",
       "  <tbody>\n",
       "    <tr>\n",
       "      <th>0</th>\n",
       "      <td>I am still waiting on my card?</td>\n",
       "      <td>card_arrival</td>\n",
       "    </tr>\n",
       "    <tr>\n",
       "      <th>1</th>\n",
       "      <td>What can I do if my card still hasn't arrived ...</td>\n",
       "      <td>card_arrival</td>\n",
       "    </tr>\n",
       "    <tr>\n",
       "      <th>2</th>\n",
       "      <td>I have been waiting over a week. Is the card s...</td>\n",
       "      <td>card_arrival</td>\n",
       "    </tr>\n",
       "    <tr>\n",
       "      <th>3</th>\n",
       "      <td>Can I track my card while it is in the process...</td>\n",
       "      <td>card_arrival</td>\n",
       "    </tr>\n",
       "    <tr>\n",
       "      <th>4</th>\n",
       "      <td>How do I know if I will get my card, or if it ...</td>\n",
       "      <td>card_arrival</td>\n",
       "    </tr>\n",
       "  </tbody>\n",
       "</table>\n",
       "</div>"
      ],
      "text/plain": [
       "                                                text      category\n",
       "0                     I am still waiting on my card?  card_arrival\n",
       "1  What can I do if my card still hasn't arrived ...  card_arrival\n",
       "2  I have been waiting over a week. Is the card s...  card_arrival\n",
       "3  Can I track my card while it is in the process...  card_arrival\n",
       "4  How do I know if I will get my card, or if it ...  card_arrival"
      ]
     },
     "execution_count": 3,
     "metadata": {},
     "output_type": "execute_result"
    }
   ],
   "source": [
    "data = pd.read_csv(\"training.csv\")\n",
    "\n",
    "data.head()"
   ]
  },
  {
   "cell_type": "code",
   "execution_count": 7,
   "id": "510b5080",
   "metadata": {},
   "outputs": [],
   "source": [
    "data['category'] = data['category'].astype('category')\n",
    "data['label_code'] = data['category'].cat.codes"
   ]
  },
  {
   "cell_type": "markdown",
   "id": "c1d949aa",
   "metadata": {},
   "source": [
    "## Splitting the data into training and validation sets"
   ]
  },
  {
   "cell_type": "code",
   "execution_count": 8,
   "id": "9bf7586c",
   "metadata": {},
   "outputs": [],
   "source": [
    "# shuffling the data\n",
    "data = data.sample(frac=1, random_state=42)  \n",
    "\n",
    "training_set = data[:7000]\n",
    "validation_set = data[7000:]"
   ]
  },
  {
   "cell_type": "markdown",
   "id": "59cd2b2f",
   "metadata": {},
   "source": [
    "## Training and evaluating the model's performance"
   ]
  },
  {
   "cell_type": "code",
   "execution_count": 9,
   "id": "28faab79",
   "metadata": {},
   "outputs": [
    {
     "data": {
      "text/plain": [
       "Pipeline(steps=[('count_vect',\n",
       "                 CountVectorizer(ngram_range=(1, 2), stop_words='english')),\n",
       "                ('lr', LogisticRegression(random_state=42))])"
      ]
     },
     "execution_count": 9,
     "metadata": {},
     "output_type": "execute_result"
    }
   ],
   "source": [
    "sklearn_model = Pipeline([('count_vect', CountVectorizer(ngram_range=(1,2), stop_words='english')), \n",
    "                          ('lr', LogisticRegression(random_state=42))])\n",
    "sklearn_model.fit(training_set['text'], training_set['label_code'])"
   ]
  },
  {
   "cell_type": "code",
   "execution_count": 10,
   "id": "0d05ad47",
   "metadata": {},
   "outputs": [
    {
     "name": "stdout",
     "output_type": "stream",
     "text": [
      "              precision    recall  f1-score   support\n",
      "\n",
      "           0       1.00      0.86      0.92        14\n",
      "           1       1.00      1.00      1.00        11\n",
      "           2       1.00      0.83      0.91        12\n",
      "           3       1.00      0.94      0.97        17\n",
      "           4       0.92      0.96      0.94        24\n",
      "           5       0.89      0.84      0.86        19\n",
      "           6       0.96      0.96      0.96        27\n",
      "           7       0.50      0.86      0.63         7\n",
      "           8       0.81      0.91      0.86        23\n",
      "           9       0.93      0.74      0.82        19\n",
      "          10       1.00      0.83      0.91        18\n",
      "          11       0.93      0.74      0.82        19\n",
      "          12       0.96      0.92      0.94        24\n",
      "          13       0.83      0.89      0.86        28\n",
      "          14       1.00      0.93      0.96        28\n",
      "          15       0.90      1.00      0.95         9\n",
      "          16       1.00      0.91      0.95        23\n",
      "          17       1.00      0.83      0.91        12\n",
      "          18       1.00      0.50      0.67         2\n",
      "          19       0.84      0.84      0.84        19\n",
      "          20       0.93      0.76      0.84        17\n",
      "          21       0.94      0.79      0.86        19\n",
      "          22       0.90      0.90      0.90        30\n",
      "          23       1.00      0.83      0.91        12\n",
      "          24       0.77      0.91      0.83        11\n",
      "          25       0.89      1.00      0.94         8\n",
      "          26       0.89      0.94      0.91        17\n",
      "          27       0.70      0.78      0.74        18\n",
      "          28       0.77      0.83      0.80        24\n",
      "          29       0.81      0.93      0.87        14\n",
      "          30       0.79      0.92      0.85        12\n",
      "          31       0.52      0.87      0.65        15\n",
      "          32       0.86      1.00      0.92        12\n",
      "          33       0.80      0.89      0.84         9\n",
      "          34       1.00      0.94      0.97        18\n",
      "          35       0.95      1.00      0.97        19\n",
      "          36       0.75      0.80      0.77        15\n",
      "          37       0.89      0.94      0.92        18\n",
      "          38       0.64      0.88      0.74        26\n",
      "          39       0.94      0.71      0.81        21\n",
      "          40       0.94      0.94      0.94        17\n",
      "          41       1.00      0.80      0.89        10\n",
      "          42       0.90      1.00      0.95        18\n",
      "          43       0.92      0.92      0.92        12\n",
      "          44       0.92      0.85      0.88        13\n",
      "          45       0.83      1.00      0.91        15\n",
      "          46       1.00      0.80      0.89        10\n",
      "          47       0.80      0.57      0.67         7\n",
      "          48       0.75      0.50      0.60        12\n",
      "          49       0.76      0.93      0.84        14\n",
      "          50       0.80      0.44      0.57         9\n",
      "          51       0.90      0.82      0.86        22\n",
      "          52       0.80      0.80      0.80        15\n",
      "          53       0.93      0.82      0.87        17\n",
      "          54       0.75      0.81      0.78        26\n",
      "          55       0.71      0.91      0.80        11\n",
      "          56       0.85      0.92      0.88        12\n",
      "          57       0.92      1.00      0.96        12\n",
      "          58       0.90      0.69      0.78        13\n",
      "          59       0.86      0.86      0.86        14\n",
      "          60       0.87      0.76      0.81        17\n",
      "          61       0.93      0.81      0.87        16\n",
      "\n",
      "    accuracy                           0.86      1002\n",
      "   macro avg       0.87      0.85      0.86      1002\n",
      "weighted avg       0.88      0.86      0.87      1002\n",
      "\n"
     ]
    }
   ],
   "source": [
    "print(classification_report(validation_set['label_code'], sklearn_model.predict(validation_set['text'])))"
   ]
  },
  {
   "cell_type": "markdown",
   "id": "d84ab86a",
   "metadata": {},
   "source": [
    "## Unbox part!\n",
    "\n",
    "### Instantiating the client"
   ]
  },
  {
   "cell_type": "code",
   "execution_count": 11,
   "id": "4d2cb0e4",
   "metadata": {},
   "outputs": [],
   "source": [
    "import unboxapi\n",
    "\n",
    "client = unboxapi.UnboxClient(\"YOUR_API_KEY_HERE\")"
   ]
  },
  {
   "cell_type": "markdown",
   "id": "4b10f758",
   "metadata": {},
   "source": [
    "### Creating a project on the platform"
   ]
  },
  {
   "cell_type": "code",
   "execution_count": 12,
   "id": "c1dfaa53",
   "metadata": {},
   "outputs": [
    {
     "name": "stdout",
     "output_type": "stream",
     "text": [
      "Creating project on Unbox! Check out https://unbox.ai/projects to have a look!\n"
     ]
    }
   ],
   "source": [
    "project = client.create_project(name=\"Banking Project\",\n",
    "                                description=\"Evaluating ML approaches for a chatbot\")"
   ]
  },
  {
   "cell_type": "markdown",
   "id": "62b0badf",
   "metadata": {},
   "source": [
    "### Uploading the validation set"
   ]
  },
  {
   "cell_type": "code",
   "execution_count": 15,
   "id": "68cbc63b",
   "metadata": {},
   "outputs": [],
   "source": [
    "# Getting the label list\n",
    "label_dict = dict(zip(data.category.cat.codes, data.category))\n",
    "\n",
    "label_list = [None] * len(label_dict)\n",
    "for index, label in label_dict.items():\n",
    "    label_list[index] = label"
   ]
  },
  {
   "cell_type": "code",
   "execution_count": 18,
   "id": "embedded-assurance",
   "metadata": {},
   "outputs": [
    {
     "name": "stdout",
     "output_type": "stream",
     "text": [
      "Uploading dataset to Unbox! Check out https://unbox.ai/datasets to have a look!\n"
     ]
    }
   ],
   "source": [
    "from unboxapi.tasks import TaskType\n",
    "\n",
    "dataset = project.add_dataframe(\n",
    "    df=validation_set,\n",
    "    class_names=label_list,\n",
    "    label_column_name=\"label_code\",\n",
    "    text_column_name=\"text\",\n",
    "    task_type=TaskType.TextClassification,\n",
    "    name=\"Banking Test Dataset\",\n",
    "    description=\"my banking validation dataset\"\n",
    ")"
   ]
  },
  {
   "cell_type": "markdown",
   "id": "44040f57",
   "metadata": {},
   "source": [
    "### Uploading the model\n",
    "\n",
    "First, it is important to create a `predict_proba` function, which is how Unbox interacts with your model"
   ]
  },
  {
   "cell_type": "code",
   "execution_count": 19,
   "id": "registered-grocery",
   "metadata": {},
   "outputs": [],
   "source": [
    "def predict_proba(model, text_list):\n",
    "    return model.predict_proba(text_list)"
   ]
  },
  {
   "cell_type": "markdown",
   "id": "e97b00c9",
   "metadata": {},
   "source": [
    "Let's test the `predict_proba` function to make sure the input-output format is consistent with what Unbox expects:"
   ]
  },
  {
   "cell_type": "code",
   "execution_count": 22,
   "id": "african-rwanda",
   "metadata": {},
   "outputs": [
    {
     "data": {
      "text/plain": [
       "array([[0.00747527, 0.01526512, 0.01108279, 0.02171184, 0.00802631,\n",
       "        0.0135237 , 0.00744551, 0.00552845, 0.02719528, 0.01900453,\n",
       "        0.00765338, 0.00591675, 0.0055067 , 0.00604107, 0.00461798,\n",
       "        0.00398385, 0.01183233, 0.00595058, 0.02658783, 0.00770957,\n",
       "        0.00917609, 0.0058173 , 0.0072034 , 0.00401974, 0.05226695,\n",
       "        0.01140503, 0.0174299 , 0.01393726, 0.00819253, 0.01311658,\n",
       "        0.00638173, 0.01532488, 0.00365531, 0.00920743, 0.00990506,\n",
       "        0.03138079, 0.00565234, 0.005253  , 0.19453984, 0.00640795,\n",
       "        0.00866278, 0.01508223, 0.02100794, 0.0052098 , 0.00802055,\n",
       "        0.00495851, 0.01288669, 0.02031846, 0.04890798, 0.03881957,\n",
       "        0.02322006, 0.01212345, 0.0079488 , 0.00473297, 0.01675585,\n",
       "        0.0072597 , 0.01710851, 0.01829279, 0.01528501, 0.0112113 ,\n",
       "        0.01768058, 0.01217454],\n",
       "       [0.00356983, 0.00400935, 0.01719766, 0.00998708, 0.00249705,\n",
       "        0.0042326 , 0.00184991, 0.05857406, 0.08743378, 0.06827657,\n",
       "        0.04324663, 0.06334632, 0.02147027, 0.01403589, 0.00381029,\n",
       "        0.0260156 , 0.00283209, 0.03836161, 0.00721606, 0.03225904,\n",
       "        0.00857238, 0.00304515, 0.00655471, 0.00834532, 0.00387133,\n",
       "        0.00348421, 0.00303454, 0.00317401, 0.00245447, 0.00390742,\n",
       "        0.00934106, 0.08989518, 0.00916388, 0.05599783, 0.00467233,\n",
       "        0.00432574, 0.00562436, 0.0027926 , 0.01366251, 0.00198967,\n",
       "        0.00933543, 0.00469157, 0.00411558, 0.01377002, 0.03411111,\n",
       "        0.00210673, 0.00268418, 0.00562963, 0.01890945, 0.00635131,\n",
       "        0.06320063, 0.01076371, 0.00234699, 0.00204802, 0.00251398,\n",
       "        0.00240965, 0.00361173, 0.00415287, 0.02356623, 0.02268753,\n",
       "        0.00459922, 0.00226405],\n",
       "       [0.00808946, 0.01786674, 0.01387013, 0.02457385, 0.01258671,\n",
       "        0.01320896, 0.00755843, 0.00758945, 0.00707427, 0.03412238,\n",
       "        0.00266164, 0.00901831, 0.00671153, 0.00763482, 0.0051127 ,\n",
       "        0.00275055, 0.00444491, 0.00587141, 0.00785815, 0.0056803 ,\n",
       "        0.00894708, 0.00963801, 0.01434639, 0.01036069, 0.01644019,\n",
       "        0.01129723, 0.01084859, 0.015187  , 0.00701734, 0.01443897,\n",
       "        0.00739263, 0.00786202, 0.00401661, 0.00498087, 0.00959008,\n",
       "        0.01969961, 0.00589817, 0.00580606, 0.06422776, 0.00817061,\n",
       "        0.00951585, 0.01658654, 0.02309508, 0.00593207, 0.0110927 ,\n",
       "        0.00614184, 0.01239734, 0.02216017, 0.19546037, 0.06067223,\n",
       "        0.02236126, 0.01365633, 0.00685162, 0.00447631, 0.02027344,\n",
       "        0.00723463, 0.01747931, 0.01877101, 0.01959699, 0.01306049,\n",
       "        0.02022847, 0.01250535]])"
      ]
     },
     "execution_count": 22,
     "metadata": {},
     "output_type": "execute_result"
    }
   ],
   "source": [
    "texts = ['some new text, sweet noodles', 'where is my card?', 'sad day']\n",
    "\n",
    "predict_proba(sklearn_model, texts)"
   ]
  },
  {
   "cell_type": "markdown",
   "id": "880a85f4",
   "metadata": {},
   "source": [
    "Now, we can upload the model:"
   ]
  },
  {
   "cell_type": "code",
   "execution_count": 25,
   "id": "2a73d830",
   "metadata": {},
   "outputs": [
    {
     "name": "stdout",
     "output_type": "stream",
     "text": [
      "Bundling model and artifacts...\n",
      "Uploading model to Unbox! Check out https://unbox.ai/models to have a look!\n"
     ]
    },
    {
     "name": "stderr",
     "output_type": "stream",
     "text": [
      "/Users/gustavocid/Desktop/unbox-repos/unboxapi-python-client/unboxapi/api.py:58: DeprecationWarning: Using 'method_whitelist' with Retry is deprecated and will be removed in v2.0. Use 'allowed_methods' instead\n",
      "  retry_strategy = Retry(\n"
     ]
    }
   ],
   "source": [
    "from unboxapi.models import ModelType\n",
    "\n",
    "model = project.add_model(\n",
    "    function=predict_proba, \n",
    "    model=sklearn_model,\n",
    "    model_type=ModelType.sklearn,\n",
    "    task_type=TaskType.TextClassification,\n",
    "    class_names=label_list,\n",
    "    name='Banking Model',\n",
    "    description='this is my sklearn banking model'\n",
    ")"
   ]
  }
 ],
 "metadata": {
  "kernelspec": {
   "display_name": "Python 3 (ipykernel)",
   "language": "python",
   "name": "python3"
  },
  "language_info": {
   "codemirror_mode": {
    "name": "ipython",
    "version": 3
   },
   "file_extension": ".py",
   "mimetype": "text/x-python",
   "name": "python",
   "nbconvert_exporter": "python",
   "pygments_lexer": "ipython3",
   "version": "3.8.13"
  }
 },
 "nbformat": 4,
 "nbformat_minor": 5
}
