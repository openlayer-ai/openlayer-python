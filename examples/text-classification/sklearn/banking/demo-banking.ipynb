{
 "cells": [
  {
   "cell_type": "markdown",
   "id": "1234aad0",
   "metadata": {},
   "source": [
    "[![Open In Colab](https://colab.research.google.com/assets/colab-badge.svg)](https://colab.research.google.com/github/unboxai/examples-gallery/blob/main/text-classification/sklearn/banking/demo-banking.ipynb)\n",
    "\n",
    "\n",
    "# Banking chatbot using sklearn\n",
    "\n",
    "This notebook illustrates how sklearn models can be upladed to the Unbox platform."
   ]
  },
  {
   "cell_type": "code",
   "execution_count": 2,
   "id": "200cb601",
   "metadata": {},
   "outputs": [],
   "source": [
    "%%bash\n",
    "\n",
    "if [ ! -e \"requirements.txt\" ]; then\n",
    "    curl \"https://raw.githubusercontent.com/unboxai/examples-gallery/main/text-classification/sklearn/banking/requirements.txt\" --output \"requirements.txt\"\n",
    "fi"
   ]
  },
  {
   "cell_type": "code",
   "execution_count": 2,
   "id": "82eff65e",
   "metadata": {},
   "outputs": [
    {
     "name": "stdout",
     "output_type": "stream",
     "text": [
      "Collecting scikit-learn==0.24.1\n",
      "  Using cached scikit_learn-0.24.1-cp38-cp38-macosx_10_13_x86_64.whl (7.2 MB)\n",
      "Requirement already satisfied: numpy>=1.22 in /Users/gustavocid/miniconda3/envs/pytorch-notebook/lib/python3.8/site-packages (from -r requirements.txt (line 2)) (1.23.1)\n",
      "Collecting scipy>=0.19.1\n",
      "  Using cached scipy-1.9.0-cp38-cp38-macosx_12_0_universal2.macosx_10_9_x86_64.whl (58.1 MB)\n",
      "Collecting threadpoolctl>=2.0.0\n",
      "  Using cached threadpoolctl-3.1.0-py3-none-any.whl (14 kB)\n",
      "Collecting joblib>=0.11\n",
      "  Using cached joblib-1.1.0-py2.py3-none-any.whl (306 kB)\n",
      "Installing collected packages: threadpoolctl, scipy, joblib, scikit-learn\n",
      "Successfully installed joblib-1.1.0 scikit-learn-0.24.1 scipy-1.9.0 threadpoolctl-3.1.0\n"
     ]
    }
   ],
   "source": [
    "!pip install -r requirements.txt"
   ]
  },
  {
   "cell_type": "markdown",
   "id": "feb4bd86",
   "metadata": {},
   "source": [
    "## Importing the modules and loading the dataset"
   ]
  },
  {
   "cell_type": "code",
   "execution_count": 3,
   "id": "545c0a4b",
   "metadata": {},
   "outputs": [],
   "source": [
    "import numpy as np\n",
    "import pandas as pd\n",
    "\n",
    "from sklearn.feature_extraction.text import CountVectorizer\n",
    "from sklearn.linear_model import LogisticRegression\n",
    "from sklearn.metrics import classification_report\n",
    "from sklearn.pipeline import Pipeline"
   ]
  },
  {
   "cell_type": "markdown",
   "id": "efa0d201",
   "metadata": {},
   "source": [
    "We have stored the dataset on the following S3 bucket. If, for some reason, you get an error reading the csv directly from it, feel free to copy and paste the URL in your browser and download the csv file. Alternatively, you can also find the dataset on [HuggingFace](https://huggingface.co/datasets/banking77)."
   ]
  },
  {
   "cell_type": "code",
   "execution_count": 4,
   "id": "3e6242e6",
   "metadata": {},
   "outputs": [],
   "source": [
    "DATASET_URL = \"https://unbox-static-assets.s3.us-west-2.amazonaws.com/examples-datasets/text-classification/banking.csv\""
   ]
  },
  {
   "cell_type": "code",
   "execution_count": 5,
   "id": "db986ed2",
   "metadata": {},
   "outputs": [
    {
     "data": {
      "text/html": [
       "<div>\n",
       "<style scoped>\n",
       "    .dataframe tbody tr th:only-of-type {\n",
       "        vertical-align: middle;\n",
       "    }\n",
       "\n",
       "    .dataframe tbody tr th {\n",
       "        vertical-align: top;\n",
       "    }\n",
       "\n",
       "    .dataframe thead th {\n",
       "        text-align: right;\n",
       "    }\n",
       "</style>\n",
       "<table border=\"1\" class=\"dataframe\">\n",
       "  <thead>\n",
       "    <tr style=\"text-align: right;\">\n",
       "      <th></th>\n",
       "      <th>text</th>\n",
       "      <th>category</th>\n",
       "    </tr>\n",
       "  </thead>\n",
       "  <tbody>\n",
       "    <tr>\n",
       "      <th>0</th>\n",
       "      <td>I am still waiting on my card?</td>\n",
       "      <td>card_arrival</td>\n",
       "    </tr>\n",
       "    <tr>\n",
       "      <th>1</th>\n",
       "      <td>What can I do if my card still hasn't arrived ...</td>\n",
       "      <td>card_arrival</td>\n",
       "    </tr>\n",
       "    <tr>\n",
       "      <th>2</th>\n",
       "      <td>I have been waiting over a week. Is the card s...</td>\n",
       "      <td>card_arrival</td>\n",
       "    </tr>\n",
       "    <tr>\n",
       "      <th>3</th>\n",
       "      <td>Can I track my card while it is in the process...</td>\n",
       "      <td>card_arrival</td>\n",
       "    </tr>\n",
       "    <tr>\n",
       "      <th>4</th>\n",
       "      <td>How do I know if I will get my card, or if it ...</td>\n",
       "      <td>card_arrival</td>\n",
       "    </tr>\n",
       "  </tbody>\n",
       "</table>\n",
       "</div>"
      ],
      "text/plain": [
       "                                                text      category\n",
       "0                     I am still waiting on my card?  card_arrival\n",
       "1  What can I do if my card still hasn't arrived ...  card_arrival\n",
       "2  I have been waiting over a week. Is the card s...  card_arrival\n",
       "3  Can I track my card while it is in the process...  card_arrival\n",
       "4  How do I know if I will get my card, or if it ...  card_arrival"
      ]
     },
     "execution_count": 5,
     "metadata": {},
     "output_type": "execute_result"
    }
   ],
   "source": [
    "data = pd.read_csv(DATASET_URL)\n",
    "data.head()"
   ]
  },
  {
   "cell_type": "code",
   "execution_count": 6,
   "id": "510b5080",
   "metadata": {},
   "outputs": [],
   "source": [
    "data['category'] = data['category'].astype('category')\n",
    "data['label_code'] = data['category'].cat.codes"
   ]
  },
  {
   "cell_type": "markdown",
   "id": "c1d949aa",
   "metadata": {},
   "source": [
    "## Splitting the data into training and validation sets"
   ]
  },
  {
   "cell_type": "code",
   "execution_count": 7,
   "id": "9bf7586c",
   "metadata": {},
   "outputs": [],
   "source": [
    "# shuffling the data\n",
    "data = data.sample(frac=1, random_state=42)  \n",
    "\n",
    "training_set = data[:7000]\n",
    "validation_set = data[7000:]"
   ]
  },
  {
   "cell_type": "markdown",
   "id": "59cd2b2f",
   "metadata": {},
   "source": [
    "## Training and evaluating the model's performance"
   ]
  },
  {
   "cell_type": "code",
   "execution_count": null,
   "id": "28faab79",
   "metadata": {},
   "outputs": [],
   "source": [
    "sklearn_model = Pipeline([('count_vect', CountVectorizer(ngram_range=(1,2), stop_words='english')), \n",
    "                          ('lr', LogisticRegression(random_state=42))])\n",
    "sklearn_model.fit(training_set['text'], training_set['label_code'])"
   ]
  },
  {
   "cell_type": "code",
   "execution_count": null,
   "id": "0d05ad47",
   "metadata": {},
   "outputs": [],
   "source": [
    "print(classification_report(validation_set['label_code'], sklearn_model.predict(validation_set['text'])))"
   ]
  },
  {
   "cell_type": "markdown",
   "id": "d84ab86a",
   "metadata": {},
   "source": [
    "## Unbox part!\n",
    "\n",
    "### pip installing unboxapi"
   ]
  },
  {
   "cell_type": "code",
   "execution_count": null,
   "id": "4868a2bd",
   "metadata": {},
   "outputs": [],
   "source": [
    "!pip install unboxapi"
   ]
  },
  {
   "cell_type": "markdown",
   "id": "f0be09cf",
   "metadata": {},
   "source": [
    "### Instantiating the client"
   ]
  },
  {
   "cell_type": "code",
   "execution_count": null,
   "id": "4d2cb0e4",
   "metadata": {},
   "outputs": [],
   "source": [
    "import unboxapi\n",
    "\n",
    "client = unboxapi.UnboxClient(\"YOUR_API_KEY_HERE\")"
   ]
  },
  {
   "cell_type": "markdown",
   "id": "4b10f758",
   "metadata": {},
   "source": [
    "### Creating a project on the platform"
   ]
  },
  {
   "cell_type": "code",
   "execution_count": null,
   "id": "c1dfaa53",
   "metadata": {},
   "outputs": [],
   "source": [
    "from unboxapi.tasks import TaskType\n",
    "\n",
    "project = client.create_or_load_project(name=\"Banking Project\",\n",
    "                                        task_type=TaskType.TextClassification,\n",
    "                                        description=\"Evaluating ML approaches for a chatbot\")"
   ]
  },
  {
   "cell_type": "markdown",
   "id": "62b0badf",
   "metadata": {},
   "source": [
    "### Uploading the validation set"
   ]
  },
  {
   "cell_type": "code",
   "execution_count": null,
   "id": "68cbc63b",
   "metadata": {},
   "outputs": [],
   "source": [
    "# Getting the label list\n",
    "label_dict = dict(zip(data.category.cat.codes, data.category))\n",
    "\n",
    "label_list = [None] * len(label_dict)\n",
    "for index, label in label_dict.items():\n",
    "    label_list[index] = label"
   ]
  },
  {
   "cell_type": "code",
   "execution_count": null,
   "id": "embedded-assurance",
   "metadata": {},
   "outputs": [],
   "source": [
    "from unboxapi.tasks import TaskType\n",
    "\n",
    "dataset = project.add_dataframe(\n",
    "    df=validation_set,\n",
    "    class_names=label_list,\n",
    "    label_column_name=\"label_code\",\n",
    "    text_column_name=\"text\",\n",
    "    commit_message=\"First commit!\"\n",
    ")"
   ]
  },
  {
   "cell_type": "markdown",
   "id": "44040f57",
   "metadata": {},
   "source": [
    "### Uploading the model\n",
    "\n",
    "First, it is important to create a `predict_proba` function, which is how Unbox interacts with your model"
   ]
  },
  {
   "cell_type": "code",
   "execution_count": null,
   "id": "registered-grocery",
   "metadata": {},
   "outputs": [],
   "source": [
    "def predict_proba(model, text_list):\n",
    "    return model.predict_proba(text_list)"
   ]
  },
  {
   "cell_type": "markdown",
   "id": "e97b00c9",
   "metadata": {},
   "source": [
    "Let's test the `predict_proba` function to make sure the input-output format is consistent with what Unbox expects:"
   ]
  },
  {
   "cell_type": "code",
   "execution_count": null,
   "id": "african-rwanda",
   "metadata": {},
   "outputs": [],
   "source": [
    "texts = ['some new text, sweet noodles', 'where is my card?', 'sad day']\n",
    "\n",
    "predict_proba(sklearn_model, texts)"
   ]
  },
  {
   "cell_type": "markdown",
   "id": "880a85f4",
   "metadata": {},
   "source": [
    "Now, we can upload the model:"
   ]
  },
  {
   "cell_type": "code",
   "execution_count": null,
   "id": "956b40f7",
   "metadata": {},
   "outputs": [],
   "source": [
    "from unboxapi.models import ModelType\n",
    "\n",
    "model = project.add_model(\n",
    "    function=predict_proba, \n",
    "    model=sklearn_model,\n",
    "    model_type=ModelType.sklearn,\n",
    "    class_names=label_list,\n",
    "    name='Banking Model',\n",
    "    commit_message='First commit!',\n",
    "    requirements_txt_file='requirements.txt'\n",
    ")"
   ]
  }
 ],
 "metadata": {
  "kernelspec": {
   "display_name": "Python 3 (ipykernel)",
   "language": "python",
   "name": "python3"
  },
  "language_info": {
   "codemirror_mode": {
    "name": "ipython",
    "version": 3
   },
   "file_extension": ".py",
   "mimetype": "text/x-python",
   "name": "python",
   "nbconvert_exporter": "python",
   "pygments_lexer": "ipython3",
   "version": "3.8.13"
  }
 },
 "nbformat": 4,
 "nbformat_minor": 5
}
