{
    "cells": [
        {
            "cell_type": "markdown",
            "id": "1234aad0",
            "metadata": {},
            "source": [
                "[![Open In Colab](https://colab.research.google.com/assets/colab-badge.svg)](https://colab.research.google.com/github/unboxai/examples-gallery/blob/main/text-classification/sklearn/banking/demo-banking.ipynb)\n",
                "\n",
                "\n",
                "# Banking chatbot using sklearn\n",
                "\n",
                "This notebook illustrates how sklearn models can be upladed to the Openlayer platform."
            ]
        },
        {
            "cell_type": "code",
            "execution_count": 1,
            "id": "200cb601",
            "metadata": {},
            "outputs": [],
            "source": [
                "%%bash\n",
                "\n",
                "if [ ! -e \"requirements.txt\" ]; then\n",
                "    curl \"https://raw.githubusercontent.com/unboxai/examples-gallery/main/text-classification/sklearn/banking/requirements.txt\" --output \"requirements.txt\"\n",
                "fi"
            ]
        },
        {
            "cell_type": "code",
            "execution_count": 2,
            "id": "82eff65e",
            "metadata": {},
            "outputs": [
                {
                    "name": "stdout",
                    "output_type": "stream",
                    "text": [
                        "Requirement already satisfied: numpy>=1.20 in /Users/rishabramanathan/opt/miniconda3/envs/sklearn-demo/lib/python3.8/site-packages (from -r requirements.txt (line 1)) (1.22.4)\n",
                        "Requirement already satisfied: pandas==1.1.4 in /Users/rishabramanathan/opt/miniconda3/envs/sklearn-demo/lib/python3.8/site-packages (from -r requirements.txt (line 2)) (1.1.4)\n",
                        "Requirement already satisfied: scikit-learn==0.24.1 in /Users/rishabramanathan/opt/miniconda3/envs/sklearn-demo/lib/python3.8/site-packages (from -r requirements.txt (line 3)) (0.24.1)\n",
                        "Requirement already satisfied: pytz>=2017.2 in /Users/rishabramanathan/opt/miniconda3/envs/sklearn-demo/lib/python3.8/site-packages (from pandas==1.1.4->-r requirements.txt (line 2)) (2021.1)\n",
                        "Requirement already satisfied: python-dateutil>=2.7.3 in /Users/rishabramanathan/opt/miniconda3/envs/sklearn-demo/lib/python3.8/site-packages (from pandas==1.1.4->-r requirements.txt (line 2)) (2.8.1)\n",
                        "Requirement already satisfied: scipy>=0.19.1 in /Users/rishabramanathan/opt/miniconda3/envs/sklearn-demo/lib/python3.8/site-packages (from scikit-learn==0.24.1->-r requirements.txt (line 3)) (1.7.0)\n",
                        "Requirement already satisfied: joblib>=0.11 in /Users/rishabramanathan/opt/miniconda3/envs/sklearn-demo/lib/python3.8/site-packages (from scikit-learn==0.24.1->-r requirements.txt (line 3)) (1.0.1)\n",
                        "Requirement already satisfied: threadpoolctl>=2.0.0 in /Users/rishabramanathan/opt/miniconda3/envs/sklearn-demo/lib/python3.8/site-packages (from scikit-learn==0.24.1->-r requirements.txt (line 3)) (2.2.0)\n",
                        "Requirement already satisfied: six>=1.5 in /Users/rishabramanathan/opt/miniconda3/envs/sklearn-demo/lib/python3.8/site-packages (from python-dateutil>=2.7.3->pandas==1.1.4->-r requirements.txt (line 2)) (1.15.0)\n"
                    ]
                }
            ],
            "source": [
                "!pip install -r requirements.txt"
            ]
        },
        {
            "cell_type": "markdown",
            "id": "feb4bd86",
            "metadata": {},
            "source": [
                "## Importing the modules and loading the dataset"
            ]
        },
        {
            "cell_type": "code",
            "execution_count": 3,
            "id": "545c0a4b",
            "metadata": {},
            "outputs": [],
            "source": [
                "import numpy as np\n",
                "import pandas as pd\n",
                "\n",
                "from sklearn.feature_extraction.text import CountVectorizer\n",
                "from sklearn.linear_model import LogisticRegression\n",
                "from sklearn.metrics import classification_report\n",
                "from sklearn.pipeline import Pipeline"
            ]
        },
        {
            "cell_type": "markdown",
            "id": "efa0d201",
            "metadata": {},
            "source": [
                "We have stored the dataset on the following S3 bucket. If, for some reason, you get an error reading the csv directly from it, feel free to copy and paste the URL in your browser and download the csv file. Alternatively, you can also find the dataset on [HuggingFace](https://huggingface.co/datasets/banking77)."
            ]
        },
        {
            "cell_type": "code",
            "execution_count": 4,
            "id": "3e6242e6",
            "metadata": {},
            "outputs": [],
            "source": [
                "DATASET_URL = \"https://openlayer-static-assets.s3.us-west-2.amazonaws.com/examples-datasets/text-classification/banking.csv\""
            ]
        },
        {
            "cell_type": "code",
            "execution_count": 5,
            "id": "db986ed2",
            "metadata": {},
            "outputs": [
                {
                    "data": {
                        "text/html": [
                            "<div>\n",
                            "<style scoped>\n",
                            "    .dataframe tbody tr th:only-of-type {\n",
                            "        vertical-align: middle;\n",
                            "    }\n",
                            "\n",
                            "    .dataframe tbody tr th {\n",
                            "        vertical-align: top;\n",
                            "    }\n",
                            "\n",
                            "    .dataframe thead th {\n",
                            "        text-align: right;\n",
                            "    }\n",
                            "</style>\n",
                            "<table border=\"1\" class=\"dataframe\">\n",
                            "  <thead>\n",
                            "    <tr style=\"text-align: right;\">\n",
                            "      <th></th>\n",
                            "      <th>text</th>\n",
                            "      <th>category</th>\n",
                            "    </tr>\n",
                            "  </thead>\n",
                            "  <tbody>\n",
                            "    <tr>\n",
                            "      <th>0</th>\n",
                            "      <td>I am still waiting on my card?</td>\n",
                            "      <td>card_arrival</td>\n",
                            "    </tr>\n",
                            "    <tr>\n",
                            "      <th>1</th>\n",
                            "      <td>What can I do if my card still hasn't arrived ...</td>\n",
                            "      <td>card_arrival</td>\n",
                            "    </tr>\n",
                            "    <tr>\n",
                            "      <th>2</th>\n",
                            "      <td>I have been waiting over a week. Is the card s...</td>\n",
                            "      <td>card_arrival</td>\n",
                            "    </tr>\n",
                            "    <tr>\n",
                            "      <th>3</th>\n",
                            "      <td>Can I track my card while it is in the process...</td>\n",
                            "      <td>card_arrival</td>\n",
                            "    </tr>\n",
                            "    <tr>\n",
                            "      <th>4</th>\n",
                            "      <td>How do I know if I will get my card, or if it ...</td>\n",
                            "      <td>card_arrival</td>\n",
                            "    </tr>\n",
                            "  </tbody>\n",
                            "</table>\n",
                            "</div>"
                        ],
                        "text/plain": [
                            "                                                text      category\n",
                            "0                     I am still waiting on my card?  card_arrival\n",
                            "1  What can I do if my card still hasn't arrived ...  card_arrival\n",
                            "2  I have been waiting over a week. Is the card s...  card_arrival\n",
                            "3  Can I track my card while it is in the process...  card_arrival\n",
                            "4  How do I know if I will get my card, or if it ...  card_arrival"
                        ]
                    },
                    "execution_count": 5,
                    "metadata": {},
                    "output_type": "execute_result"
                }
            ],
            "source": [
                "data = pd.read_csv(DATASET_URL)\n",
                "data.head()"
            ]
        },
        {
            "cell_type": "code",
            "execution_count": 6,
            "id": "510b5080",
            "metadata": {},
            "outputs": [],
            "source": [
                "data['category'] = data['category'].astype('category')\n",
                "data['label_code'] = data['category'].cat.codes"
            ]
        },
        {
            "cell_type": "markdown",
            "id": "c1d949aa",
            "metadata": {},
            "source": [
                "## Splitting the data into training and validation sets"
            ]
        },
        {
            "cell_type": "code",
            "execution_count": 7,
            "id": "9bf7586c",
            "metadata": {},
            "outputs": [],
            "source": [
                "# shuffling the data\n",
                "data = data.sample(frac=1, random_state=42)  \n",
                "\n",
                "training_set = data[:7000]\n",
                "validation_set = data[7000:]"
            ]
        },
        {
            "cell_type": "markdown",
            "id": "59cd2b2f",
            "metadata": {},
            "source": [
                "## Training and evaluating the model's performance"
            ]
        },
        {
            "cell_type": "code",
            "execution_count": 8,
            "id": "28faab79",
            "metadata": {},
            "outputs": [
                {
                    "data": {
                        "text/plain": [
                            "Pipeline(steps=[('count_vect',\n",
                            "                 CountVectorizer(ngram_range=(1, 2), stop_words='english')),\n",
                            "                ('lr', LogisticRegression(random_state=42))])"
                        ]
                    },
                    "execution_count": 8,
                    "metadata": {},
                    "output_type": "execute_result"
                }
            ],
            "source": [
                "sklearn_model = Pipeline([('count_vect', CountVectorizer(ngram_range=(1,2), stop_words='english')), \n",
                "                          ('lr', LogisticRegression(random_state=42))])\n",
                "sklearn_model.fit(training_set['text'], training_set['label_code'])"
            ]
        },
        {
            "cell_type": "code",
            "execution_count": 9,
            "id": "0d05ad47",
            "metadata": {},
            "outputs": [
                {
                    "name": "stdout",
                    "output_type": "stream",
                    "text": [
                        "              precision    recall  f1-score   support\n",
                        "\n",
                        "           0       0.91      0.91      0.91        23\n",
                        "           1       1.00      1.00      1.00        15\n",
                        "           2       0.80      0.80      0.80        10\n",
                        "           3       1.00      0.88      0.94        17\n",
                        "           4       0.93      0.90      0.91        29\n",
                        "           5       0.89      0.76      0.82        21\n",
                        "           6       0.87      1.00      0.93        13\n",
                        "           7       0.75      0.75      0.75        12\n",
                        "           8       0.57      0.86      0.69        14\n",
                        "           9       0.86      0.80      0.83        15\n",
                        "          10       0.94      1.00      0.97        17\n",
                        "          11       0.89      0.73      0.80        11\n",
                        "          12       0.74      0.85      0.79        20\n",
                        "          13       0.70      0.84      0.76        19\n",
                        "          14       0.95      0.86      0.90        21\n",
                        "          15       1.00      0.88      0.93         8\n",
                        "          16       1.00      0.94      0.97        16\n",
                        "          17       0.59      0.67      0.62        15\n",
                        "          18       1.00      1.00      1.00         5\n",
                        "          19       0.95      0.95      0.95        22\n",
                        "          20       0.79      0.79      0.79        24\n",
                        "          21       0.95      0.95      0.95        19\n",
                        "          22       1.00      0.83      0.91        24\n",
                        "          23       1.00      0.90      0.95        10\n",
                        "          24       0.93      0.93      0.93        14\n",
                        "          25       0.89      0.89      0.89         9\n",
                        "          26       0.83      1.00      0.91        10\n",
                        "          27       0.83      0.83      0.83        23\n",
                        "          28       0.72      0.87      0.79        15\n",
                        "          29       0.87      1.00      0.93        13\n",
                        "          30       0.79      1.00      0.88        11\n",
                        "          31       0.70      0.84      0.76        19\n",
                        "          32       1.00      0.93      0.96        14\n",
                        "          33       0.67      0.73      0.70        11\n",
                        "          34       1.00      0.90      0.95        21\n",
                        "          35       1.00      1.00      1.00        12\n",
                        "          36       0.91      0.88      0.89        24\n",
                        "          37       0.93      0.67      0.78        21\n",
                        "          38       0.83      0.62      0.71        24\n",
                        "          39       0.57      0.62      0.59        13\n",
                        "          40       0.92      0.75      0.83        16\n",
                        "          41       0.93      0.88      0.90        16\n",
                        "          42       1.00      0.85      0.92        20\n",
                        "          43       1.00      0.92      0.96        13\n",
                        "          44       0.89      0.73      0.80        22\n",
                        "          45       0.86      1.00      0.92        12\n",
                        "          46       0.82      0.75      0.78        12\n",
                        "          47       0.83      0.83      0.83         6\n",
                        "          48       0.47      0.88      0.61         8\n",
                        "          49       0.85      0.89      0.87        19\n",
                        "          50       0.56      0.56      0.56         9\n",
                        "          51       0.87      0.87      0.87        23\n",
                        "          52       1.00      0.77      0.87        26\n",
                        "          53       0.69      0.75      0.72        12\n",
                        "          54       0.72      0.77      0.74        30\n",
                        "          55       0.75      0.80      0.77        15\n",
                        "          56       0.88      0.64      0.74        11\n",
                        "          57       0.71      0.91      0.80        11\n",
                        "          58       0.90      1.00      0.95        18\n",
                        "          59       0.94      0.89      0.91        18\n",
                        "          60       0.79      0.85      0.81        13\n",
                        "          61       0.80      0.89      0.84        18\n",
                        "\n",
                        "    accuracy                           0.85      1002\n",
                        "   macro avg       0.85      0.85      0.84      1002\n",
                        "weighted avg       0.86      0.85      0.85      1002\n",
                        "\n"
                    ]
                }
            ],
            "source": [
                "print(classification_report(validation_set['label_code'], sklearn_model.predict(validation_set['text'])))"
            ]
        },
        {
            "cell_type": "markdown",
            "id": "d84ab86a",
            "metadata": {},
            "source": [
                "## Openlayer part!\n",
                "\n",
                "### pip installing openlayer"
            ]
        },
        {
            "cell_type": "code",
            "execution_count": 10,
            "id": "4868a2bd",
            "metadata": {},
            "outputs": [
                {
                    "name": "stdout",
                    "output_type": "stream",
                    "text": [
                        "Requirement already satisfied: openlayer in /Users/rishabramanathan/opt/miniconda3/envs/sklearn-demo/lib/python3.8/site-packages (0.3.0)\n",
                        "Requirement already satisfied: jupyter in /Users/rishabramanathan/opt/miniconda3/envs/sklearn-demo/lib/python3.8/site-packages (from openlayer) (1.0.0)\n",
                        "Requirement already satisfied: pandas in /Users/rishabramanathan/opt/miniconda3/envs/sklearn-demo/lib/python3.8/site-packages (from openlayer) (1.1.4)\n",
                        "Requirement already satisfied: protobuf==3.20.0 in /Users/rishabramanathan/opt/miniconda3/envs/sklearn-demo/lib/python3.8/site-packages (from openlayer) (3.20.0)\n",
                        "Requirement already satisfied: bentoml==0.13.1 in /Users/rishabramanathan/opt/miniconda3/envs/sklearn-demo/lib/python3.8/site-packages (from openlayer) (0.13.1)\n",
                        "Requirement already satisfied: requests in /Users/rishabramanathan/opt/miniconda3/envs/sklearn-demo/lib/python3.8/site-packages (from openlayer) (2.25.1)\n",
                        "Requirement already satisfied: tqdm in /Users/rishabramanathan/opt/miniconda3/envs/sklearn-demo/lib/python3.8/site-packages (from openlayer) (4.59.0)\n",
                        "Requirement already satisfied: marshmallow in /Users/rishabramanathan/opt/miniconda3/envs/sklearn-demo/lib/python3.8/site-packages (from openlayer) (3.17.0)\n",
                        "Requirement already satisfied: aiohttp in /Users/rishabramanathan/opt/miniconda3/envs/sklearn-demo/lib/python3.8/site-packages (from bentoml==0.13.1->openlayer) (3.7.4.post0)\n",
                        "Requirement already satisfied: humanfriendly in /Users/rishabramanathan/opt/miniconda3/envs/sklearn-demo/lib/python3.8/site-packages (from bentoml==0.13.1->openlayer) (9.2)\n",
                        "Requirement already satisfied: tabulate in /Users/rishabramanathan/opt/miniconda3/envs/sklearn-demo/lib/python3.8/site-packages (from bentoml==0.13.1->openlayer) (0.8.9)\n",
                        "Requirement already satisfied: aiohttp-cors==0.7.0 in /Users/rishabramanathan/opt/miniconda3/envs/sklearn-demo/lib/python3.8/site-packages (from bentoml==0.13.1->openlayer) (0.7.0)\n",
                        "Requirement already satisfied: click>=7.0 in /Users/rishabramanathan/opt/miniconda3/envs/sklearn-demo/lib/python3.8/site-packages (from bentoml==0.13.1->openlayer) (8.0.1)\n",
                        "Requirement already satisfied: flask in /Users/rishabramanathan/opt/miniconda3/envs/sklearn-demo/lib/python3.8/site-packages (from bentoml==0.13.1->openlayer) (2.0.1)\n",
                        "Requirement already satisfied: packaging in /Users/rishabramanathan/opt/miniconda3/envs/sklearn-demo/lib/python3.8/site-packages (from bentoml==0.13.1->openlayer) (21.0)\n",
                        "Requirement already satisfied: urllib3<=1.25.11 in /Users/rishabramanathan/opt/miniconda3/envs/sklearn-demo/lib/python3.8/site-packages (from bentoml==0.13.1->openlayer) (1.25.11)\n",
                        "Requirement already satisfied: python-json-logger in /Users/rishabramanathan/opt/miniconda3/envs/sklearn-demo/lib/python3.8/site-packages (from bentoml==0.13.1->openlayer) (2.0.1)\n",
                        "Requirement already satisfied: simple-di in /Users/rishabramanathan/opt/miniconda3/envs/sklearn-demo/lib/python3.8/site-packages (from bentoml==0.13.1->openlayer) (0.1.5)\n",
                        "Requirement already satisfied: gunicorn in /Users/rishabramanathan/opt/miniconda3/envs/sklearn-demo/lib/python3.8/site-packages (from bentoml==0.13.1->openlayer) (20.1.0)\n",
                        "Requirement already satisfied: alembic in /Users/rishabramanathan/opt/miniconda3/envs/sklearn-demo/lib/python3.8/site-packages (from bentoml==0.13.1->openlayer) (1.6.5)\n",
                        "Requirement already satisfied: docker in /Users/rishabramanathan/opt/miniconda3/envs/sklearn-demo/lib/python3.8/site-packages (from bentoml==0.13.1->openlayer) (5.0.0)\n",
                        "Requirement already satisfied: psutil in /Users/rishabramanathan/opt/miniconda3/envs/sklearn-demo/lib/python3.8/site-packages (from bentoml==0.13.1->openlayer) (5.8.0)\n",
                        "Requirement already satisfied: sqlalchemy-utils<0.36.8 in /Users/rishabramanathan/opt/miniconda3/envs/sklearn-demo/lib/python3.8/site-packages (from bentoml==0.13.1->openlayer) (0.36.7)\n",
                        "Requirement already satisfied: boto3 in /Users/rishabramanathan/opt/miniconda3/envs/sklearn-demo/lib/python3.8/site-packages (from bentoml==0.13.1->openlayer) (1.17.110)\n",
                        "Requirement already satisfied: sqlalchemy<1.4.0,>=1.3.0 in /Users/rishabramanathan/opt/miniconda3/envs/sklearn-demo/lib/python3.8/site-packages (from bentoml==0.13.1->openlayer) (1.3.24)\n",
                        "Requirement already satisfied: schema in /Users/rishabramanathan/opt/miniconda3/envs/sklearn-demo/lib/python3.8/site-packages (from bentoml==0.13.1->openlayer) (0.7.4)\n",
                        "Requirement already satisfied: grpcio in /Users/rishabramanathan/opt/miniconda3/envs/sklearn-demo/lib/python3.8/site-packages (from bentoml==0.13.1->openlayer) (1.38.1)\n",
                        "Requirement already satisfied: configparser in /Users/rishabramanathan/opt/miniconda3/envs/sklearn-demo/lib/python3.8/site-packages (from bentoml==0.13.1->openlayer) (5.0.2)\n",
                        "Requirement already satisfied: ruamel.yaml>=0.15.0 in /Users/rishabramanathan/opt/miniconda3/envs/sklearn-demo/lib/python3.8/site-packages (from bentoml==0.13.1->openlayer) (0.17.10)\n",
                        "Requirement already satisfied: prometheus-client in /Users/rishabramanathan/opt/miniconda3/envs/sklearn-demo/lib/python3.8/site-packages (from bentoml==0.13.1->openlayer) (0.11.0)\n",
                        "Requirement already satisfied: deepmerge in /Users/rishabramanathan/opt/miniconda3/envs/sklearn-demo/lib/python3.8/site-packages (from bentoml==0.13.1->openlayer) (0.3.0)\n",
                        "Requirement already satisfied: numpy in /Users/rishabramanathan/opt/miniconda3/envs/sklearn-demo/lib/python3.8/site-packages (from bentoml==0.13.1->openlayer) (1.22.4)\n",
                        "Requirement already satisfied: chardet in /Users/rishabramanathan/opt/miniconda3/envs/sklearn-demo/lib/python3.8/site-packages (from bentoml==0.13.1->openlayer) (4.0.0)\n",
                        "Requirement already satisfied: certifi in /Users/rishabramanathan/opt/miniconda3/envs/sklearn-demo/lib/python3.8/site-packages (from bentoml==0.13.1->openlayer) (2021.5.30)\n",
                        "Requirement already satisfied: python-dateutil<3.0.0,>=2.7.3 in /Users/rishabramanathan/opt/miniconda3/envs/sklearn-demo/lib/python3.8/site-packages (from bentoml==0.13.1->openlayer) (2.8.1)\n",
                        "Requirement already satisfied: cerberus in /Users/rishabramanathan/opt/miniconda3/envs/sklearn-demo/lib/python3.8/site-packages (from bentoml==0.13.1->openlayer) (1.3.4)\n",
                        "Requirement already satisfied: ipywidgets in /Users/rishabramanathan/opt/miniconda3/envs/sklearn-demo/lib/python3.8/site-packages (from jupyter->openlayer) (7.6.3)\n",
                        "Requirement already satisfied: nbconvert in /Users/rishabramanathan/opt/miniconda3/envs/sklearn-demo/lib/python3.8/site-packages (from jupyter->openlayer) (6.1.0)\n",
                        "Requirement already satisfied: jupyter-console in /Users/rishabramanathan/opt/miniconda3/envs/sklearn-demo/lib/python3.8/site-packages (from jupyter->openlayer) (6.4.0)\n",
                        "Requirement already satisfied: ipykernel in /Users/rishabramanathan/opt/miniconda3/envs/sklearn-demo/lib/python3.8/site-packages (from jupyter->openlayer) (6.0.1)\n",
                        "Requirement already satisfied: notebook in /Users/rishabramanathan/opt/miniconda3/envs/sklearn-demo/lib/python3.8/site-packages (from jupyter->openlayer) (6.4.0)\n",
                        "Requirement already satisfied: qtconsole in /Users/rishabramanathan/opt/miniconda3/envs/sklearn-demo/lib/python3.8/site-packages (from jupyter->openlayer) (5.1.1)\n",
                        "Requirement already satisfied: pytz>=2017.2 in /Users/rishabramanathan/opt/miniconda3/envs/sklearn-demo/lib/python3.8/site-packages (from pandas->openlayer) (2021.1)\n",
                        "Requirement already satisfied: idna<3,>=2.5 in /Users/rishabramanathan/opt/miniconda3/envs/sklearn-demo/lib/python3.8/site-packages (from requests->openlayer) (2.10)\n",
                        "Requirement already satisfied: async-timeout<4.0,>=3.0 in /Users/rishabramanathan/opt/miniconda3/envs/sklearn-demo/lib/python3.8/site-packages (from aiohttp->bentoml==0.13.1->openlayer) (3.0.1)\n",
                        "Requirement already satisfied: yarl<2.0,>=1.0 in /Users/rishabramanathan/opt/miniconda3/envs/sklearn-demo/lib/python3.8/site-packages (from aiohttp->bentoml==0.13.1->openlayer) (1.6.3)\n",
                        "Requirement already satisfied: multidict<7.0,>=4.5 in /Users/rishabramanathan/opt/miniconda3/envs/sklearn-demo/lib/python3.8/site-packages (from aiohttp->bentoml==0.13.1->openlayer) (5.1.0)\n",
                        "Requirement already satisfied: attrs>=17.3.0 in /Users/rishabramanathan/opt/miniconda3/envs/sklearn-demo/lib/python3.8/site-packages (from aiohttp->bentoml==0.13.1->openlayer) (21.2.0)\n",
                        "Requirement already satisfied: typing-extensions>=3.6.5 in /Users/rishabramanathan/opt/miniconda3/envs/sklearn-demo/lib/python3.8/site-packages (from aiohttp->bentoml==0.13.1->openlayer) (4.2.0)\n",
                        "Requirement already satisfied: pyparsing>=2.0.2 in /Users/rishabramanathan/opt/miniconda3/envs/sklearn-demo/lib/python3.8/site-packages (from packaging->bentoml==0.13.1->openlayer) (2.4.7)\n",
                        "Requirement already satisfied: six>=1.5 in /Users/rishabramanathan/opt/miniconda3/envs/sklearn-demo/lib/python3.8/site-packages (from python-dateutil<3.0.0,>=2.7.3->bentoml==0.13.1->openlayer) (1.15.0)\n",
                        "Requirement already satisfied: ruamel.yaml.clib>=0.1.2 in /Users/rishabramanathan/opt/miniconda3/envs/sklearn-demo/lib/python3.8/site-packages (from ruamel.yaml>=0.15.0->bentoml==0.13.1->openlayer) (0.2.6)\n"
                    ]
                },
                {
                    "name": "stdout",
                    "output_type": "stream",
                    "text": [
                        "Requirement already satisfied: Mako in /Users/rishabramanathan/opt/miniconda3/envs/sklearn-demo/lib/python3.8/site-packages (from alembic->bentoml==0.13.1->openlayer) (1.1.4)\n",
                        "Requirement already satisfied: python-editor>=0.3 in /Users/rishabramanathan/opt/miniconda3/envs/sklearn-demo/lib/python3.8/site-packages (from alembic->bentoml==0.13.1->openlayer) (1.0.4)\n",
                        "Requirement already satisfied: jmespath<1.0.0,>=0.7.1 in /Users/rishabramanathan/opt/miniconda3/envs/sklearn-demo/lib/python3.8/site-packages (from boto3->bentoml==0.13.1->openlayer) (0.10.0)\n",
                        "Requirement already satisfied: botocore<1.21.0,>=1.20.110 in /Users/rishabramanathan/opt/miniconda3/envs/sklearn-demo/lib/python3.8/site-packages (from boto3->bentoml==0.13.1->openlayer) (1.20.110)\n",
                        "Requirement already satisfied: s3transfer<0.5.0,>=0.4.0 in /Users/rishabramanathan/opt/miniconda3/envs/sklearn-demo/lib/python3.8/site-packages (from boto3->bentoml==0.13.1->openlayer) (0.4.2)\n",
                        "Requirement already satisfied: setuptools in /Users/rishabramanathan/opt/miniconda3/envs/sklearn-demo/lib/python3.8/site-packages (from cerberus->bentoml==0.13.1->openlayer) (52.0.0.post20210125)\n",
                        "Requirement already satisfied: websocket-client>=0.32.0 in /Users/rishabramanathan/opt/miniconda3/envs/sklearn-demo/lib/python3.8/site-packages (from docker->bentoml==0.13.1->openlayer) (1.1.0)\n",
                        "Requirement already satisfied: Werkzeug>=2.0 in /Users/rishabramanathan/opt/miniconda3/envs/sklearn-demo/lib/python3.8/site-packages (from flask->bentoml==0.13.1->openlayer) (2.0.1)\n",
                        "Requirement already satisfied: itsdangerous>=2.0 in /Users/rishabramanathan/opt/miniconda3/envs/sklearn-demo/lib/python3.8/site-packages (from flask->bentoml==0.13.1->openlayer) (2.0.1)\n",
                        "Requirement already satisfied: Jinja2>=3.0 in /Users/rishabramanathan/opt/miniconda3/envs/sklearn-demo/lib/python3.8/site-packages (from flask->bentoml==0.13.1->openlayer) (3.0.1)\n",
                        "Requirement already satisfied: traitlets>=4.1.0 in /Users/rishabramanathan/opt/miniconda3/envs/sklearn-demo/lib/python3.8/site-packages (from ipykernel->jupyter->openlayer) (5.0.5)\n",
                        "Requirement already satisfied: jupyter-client in /Users/rishabramanathan/opt/miniconda3/envs/sklearn-demo/lib/python3.8/site-packages (from ipykernel->jupyter->openlayer) (6.1.12)\n",
                        "Requirement already satisfied: debugpy>=1.0.0 in /Users/rishabramanathan/opt/miniconda3/envs/sklearn-demo/lib/python3.8/site-packages (from ipykernel->jupyter->openlayer) (1.3.0)\n",
                        "Requirement already satisfied: ipython>=7.23.1 in /Users/rishabramanathan/opt/miniconda3/envs/sklearn-demo/lib/python3.8/site-packages (from ipykernel->jupyter->openlayer) (7.25.0)\n",
                        "Requirement already satisfied: tornado>=4.2 in /Users/rishabramanathan/opt/miniconda3/envs/sklearn-demo/lib/python3.8/site-packages (from ipykernel->jupyter->openlayer) (6.1)\n",
                        "Requirement already satisfied: matplotlib-inline<0.2.0appnope,>=0.1.0 in /Users/rishabramanathan/opt/miniconda3/envs/sklearn-demo/lib/python3.8/site-packages (from ipykernel->jupyter->openlayer) (0.1.2)\n",
                        "Requirement already satisfied: nbformat>=4.2.0 in /Users/rishabramanathan/opt/miniconda3/envs/sklearn-demo/lib/python3.8/site-packages (from ipywidgets->jupyter->openlayer) (5.1.3)\n",
                        "Requirement already satisfied: jupyterlab-widgets>=1.0.0 in /Users/rishabramanathan/opt/miniconda3/envs/sklearn-demo/lib/python3.8/site-packages (from ipywidgets->jupyter->openlayer) (1.0.0)\n",
                        "Requirement already satisfied: widgetsnbextension~=3.5.0 in /Users/rishabramanathan/opt/miniconda3/envs/sklearn-demo/lib/python3.8/site-packages (from ipywidgets->jupyter->openlayer) (3.5.1)\n",
                        "Requirement already satisfied: prompt-toolkit!=3.0.0,!=3.0.1,<3.1.0,>=2.0.0 in /Users/rishabramanathan/opt/miniconda3/envs/sklearn-demo/lib/python3.8/site-packages (from jupyter-console->jupyter->openlayer) (3.0.19)\n",
                        "Requirement already satisfied: pygments in /Users/rishabramanathan/opt/miniconda3/envs/sklearn-demo/lib/python3.8/site-packages (from jupyter-console->jupyter->openlayer) (2.9.0)\n",
                        "Requirement already satisfied: nbclient<0.6.0,>=0.5.0 in /Users/rishabramanathan/opt/miniconda3/envs/sklearn-demo/lib/python3.8/site-packages (from nbconvert->jupyter->openlayer) (0.5.3)\n",
                        "Requirement already satisfied: entrypoints>=0.2.2 in /Users/rishabramanathan/opt/miniconda3/envs/sklearn-demo/lib/python3.8/site-packages (from nbconvert->jupyter->openlayer) (0.3)\n",
                        "Requirement already satisfied: jupyter-core in /Users/rishabramanathan/opt/miniconda3/envs/sklearn-demo/lib/python3.8/site-packages (from nbconvert->jupyter->openlayer) (4.7.1)\n",
                        "Requirement already satisfied: pandocfilters>=1.4.1 in /Users/rishabramanathan/opt/miniconda3/envs/sklearn-demo/lib/python3.8/site-packages (from nbconvert->jupyter->openlayer) (1.4.3)\n",
                        "Requirement already satisfied: testpath in /Users/rishabramanathan/opt/miniconda3/envs/sklearn-demo/lib/python3.8/site-packages (from nbconvert->jupyter->openlayer) (0.5.0)\n",
                        "Requirement already satisfied: defusedxml in /Users/rishabramanathan/opt/miniconda3/envs/sklearn-demo/lib/python3.8/site-packages (from nbconvert->jupyter->openlayer) (0.7.1)\n",
                        "Requirement already satisfied: jupyterlab-pygments in /Users/rishabramanathan/opt/miniconda3/envs/sklearn-demo/lib/python3.8/site-packages (from nbconvert->jupyter->openlayer) (0.1.2)\n",
                        "Requirement already satisfied: bleach in /Users/rishabramanathan/opt/miniconda3/envs/sklearn-demo/lib/python3.8/site-packages (from nbconvert->jupyter->openlayer) (3.3.0)\n",
                        "Requirement already satisfied: mistune<2,>=0.8.1 in /Users/rishabramanathan/opt/miniconda3/envs/sklearn-demo/lib/python3.8/site-packages (from nbconvert->jupyter->openlayer) (0.8.4)\n",
                        "Requirement already satisfied: ipython-genutils in /Users/rishabramanathan/opt/miniconda3/envs/sklearn-demo/lib/python3.8/site-packages (from notebook->jupyter->openlayer) (0.2.0)\n",
                        "Requirement already satisfied: Send2Trash>=1.5.0 in /Users/rishabramanathan/opt/miniconda3/envs/sklearn-demo/lib/python3.8/site-packages (from notebook->jupyter->openlayer) (1.7.1)\n",
                        "Requirement already satisfied: terminado>=0.8.3 in /Users/rishabramanathan/opt/miniconda3/envs/sklearn-demo/lib/python3.8/site-packages (from notebook->jupyter->openlayer) (0.10.1)\n",
                        "Requirement already satisfied: argon2-cffi in /Users/rishabramanathan/opt/miniconda3/envs/sklearn-demo/lib/python3.8/site-packages (from notebook->jupyter->openlayer) (20.1.0)\n",
                        "Requirement already satisfied: pyzmq>=17 in /Users/rishabramanathan/opt/miniconda3/envs/sklearn-demo/lib/python3.8/site-packages (from notebook->jupyter->openlayer) (22.1.0)\n",
                        "Requirement already satisfied: qtpy in /Users/rishabramanathan/opt/miniconda3/envs/sklearn-demo/lib/python3.8/site-packages (from qtconsole->jupyter->openlayer) (1.9.0)\n",
                        "Requirement already satisfied: contextlib2>=0.5.5 in /Users/rishabramanathan/opt/miniconda3/envs/sklearn-demo/lib/python3.8/site-packages (from schema->bentoml==0.13.1->openlayer) (21.6.0)\n",
                        "Requirement already satisfied: pickleshare in /Users/rishabramanathan/opt/miniconda3/envs/sklearn-demo/lib/python3.8/site-packages (from ipython>=7.23.1->ipykernel->jupyter->openlayer) (0.7.5)\n",
                        "Requirement already satisfied: backcall in /Users/rishabramanathan/opt/miniconda3/envs/sklearn-demo/lib/python3.8/site-packages (from ipython>=7.23.1->ipykernel->jupyter->openlayer) (0.2.0)\n",
                        "Requirement already satisfied: jedi>=0.16 in /Users/rishabramanathan/opt/miniconda3/envs/sklearn-demo/lib/python3.8/site-packages (from ipython>=7.23.1->ipykernel->jupyter->openlayer) (0.18.0)\n",
                        "Requirement already satisfied: appnope in /Users/rishabramanathan/opt/miniconda3/envs/sklearn-demo/lib/python3.8/site-packages (from ipython>=7.23.1->ipykernel->jupyter->openlayer) (0.1.2)\n",
                        "Requirement already satisfied: decorator in /Users/rishabramanathan/opt/miniconda3/envs/sklearn-demo/lib/python3.8/site-packages (from ipython>=7.23.1->ipykernel->jupyter->openlayer) (5.0.9)\n",
                        "Requirement already satisfied: pexpect>4.3 in /Users/rishabramanathan/opt/miniconda3/envs/sklearn-demo/lib/python3.8/site-packages (from ipython>=7.23.1->ipykernel->jupyter->openlayer) (4.8.0)\n",
                        "Requirement already satisfied: MarkupSafe>=2.0 in /Users/rishabramanathan/opt/miniconda3/envs/sklearn-demo/lib/python3.8/site-packages (from Jinja2>=3.0->flask->bentoml==0.13.1->openlayer) (2.0.1)\n",
                        "Requirement already satisfied: async-generator in /Users/rishabramanathan/opt/miniconda3/envs/sklearn-demo/lib/python3.8/site-packages (from nbclient<0.6.0,>=0.5.0->nbconvert->jupyter->openlayer) (1.10)\n",
                        "Requirement already satisfied: nest-asyncio in /Users/rishabramanathan/opt/miniconda3/envs/sklearn-demo/lib/python3.8/site-packages (from nbclient<0.6.0,>=0.5.0->nbconvert->jupyter->openlayer) (1.5.1)\n",
                        "Requirement already satisfied: jsonschema!=2.5.0,>=2.4 in /Users/rishabramanathan/opt/miniconda3/envs/sklearn-demo/lib/python3.8/site-packages (from nbformat>=4.2.0->ipywidgets->jupyter->openlayer) (3.2.0)\n",
                        "Requirement already satisfied: wcwidth in /Users/rishabramanathan/opt/miniconda3/envs/sklearn-demo/lib/python3.8/site-packages (from prompt-toolkit!=3.0.0,!=3.0.1,<3.1.0,>=2.0.0->jupyter-console->jupyter->openlayer) (0.2.5)\n"
                    ]
                },
                {
                    "name": "stdout",
                    "output_type": "stream",
                    "text": [
                        "Requirement already satisfied: ptyprocess in /Users/rishabramanathan/opt/miniconda3/envs/sklearn-demo/lib/python3.8/site-packages (from terminado>=0.8.3->notebook->jupyter->openlayer) (0.7.0)\n",
                        "Requirement already satisfied: cffi>=1.0.0 in /Users/rishabramanathan/opt/miniconda3/envs/sklearn-demo/lib/python3.8/site-packages (from argon2-cffi->notebook->jupyter->openlayer) (1.14.6)\n",
                        "Requirement already satisfied: webencodings in /Users/rishabramanathan/opt/miniconda3/envs/sklearn-demo/lib/python3.8/site-packages (from bleach->nbconvert->jupyter->openlayer) (0.5.1)\n",
                        "Requirement already satisfied: pycparser in /Users/rishabramanathan/opt/miniconda3/envs/sklearn-demo/lib/python3.8/site-packages (from cffi>=1.0.0->argon2-cffi->notebook->jupyter->openlayer) (2.20)\n",
                        "Requirement already satisfied: parso<0.9.0,>=0.8.0 in /Users/rishabramanathan/opt/miniconda3/envs/sklearn-demo/lib/python3.8/site-packages (from jedi>=0.16->ipython>=7.23.1->ipykernel->jupyter->openlayer) (0.8.2)\n",
                        "Requirement already satisfied: pyrsistent>=0.14.0 in /Users/rishabramanathan/opt/miniconda3/envs/sklearn-demo/lib/python3.8/site-packages (from jsonschema!=2.5.0,>=2.4->nbformat>=4.2.0->ipywidgets->jupyter->openlayer) (0.18.0)\n"
                    ]
                }
            ],
            "source": [
                "!pip install openlayer"
            ]
        },
        {
            "cell_type": "markdown",
            "id": "f0be09cf",
            "metadata": {},
            "source": [
                "### Instantiating the client"
            ]
        },
        {
            "cell_type": "code",
            "execution_count": 12,
            "id": "4d2cb0e4",
            "metadata": {},
            "outputs": [],
            "source": [
                "import openlayer\n",
                "\n",
                "openlayer.api.OPENLAYER_ENDPOINT = \"http://localhost:8080/v1\"\n",
                "openlayer.api.STORAGE = openlayer.api.StorageType.ONPREM\n",
                "\n",
                "client = openlayer.OpenlayerClient(\"P0ZYAERZvzvbPvsXHTBJ2ORBqHxq9pUE\")"
            ]
        },
        {
            "cell_type": "markdown",
            "id": "4b10f758",
            "metadata": {},
            "source": [
                "### Creating a project on the platform"
            ]
        },
        {
            "cell_type": "code",
            "execution_count": 13,
            "id": "c1dfaa53",
            "metadata": {},
            "outputs": [
                {
                    "name": "stdout",
                    "output_type": "stream",
                    "text": [
                        "Created your project. Navigate to http://localhost:8000/projects/3 to see it.\n"
                    ]
                }
            ],
            "source": [
                "from openlayer.tasks import TaskType\n",
                "\n",
                "project = client.create_or_load_project(name=\"Banking Project\",\n",
                "                                        task_type=TaskType.TextClassification,\n",
                "                                        description=\"Evaluating ML approaches for a chatbot\")"
            ]
        },
        {
            "cell_type": "markdown",
            "id": "62b0badf",
            "metadata": {},
            "source": [
                "### Uploading the validation set"
            ]
        },
        {
            "cell_type": "code",
            "execution_count": 14,
            "id": "68cbc63b",
            "metadata": {},
            "outputs": [],
            "source": [
                "# Getting the label list\n",
                "label_dict = dict(zip(data.category.cat.codes, data.category))\n",
                "\n",
                "label_list = [None] * len(label_dict)\n",
                "for index, label in label_dict.items():\n",
                "    label_list[index] = label"
            ]
        },
        {
            "cell_type": "code",
            "execution_count": 15,
            "id": "embedded-assurance",
            "metadata": {},
            "outputs": [
                {
                    "name": "stdout",
                    "output_type": "stream",
                    "text": [
                        "Adding your dataset to Openlayer! Check out the project page to have a look.\n"
                    ]
                }
            ],
            "source": [
                "from openlayer.tasks import TaskType\n",
                "\n",
                "dataset = project.add_dataframe(\n",
                "    df=validation_set,\n",
                "    class_names=label_list,\n",
                "    label_column_name=\"label_code\",\n",
                "    text_column_name=\"text\",\n",
                "    commit_message=\"First commit!\"\n",
                ")"
            ]
        },
        {
            "cell_type": "markdown",
            "id": "44040f57",
            "metadata": {},
            "source": [
                "### Uploading the model\n",
                "\n",
                "First, it is important to create a `predict_proba` function, which is how Openlayer interacts with your model"
            ]
        },
        {
            "cell_type": "code",
            "execution_count": 16,
            "id": "registered-grocery",
            "metadata": {},
            "outputs": [],
            "source": [
                "def predict_proba(model, text_list):\n",
                "    return model.predict_proba(text_list)"
            ]
        },
        {
            "cell_type": "markdown",
            "id": "e97b00c9",
            "metadata": {},
            "source": [
                "Let's test the `predict_proba` function to make sure the input-output format is consistent with what Openlayer expects:"
            ]
        },
        {
            "cell_type": "code",
            "execution_count": 17,
            "id": "african-rwanda",
            "metadata": {},
            "outputs": [
                {
                    "data": {
                        "text/plain": [
                            "array([[0.0085163 , 0.01654408, 0.01178879, 0.02213127, 0.00844311,\n",
                            "        0.01339975, 0.0079393 , 0.00566056, 0.03075455, 0.02148207,\n",
                            "        0.01012182, 0.00549518, 0.00623524, 0.00669953, 0.00485448,\n",
                            "        0.00411068, 0.01336741, 0.00489345, 0.03455118, 0.00903034,\n",
                            "        0.00979557, 0.00668368, 0.00690582, 0.00391537, 0.03479671,\n",
                            "        0.01138972, 0.01938556, 0.01421167, 0.00928368, 0.01478102,\n",
                            "        0.00781391, 0.01336767, 0.00386452, 0.00870904, 0.01031671,\n",
                            "        0.02792679, 0.00643292, 0.00554295, 0.14997774, 0.00636605,\n",
                            "        0.0082626 , 0.01493688, 0.02213682, 0.00570669, 0.00887831,\n",
                            "        0.00542705, 0.01374474, 0.02349695, 0.05837501, 0.04249346,\n",
                            "        0.02770299, 0.0132905 , 0.00882109, 0.00534068, 0.01733151,\n",
                            "        0.00759683, 0.01734308, 0.01937366, 0.0180614 , 0.01215107,\n",
                            "        0.01967441, 0.01236811],\n",
                            "       [0.00329319, 0.00398165, 0.01697288, 0.00698693, 0.00244146,\n",
                            "        0.00406684, 0.00183957, 0.0483668 , 0.0965095 , 0.07651167,\n",
                            "        0.04590955, 0.07269267, 0.02230488, 0.01527488, 0.00367282,\n",
                            "        0.02388545, 0.00266918, 0.03870122, 0.00747533, 0.03476167,\n",
                            "        0.00882215, 0.00307282, 0.00739193, 0.00829203, 0.00395887,\n",
                            "        0.00333008, 0.0030393 , 0.00290017, 0.00259185, 0.00400127,\n",
                            "        0.009956  , 0.08015344, 0.007428  , 0.05497499, 0.00389913,\n",
                            "        0.0043443 , 0.00681558, 0.00242849, 0.01180846, 0.00178245,\n",
                            "        0.0086548 , 0.00452245, 0.00384909, 0.01345553, 0.02586036,\n",
                            "        0.00206387, 0.00277168, 0.00579702, 0.01961285, 0.0063558 ,\n",
                            "        0.06424838, 0.01133266, 0.00249161, 0.00209507, 0.00250789,\n",
                            "        0.00238361, 0.00351674, 0.00406932, 0.02583367, 0.02282194,\n",
                            "        0.00421483, 0.0022314 ],\n",
                            "       [0.00865914, 0.01720203, 0.01342763, 0.02235143, 0.01211753,\n",
                            "        0.01236812, 0.00716502, 0.00701137, 0.00726786, 0.03411133,\n",
                            "        0.00335886, 0.00786752, 0.00693743, 0.00708493, 0.00492421,\n",
                            "        0.00251388, 0.00440095, 0.00598751, 0.0074817 , 0.00567427,\n",
                            "        0.00899746, 0.01011885, 0.0166544 , 0.00651838, 0.01625175,\n",
                            "        0.01031062, 0.01087021, 0.01397844, 0.00744261, 0.01483372,\n",
                            "        0.0070696 , 0.00738918, 0.00339765, 0.00508068, 0.00945343,\n",
                            "        0.01930137, 0.00589182, 0.00548442, 0.0596489 , 0.00699158,\n",
                            "        0.00860749, 0.01496408, 0.02381406, 0.00547323, 0.01105567,\n",
                            "        0.00582802, 0.01229604, 0.02380159, 0.20916818, 0.07015973,\n",
                            "        0.02141945, 0.01368434, 0.00689178, 0.00457877, 0.01727504,\n",
                            "        0.00694673, 0.01643379, 0.01837608, 0.02077935, 0.01319242,\n",
                            "        0.01997592, 0.01168043]])"
                        ]
                    },
                    "execution_count": 17,
                    "metadata": {},
                    "output_type": "execute_result"
                }
            ],
            "source": [
                "texts = ['some new text, sweet noodles', 'where is my card?', 'sad day']\n",
                "\n",
                "predict_proba(sklearn_model, texts)"
            ]
        },
        {
            "cell_type": "markdown",
            "id": "880a85f4",
            "metadata": {},
            "source": [
                "Now, we can upload the model:"
            ]
        },
        {
            "cell_type": "code",
            "execution_count": 18,
            "id": "956b40f7",
            "metadata": {},
            "outputs": [
                {
                    "name": "stdout",
                    "output_type": "stream",
                    "text": [
                        "Bundling model and artifacts...\n",
                        "Adding your model to Openlayer! Check out the project page to have a look.\n"
                    ]
                }
            ],
            "source": [
                "from openlayer.models import ModelType\n",
                "\n",
                "model = project.add_model(\n",
                "    function=predict_proba, \n",
                "    model=sklearn_model,\n",
                "    model_type=ModelType.sklearn,\n",
                "    class_names=label_list,\n",
                "    name='Banking Model',\n",
                "    commit_message='First commit!',\n",
                "    requirements_txt_file='requirements.txt'\n",
                ")"
            ]
        }
    ],
    "metadata": {
        "kernelspec": {
            "display_name": "Python 3 (ipykernel)",
            "language": "python",
            "name": "python3"
        },
        "language_info": {
            "codemirror_mode": {
                "name": "ipython",
                "version": 3
            },
            "file_extension": ".py",
            "mimetype": "text/x-python",
            "name": "python",
            "nbconvert_exporter": "python",
            "pygments_lexer": "ipython3",
            "version": "3.8.10"
        }
    },
    "nbformat": 4,
    "nbformat_minor": 5
}