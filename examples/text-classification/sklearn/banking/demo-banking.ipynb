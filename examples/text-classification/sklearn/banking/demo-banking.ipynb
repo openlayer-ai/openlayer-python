{
    "cells": [
        {
            "cell_type": "markdown",
            "id": "1234aad0",
            "metadata": {},
            "source": [
                "[![Open In Colab](https://colab.research.google.com/assets/colab-badge.svg)](https://colab.research.google.com/github/openlayer-ai/examples-gallery/blob/main/text-classification/sklearn/banking/demo-banking.ipynb)\n",
                "\n",
                "\n",
                "# <a id=\"top\">Banking chatbot using sklearn</a>\n",
                "\n",
                "This notebook illustrates how sklearn models can be uploaded to the Openlayer platform.\n",
                "\n",
                "## <a id=\"toc\">Table of contents</a>\n",
                "\n",
                "1. [**Getting the data and training the model**](#1)\n",
                "    - [Downloading the dataset](#download)\n",
                "    - [Preparing the data](#prepare)\n",
                "    - [Training the model](#train)\n",
                "    \n",
                "\n",
                "2. [**Using Openlayer's Python API**](#2)\n",
                "    - [Instantiating the client](#client)\n",
                "    - [Creating a project](#project)\n",
                "    - [Uploading datasets](#dataset)\n",
                "    - [Uploading models](#model)\n",
                "        - [Shell models](#shell)\n",
                "        - [Full models](#full-model)\n",
                "    - [Committing and pushing to the platform](#commit)"
            ]
        },
        {
            "cell_type": "code",
            "execution_count": null,
            "id": "200cb601",
            "metadata": {},
            "outputs": [],
            "source": [
                "%%bash\n",
                "\n",
                "if [ ! -e \"requirements.txt\" ]; then\n",
                "    curl \"https://raw.githubusercontent.com/openlayer-ai/examples-gallery/main/text-classification/sklearn/banking/requirements.txt\" --output \"requirements.txt\"\n",
                "fi"
            ]
        },
        {
            "cell_type": "code",
            "execution_count": null,
            "id": "82eff65e",
            "metadata": {},
            "outputs": [],
            "source": [
                "!pip install -r requirements.txt"
            ]
        },
        {
            "cell_type": "markdown",
            "id": "feb4bd86",
            "metadata": {},
            "source": [
                "## <a id=\"1\"> 1. Getting the data and training the model </a>\n",
                "\n",
                "[Back to top](#top)\n",
                "\n",
                "In this first part, we will get the dataset, pre-process it, split it into training and validation sets, and train a model. Feel free to skim through this section if you are already comfortable with how these steps look for an sklearn model.   "
            ]
        },
        {
            "cell_type": "code",
            "execution_count": null,
            "id": "545c0a4b",
            "metadata": {},
            "outputs": [],
            "source": [
                "import numpy as np\n",
                "import pandas as pd\n",
                "\n",
                "from sklearn.feature_extraction.text import CountVectorizer\n",
                "from sklearn.linear_model import LogisticRegression\n",
                "from sklearn.metrics import classification_report\n",
                "from sklearn.pipeline import Pipeline"
            ]
        },
        {
            "cell_type": "markdown",
            "id": "efa0d201",
            "metadata": {},
            "source": [
                "### <a id=\"download\">Downloading the dataset </a>\n",
                "\n",
                "We have stored the dataset on the following S3 bucket. If, for some reason, you get an error reading the csv directly from it, feel free to copy and paste the URL in your browser and download the csv file. Alternatively, you can also find the dataset on [HuggingFace](https://huggingface.co/datasets/banking77)."
            ]
        },
        {
            "cell_type": "code",
            "execution_count": null,
            "id": "368f7c83",
            "metadata": {},
            "outputs": [],
            "source": [
                "%%bash\n",
                "\n",
                "if [ ! -e \"banking.csv\" ]; then\n",
                "    curl \"https://openlayer-static-assets.s3.us-west-2.amazonaws.com/examples-datasets/text-classification/banking.csv\" --output \"banking.csv\"\n",
                "fi"
            ]
        },
        {
            "cell_type": "code",
            "execution_count": null,
            "id": "db986ed2",
            "metadata": {},
            "outputs": [],
            "source": [
                "data = pd.read_csv(\"./banking.csv\")\n",
                "data.head()"
            ]
        },
        {
            "cell_type": "code",
            "execution_count": null,
            "id": "510b5080",
            "metadata": {},
            "outputs": [],
            "source": [
                "data['category'] = data['category'].astype('category')\n",
                "data['label_code'] = data['category'].cat.codes"
            ]
        },
        {
            "cell_type": "markdown",
            "id": "c1d949aa",
            "metadata": {},
            "source": [
                "### <a id=\"prepare\">Preparing the data</a>"
            ]
        },
        {
            "cell_type": "code",
            "execution_count": null,
            "id": "9bf7586c",
            "metadata": {},
            "outputs": [],
            "source": [
                "# shuffling the data\n",
                "data = data.sample(frac=1, random_state=42)  \n",
                "\n",
                "training_set = data.copy()[:7000]\n",
                "validation_set = data.copy()[7000:]"
            ]
        },
        {
            "cell_type": "markdown",
            "id": "59cd2b2f",
            "metadata": {},
            "source": [
                "### <a id=\"train\">Training the model</a>"
            ]
        },
        {
            "cell_type": "code",
            "execution_count": null,
            "id": "28faab79",
            "metadata": {},
            "outputs": [],
            "source": [
                "sklearn_model = Pipeline([('count_vect', CountVectorizer(ngram_range=(1,2), stop_words='english')), \n",
                "                          ('lr', LogisticRegression(random_state=42))])\n",
                "sklearn_model.fit(training_set['text'], training_set['label_code'])"
            ]
        },
        {
            "cell_type": "code",
            "execution_count": null,
            "id": "0d05ad47",
            "metadata": {},
            "outputs": [],
            "source": [
                "print(classification_report(validation_set['label_code'], sklearn_model.predict(validation_set['text'])))"
            ]
        },
        {
            "cell_type": "markdown",
            "id": "d84ab86a",
            "metadata": {},
            "source": [
                "## <a id=\"2\"> 2. Using Openlayer's Python API</a>\n",
                "\n",
                "[Back to top](#top)\n",
                "\n",
                "Now it's time to upload the datasets and model to the Openlayer platform."
            ]
        },
        {
            "cell_type": "code",
            "execution_count": null,
            "id": "4868a2bd",
            "metadata": {},
            "outputs": [],
            "source": [
                "!pip install openlayer"
            ]
        },
        {
            "cell_type": "markdown",
            "id": "f0be09cf",
            "metadata": {},
            "source": [
                "### <a id=\"client\">Instantiating the client</a>"
            ]
        },
        {
            "cell_type": "code",
            "execution_count": null,
            "id": "4d2cb0e4",
            "metadata": {},
            "outputs": [],
            "source": [
                "import openlayer\n",
                "\n",
                "client = openlayer.OpenlayerClient(\"YOUR_API_KEY_HERE\")"
            ]
        },
        {
            "cell_type": "markdown",
            "id": "4b10f758",
            "metadata": {},
            "source": [
                "### <a id=\"project\">Creating a project on the platform</a>"
            ]
        },
        {
            "cell_type": "code",
            "execution_count": null,
            "id": "c1dfaa53",
            "metadata": {},
            "outputs": [],
            "source": [
                "from openlayer.tasks import TaskType\n",
                "\n",
                "project = client.create_or_load_project(\n",
                "    name=\"Banking Project\",\n",
                "    task_type=TaskType.TextClassification,\n",
                "    description=\"Evaluating ML approaches for a chatbot\"\n",
                ")"
            ]
        },
        {
            "cell_type": "markdown",
            "id": "62b0badf",
            "metadata": {},
            "source": [
                "### <a id=\"dataset\">Uploading datasets</a>\n",
                "\n",
                "Before adding the datasets to a project, we need to do two things:\n",
                "1. Enhance the dataset with additional columns to make it comprehensive, such as adding a column for labels and one for model predictions (if you're uploading a model as well).\n",
                "2. Prepare a `dataset_config.yaml` file. This is a file that contains all the information needed by the Openlayer platform to utilize the dataset. It should include the column names, the class names, etc. For details on the fields of the `dataset_config.yaml` file, see the [API reference](https://reference.openlayer.com/reference/api/openlayer.OpenlayerClient.add_dataset.html#openlayer.OpenlayerClient.add_dataset).\n",
                "\n",
                "Let's start by enhancing the datasets with the extra columns:"
            ]
        },
        {
            "cell_type": "code",
            "execution_count": null,
            "id": "0357765b",
            "metadata": {},
            "outputs": [],
            "source": [
                "# Adding the column with the predictions (since we'll also upload a model later)\n",
                "training_set[\"predictions\"] = sklearn_model.predict_proba(training_set['text']).tolist()\n",
                "validation_set[\"predictions\"] = sklearn_model.predict_proba(validation_set['text']).tolist()"
            ]
        },
        {
            "cell_type": "markdown",
            "id": "db1eeb9b",
            "metadata": {},
            "source": [
                "Now, we can prepare the `dataset_config.yaml` files for the training and validation sets."
            ]
        },
        {
            "cell_type": "code",
            "execution_count": null,
            "id": "93873ffb",
            "metadata": {},
            "outputs": [],
            "source": [
                "# Some variables that will go into the `dataset_config.yaml` file\n",
                "label_dict = dict(zip(data.category.cat.codes, data.category))\n",
                "class_names = [None] * len(label_dict)\n",
                "for index, label in label_dict.items():\n",
                "    class_names[index] = label\n",
                "    \n",
                "column_names = list(training_set.columns)\n",
                "label_column_name = \"label_code\"\n",
                "prediction_scores_column_name = \"predictions\"\n",
                "text_column_name = \"text\""
            ]
        },
        {
            "cell_type": "code",
            "execution_count": null,
            "id": "a578d699",
            "metadata": {},
            "outputs": [],
            "source": [
                "import yaml \n",
                "\n",
                "# Note the camelCase for the dict's keys\n",
                "training_dataset_config = {\n",
                "    \"classNames\": class_names,\n",
                "    \"columnNames\": column_names,\n",
                "    \"textColumnName\": text_column_name,\n",
                "    \"label\": \"training\",\n",
                "    \"labelColumnName\": label_column_name,\n",
                "    \"predictionScoresColumnName\": prediction_scores_column_name,\n",
                "}\n",
                "\n",
                "with open(\"training_dataset_config.yaml\", \"w\") as dataset_config_file:\n",
                "    yaml.dump(training_dataset_config, dataset_config_file, default_flow_style=False)"
            ]
        },
        {
            "cell_type": "code",
            "execution_count": null,
            "id": "3acb8a4c",
            "metadata": {},
            "outputs": [],
            "source": [
                "import copy\n",
                "\n",
                "validation_dataset_config = copy.deepcopy(training_dataset_config)\n",
                "\n",
                "# In our case, the only field that changes is the `label`, from \"training\" -> \"validation\"\n",
                "validation_dataset_config[\"label\"] = \"validation\"\n",
                "\n",
                "with open(\"validation_dataset_config.yaml\", \"w\") as dataset_config_file:\n",
                "    yaml.dump(validation_dataset_config, dataset_config_file, default_flow_style=False)"
            ]
        },
        {
            "cell_type": "code",
            "execution_count": null,
            "id": "cc67ab96",
            "metadata": {},
            "outputs": [],
            "source": [
                "# Training set\n",
                "project.add_dataframe(\n",
                "    dataset_df=training_set,\n",
                "    dataset_config_file_path=\"training_dataset_config.yaml\",\n",
                ")"
            ]
        },
        {
            "cell_type": "code",
            "execution_count": null,
            "id": "630e5fd5",
            "metadata": {},
            "outputs": [],
            "source": [
                "# Validation set\n",
                "project.add_dataframe(\n",
                "    dataset_df=validation_set,\n",
                "    dataset_config_file_path=\"validation_dataset_config.yaml\",\n",
                ")"
            ]
        },
        {
            "cell_type": "markdown",
            "id": "9a5941f5",
            "metadata": {},
            "source": [
                "We can check that both datasets are now staged using the `project.status()` method. "
            ]
        },
        {
            "cell_type": "code",
            "execution_count": null,
            "id": "bbe5e649",
            "metadata": {},
            "outputs": [],
            "source": [
                "project.status()"
            ]
        },
        {
            "cell_type": "markdown",
            "id": "44040f57",
            "metadata": {},
            "source": [
                "### <a id=\"model\">Uploading models</a>\n",
                "\n",
                "When it comes to uploading models to the Openlayer platform, there are two options:\n",
                "\n",
                "- The first one is to upload a **shell model**. Shell models are the most straightforward way to get started. They are comprised of metadata and all of the analysis are done via its predictions (which are [uploaded with the datasets](#dataset)).\n",
                "- The second one is to upload a **full model**, with artifacts. When a full model is uploaded, it becomes available in the platform and it becomes possible to perform what-if analysis, use all the explainability techniques available, and perform a series of robustness assessments with it. "
            ]
        },
        {
            "cell_type": "markdown",
            "id": "c42aab44",
            "metadata": {},
            "source": [
                "#### <a id=\"shell\">Shell models</a>\n",
                "\n",
                "To upload a shell model, we only need to define its name, the architecture type, and add some metadata that will be rendered in the platform to help us identify it. This information should be saved to a `model_config.yaml` file.\n",
                "\n",
                "Let's create a `model_config.yaml` file for our model:"
            ]
        },
        {
            "cell_type": "code",
            "execution_count": null,
            "id": "1c1e9267",
            "metadata": {},
            "outputs": [],
            "source": [
                "import yaml\n",
                "\n",
                "model_config = {\n",
                "    \"name\": \"Banking model\",\n",
                "    \"architectureType\": \"sklearn\",\n",
                "    \"metadata\": {  # Can add anything here, as long as it is a dict\n",
                "        \"model_type\": \"Logistic Regression\",\n",
                "        \"regularization\": \"None\",\n",
                "    },\n",
                "    \"classNames\": class_names,\n",
                "}\n",
                "\n",
                "with open(\"model_config.yaml\", \"w\") as model_config_file:\n",
                "    yaml.dump(model_config, model_config_file, default_flow_style=False)"
            ]
        },
        {
            "cell_type": "code",
            "execution_count": null,
            "id": "fb7df165",
            "metadata": {},
            "outputs": [],
            "source": [
                "project.add_model(\n",
                "    model_config_file_path=\"model_config.yaml\",\n",
                ")"
            ]
        },
        {
            "cell_type": "markdown",
            "id": "8546e050",
            "metadata": {},
            "source": [
                "We can check that both datasets and model are staged using the `project.status()` method."
            ]
        },
        {
            "cell_type": "code",
            "execution_count": null,
            "id": "6817a565",
            "metadata": {},
            "outputs": [],
            "source": [
                "project.status()"
            ]
        },
        {
            "cell_type": "markdown",
            "id": "f9fc4c3d",
            "metadata": {},
            "source": [
                "Since in this example, we're interested in uploading a full model, let's unstage the shell model:"
            ]
        },
        {
            "cell_type": "code",
            "execution_count": null,
            "id": "fcb4e7a7",
            "metadata": {},
            "outputs": [],
            "source": [
                "project.restore(\"model\")"
            ]
        },
        {
            "cell_type": "markdown",
            "id": "59c58abc",
            "metadata": {},
            "source": [
                "#### <a id=\"full-model\"> Full models </a>\n",
                "\n",
                "To upload a full model to Openlayer, you will need to create a model package, which is nothing more than a folder with all the necessary information to run inference with the model. The package should include the following:\n",
                "1. A `requirements.txt` file listing the dependencies for the model.\n",
                "2. Serialized model files, such as model weights, encoders, etc., in a format specific to the framework used for training (e.g. `.pkl` for sklearn, `.pb` for TensorFlow, and so on.)\n",
                "3. A `prediction_interface.py` file that acts as a wrapper for the model and implements the `predict_proba` function. \n",
                "\n",
                "Other than the model package, a `model_config.yaml` file is needed, with information about the model to the Openlayer platform, such as the framework used, feature names, and categorical feature names.\n",
                "\n",
                "Lets prepare the model package one piece at a time"
            ]
        },
        {
            "cell_type": "code",
            "execution_count": null,
            "id": "1f0c3e3f",
            "metadata": {},
            "outputs": [],
            "source": [
                "# Creating the model package folder (we'll call it `model_package`)\n",
                "!mkdir model_package"
            ]
        },
        {
            "cell_type": "markdown",
            "id": "cd698762",
            "metadata": {},
            "source": [
                "**1. Adding the `requirements.txt` to the model package**"
            ]
        },
        {
            "cell_type": "code",
            "execution_count": null,
            "id": "665396dd",
            "metadata": {},
            "outputs": [],
            "source": [
                "!scp requirements.txt model_package"
            ]
        },
        {
            "cell_type": "markdown",
            "id": "c06617fc",
            "metadata": {},
            "source": [
                "**2. Serializing the model and other objects needed**"
            ]
        },
        {
            "cell_type": "code",
            "execution_count": null,
            "id": "84149977",
            "metadata": {},
            "outputs": [],
            "source": [
                "import pickle \n",
                "\n",
                "# Trained model pipeline\n",
                "with open('model_package/model.pkl', 'wb') as handle:\n",
                "    pickle.dump(sklearn_model, handle, protocol=pickle.HIGHEST_PROTOCOL)"
            ]
        },
        {
            "cell_type": "markdown",
            "id": "cc2d864a",
            "metadata": {},
            "source": [
                "**3. Writing the `prediction_interface.py` file**"
            ]
        },
        {
            "cell_type": "code",
            "execution_count": null,
            "id": "816b0a13",
            "metadata": {},
            "outputs": [],
            "source": [
                "%%writefile model_package/prediction_interface.py\n",
                "\n",
                "import pickle\n",
                "from pathlib import Path\n",
                "\n",
                "import pandas as pd\n",
                "\n",
                "PACKAGE_PATH = Path(__file__).parent\n",
                "\n",
                "\n",
                "class SklearnModel:\n",
                "    def __init__(self):\n",
                "        \"\"\"This is where the serialized objects needed should\n",
                "        be loaded as class attributes.\"\"\"\n",
                "\n",
                "        with open(PACKAGE_PATH / \"model.pkl\", \"rb\") as model_file:\n",
                "            self.model = pickle.load(model_file)\n",
                "\n",
                "    def predict_proba(self, input_data_df: pd.DataFrame):\n",
                "        \"\"\"Makes predictions with the model. Returns the class probabilities.\"\"\"\n",
                "        text_column = input_data_df.columns[0]\n",
                "        return self.model.predict_proba(input_data_df[text_column])\n",
                "\n",
                "\n",
                "def load_model():\n",
                "    \"\"\"Function that returns the wrapped model object.\"\"\"\n",
                "    return SklearnModel()"
            ]
        },
        {
            "cell_type": "markdown",
            "id": "43d8b243",
            "metadata": {},
            "source": [
                "**Creating the `model_config.yaml`**"
            ]
        },
        {
            "cell_type": "code",
            "execution_count": null,
            "id": "b964d7e9",
            "metadata": {},
            "outputs": [],
            "source": [
                "import yaml \n",
                "\n",
                "model_config = {\n",
                "    \"name\": \"Banking chatbot model\",\n",
                "    \"architectureType\": \"sklearn\",\n",
                "    \"classNames\": class_names\n",
                "}\n",
                "\n",
                "with open('model_config.yaml', 'w') as model_config_file:\n",
                "    yaml.dump(model_config, model_config_file, default_flow_style=False)"
            ]
        },
        {
            "cell_type": "markdown",
            "id": "72542c3c",
            "metadata": {},
            "source": [
                "Lets check that the model package contains everything needed:"
            ]
        },
        {
            "cell_type": "code",
            "execution_count": null,
            "id": "206e993d",
            "metadata": {},
            "outputs": [],
            "source": [
                "from openlayer.validators import model_validators\n",
                "\n",
                "model_validator = model_validators.ModelValidator(\n",
                "    model_package_dir=\"model_package\", \n",
                "    sample_data = validation_set[[\"text\"]].iloc[:10],\n",
                "    model_config_file_path=\"model_config.yaml\",\n",
                ")\n",
                "model_validator.validate()"
            ]
        },
        {
            "cell_type": "markdown",
            "id": "a3aa702a",
            "metadata": {},
            "source": [
                "Now, we are ready to add the model:"
            ]
        },
        {
            "cell_type": "code",
            "execution_count": null,
            "id": "8f116c65",
            "metadata": {},
            "outputs": [],
            "source": [
                "project.add_model(\n",
                "    model_package_dir=\"model_package\",\n",
                "    model_config_file_path=\"model_config.yaml\",\n",
                "    sample_data=validation_set[[\"text\"]].iloc[:10]\n",
                ")"
            ]
        },
        {
            "cell_type": "markdown",
            "id": "dd23dc13",
            "metadata": {},
            "source": [
                "We can check that both datasets and model are staged using the `project.status()` method."
            ]
        },
        {
            "cell_type": "code",
            "execution_count": null,
            "id": "cd73b261",
            "metadata": {},
            "outputs": [],
            "source": [
                "project.status()"
            ]
        },
        {
            "cell_type": "markdown",
            "id": "76b5d554",
            "metadata": {},
            "source": [
                "### <a id=\"commit\"> Committing and pushing to the platform </a>\n",
                "\n",
                "Finally, we can commit the first project version to the platform. "
            ]
        },
        {
            "cell_type": "code",
            "execution_count": null,
            "id": "c92957fc",
            "metadata": {},
            "outputs": [],
            "source": [
                "project.commit(\"Initial commit!\")"
            ]
        },
        {
            "cell_type": "code",
            "execution_count": null,
            "id": "a3727fc5",
            "metadata": {},
            "outputs": [],
            "source": [
                "project.status()"
            ]
        },
        {
            "cell_type": "code",
            "execution_count": null,
            "id": "8e3a9810",
            "metadata": {},
            "outputs": [],
            "source": [
                "project.push()"
            ]
        },
        {
            "cell_type": "code",
            "execution_count": null,
            "id": "65c441a6",
            "metadata": {},
            "outputs": [],
            "source": []
        }
    ],
    "metadata": {
        "kernelspec": {
            "display_name": "Python 3 (ipykernel)",
            "language": "python",
            "name": "python3"
        },
        "language_info": {
            "codemirror_mode": {
                "name": "ipython",
                "version": 3
            },
            "file_extension": ".py",
            "mimetype": "text/x-python",
            "name": "python",
            "nbconvert_exporter": "python",
            "pygments_lexer": "ipython3",
            "version": "3.8.13"
        }
    },
    "nbformat": 4,
    "nbformat_minor": 5
}