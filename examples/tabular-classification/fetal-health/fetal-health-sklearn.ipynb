{
 "cells": [
  {
   "cell_type": "code",
   "execution_count": null,
   "metadata": {},
   "outputs": [],
   "source": [
    "import numpy as np\n",
    "from sklearn.metrics import accuracy_score\n",
    "from sklearn.linear_model import LogisticRegression\n",
    "from sklearn.svm import SVC\n",
    "from sklearn.gaussian_process import GaussianProcessClassifier\n",
    "from sklearn.gaussian_process.kernels import RBF\n",
    "from sklearn import datasets\n",
    "import pandas as pd\n",
    "\n",
    "from sklearn.model_selection import train_test_split\n",
    "from sklearn.metrics import classification_report"
   ]
  },
  {
   "cell_type": "code",
   "execution_count": null,
   "metadata": {},
   "outputs": [],
   "source": [
    "df = pd.read_csv(\"fetal_health.csv\")"
   ]
  },
  {
   "cell_type": "code",
   "execution_count": null,
   "metadata": {},
   "outputs": [],
   "source": [
    "df['fetal_health'] = df.fetal_health.astype(int)\n",
    "df['fetal_health'] = df['fetal_health'].map({3: 0, 1:1, 2:2})"
   ]
  },
  {
   "cell_type": "code",
   "execution_count": null,
   "metadata": {},
   "outputs": [],
   "source": [
    "df['fetal_health']"
   ]
  },
  {
   "cell_type": "code",
   "execution_count": null,
   "metadata": {},
   "outputs": [],
   "source": [
    "df.fetal_health.unique()"
   ]
  },
  {
   "cell_type": "code",
   "execution_count": null,
   "metadata": {},
   "outputs": [],
   "source": [
    "train, test = train_test_split(df, test_size=0.2)"
   ]
  },
  {
   "cell_type": "code",
   "execution_count": null,
   "metadata": {},
   "outputs": [],
   "source": [
    "x_train = train.loc[:, train.columns != 'fetal_health'].to_numpy()\n",
    "y_train = train['fetal_health'].to_numpy()\n",
    "x_test = test.loc[:, test.columns != 'fetal_health'].to_numpy()\n",
    "y_test = test['fetal_health'].to_numpy()"
   ]
  },
  {
   "cell_type": "code",
   "execution_count": null,
   "metadata": {},
   "outputs": [],
   "source": [
    "clf = LogisticRegression(C=10, penalty='l1',\n",
    "                                      solver='saga',\n",
    "                                      multi_class='multinomial',\n",
    "                                      max_iter=10000)"
   ]
  },
  {
   "cell_type": "code",
   "execution_count": null,
   "metadata": {},
   "outputs": [],
   "source": [
    "clf.fit(x_train, y_train)"
   ]
  },
  {
   "cell_type": "code",
   "execution_count": null,
   "metadata": {},
   "outputs": [],
   "source": [
    "print(classification_report(y_test, clf.predict(x_test)))"
   ]
  },
  {
   "cell_type": "markdown",
   "metadata": {},
   "source": [
    "# UNBOX"
   ]
  },
  {
   "cell_type": "code",
   "execution_count": null,
   "metadata": {},
   "outputs": [],
   "source": [
    "import unboxapi\n",
    "from unboxapi.tasks import TaskType\n",
    "from unboxapi.models import ModelType\n",
    "client = unboxapi.UnboxClient(\"YOUR_API_KEY_HERE\")"
   ]
  },
  {
   "cell_type": "markdown",
   "metadata": {},
   "source": [
    "## Create function"
   ]
  },
  {
   "cell_type": "code",
   "execution_count": null,
   "metadata": {},
   "outputs": [],
   "source": [
    "import numpy as np\n",
    "\n",
    "def predict_proba(model, input_features: np.ndarray):\n",
    "    return model.predict_proba(input_features)"
   ]
  },
  {
   "cell_type": "code",
   "execution_count": null,
   "metadata": {},
   "outputs": [],
   "source": [
    "def predict_prob(input_features: np.ndarray):\n",
    "    return clf.predict_proba(input_features)"
   ]
  },
  {
   "cell_type": "code",
   "execution_count": null,
   "metadata": {},
   "outputs": [],
   "source": [
    "class_names = [\"Pathological\", \"Normal\", \"Suspect\"]"
   ]
  },
  {
   "cell_type": "code",
   "execution_count": null,
   "metadata": {},
   "outputs": [],
   "source": [
    "feature_names = test.loc[:, test.columns != 'fetal_health'].columns.values.tolist()"
   ]
  },
  {
   "cell_type": "code",
   "execution_count": null,
   "metadata": {},
   "outputs": [],
   "source": [
    "# Comment this out and uncomment the next section to load the project\n",
    "project = client.create_project(\n",
    "    name=\"Sklearn Fetal Health Project\",\n",
    "    description=\"Project for predicting fetal health\"\n",
    ")\n",
    "\n",
    "# Use this for loading the project on subsequent runs\n",
    "'''\n",
    "project = client.load_project(\n",
    "    name=\"Sklearn Fetal Health Project\"\n",
    ")\n",
    "'''\n",
    "\n",
    "dataset = project.add_dataframe(\n",
    "    df=test,\n",
    "    class_names=class_names,\n",
    "    label_column_name='fetal_health',\n",
    "    name=\"Fetal Health Sklearn Train - N3\",\n",
    "    description='this is my fetal health training demo dataset',\n",
    "    task_type=TaskType.TabularClassification,\n",
    "    feature_names=feature_names,\n",
    ")\n",
    "dataset.to_dict()"
   ]
  },
  {
   "cell_type": "code",
   "execution_count": null,
   "metadata": {},
   "outputs": [],
   "source": [
    "model = project.add_model(\n",
    "    function=predict_proba, \n",
    "    model=clf,\n",
    "    model_type=ModelType.sklearn,\n",
    "    task_type=TaskType.TabularClassification,\n",
    "    class_names=class_names,\n",
    "    name='Fetal Classifier - N3',\n",
    "    description='this is my second tabular classification model',\n",
    "    feature_names=feature_names,\n",
    "    train_sample_df=train[:100],\n",
    "    train_sample_label_column_name='fetal_health',\n",
    ")\n",
    "model.to_dict()"
   ]
  }
 ],
 "metadata": {
  "kernelspec": {
   "display_name": "Python 3 (ipykernel)",
   "language": "python",
   "name": "python3"
  },
  "language_info": {
   "codemirror_mode": {
    "name": "ipython",
    "version": 3
   },
   "file_extension": ".py",
   "mimetype": "text/x-python",
   "name": "python",
   "nbconvert_exporter": "python",
   "pygments_lexer": "ipython3",
   "version": "3.8.12"
  }
 },
 "nbformat": 4,
 "nbformat_minor": 1
}
