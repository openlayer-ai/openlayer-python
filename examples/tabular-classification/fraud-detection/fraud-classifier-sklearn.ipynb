{
 "cells": [
  {
   "cell_type": "code",
   "execution_count": null,
   "id": "33179b0c",
   "metadata": {},
   "outputs": [],
   "source": [
    "import pandas as pd\n",
    "import numpy as np\n",
    "\n",
    "from sklearn.model_selection import train_test_split\n",
    "from sklearn.ensemble import GradientBoostingClassifier,VotingClassifier,BaggingClassifier\n",
    "\n",
    "from sklearn.metrics import classification_report"
   ]
  },
  {
   "cell_type": "code",
   "execution_count": null,
   "id": "40472b51",
   "metadata": {},
   "outputs": [],
   "source": [
    "data = pd.read_csv(\"fraudTrain.csv\")"
   ]
  },
  {
   "cell_type": "code",
   "execution_count": null,
   "id": "5682c7c0",
   "metadata": {},
   "outputs": [],
   "source": [
    "# Relevant columns\n",
    "feature_names = ['amt', 'cc_num', 'merchant', 'category','state','job']\n",
    "label = ['is_fraud']\n",
    "\n",
    "# Outputs\n",
    "class_names = [\"normal\", \"fraudulent\"]\n",
    "\n",
    "# First 100,000\n",
    "clean_raw_data = data.iloc[:50000][feature_names + label]"
   ]
  },
  {
   "cell_type": "code",
   "execution_count": null,
   "id": "679e0b36",
   "metadata": {},
   "outputs": [],
   "source": [
    "X = clean_raw_data.drop('is_fraud', 1)\n",
    "y = clean_raw_data['is_fraud']"
   ]
  },
  {
   "cell_type": "markdown",
   "id": "f5a37403",
   "metadata": {},
   "source": [
    "## Prepare the data for training and for Unbox"
   ]
  },
  {
   "cell_type": "code",
   "execution_count": null,
   "id": "ec41f1ba",
   "metadata": {},
   "outputs": [],
   "source": [
    "categorical_features = ['cc_num', 'merchant', 'category', 'state', 'job']"
   ]
  },
  {
   "cell_type": "code",
   "execution_count": null,
   "id": "d0e728a9",
   "metadata": {},
   "outputs": [],
   "source": [
    "categorical_map = {\n",
    "    feature: list(X[feature].unique().astype(str)) for feature in categorical_features\n",
    "}"
   ]
  },
  {
   "cell_type": "code",
   "execution_count": null,
   "id": "708ade4c",
   "metadata": {},
   "outputs": [],
   "source": [
    "def data_encode_one_hot(df, encoders):\n",
    "    \"\"\" Encodes categorical features using one-hot encoding. \"\"\"\n",
    "    df = df.copy(True)\n",
    "    df.reset_index(drop=True, inplace=True) # Causes NaNs otherwise\n",
    "    enc_dfs = []\n",
    "    for feature, enc in encoders.items():\n",
    "        enc_df = pd.DataFrame(enc.transform(df[[feature]]).toarray(), columns=enc.get_feature_names([feature]))\n",
    "        enc_dfs.append(enc_df)\n",
    "    df = pd.concat([df] + enc_dfs, axis=1)\n",
    "    df.drop(list(encoders.keys()), axis=1, inplace=True)\n",
    "    return df"
   ]
  },
  {
   "cell_type": "code",
   "execution_count": null,
   "id": "e0a1b4b0",
   "metadata": {},
   "outputs": [],
   "source": [
    "def create_encoder_dict(df, categorical_feature_names):\n",
    "    \"\"\" Creates encoders for each of the categorical features. \n",
    "        The predict function will need these encoders. \n",
    "    \"\"\"\n",
    "    from sklearn.preprocessing import OneHotEncoder\n",
    "    encoders = {}\n",
    "    for feature in categorical_feature_names:\n",
    "        enc = OneHotEncoder(handle_unknown='error')\n",
    "        enc.fit(df[[feature]])\n",
    "        encoders[feature] = enc\n",
    "    return encoders"
   ]
  },
  {
   "cell_type": "code",
   "execution_count": null,
   "id": "248556af",
   "metadata": {},
   "outputs": [],
   "source": [
    "encoders = create_encoder_dict(X, categorical_features)"
   ]
  },
  {
   "cell_type": "code",
   "execution_count": null,
   "id": "b76d541a",
   "metadata": {},
   "outputs": [],
   "source": [
    "x_train, x_val, y_train, y_val = train_test_split(X, y, test_size = 0.2, random_state = 0)\n",
    "x_train_one_hot = data_encode_one_hot(x_train, encoders)\n",
    "x_val_one_hot = data_encode_one_hot(x_val, encoders)"
   ]
  },
  {
   "cell_type": "markdown",
   "id": "cb03e8f4",
   "metadata": {},
   "source": [
    "## Train a model using the one hot inputs"
   ]
  },
  {
   "cell_type": "code",
   "execution_count": null,
   "id": "fb60a129",
   "metadata": {},
   "outputs": [],
   "source": [
    "sklearn_model = GradientBoostingClassifier(random_state=1300)\n",
    "sklearn_model.fit(x_train_one_hot, y_train)"
   ]
  },
  {
   "cell_type": "code",
   "execution_count": null,
   "id": "a4f603d9",
   "metadata": {},
   "outputs": [],
   "source": [
    "print(classification_report(y_val, sklearn_model.predict(x_val_one_hot)))"
   ]
  },
  {
   "cell_type": "markdown",
   "id": "f3c514e1",
   "metadata": {},
   "source": [
    "# UNBOX"
   ]
  },
  {
   "cell_type": "code",
   "execution_count": null,
   "id": "82a38cd9",
   "metadata": {},
   "outputs": [],
   "source": [
    "import unboxapi\n",
    "from unboxapi.tasks import TaskType\n",
    "from unboxapi.models import ModelType\n",
    "client = unboxapi.UnboxClient(\"YOUR_API_KEY_HERE\")"
   ]
  },
  {
   "cell_type": "markdown",
   "id": "bf6ce89a",
   "metadata": {},
   "source": [
    "## Create predict function"
   ]
  },
  {
   "cell_type": "code",
   "execution_count": null,
   "id": "d233987d",
   "metadata": {},
   "outputs": [],
   "source": [
    "def predict_proba(model, input_features: np.ndarray, col_names, one_hot_encoder, encoders):\n",
    "    \"\"\"Convert the raw input_features into one-hot encoded features\n",
    "    using our one hot encoder and each feature's encoder. \"\"\"\n",
    "    df = pd.DataFrame(input_features, columns=col_names)\n",
    "    encoded_df = one_hot_encoder(df, encoders)\n",
    "    return model.predict_proba(encoded_df.to_numpy())"
   ]
  },
  {
   "cell_type": "code",
   "execution_count": null,
   "id": "674147b8",
   "metadata": {},
   "outputs": [],
   "source": [
    "# Test the predict function\n",
    "predict_proba(sklearn_model, x_val[:10][feature_names].to_numpy(), feature_names, data_encode_one_hot, encoders)"
   ]
  },
  {
   "cell_type": "code",
   "execution_count": null,
   "id": "ebb1171a",
   "metadata": {},
   "outputs": [],
   "source": [
    "# Add the ground truths to the ordinal dataset for Unbox\n",
    "x_val['is_fraud'] = y_val.values\n",
    "x_train['is_fraud'] = y_train.values"
   ]
  },
  {
   "cell_type": "code",
   "execution_count": null,
   "id": "230f1aa6",
   "metadata": {},
   "outputs": [],
   "source": [
    "from unboxapi.tasks import TaskType\n",
    "\n",
    "dataset = client.add_dataframe(\n",
    "    df=x_val.sample(1000),\n",
    "    class_names=class_names,\n",
    "    label_column_name='is_fraud',\n",
    "    name=\"Fraud detection\",\n",
    "    description='this is my fraud dataset',\n",
    "    task_type=TaskType.TabularClassification,\n",
    "    feature_names=feature_names,\n",
    "    categorical_features_map=categorical_map,\n",
    ")\n",
    "dataset.to_dict()"
   ]
  },
  {
   "cell_type": "code",
   "execution_count": null,
   "id": "ace580e8",
   "metadata": {},
   "outputs": [],
   "source": [
    "model = client.add_model(\n",
    "    function=predict_proba, \n",
    "    model=sklearn_model,\n",
    "    model_type=ModelType.sklearn,\n",
    "    task_type=TaskType.TabularClassification,\n",
    "    class_names=class_names,\n",
    "    name='Fraud detection',\n",
    "    description='this is my fraud classification model',\n",
    "    feature_names=feature_names,\n",
    "    train_sample_df=x_train,\n",
    "    train_sample_label_column_name='is_fraud',\n",
    "    categorical_features_map=categorical_map,\n",
    "    col_names=feature_names,\n",
    "    one_hot_encoder=data_encode_one_hot,\n",
    "    encoders=encoders,\n",
    ")\n",
    "model.to_dict()"
   ]
  }
 ],
 "metadata": {
  "kernelspec": {
   "display_name": "Python 3 (ipykernel)",
   "language": "python",
   "name": "python3"
  },
  "language_info": {
   "codemirror_mode": {
    "name": "ipython",
    "version": 3
   },
   "file_extension": ".py",
   "mimetype": "text/x-python",
   "name": "python",
   "nbconvert_exporter": "python",
   "pygments_lexer": "ipython3",
   "version": "3.8.10"
  }
 },
 "nbformat": 4,
 "nbformat_minor": 5
}
