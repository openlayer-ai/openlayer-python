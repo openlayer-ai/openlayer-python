{
    "cells": [
        {
            "cell_type": "markdown",
            "id": "b5f1b230",
            "metadata": {},
            "source": [
                "[![Open In Colab](https://colab.research.google.com/assets/colab-badge.svg)](https://colab.research.google.com/github/unboxai/examples-gallery/blob/main/tabular-classification/documentation-tutorial/tabular-tutorial-part-1.ipynb)\n",
                "\n"
            ]
        },
        {
            "cell_type": "markdown",
            "id": "9deda21b",
            "metadata": {},
            "source": [
                "# Welcome to the Openlayer tabular tutorial - Part 1\n",
                "\n",
                "You should use this notebook together with the [**tabular tutorial**](https://docs.openlayer.com/docs/uploading-your-first-model-and-dataset) from our documentation."
            ]
        },
        {
            "cell_type": "code",
            "execution_count": 1,
            "id": "56758c0a",
            "metadata": {},
            "outputs": [],
            "source": [
                "%%bash\n",
                "\n",
                "if [ ! -e \"requirements.txt\" ]; then\n",
                "    curl \"https://raw.githubusercontent.com/unboxai/examples-gallery/main/tabular-classification/documentation-tutorial/requirements.txt\" --output \"requirements.txt\"\n",
                "fi"
            ]
        },
        {
            "cell_type": "code",
            "execution_count": 2,
            "id": "7debb76b",
            "metadata": {},
            "outputs": [
                {
                    "name": "stdout",
                    "output_type": "stream",
                    "text": [
                        "Requirement already satisfied: numpy>=1.20 in /Users/rishabramanathan/opt/miniconda3/envs/sklearn-demo/lib/python3.8/site-packages (from -r requirements.txt (line 1)) (1.22.4)\r\n",
                        "Requirement already satisfied: pandas==1.1.4 in /Users/rishabramanathan/opt/miniconda3/envs/sklearn-demo/lib/python3.8/site-packages (from -r requirements.txt (line 2)) (1.1.4)\r\n",
                        "Requirement already satisfied: scikit-learn==0.24.1 in /Users/rishabramanathan/opt/miniconda3/envs/sklearn-demo/lib/python3.8/site-packages (from -r requirements.txt (line 3)) (0.24.1)\r\n",
                        "Requirement already satisfied: python-dateutil>=2.7.3 in /Users/rishabramanathan/opt/miniconda3/envs/sklearn-demo/lib/python3.8/site-packages (from pandas==1.1.4->-r requirements.txt (line 2)) (2.8.1)\r\n",
                        "Requirement already satisfied: pytz>=2017.2 in /Users/rishabramanathan/opt/miniconda3/envs/sklearn-demo/lib/python3.8/site-packages (from pandas==1.1.4->-r requirements.txt (line 2)) (2021.1)\r\n",
                        "Requirement already satisfied: threadpoolctl>=2.0.0 in /Users/rishabramanathan/opt/miniconda3/envs/sklearn-demo/lib/python3.8/site-packages (from scikit-learn==0.24.1->-r requirements.txt (line 3)) (2.2.0)\r\n",
                        "Requirement already satisfied: scipy>=0.19.1 in /Users/rishabramanathan/opt/miniconda3/envs/sklearn-demo/lib/python3.8/site-packages (from scikit-learn==0.24.1->-r requirements.txt (line 3)) (1.7.0)\r\n",
                        "Requirement already satisfied: joblib>=0.11 in /Users/rishabramanathan/opt/miniconda3/envs/sklearn-demo/lib/python3.8/site-packages (from scikit-learn==0.24.1->-r requirements.txt (line 3)) (1.0.1)\r\n",
                        "Requirement already satisfied: six>=1.5 in /Users/rishabramanathan/opt/miniconda3/envs/sklearn-demo/lib/python3.8/site-packages (from python-dateutil>=2.7.3->pandas==1.1.4->-r requirements.txt (line 2)) (1.15.0)\r\n"
                    ]
                }
            ],
            "source": [
                "!pip install -r requirements.txt"
            ]
        },
        {
            "cell_type": "markdown",
            "id": "ee2b5430",
            "metadata": {},
            "source": [
                "## 1. Loading the dataset\n",
                "\n",
                "First, let's import the libraries we need and load the churn training and validation datasets."
            ]
        },
        {
            "cell_type": "code",
            "execution_count": 3,
            "id": "4f69dcb3",
            "metadata": {},
            "outputs": [],
            "source": [
                "import numpy as np\n",
                "import pandas as pd\n",
                "\n",
                "from sklearn import datasets\n",
                "from sklearn.ensemble import GradientBoostingClassifier\n",
                "from sklearn.metrics import accuracy_score, classification_report\n",
                "from sklearn.model_selection import train_test_split\n",
                "from sklearn.preprocessing import OneHotEncoder"
            ]
        },
        {
            "cell_type": "markdown",
            "id": "1bcd7852",
            "metadata": {},
            "source": [
                "We have stored the dataset on the following S3 bucket. If, for some reason, you get an error reading the csv directly from it, feel free to copy and paste the URL in your browser and download the csv file. The churn dataset we use was constructed from the dataset from [this Kaggle competition](https://www.kaggle.com/competitions/churn-modelling/overview)."
            ]
        },
        {
            "cell_type": "code",
            "execution_count": 4,
            "id": "2ed8bf11",
            "metadata": {},
            "outputs": [],
            "source": [
                "TRAINING_SET_URL = \"https://openlayer-static-assets.s3.us-west-2.amazonaws.com/examples-datasets/tabular-classification/Churn+prediction/churn_train.csv\"\n",
                "VALIDATION_SET_URL = \"https://openlayer-static-assets.s3.us-west-2.amazonaws.com/examples-datasets/tabular-classification/Churn+prediction/churn_val.csv\""
            ]
        },
        {
            "cell_type": "code",
            "execution_count": 5,
            "id": "ac811397",
            "metadata": {},
            "outputs": [
                {
                    "data": {
                        "text/html": [
                            "<div>\n",
                            "<style scoped>\n",
                            "    .dataframe tbody tr th:only-of-type {\n",
                            "        vertical-align: middle;\n",
                            "    }\n",
                            "\n",
                            "    .dataframe tbody tr th {\n",
                            "        vertical-align: top;\n",
                            "    }\n",
                            "\n",
                            "    .dataframe thead th {\n",
                            "        text-align: right;\n",
                            "    }\n",
                            "</style>\n",
                            "<table border=\"1\" class=\"dataframe\">\n",
                            "  <thead>\n",
                            "    <tr style=\"text-align: right;\">\n",
                            "      <th></th>\n",
                            "      <th>RowNumber</th>\n",
                            "      <th>CustomerId</th>\n",
                            "      <th>Surname</th>\n",
                            "      <th>CreditScore</th>\n",
                            "      <th>Geography</th>\n",
                            "      <th>Gender</th>\n",
                            "      <th>Age</th>\n",
                            "      <th>Tenure</th>\n",
                            "      <th>Balance</th>\n",
                            "      <th>NumOfProducts</th>\n",
                            "      <th>HasCrCard</th>\n",
                            "      <th>IsActiveMember</th>\n",
                            "      <th>EstimatedSalary</th>\n",
                            "      <th>Exited</th>\n",
                            "    </tr>\n",
                            "  </thead>\n",
                            "  <tbody>\n",
                            "    <tr>\n",
                            "      <th>0</th>\n",
                            "      <td>6</td>\n",
                            "      <td>15574012</td>\n",
                            "      <td>Chu</td>\n",
                            "      <td>645</td>\n",
                            "      <td>Spain</td>\n",
                            "      <td>Male</td>\n",
                            "      <td>44</td>\n",
                            "      <td>8</td>\n",
                            "      <td>113755.78</td>\n",
                            "      <td>2</td>\n",
                            "      <td>1</td>\n",
                            "      <td>0</td>\n",
                            "      <td>149756.71</td>\n",
                            "      <td>1</td>\n",
                            "    </tr>\n",
                            "    <tr>\n",
                            "      <th>1</th>\n",
                            "      <td>7</td>\n",
                            "      <td>15592531</td>\n",
                            "      <td>Bartlett</td>\n",
                            "      <td>822</td>\n",
                            "      <td>France</td>\n",
                            "      <td>Male</td>\n",
                            "      <td>50</td>\n",
                            "      <td>7</td>\n",
                            "      <td>0.00</td>\n",
                            "      <td>2</td>\n",
                            "      <td>1</td>\n",
                            "      <td>1</td>\n",
                            "      <td>10062.80</td>\n",
                            "      <td>0</td>\n",
                            "    </tr>\n",
                            "    <tr>\n",
                            "      <th>2</th>\n",
                            "      <td>9</td>\n",
                            "      <td>15792365</td>\n",
                            "      <td>He</td>\n",
                            "      <td>501</td>\n",
                            "      <td>France</td>\n",
                            "      <td>Male</td>\n",
                            "      <td>44</td>\n",
                            "      <td>4</td>\n",
                            "      <td>142051.07</td>\n",
                            "      <td>2</td>\n",
                            "      <td>0</td>\n",
                            "      <td>1</td>\n",
                            "      <td>74940.50</td>\n",
                            "      <td>0</td>\n",
                            "    </tr>\n",
                            "    <tr>\n",
                            "      <th>3</th>\n",
                            "      <td>10</td>\n",
                            "      <td>15592389</td>\n",
                            "      <td>H?</td>\n",
                            "      <td>684</td>\n",
                            "      <td>France</td>\n",
                            "      <td>Male</td>\n",
                            "      <td>27</td>\n",
                            "      <td>2</td>\n",
                            "      <td>134603.88</td>\n",
                            "      <td>1</td>\n",
                            "      <td>1</td>\n",
                            "      <td>1</td>\n",
                            "      <td>71725.73</td>\n",
                            "      <td>0</td>\n",
                            "    </tr>\n",
                            "    <tr>\n",
                            "      <th>4</th>\n",
                            "      <td>11</td>\n",
                            "      <td>15767821</td>\n",
                            "      <td>Bearce</td>\n",
                            "      <td>528</td>\n",
                            "      <td>France</td>\n",
                            "      <td>Male</td>\n",
                            "      <td>31</td>\n",
                            "      <td>6</td>\n",
                            "      <td>102016.72</td>\n",
                            "      <td>2</td>\n",
                            "      <td>0</td>\n",
                            "      <td>0</td>\n",
                            "      <td>80181.12</td>\n",
                            "      <td>0</td>\n",
                            "    </tr>\n",
                            "  </tbody>\n",
                            "</table>\n",
                            "</div>"
                        ],
                        "text/plain": [
                            "   RowNumber  CustomerId   Surname  CreditScore Geography Gender  Age  Tenure  \\\n",
                            "0          6    15574012       Chu          645     Spain   Male   44       8   \n",
                            "1          7    15592531  Bartlett          822    France   Male   50       7   \n",
                            "2          9    15792365        He          501    France   Male   44       4   \n",
                            "3         10    15592389        H?          684    France   Male   27       2   \n",
                            "4         11    15767821    Bearce          528    France   Male   31       6   \n",
                            "\n",
                            "     Balance  NumOfProducts  HasCrCard  IsActiveMember  EstimatedSalary  \\\n",
                            "0  113755.78              2          1               0        149756.71   \n",
                            "1       0.00              2          1               1         10062.80   \n",
                            "2  142051.07              2          0               1         74940.50   \n",
                            "3  134603.88              1          1               1         71725.73   \n",
                            "4  102016.72              2          0               0         80181.12   \n",
                            "\n",
                            "   Exited  \n",
                            "0       1  \n",
                            "1       0  \n",
                            "2       0  \n",
                            "3       0  \n",
                            "4       0  "
                        ]
                    },
                    "execution_count": 5,
                    "metadata": {},
                    "output_type": "execute_result"
                }
            ],
            "source": [
                "# loading and having a look at the training set\n",
                "training_set = pd.read_csv(TRAINING_SET_URL)\n",
                "val_set = pd.read_csv(VALIDATION_SET_URL)\n",
                "\n",
                "training_set.head()"
            ]
        },
        {
            "cell_type": "markdown",
            "id": "1b626945",
            "metadata": {},
            "source": [
                "The label we want to learn to predict is in the column `Exited`: retained users have a value of 0 while users that exited have a value of 1. Additionally, we **don't** want to use the `RowNumber`, `CurtomerId`, and `Surname` in our model, so we exclude these columns from our dataset."
            ]
        },
        {
            "cell_type": "code",
            "execution_count": 6,
            "id": "0ccaafae",
            "metadata": {},
            "outputs": [],
            "source": [
                "X_train = training_set.iloc[:, 3:-1]\n",
                "y_train = training_set.iloc[:, -1]\n",
                "\n",
                "X_val = val_set.iloc[:, 3:-1]\n",
                "y_val = val_set.iloc[:, -1]"
            ]
        },
        {
            "cell_type": "markdown",
            "id": "c0206c2e",
            "metadata": {},
            "source": [
                "## 2. Pre-processing the data\n",
                "\n",
                "Notice from one of the previous cell's output that the users' genders and geographies are **categorical features**. Therefore, before feeding the data into the model, we need to encode them. Let's apply a **one-hot-encoding**, which is a common choice when dealing with categorical features."
            ]
        },
        {
            "cell_type": "code",
            "execution_count": 7,
            "id": "29e71531",
            "metadata": {},
            "outputs": [],
            "source": [
                "def data_encode_one_hot(df, encoders):\n",
                "    \"\"\" Encodes categorical features using one-hot encoding. \"\"\"\n",
                "    df = df.copy(True)\n",
                "    df.reset_index(drop=True, inplace=True) # Causes NaNs otherwise\n",
                "    for feature, enc in encoders.items():\n",
                "        print(f\"encoding {feature}\")\n",
                "        enc_df = pd.DataFrame(enc.transform(df[[feature]]).toarray(), columns=enc.get_feature_names([feature]))\n",
                "        df = df.join(enc_df)\n",
                "        df = df.drop(columns=feature)\n",
                "    return df"
            ]
        },
        {
            "cell_type": "code",
            "execution_count": 8,
            "id": "3680efe3",
            "metadata": {},
            "outputs": [],
            "source": [
                "def create_encoder_dict(df, categorical_feature_names):\n",
                "    \"\"\" Creates encoders for each of the categorical features. \n",
                "        The predict function will need these encoders. \n",
                "    \"\"\"\n",
                "    encoders = {}\n",
                "    for feature in categorical_feature_names:\n",
                "        enc = OneHotEncoder(handle_unknown='ignore')\n",
                "        enc.fit(df[[feature]])\n",
                "        encoders[feature] = enc\n",
                "    return encoders"
            ]
        },
        {
            "cell_type": "code",
            "execution_count": 9,
            "id": "0fcfef49",
            "metadata": {},
            "outputs": [],
            "source": [
                "# creating the encoder dict for the categorical features (gender and geography)\n",
                "encoders = create_encoder_dict(X_train, ['Geography', 'Gender'])"
            ]
        },
        {
            "cell_type": "code",
            "execution_count": 10,
            "id": "53491eab",
            "metadata": {},
            "outputs": [
                {
                    "name": "stdout",
                    "output_type": "stream",
                    "text": [
                        "encoding Geography\n",
                        "encoding Gender\n",
                        "encoding Geography\n",
                        "encoding Gender\n"
                    ]
                }
            ],
            "source": [
                "# encoding the categorical features in our training and validation sets\n",
                "X_train_one_hot = data_encode_one_hot(X_train, encoders)\n",
                "X_val_one_hot = data_encode_one_hot(X_val, encoders)"
            ]
        },
        {
            "cell_type": "markdown",
            "id": "c0c0f1a8",
            "metadata": {},
            "source": [
                "## 3. Training and evaluating our model\n",
                "\n",
                "We are going to train a gradient boosting classifier on the training data. Let's then check out what the model's performance is in the validation set."
            ]
        },
        {
            "cell_type": "code",
            "execution_count": 11,
            "id": "a981bc4b",
            "metadata": {},
            "outputs": [
                {
                    "data": {
                        "text/plain": [
                            "GradientBoostingClassifier(random_state=42)"
                        ]
                    },
                    "execution_count": 11,
                    "metadata": {},
                    "output_type": "execute_result"
                }
            ],
            "source": [
                "sklearn_model = GradientBoostingClassifier(random_state=42) \n",
                "sklearn_model.fit(X_train_one_hot, y_train)"
            ]
        },
        {
            "cell_type": "code",
            "execution_count": 12,
            "id": "ba829dcd",
            "metadata": {},
            "outputs": [
                {
                    "name": "stdout",
                    "output_type": "stream",
                    "text": [
                        "              precision    recall  f1-score   support\n",
                        "\n",
                        "           0       0.91      0.68      0.78       795\n",
                        "           1       0.38      0.75      0.50       205\n",
                        "\n",
                        "    accuracy                           0.69      1000\n",
                        "   macro avg       0.65      0.72      0.64      1000\n",
                        "weighted avg       0.80      0.69      0.72      1000\n",
                        "\n"
                    ]
                }
            ],
            "source": [
                "print(classification_report(y_val, sklearn_model.predict(X_val_one_hot)))"
            ]
        },
        {
            "cell_type": "markdown",
            "id": "eb702d1f",
            "metadata": {},
            "source": [
                "## 5. Openlayer part!\n",
                "\n",
                "Now it's up to you! We will just compute a few important variables and concatenate the x and y, because Openlayer expects a single dataframe with features and labels for the upload. \n",
                "\n",
                "Head back to the tutorial for an explanation of next few cells."
            ]
        },
        {
            "cell_type": "code",
            "execution_count": 13,
            "id": "b1682ee4",
            "metadata": {},
            "outputs": [],
            "source": [
                "feature_names = X_train.columns.values.tolist()\n",
                "categorical_feature_names = [\"Gender\", \"Geography\"]\n",
                "class_names = [\"Retained\", \"Exited\"]"
            ]
        },
        {
            "cell_type": "code",
            "execution_count": 14,
            "id": "d480f0c3",
            "metadata": {},
            "outputs": [],
            "source": [
                "training_set = pd.concat([X_train, y_train], axis=1)\n",
                "validation_set = pd.concat([X_val, y_val], axis=1)"
            ]
        },
        {
            "cell_type": "code",
            "execution_count": 15,
            "id": "945e2619",
            "metadata": {},
            "outputs": [
                {
                    "name": "stdout",
                    "output_type": "stream",
                    "text": [
                        "Collecting openlayer\n",
                        "  Using cached openlayer-0.3.0-py3-none-any.whl (25 kB)\n",
                        "Requirement already satisfied: tqdm in /Users/rishabramanathan/opt/miniconda3/envs/sklearn-demo/lib/python3.8/site-packages (from openlayer) (4.59.0)\n",
                        "Collecting protobuf==3.20.0\n",
                        "  Using cached protobuf-3.20.0-cp38-cp38-macosx_10_9_x86_64.whl (962 kB)\n",
                        "Requirement already satisfied: requests in /Users/rishabramanathan/opt/miniconda3/envs/sklearn-demo/lib/python3.8/site-packages (from openlayer) (2.25.1)\n",
                        "Requirement already satisfied: marshmallow in /Users/rishabramanathan/opt/miniconda3/envs/sklearn-demo/lib/python3.8/site-packages (from openlayer) (3.17.0)\n",
                        "Requirement already satisfied: jupyter in /Users/rishabramanathan/opt/miniconda3/envs/sklearn-demo/lib/python3.8/site-packages (from openlayer) (1.0.0)\n",
                        "Requirement already satisfied: pandas in /Users/rishabramanathan/opt/miniconda3/envs/sklearn-demo/lib/python3.8/site-packages (from openlayer) (1.1.4)\n",
                        "Requirement already satisfied: bentoml==0.13.1 in /Users/rishabramanathan/opt/miniconda3/envs/sklearn-demo/lib/python3.8/site-packages (from openlayer) (0.13.1)\n",
                        "Requirement already satisfied: chardet in /Users/rishabramanathan/opt/miniconda3/envs/sklearn-demo/lib/python3.8/site-packages (from bentoml==0.13.1->openlayer) (4.0.0)\n",
                        "Requirement already satisfied: click>=7.0 in /Users/rishabramanathan/opt/miniconda3/envs/sklearn-demo/lib/python3.8/site-packages (from bentoml==0.13.1->openlayer) (8.0.1)\n",
                        "Requirement already satisfied: configparser in /Users/rishabramanathan/opt/miniconda3/envs/sklearn-demo/lib/python3.8/site-packages (from bentoml==0.13.1->openlayer) (5.0.2)\n",
                        "Requirement already satisfied: aiohttp in /Users/rishabramanathan/opt/miniconda3/envs/sklearn-demo/lib/python3.8/site-packages (from bentoml==0.13.1->openlayer) (3.7.4.post0)\n",
                        "Requirement already satisfied: psutil in /Users/rishabramanathan/opt/miniconda3/envs/sklearn-demo/lib/python3.8/site-packages (from bentoml==0.13.1->openlayer) (5.8.0)\n",
                        "Requirement already satisfied: packaging in /Users/rishabramanathan/opt/miniconda3/envs/sklearn-demo/lib/python3.8/site-packages (from bentoml==0.13.1->openlayer) (21.0)\n",
                        "Requirement already satisfied: ruamel.yaml>=0.15.0 in /Users/rishabramanathan/opt/miniconda3/envs/sklearn-demo/lib/python3.8/site-packages (from bentoml==0.13.1->openlayer) (0.17.10)\n",
                        "Requirement already satisfied: sqlalchemy<1.4.0,>=1.3.0 in /Users/rishabramanathan/opt/miniconda3/envs/sklearn-demo/lib/python3.8/site-packages (from bentoml==0.13.1->openlayer) (1.3.24)\n",
                        "Requirement already satisfied: docker in /Users/rishabramanathan/opt/miniconda3/envs/sklearn-demo/lib/python3.8/site-packages (from bentoml==0.13.1->openlayer) (5.0.0)\n",
                        "Requirement already satisfied: boto3 in /Users/rishabramanathan/opt/miniconda3/envs/sklearn-demo/lib/python3.8/site-packages (from bentoml==0.13.1->openlayer) (1.17.110)\n",
                        "Requirement already satisfied: python-dateutil<3.0.0,>=2.7.3 in /Users/rishabramanathan/opt/miniconda3/envs/sklearn-demo/lib/python3.8/site-packages (from bentoml==0.13.1->openlayer) (2.8.1)\n",
                        "Requirement already satisfied: grpcio in /Users/rishabramanathan/opt/miniconda3/envs/sklearn-demo/lib/python3.8/site-packages (from bentoml==0.13.1->openlayer) (1.38.1)\n",
                        "Requirement already satisfied: python-json-logger in /Users/rishabramanathan/opt/miniconda3/envs/sklearn-demo/lib/python3.8/site-packages (from bentoml==0.13.1->openlayer) (2.0.1)\n",
                        "Requirement already satisfied: deepmerge in /Users/rishabramanathan/opt/miniconda3/envs/sklearn-demo/lib/python3.8/site-packages (from bentoml==0.13.1->openlayer) (0.3.0)\n",
                        "Requirement already satisfied: alembic in /Users/rishabramanathan/opt/miniconda3/envs/sklearn-demo/lib/python3.8/site-packages (from bentoml==0.13.1->openlayer) (1.6.5)\n",
                        "Requirement already satisfied: numpy in /Users/rishabramanathan/opt/miniconda3/envs/sklearn-demo/lib/python3.8/site-packages (from bentoml==0.13.1->openlayer) (1.22.4)\n",
                        "Requirement already satisfied: tabulate in /Users/rishabramanathan/opt/miniconda3/envs/sklearn-demo/lib/python3.8/site-packages (from bentoml==0.13.1->openlayer) (0.8.9)\n",
                        "Requirement already satisfied: cerberus in /Users/rishabramanathan/opt/miniconda3/envs/sklearn-demo/lib/python3.8/site-packages (from bentoml==0.13.1->openlayer) (1.3.4)\n",
                        "Collecting urllib3<=1.25.11\n",
                        "  Using cached urllib3-1.25.11-py2.py3-none-any.whl (127 kB)\n",
                        "Requirement already satisfied: schema in /Users/rishabramanathan/opt/miniconda3/envs/sklearn-demo/lib/python3.8/site-packages (from bentoml==0.13.1->openlayer) (0.7.4)\n",
                        "Requirement already satisfied: aiohttp-cors==0.7.0 in /Users/rishabramanathan/opt/miniconda3/envs/sklearn-demo/lib/python3.8/site-packages (from bentoml==0.13.1->openlayer) (0.7.0)\n",
                        "Requirement already satisfied: certifi in /Users/rishabramanathan/opt/miniconda3/envs/sklearn-demo/lib/python3.8/site-packages (from bentoml==0.13.1->openlayer) (2021.5.30)\n",
                        "Requirement already satisfied: simple-di in /Users/rishabramanathan/opt/miniconda3/envs/sklearn-demo/lib/python3.8/site-packages (from bentoml==0.13.1->openlayer) (0.1.5)\n",
                        "Requirement already satisfied: gunicorn in /Users/rishabramanathan/opt/miniconda3/envs/sklearn-demo/lib/python3.8/site-packages (from bentoml==0.13.1->openlayer) (20.1.0)\n",
                        "Requirement already satisfied: humanfriendly in /Users/rishabramanathan/opt/miniconda3/envs/sklearn-demo/lib/python3.8/site-packages (from bentoml==0.13.1->openlayer) (9.2)\n",
                        "Requirement already satisfied: flask in /Users/rishabramanathan/opt/miniconda3/envs/sklearn-demo/lib/python3.8/site-packages (from bentoml==0.13.1->openlayer) (2.0.1)\n",
                        "Requirement already satisfied: prometheus-client in /Users/rishabramanathan/opt/miniconda3/envs/sklearn-demo/lib/python3.8/site-packages (from bentoml==0.13.1->openlayer) (0.11.0)\n",
                        "Requirement already satisfied: sqlalchemy-utils<0.36.8 in /Users/rishabramanathan/opt/miniconda3/envs/sklearn-demo/lib/python3.8/site-packages (from bentoml==0.13.1->openlayer) (0.36.7)\n",
                        "Requirement already satisfied: ipykernel in /Users/rishabramanathan/opt/miniconda3/envs/sklearn-demo/lib/python3.8/site-packages (from jupyter->openlayer) (6.0.1)\n",
                        "Requirement already satisfied: ipywidgets in /Users/rishabramanathan/opt/miniconda3/envs/sklearn-demo/lib/python3.8/site-packages (from jupyter->openlayer) (7.6.3)\n",
                        "Requirement already satisfied: qtconsole in /Users/rishabramanathan/opt/miniconda3/envs/sklearn-demo/lib/python3.8/site-packages (from jupyter->openlayer) (5.1.1)\n",
                        "Requirement already satisfied: notebook in /Users/rishabramanathan/opt/miniconda3/envs/sklearn-demo/lib/python3.8/site-packages (from jupyter->openlayer) (6.4.0)\n",
                        "Requirement already satisfied: jupyter-console in /Users/rishabramanathan/opt/miniconda3/envs/sklearn-demo/lib/python3.8/site-packages (from jupyter->openlayer) (6.4.0)\n",
                        "Requirement already satisfied: nbconvert in /Users/rishabramanathan/opt/miniconda3/envs/sklearn-demo/lib/python3.8/site-packages (from jupyter->openlayer) (6.1.0)\n",
                        "Requirement already satisfied: pytz>=2017.2 in /Users/rishabramanathan/opt/miniconda3/envs/sklearn-demo/lib/python3.8/site-packages (from pandas->openlayer) (2021.1)\n",
                        "Requirement already satisfied: idna<3,>=2.5 in /Users/rishabramanathan/opt/miniconda3/envs/sklearn-demo/lib/python3.8/site-packages (from requests->openlayer) (2.10)\n",
                        "Requirement already satisfied: multidict<7.0,>=4.5 in /Users/rishabramanathan/opt/miniconda3/envs/sklearn-demo/lib/python3.8/site-packages (from aiohttp->bentoml==0.13.1->openlayer) (5.1.0)\n",
                        "Requirement already satisfied: yarl<2.0,>=1.0 in /Users/rishabramanathan/opt/miniconda3/envs/sklearn-demo/lib/python3.8/site-packages (from aiohttp->bentoml==0.13.1->openlayer) (1.6.3)\n",
                        "Requirement already satisfied: async-timeout<4.0,>=3.0 in /Users/rishabramanathan/opt/miniconda3/envs/sklearn-demo/lib/python3.8/site-packages (from aiohttp->bentoml==0.13.1->openlayer) (3.0.1)\n",
                        "Requirement already satisfied: typing-extensions>=3.6.5 in /Users/rishabramanathan/opt/miniconda3/envs/sklearn-demo/lib/python3.8/site-packages (from aiohttp->bentoml==0.13.1->openlayer) (4.2.0)\n",
                        "Requirement already satisfied: attrs>=17.3.0 in /Users/rishabramanathan/opt/miniconda3/envs/sklearn-demo/lib/python3.8/site-packages (from aiohttp->bentoml==0.13.1->openlayer) (21.2.0)\n",
                        "Requirement already satisfied: pyparsing>=2.0.2 in /Users/rishabramanathan/opt/miniconda3/envs/sklearn-demo/lib/python3.8/site-packages (from packaging->bentoml==0.13.1->openlayer) (2.4.7)\n",
                        "Requirement already satisfied: six>=1.5 in /Users/rishabramanathan/opt/miniconda3/envs/sklearn-demo/lib/python3.8/site-packages (from python-dateutil<3.0.0,>=2.7.3->bentoml==0.13.1->openlayer) (1.15.0)\n",
                        "Requirement already satisfied: ruamel.yaml.clib>=0.1.2 in /Users/rishabramanathan/opt/miniconda3/envs/sklearn-demo/lib/python3.8/site-packages (from ruamel.yaml>=0.15.0->bentoml==0.13.1->openlayer) (0.2.6)\n"
                    ]
                },
                {
                    "name": "stdout",
                    "output_type": "stream",
                    "text": [
                        "Requirement already satisfied: Mako in /Users/rishabramanathan/opt/miniconda3/envs/sklearn-demo/lib/python3.8/site-packages (from alembic->bentoml==0.13.1->openlayer) (1.1.4)\n",
                        "Requirement already satisfied: python-editor>=0.3 in /Users/rishabramanathan/opt/miniconda3/envs/sklearn-demo/lib/python3.8/site-packages (from alembic->bentoml==0.13.1->openlayer) (1.0.4)\n",
                        "Requirement already satisfied: s3transfer<0.5.0,>=0.4.0 in /Users/rishabramanathan/opt/miniconda3/envs/sklearn-demo/lib/python3.8/site-packages (from boto3->bentoml==0.13.1->openlayer) (0.4.2)\n",
                        "Requirement already satisfied: jmespath<1.0.0,>=0.7.1 in /Users/rishabramanathan/opt/miniconda3/envs/sklearn-demo/lib/python3.8/site-packages (from boto3->bentoml==0.13.1->openlayer) (0.10.0)\n",
                        "Requirement already satisfied: botocore<1.21.0,>=1.20.110 in /Users/rishabramanathan/opt/miniconda3/envs/sklearn-demo/lib/python3.8/site-packages (from boto3->bentoml==0.13.1->openlayer) (1.20.110)\n",
                        "Requirement already satisfied: setuptools in /Users/rishabramanathan/opt/miniconda3/envs/sklearn-demo/lib/python3.8/site-packages (from cerberus->bentoml==0.13.1->openlayer) (52.0.0.post20210125)\n",
                        "Requirement already satisfied: websocket-client>=0.32.0 in /Users/rishabramanathan/opt/miniconda3/envs/sklearn-demo/lib/python3.8/site-packages (from docker->bentoml==0.13.1->openlayer) (1.1.0)\n",
                        "Requirement already satisfied: Werkzeug>=2.0 in /Users/rishabramanathan/opt/miniconda3/envs/sklearn-demo/lib/python3.8/site-packages (from flask->bentoml==0.13.1->openlayer) (2.0.1)\n",
                        "Requirement already satisfied: itsdangerous>=2.0 in /Users/rishabramanathan/opt/miniconda3/envs/sklearn-demo/lib/python3.8/site-packages (from flask->bentoml==0.13.1->openlayer) (2.0.1)\n",
                        "Requirement already satisfied: Jinja2>=3.0 in /Users/rishabramanathan/opt/miniconda3/envs/sklearn-demo/lib/python3.8/site-packages (from flask->bentoml==0.13.1->openlayer) (3.0.1)\n",
                        "Requirement already satisfied: debugpy>=1.0.0 in /Users/rishabramanathan/opt/miniconda3/envs/sklearn-demo/lib/python3.8/site-packages (from ipykernel->jupyter->openlayer) (1.3.0)\n",
                        "Requirement already satisfied: tornado>=4.2 in /Users/rishabramanathan/opt/miniconda3/envs/sklearn-demo/lib/python3.8/site-packages (from ipykernel->jupyter->openlayer) (6.1)\n",
                        "Requirement already satisfied: traitlets>=4.1.0 in /Users/rishabramanathan/opt/miniconda3/envs/sklearn-demo/lib/python3.8/site-packages (from ipykernel->jupyter->openlayer) (5.0.5)\n",
                        "Requirement already satisfied: jupyter-client in /Users/rishabramanathan/opt/miniconda3/envs/sklearn-demo/lib/python3.8/site-packages (from ipykernel->jupyter->openlayer) (6.1.12)\n",
                        "Requirement already satisfied: ipython>=7.23.1 in /Users/rishabramanathan/opt/miniconda3/envs/sklearn-demo/lib/python3.8/site-packages (from ipykernel->jupyter->openlayer) (7.25.0)\n",
                        "Requirement already satisfied: matplotlib-inline<0.2.0appnope,>=0.1.0 in /Users/rishabramanathan/opt/miniconda3/envs/sklearn-demo/lib/python3.8/site-packages (from ipykernel->jupyter->openlayer) (0.1.2)\n",
                        "Requirement already satisfied: jupyterlab-widgets>=1.0.0 in /Users/rishabramanathan/opt/miniconda3/envs/sklearn-demo/lib/python3.8/site-packages (from ipywidgets->jupyter->openlayer) (1.0.0)\n",
                        "Requirement already satisfied: nbformat>=4.2.0 in /Users/rishabramanathan/opt/miniconda3/envs/sklearn-demo/lib/python3.8/site-packages (from ipywidgets->jupyter->openlayer) (5.1.3)\n",
                        "Requirement already satisfied: widgetsnbextension~=3.5.0 in /Users/rishabramanathan/opt/miniconda3/envs/sklearn-demo/lib/python3.8/site-packages (from ipywidgets->jupyter->openlayer) (3.5.1)\n",
                        "Requirement already satisfied: prompt-toolkit!=3.0.0,!=3.0.1,<3.1.0,>=2.0.0 in /Users/rishabramanathan/opt/miniconda3/envs/sklearn-demo/lib/python3.8/site-packages (from jupyter-console->jupyter->openlayer) (3.0.19)\n",
                        "Requirement already satisfied: pygments in /Users/rishabramanathan/opt/miniconda3/envs/sklearn-demo/lib/python3.8/site-packages (from jupyter-console->jupyter->openlayer) (2.9.0)\n",
                        "Requirement already satisfied: mistune<2,>=0.8.1 in /Users/rishabramanathan/opt/miniconda3/envs/sklearn-demo/lib/python3.8/site-packages (from nbconvert->jupyter->openlayer) (0.8.4)\n",
                        "Requirement already satisfied: nbclient<0.6.0,>=0.5.0 in /Users/rishabramanathan/opt/miniconda3/envs/sklearn-demo/lib/python3.8/site-packages (from nbconvert->jupyter->openlayer) (0.5.3)\n",
                        "Requirement already satisfied: bleach in /Users/rishabramanathan/opt/miniconda3/envs/sklearn-demo/lib/python3.8/site-packages (from nbconvert->jupyter->openlayer) (3.3.0)\n",
                        "Requirement already satisfied: jupyterlab-pygments in /Users/rishabramanathan/opt/miniconda3/envs/sklearn-demo/lib/python3.8/site-packages (from nbconvert->jupyter->openlayer) (0.1.2)\n",
                        "Requirement already satisfied: pandocfilters>=1.4.1 in /Users/rishabramanathan/opt/miniconda3/envs/sklearn-demo/lib/python3.8/site-packages (from nbconvert->jupyter->openlayer) (1.4.3)\n",
                        "Requirement already satisfied: defusedxml in /Users/rishabramanathan/opt/miniconda3/envs/sklearn-demo/lib/python3.8/site-packages (from nbconvert->jupyter->openlayer) (0.7.1)\n",
                        "Requirement already satisfied: testpath in /Users/rishabramanathan/opt/miniconda3/envs/sklearn-demo/lib/python3.8/site-packages (from nbconvert->jupyter->openlayer) (0.5.0)\n",
                        "Requirement already satisfied: jupyter-core in /Users/rishabramanathan/opt/miniconda3/envs/sklearn-demo/lib/python3.8/site-packages (from nbconvert->jupyter->openlayer) (4.7.1)\n",
                        "Requirement already satisfied: entrypoints>=0.2.2 in /Users/rishabramanathan/opt/miniconda3/envs/sklearn-demo/lib/python3.8/site-packages (from nbconvert->jupyter->openlayer) (0.3)\n",
                        "Requirement already satisfied: argon2-cffi in /Users/rishabramanathan/opt/miniconda3/envs/sklearn-demo/lib/python3.8/site-packages (from notebook->jupyter->openlayer) (20.1.0)\n",
                        "Requirement already satisfied: terminado>=0.8.3 in /Users/rishabramanathan/opt/miniconda3/envs/sklearn-demo/lib/python3.8/site-packages (from notebook->jupyter->openlayer) (0.10.1)\n",
                        "Requirement already satisfied: pyzmq>=17 in /Users/rishabramanathan/opt/miniconda3/envs/sklearn-demo/lib/python3.8/site-packages (from notebook->jupyter->openlayer) (22.1.0)\n",
                        "Requirement already satisfied: Send2Trash>=1.5.0 in /Users/rishabramanathan/opt/miniconda3/envs/sklearn-demo/lib/python3.8/site-packages (from notebook->jupyter->openlayer) (1.7.1)\n",
                        "Requirement already satisfied: ipython-genutils in /Users/rishabramanathan/opt/miniconda3/envs/sklearn-demo/lib/python3.8/site-packages (from notebook->jupyter->openlayer) (0.2.0)\n",
                        "Requirement already satisfied: qtpy in /Users/rishabramanathan/opt/miniconda3/envs/sklearn-demo/lib/python3.8/site-packages (from qtconsole->jupyter->openlayer) (1.9.0)\n",
                        "Requirement already satisfied: contextlib2>=0.5.5 in /Users/rishabramanathan/opt/miniconda3/envs/sklearn-demo/lib/python3.8/site-packages (from schema->bentoml==0.13.1->openlayer) (21.6.0)\n",
                        "Requirement already satisfied: appnope in /Users/rishabramanathan/opt/miniconda3/envs/sklearn-demo/lib/python3.8/site-packages (from ipython>=7.23.1->ipykernel->jupyter->openlayer) (0.1.2)\n",
                        "Requirement already satisfied: pexpect>4.3 in /Users/rishabramanathan/opt/miniconda3/envs/sklearn-demo/lib/python3.8/site-packages (from ipython>=7.23.1->ipykernel->jupyter->openlayer) (4.8.0)\n",
                        "Requirement already satisfied: decorator in /Users/rishabramanathan/opt/miniconda3/envs/sklearn-demo/lib/python3.8/site-packages (from ipython>=7.23.1->ipykernel->jupyter->openlayer) (5.0.9)\n",
                        "Requirement already satisfied: pickleshare in /Users/rishabramanathan/opt/miniconda3/envs/sklearn-demo/lib/python3.8/site-packages (from ipython>=7.23.1->ipykernel->jupyter->openlayer) (0.7.5)\n",
                        "Requirement already satisfied: jedi>=0.16 in /Users/rishabramanathan/opt/miniconda3/envs/sklearn-demo/lib/python3.8/site-packages (from ipython>=7.23.1->ipykernel->jupyter->openlayer) (0.18.0)\n",
                        "Requirement already satisfied: backcall in /Users/rishabramanathan/opt/miniconda3/envs/sklearn-demo/lib/python3.8/site-packages (from ipython>=7.23.1->ipykernel->jupyter->openlayer) (0.2.0)\n",
                        "Requirement already satisfied: MarkupSafe>=2.0 in /Users/rishabramanathan/opt/miniconda3/envs/sklearn-demo/lib/python3.8/site-packages (from Jinja2>=3.0->flask->bentoml==0.13.1->openlayer) (2.0.1)\n",
                        "Requirement already satisfied: async-generator in /Users/rishabramanathan/opt/miniconda3/envs/sklearn-demo/lib/python3.8/site-packages (from nbclient<0.6.0,>=0.5.0->nbconvert->jupyter->openlayer) (1.10)\n"
                    ]
                },
                {
                    "name": "stdout",
                    "output_type": "stream",
                    "text": [
                        "Requirement already satisfied: nest-asyncio in /Users/rishabramanathan/opt/miniconda3/envs/sklearn-demo/lib/python3.8/site-packages (from nbclient<0.6.0,>=0.5.0->nbconvert->jupyter->openlayer) (1.5.1)\n",
                        "Requirement already satisfied: jsonschema!=2.5.0,>=2.4 in /Users/rishabramanathan/opt/miniconda3/envs/sklearn-demo/lib/python3.8/site-packages (from nbformat>=4.2.0->ipywidgets->jupyter->openlayer) (3.2.0)\n",
                        "Requirement already satisfied: wcwidth in /Users/rishabramanathan/opt/miniconda3/envs/sklearn-demo/lib/python3.8/site-packages (from prompt-toolkit!=3.0.0,!=3.0.1,<3.1.0,>=2.0.0->jupyter-console->jupyter->openlayer) (0.2.5)\n",
                        "Requirement already satisfied: ptyprocess in /Users/rishabramanathan/opt/miniconda3/envs/sklearn-demo/lib/python3.8/site-packages (from terminado>=0.8.3->notebook->jupyter->openlayer) (0.7.0)\n",
                        "Requirement already satisfied: cffi>=1.0.0 in /Users/rishabramanathan/opt/miniconda3/envs/sklearn-demo/lib/python3.8/site-packages (from argon2-cffi->notebook->jupyter->openlayer) (1.14.6)\n",
                        "Requirement already satisfied: webencodings in /Users/rishabramanathan/opt/miniconda3/envs/sklearn-demo/lib/python3.8/site-packages (from bleach->nbconvert->jupyter->openlayer) (0.5.1)\n",
                        "Requirement already satisfied: pycparser in /Users/rishabramanathan/opt/miniconda3/envs/sklearn-demo/lib/python3.8/site-packages (from cffi>=1.0.0->argon2-cffi->notebook->jupyter->openlayer) (2.20)\n",
                        "Requirement already satisfied: parso<0.9.0,>=0.8.0 in /Users/rishabramanathan/opt/miniconda3/envs/sklearn-demo/lib/python3.8/site-packages (from jedi>=0.16->ipython>=7.23.1->ipykernel->jupyter->openlayer) (0.8.2)\n",
                        "Requirement already satisfied: pyrsistent>=0.14.0 in /Users/rishabramanathan/opt/miniconda3/envs/sklearn-demo/lib/python3.8/site-packages (from jsonschema!=2.5.0,>=2.4->nbformat>=4.2.0->ipywidgets->jupyter->openlayer) (0.18.0)\n",
                        "Installing collected packages: urllib3, protobuf, openlayer\n",
                        "  Attempting uninstall: urllib3\n",
                        "    Found existing installation: urllib3 1.26.12\n",
                        "    Uninstalling urllib3-1.26.12:\n",
                        "      Successfully uninstalled urllib3-1.26.12\n",
                        "  Attempting uninstall: protobuf\n",
                        "    Found existing installation: protobuf 4.21.5\n",
                        "    Uninstalling protobuf-4.21.5:\n",
                        "      Successfully uninstalled protobuf-4.21.5\n",
                        "\u001b[31mERROR: pip's dependency resolver does not currently take into account all the packages that are installed. This behaviour is the source of the following dependency conflicts.\n",
                        "twine 4.0.0 requires urllib3>=1.26.0, but you have urllib3 1.25.11 which is incompatible.\n",
                        "scaleapi 2.9.0 requires urllib3>=1.26.0, but you have urllib3 1.25.11 which is incompatible.\u001b[0m\u001b[31m\n",
                        "\u001b[0mSuccessfully installed protobuf-3.20.0 openlayer-0.3.0 urllib3-1.25.11\n"
                    ]
                }
            ],
            "source": [
                "# installing the Openlayer Python API\n",
                "!pip install openlayer"
            ]
        },
        {
            "cell_type": "code",
            "execution_count": 17,
            "id": "65964db9",
            "metadata": {},
            "outputs": [],
            "source": [
                "# instantiating the client\n",
                "import openlayer\n",
                "\n",
                "openlayer.api.OPENLAYER_ENDPOINT = \"http://localhost:8080/v1\"\n",
                "openlayer.api.STORAGE = openlayer.api.StorageType.ONPREM\n",
                "\n",
                "client = openlayer.OpenlayerClient('P0ZYAERZvzvbPvsXHTBJ2ORBqHxq9pUE')"
            ]
        },
        {
            "cell_type": "code",
            "execution_count": 18,
            "id": "2dee6250",
            "metadata": {},
            "outputs": [
                {
                    "name": "stdout",
                    "output_type": "stream",
                    "text": [
                        "Created your project. Navigate to http://localhost:8000/projects/1 to see it.\n"
                    ]
                }
            ],
            "source": [
                "# creating the project\n",
                "from openlayer.tasks import TaskType\n",
                "\n",
                "project = client.create_project(name=\"Churn prediction\",\n",
                "                               task_type=TaskType.TabularClassification,\n",
                "                               description=\"Evaluation of ML approaches to predict churn\")"
            ]
        },
        {
            "cell_type": "code",
            "execution_count": 19,
            "id": "d0c680e8",
            "metadata": {},
            "outputs": [
                {
                    "name": "stdout",
                    "output_type": "stream",
                    "text": [
                        "Adding your dataset to Openlayer! Check out the project page to have a look.\n"
                    ]
                }
            ],
            "source": [
                "# uploading the dataset to the project\n",
                "dataset = project.add_dataframe(\n",
                "  df=validation_set,  \n",
                "  commit_message='churn validation set for October',\n",
                "  class_names=class_names,  \n",
                "  label_column_name='g',    \n",
                "  feature_names=feature_names,  \n",
                "  categorical_feature_names=categorical_feature_names,  \n",
                ")"
            ]
        },
        {
            "cell_type": "code",
            "execution_count": 20,
            "id": "5b55095c",
            "metadata": {},
            "outputs": [],
            "source": [
                "# defining the model's predict probability function\n",
                "def predict_proba(model, input_features: np.ndarray, col_names: list, one_hot_encoder, encoders):\n",
                "    # Pre-processing the categorical features\n",
                "    df = pd.DataFrame(input_features, columns=col_names)\n",
                "    encoded_df = one_hot_encoder(df, encoders)\n",
                "    \n",
                "    # Getting the model's predictions\n",
                "    preds = model.predict_proba(encoded_df.to_numpy())\n",
                "    \n",
                "    return preds"
            ]
        },
        {
            "cell_type": "code",
            "execution_count": 21,
            "id": "d22d5cef",
            "metadata": {},
            "outputs": [
                {
                    "name": "stdout",
                    "output_type": "stream",
                    "text": [
                        "Bundling model and artifacts...\n",
                        "Adding your model to Openlayer! Check out the project page to have a look.\n"
                    ]
                }
            ],
            "source": [
                "# uploading the model to the project\n",
                "from openlayer.models import ModelType\n",
                "\n",
                "model = project.add_model(\n",
                "    function=predict_proba, \n",
                "    model=sklearn_model,\n",
                "    model_type=ModelType.sklearn,\n",
                "    class_names=class_names,\n",
                "    name='Churn Classifier',\n",
                "    commit_message='this is my churn classification model',\n",
                "    feature_names=feature_names,\n",
                "    train_sample_df=training_set[:3000],\n",
                "    train_sample_label_column_name='Exited',\n",
                "    categorical_feature_names=categorical_feature_names,\n",
                "    requirements_txt_file='requirements.txt',\n",
                "    col_names=feature_names,\n",
                "    one_hot_encoder=data_encode_one_hot,\n",
                "    encoders=encoders,\n",
                ")"
            ]
        },
        {
            "cell_type": "code",
            "execution_count": null,
            "id": "bfdba44f",
            "metadata": {},
            "outputs": [],
            "source": []
        }
    ],
    "metadata": {
        "kernelspec": {
            "display_name": "Python 3 (ipykernel)",
            "language": "python",
            "name": "python3"
        },
        "language_info": {
            "codemirror_mode": {
                "name": "ipython",
                "version": 3
            },
            "file_extension": ".py",
            "mimetype": "text/x-python",
            "name": "python",
            "nbconvert_exporter": "python",
            "pygments_lexer": "ipython3",
            "version": "3.8.10"
        }
    },
    "nbformat": 4,
    "nbformat_minor": 5
}