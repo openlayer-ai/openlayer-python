{
    "cells": [
        {
            "cell_type": "markdown",
            "metadata": {},
            "source": [
                "[![Open In Colab](https://colab.research.google.com/assets/colab-badge.svg)](https://colab.research.google.com/github/openlayer-ai/examples-gallery/blob/main/tabular-classification/sklearn/fetal-health/fetal-health-sklearn.ipynb)\n",
                "\n",
                "\n",
                "# Fetal health using sklearn\n",
                "\n",
                "This notebook illustrates how sklearn models can be upladed to the Openlayer platform."
            ]
        },
        {
            "cell_type": "code",
            "execution_count": null,
            "metadata": {},
            "outputs": [],
            "source": [
                "%%bash\n",
                "\n",
                "if [ ! -e \"requirements.txt\" ]; then\n",
                "    curl \"https://raw.githubusercontent.com/openlayer-ai/examples-gallery/main/tabular-classification/sklearn/fetal-health/requirements.txt\" --output \"requirements.txt\"\n",
                "fi"
            ]
        },
        {
            "cell_type": "code",
            "execution_count": null,
            "metadata": {},
            "outputs": [],
            "source": [
                "!pip install -r requirements.txt"
            ]
        },
        {
            "cell_type": "markdown",
            "metadata": {},
            "source": [
                "## Importing the modules and loading the dataset"
            ]
        },
        {
            "cell_type": "code",
            "execution_count": 1,
            "metadata": {},
            "outputs": [],
            "source": [
                "import numpy as np\n",
                "import pandas as pd\n",
                "\n",
                "\n",
                "from sklearn.linear_model import LogisticRegression\n",
                "from sklearn.metrics import classification_report\n",
                "from sklearn.model_selection import train_test_split"
            ]
        },
        {
            "cell_type": "markdown",
            "metadata": {},
            "source": [
                "We have stored the dataset on the following S3 bucket. If, for some reason, you get an error reading the csv directly from it, feel free to copy and paste the URL in your browser and download the csv file. Alternatively, you can also find the dataset on [this Kaggle competition](https://www.kaggle.com/datasets/andrewmvd/fetal-health-classification?select=fetal_health.csv)."
            ]
        },
        {
            "cell_type": "code",
            "execution_count": 2,
            "metadata": {},
            "outputs": [],
            "source": [
                "DATASET_URL = \"https://openlayer-static-assets.s3.us-west-2.amazonaws.com/examples-datasets/tabular-classification/fetal_health.csv\""
            ]
        },
        {
            "cell_type": "code",
            "execution_count": 3,
            "metadata": {},
            "outputs": [],
            "source": [
                "df = pd.read_csv(DATASET_URL)"
            ]
        },
        {
            "cell_type": "code",
            "execution_count": 4,
            "metadata": {},
            "outputs": [],
            "source": [
                "df['fetal_health'] = df.fetal_health.astype(int)\n",
                "df['fetal_health'] = df['fetal_health'].map({3: 0, 1:1, 2:2})"
            ]
        },
        {
            "cell_type": "code",
            "execution_count": 5,
            "metadata": {},
            "outputs": [
                {
                    "data": {
                        "text/html": [
                            "<div>\n",
                            "<style scoped>\n",
                            "    .dataframe tbody tr th:only-of-type {\n",
                            "        vertical-align: middle;\n",
                            "    }\n",
                            "\n",
                            "    .dataframe tbody tr th {\n",
                            "        vertical-align: top;\n",
                            "    }\n",
                            "\n",
                            "    .dataframe thead th {\n",
                            "        text-align: right;\n",
                            "    }\n",
                            "</style>\n",
                            "<table border=\"1\" class=\"dataframe\">\n",
                            "  <thead>\n",
                            "    <tr style=\"text-align: right;\">\n",
                            "      <th></th>\n",
                            "      <th>baseline value</th>\n",
                            "      <th>accelerations</th>\n",
                            "      <th>fetal_movement</th>\n",
                            "      <th>uterine_contractions</th>\n",
                            "      <th>light_decelerations</th>\n",
                            "      <th>severe_decelerations</th>\n",
                            "      <th>prolongued_decelerations</th>\n",
                            "      <th>abnormal_short_term_variability</th>\n",
                            "      <th>mean_value_of_short_term_variability</th>\n",
                            "      <th>percentage_of_time_with_abnormal_long_term_variability</th>\n",
                            "      <th>...</th>\n",
                            "      <th>histogram_min</th>\n",
                            "      <th>histogram_max</th>\n",
                            "      <th>histogram_number_of_peaks</th>\n",
                            "      <th>histogram_number_of_zeroes</th>\n",
                            "      <th>histogram_mode</th>\n",
                            "      <th>histogram_mean</th>\n",
                            "      <th>histogram_median</th>\n",
                            "      <th>histogram_variance</th>\n",
                            "      <th>histogram_tendency</th>\n",
                            "      <th>fetal_health</th>\n",
                            "    </tr>\n",
                            "  </thead>\n",
                            "  <tbody>\n",
                            "    <tr>\n",
                            "      <th>0</th>\n",
                            "      <td>120.0</td>\n",
                            "      <td>0.000</td>\n",
                            "      <td>0.000</td>\n",
                            "      <td>0.000</td>\n",
                            "      <td>0.000</td>\n",
                            "      <td>0.0</td>\n",
                            "      <td>0.0</td>\n",
                            "      <td>73.0</td>\n",
                            "      <td>0.5</td>\n",
                            "      <td>43.0</td>\n",
                            "      <td>...</td>\n",
                            "      <td>62.0</td>\n",
                            "      <td>126.0</td>\n",
                            "      <td>2.0</td>\n",
                            "      <td>0.0</td>\n",
                            "      <td>120.0</td>\n",
                            "      <td>137.0</td>\n",
                            "      <td>121.0</td>\n",
                            "      <td>73.0</td>\n",
                            "      <td>1.0</td>\n",
                            "      <td>2</td>\n",
                            "    </tr>\n",
                            "    <tr>\n",
                            "      <th>1</th>\n",
                            "      <td>132.0</td>\n",
                            "      <td>0.006</td>\n",
                            "      <td>0.000</td>\n",
                            "      <td>0.006</td>\n",
                            "      <td>0.003</td>\n",
                            "      <td>0.0</td>\n",
                            "      <td>0.0</td>\n",
                            "      <td>17.0</td>\n",
                            "      <td>2.1</td>\n",
                            "      <td>0.0</td>\n",
                            "      <td>...</td>\n",
                            "      <td>68.0</td>\n",
                            "      <td>198.0</td>\n",
                            "      <td>6.0</td>\n",
                            "      <td>1.0</td>\n",
                            "      <td>141.0</td>\n",
                            "      <td>136.0</td>\n",
                            "      <td>140.0</td>\n",
                            "      <td>12.0</td>\n",
                            "      <td>0.0</td>\n",
                            "      <td>1</td>\n",
                            "    </tr>\n",
                            "    <tr>\n",
                            "      <th>2</th>\n",
                            "      <td>133.0</td>\n",
                            "      <td>0.003</td>\n",
                            "      <td>0.000</td>\n",
                            "      <td>0.008</td>\n",
                            "      <td>0.003</td>\n",
                            "      <td>0.0</td>\n",
                            "      <td>0.0</td>\n",
                            "      <td>16.0</td>\n",
                            "      <td>2.1</td>\n",
                            "      <td>0.0</td>\n",
                            "      <td>...</td>\n",
                            "      <td>68.0</td>\n",
                            "      <td>198.0</td>\n",
                            "      <td>5.0</td>\n",
                            "      <td>1.0</td>\n",
                            "      <td>141.0</td>\n",
                            "      <td>135.0</td>\n",
                            "      <td>138.0</td>\n",
                            "      <td>13.0</td>\n",
                            "      <td>0.0</td>\n",
                            "      <td>1</td>\n",
                            "    </tr>\n",
                            "    <tr>\n",
                            "      <th>3</th>\n",
                            "      <td>134.0</td>\n",
                            "      <td>0.003</td>\n",
                            "      <td>0.000</td>\n",
                            "      <td>0.008</td>\n",
                            "      <td>0.003</td>\n",
                            "      <td>0.0</td>\n",
                            "      <td>0.0</td>\n",
                            "      <td>16.0</td>\n",
                            "      <td>2.4</td>\n",
                            "      <td>0.0</td>\n",
                            "      <td>...</td>\n",
                            "      <td>53.0</td>\n",
                            "      <td>170.0</td>\n",
                            "      <td>11.0</td>\n",
                            "      <td>0.0</td>\n",
                            "      <td>137.0</td>\n",
                            "      <td>134.0</td>\n",
                            "      <td>137.0</td>\n",
                            "      <td>13.0</td>\n",
                            "      <td>1.0</td>\n",
                            "      <td>1</td>\n",
                            "    </tr>\n",
                            "    <tr>\n",
                            "      <th>4</th>\n",
                            "      <td>132.0</td>\n",
                            "      <td>0.007</td>\n",
                            "      <td>0.000</td>\n",
                            "      <td>0.008</td>\n",
                            "      <td>0.000</td>\n",
                            "      <td>0.0</td>\n",
                            "      <td>0.0</td>\n",
                            "      <td>16.0</td>\n",
                            "      <td>2.4</td>\n",
                            "      <td>0.0</td>\n",
                            "      <td>...</td>\n",
                            "      <td>53.0</td>\n",
                            "      <td>170.0</td>\n",
                            "      <td>9.0</td>\n",
                            "      <td>0.0</td>\n",
                            "      <td>137.0</td>\n",
                            "      <td>136.0</td>\n",
                            "      <td>138.0</td>\n",
                            "      <td>11.0</td>\n",
                            "      <td>1.0</td>\n",
                            "      <td>1</td>\n",
                            "    </tr>\n",
                            "    <tr>\n",
                            "      <th>...</th>\n",
                            "      <td>...</td>\n",
                            "      <td>...</td>\n",
                            "      <td>...</td>\n",
                            "      <td>...</td>\n",
                            "      <td>...</td>\n",
                            "      <td>...</td>\n",
                            "      <td>...</td>\n",
                            "      <td>...</td>\n",
                            "      <td>...</td>\n",
                            "      <td>...</td>\n",
                            "      <td>...</td>\n",
                            "      <td>...</td>\n",
                            "      <td>...</td>\n",
                            "      <td>...</td>\n",
                            "      <td>...</td>\n",
                            "      <td>...</td>\n",
                            "      <td>...</td>\n",
                            "      <td>...</td>\n",
                            "      <td>...</td>\n",
                            "      <td>...</td>\n",
                            "      <td>...</td>\n",
                            "    </tr>\n",
                            "    <tr>\n",
                            "      <th>2121</th>\n",
                            "      <td>140.0</td>\n",
                            "      <td>0.000</td>\n",
                            "      <td>0.000</td>\n",
                            "      <td>0.007</td>\n",
                            "      <td>0.000</td>\n",
                            "      <td>0.0</td>\n",
                            "      <td>0.0</td>\n",
                            "      <td>79.0</td>\n",
                            "      <td>0.2</td>\n",
                            "      <td>25.0</td>\n",
                            "      <td>...</td>\n",
                            "      <td>137.0</td>\n",
                            "      <td>177.0</td>\n",
                            "      <td>4.0</td>\n",
                            "      <td>0.0</td>\n",
                            "      <td>153.0</td>\n",
                            "      <td>150.0</td>\n",
                            "      <td>152.0</td>\n",
                            "      <td>2.0</td>\n",
                            "      <td>0.0</td>\n",
                            "      <td>2</td>\n",
                            "    </tr>\n",
                            "    <tr>\n",
                            "      <th>2122</th>\n",
                            "      <td>140.0</td>\n",
                            "      <td>0.001</td>\n",
                            "      <td>0.000</td>\n",
                            "      <td>0.007</td>\n",
                            "      <td>0.000</td>\n",
                            "      <td>0.0</td>\n",
                            "      <td>0.0</td>\n",
                            "      <td>78.0</td>\n",
                            "      <td>0.4</td>\n",
                            "      <td>22.0</td>\n",
                            "      <td>...</td>\n",
                            "      <td>103.0</td>\n",
                            "      <td>169.0</td>\n",
                            "      <td>6.0</td>\n",
                            "      <td>0.0</td>\n",
                            "      <td>152.0</td>\n",
                            "      <td>148.0</td>\n",
                            "      <td>151.0</td>\n",
                            "      <td>3.0</td>\n",
                            "      <td>1.0</td>\n",
                            "      <td>2</td>\n",
                            "    </tr>\n",
                            "    <tr>\n",
                            "      <th>2123</th>\n",
                            "      <td>140.0</td>\n",
                            "      <td>0.001</td>\n",
                            "      <td>0.000</td>\n",
                            "      <td>0.007</td>\n",
                            "      <td>0.000</td>\n",
                            "      <td>0.0</td>\n",
                            "      <td>0.0</td>\n",
                            "      <td>79.0</td>\n",
                            "      <td>0.4</td>\n",
                            "      <td>20.0</td>\n",
                            "      <td>...</td>\n",
                            "      <td>103.0</td>\n",
                            "      <td>170.0</td>\n",
                            "      <td>5.0</td>\n",
                            "      <td>0.0</td>\n",
                            "      <td>153.0</td>\n",
                            "      <td>148.0</td>\n",
                            "      <td>152.0</td>\n",
                            "      <td>4.0</td>\n",
                            "      <td>1.0</td>\n",
                            "      <td>2</td>\n",
                            "    </tr>\n",
                            "    <tr>\n",
                            "      <th>2124</th>\n",
                            "      <td>140.0</td>\n",
                            "      <td>0.001</td>\n",
                            "      <td>0.000</td>\n",
                            "      <td>0.006</td>\n",
                            "      <td>0.000</td>\n",
                            "      <td>0.0</td>\n",
                            "      <td>0.0</td>\n",
                            "      <td>78.0</td>\n",
                            "      <td>0.4</td>\n",
                            "      <td>27.0</td>\n",
                            "      <td>...</td>\n",
                            "      <td>103.0</td>\n",
                            "      <td>169.0</td>\n",
                            "      <td>6.0</td>\n",
                            "      <td>0.0</td>\n",
                            "      <td>152.0</td>\n",
                            "      <td>147.0</td>\n",
                            "      <td>151.0</td>\n",
                            "      <td>4.0</td>\n",
                            "      <td>1.0</td>\n",
                            "      <td>2</td>\n",
                            "    </tr>\n",
                            "    <tr>\n",
                            "      <th>2125</th>\n",
                            "      <td>142.0</td>\n",
                            "      <td>0.002</td>\n",
                            "      <td>0.002</td>\n",
                            "      <td>0.008</td>\n",
                            "      <td>0.000</td>\n",
                            "      <td>0.0</td>\n",
                            "      <td>0.0</td>\n",
                            "      <td>74.0</td>\n",
                            "      <td>0.4</td>\n",
                            "      <td>36.0</td>\n",
                            "      <td>...</td>\n",
                            "      <td>117.0</td>\n",
                            "      <td>159.0</td>\n",
                            "      <td>2.0</td>\n",
                            "      <td>1.0</td>\n",
                            "      <td>145.0</td>\n",
                            "      <td>143.0</td>\n",
                            "      <td>145.0</td>\n",
                            "      <td>1.0</td>\n",
                            "      <td>0.0</td>\n",
                            "      <td>1</td>\n",
                            "    </tr>\n",
                            "  </tbody>\n",
                            "</table>\n",
                            "<p>2126 rows × 22 columns</p>\n",
                            "</div>"
                        ],
                        "text/plain": [
                            "      baseline value  accelerations  fetal_movement  uterine_contractions  \\\n",
                            "0              120.0          0.000           0.000                 0.000   \n",
                            "1              132.0          0.006           0.000                 0.006   \n",
                            "2              133.0          0.003           0.000                 0.008   \n",
                            "3              134.0          0.003           0.000                 0.008   \n",
                            "4              132.0          0.007           0.000                 0.008   \n",
                            "...              ...            ...             ...                   ...   \n",
                            "2121           140.0          0.000           0.000                 0.007   \n",
                            "2122           140.0          0.001           0.000                 0.007   \n",
                            "2123           140.0          0.001           0.000                 0.007   \n",
                            "2124           140.0          0.001           0.000                 0.006   \n",
                            "2125           142.0          0.002           0.002                 0.008   \n",
                            "\n",
                            "      light_decelerations  severe_decelerations  prolongued_decelerations  \\\n",
                            "0                   0.000                   0.0                       0.0   \n",
                            "1                   0.003                   0.0                       0.0   \n",
                            "2                   0.003                   0.0                       0.0   \n",
                            "3                   0.003                   0.0                       0.0   \n",
                            "4                   0.000                   0.0                       0.0   \n",
                            "...                   ...                   ...                       ...   \n",
                            "2121                0.000                   0.0                       0.0   \n",
                            "2122                0.000                   0.0                       0.0   \n",
                            "2123                0.000                   0.0                       0.0   \n",
                            "2124                0.000                   0.0                       0.0   \n",
                            "2125                0.000                   0.0                       0.0   \n",
                            "\n",
                            "      abnormal_short_term_variability  mean_value_of_short_term_variability  \\\n",
                            "0                                73.0                                   0.5   \n",
                            "1                                17.0                                   2.1   \n",
                            "2                                16.0                                   2.1   \n",
                            "3                                16.0                                   2.4   \n",
                            "4                                16.0                                   2.4   \n",
                            "...                               ...                                   ...   \n",
                            "2121                             79.0                                   0.2   \n",
                            "2122                             78.0                                   0.4   \n",
                            "2123                             79.0                                   0.4   \n",
                            "2124                             78.0                                   0.4   \n",
                            "2125                             74.0                                   0.4   \n",
                            "\n",
                            "      percentage_of_time_with_abnormal_long_term_variability  ...  \\\n",
                            "0                                                  43.0       ...   \n",
                            "1                                                   0.0       ...   \n",
                            "2                                                   0.0       ...   \n",
                            "3                                                   0.0       ...   \n",
                            "4                                                   0.0       ...   \n",
                            "...                                                 ...       ...   \n",
                            "2121                                               25.0       ...   \n",
                            "2122                                               22.0       ...   \n",
                            "2123                                               20.0       ...   \n",
                            "2124                                               27.0       ...   \n",
                            "2125                                               36.0       ...   \n",
                            "\n",
                            "      histogram_min  histogram_max  histogram_number_of_peaks  \\\n",
                            "0              62.0          126.0                        2.0   \n",
                            "1              68.0          198.0                        6.0   \n",
                            "2              68.0          198.0                        5.0   \n",
                            "3              53.0          170.0                       11.0   \n",
                            "4              53.0          170.0                        9.0   \n",
                            "...             ...            ...                        ...   \n",
                            "2121          137.0          177.0                        4.0   \n",
                            "2122          103.0          169.0                        6.0   \n",
                            "2123          103.0          170.0                        5.0   \n",
                            "2124          103.0          169.0                        6.0   \n",
                            "2125          117.0          159.0                        2.0   \n",
                            "\n",
                            "      histogram_number_of_zeroes  histogram_mode  histogram_mean  \\\n",
                            "0                            0.0           120.0           137.0   \n",
                            "1                            1.0           141.0           136.0   \n",
                            "2                            1.0           141.0           135.0   \n",
                            "3                            0.0           137.0           134.0   \n",
                            "4                            0.0           137.0           136.0   \n",
                            "...                          ...             ...             ...   \n",
                            "2121                         0.0           153.0           150.0   \n",
                            "2122                         0.0           152.0           148.0   \n",
                            "2123                         0.0           153.0           148.0   \n",
                            "2124                         0.0           152.0           147.0   \n",
                            "2125                         1.0           145.0           143.0   \n",
                            "\n",
                            "      histogram_median  histogram_variance  histogram_tendency  fetal_health  \n",
                            "0                121.0                73.0                 1.0             2  \n",
                            "1                140.0                12.0                 0.0             1  \n",
                            "2                138.0                13.0                 0.0             1  \n",
                            "3                137.0                13.0                 1.0             1  \n",
                            "4                138.0                11.0                 1.0             1  \n",
                            "...                ...                 ...                 ...           ...  \n",
                            "2121             152.0                 2.0                 0.0             2  \n",
                            "2122             151.0                 3.0                 1.0             2  \n",
                            "2123             152.0                 4.0                 1.0             2  \n",
                            "2124             151.0                 4.0                 1.0             2  \n",
                            "2125             145.0                 1.0                 0.0             1  \n",
                            "\n",
                            "[2126 rows x 22 columns]"
                        ]
                    },
                    "execution_count": 5,
                    "metadata": {},
                    "output_type": "execute_result"
                }
            ],
            "source": [
                "df"
            ]
        },
        {
            "cell_type": "markdown",
            "metadata": {},
            "source": [
                "## Splitting the data into training and validation sets"
            ]
        },
        {
            "cell_type": "code",
            "execution_count": 6,
            "metadata": {},
            "outputs": [],
            "source": [
                "train, test = train_test_split(df, test_size=0.2)"
            ]
        },
        {
            "cell_type": "code",
            "execution_count": 7,
            "metadata": {},
            "outputs": [],
            "source": [
                "x_train = train.loc[:, train.columns != 'fetal_health'].to_numpy()\n",
                "y_train = train['fetal_health'].to_numpy()\n",
                "x_test = test.loc[:, test.columns != 'fetal_health'].to_numpy()\n",
                "y_test = test['fetal_health'].to_numpy()"
            ]
        },
        {
            "cell_type": "markdown",
            "metadata": {},
            "source": [
                "## Training and evaluating the model's performance"
            ]
        },
        {
            "cell_type": "code",
            "execution_count": 8,
            "metadata": {},
            "outputs": [],
            "source": [
                "sklearn_model = LogisticRegression(C=10, \n",
                "                                   penalty='l1',\n",
                "                                   solver='saga',\n",
                "                                   multi_class='multinomial',\n",
                "                                   max_iter=10000)"
            ]
        },
        {
            "cell_type": "code",
            "execution_count": 9,
            "metadata": {},
            "outputs": [
                {
                    "data": {
                        "text/plain": [
                            "LogisticRegression(C=10, max_iter=10000, multi_class='multinomial',\n",
                            "                   penalty='l1', solver='saga')"
                        ]
                    },
                    "execution_count": 9,
                    "metadata": {},
                    "output_type": "execute_result"
                }
            ],
            "source": [
                "sklearn_model.fit(x_train, y_train)"
            ]
        },
        {
            "cell_type": "code",
            "execution_count": 10,
            "metadata": {},
            "outputs": [
                {
                    "name": "stdout",
                    "output_type": "stream",
                    "text": [
                        "              precision    recall  f1-score   support\n",
                        "\n",
                        "           0       0.81      0.65      0.72        34\n",
                        "           1       0.89      0.98      0.94       325\n",
                        "           2       0.74      0.46      0.57        67\n",
                        "\n",
                        "    accuracy                           0.87       426\n",
                        "   macro avg       0.82      0.70      0.74       426\n",
                        "weighted avg       0.86      0.87      0.86       426\n",
                        "\n"
                    ]
                }
            ],
            "source": [
                "print(classification_report(y_test, sklearn_model.predict(x_test)))"
            ]
        },
        {
            "cell_type": "markdown",
            "metadata": {},
            "source": [
                "## Openlayer part!\n",
                "\n",
                "### pip installing openlayer"
            ]
        },
        {
            "cell_type": "code",
            "execution_count": null,
            "metadata": {},
            "outputs": [],
            "source": [
                "!pip install openlayer"
            ]
        },
        {
            "cell_type": "markdown",
            "metadata": {},
            "source": [
                "### Instantiating the client"
            ]
        },
        {
            "cell_type": "code",
            "execution_count": 11,
            "metadata": {},
            "outputs": [],
            "source": [
                "import openlayer\n",
                "\n",
                "client = openlayer.OpenlayerClient(\"YOUR_API_KEY_HERE\")"
            ]
        },
        {
            "cell_type": "markdown",
            "metadata": {},
            "source": [
                "### Creating a project on the platform"
            ]
        },
        {
            "cell_type": "code",
            "execution_count": null,
            "metadata": {},
            "outputs": [],
            "source": [
                "from openlayer.tasks import TaskType\n",
                "\n",
                "project = client.create_or_load_project(name=\"Fetal Health Prediction\",\n",
                "                                        task_type=TaskType.TabularClassification,\n",
                "                                        description=\"Evaluation of ML approaches to predict health\")"
            ]
        },
        {
            "cell_type": "markdown",
            "metadata": {},
            "source": [
                "### Uploading the validation set"
            ]
        },
        {
            "cell_type": "code",
            "execution_count": null,
            "metadata": {},
            "outputs": [],
            "source": [
                "dataset = project.add_dataframe(\n",
                "    df=test,\n",
                "    class_names=[\"Pathological\", \"Normal\", \"Suspect\"],\n",
                "    label_column_name='fetal_health',\n",
                "    commit_message='this is my fetal health validation dataset',\n",
                "    feature_names=test.loc[:, test.columns != 'fetal_health'].columns.values.tolist(),\n",
                ")"
            ]
        },
        {
            "cell_type": "markdown",
            "metadata": {},
            "source": [
                "### Uploading the model\n",
                "\n",
                "First, it is important to create a `predict_proba` function, which is how Openlayer interacts with your model"
            ]
        },
        {
            "cell_type": "code",
            "execution_count": 16,
            "metadata": {},
            "outputs": [],
            "source": [
                "def predict_proba(model, input_features: np.ndarray):\n",
                "    return model.predict_proba(input_features)"
            ]
        },
        {
            "cell_type": "markdown",
            "metadata": {},
            "source": [
                "Let's test the `predict_proba` function to make sure the input-output format is consistent with what Openlayer expects:"
            ]
        },
        {
            "cell_type": "code",
            "execution_count": 17,
            "metadata": {},
            "outputs": [
                {
                    "data": {
                        "text/plain": [
                            "array([[2.05737599e-02, 3.78148952e-01, 6.01277288e-01],\n",
                            "       [2.12130596e-06, 9.99412193e-01, 5.85685717e-04],\n",
                            "       [3.56683608e-03, 8.50312336e-01, 1.46120828e-01]])"
                        ]
                    },
                    "execution_count": 17,
                    "metadata": {},
                    "output_type": "execute_result"
                }
            ],
            "source": [
                "predict_proba(sklearn_model, test.iloc[:3, :-1])"
            ]
        },
        {
            "cell_type": "markdown",
            "metadata": {},
            "source": [
                "Now, we can upload the model:"
            ]
        },
        {
            "cell_type": "code",
            "execution_count": null,
            "metadata": {},
            "outputs": [],
            "source": [
                "from openlayer.models import ModelType\n",
                "\n",
                "model = project.add_model(\n",
                "    function=predict_proba, \n",
                "    model=sklearn_model,\n",
                "    model_type=ModelType.sklearn,\n",
                "    class_names=[\"Pathological\", \"Normal\", \"Suspect\"],\n",
                "    name='Fetal Classifier - N3',\n",
                "    commit_message='this is my first tabular classification model',\n",
                "    feature_names=test.loc[:, test.columns != 'fetal_health'].columns.values.tolist(),\n",
                "    train_sample_df=train[:100],\n",
                "    train_sample_label_column_name='fetal_health',\n",
                "    requirements_txt_file='requirements.txt'\n",
                ")"
            ]
        },
        {
            "cell_type": "code",
            "execution_count": null,
            "metadata": {},
            "outputs": [],
            "source": []
        }
    ],
    "metadata": {
        "kernelspec": {
            "display_name": "Python 3 (ipykernel)",
            "language": "python",
            "name": "python3"
        },
        "language_info": {
            "codemirror_mode": {
                "name": "ipython",
                "version": 3
            },
            "file_extension": ".py",
            "mimetype": "text/x-python",
            "name": "python",
            "nbconvert_exporter": "python",
            "pygments_lexer": "ipython3",
            "version": "3.8.13"
        }
    },
    "nbformat": 4,
    "nbformat_minor": 1
}