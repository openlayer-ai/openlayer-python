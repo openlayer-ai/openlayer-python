{
 "cells": [
  {
   "cell_type": "markdown",
   "id": "d5f05e13",
   "metadata": {},
   "source": [
    "[![Open In Colab](https://colab.research.google.com/assets/colab-badge.svg)](https://colab.research.google.com/github/unboxai/examples-gallery/blob/main/tabular-classification/sklearn/fraud-detection/fraud-classifier-sklearn.ipynb)\n",
    "\n",
    "\n",
    "# Fraud classification using sklearn\n",
    "\n",
    "This notebook illustrates how sklearn models can be upladed to the Unbox platform."
   ]
  },
  {
   "cell_type": "code",
   "execution_count": null,
   "id": "1ccfff1a",
   "metadata": {},
   "outputs": [],
   "source": [
    "!curl \"https://raw.githubusercontent.com/unboxai/examples-gallery/main/tabular-classification/sklearn/requirements.txt\" --output \"requirements.txt\""
   ]
  },
  {
   "cell_type": "code",
   "execution_count": null,
   "id": "5f6816ac",
   "metadata": {},
   "outputs": [],
   "source": [
    "!pip install -r requirements.txt"
   ]
  },
  {
   "cell_type": "markdown",
   "id": "dbfebd40",
   "metadata": {},
   "source": [
    "## Importing the modules and loading the dataset"
   ]
  },
  {
   "cell_type": "code",
   "execution_count": 1,
   "id": "33179b0c",
   "metadata": {},
   "outputs": [],
   "source": [
    "import numpy as np\n",
    "import pandas as pd\n",
    "\n",
    "from sklearn.ensemble import GradientBoostingClassifier\n",
    "from sklearn.metrics import classification_report\n",
    "from sklearn.model_selection import train_test_split"
   ]
  },
  {
   "cell_type": "markdown",
   "id": "176afb0f",
   "metadata": {},
   "source": [
    "We have stored a sample of the original dataset on the following S3 bucket. If, for some reason, you get an error reading the csv directly from it, feel free to copy and paste the URL in your browser and download the csv file. Alternatively, you can also find the full dataset on [this Kaggle competition](https://www.kaggle.com/datasets/kartik2112/fraud-detection?select=fraudTrain.csv). The dataset in our example corresponds to the first 10,000 lines of the original Kaggle competition dataset."
   ]
  },
  {
   "cell_type": "code",
   "execution_count": 2,
   "id": "3acce87b",
   "metadata": {},
   "outputs": [],
   "source": [
    "DATASET_URL = \"https://unbox-static-assets.s3.us-west-2.amazonaws.com/examples-datasets/tabular-classification/fraudTrainSample.csv\""
   ]
  },
  {
   "cell_type": "code",
   "execution_count": 3,
   "id": "40472b51",
   "metadata": {},
   "outputs": [],
   "source": [
    "data = pd.read_csv(DATASET_URL)"
   ]
  },
  {
   "cell_type": "code",
   "execution_count": 4,
   "id": "5682c7c0",
   "metadata": {},
   "outputs": [],
   "source": [
    "# Relevant columns\n",
    "feature_names = ['amt', 'cc_num', 'merchant', 'category','state','job']\n",
    "label = ['is_fraud']\n",
    "\n",
    "# Outputs\n",
    "class_names = [\"normal\", \"fraudulent\"]\n",
    "\n",
    "clean_raw_data = data[feature_names + label]"
   ]
  },
  {
   "cell_type": "code",
   "execution_count": 5,
   "id": "679e0b36",
   "metadata": {},
   "outputs": [],
   "source": [
    "X = clean_raw_data.drop('is_fraud', 1)\n",
    "y = clean_raw_data['is_fraud']"
   ]
  },
  {
   "cell_type": "code",
   "execution_count": 6,
   "id": "fa21dcd3",
   "metadata": {},
   "outputs": [
    {
     "data": {
      "text/html": [
       "<div>\n",
       "<style scoped>\n",
       "    .dataframe tbody tr th:only-of-type {\n",
       "        vertical-align: middle;\n",
       "    }\n",
       "\n",
       "    .dataframe tbody tr th {\n",
       "        vertical-align: top;\n",
       "    }\n",
       "\n",
       "    .dataframe thead th {\n",
       "        text-align: right;\n",
       "    }\n",
       "</style>\n",
       "<table border=\"1\" class=\"dataframe\">\n",
       "  <thead>\n",
       "    <tr style=\"text-align: right;\">\n",
       "      <th></th>\n",
       "      <th>amt</th>\n",
       "      <th>cc_num</th>\n",
       "      <th>merchant</th>\n",
       "      <th>category</th>\n",
       "      <th>state</th>\n",
       "      <th>job</th>\n",
       "    </tr>\n",
       "  </thead>\n",
       "  <tbody>\n",
       "    <tr>\n",
       "      <th>0</th>\n",
       "      <td>4.97</td>\n",
       "      <td>2703186189652095</td>\n",
       "      <td>fraud_Rippin, Kub and Mann</td>\n",
       "      <td>misc_net</td>\n",
       "      <td>NC</td>\n",
       "      <td>Psychologist, counselling</td>\n",
       "    </tr>\n",
       "    <tr>\n",
       "      <th>1</th>\n",
       "      <td>107.23</td>\n",
       "      <td>630423337322</td>\n",
       "      <td>fraud_Heller, Gutmann and Zieme</td>\n",
       "      <td>grocery_pos</td>\n",
       "      <td>WA</td>\n",
       "      <td>Special educational needs teacher</td>\n",
       "    </tr>\n",
       "    <tr>\n",
       "      <th>2</th>\n",
       "      <td>220.11</td>\n",
       "      <td>38859492057661</td>\n",
       "      <td>fraud_Lind-Buckridge</td>\n",
       "      <td>entertainment</td>\n",
       "      <td>ID</td>\n",
       "      <td>Nature conservation officer</td>\n",
       "    </tr>\n",
       "    <tr>\n",
       "      <th>3</th>\n",
       "      <td>45.00</td>\n",
       "      <td>3534093764340240</td>\n",
       "      <td>fraud_Kutch, Hermiston and Farrell</td>\n",
       "      <td>gas_transport</td>\n",
       "      <td>MT</td>\n",
       "      <td>Patent attorney</td>\n",
       "    </tr>\n",
       "    <tr>\n",
       "      <th>4</th>\n",
       "      <td>41.96</td>\n",
       "      <td>375534208663984</td>\n",
       "      <td>fraud_Keeling-Crist</td>\n",
       "      <td>misc_pos</td>\n",
       "      <td>VA</td>\n",
       "      <td>Dance movement psychotherapist</td>\n",
       "    </tr>\n",
       "  </tbody>\n",
       "</table>\n",
       "</div>"
      ],
      "text/plain": [
       "      amt            cc_num                            merchant  \\\n",
       "0    4.97  2703186189652095          fraud_Rippin, Kub and Mann   \n",
       "1  107.23      630423337322     fraud_Heller, Gutmann and Zieme   \n",
       "2  220.11    38859492057661                fraud_Lind-Buckridge   \n",
       "3   45.00  3534093764340240  fraud_Kutch, Hermiston and Farrell   \n",
       "4   41.96   375534208663984                 fraud_Keeling-Crist   \n",
       "\n",
       "        category state                                job  \n",
       "0       misc_net    NC          Psychologist, counselling  \n",
       "1    grocery_pos    WA  Special educational needs teacher  \n",
       "2  entertainment    ID        Nature conservation officer  \n",
       "3  gas_transport    MT                    Patent attorney  \n",
       "4       misc_pos    VA     Dance movement psychotherapist  "
      ]
     },
     "execution_count": 6,
     "metadata": {},
     "output_type": "execute_result"
    }
   ],
   "source": [
    "X.head()"
   ]
  },
  {
   "cell_type": "markdown",
   "id": "d57cc709",
   "metadata": {},
   "source": [
    "## Pre-processing the data and splitting it into training and validation sets"
   ]
  },
  {
   "cell_type": "code",
   "execution_count": 12,
   "id": "708ade4c",
   "metadata": {},
   "outputs": [],
   "source": [
    "def data_encode_one_hot(df, encoders):\n",
    "    \"\"\" Encodes categorical features using one-hot encoding. \"\"\"\n",
    "    df = df.copy(True)\n",
    "    df.reset_index(drop=True, inplace=True) # Causes NaNs otherwise\n",
    "    enc_dfs = []\n",
    "    for feature, enc in encoders.items():\n",
    "        enc_df = pd.DataFrame(enc.transform(df[[feature]]).toarray(), columns=enc.get_feature_names([feature]))\n",
    "        enc_dfs.append(enc_df)\n",
    "    df = pd.concat([df] + enc_dfs, axis=1)\n",
    "    df.drop(list(encoders.keys()), axis=1, inplace=True)\n",
    "    return df"
   ]
  },
  {
   "cell_type": "code",
   "execution_count": 13,
   "id": "e0a1b4b0",
   "metadata": {},
   "outputs": [],
   "source": [
    "def create_encoder_dict(df, categorical_feature_names):\n",
    "    \"\"\" Creates encoders for each of the categorical features. \n",
    "        The predict function will need these encoders. \n",
    "    \"\"\"\n",
    "    from sklearn.preprocessing import OneHotEncoder\n",
    "    encoders = {}\n",
    "    for feature in categorical_feature_names:\n",
    "        enc = OneHotEncoder(handle_unknown='error')\n",
    "        enc.fit(df[[feature]])\n",
    "        encoders[feature] = enc\n",
    "    return encoders"
   ]
  },
  {
   "cell_type": "code",
   "execution_count": 14,
   "id": "ec41f1ba",
   "metadata": {},
   "outputs": [],
   "source": [
    "categorical_feature_names = ['cc_num', 'merchant', 'category', 'state', 'job']"
   ]
  },
  {
   "cell_type": "code",
   "execution_count": 15,
   "id": "248556af",
   "metadata": {},
   "outputs": [],
   "source": [
    "encoders = create_encoder_dict(X, categorical_feature_names)"
   ]
  },
  {
   "cell_type": "code",
   "execution_count": 16,
   "id": "b76d541a",
   "metadata": {},
   "outputs": [
    {
     "data": {
      "text/html": [
       "<div>\n",
       "<style scoped>\n",
       "    .dataframe tbody tr th:only-of-type {\n",
       "        vertical-align: middle;\n",
       "    }\n",
       "\n",
       "    .dataframe tbody tr th {\n",
       "        vertical-align: top;\n",
       "    }\n",
       "\n",
       "    .dataframe thead th {\n",
       "        text-align: right;\n",
       "    }\n",
       "</style>\n",
       "<table border=\"1\" class=\"dataframe\">\n",
       "  <thead>\n",
       "    <tr style=\"text-align: right;\">\n",
       "      <th></th>\n",
       "      <th>amt</th>\n",
       "      <th>cc_num_60416207185</th>\n",
       "      <th>cc_num_60422928733</th>\n",
       "      <th>cc_num_60423098130</th>\n",
       "      <th>cc_num_60427851591</th>\n",
       "      <th>cc_num_60487002085</th>\n",
       "      <th>cc_num_60490596305</th>\n",
       "      <th>cc_num_60495593109</th>\n",
       "      <th>cc_num_501802953619</th>\n",
       "      <th>cc_num_501828204849</th>\n",
       "      <th>...</th>\n",
       "      <th>job_Video editor</th>\n",
       "      <th>job_Visual merchandiser</th>\n",
       "      <th>job_Volunteer coordinator</th>\n",
       "      <th>job_Warden/ranger</th>\n",
       "      <th>job_Waste management officer</th>\n",
       "      <th>job_Water engineer</th>\n",
       "      <th>job_Water quality scientist</th>\n",
       "      <th>job_Web designer</th>\n",
       "      <th>job_Wellsite geologist</th>\n",
       "      <th>job_Writer</th>\n",
       "    </tr>\n",
       "  </thead>\n",
       "  <tbody>\n",
       "    <tr>\n",
       "      <th>0</th>\n",
       "      <td>1.51</td>\n",
       "      <td>0.0</td>\n",
       "      <td>0.0</td>\n",
       "      <td>0.0</td>\n",
       "      <td>0.0</td>\n",
       "      <td>0.0</td>\n",
       "      <td>0.0</td>\n",
       "      <td>0.0</td>\n",
       "      <td>0.0</td>\n",
       "      <td>0.0</td>\n",
       "      <td>...</td>\n",
       "      <td>0.0</td>\n",
       "      <td>0.0</td>\n",
       "      <td>0.0</td>\n",
       "      <td>0.0</td>\n",
       "      <td>0.0</td>\n",
       "      <td>0.0</td>\n",
       "      <td>0.0</td>\n",
       "      <td>0.0</td>\n",
       "      <td>0.0</td>\n",
       "      <td>0.0</td>\n",
       "    </tr>\n",
       "    <tr>\n",
       "      <th>1</th>\n",
       "      <td>48.07</td>\n",
       "      <td>0.0</td>\n",
       "      <td>0.0</td>\n",
       "      <td>0.0</td>\n",
       "      <td>0.0</td>\n",
       "      <td>0.0</td>\n",
       "      <td>0.0</td>\n",
       "      <td>0.0</td>\n",
       "      <td>0.0</td>\n",
       "      <td>0.0</td>\n",
       "      <td>...</td>\n",
       "      <td>0.0</td>\n",
       "      <td>0.0</td>\n",
       "      <td>0.0</td>\n",
       "      <td>0.0</td>\n",
       "      <td>0.0</td>\n",
       "      <td>0.0</td>\n",
       "      <td>0.0</td>\n",
       "      <td>0.0</td>\n",
       "      <td>0.0</td>\n",
       "      <td>0.0</td>\n",
       "    </tr>\n",
       "    <tr>\n",
       "      <th>2</th>\n",
       "      <td>6.70</td>\n",
       "      <td>0.0</td>\n",
       "      <td>0.0</td>\n",
       "      <td>0.0</td>\n",
       "      <td>0.0</td>\n",
       "      <td>0.0</td>\n",
       "      <td>0.0</td>\n",
       "      <td>0.0</td>\n",
       "      <td>0.0</td>\n",
       "      <td>0.0</td>\n",
       "      <td>...</td>\n",
       "      <td>0.0</td>\n",
       "      <td>0.0</td>\n",
       "      <td>0.0</td>\n",
       "      <td>0.0</td>\n",
       "      <td>0.0</td>\n",
       "      <td>0.0</td>\n",
       "      <td>0.0</td>\n",
       "      <td>0.0</td>\n",
       "      <td>0.0</td>\n",
       "      <td>0.0</td>\n",
       "    </tr>\n",
       "    <tr>\n",
       "      <th>3</th>\n",
       "      <td>48.04</td>\n",
       "      <td>0.0</td>\n",
       "      <td>0.0</td>\n",
       "      <td>0.0</td>\n",
       "      <td>0.0</td>\n",
       "      <td>0.0</td>\n",
       "      <td>0.0</td>\n",
       "      <td>0.0</td>\n",
       "      <td>0.0</td>\n",
       "      <td>0.0</td>\n",
       "      <td>...</td>\n",
       "      <td>0.0</td>\n",
       "      <td>0.0</td>\n",
       "      <td>0.0</td>\n",
       "      <td>0.0</td>\n",
       "      <td>0.0</td>\n",
       "      <td>0.0</td>\n",
       "      <td>0.0</td>\n",
       "      <td>0.0</td>\n",
       "      <td>0.0</td>\n",
       "      <td>0.0</td>\n",
       "    </tr>\n",
       "    <tr>\n",
       "      <th>4</th>\n",
       "      <td>40.95</td>\n",
       "      <td>0.0</td>\n",
       "      <td>0.0</td>\n",
       "      <td>0.0</td>\n",
       "      <td>0.0</td>\n",
       "      <td>0.0</td>\n",
       "      <td>0.0</td>\n",
       "      <td>0.0</td>\n",
       "      <td>0.0</td>\n",
       "      <td>0.0</td>\n",
       "      <td>...</td>\n",
       "      <td>0.0</td>\n",
       "      <td>0.0</td>\n",
       "      <td>0.0</td>\n",
       "      <td>0.0</td>\n",
       "      <td>0.0</td>\n",
       "      <td>0.0</td>\n",
       "      <td>0.0</td>\n",
       "      <td>0.0</td>\n",
       "      <td>0.0</td>\n",
       "      <td>0.0</td>\n",
       "    </tr>\n",
       "    <tr>\n",
       "      <th>...</th>\n",
       "      <td>...</td>\n",
       "      <td>...</td>\n",
       "      <td>...</td>\n",
       "      <td>...</td>\n",
       "      <td>...</td>\n",
       "      <td>...</td>\n",
       "      <td>...</td>\n",
       "      <td>...</td>\n",
       "      <td>...</td>\n",
       "      <td>...</td>\n",
       "      <td>...</td>\n",
       "      <td>...</td>\n",
       "      <td>...</td>\n",
       "      <td>...</td>\n",
       "      <td>...</td>\n",
       "      <td>...</td>\n",
       "      <td>...</td>\n",
       "      <td>...</td>\n",
       "      <td>...</td>\n",
       "      <td>...</td>\n",
       "      <td>...</td>\n",
       "    </tr>\n",
       "    <tr>\n",
       "      <th>1995</th>\n",
       "      <td>4.20</td>\n",
       "      <td>0.0</td>\n",
       "      <td>0.0</td>\n",
       "      <td>0.0</td>\n",
       "      <td>0.0</td>\n",
       "      <td>0.0</td>\n",
       "      <td>0.0</td>\n",
       "      <td>0.0</td>\n",
       "      <td>0.0</td>\n",
       "      <td>0.0</td>\n",
       "      <td>...</td>\n",
       "      <td>0.0</td>\n",
       "      <td>0.0</td>\n",
       "      <td>0.0</td>\n",
       "      <td>0.0</td>\n",
       "      <td>0.0</td>\n",
       "      <td>0.0</td>\n",
       "      <td>0.0</td>\n",
       "      <td>0.0</td>\n",
       "      <td>0.0</td>\n",
       "      <td>0.0</td>\n",
       "    </tr>\n",
       "    <tr>\n",
       "      <th>1996</th>\n",
       "      <td>8.06</td>\n",
       "      <td>0.0</td>\n",
       "      <td>0.0</td>\n",
       "      <td>0.0</td>\n",
       "      <td>0.0</td>\n",
       "      <td>0.0</td>\n",
       "      <td>0.0</td>\n",
       "      <td>0.0</td>\n",
       "      <td>0.0</td>\n",
       "      <td>0.0</td>\n",
       "      <td>...</td>\n",
       "      <td>0.0</td>\n",
       "      <td>0.0</td>\n",
       "      <td>0.0</td>\n",
       "      <td>0.0</td>\n",
       "      <td>0.0</td>\n",
       "      <td>0.0</td>\n",
       "      <td>0.0</td>\n",
       "      <td>0.0</td>\n",
       "      <td>0.0</td>\n",
       "      <td>0.0</td>\n",
       "    </tr>\n",
       "    <tr>\n",
       "      <th>1997</th>\n",
       "      <td>88.83</td>\n",
       "      <td>0.0</td>\n",
       "      <td>0.0</td>\n",
       "      <td>0.0</td>\n",
       "      <td>0.0</td>\n",
       "      <td>0.0</td>\n",
       "      <td>0.0</td>\n",
       "      <td>0.0</td>\n",
       "      <td>0.0</td>\n",
       "      <td>0.0</td>\n",
       "      <td>...</td>\n",
       "      <td>0.0</td>\n",
       "      <td>0.0</td>\n",
       "      <td>0.0</td>\n",
       "      <td>0.0</td>\n",
       "      <td>0.0</td>\n",
       "      <td>0.0</td>\n",
       "      <td>0.0</td>\n",
       "      <td>0.0</td>\n",
       "      <td>0.0</td>\n",
       "      <td>0.0</td>\n",
       "    </tr>\n",
       "    <tr>\n",
       "      <th>1998</th>\n",
       "      <td>51.87</td>\n",
       "      <td>0.0</td>\n",
       "      <td>0.0</td>\n",
       "      <td>0.0</td>\n",
       "      <td>0.0</td>\n",
       "      <td>0.0</td>\n",
       "      <td>0.0</td>\n",
       "      <td>0.0</td>\n",
       "      <td>0.0</td>\n",
       "      <td>0.0</td>\n",
       "      <td>...</td>\n",
       "      <td>0.0</td>\n",
       "      <td>0.0</td>\n",
       "      <td>0.0</td>\n",
       "      <td>0.0</td>\n",
       "      <td>0.0</td>\n",
       "      <td>0.0</td>\n",
       "      <td>0.0</td>\n",
       "      <td>0.0</td>\n",
       "      <td>0.0</td>\n",
       "      <td>0.0</td>\n",
       "    </tr>\n",
       "    <tr>\n",
       "      <th>1999</th>\n",
       "      <td>8.73</td>\n",
       "      <td>0.0</td>\n",
       "      <td>0.0</td>\n",
       "      <td>0.0</td>\n",
       "      <td>0.0</td>\n",
       "      <td>0.0</td>\n",
       "      <td>0.0</td>\n",
       "      <td>0.0</td>\n",
       "      <td>0.0</td>\n",
       "      <td>0.0</td>\n",
       "      <td>...</td>\n",
       "      <td>0.0</td>\n",
       "      <td>0.0</td>\n",
       "      <td>0.0</td>\n",
       "      <td>0.0</td>\n",
       "      <td>0.0</td>\n",
       "      <td>0.0</td>\n",
       "      <td>0.0</td>\n",
       "      <td>0.0</td>\n",
       "      <td>0.0</td>\n",
       "      <td>0.0</td>\n",
       "    </tr>\n",
       "  </tbody>\n",
       "</table>\n",
       "<p>2000 rows × 2136 columns</p>\n",
       "</div>"
      ],
      "text/plain": [
       "        amt  cc_num_60416207185  cc_num_60422928733  cc_num_60423098130  \\\n",
       "0      1.51                 0.0                 0.0                 0.0   \n",
       "1     48.07                 0.0                 0.0                 0.0   \n",
       "2      6.70                 0.0                 0.0                 0.0   \n",
       "3     48.04                 0.0                 0.0                 0.0   \n",
       "4     40.95                 0.0                 0.0                 0.0   \n",
       "...     ...                 ...                 ...                 ...   \n",
       "1995   4.20                 0.0                 0.0                 0.0   \n",
       "1996   8.06                 0.0                 0.0                 0.0   \n",
       "1997  88.83                 0.0                 0.0                 0.0   \n",
       "1998  51.87                 0.0                 0.0                 0.0   \n",
       "1999   8.73                 0.0                 0.0                 0.0   \n",
       "\n",
       "      cc_num_60427851591  cc_num_60487002085  cc_num_60490596305  \\\n",
       "0                    0.0                 0.0                 0.0   \n",
       "1                    0.0                 0.0                 0.0   \n",
       "2                    0.0                 0.0                 0.0   \n",
       "3                    0.0                 0.0                 0.0   \n",
       "4                    0.0                 0.0                 0.0   \n",
       "...                  ...                 ...                 ...   \n",
       "1995                 0.0                 0.0                 0.0   \n",
       "1996                 0.0                 0.0                 0.0   \n",
       "1997                 0.0                 0.0                 0.0   \n",
       "1998                 0.0                 0.0                 0.0   \n",
       "1999                 0.0                 0.0                 0.0   \n",
       "\n",
       "      cc_num_60495593109  cc_num_501802953619  cc_num_501828204849  ...  \\\n",
       "0                    0.0                  0.0                  0.0  ...   \n",
       "1                    0.0                  0.0                  0.0  ...   \n",
       "2                    0.0                  0.0                  0.0  ...   \n",
       "3                    0.0                  0.0                  0.0  ...   \n",
       "4                    0.0                  0.0                  0.0  ...   \n",
       "...                  ...                  ...                  ...  ...   \n",
       "1995                 0.0                  0.0                  0.0  ...   \n",
       "1996                 0.0                  0.0                  0.0  ...   \n",
       "1997                 0.0                  0.0                  0.0  ...   \n",
       "1998                 0.0                  0.0                  0.0  ...   \n",
       "1999                 0.0                  0.0                  0.0  ...   \n",
       "\n",
       "      job_Video editor  job_Visual merchandiser  job_Volunteer coordinator  \\\n",
       "0                  0.0                      0.0                        0.0   \n",
       "1                  0.0                      0.0                        0.0   \n",
       "2                  0.0                      0.0                        0.0   \n",
       "3                  0.0                      0.0                        0.0   \n",
       "4                  0.0                      0.0                        0.0   \n",
       "...                ...                      ...                        ...   \n",
       "1995               0.0                      0.0                        0.0   \n",
       "1996               0.0                      0.0                        0.0   \n",
       "1997               0.0                      0.0                        0.0   \n",
       "1998               0.0                      0.0                        0.0   \n",
       "1999               0.0                      0.0                        0.0   \n",
       "\n",
       "      job_Warden/ranger  job_Waste management officer  job_Water engineer  \\\n",
       "0                   0.0                           0.0                 0.0   \n",
       "1                   0.0                           0.0                 0.0   \n",
       "2                   0.0                           0.0                 0.0   \n",
       "3                   0.0                           0.0                 0.0   \n",
       "4                   0.0                           0.0                 0.0   \n",
       "...                 ...                           ...                 ...   \n",
       "1995                0.0                           0.0                 0.0   \n",
       "1996                0.0                           0.0                 0.0   \n",
       "1997                0.0                           0.0                 0.0   \n",
       "1998                0.0                           0.0                 0.0   \n",
       "1999                0.0                           0.0                 0.0   \n",
       "\n",
       "      job_Water quality scientist  job_Web designer  job_Wellsite geologist  \\\n",
       "0                             0.0               0.0                     0.0   \n",
       "1                             0.0               0.0                     0.0   \n",
       "2                             0.0               0.0                     0.0   \n",
       "3                             0.0               0.0                     0.0   \n",
       "4                             0.0               0.0                     0.0   \n",
       "...                           ...               ...                     ...   \n",
       "1995                          0.0               0.0                     0.0   \n",
       "1996                          0.0               0.0                     0.0   \n",
       "1997                          0.0               0.0                     0.0   \n",
       "1998                          0.0               0.0                     0.0   \n",
       "1999                          0.0               0.0                     0.0   \n",
       "\n",
       "      job_Writer  \n",
       "0            0.0  \n",
       "1            0.0  \n",
       "2            0.0  \n",
       "3            0.0  \n",
       "4            0.0  \n",
       "...          ...  \n",
       "1995         0.0  \n",
       "1996         0.0  \n",
       "1997         0.0  \n",
       "1998         0.0  \n",
       "1999         0.0  \n",
       "\n",
       "[2000 rows x 2136 columns]"
      ]
     },
     "execution_count": 16,
     "metadata": {},
     "output_type": "execute_result"
    }
   ],
   "source": [
    "x_train, x_val, y_train, y_val = train_test_split(X, y, test_size = 0.2, random_state = 0)\n",
    "x_train_one_hot = data_encode_one_hot(x_train, encoders)\n",
    "x_val_one_hot = data_encode_one_hot(x_val, encoders)\n",
    "\n",
    "x_val_one_hot"
   ]
  },
  {
   "cell_type": "markdown",
   "id": "cb03e8f4",
   "metadata": {},
   "source": [
    "## Training and evaluating the model's performance"
   ]
  },
  {
   "cell_type": "code",
   "execution_count": 17,
   "id": "fb60a129",
   "metadata": {},
   "outputs": [
    {
     "data": {
      "text/plain": [
       "GradientBoostingClassifier(random_state=1300)"
      ]
     },
     "execution_count": 17,
     "metadata": {},
     "output_type": "execute_result"
    }
   ],
   "source": [
    "sklearn_model = GradientBoostingClassifier(random_state=1300)\n",
    "sklearn_model.fit(x_train_one_hot, y_train)"
   ]
  },
  {
   "cell_type": "code",
   "execution_count": 18,
   "id": "a4f603d9",
   "metadata": {},
   "outputs": [
    {
     "name": "stdout",
     "output_type": "stream",
     "text": [
      "              precision    recall  f1-score   support\n",
      "\n",
      "           0       1.00      1.00      1.00      1988\n",
      "           1       0.80      0.67      0.73        12\n",
      "\n",
      "    accuracy                           1.00      2000\n",
      "   macro avg       0.90      0.83      0.86      2000\n",
      "weighted avg       1.00      1.00      1.00      2000\n",
      "\n"
     ]
    }
   ],
   "source": [
    "print(classification_report(y_val, sklearn_model.predict(x_val_one_hot)))"
   ]
  },
  {
   "cell_type": "markdown",
   "id": "f3c514e1",
   "metadata": {},
   "source": [
    "## Unbox part!\n",
    "\n",
    "### pip installing unboxapi"
   ]
  },
  {
   "cell_type": "code",
   "execution_count": null,
   "id": "fb497be8",
   "metadata": {},
   "outputs": [],
   "source": [
    "!pip install unboxapi"
   ]
  },
  {
   "cell_type": "markdown",
   "id": "e25b44d3",
   "metadata": {},
   "source": [
    "### Instantiating the client"
   ]
  },
  {
   "cell_type": "code",
   "execution_count": 19,
   "id": "82a38cd9",
   "metadata": {},
   "outputs": [],
   "source": [
    "import unboxapi\n",
    "\n",
    "client = unboxapi.UnboxClient(\"YOUR_API_KEY_HERE\")"
   ]
  },
  {
   "cell_type": "markdown",
   "id": "8884fe5c",
   "metadata": {},
   "source": [
    "### Creating a project on the platform"
   ]
  },
  {
   "cell_type": "code",
   "execution_count": 20,
   "id": "b74120e3",
   "metadata": {},
   "outputs": [
    {
     "name": "stdout",
     "output_type": "stream",
     "text": [
      "Created your project. Check out https://unbox.ai/projects!\n"
     ]
    }
   ],
   "source": [
    "from unboxapi.tasks import TaskType\n",
    "\n",
    "project = client.create_project(name=\"Fraud classification\", \n",
    "                                task_type=TaskType.TabularClassification,\n",
    "                                description=\"Evaluation of ML approaches to detect frauds\")"
   ]
  },
  {
   "cell_type": "markdown",
   "id": "4308c779",
   "metadata": {},
   "source": [
    "### Uploading the validation set"
   ]
  },
  {
   "cell_type": "code",
   "execution_count": 21,
   "id": "ebb1171a",
   "metadata": {},
   "outputs": [
    {
     "name": "stderr",
     "output_type": "stream",
     "text": [
      "/var/folders/9z/j3bd32nd47j_l0thnbj6vbnw0000gn/T/ipykernel_78449/3713627219.py:2: SettingWithCopyWarning: \n",
      "A value is trying to be set on a copy of a slice from a DataFrame.\n",
      "Try using .loc[row_indexer,col_indexer] = value instead\n",
      "\n",
      "See the caveats in the documentation: https://pandas.pydata.org/pandas-docs/stable/user_guide/indexing.html#returning-a-view-versus-a-copy\n",
      "  x_val['is_fraud'] = y_val.values\n",
      "/var/folders/9z/j3bd32nd47j_l0thnbj6vbnw0000gn/T/ipykernel_78449/3713627219.py:3: SettingWithCopyWarning: \n",
      "A value is trying to be set on a copy of a slice from a DataFrame.\n",
      "Try using .loc[row_indexer,col_indexer] = value instead\n",
      "\n",
      "See the caveats in the documentation: https://pandas.pydata.org/pandas-docs/stable/user_guide/indexing.html#returning-a-view-versus-a-copy\n",
      "  x_train['is_fraud'] = y_train.values\n"
     ]
    }
   ],
   "source": [
    "# Add the ground truths to the ordinal dataset for Unbox\n",
    "x_val['is_fraud'] = y_val.values\n",
    "x_train['is_fraud'] = y_train.values"
   ]
  },
  {
   "cell_type": "code",
   "execution_count": 22,
   "id": "cf1b9901",
   "metadata": {},
   "outputs": [
    {
     "name": "stdout",
     "output_type": "stream",
     "text": [
      "Uploading dataset to Unbox! Check out https://unbox.ai/datasets to have a look!\n"
     ]
    }
   ],
   "source": [
    "dataset = project.add_dataframe(\n",
    "    df=x_val.sample(1000),\n",
    "    class_names=class_names,\n",
    "    label_column_name='is_fraud',\n",
    "    commit_message='this is my fraud dataset',\n",
    "    feature_names=feature_names,\n",
    "    categorical_feature_names=categorical_feature_names,\n",
    ")"
   ]
  },
  {
   "cell_type": "markdown",
   "id": "72b7c235",
   "metadata": {},
   "source": [
    "### Uploading the model\n",
    "\n",
    "First, it is important to create a `predict_proba` function, which is how Unbox interacts with your model"
   ]
  },
  {
   "cell_type": "code",
   "execution_count": 23,
   "id": "d233987d",
   "metadata": {},
   "outputs": [],
   "source": [
    "def predict_proba(model, input_features: np.ndarray, col_names, one_hot_encoder, encoders):\n",
    "    \"\"\"Convert the raw input_features into one-hot encoded features\n",
    "    using our one hot encoder and each feature's encoder. \"\"\"\n",
    "    df = pd.DataFrame(input_features, columns=col_names)\n",
    "    encoded_df = one_hot_encoder(df, encoders)\n",
    "    return model.predict_proba(encoded_df.to_numpy())"
   ]
  },
  {
   "cell_type": "markdown",
   "id": "da302569",
   "metadata": {},
   "source": [
    "Let's test the `predict_proba` function to make sure the input-output format is consistent with what Unbox expects:"
   ]
  },
  {
   "cell_type": "code",
   "execution_count": 24,
   "id": "674147b8",
   "metadata": {},
   "outputs": [
    {
     "data": {
      "text/plain": [
       "array([[9.99998752e-01, 1.24800170e-06],\n",
       "       [9.99998752e-01, 1.24800170e-06],\n",
       "       [9.99998752e-01, 1.24800170e-06]])"
      ]
     },
     "execution_count": 24,
     "metadata": {},
     "output_type": "execute_result"
    }
   ],
   "source": [
    "# Test the predict function\n",
    "predict_proba(sklearn_model, x_val[:3][feature_names].to_numpy(), feature_names, data_encode_one_hot, encoders)"
   ]
  },
  {
   "cell_type": "markdown",
   "id": "95a680db",
   "metadata": {},
   "source": [
    "Now, we can upload the model:"
   ]
  },
  {
   "cell_type": "code",
   "execution_count": 25,
   "id": "ace580e8",
   "metadata": {},
   "outputs": [
    {
     "name": "stdout",
     "output_type": "stream",
     "text": [
      "Bundling model and artifacts...\n",
      "Uploading model to Unbox! Check out https://unbox.ai/models to have a look!\n"
     ]
    },
    {
     "name": "stderr",
     "output_type": "stream",
     "text": [
      "/Users/gustavocid/miniconda3/envs/unbox-examples/lib/python3.8/site-packages/joblib/numpy_pickle.py:103: DeprecationWarning: tostring() is deprecated. Use tobytes() instead.\n",
      "  pickler.file_handle.write(chunk.tostring('C'))\n"
     ]
    }
   ],
   "source": [
    "from unboxapi.models import ModelType\n",
    "\n",
    "model = project.add_model(\n",
    "    function=predict_proba, \n",
    "    model=sklearn_model,\n",
    "    model_type=ModelType.sklearn,\n",
    "    class_names=class_names,\n",
    "    name='Fraud detection',\n",
    "    commit_message='this is my fraud classification model',\n",
    "    feature_names=feature_names,\n",
    "    train_sample_df=x_train,\n",
    "    train_sample_label_column_name='is_fraud',\n",
    "    categorical_feature_names=categorical_feature_names,\n",
    "    col_names=feature_names,\n",
    "    requirements_txt_file='requirements.txt',\n",
    "    one_hot_encoder=data_encode_one_hot,\n",
    "    encoders=encoders,\n",
    ")"
   ]
  },
  {
   "cell_type": "code",
   "execution_count": null,
   "id": "05ffb003",
   "metadata": {},
   "outputs": [],
   "source": []
  }
 ],
 "metadata": {
  "kernelspec": {
   "display_name": "Python 3 (ipykernel)",
   "language": "python",
   "name": "python3"
  },
  "language_info": {
   "codemirror_mode": {
    "name": "ipython",
    "version": 3
   },
   "file_extension": ".py",
   "mimetype": "text/x-python",
   "name": "python",
   "nbconvert_exporter": "python",
   "pygments_lexer": "ipython3",
   "version": "3.8.13"
  }
 },
 "nbformat": 4,
 "nbformat_minor": 5
}
