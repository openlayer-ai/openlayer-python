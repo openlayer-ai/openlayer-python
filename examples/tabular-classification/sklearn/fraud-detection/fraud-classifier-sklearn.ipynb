{
 "cells": [
  {
   "cell_type": "markdown",
   "id": "d5f05e13",
   "metadata": {},
   "source": [
    "[![Open In Colab](https://colab.research.google.com/assets/colab-badge.svg)](https://colab.research.google.com/github/unboxai/examples-gallery/blob/main/fraud-classifier-sklearn.ipynb)\n",
    "\n",
    "\n",
    "# Fraud classification using sklearn\n",
    "\n",
    "This notebook illustrates how sklearn models can be upladed to the Unbox platform."
   ]
  },
  {
   "cell_type": "markdown",
   "id": "dbfebd40",
   "metadata": {},
   "source": [
    "## Importing the modules and loading the dataset"
   ]
  },
  {
   "cell_type": "code",
   "execution_count": 1,
   "id": "33179b0c",
   "metadata": {},
   "outputs": [],
   "source": [
    "import numpy as np\n",
    "import pandas as pd\n",
    "\n",
    "from sklearn.ensemble import GradientBoostingClassifier\n",
    "from sklearn.metrics import classification_report\n",
    "from sklearn.model_selection import train_test_split"
   ]
  },
  {
   "cell_type": "markdown",
   "id": "176afb0f",
   "metadata": {},
   "source": [
    "We have stored a sample of the original dataset on the following S3 bucket. If, for some reason, you get an error reading the csv directly from it, feel free to copy and paste the URL in your browser and download the csv file. Alternatively, you can also find the full dataset on [this Kaggle competition](https://www.kaggle.com/datasets/kartik2112/fraud-detection?select=fraudTrain.csv). The dataset in our example corresponds to the first 10,000 lines of the original Kaggle competition dataset."
   ]
  },
  {
   "cell_type": "code",
   "execution_count": 4,
   "id": "3acce87b",
   "metadata": {},
   "outputs": [],
   "source": [
    "DATASET_URL = \"https://unbox-static-assets.s3.us-west-2.amazonaws.com/examples-datasets/tabular-classification/fraudTrainSample.csv\""
   ]
  },
  {
   "cell_type": "code",
   "execution_count": 5,
   "id": "40472b51",
   "metadata": {},
   "outputs": [],
   "source": [
    "data = pd.read_csv(DATASET_URL)"
   ]
  },
  {
   "cell_type": "code",
   "execution_count": 6,
   "id": "5682c7c0",
   "metadata": {},
   "outputs": [],
   "source": [
    "# Relevant columns\n",
    "feature_names = ['amt', 'cc_num', 'merchant', 'category','state','job']\n",
    "label = ['is_fraud']\n",
    "\n",
    "# Outputs\n",
    "class_names = [\"normal\", \"fraudulent\"]\n",
    "\n",
    "clean_raw_data = data[feature_names + label]"
   ]
  },
  {
   "cell_type": "code",
   "execution_count": 7,
   "id": "679e0b36",
   "metadata": {},
   "outputs": [
    {
     "name": "stderr",
     "output_type": "stream",
     "text": [
      "/var/folders/9z/j3bd32nd47j_l0thnbj6vbnw0000gn/T/ipykernel_91519/2665439327.py:1: FutureWarning: In a future version of pandas all arguments of DataFrame.drop except for the argument 'labels' will be keyword-only.\n",
      "  X = clean_raw_data.drop('is_fraud', 1)\n"
     ]
    }
   ],
   "source": [
    "X = clean_raw_data.drop('is_fraud', 1)\n",
    "y = clean_raw_data['is_fraud']"
   ]
  },
  {
   "cell_type": "code",
   "execution_count": 8,
   "id": "fa21dcd3",
   "metadata": {},
   "outputs": [
    {
     "data": {
      "text/html": [
       "<div>\n",
       "<style scoped>\n",
       "    .dataframe tbody tr th:only-of-type {\n",
       "        vertical-align: middle;\n",
       "    }\n",
       "\n",
       "    .dataframe tbody tr th {\n",
       "        vertical-align: top;\n",
       "    }\n",
       "\n",
       "    .dataframe thead th {\n",
       "        text-align: right;\n",
       "    }\n",
       "</style>\n",
       "<table border=\"1\" class=\"dataframe\">\n",
       "  <thead>\n",
       "    <tr style=\"text-align: right;\">\n",
       "      <th></th>\n",
       "      <th>amt</th>\n",
       "      <th>cc_num</th>\n",
       "      <th>merchant</th>\n",
       "      <th>category</th>\n",
       "      <th>state</th>\n",
       "      <th>job</th>\n",
       "    </tr>\n",
       "  </thead>\n",
       "  <tbody>\n",
       "    <tr>\n",
       "      <th>0</th>\n",
       "      <td>4.97</td>\n",
       "      <td>2703186189652095</td>\n",
       "      <td>fraud_Rippin, Kub and Mann</td>\n",
       "      <td>misc_net</td>\n",
       "      <td>NC</td>\n",
       "      <td>Psychologist, counselling</td>\n",
       "    </tr>\n",
       "    <tr>\n",
       "      <th>1</th>\n",
       "      <td>107.23</td>\n",
       "      <td>630423337322</td>\n",
       "      <td>fraud_Heller, Gutmann and Zieme</td>\n",
       "      <td>grocery_pos</td>\n",
       "      <td>WA</td>\n",
       "      <td>Special educational needs teacher</td>\n",
       "    </tr>\n",
       "    <tr>\n",
       "      <th>2</th>\n",
       "      <td>220.11</td>\n",
       "      <td>38859492057661</td>\n",
       "      <td>fraud_Lind-Buckridge</td>\n",
       "      <td>entertainment</td>\n",
       "      <td>ID</td>\n",
       "      <td>Nature conservation officer</td>\n",
       "    </tr>\n",
       "    <tr>\n",
       "      <th>3</th>\n",
       "      <td>45.00</td>\n",
       "      <td>3534093764340240</td>\n",
       "      <td>fraud_Kutch, Hermiston and Farrell</td>\n",
       "      <td>gas_transport</td>\n",
       "      <td>MT</td>\n",
       "      <td>Patent attorney</td>\n",
       "    </tr>\n",
       "    <tr>\n",
       "      <th>4</th>\n",
       "      <td>41.96</td>\n",
       "      <td>375534208663984</td>\n",
       "      <td>fraud_Keeling-Crist</td>\n",
       "      <td>misc_pos</td>\n",
       "      <td>VA</td>\n",
       "      <td>Dance movement psychotherapist</td>\n",
       "    </tr>\n",
       "  </tbody>\n",
       "</table>\n",
       "</div>"
      ],
      "text/plain": [
       "      amt            cc_num                            merchant  \\\n",
       "0    4.97  2703186189652095          fraud_Rippin, Kub and Mann   \n",
       "1  107.23      630423337322     fraud_Heller, Gutmann and Zieme   \n",
       "2  220.11    38859492057661                fraud_Lind-Buckridge   \n",
       "3   45.00  3534093764340240  fraud_Kutch, Hermiston and Farrell   \n",
       "4   41.96   375534208663984                 fraud_Keeling-Crist   \n",
       "\n",
       "        category state                                job  \n",
       "0       misc_net    NC          Psychologist, counselling  \n",
       "1    grocery_pos    WA  Special educational needs teacher  \n",
       "2  entertainment    ID        Nature conservation officer  \n",
       "3  gas_transport    MT                    Patent attorney  \n",
       "4       misc_pos    VA     Dance movement psychotherapist  "
      ]
     },
     "execution_count": 8,
     "metadata": {},
     "output_type": "execute_result"
    }
   ],
   "source": [
    "X.head()"
   ]
  },
  {
   "cell_type": "markdown",
   "id": "d57cc709",
   "metadata": {},
   "source": [
    "## Pre-processing the data and splitting it into training and validation sets"
   ]
  },
  {
   "cell_type": "code",
   "execution_count": 16,
   "id": "708ade4c",
   "metadata": {},
   "outputs": [],
   "source": [
    "def data_encode_one_hot(df, encoders):\n",
    "    \"\"\" Encodes categorical features using one-hot encoding. \"\"\"\n",
    "    df = df.copy(True)\n",
    "    df.reset_index(drop=True, inplace=True) # Causes NaNs otherwise\n",
    "    enc_dfs = []\n",
    "    for feature, enc in encoders.items():\n",
    "        enc_df = pd.DataFrame(enc.transform(df[[feature]]).toarray(), columns=enc.get_feature_names_out([feature]))\n",
    "        enc_dfs.append(enc_df)\n",
    "    df = pd.concat([df] + enc_dfs, axis=1)\n",
    "    df.drop(list(encoders.keys()), axis=1, inplace=True)\n",
    "    return df"
   ]
  },
  {
   "cell_type": "code",
   "execution_count": 17,
   "id": "e0a1b4b0",
   "metadata": {},
   "outputs": [],
   "source": [
    "def create_encoder_dict(df, categorical_feature_names):\n",
    "    \"\"\" Creates encoders for each of the categorical features. \n",
    "        The predict function will need these encoders. \n",
    "    \"\"\"\n",
    "    from sklearn.preprocessing import OneHotEncoder\n",
    "    encoders = {}\n",
    "    for feature in categorical_feature_names:\n",
    "        enc = OneHotEncoder(handle_unknown='error')\n",
    "        enc.fit(df[[feature]])\n",
    "        encoders[feature] = enc\n",
    "    return encoders"
   ]
  },
  {
   "cell_type": "code",
   "execution_count": 27,
   "id": "ec41f1ba",
   "metadata": {},
   "outputs": [],
   "source": [
    "categorical_feature_names = ['cc_num', 'merchant', 'category', 'state', 'job']"
   ]
  },
  {
   "cell_type": "code",
   "execution_count": 28,
   "id": "248556af",
   "metadata": {},
   "outputs": [],
   "source": [
    "encoders = create_encoder_dict(X, categorical_feature_names)"
   ]
  },
  {
   "cell_type": "code",
   "execution_count": 29,
   "id": "b76d541a",
   "metadata": {},
   "outputs": [
    {
     "data": {
      "text/html": [
       "<div>\n",
       "<style scoped>\n",
       "    .dataframe tbody tr th:only-of-type {\n",
       "        vertical-align: middle;\n",
       "    }\n",
       "\n",
       "    .dataframe tbody tr th {\n",
       "        vertical-align: top;\n",
       "    }\n",
       "\n",
       "    .dataframe thead th {\n",
       "        text-align: right;\n",
       "    }\n",
       "</style>\n",
       "<table border=\"1\" class=\"dataframe\">\n",
       "  <thead>\n",
       "    <tr style=\"text-align: right;\">\n",
       "      <th></th>\n",
       "      <th>amt</th>\n",
       "      <th>cc_num_60416207185</th>\n",
       "      <th>cc_num_60422928733</th>\n",
       "      <th>cc_num_60423098130</th>\n",
       "      <th>cc_num_60427851591</th>\n",
       "      <th>cc_num_60487002085</th>\n",
       "      <th>cc_num_60490596305</th>\n",
       "      <th>cc_num_60495593109</th>\n",
       "      <th>cc_num_501802953619</th>\n",
       "      <th>cc_num_501828204849</th>\n",
       "      <th>...</th>\n",
       "      <th>job_Video editor</th>\n",
       "      <th>job_Visual merchandiser</th>\n",
       "      <th>job_Volunteer coordinator</th>\n",
       "      <th>job_Warden/ranger</th>\n",
       "      <th>job_Waste management officer</th>\n",
       "      <th>job_Water engineer</th>\n",
       "      <th>job_Water quality scientist</th>\n",
       "      <th>job_Web designer</th>\n",
       "      <th>job_Wellsite geologist</th>\n",
       "      <th>job_Writer</th>\n",
       "    </tr>\n",
       "  </thead>\n",
       "  <tbody>\n",
       "    <tr>\n",
       "      <th>0</th>\n",
       "      <td>1.86</td>\n",
       "      <td>0.0</td>\n",
       "      <td>0.0</td>\n",
       "      <td>0.0</td>\n",
       "      <td>0.0</td>\n",
       "      <td>0.0</td>\n",
       "      <td>0.0</td>\n",
       "      <td>0.0</td>\n",
       "      <td>0.0</td>\n",
       "      <td>0.0</td>\n",
       "      <td>...</td>\n",
       "      <td>0.0</td>\n",
       "      <td>0.0</td>\n",
       "      <td>0.0</td>\n",
       "      <td>0.0</td>\n",
       "      <td>0.0</td>\n",
       "      <td>0.0</td>\n",
       "      <td>0.0</td>\n",
       "      <td>0.0</td>\n",
       "      <td>0.0</td>\n",
       "      <td>0.0</td>\n",
       "    </tr>\n",
       "    <tr>\n",
       "      <th>1</th>\n",
       "      <td>5.18</td>\n",
       "      <td>0.0</td>\n",
       "      <td>0.0</td>\n",
       "      <td>0.0</td>\n",
       "      <td>0.0</td>\n",
       "      <td>0.0</td>\n",
       "      <td>0.0</td>\n",
       "      <td>0.0</td>\n",
       "      <td>0.0</td>\n",
       "      <td>0.0</td>\n",
       "      <td>...</td>\n",
       "      <td>0.0</td>\n",
       "      <td>0.0</td>\n",
       "      <td>0.0</td>\n",
       "      <td>0.0</td>\n",
       "      <td>0.0</td>\n",
       "      <td>0.0</td>\n",
       "      <td>0.0</td>\n",
       "      <td>0.0</td>\n",
       "      <td>0.0</td>\n",
       "      <td>0.0</td>\n",
       "    </tr>\n",
       "    <tr>\n",
       "      <th>2</th>\n",
       "      <td>59.99</td>\n",
       "      <td>0.0</td>\n",
       "      <td>0.0</td>\n",
       "      <td>0.0</td>\n",
       "      <td>0.0</td>\n",
       "      <td>0.0</td>\n",
       "      <td>0.0</td>\n",
       "      <td>0.0</td>\n",
       "      <td>0.0</td>\n",
       "      <td>0.0</td>\n",
       "      <td>...</td>\n",
       "      <td>0.0</td>\n",
       "      <td>0.0</td>\n",
       "      <td>0.0</td>\n",
       "      <td>0.0</td>\n",
       "      <td>0.0</td>\n",
       "      <td>0.0</td>\n",
       "      <td>0.0</td>\n",
       "      <td>0.0</td>\n",
       "      <td>0.0</td>\n",
       "      <td>0.0</td>\n",
       "    </tr>\n",
       "    <tr>\n",
       "      <th>3</th>\n",
       "      <td>141.97</td>\n",
       "      <td>0.0</td>\n",
       "      <td>0.0</td>\n",
       "      <td>0.0</td>\n",
       "      <td>0.0</td>\n",
       "      <td>0.0</td>\n",
       "      <td>0.0</td>\n",
       "      <td>0.0</td>\n",
       "      <td>0.0</td>\n",
       "      <td>0.0</td>\n",
       "      <td>...</td>\n",
       "      <td>0.0</td>\n",
       "      <td>0.0</td>\n",
       "      <td>0.0</td>\n",
       "      <td>0.0</td>\n",
       "      <td>0.0</td>\n",
       "      <td>0.0</td>\n",
       "      <td>0.0</td>\n",
       "      <td>0.0</td>\n",
       "      <td>0.0</td>\n",
       "      <td>0.0</td>\n",
       "    </tr>\n",
       "    <tr>\n",
       "      <th>4</th>\n",
       "      <td>1.45</td>\n",
       "      <td>0.0</td>\n",
       "      <td>0.0</td>\n",
       "      <td>0.0</td>\n",
       "      <td>0.0</td>\n",
       "      <td>0.0</td>\n",
       "      <td>0.0</td>\n",
       "      <td>0.0</td>\n",
       "      <td>0.0</td>\n",
       "      <td>0.0</td>\n",
       "      <td>...</td>\n",
       "      <td>0.0</td>\n",
       "      <td>0.0</td>\n",
       "      <td>0.0</td>\n",
       "      <td>0.0</td>\n",
       "      <td>0.0</td>\n",
       "      <td>0.0</td>\n",
       "      <td>0.0</td>\n",
       "      <td>0.0</td>\n",
       "      <td>0.0</td>\n",
       "      <td>0.0</td>\n",
       "    </tr>\n",
       "    <tr>\n",
       "      <th>...</th>\n",
       "      <td>...</td>\n",
       "      <td>...</td>\n",
       "      <td>...</td>\n",
       "      <td>...</td>\n",
       "      <td>...</td>\n",
       "      <td>...</td>\n",
       "      <td>...</td>\n",
       "      <td>...</td>\n",
       "      <td>...</td>\n",
       "      <td>...</td>\n",
       "      <td>...</td>\n",
       "      <td>...</td>\n",
       "      <td>...</td>\n",
       "      <td>...</td>\n",
       "      <td>...</td>\n",
       "      <td>...</td>\n",
       "      <td>...</td>\n",
       "      <td>...</td>\n",
       "      <td>...</td>\n",
       "      <td>...</td>\n",
       "      <td>...</td>\n",
       "    </tr>\n",
       "    <tr>\n",
       "      <th>9995</th>\n",
       "      <td>74.69</td>\n",
       "      <td>0.0</td>\n",
       "      <td>0.0</td>\n",
       "      <td>0.0</td>\n",
       "      <td>0.0</td>\n",
       "      <td>0.0</td>\n",
       "      <td>0.0</td>\n",
       "      <td>0.0</td>\n",
       "      <td>0.0</td>\n",
       "      <td>0.0</td>\n",
       "      <td>...</td>\n",
       "      <td>0.0</td>\n",
       "      <td>0.0</td>\n",
       "      <td>0.0</td>\n",
       "      <td>0.0</td>\n",
       "      <td>0.0</td>\n",
       "      <td>0.0</td>\n",
       "      <td>0.0</td>\n",
       "      <td>0.0</td>\n",
       "      <td>0.0</td>\n",
       "      <td>0.0</td>\n",
       "    </tr>\n",
       "    <tr>\n",
       "      <th>9996</th>\n",
       "      <td>6.68</td>\n",
       "      <td>0.0</td>\n",
       "      <td>0.0</td>\n",
       "      <td>0.0</td>\n",
       "      <td>0.0</td>\n",
       "      <td>0.0</td>\n",
       "      <td>0.0</td>\n",
       "      <td>0.0</td>\n",
       "      <td>0.0</td>\n",
       "      <td>0.0</td>\n",
       "      <td>...</td>\n",
       "      <td>0.0</td>\n",
       "      <td>0.0</td>\n",
       "      <td>0.0</td>\n",
       "      <td>0.0</td>\n",
       "      <td>0.0</td>\n",
       "      <td>0.0</td>\n",
       "      <td>0.0</td>\n",
       "      <td>0.0</td>\n",
       "      <td>0.0</td>\n",
       "      <td>0.0</td>\n",
       "    </tr>\n",
       "    <tr>\n",
       "      <th>9997</th>\n",
       "      <td>12.03</td>\n",
       "      <td>0.0</td>\n",
       "      <td>0.0</td>\n",
       "      <td>0.0</td>\n",
       "      <td>0.0</td>\n",
       "      <td>0.0</td>\n",
       "      <td>0.0</td>\n",
       "      <td>0.0</td>\n",
       "      <td>0.0</td>\n",
       "      <td>0.0</td>\n",
       "      <td>...</td>\n",
       "      <td>0.0</td>\n",
       "      <td>0.0</td>\n",
       "      <td>0.0</td>\n",
       "      <td>0.0</td>\n",
       "      <td>0.0</td>\n",
       "      <td>0.0</td>\n",
       "      <td>0.0</td>\n",
       "      <td>0.0</td>\n",
       "      <td>0.0</td>\n",
       "      <td>0.0</td>\n",
       "    </tr>\n",
       "    <tr>\n",
       "      <th>9998</th>\n",
       "      <td>2.84</td>\n",
       "      <td>0.0</td>\n",
       "      <td>0.0</td>\n",
       "      <td>0.0</td>\n",
       "      <td>0.0</td>\n",
       "      <td>0.0</td>\n",
       "      <td>0.0</td>\n",
       "      <td>0.0</td>\n",
       "      <td>0.0</td>\n",
       "      <td>0.0</td>\n",
       "      <td>...</td>\n",
       "      <td>0.0</td>\n",
       "      <td>0.0</td>\n",
       "      <td>0.0</td>\n",
       "      <td>0.0</td>\n",
       "      <td>0.0</td>\n",
       "      <td>0.0</td>\n",
       "      <td>0.0</td>\n",
       "      <td>0.0</td>\n",
       "      <td>0.0</td>\n",
       "      <td>0.0</td>\n",
       "    </tr>\n",
       "    <tr>\n",
       "      <th>9999</th>\n",
       "      <td>1.36</td>\n",
       "      <td>0.0</td>\n",
       "      <td>0.0</td>\n",
       "      <td>0.0</td>\n",
       "      <td>0.0</td>\n",
       "      <td>0.0</td>\n",
       "      <td>0.0</td>\n",
       "      <td>0.0</td>\n",
       "      <td>0.0</td>\n",
       "      <td>0.0</td>\n",
       "      <td>...</td>\n",
       "      <td>0.0</td>\n",
       "      <td>0.0</td>\n",
       "      <td>0.0</td>\n",
       "      <td>0.0</td>\n",
       "      <td>0.0</td>\n",
       "      <td>0.0</td>\n",
       "      <td>0.0</td>\n",
       "      <td>0.0</td>\n",
       "      <td>0.0</td>\n",
       "      <td>0.0</td>\n",
       "    </tr>\n",
       "  </tbody>\n",
       "</table>\n",
       "<p>10000 rows × 2146 columns</p>\n",
       "</div>"
      ],
      "text/plain": [
       "         amt  cc_num_60416207185  cc_num_60422928733  cc_num_60423098130  \\\n",
       "0       1.86                 0.0                 0.0                 0.0   \n",
       "1       5.18                 0.0                 0.0                 0.0   \n",
       "2      59.99                 0.0                 0.0                 0.0   \n",
       "3     141.97                 0.0                 0.0                 0.0   \n",
       "4       1.45                 0.0                 0.0                 0.0   \n",
       "...      ...                 ...                 ...                 ...   \n",
       "9995   74.69                 0.0                 0.0                 0.0   \n",
       "9996    6.68                 0.0                 0.0                 0.0   \n",
       "9997   12.03                 0.0                 0.0                 0.0   \n",
       "9998    2.84                 0.0                 0.0                 0.0   \n",
       "9999    1.36                 0.0                 0.0                 0.0   \n",
       "\n",
       "      cc_num_60427851591  cc_num_60487002085  cc_num_60490596305  \\\n",
       "0                    0.0                 0.0                 0.0   \n",
       "1                    0.0                 0.0                 0.0   \n",
       "2                    0.0                 0.0                 0.0   \n",
       "3                    0.0                 0.0                 0.0   \n",
       "4                    0.0                 0.0                 0.0   \n",
       "...                  ...                 ...                 ...   \n",
       "9995                 0.0                 0.0                 0.0   \n",
       "9996                 0.0                 0.0                 0.0   \n",
       "9997                 0.0                 0.0                 0.0   \n",
       "9998                 0.0                 0.0                 0.0   \n",
       "9999                 0.0                 0.0                 0.0   \n",
       "\n",
       "      cc_num_60495593109  cc_num_501802953619  cc_num_501828204849  ...  \\\n",
       "0                    0.0                  0.0                  0.0  ...   \n",
       "1                    0.0                  0.0                  0.0  ...   \n",
       "2                    0.0                  0.0                  0.0  ...   \n",
       "3                    0.0                  0.0                  0.0  ...   \n",
       "4                    0.0                  0.0                  0.0  ...   \n",
       "...                  ...                  ...                  ...  ...   \n",
       "9995                 0.0                  0.0                  0.0  ...   \n",
       "9996                 0.0                  0.0                  0.0  ...   \n",
       "9997                 0.0                  0.0                  0.0  ...   \n",
       "9998                 0.0                  0.0                  0.0  ...   \n",
       "9999                 0.0                  0.0                  0.0  ...   \n",
       "\n",
       "      job_Video editor  job_Visual merchandiser  job_Volunteer coordinator  \\\n",
       "0                  0.0                      0.0                        0.0   \n",
       "1                  0.0                      0.0                        0.0   \n",
       "2                  0.0                      0.0                        0.0   \n",
       "3                  0.0                      0.0                        0.0   \n",
       "4                  0.0                      0.0                        0.0   \n",
       "...                ...                      ...                        ...   \n",
       "9995               0.0                      0.0                        0.0   \n",
       "9996               0.0                      0.0                        0.0   \n",
       "9997               0.0                      0.0                        0.0   \n",
       "9998               0.0                      0.0                        0.0   \n",
       "9999               0.0                      0.0                        0.0   \n",
       "\n",
       "      job_Warden/ranger  job_Waste management officer  job_Water engineer  \\\n",
       "0                   0.0                           0.0                 0.0   \n",
       "1                   0.0                           0.0                 0.0   \n",
       "2                   0.0                           0.0                 0.0   \n",
       "3                   0.0                           0.0                 0.0   \n",
       "4                   0.0                           0.0                 0.0   \n",
       "...                 ...                           ...                 ...   \n",
       "9995                0.0                           0.0                 0.0   \n",
       "9996                0.0                           0.0                 0.0   \n",
       "9997                0.0                           0.0                 0.0   \n",
       "9998                0.0                           0.0                 0.0   \n",
       "9999                0.0                           0.0                 0.0   \n",
       "\n",
       "      job_Water quality scientist  job_Web designer  job_Wellsite geologist  \\\n",
       "0                             0.0               0.0                     0.0   \n",
       "1                             0.0               0.0                     0.0   \n",
       "2                             0.0               0.0                     0.0   \n",
       "3                             0.0               0.0                     0.0   \n",
       "4                             0.0               0.0                     0.0   \n",
       "...                           ...               ...                     ...   \n",
       "9995                          0.0               0.0                     0.0   \n",
       "9996                          0.0               0.0                     0.0   \n",
       "9997                          0.0               0.0                     0.0   \n",
       "9998                          0.0               0.0                     0.0   \n",
       "9999                          0.0               0.0                     0.0   \n",
       "\n",
       "      job_Writer  \n",
       "0            0.0  \n",
       "1            0.0  \n",
       "2            0.0  \n",
       "3            0.0  \n",
       "4            0.0  \n",
       "...          ...  \n",
       "9995         0.0  \n",
       "9996         0.0  \n",
       "9997         0.0  \n",
       "9998         0.0  \n",
       "9999         0.0  \n",
       "\n",
       "[10000 rows x 2146 columns]"
      ]
     },
     "execution_count": 29,
     "metadata": {},
     "output_type": "execute_result"
    }
   ],
   "source": [
    "x_train, x_val, y_train, y_val = train_test_split(X, y, test_size = 0.2, random_state = 0)\n",
    "x_train_one_hot = data_encode_one_hot(x_train, encoders)\n",
    "x_val_one_hot = data_encode_one_hot(x_val, encoders)\n",
    "\n",
    "x_val_one_hot"
   ]
  },
  {
   "cell_type": "markdown",
   "id": "cb03e8f4",
   "metadata": {},
   "source": [
    "## Training and evaluating the model's performance"
   ]
  },
  {
   "cell_type": "code",
   "execution_count": 22,
   "id": "fb60a129",
   "metadata": {},
   "outputs": [
    {
     "data": {
      "text/html": [
       "<style>#sk-container-id-1 {color: black;background-color: white;}#sk-container-id-1 pre{padding: 0;}#sk-container-id-1 div.sk-toggleable {background-color: white;}#sk-container-id-1 label.sk-toggleable__label {cursor: pointer;display: block;width: 100%;margin-bottom: 0;padding: 0.3em;box-sizing: border-box;text-align: center;}#sk-container-id-1 label.sk-toggleable__label-arrow:before {content: \"▸\";float: left;margin-right: 0.25em;color: #696969;}#sk-container-id-1 label.sk-toggleable__label-arrow:hover:before {color: black;}#sk-container-id-1 div.sk-estimator:hover label.sk-toggleable__label-arrow:before {color: black;}#sk-container-id-1 div.sk-toggleable__content {max-height: 0;max-width: 0;overflow: hidden;text-align: left;background-color: #f0f8ff;}#sk-container-id-1 div.sk-toggleable__content pre {margin: 0.2em;color: black;border-radius: 0.25em;background-color: #f0f8ff;}#sk-container-id-1 input.sk-toggleable__control:checked~div.sk-toggleable__content {max-height: 200px;max-width: 100%;overflow: auto;}#sk-container-id-1 input.sk-toggleable__control:checked~label.sk-toggleable__label-arrow:before {content: \"▾\";}#sk-container-id-1 div.sk-estimator input.sk-toggleable__control:checked~label.sk-toggleable__label {background-color: #d4ebff;}#sk-container-id-1 div.sk-label input.sk-toggleable__control:checked~label.sk-toggleable__label {background-color: #d4ebff;}#sk-container-id-1 input.sk-hidden--visually {border: 0;clip: rect(1px 1px 1px 1px);clip: rect(1px, 1px, 1px, 1px);height: 1px;margin: -1px;overflow: hidden;padding: 0;position: absolute;width: 1px;}#sk-container-id-1 div.sk-estimator {font-family: monospace;background-color: #f0f8ff;border: 1px dotted black;border-radius: 0.25em;box-sizing: border-box;margin-bottom: 0.5em;}#sk-container-id-1 div.sk-estimator:hover {background-color: #d4ebff;}#sk-container-id-1 div.sk-parallel-item::after {content: \"\";width: 100%;border-bottom: 1px solid gray;flex-grow: 1;}#sk-container-id-1 div.sk-label:hover label.sk-toggleable__label {background-color: #d4ebff;}#sk-container-id-1 div.sk-serial::before {content: \"\";position: absolute;border-left: 1px solid gray;box-sizing: border-box;top: 0;bottom: 0;left: 50%;z-index: 0;}#sk-container-id-1 div.sk-serial {display: flex;flex-direction: column;align-items: center;background-color: white;padding-right: 0.2em;padding-left: 0.2em;position: relative;}#sk-container-id-1 div.sk-item {position: relative;z-index: 1;}#sk-container-id-1 div.sk-parallel {display: flex;align-items: stretch;justify-content: center;background-color: white;position: relative;}#sk-container-id-1 div.sk-item::before, #sk-container-id-1 div.sk-parallel-item::before {content: \"\";position: absolute;border-left: 1px solid gray;box-sizing: border-box;top: 0;bottom: 0;left: 50%;z-index: -1;}#sk-container-id-1 div.sk-parallel-item {display: flex;flex-direction: column;z-index: 1;position: relative;background-color: white;}#sk-container-id-1 div.sk-parallel-item:first-child::after {align-self: flex-end;width: 50%;}#sk-container-id-1 div.sk-parallel-item:last-child::after {align-self: flex-start;width: 50%;}#sk-container-id-1 div.sk-parallel-item:only-child::after {width: 0;}#sk-container-id-1 div.sk-dashed-wrapped {border: 1px dashed gray;margin: 0 0.4em 0.5em 0.4em;box-sizing: border-box;padding-bottom: 0.4em;background-color: white;}#sk-container-id-1 div.sk-label label {font-family: monospace;font-weight: bold;display: inline-block;line-height: 1.2em;}#sk-container-id-1 div.sk-label-container {text-align: center;}#sk-container-id-1 div.sk-container {/* jupyter's `normalize.less` sets `[hidden] { display: none; }` but bootstrap.min.css set `[hidden] { display: none !important; }` so we also need the `!important` here to be able to override the default hidden behavior on the sphinx rendered scikit-learn.org. See: https://github.com/scikit-learn/scikit-learn/issues/21755 */display: inline-block !important;position: relative;}#sk-container-id-1 div.sk-text-repr-fallback {display: none;}</style><div id=\"sk-container-id-1\" class=\"sk-top-container\"><div class=\"sk-text-repr-fallback\"><pre>GradientBoostingClassifier(random_state=1300)</pre><b>In a Jupyter environment, please rerun this cell to show the HTML representation or trust the notebook. <br />On GitHub, the HTML representation is unable to render, please try loading this page with nbviewer.org.</b></div><div class=\"sk-container\" hidden><div class=\"sk-item\"><div class=\"sk-estimator sk-toggleable\"><input class=\"sk-toggleable__control sk-hidden--visually\" id=\"sk-estimator-id-1\" type=\"checkbox\" checked><label for=\"sk-estimator-id-1\" class=\"sk-toggleable__label sk-toggleable__label-arrow\">GradientBoostingClassifier</label><div class=\"sk-toggleable__content\"><pre>GradientBoostingClassifier(random_state=1300)</pre></div></div></div></div></div>"
      ],
      "text/plain": [
       "GradientBoostingClassifier(random_state=1300)"
      ]
     },
     "execution_count": 22,
     "metadata": {},
     "output_type": "execute_result"
    }
   ],
   "source": [
    "sklearn_model = GradientBoostingClassifier(random_state=1300)\n",
    "sklearn_model.fit(x_train_one_hot, y_train)"
   ]
  },
  {
   "cell_type": "code",
   "execution_count": 23,
   "id": "a4f603d9",
   "metadata": {},
   "outputs": [
    {
     "name": "stdout",
     "output_type": "stream",
     "text": [
      "              precision    recall  f1-score   support\n",
      "\n",
      "           0       1.00      1.00      1.00      9905\n",
      "           1       0.75      0.60      0.67        95\n",
      "\n",
      "    accuracy                           0.99     10000\n",
      "   macro avg       0.87      0.80      0.83     10000\n",
      "weighted avg       0.99      0.99      0.99     10000\n",
      "\n"
     ]
    }
   ],
   "source": [
    "print(classification_report(y_val, sklearn_model.predict(x_val_one_hot)))"
   ]
  },
  {
   "cell_type": "markdown",
   "id": "f3c514e1",
   "metadata": {},
   "source": [
    "## Unbox part!\n",
    "\n",
    "### Instantiating the client"
   ]
  },
  {
   "cell_type": "code",
   "execution_count": 24,
   "id": "82a38cd9",
   "metadata": {},
   "outputs": [],
   "source": [
    "import unboxapi\n",
    "\n",
    "client = unboxapi.UnboxClient(\"YOUR_API_KEY_HERE\")"
   ]
  },
  {
   "cell_type": "markdown",
   "id": "8884fe5c",
   "metadata": {},
   "source": [
    "### Creating a project on the platform"
   ]
  },
  {
   "cell_type": "code",
   "execution_count": 25,
   "id": "b74120e3",
   "metadata": {},
   "outputs": [
    {
     "name": "stdout",
     "output_type": "stream",
     "text": [
      "Creating project on Unbox! Check out https://unbox.ai/projects to have a look!\n"
     ]
    }
   ],
   "source": [
    "project = client.create_project(name=\"Fraud classification\", \n",
    "                                description=\"Evaluation of ML approaches to detect frauds\")"
   ]
  },
  {
   "cell_type": "markdown",
   "id": "4308c779",
   "metadata": {},
   "source": [
    "### Uploading the validation set"
   ]
  },
  {
   "cell_type": "code",
   "execution_count": 31,
   "id": "ebb1171a",
   "metadata": {},
   "outputs": [],
   "source": [
    "# Add the ground truths to the ordinal dataset for Unbox\n",
    "x_val['is_fraud'] = y_val.values\n",
    "x_train['is_fraud'] = y_train.values"
   ]
  },
  {
   "cell_type": "code",
   "execution_count": 32,
   "id": "cf1b9901",
   "metadata": {},
   "outputs": [
    {
     "name": "stdout",
     "output_type": "stream",
     "text": [
      "Uploading dataset to Unbox! Check out https://unbox.ai/datasets to have a look!\n"
     ]
    }
   ],
   "source": [
    "from unboxapi.tasks import TaskType\n",
    "\n",
    "dataset = project.add_dataframe(\n",
    "    df=x_val.sample(1000),\n",
    "    class_names=class_names,\n",
    "    label_column_name='is_fraud',\n",
    "    name=\"Fraud detection\",\n",
    "    description='this is my fraud dataset',\n",
    "    task_type=TaskType.TabularClassification,\n",
    "    feature_names=feature_names,\n",
    "    categorical_feature_names=categorical_feature_names,\n",
    ")"
   ]
  },
  {
   "cell_type": "markdown",
   "id": "72b7c235",
   "metadata": {},
   "source": [
    "### Uploading the model\n",
    "\n",
    "First, it is important to create a `predict_proba` function, which is how Unbox interacts with your model"
   ]
  },
  {
   "cell_type": "code",
   "execution_count": 34,
   "id": "d233987d",
   "metadata": {},
   "outputs": [],
   "source": [
    "def predict_proba(model, input_features: np.ndarray, col_names, one_hot_encoder, encoders):\n",
    "    \"\"\"Convert the raw input_features into one-hot encoded features\n",
    "    using our one hot encoder and each feature's encoder. \"\"\"\n",
    "    df = pd.DataFrame(input_features, columns=col_names)\n",
    "    encoded_df = one_hot_encoder(df, encoders)\n",
    "    return model.predict_proba(encoded_df.to_numpy())"
   ]
  },
  {
   "cell_type": "markdown",
   "id": "da302569",
   "metadata": {},
   "source": [
    "Let's test the `predict_proba` function to make sure the input-output format is consistent with what Unbox expects:"
   ]
  },
  {
   "cell_type": "code",
   "execution_count": 35,
   "id": "674147b8",
   "metadata": {},
   "outputs": [
    {
     "name": "stderr",
     "output_type": "stream",
     "text": [
      "/Users/gustavocid/miniconda3/envs/unbox-examples/lib/python3.8/site-packages/sklearn/base.py:450: UserWarning: X does not have valid feature names, but GradientBoostingClassifier was fitted with feature names\n",
      "  warnings.warn(\n"
     ]
    },
    {
     "data": {
      "text/plain": [
       "array([[9.99496347e-01, 5.03653403e-04],\n",
       "       [9.99496347e-01, 5.03653403e-04],\n",
       "       [9.99496347e-01, 5.03653403e-04]])"
      ]
     },
     "execution_count": 35,
     "metadata": {},
     "output_type": "execute_result"
    }
   ],
   "source": [
    "# Test the predict function\n",
    "predict_proba(sklearn_model, x_val[:3][feature_names].to_numpy(), feature_names, data_encode_one_hot, encoders)"
   ]
  },
  {
   "cell_type": "markdown",
   "id": "95a680db",
   "metadata": {},
   "source": [
    "Now, we can upload the model:"
   ]
  },
  {
   "cell_type": "code",
   "execution_count": 37,
   "id": "ace580e8",
   "metadata": {},
   "outputs": [
    {
     "name": "stdout",
     "output_type": "stream",
     "text": [
      "Bundling model and artifacts...\n",
      "Uploading model to Unbox! Check out https://unbox.ai/models to have a look!\n"
     ]
    }
   ],
   "source": [
    "from unboxapi.models import ModelType\n",
    "\n",
    "model = project.add_model(\n",
    "    function=predict_proba, \n",
    "    model=sklearn_model,\n",
    "    model_type=ModelType.sklearn,\n",
    "    task_type=TaskType.TabularClassification,\n",
    "    class_names=class_names,\n",
    "    name='Fraud detection',\n",
    "    description='this is my fraud classification model',\n",
    "    feature_names=feature_names,\n",
    "    train_sample_df=x_train,\n",
    "    train_sample_label_column_name='is_fraud',\n",
    "    categorical_feature_names=categorical_feature_names,\n",
    "    col_names=feature_names,\n",
    "    one_hot_encoder=data_encode_one_hot,\n",
    "    encoders=encoders,\n",
    ")"
   ]
  }
 ],
 "metadata": {
  "kernelspec": {
   "display_name": "Python 3 (ipykernel)",
   "language": "python",
   "name": "python3"
  },
  "language_info": {
   "codemirror_mode": {
    "name": "ipython",
    "version": 3
   },
   "file_extension": ".py",
   "mimetype": "text/x-python",
   "name": "python",
   "nbconvert_exporter": "python",
   "pygments_lexer": "ipython3",
   "version": "3.8.13"
  }
 },
 "nbformat": 4,
 "nbformat_minor": 5
}
