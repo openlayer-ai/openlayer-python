{
 "cells": [
  {
   "cell_type": "markdown",
   "id": "d5f05e13",
   "metadata": {},
   "source": [
    "[![Open In Colab](https://colab.research.google.com/assets/colab-badge.svg)](https://colab.research.google.com/github/openlayer-ai/examples-gallery/blob/main/tabular-classification/sklearn/fraud-detection/fraud-classifier-sklearn.ipynb)\n",
    "\n",
    "\n",
    "# <a id=\"top\">Fraud classification using sklearn</a>\n",
    "\n",
    "This notebook illustrates how sklearn models can be uploaded to the Openlayer platform.\n",
    "\n",
    "## <a id=\"toc\">Table of contents</a>\n",
    "\n",
    "1. [**Getting the data and training the model**](#1)\n",
    "    - [Downloading the dataset](#download)\n",
    "    - [Preparing the data](#prepare)\n",
    "    - [Training the model](#train)\n",
    "    \n",
    "\n",
    "2. [**Using Openlayer's Python API**](#2)\n",
    "    - [Instantiating the client](#client)\n",
    "    - [Creating a project](#project)\n",
    "    - [Uploading datasets](#dataset)\n",
    "    - [Uploading models](#model)\n",
    "    - [Committing and pushing to the platform](#commit)"
   ]
  },
  {
   "cell_type": "code",
   "execution_count": null,
   "id": "1ccfff1a",
   "metadata": {},
   "outputs": [],
   "source": [
    "%%bash\n",
    "\n",
    "if [ ! -e \"requirements.txt\" ]; then\n",
    "    curl \"https://raw.githubusercontent.com/openlayer-ai/examples-gallery/main/tabular-classification/sklearn/fraud-detection/requirements.txt\" --output \"requirements.txt\"\n",
    "fi"
   ]
  },
  {
   "cell_type": "code",
   "execution_count": null,
   "id": "5f6816ac",
   "metadata": {},
   "outputs": [],
   "source": [
    "!pip install -r requirements.txt"
   ]
  },
  {
   "cell_type": "markdown",
   "id": "dbfebd40",
   "metadata": {},
   "source": [
    "## <a id=\"1\"> 1. Getting the data and training the model </a>\n",
    "\n",
    "[Back to top](#top)\n",
    "\n",
    "In this first part, we will get the dataset, pre-process it, split it into training and validation sets, and train a model. Feel free to skim through this section if you are already comfortable with how these steps look for an sklearn model.   "
   ]
  },
  {
   "cell_type": "code",
   "execution_count": null,
   "id": "33179b0c",
   "metadata": {},
   "outputs": [],
   "source": [
    "import numpy as np\n",
    "import pandas as pd\n",
    "\n",
    "from sklearn.ensemble import GradientBoostingClassifier\n",
    "from sklearn.metrics import classification_report\n",
    "from sklearn.model_selection import train_test_split"
   ]
  },
  {
   "cell_type": "markdown",
   "id": "176afb0f",
   "metadata": {},
   "source": [
    "### <a id=\"download\">Downloading the dataset </a>\n",
    "\n",
    "\n",
    "We have stored a sample of the original dataset on the following S3 bucket. If, for some reason, you get an error reading the csv directly from it, feel free to copy and paste the URL in your browser and download the csv file. Alternatively, you can also find the full dataset on [this Kaggle competition](https://www.kaggle.com/datasets/kartik2112/fraud-detection?select=fraudTrain.csv). The dataset in our example corresponds to the first 10,000 rows of the original Kaggle competition dataset."
   ]
  },
  {
   "cell_type": "code",
   "execution_count": null,
   "id": "3acce87b",
   "metadata": {},
   "outputs": [],
   "source": [
    "DATASET_URL = \"https://openlayer-static-assets.s3.us-west-2.amazonaws.com/examples-datasets/tabular-classification/fraudTrainSample.csv\""
   ]
  },
  {
   "cell_type": "code",
   "execution_count": null,
   "id": "40472b51",
   "metadata": {},
   "outputs": [],
   "source": [
    "data = pd.read_csv(DATASET_URL)"
   ]
  },
  {
   "cell_type": "code",
   "execution_count": null,
   "id": "5682c7c0",
   "metadata": {},
   "outputs": [],
   "source": [
    "# Relevant columns\n",
    "feature_names = ['amt', 'cc_num', 'merchant', 'category','state','job']\n",
    "label = ['is_fraud']\n",
    "\n",
    "# Outputs\n",
    "class_names = [\"normal\", \"fraudulent\"]\n",
    "\n",
    "clean_raw_data = data[feature_names + label]"
   ]
  },
  {
   "cell_type": "code",
   "execution_count": null,
   "id": "679e0b36",
   "metadata": {},
   "outputs": [],
   "source": [
    "X = clean_raw_data.drop('is_fraud', 1)\n",
    "y = clean_raw_data['is_fraud']"
   ]
  },
  {
   "cell_type": "code",
   "execution_count": null,
   "id": "fa21dcd3",
   "metadata": {},
   "outputs": [],
   "source": [
    "X.head()"
   ]
  },
  {
   "cell_type": "markdown",
   "id": "d57cc709",
   "metadata": {},
   "source": [
    "### <a id=\"prepare\">Preparing the data</a>"
   ]
  },
  {
   "cell_type": "code",
   "execution_count": null,
   "id": "708ade4c",
   "metadata": {},
   "outputs": [],
   "source": [
    "def data_encode_one_hot(df, encoders):\n",
    "    \"\"\" Encodes categorical features using one-hot encoding. \"\"\"\n",
    "    df = df.copy(True)\n",
    "    df.reset_index(drop=True, inplace=True) # Causes NaNs otherwise\n",
    "    enc_dfs = []\n",
    "    for feature, enc in encoders.items():\n",
    "        enc_df = pd.DataFrame(enc.transform(df[[feature]]).toarray(), columns=enc.get_feature_names([feature]))\n",
    "        enc_dfs.append(enc_df)\n",
    "    df = pd.concat([df] + enc_dfs, axis=1)\n",
    "    df.drop(list(encoders.keys()), axis=1, inplace=True)\n",
    "    return df"
   ]
  },
  {
   "cell_type": "code",
   "execution_count": null,
   "id": "e0a1b4b0",
   "metadata": {},
   "outputs": [],
   "source": [
    "def create_encoder_dict(df, categorical_feature_names):\n",
    "    \"\"\" Creates encoders for each of the categorical features. \n",
    "        The predict function will need these encoders. \n",
    "    \"\"\"\n",
    "    from sklearn.preprocessing import OneHotEncoder\n",
    "    encoders = {}\n",
    "    for feature in categorical_feature_names:\n",
    "        enc = OneHotEncoder(handle_unknown='error')\n",
    "        enc.fit(df[[feature]])\n",
    "        encoders[feature] = enc\n",
    "    return encoders"
   ]
  },
  {
   "cell_type": "code",
   "execution_count": null,
   "id": "ec41f1ba",
   "metadata": {},
   "outputs": [],
   "source": [
    "categorical_feature_names = ['cc_num', 'merchant', 'category', 'state', 'job']"
   ]
  },
  {
   "cell_type": "code",
   "execution_count": null,
   "id": "248556af",
   "metadata": {},
   "outputs": [],
   "source": [
    "encoders = create_encoder_dict(X, categorical_feature_names)"
   ]
  },
  {
   "cell_type": "code",
   "execution_count": null,
   "id": "b76d541a",
   "metadata": {},
   "outputs": [],
   "source": [
    "x_train, x_val, y_train, y_val = train_test_split(X, y, test_size = 0.2, random_state = 0)\n",
    "x_train_one_hot = data_encode_one_hot(x_train, encoders)\n",
    "x_val_one_hot = data_encode_one_hot(x_val, encoders)\n",
    "\n",
    "x_val_one_hot"
   ]
  },
  {
   "cell_type": "markdown",
   "id": "cb03e8f4",
   "metadata": {},
   "source": [
    "### <a id=\"train\">Training the model</a>"
   ]
  },
  {
   "cell_type": "code",
   "execution_count": null,
   "id": "fb60a129",
   "metadata": {},
   "outputs": [],
   "source": [
    "sklearn_model = GradientBoostingClassifier(random_state=1300)\n",
    "sklearn_model.fit(x_train_one_hot, y_train)"
   ]
  },
  {
   "cell_type": "code",
   "execution_count": null,
   "id": "a4f603d9",
   "metadata": {},
   "outputs": [],
   "source": [
    "print(classification_report(y_val, sklearn_model.predict(x_val_one_hot)))"
   ]
  },
  {
   "cell_type": "markdown",
   "id": "f3c514e1",
   "metadata": {},
   "source": [
    "## <a id=\"2\"> 2. Using Openlayer's Python API</a>\n",
    "\n",
    "[Back to top](#top)\n",
    "\n",
    "Now it's time to upload the datasets and model to the Openlayer platform."
   ]
  },
  {
   "cell_type": "code",
   "execution_count": null,
   "id": "fb497be8",
   "metadata": {},
   "outputs": [],
   "source": [
    "!pip install openlayer"
   ]
  },
  {
   "cell_type": "markdown",
   "id": "e25b44d3",
   "metadata": {},
   "source": [
    "### <a id=\"client\">Instantiating the client</a>"
   ]
  },
  {
   "cell_type": "code",
   "execution_count": null,
   "id": "82a38cd9",
   "metadata": {},
   "outputs": [],
   "source": [
    "import openlayer\n",
    "\n",
    "client = openlayer.OpenlayerClient(\"YOUR_API_KEY_HERE\")"
   ]
  },
  {
   "cell_type": "markdown",
   "id": "8884fe5c",
   "metadata": {},
   "source": [
    "### <a id=\"project\">Creating a project on the platform</a>"
   ]
  },
  {
   "cell_type": "code",
   "execution_count": null,
   "id": "b74120e3",
   "metadata": {},
   "outputs": [],
   "source": [
    "from openlayer.tasks import TaskType\n",
    "\n",
    "project = client.create_or_load_project(name=\"Fraud classification\", \n",
    "                                        task_type=TaskType.TabularClassification,\n",
    "                                        description=\"Evaluation of ML approaches to detect frauds\")"
   ]
  },
  {
   "cell_type": "markdown",
   "id": "4308c779",
   "metadata": {},
   "source": [
    "### <a id=\"dataset\">Uploading datasets</a>"
   ]
  },
  {
   "cell_type": "code",
   "execution_count": null,
   "id": "ebb1171a",
   "metadata": {},
   "outputs": [],
   "source": [
    "# Add the ground truths to the ordinal dataset for Openlayer\n",
    "x_val['is_fraud'] = y_val.values\n",
    "x_train['is_fraud'] = y_train.values"
   ]
  },
  {
   "cell_type": "code",
   "execution_count": null,
   "id": "cf1b9901",
   "metadata": {},
   "outputs": [],
   "source": [
    "from openlayer.datasets import DatasetType\n",
    "\n",
    "# Validation set\n",
    "project.add_dataframe(\n",
    "    df=x_val.sample(1000),\n",
    "    dataset_type=DatasetType.Validation,\n",
    "    class_names=class_names,\n",
    "    label_column_name='is_fraud',\n",
    "    feature_names=feature_names,\n",
    "    categorical_feature_names=categorical_feature_names,\n",
    ")\n",
    "\n",
    "# Training set\n",
    "project.add_dataframe(\n",
    "    df=x_train.sample(1000),\n",
    "    dataset_type=DatasetType.Training,\n",
    "    class_names=class_names,\n",
    "    label_column_name='is_fraud',\n",
    "    feature_names=feature_names,\n",
    "    categorical_feature_names=categorical_feature_names,\n",
    ")"
   ]
  },
  {
   "cell_type": "markdown",
   "id": "55442996",
   "metadata": {},
   "source": [
    "We can check that both datasets are now staged using the `project.status()` method. "
   ]
  },
  {
   "cell_type": "code",
   "execution_count": null,
   "id": "a39bb1d2",
   "metadata": {},
   "outputs": [],
   "source": [
    "project.status()"
   ]
  },
  {
   "cell_type": "markdown",
   "id": "72b7c235",
   "metadata": {},
   "source": [
    "### <a id=\"model\">Uploading models</a>\n",
    "\n",
    "To upload a model to Openlayer, you will need to create a model package, which is nothing more than a folder with all the necessary information to run inference with the model. The package should include the following:\n",
    "1. A `requirements.txt` file listing the dependencies for the model.\n",
    "2. Serialized model files, such as model weights, encoders, etc., in a format specific to the framework used for training (e.g. `.pkl` for sklearn, `.pb` for TensorFlow, and so on.)\n",
    "3. A `prediction_interface.py` file that acts as a wrapper for the model and implements the `predict_proba` function. \n",
    "4. A `model_config.yaml` file that provides information about the model to the Openlayer platform, such as the framework used, feature names, and categorical feature names.\n",
    "\n",
    "Lets prepare the model package one piece at a time"
   ]
  },
  {
   "cell_type": "code",
   "execution_count": null,
   "id": "8fa5187e",
   "metadata": {},
   "outputs": [],
   "source": [
    "# Creating the model package folder (we'll call it `model_package`)\n",
    "!mkdir model_package"
   ]
  },
  {
   "cell_type": "markdown",
   "id": "27935584",
   "metadata": {},
   "source": [
    "**1. Adding the `requirements.txt` to the model package**"
   ]
  },
  {
   "cell_type": "code",
   "execution_count": null,
   "id": "90c269e5",
   "metadata": {},
   "outputs": [],
   "source": [
    "!scp requirements.txt model_package"
   ]
  },
  {
   "cell_type": "markdown",
   "id": "d935a125",
   "metadata": {},
   "source": [
    "**2. Serializing the model and other objects needed**"
   ]
  },
  {
   "cell_type": "code",
   "execution_count": null,
   "id": "ec0af3d6",
   "metadata": {},
   "outputs": [],
   "source": [
    "import pickle \n",
    "\n",
    "# Trained model\n",
    "with open('model_package/model.pkl', 'wb') as handle:\n",
    "    pickle.dump(sklearn_model, handle, protocol=pickle.HIGHEST_PROTOCOL)\n",
    "\n",
    "# Encoder for the categorical features\n",
    "with open('model_package/encoders.pkl', 'wb') as handle:\n",
    "    pickle.dump(encoders, handle, protocol=pickle.HIGHEST_PROTOCOL)"
   ]
  },
  {
   "cell_type": "markdown",
   "id": "ff5a5beb",
   "metadata": {},
   "source": [
    "**3. Writing the `prediction_interface.py` file**"
   ]
  },
  {
   "cell_type": "code",
   "execution_count": null,
   "id": "0e91d1ba",
   "metadata": {},
   "outputs": [],
   "source": [
    "%%writefile model_package/prediction_interface.py\n",
    "\n",
    "import pickle\n",
    "from pathlib import Path\n",
    "\n",
    "import pandas as pd\n",
    "from sklearn.preprocessing import OneHotEncoder\n",
    "\n",
    "PACKAGE_PATH = Path(__file__).parent\n",
    "\n",
    "\n",
    "class SklearnModel:\n",
    "    def __init__(self):\n",
    "        \"\"\"This is where the serialized objects needed should\n",
    "        be loaded as class attributes.\"\"\"\n",
    "\n",
    "        with open(PACKAGE_PATH / \"model.pkl\", \"rb\") as model_file:\n",
    "            self.model = pickle.load(model_file)\n",
    "        with open(PACKAGE_PATH / \"encoders.pkl\", \"rb\") as encoders_file:\n",
    "            self.encoders = pickle.load(encoders_file)\n",
    "\n",
    "    def _data_encode_one_hot(self, df: pd.DataFrame) -> pd.DataFrame:\n",
    "        \"\"\"Pre-processing needed for our particular use case.\"\"\"\n",
    "\n",
    "        df = df.copy(True)\n",
    "        df.reset_index(drop=True, inplace=True)  # Causes NaNs otherwise\n",
    "        for feature, enc in self.encoders.items():\n",
    "            enc_df = pd.DataFrame(\n",
    "                enc.transform(df[[feature]]).toarray(),\n",
    "                columns=enc.get_feature_names([feature]),\n",
    "            )\n",
    "            df = df.join(enc_df)\n",
    "            df = df.drop(columns=feature)\n",
    "        return df\n",
    "\n",
    "    def predict_proba(self, input_data_df: pd.DataFrame):\n",
    "        \"\"\"Makes predictions with the model. Returns the class probabilities.\"\"\"\n",
    "\n",
    "        encoded_df = self._data_encode_one_hot(input_data_df)\n",
    "        return self.model.predict_proba(encoded_df)\n",
    "\n",
    "\n",
    "def load_model():\n",
    "    \"\"\"Function that returns the wrapped model object.\"\"\"\n",
    "    return SklearnModel()"
   ]
  },
  {
   "cell_type": "markdown",
   "id": "7d8b85b8",
   "metadata": {},
   "source": [
    "**4. Creating the `model_config.yaml`**"
   ]
  },
  {
   "cell_type": "code",
   "execution_count": null,
   "id": "7135a16f",
   "metadata": {},
   "outputs": [],
   "source": [
    "import yaml \n",
    "\n",
    "model_config = {\n",
    "    \"name\": \"Fraud detection model\",\n",
    "    \"model_type\": \"sklearn\",\n",
    "    \"class_names\": class_names,\n",
    "    \"categorical_feature_names\": categorical_feature_names,\n",
    "    \"feature_names\":feature_names\n",
    "}\n",
    "\n",
    "with open('model_package/model_config.yaml', 'w') as model_config_file:\n",
    "    yaml.dump(model_config, model_config_file, default_flow_style=False)"
   ]
  },
  {
   "cell_type": "markdown",
   "id": "eb53cfe1",
   "metadata": {},
   "source": [
    "Lets check that the model package contains everything needed:"
   ]
  },
  {
   "cell_type": "code",
   "execution_count": null,
   "id": "ef5fd4e5",
   "metadata": {},
   "outputs": [],
   "source": [
    "test_ = x_val.loc[:, x_val.columns != 'is_fraud']"
   ]
  },
  {
   "cell_type": "code",
   "execution_count": null,
   "id": "50065e94",
   "metadata": {},
   "outputs": [],
   "source": [
    "from openlayer.validators import ModelValidator\n",
    "\n",
    "model_validator = ModelValidator(\n",
    "    model_package_dir=\"model_package\", \n",
    "    sample_data = test_.iloc[:10, :]\n",
    ")\n",
    "model_validator.validate()"
   ]
  },
  {
   "cell_type": "markdown",
   "id": "f91d1989",
   "metadata": {},
   "source": [
    "Now, we are ready to add the model:"
   ]
  },
  {
   "cell_type": "code",
   "execution_count": null,
   "id": "fa59828f",
   "metadata": {},
   "outputs": [],
   "source": [
    "project.add_model(\n",
    "    model_package_dir=\"model_package\",\n",
    "    sample_data=test_.iloc[:10, :]\n",
    ")"
   ]
  },
  {
   "cell_type": "markdown",
   "id": "25935bd9",
   "metadata": {},
   "source": [
    "We can check that both datasets and model are staged using the `project.status()` method."
   ]
  },
  {
   "cell_type": "code",
   "execution_count": null,
   "id": "0547c2b8",
   "metadata": {},
   "outputs": [],
   "source": [
    "project.status()"
   ]
  },
  {
   "cell_type": "markdown",
   "id": "30e9093e",
   "metadata": {},
   "source": [
    "### <a id=\"commit\"> Committing and pushing to the platform </a>\n",
    "\n",
    "Finally, we can commit the first project version to the platform. "
   ]
  },
  {
   "cell_type": "code",
   "execution_count": null,
   "id": "e69a4051",
   "metadata": {},
   "outputs": [],
   "source": [
    "project.commit(\"Initial commit!\")"
   ]
  },
  {
   "cell_type": "code",
   "execution_count": null,
   "id": "f3c53fea",
   "metadata": {},
   "outputs": [],
   "source": [
    "project.status()"
   ]
  },
  {
   "cell_type": "code",
   "execution_count": null,
   "id": "fccc89e0",
   "metadata": {},
   "outputs": [],
   "source": [
    "project.push()"
   ]
  }
 ],
 "metadata": {
  "kernelspec": {
   "display_name": "Python 3 (ipykernel)",
   "language": "python",
   "name": "python3"
  },
  "language_info": {
   "codemirror_mode": {
    "name": "ipython",
    "version": 3
   },
   "file_extension": ".py",
   "mimetype": "text/x-python",
   "name": "python",
   "nbconvert_exporter": "python",
   "pygments_lexer": "ipython3",
   "version": "3.8.13"
  }
 },
 "nbformat": 4,
 "nbformat_minor": 5
}
