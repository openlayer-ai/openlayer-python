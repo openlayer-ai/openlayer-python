{
 "cells": [
  {
   "cell_type": "markdown",
   "id": "noticed-furniture",
   "metadata": {},
   "source": [
    "# Build model"
   ]
  },
  {
   "cell_type": "code",
   "execution_count": 1,
   "id": "exempt-stewart",
   "metadata": {},
   "outputs": [],
   "source": [
    "import torch\n",
    "from torchtext.datasets import AG_NEWS\n",
    "from torchtext.data.utils import get_tokenizer\n",
    "from collections import Counter\n",
    "from torchtext.vocab import Vocab\n",
    "from torch.utils.data import DataLoader\n",
    "from torch import nn\n",
    "import time\n",
    "from torch.utils.data.dataset import random_split"
   ]
  },
  {
   "cell_type": "code",
   "execution_count": 2,
   "id": "offensive-snowboard",
   "metadata": {},
   "outputs": [],
   "source": [
    "train_iter = AG_NEWS(split='train')"
   ]
  },
  {
   "cell_type": "code",
   "execution_count": 3,
   "id": "departmental-relations",
   "metadata": {},
   "outputs": [],
   "source": [
    "tokenizer = get_tokenizer('basic_english')\n",
    "train_iter = AG_NEWS(split='train')\n",
    "counter = Counter()\n",
    "for (label, line) in train_iter:\n",
    "    counter.update(tokenizer(line))\n",
    "vocab = Vocab(counter, min_freq=1)"
   ]
  },
  {
   "cell_type": "code",
   "execution_count": 4,
   "id": "french-arrangement",
   "metadata": {},
   "outputs": [],
   "source": [
    "text_pipeline = lambda x: [vocab[token] for token in tokenizer(x)]\n",
    "label_pipeline = lambda x: int(x)"
   ]
  },
  {
   "cell_type": "code",
   "execution_count": 5,
   "id": "handy-application",
   "metadata": {},
   "outputs": [],
   "source": [
    "device = torch.device(\"cuda\" if torch.cuda.is_available() else \"cpu\")\n",
    "\n",
    "def collate_batch(batch):\n",
    "    label_list, text_list, offsets = [], [], [0]\n",
    "    for (_label, _text) in batch:\n",
    "        label_list.append(label_pipeline(_label))\n",
    "        processed_text = torch.tensor(text_pipeline(_text), dtype=torch.int64)\n",
    "        text_list.append(processed_text)\n",
    "        offsets.append(processed_text.size(0))\n",
    "    label_list = torch.tensor(label_list, dtype=torch.int64)\n",
    "    offsets = torch.tensor(offsets[:-1]).cumsum(dim=0)\n",
    "    text_list = torch.cat(text_list)\n",
    "    return label_list.to(device), text_list.to(device), offsets.to(device)\n",
    "\n",
    "train_iter = AG_NEWS(split='train')\n",
    "dataloader = DataLoader(train_iter, batch_size=8, shuffle=False, collate_fn=collate_batch)"
   ]
  },
  {
   "cell_type": "code",
   "execution_count": 6,
   "id": "widespread-midwest",
   "metadata": {},
   "outputs": [],
   "source": [
    "class TextClassificationModel(nn.Module):\n",
    "\n",
    "    def __init__(self, vocab_size, embed_dim, num_class):\n",
    "        super(TextClassificationModel, self).__init__()\n",
    "        self.embedding = nn.EmbeddingBag(vocab_size, embed_dim, sparse=True)\n",
    "        self.fc = nn.Linear(embed_dim, num_class)\n",
    "        self.init_weights()\n",
    "\n",
    "    def init_weights(self):\n",
    "        initrange = 0.5\n",
    "        self.embedding.weight.data.uniform_(-initrange, initrange)\n",
    "        self.fc.weight.data.uniform_(-initrange, initrange)\n",
    "        self.fc.bias.data.zero_()\n",
    "\n",
    "    def forward(self, text, offsets):\n",
    "        embedded = self.embedding(text, offsets)\n",
    "        return self.fc(embedded)\n"
   ]
  },
  {
   "cell_type": "code",
   "execution_count": 7,
   "id": "academic-activation",
   "metadata": {},
   "outputs": [],
   "source": [
    "train_iter = AG_NEWS(split='train')\n",
    "num_class = len(set([label for (label, text) in train_iter]))\n",
    "vocab_size = len(vocab)\n",
    "emsize = 64\n",
    "model = TextClassificationModel(vocab_size, emsize, num_class).to(device)"
   ]
  },
  {
   "cell_type": "code",
   "execution_count": 8,
   "id": "indoor-weapon",
   "metadata": {},
   "outputs": [],
   "source": [
    "def train(dataloader):\n",
    "    model.train()\n",
    "    total_acc, total_count = 0, 0\n",
    "    log_interval = 500\n",
    "    start_time = time.time()\n",
    "\n",
    "    for idx, (label, text, offsets) in enumerate(dataloader):\n",
    "        optimizer.zero_grad()\n",
    "        predited_label = model(text, offsets)\n",
    "        loss = criterion(predited_label, label)\n",
    "        loss.backward()\n",
    "        torch.nn.utils.clip_grad_norm_(model.parameters(), 0.1)\n",
    "        optimizer.step()\n",
    "        total_acc += (predited_label.argmax(1) == label).sum().item()\n",
    "        total_count += label.size(0)\n",
    "        if idx % log_interval == 0 and idx > 0:\n",
    "            elapsed = time.time() - start_time\n",
    "            print('| epoch {:3d} | {:5d}/{:5d} batches '\n",
    "                  '| accuracy {:8.3f}'.format(epoch, idx, len(dataloader),\n",
    "                                              total_acc/total_count))\n",
    "            total_acc, total_count = 0, 0\n",
    "            start_time = time.time()\n",
    "\n",
    "def evaluate(dataloader):\n",
    "    model.eval()\n",
    "    total_acc, total_count = 0, 0\n",
    "\n",
    "    with torch.no_grad():\n",
    "        for idx, (label, text, offsets) in enumerate(dataloader):\n",
    "            predited_label = model(text, offsets)\n",
    "            loss = criterion(predited_label, label)\n",
    "            total_acc += (predited_label.argmax(1) == label).sum().item()\n",
    "            total_count += label.size(0)\n",
    "    return total_acc/total_count"
   ]
  },
  {
   "cell_type": "code",
   "execution_count": 9,
   "id": "essential-meditation",
   "metadata": {},
   "outputs": [
    {
     "name": "stdout",
     "output_type": "stream",
     "text": [
      "| epoch   1 |   500/ 1782 batches | accuracy    0.682\n",
      "| epoch   1 |  1000/ 1782 batches | accuracy    0.854\n",
      "| epoch   1 |  1500/ 1782 batches | accuracy    0.875\n",
      "-----------------------------------------------------------\n",
      "| end of epoch   1 | time: 10.36s | valid accuracy    0.880 \n",
      "-----------------------------------------------------------\n",
      "| epoch   2 |   500/ 1782 batches | accuracy    0.897\n",
      "| epoch   2 |  1000/ 1782 batches | accuracy    0.899\n",
      "| epoch   2 |  1500/ 1782 batches | accuracy    0.903\n",
      "-----------------------------------------------------------\n",
      "| end of epoch   2 | time: 10.19s | valid accuracy    0.892 \n",
      "-----------------------------------------------------------\n"
     ]
    }
   ],
   "source": [
    "from torch.utils.data.dataset import random_split\n",
    "# Hyperparameters\n",
    "EPOCHS = 2 # epoch\n",
    "LR = 5  # learning rate\n",
    "BATCH_SIZE = 64 # batch size for training\n",
    "\n",
    "criterion = torch.nn.CrossEntropyLoss()\n",
    "optimizer = torch.optim.SGD(model.parameters(), lr=LR)\n",
    "scheduler = torch.optim.lr_scheduler.StepLR(optimizer, 1.0, gamma=0.1)\n",
    "total_accu = None\n",
    "train_iter, test_iter = AG_NEWS()\n",
    "train_dataset = list(train_iter)\n",
    "test_dataset = list(test_iter)\n",
    "# Make labels zero indexed\n",
    "test_dataset = [(a - 1, b) for a, b in test_dataset]\n",
    "train_dataset = [(a - 1, b) for a, b in train_dataset]\n",
    "\n",
    "num_train = int(len(train_dataset) * 0.95)\n",
    "split_train_, split_valid_ = \\\n",
    "    random_split(train_dataset, [num_train, len(train_dataset) - num_train])\n",
    "\n",
    "train_dataloader = DataLoader(split_train_, batch_size=BATCH_SIZE,\n",
    "                              shuffle=True, collate_fn=collate_batch)\n",
    "valid_dataloader = DataLoader(split_valid_, batch_size=BATCH_SIZE,\n",
    "                              shuffle=True, collate_fn=collate_batch)\n",
    "test_dataloader = DataLoader(test_dataset, batch_size=BATCH_SIZE,\n",
    "                             shuffle=True, collate_fn=collate_batch)\n",
    "\n",
    "for epoch in range(1, EPOCHS + 1):\n",
    "    epoch_start_time = time.time()\n",
    "    train(train_dataloader)\n",
    "    accu_val = evaluate(valid_dataloader)\n",
    "    if total_accu is not None and total_accu > accu_val:\n",
    "        scheduler.step()\n",
    "    else:\n",
    "        total_accu = accu_val\n",
    "    print('-' * 59)\n",
    "    print('| end of epoch {:3d} | time: {:5.2f}s | '\n",
    "          'valid accuracy {:8.3f} '.format(epoch,\n",
    "                                           time.time() - epoch_start_time,\n",
    "                                           accu_val))\n",
    "    print('-' * 59)"
   ]
  },
  {
   "cell_type": "code",
   "execution_count": 10,
   "id": "extensive-template",
   "metadata": {},
   "outputs": [
    {
     "name": "stdout",
     "output_type": "stream",
     "text": [
      "Checking the results of test dataset.\n",
      "test accuracy    0.898\n"
     ]
    }
   ],
   "source": [
    "print('Checking the results of test dataset.')\n",
    "accu_test = evaluate(test_dataloader)\n",
    "print('test accuracy {:8.3f}'.format(accu_test))"
   ]
  },
  {
   "cell_type": "markdown",
   "id": "answering-nightmare",
   "metadata": {},
   "source": [
    "# PREDICT FUNCTION"
   ]
  },
  {
   "cell_type": "code",
   "execution_count": 11,
   "id": "north-valuation",
   "metadata": {},
   "outputs": [],
   "source": [
    "sm = torch.nn.Softmax()\n",
    "ag_news_label = {1: \"World\",\n",
    "                 2: \"Sports\",\n",
    "                 3: \"Business\",\n",
    "                 4: \"Sci/Tec\"}\n",
    "ex_text_str = \"MEMPHIS, Tenn. – Four days ago, Jon Rahm was \\\n",
    "    enduring the season’s worst weather conditions on Sunday at The \\\n",
    "    Open on his way to a closing 75 at Royal Portrush, which \\\n",
    "    considering the wind and the rain was a respectable showing. \\\n",
    "    Thursday’s first round at the WGC-FedEx St. Jude Invitational \\\n",
    "    was another story. With temperatures in the mid-80s and hardly any \\\n",
    "    wind, the Spaniard was 13 strokes better in a flawless round. \\\n",
    "    Thanks to his best putting performance on the PGA Tour, Rahm \\\n",
    "    finished with an 8-under 62 for a three-stroke lead, which \\\n",
    "    was even more impressive considering he’d never played the \\\n",
    "    front nine at TPC Southwind.\""
   ]
  },
  {
   "cell_type": "code",
   "execution_count": 14,
   "id": "supposed-survey",
   "metadata": {},
   "outputs": [],
   "source": [
    "def predict_fn(model, texts, tokenizer, vocab):\n",
    "    with torch.no_grad():\n",
    "        texts = [\n",
    "            torch.tensor(\n",
    "                [vocab[token] for token in tokenizer(text)]\n",
    "            ) \n",
    "            for text in texts]\n",
    "        text_list = torch.tensor(torch.cat(texts)).long()\n",
    "        \n",
    "        offsets = [0]\n",
    "        for text in texts:\n",
    "            offsets.append(text.size(0))\n",
    "        offsets = torch.tensor(offsets[:-1]).cumsum(dim=0).long()\n",
    "        \n",
    "        output = model(text_list, offsets)\n",
    "        \n",
    "        return sm(output).numpy().tolist()"
   ]
  },
  {
   "cell_type": "code",
   "execution_count": 15,
   "id": "comprehensive-jenny",
   "metadata": {},
   "outputs": [
    {
     "name": "stderr",
     "output_type": "stream",
     "text": [
      "/var/folders/_6/xxzr8rcn1pd4769rhd8244n00000gn/T/ipykernel_9141/735817920.py:8: UserWarning: To copy construct from a tensor, it is recommended to use sourceTensor.clone().detach() or sourceTensor.clone().detach().requires_grad_(True), rather than torch.tensor(sourceTensor).\n",
      "  text_list = torch.tensor(torch.cat(texts)).long()\n",
      "/var/folders/_6/xxzr8rcn1pd4769rhd8244n00000gn/T/ipykernel_9141/735817920.py:17: UserWarning: Implicit dimension choice for softmax has been deprecated. Change the call to include dim=X as an argument.\n",
      "  return sm(output).numpy().tolist()\n"
     ]
    },
    {
     "data": {
      "text/plain": [
       "[[0.02745627425611019,\n",
       "  0.9555160403251648,\n",
       "  0.005490866955369711,\n",
       "  0.01153685711324215],\n",
       " [0.16607433557510376,\n",
       "  0.2975232005119324,\n",
       "  0.002381894737482071,\n",
       "  0.5340205430984497]]"
      ]
     },
     "execution_count": 15,
     "metadata": {},
     "output_type": "execute_result"
    }
   ],
   "source": [
    "predict_fn(model, [ex_text_str, \"two\"], tokenizer, vocab)"
   ]
  },
  {
   "cell_type": "markdown",
   "id": "scientific-dubai",
   "metadata": {},
   "source": [
    "# UNBOX"
   ]
  },
  {
   "cell_type": "code",
   "execution_count": 16,
   "id": "compressed-occupation",
   "metadata": {},
   "outputs": [],
   "source": [
    "import unboxapi\n",
    "# client = unboxapi.UnboxClient(\"YOUR_API_KEY_HERE\")\n",
    "unboxapi.DEPLOYMENT = unboxapi.DeploymentType.AWS\n",
    "unboxapi.api.UNBOX_ENDPOINT = \"http://0.0.0.0:8080/api\" # Use this for local testing\n",
    "client = unboxapi.UnboxClient(\"481bb19f-c58c-415b-a957-36cbfe17ec85\")"
   ]
  },
  {
   "cell_type": "markdown",
   "id": "classified-machinery",
   "metadata": {},
   "source": [
    "# Package & Upload to Unbox"
   ]
  },
  {
   "cell_type": "markdown",
   "id": "valuable-witch",
   "metadata": {},
   "source": [
    "### Upload model"
   ]
  },
  {
   "cell_type": "code",
   "execution_count": 17,
   "id": "operating-bulletin",
   "metadata": {},
   "outputs": [
    {
     "name": "stdout",
     "output_type": "stream",
     "text": [
      "[2021-07-07 17:17:48,528] WARNING - BentoML by default does not include spacy and torchvision package when using PytorchModelArtifact. To make sure BentoML bundle those packages if they are required for your model, either import those packages in BentoService definition file or manually add them via `@env(pip_packages=['torchvision'])` when defining a BentoService\n"
     ]
    },
    {
     "name": "stderr",
     "output_type": "stream",
     "text": [
      "\r",
      "  0%|                                                                                                                                                                           | 0.00/22.7M [00:00<?, ?B/s]"
     ]
    },
    {
     "name": "stdout",
     "output_type": "stream",
     "text": [
      "Connecting to Unbox server\n"
     ]
    },
    {
     "name": "stderr",
     "output_type": "stream",
     "text": [
      "100%|██████████████████████████████████████████████████████████████████████████████████████████████████████████████████████████████████████████████████████████████████| 22.7M/22.7M [00:14<00:00, 1.60MB/s]\n"
     ]
    },
    {
     "data": {
      "text/plain": [
       "{'_links': {'datasets': '/api/models/4e0c3df3-5a22-4934-942b-8b78798db898/datasets',\n",
       "  'inferenceRuns': '/api/models/4e0c3df3-5a22-4934-942b-8b78798db898/inference-runs',\n",
       "  'runReports': '/api/models/4e0c3df3-5a22-4934-942b-8b78798db898/run-reports',\n",
       "  'self': '/api/models/4e0c3df3-5a22-4934-942b-8b78798db898'},\n",
       " 'classNames': ['world', 'sports', 'business', 'sci/tec'],\n",
       " 'datasetCount': 0,\n",
       " 'dateCreated': '2021-07-08T00:18:06.797474Z',\n",
       " 'description': 'this is my pytorch model',\n",
       " 'id': '4e0c3df3-5a22-4934-942b-8b78798db898',\n",
       " 'inProgressNotifications': ['model_4e0c3df3-5a22-4934-942b-8b78798db898_create_endpoint'],\n",
       " 'inferenceRunCount': 0,\n",
       " 'modelApi': None,\n",
       " 'name': 'pytorch 4',\n",
       " 'runReportCount': 0}"
      ]
     },
     "execution_count": 17,
     "metadata": {},
     "output_type": "execute_result"
    }
   ],
   "source": [
    "from unboxapi.models import ModelType\n",
    "\n",
    "model = client.add_model(\n",
    "    function=predict_fn, \n",
    "    model=model,\n",
    "    model_type=ModelType.pytorch,\n",
    "    class_names=['world', 'sports', 'business', 'sci/tec'],\n",
    "    name='pytorch 4',\n",
    "    description='this is my pytorch model',\n",
    "    requirements_txt_file='./requirements.txt',\n",
    "    tokenizer=tokenizer,\n",
    "    vocab=vocab,\n",
    ")\n",
    "model.to_dict()"
   ]
  },
  {
   "cell_type": "markdown",
   "id": "binding-polymer",
   "metadata": {},
   "source": [
    "### Upload dataset from dataframe"
   ]
  },
  {
   "cell_type": "code",
   "execution_count": null,
   "id": "78ad581e",
   "metadata": {},
   "outputs": [],
   "source": [
    "import pandas as pd"
   ]
  },
  {
   "cell_type": "code",
   "execution_count": null,
   "id": "85b53a5c",
   "metadata": {},
   "outputs": [],
   "source": [
    "df = pd.DataFrame(test_dataset, columns=[\"label\", \"text\"])[:1000]"
   ]
  },
  {
   "cell_type": "code",
   "execution_count": null,
   "id": "painted-sleep",
   "metadata": {},
   "outputs": [],
   "source": [
    "dataset = client.add_dataframe(\n",
    "    df=df,\n",
    "    class_names=['world', 'sports', 'business', 'sci/tec'],\n",
    "    label_column_name='label',\n",
    "    text_column_name='text',\n",
    "    name='Pytorch test dataset',\n",
    "    description='this is my Pytorch test dataset'\n",
    ")\n",
    "dataset.to_dict()"
   ]
  },
  {
   "cell_type": "code",
   "execution_count": null,
   "id": "230995b5",
   "metadata": {},
   "outputs": [],
   "source": []
  }
 ],
 "metadata": {
  "kernelspec": {
   "display_name": "Python 3 (ipykernel)",
   "language": "python",
   "name": "python3"
  },
  "language_info": {
   "codemirror_mode": {
    "name": "ipython",
    "version": 3
   },
   "file_extension": ".py",
   "mimetype": "text/x-python",
   "name": "python",
   "nbconvert_exporter": "python",
   "pygments_lexer": "ipython3",
   "version": "3.8.10"
  }
 },
 "nbformat": 4,
 "nbformat_minor": 5
}
