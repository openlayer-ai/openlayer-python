{
 "cells": [
  {
   "cell_type": "markdown",
   "id": "17d323b5",
   "metadata": {
    "id": "17d323b5"
   },
   "source": [
    "# Welcome to the Unbox baseline tutorial!"
   ]
  },
  {
   "cell_type": "code",
   "execution_count": 46,
   "id": "17814a2e",
   "metadata": {
    "id": "17814a2e"
   },
   "outputs": [],
   "source": [
    "import unboxapi\n",
    "from unboxapi.tasks import TaskType\n",
    "from unboxapi.models import ModelType"
   ]
  },
  {
   "cell_type": "code",
   "execution_count": 47,
   "id": "b1704fae",
   "metadata": {},
   "outputs": [],
   "source": [
    "import pandas as pd\n",
    "import numpy as np\n",
    "import json\n",
    "import pickle\n",
    "\n",
    "from sklearn.model_selection import train_test_split,GridSearchCV,cross_val_score,KFold\n",
    "from sklearn.preprocessing import StandardScaler  \n",
    "from sklearn.metrics import accuracy_score\n",
    "from sklearn.neighbors import KNeighborsClassifier\n",
    "from sklearn.discriminant_analysis import LinearDiscriminantAnalysis\n",
    "from sklearn.linear_model import LogisticRegression\n",
    "from sklearn.svm import SVC\n",
    "from sklearn.naive_bayes import GaussianNB\n",
    "from sklearn.tree import DecisionTreeClassifier\n",
    "from sklearn.ensemble import RandomForestClassifier,GradientBoostingClassifier,VotingClassifier,BaggingClassifier\n",
    "\n",
    "from sklearn.metrics import classification_report\n",
    "from sklearn.impute import SimpleImputer"
   ]
  },
  {
   "cell_type": "code",
   "execution_count": 48,
   "id": "a5BHlC3Ew02b",
   "metadata": {
    "id": "a5BHlC3Ew02b"
   },
   "outputs": [],
   "source": [
    "client = unboxapi.UnboxClient(\"867d5a09-b923-4d99-8287-1ad97bb42105\")"
   ]
  },
  {
   "cell_type": "markdown",
   "id": "d455bf22",
   "metadata": {
    "id": "d455bf22"
   },
   "source": [
    "## 1. Loading the dataset"
   ]
  },
  {
   "cell_type": "markdown",
   "id": "ba3946d1",
   "metadata": {
    "id": "ba3946d1"
   },
   "source": [
    "First, we load the dataset and separate the features (which will be the model's inputs) from the labels (which will be the model's trained output)"
   ]
  },
  {
   "cell_type": "code",
   "execution_count": 49,
   "id": "4d1a59c5",
   "metadata": {},
   "outputs": [],
   "source": [
    "df = pd.read_csv(\"quick2.csv\")"
   ]
  },
  {
   "cell_type": "code",
   "execution_count": 50,
   "id": "f621ce57",
   "metadata": {},
   "outputs": [],
   "source": [
    "categorical_features = [\n",
    "    'region_emisor'\n",
    "]"
   ]
  },
  {
   "cell_type": "code",
   "execution_count": 51,
   "id": "e4e602b0",
   "metadata": {},
   "outputs": [],
   "source": [
    "feature_names = [x for x in df.columns.values.tolist() if x != 'y']"
   ]
  },
  {
   "cell_type": "code",
   "execution_count": 52,
   "id": "953d6995",
   "metadata": {},
   "outputs": [],
   "source": [
    "def get_categorical_map(df):\n",
    "    categorical_map = {}\n",
    "    for col in categorical_features:\n",
    "        uniques = sorted([str(c) for c in df.where(pd.notnull(df), None)[col].unique()])\n",
    "        if 'None' in uniques:\n",
    "            none_index = uniques.index('None')\n",
    "            uniques[none_index] = None\n",
    "        categorical_map[col] = list(uniques)\n",
    "    return categorical_map"
   ]
  },
  {
   "cell_type": "code",
   "execution_count": 53,
   "id": "3baefaa8",
   "metadata": {},
   "outputs": [],
   "source": [
    "categorical_map = get_categorical_map(df)"
   ]
  },
  {
   "cell_type": "markdown",
   "id": "c5fc9e22",
   "metadata": {},
   "source": [
    "## 2. Building Model"
   ]
  },
  {
   "cell_type": "code",
   "execution_count": 54,
   "id": "252ad618",
   "metadata": {},
   "outputs": [],
   "source": [
    "def data_encode_one_hot(df, encoders):\n",
    "    \"\"\" Encodes categorical features using one-hot encoding. \"\"\"\n",
    "    df = df.copy(True)\n",
    "    df.reset_index(drop=True, inplace=True) # Causes NaNs otherwise\n",
    "    for feature, enc in encoders.items():\n",
    "        enc_df = pd.DataFrame(enc.transform(df[[feature]]).toarray(), columns=enc.get_feature_names([feature]))\n",
    "        df = df.join(enc_df)\n",
    "        df = df.drop(columns=feature)\n",
    "    return df"
   ]
  },
  {
   "cell_type": "code",
   "execution_count": 55,
   "id": "9540faee",
   "metadata": {},
   "outputs": [],
   "source": [
    "def create_encoder_dict(df, categorical_feature_names):\n",
    "    \"\"\" Creates encoders for each of the categorical features. \n",
    "        The predict function will need these encoders. \n",
    "    \"\"\"\n",
    "    from sklearn.preprocessing import OneHotEncoder\n",
    "    encoders = {}\n",
    "    for feature in categorical_feature_names:\n",
    "        enc = OneHotEncoder(handle_unknown='ignore')\n",
    "        enc.fit(df[[feature]])\n",
    "        encoders[feature] = enc\n",
    "    return encoders"
   ]
  },
  {
   "cell_type": "code",
   "execution_count": 56,
   "id": "126bee66",
   "metadata": {},
   "outputs": [],
   "source": [
    "features_to_use = [\n",
    " 'score',\n",
    " 'amount',\n",
    " 'liquidBPC',\n",
    " 'ranking',\n",
    " 'region_emisor',\n",
    " 'ventas_promedio_12',\n",
    " 'ventas_promedio_6',\n",
    " 'ventas_promedio_3',\n",
    " 'total_amount_60',\n",
    " 'total_amount_30',\n",
    " 'total_amount_90',\n",
    " 'total_amount_15'\n",
    "                     ]"
   ]
  },
  {
   "cell_type": "code",
   "execution_count": 57,
   "id": "532f2591",
   "metadata": {},
   "outputs": [],
   "source": [
    "X = df[features_to_use]\n",
    "y = df['y']"
   ]
  },
  {
   "cell_type": "code",
   "execution_count": 58,
   "id": "0a587bba",
   "metadata": {},
   "outputs": [
    {
     "data": {
      "text/html": [
       "<div>\n",
       "<style scoped>\n",
       "    .dataframe tbody tr th:only-of-type {\n",
       "        vertical-align: middle;\n",
       "    }\n",
       "\n",
       "    .dataframe tbody tr th {\n",
       "        vertical-align: top;\n",
       "    }\n",
       "\n",
       "    .dataframe thead th {\n",
       "        text-align: right;\n",
       "    }\n",
       "</style>\n",
       "<table border=\"1\" class=\"dataframe\">\n",
       "  <thead>\n",
       "    <tr style=\"text-align: right;\">\n",
       "      <th></th>\n",
       "      <th>score</th>\n",
       "      <th>amount</th>\n",
       "      <th>liquidBPC</th>\n",
       "      <th>ranking</th>\n",
       "      <th>ventas_promedio_12</th>\n",
       "      <th>ventas_promedio_6</th>\n",
       "      <th>ventas_promedio_3</th>\n",
       "      <th>total_amount_60</th>\n",
       "      <th>total_amount_30</th>\n",
       "      <th>total_amount_90</th>\n",
       "      <th>...</th>\n",
       "      <th>region_emisor_REGION DE TARAPACA</th>\n",
       "      <th>region_emisor_REGION DE ÑUBLE</th>\n",
       "      <th>region_emisor_REGION DEL BIO BIO</th>\n",
       "      <th>region_emisor_REGION DEL LIBERTADOR GENERAL BERNARDO O'HIGGINS</th>\n",
       "      <th>region_emisor_REGION DEL MAULE</th>\n",
       "      <th>region_emisor_REGION LOS LAGOS</th>\n",
       "      <th>region_emisor_REGION METROPOLITANA</th>\n",
       "      <th>region_emisor_REGION VALPARAISO</th>\n",
       "      <th>region_emisor_Sin Información</th>\n",
       "      <th>region_emisor_nan</th>\n",
       "    </tr>\n",
       "  </thead>\n",
       "  <tbody>\n",
       "    <tr>\n",
       "      <th>0</th>\n",
       "      <td>417.0</td>\n",
       "      <td>25983840.0</td>\n",
       "      <td>0.0</td>\n",
       "      <td>NaN</td>\n",
       "      <td>4.583395e+08</td>\n",
       "      <td>3.814219e+08</td>\n",
       "      <td>3.834096e+08</td>\n",
       "      <td>5.297243e+08</td>\n",
       "      <td>3.055204e+08</td>\n",
       "      <td>8.729310e+08</td>\n",
       "      <td>...</td>\n",
       "      <td>0.0</td>\n",
       "      <td>0.0</td>\n",
       "      <td>0.0</td>\n",
       "      <td>0.0</td>\n",
       "      <td>0.0</td>\n",
       "      <td>0.0</td>\n",
       "      <td>1.0</td>\n",
       "      <td>0.0</td>\n",
       "      <td>0.0</td>\n",
       "      <td>0.0</td>\n",
       "    </tr>\n",
       "    <tr>\n",
       "      <th>1</th>\n",
       "      <td>581.0</td>\n",
       "      <td>1419518.0</td>\n",
       "      <td>0.0</td>\n",
       "      <td>24519.0</td>\n",
       "      <td>6.740295e+08</td>\n",
       "      <td>6.464448e+08</td>\n",
       "      <td>7.091587e+08</td>\n",
       "      <td>2.708540e+08</td>\n",
       "      <td>7.767852e+07</td>\n",
       "      <td>6.288013e+08</td>\n",
       "      <td>...</td>\n",
       "      <td>0.0</td>\n",
       "      <td>0.0</td>\n",
       "      <td>0.0</td>\n",
       "      <td>0.0</td>\n",
       "      <td>0.0</td>\n",
       "      <td>0.0</td>\n",
       "      <td>1.0</td>\n",
       "      <td>0.0</td>\n",
       "      <td>0.0</td>\n",
       "      <td>0.0</td>\n",
       "    </tr>\n",
       "    <tr>\n",
       "      <th>2</th>\n",
       "      <td>761.0</td>\n",
       "      <td>9210600.0</td>\n",
       "      <td>0.0</td>\n",
       "      <td>517.0</td>\n",
       "      <td>4.192225e+08</td>\n",
       "      <td>4.192225e+08</td>\n",
       "      <td>4.192225e+08</td>\n",
       "      <td>1.598318e+08</td>\n",
       "      <td>-4.445598e+07</td>\n",
       "      <td>1.411578e+08</td>\n",
       "      <td>...</td>\n",
       "      <td>0.0</td>\n",
       "      <td>0.0</td>\n",
       "      <td>0.0</td>\n",
       "      <td>0.0</td>\n",
       "      <td>1.0</td>\n",
       "      <td>0.0</td>\n",
       "      <td>0.0</td>\n",
       "      <td>0.0</td>\n",
       "      <td>0.0</td>\n",
       "      <td>0.0</td>\n",
       "    </tr>\n",
       "    <tr>\n",
       "      <th>3</th>\n",
       "      <td>437.0</td>\n",
       "      <td>61807.0</td>\n",
       "      <td>0.0</td>\n",
       "      <td>41602.0</td>\n",
       "      <td>4.686007e+09</td>\n",
       "      <td>4.686007e+09</td>\n",
       "      <td>4.686007e+09</td>\n",
       "      <td>6.454345e+09</td>\n",
       "      <td>3.636652e+09</td>\n",
       "      <td>9.278563e+09</td>\n",
       "      <td>...</td>\n",
       "      <td>0.0</td>\n",
       "      <td>0.0</td>\n",
       "      <td>0.0</td>\n",
       "      <td>0.0</td>\n",
       "      <td>0.0</td>\n",
       "      <td>0.0</td>\n",
       "      <td>1.0</td>\n",
       "      <td>0.0</td>\n",
       "      <td>0.0</td>\n",
       "      <td>0.0</td>\n",
       "    </tr>\n",
       "    <tr>\n",
       "      <th>4</th>\n",
       "      <td>711.0</td>\n",
       "      <td>393176.0</td>\n",
       "      <td>1.0</td>\n",
       "      <td>89.0</td>\n",
       "      <td>1.327916e+07</td>\n",
       "      <td>1.273301e+07</td>\n",
       "      <td>1.483080e+07</td>\n",
       "      <td>2.254847e+07</td>\n",
       "      <td>1.146816e+07</td>\n",
       "      <td>3.432226e+07</td>\n",
       "      <td>...</td>\n",
       "      <td>0.0</td>\n",
       "      <td>0.0</td>\n",
       "      <td>0.0</td>\n",
       "      <td>1.0</td>\n",
       "      <td>0.0</td>\n",
       "      <td>0.0</td>\n",
       "      <td>0.0</td>\n",
       "      <td>0.0</td>\n",
       "      <td>0.0</td>\n",
       "      <td>0.0</td>\n",
       "    </tr>\n",
       "    <tr>\n",
       "      <th>...</th>\n",
       "      <td>...</td>\n",
       "      <td>...</td>\n",
       "      <td>...</td>\n",
       "      <td>...</td>\n",
       "      <td>...</td>\n",
       "      <td>...</td>\n",
       "      <td>...</td>\n",
       "      <td>...</td>\n",
       "      <td>...</td>\n",
       "      <td>...</td>\n",
       "      <td>...</td>\n",
       "      <td>...</td>\n",
       "      <td>...</td>\n",
       "      <td>...</td>\n",
       "      <td>...</td>\n",
       "      <td>...</td>\n",
       "      <td>...</td>\n",
       "      <td>...</td>\n",
       "      <td>...</td>\n",
       "      <td>...</td>\n",
       "      <td>...</td>\n",
       "    </tr>\n",
       "    <tr>\n",
       "      <th>99995</th>\n",
       "      <td>198.0</td>\n",
       "      <td>308000.0</td>\n",
       "      <td>0.0</td>\n",
       "      <td>NaN</td>\n",
       "      <td>1.303656e+07</td>\n",
       "      <td>1.239564e+07</td>\n",
       "      <td>1.302847e+07</td>\n",
       "      <td>3.063703e+06</td>\n",
       "      <td>-2.421776e+06</td>\n",
       "      <td>7.677494e+06</td>\n",
       "      <td>...</td>\n",
       "      <td>0.0</td>\n",
       "      <td>0.0</td>\n",
       "      <td>0.0</td>\n",
       "      <td>0.0</td>\n",
       "      <td>0.0</td>\n",
       "      <td>0.0</td>\n",
       "      <td>1.0</td>\n",
       "      <td>0.0</td>\n",
       "      <td>0.0</td>\n",
       "      <td>0.0</td>\n",
       "    </tr>\n",
       "    <tr>\n",
       "      <th>99996</th>\n",
       "      <td>290.0</td>\n",
       "      <td>41978.0</td>\n",
       "      <td>0.0</td>\n",
       "      <td>NaN</td>\n",
       "      <td>3.090435e+09</td>\n",
       "      <td>3.090435e+09</td>\n",
       "      <td>3.038506e+09</td>\n",
       "      <td>5.827221e+09</td>\n",
       "      <td>2.935532e+09</td>\n",
       "      <td>8.306038e+09</td>\n",
       "      <td>...</td>\n",
       "      <td>0.0</td>\n",
       "      <td>0.0</td>\n",
       "      <td>0.0</td>\n",
       "      <td>0.0</td>\n",
       "      <td>0.0</td>\n",
       "      <td>0.0</td>\n",
       "      <td>1.0</td>\n",
       "      <td>0.0</td>\n",
       "      <td>0.0</td>\n",
       "      <td>0.0</td>\n",
       "    </tr>\n",
       "    <tr>\n",
       "      <th>99997</th>\n",
       "      <td>724.0</td>\n",
       "      <td>3498600.0</td>\n",
       "      <td>1.0</td>\n",
       "      <td>78.0</td>\n",
       "      <td>5.394490e+07</td>\n",
       "      <td>6.303408e+07</td>\n",
       "      <td>6.702118e+07</td>\n",
       "      <td>2.705995e+07</td>\n",
       "      <td>-1.089905e+07</td>\n",
       "      <td>2.011945e+07</td>\n",
       "      <td>...</td>\n",
       "      <td>0.0</td>\n",
       "      <td>0.0</td>\n",
       "      <td>0.0</td>\n",
       "      <td>1.0</td>\n",
       "      <td>0.0</td>\n",
       "      <td>0.0</td>\n",
       "      <td>0.0</td>\n",
       "      <td>0.0</td>\n",
       "      <td>0.0</td>\n",
       "      <td>0.0</td>\n",
       "    </tr>\n",
       "    <tr>\n",
       "      <th>99998</th>\n",
       "      <td>497.0</td>\n",
       "      <td>387357.0</td>\n",
       "      <td>0.0</td>\n",
       "      <td>8557.0</td>\n",
       "      <td>3.897325e+08</td>\n",
       "      <td>4.761054e+08</td>\n",
       "      <td>5.217737e+08</td>\n",
       "      <td>3.790930e+07</td>\n",
       "      <td>-4.679972e+07</td>\n",
       "      <td>-6.260750e+07</td>\n",
       "      <td>...</td>\n",
       "      <td>0.0</td>\n",
       "      <td>0.0</td>\n",
       "      <td>0.0</td>\n",
       "      <td>0.0</td>\n",
       "      <td>0.0</td>\n",
       "      <td>0.0</td>\n",
       "      <td>1.0</td>\n",
       "      <td>0.0</td>\n",
       "      <td>0.0</td>\n",
       "      <td>0.0</td>\n",
       "    </tr>\n",
       "    <tr>\n",
       "      <th>99999</th>\n",
       "      <td>783.0</td>\n",
       "      <td>101095926.0</td>\n",
       "      <td>1.0</td>\n",
       "      <td>108.0</td>\n",
       "      <td>5.821002e+09</td>\n",
       "      <td>6.325800e+09</td>\n",
       "      <td>6.253371e+09</td>\n",
       "      <td>2.340629e+09</td>\n",
       "      <td>1.317777e+09</td>\n",
       "      <td>7.022074e+09</td>\n",
       "      <td>...</td>\n",
       "      <td>0.0</td>\n",
       "      <td>0.0</td>\n",
       "      <td>0.0</td>\n",
       "      <td>0.0</td>\n",
       "      <td>0.0</td>\n",
       "      <td>0.0</td>\n",
       "      <td>1.0</td>\n",
       "      <td>0.0</td>\n",
       "      <td>0.0</td>\n",
       "      <td>0.0</td>\n",
       "    </tr>\n",
       "  </tbody>\n",
       "</table>\n",
       "<p>100000 rows × 29 columns</p>\n",
       "</div>"
      ],
      "text/plain": [
       "       score       amount  liquidBPC  ranking  ventas_promedio_12  \\\n",
       "0      417.0   25983840.0        0.0      NaN        4.583395e+08   \n",
       "1      581.0    1419518.0        0.0  24519.0        6.740295e+08   \n",
       "2      761.0    9210600.0        0.0    517.0        4.192225e+08   \n",
       "3      437.0      61807.0        0.0  41602.0        4.686007e+09   \n",
       "4      711.0     393176.0        1.0     89.0        1.327916e+07   \n",
       "...      ...          ...        ...      ...                 ...   \n",
       "99995  198.0     308000.0        0.0      NaN        1.303656e+07   \n",
       "99996  290.0      41978.0        0.0      NaN        3.090435e+09   \n",
       "99997  724.0    3498600.0        1.0     78.0        5.394490e+07   \n",
       "99998  497.0     387357.0        0.0   8557.0        3.897325e+08   \n",
       "99999  783.0  101095926.0        1.0    108.0        5.821002e+09   \n",
       "\n",
       "       ventas_promedio_6  ventas_promedio_3  total_amount_60  total_amount_30  \\\n",
       "0           3.814219e+08       3.834096e+08     5.297243e+08     3.055204e+08   \n",
       "1           6.464448e+08       7.091587e+08     2.708540e+08     7.767852e+07   \n",
       "2           4.192225e+08       4.192225e+08     1.598318e+08    -4.445598e+07   \n",
       "3           4.686007e+09       4.686007e+09     6.454345e+09     3.636652e+09   \n",
       "4           1.273301e+07       1.483080e+07     2.254847e+07     1.146816e+07   \n",
       "...                  ...                ...              ...              ...   \n",
       "99995       1.239564e+07       1.302847e+07     3.063703e+06    -2.421776e+06   \n",
       "99996       3.090435e+09       3.038506e+09     5.827221e+09     2.935532e+09   \n",
       "99997       6.303408e+07       6.702118e+07     2.705995e+07    -1.089905e+07   \n",
       "99998       4.761054e+08       5.217737e+08     3.790930e+07    -4.679972e+07   \n",
       "99999       6.325800e+09       6.253371e+09     2.340629e+09     1.317777e+09   \n",
       "\n",
       "       total_amount_90  ...  region_emisor_REGION DE TARAPACA  \\\n",
       "0         8.729310e+08  ...                               0.0   \n",
       "1         6.288013e+08  ...                               0.0   \n",
       "2         1.411578e+08  ...                               0.0   \n",
       "3         9.278563e+09  ...                               0.0   \n",
       "4         3.432226e+07  ...                               0.0   \n",
       "...                ...  ...                               ...   \n",
       "99995     7.677494e+06  ...                               0.0   \n",
       "99996     8.306038e+09  ...                               0.0   \n",
       "99997     2.011945e+07  ...                               0.0   \n",
       "99998    -6.260750e+07  ...                               0.0   \n",
       "99999     7.022074e+09  ...                               0.0   \n",
       "\n",
       "       region_emisor_REGION DE ÑUBLE  region_emisor_REGION DEL BIO BIO  \\\n",
       "0                                0.0                               0.0   \n",
       "1                                0.0                               0.0   \n",
       "2                                0.0                               0.0   \n",
       "3                                0.0                               0.0   \n",
       "4                                0.0                               0.0   \n",
       "...                              ...                               ...   \n",
       "99995                            0.0                               0.0   \n",
       "99996                            0.0                               0.0   \n",
       "99997                            0.0                               0.0   \n",
       "99998                            0.0                               0.0   \n",
       "99999                            0.0                               0.0   \n",
       "\n",
       "       region_emisor_REGION DEL LIBERTADOR GENERAL BERNARDO O'HIGGINS  \\\n",
       "0                                                    0.0                \n",
       "1                                                    0.0                \n",
       "2                                                    0.0                \n",
       "3                                                    0.0                \n",
       "4                                                    1.0                \n",
       "...                                                  ...                \n",
       "99995                                                0.0                \n",
       "99996                                                0.0                \n",
       "99997                                                1.0                \n",
       "99998                                                0.0                \n",
       "99999                                                0.0                \n",
       "\n",
       "       region_emisor_REGION DEL MAULE  region_emisor_REGION LOS LAGOS  \\\n",
       "0                                 0.0                             0.0   \n",
       "1                                 0.0                             0.0   \n",
       "2                                 1.0                             0.0   \n",
       "3                                 0.0                             0.0   \n",
       "4                                 0.0                             0.0   \n",
       "...                               ...                             ...   \n",
       "99995                             0.0                             0.0   \n",
       "99996                             0.0                             0.0   \n",
       "99997                             0.0                             0.0   \n",
       "99998                             0.0                             0.0   \n",
       "99999                             0.0                             0.0   \n",
       "\n",
       "       region_emisor_REGION METROPOLITANA  region_emisor_REGION VALPARAISO  \\\n",
       "0                                     1.0                              0.0   \n",
       "1                                     1.0                              0.0   \n",
       "2                                     0.0                              0.0   \n",
       "3                                     1.0                              0.0   \n",
       "4                                     0.0                              0.0   \n",
       "...                                   ...                              ...   \n",
       "99995                                 1.0                              0.0   \n",
       "99996                                 1.0                              0.0   \n",
       "99997                                 0.0                              0.0   \n",
       "99998                                 1.0                              0.0   \n",
       "99999                                 1.0                              0.0   \n",
       "\n",
       "       region_emisor_Sin Información  region_emisor_nan  \n",
       "0                                0.0                0.0  \n",
       "1                                0.0                0.0  \n",
       "2                                0.0                0.0  \n",
       "3                                0.0                0.0  \n",
       "4                                0.0                0.0  \n",
       "...                              ...                ...  \n",
       "99995                            0.0                0.0  \n",
       "99996                            0.0                0.0  \n",
       "99997                            0.0                0.0  \n",
       "99998                            0.0                0.0  \n",
       "99999                            0.0                0.0  \n",
       "\n",
       "[100000 rows x 29 columns]"
      ]
     },
     "execution_count": 58,
     "metadata": {},
     "output_type": "execute_result"
    }
   ],
   "source": [
    "encoders = create_encoder_dict(X, categorical_features)\n",
    "\n",
    "X_enc_one_hot = data_encode_one_hot(X, encoders)\n",
    "X_enc_one_hot"
   ]
  },
  {
   "cell_type": "code",
   "execution_count": 59,
   "id": "9ca02a04",
   "metadata": {},
   "outputs": [],
   "source": [
    "x_train, x_val, y_train, y_val = train_test_split(X, y, test_size = 0.2, random_state = 0)\n",
    "x_train_one_hot = data_encode_one_hot(x_train, encoders)\n",
    "x_val_one_hot = data_encode_one_hot(x_val, encoders)"
   ]
  },
  {
   "cell_type": "code",
   "execution_count": 60,
   "id": "a3f069f6",
   "metadata": {},
   "outputs": [],
   "source": [
    "imp = SimpleImputer(missing_values=np.nan, strategy='mean')\n",
    "imp = imp.fit(x_train_one_hot)"
   ]
  },
  {
   "cell_type": "code",
   "execution_count": 61,
   "id": "32127206",
   "metadata": {},
   "outputs": [],
   "source": [
    "x_train_imp = imp.transform(x_train_one_hot)\n",
    "x_val_imp = imp.transform(x_val_one_hot)"
   ]
  },
  {
   "cell_type": "markdown",
   "id": "98ce2fc5",
   "metadata": {},
   "source": [
    "### Train"
   ]
  },
  {
   "cell_type": "code",
   "execution_count": 62,
   "id": "02516992",
   "metadata": {},
   "outputs": [
    {
     "data": {
      "text/plain": [
       "LogisticRegression(random_state=1300)"
      ]
     },
     "execution_count": 62,
     "metadata": {},
     "output_type": "execute_result"
    }
   ],
   "source": [
    "sklearn_model = LogisticRegression(random_state=1300)\n",
    "sklearn_model.fit(x_train_imp, y_train)"
   ]
  },
  {
   "cell_type": "code",
   "execution_count": 63,
   "id": "1f87e2dd",
   "metadata": {},
   "outputs": [
    {
     "name": "stdout",
     "output_type": "stream",
     "text": [
      "              precision    recall  f1-score   support\n",
      "\n",
      "           0       0.63      0.61      0.62     10117\n",
      "           1       0.61      0.63      0.62      9883\n",
      "\n",
      "    accuracy                           0.62     20000\n",
      "   macro avg       0.62      0.62      0.62     20000\n",
      "weighted avg       0.62      0.62      0.62     20000\n",
      "\n"
     ]
    }
   ],
   "source": [
    "print(classification_report(y_val, sklearn_model.predict(x_val_imp)))"
   ]
  },
  {
   "cell_type": "code",
   "execution_count": 64,
   "id": "eb5b7b91",
   "metadata": {},
   "outputs": [],
   "source": [
    "class_names = [\"Yes\", \"No\"]\n",
    "feature_names = X.columns.values.tolist()"
   ]
  },
  {
   "cell_type": "markdown",
   "id": "12fbd6f0",
   "metadata": {},
   "source": [
    "### Predict"
   ]
  },
  {
   "cell_type": "code",
   "execution_count": 65,
   "id": "ebd4fe58",
   "metadata": {},
   "outputs": [],
   "source": [
    "def predict_proba(model, input_features: np.ndarray, col_names, one_hot_encoder, encoders, imp):\n",
    "    \"\"\"Convert the raw input_features into one-hot encoded features\n",
    "    using our one hot encoder and each feature's encoder. \"\"\"\n",
    "    df = pd.DataFrame(input_features, columns=col_names)\n",
    "    encoded_df = one_hot_encoder(df, encoders)\n",
    "    df_imp = imp.transform(encoded_df)\n",
    "    return model.predict_proba(df_imp)"
   ]
  },
  {
   "cell_type": "code",
   "execution_count": 66,
   "id": "82ac1e82",
   "metadata": {},
   "outputs": [],
   "source": [
    "examples_val = x_val[:10].where(pd.notnull(x_val), None)[feature_names].to_numpy()"
   ]
  },
  {
   "cell_type": "code",
   "execution_count": 67,
   "id": "d9a52b8d",
   "metadata": {},
   "outputs": [],
   "source": [
    "examples_train = x_train[:10].where(pd.notnull(x_val), None)[feature_names].to_numpy()"
   ]
  },
  {
   "cell_type": "code",
   "execution_count": 68,
   "id": "8fbd1c9d",
   "metadata": {},
   "outputs": [
    {
     "data": {
      "text/plain": [
       "array([[0.49677758, 0.50322242],\n",
       "       [0.88889159, 0.11110841],\n",
       "       [0.49303997, 0.50696003],\n",
       "       [0.2060205 , 0.7939795 ],\n",
       "       [0.49888171, 0.50111829],\n",
       "       [0.36366563, 0.63633437],\n",
       "       [0.50217093, 0.49782907],\n",
       "       [0.46580328, 0.53419672],\n",
       "       [0.5265824 , 0.4734176 ],\n",
       "       [0.49793375, 0.50206625]])"
      ]
     },
     "execution_count": 68,
     "metadata": {},
     "output_type": "execute_result"
    }
   ],
   "source": [
    "predict_proba(sklearn_model, examples_val, feature_names, data_encode_one_hot, encoders, imp)"
   ]
  },
  {
   "cell_type": "code",
   "execution_count": 69,
   "id": "532598d8",
   "metadata": {},
   "outputs": [
    {
     "data": {
      "text/plain": [
       "array([[0.4868948, 0.5131052],\n",
       "       [0.4868948, 0.5131052],\n",
       "       [0.4868948, 0.5131052],\n",
       "       [0.4868948, 0.5131052],\n",
       "       [0.4868948, 0.5131052],\n",
       "       [0.4868948, 0.5131052],\n",
       "       [0.4868948, 0.5131052],\n",
       "       [0.4868948, 0.5131052],\n",
       "       [0.4868948, 0.5131052],\n",
       "       [0.4868948, 0.5131052]])"
      ]
     },
     "execution_count": 69,
     "metadata": {},
     "output_type": "execute_result"
    }
   ],
   "source": [
    "predict_proba(sklearn_model, examples_train, feature_names, data_encode_one_hot, encoders, imp)"
   ]
  },
  {
   "cell_type": "code",
   "execution_count": 70,
   "id": "6c7871d4",
   "metadata": {},
   "outputs": [
    {
     "name": "stderr",
     "output_type": "stream",
     "text": [
      "/var/folders/7z/ps7y1mk93nx1n_vkvzb4_01h0000gn/T/ipykernel_86627/634219043.py:2: SettingWithCopyWarning: \n",
      "A value is trying to be set on a copy of a slice from a DataFrame.\n",
      "Try using .loc[row_indexer,col_indexer] = value instead\n",
      "\n",
      "See the caveats in the documentation: https://pandas.pydata.org/pandas-docs/stable/user_guide/indexing.html#returning-a-view-versus-a-copy\n",
      "  x_val['y'] = y_val.values\n",
      "/var/folders/7z/ps7y1mk93nx1n_vkvzb4_01h0000gn/T/ipykernel_86627/634219043.py:3: SettingWithCopyWarning: \n",
      "A value is trying to be set on a copy of a slice from a DataFrame.\n",
      "Try using .loc[row_indexer,col_indexer] = value instead\n",
      "\n",
      "See the caveats in the documentation: https://pandas.pydata.org/pandas-docs/stable/user_guide/indexing.html#returning-a-view-versus-a-copy\n",
      "  x_train['y'] = y_train.values\n"
     ]
    }
   ],
   "source": [
    "# Add the ground truths to the ordinal dataset for Unbox\n",
    "x_val['y'] = y_val.values\n",
    "x_train['y'] = y_train.values"
   ]
  },
  {
   "cell_type": "markdown",
   "id": "97d9545c",
   "metadata": {},
   "source": [
    "## 3. Add to Unbox"
   ]
  },
  {
   "cell_type": "code",
   "execution_count": 72,
   "id": "f8371908",
   "metadata": {},
   "outputs": [],
   "source": [
    "# sample = x_val.where(pd.notnull(x_val), None)"
   ]
  },
  {
   "cell_type": "code",
   "execution_count": 44,
   "id": "97080753",
   "metadata": {},
   "outputs": [
    {
     "data": {
      "text/plain": [
       "{'categoricalFeaturesMap': {},\n",
       " 'classNameCounts': None,\n",
       " 'classNames': ['Yes', 'No'],\n",
       " 'columnNames': None,\n",
       " 'columnSettings': None,\n",
       " 'dateCreated': '2022-05-16T00:21:59.459923Z',\n",
       " 'description': 'this is xepelin',\n",
       " 'featureNames': ['score',\n",
       "  'amount',\n",
       "  'liquidBPC',\n",
       "  'ranking',\n",
       "  'region_emisor',\n",
       "  'ventas_promedio_12',\n",
       "  'ventas_promedio_6',\n",
       "  'ventas_promedio_3',\n",
       "  'total_amount_60',\n",
       "  'total_amount_30',\n",
       "  'total_amount_90',\n",
       "  'total_amount_15'],\n",
       " 'id': 11,\n",
       " 'inProgressNotifications': ['dataset_11_save_dataset_rows'],\n",
       " 'labelColumnIndex': None,\n",
       " 'language': 'en',\n",
       " 'modelCount': 0,\n",
       " 'name': 'Xepelin Data Mini',\n",
       " 'projects': [],\n",
       " 'rowCount': 0,\n",
       " 'tagCount': 0,\n",
       " 'taskType': 'tabular-classification',\n",
       " 'version': 0}"
      ]
     },
     "execution_count": 44,
     "metadata": {},
     "output_type": "execute_result"
    }
   ],
   "source": [
    "dataset_metadata = client.add_dataframe(\n",
    "    df=x_val[:10],\n",
    "    class_names=['Yes', 'No'],\n",
    "    label_column_name='y',\n",
    "    name=\"Xepelin Data Mini\",\n",
    "    description='this is xepelin',\n",
    "    task_type=TaskType.TabularClassification,\n",
    "    feature_names=feature_names,\n",
    "    categorical_features_map=categorical_map,\n",
    ")\n",
    "dataset_metadata.to_dict()"
   ]
  },
  {
   "cell_type": "code",
   "execution_count": 74,
   "id": "2bdaaa17",
   "metadata": {},
   "outputs": [
    {
     "name": "stdout",
     "output_type": "stream",
     "text": [
      "Bundling model and artifacts...\n",
      "Uploading model to Unbox...\n"
     ]
    },
    {
     "data": {
      "text/plain": [
       "{'categoricalFeaturesMap': {},\n",
       " 'classNames': ['Yes', 'No'],\n",
       " 'datasetCount': 0,\n",
       " 'dateCreated': '2022-05-16T00:27:09.562349Z',\n",
       " 'description': 'this is my churn classification model',\n",
       " 'featureNames': ['score',\n",
       "  'amount',\n",
       "  'liquidBPC',\n",
       "  'ranking',\n",
       "  'region_emisor',\n",
       "  'ventas_promedio_12',\n",
       "  'ventas_promedio_6',\n",
       "  'ventas_promedio_3',\n",
       "  'total_amount_60',\n",
       "  'total_amount_30',\n",
       "  'total_amount_90',\n",
       "  'total_amount_15'],\n",
       " 'featureSettings': None,\n",
       " 'id': '9c91b49d-67ca-4a80-8d9e-bd717ccfd258',\n",
       " 'inProgressNotifications': ['model_9c91b49d-67ca-4a80-8d9e-bd717ccfd258_create_endpoint'],\n",
       " 'inferenceRunCount': 0,\n",
       " 'modelApi': None,\n",
       " 'name': 'Xep Classifier Fix',\n",
       " 'projects': [],\n",
       " 'runReportCount': 0,\n",
       " 'taskType': 'tabular-classification',\n",
       " 'type': 'sklearn'}"
      ]
     },
     "execution_count": 74,
     "metadata": {},
     "output_type": "execute_result"
    }
   ],
   "source": [
    "model_metadata = client.add_model(\n",
    "    function=predict_proba, \n",
    "    model=sklearn_model,\n",
    "    model_type=ModelType.sklearn,\n",
    "    task_type=TaskType.TabularClassification,\n",
    "    class_names=class_names,\n",
    "    name='Xep Classifier Fix',\n",
    "    description='this is my churn classification model',\n",
    "    feature_names=feature_names,\n",
    "    train_sample_df=x_train.sample(5000),\n",
    "    train_sample_label_column_name='y',\n",
    "    categorical_features_map=categorical_map,\n",
    "    col_names=feature_names,\n",
    "    one_hot_encoder=data_encode_one_hot,\n",
    "    encoders=encoders,\n",
    "    imp=imp\n",
    ")\n",
    "model_metadata.to_dict()"
   ]
  }
 ],
 "metadata": {
  "colab": {
   "collapsed_sections": [],
   "name": "auto1.ipynb",
   "provenance": []
  },
  "kernelspec": {
   "display_name": "Python 3 (ipykernel)",
   "language": "python",
   "name": "python3"
  },
  "language_info": {
   "codemirror_mode": {
    "name": "ipython",
    "version": 3
   },
   "file_extension": ".py",
   "mimetype": "text/x-python",
   "name": "python",
   "nbconvert_exporter": "python",
   "pygments_lexer": "ipython3",
   "version": "3.8.10"
  }
 },
 "nbformat": 4,
 "nbformat_minor": 5
}
