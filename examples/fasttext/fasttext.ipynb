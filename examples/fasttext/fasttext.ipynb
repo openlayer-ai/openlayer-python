{
 "cells": [
  {
   "cell_type": "markdown",
   "id": "c3d921f0",
   "metadata": {},
   "source": [
    "## Build model"
   ]
  },
  {
   "cell_type": "raw",
   "id": "39e6a24a",
   "metadata": {},
   "source": [
    "!curl https://dl.fbaipublicfiles.com/fasttext/data/cooking.stackexchange.tar.gz --output cooking.stackexchange.tar.gz && tar xvzf cooking.stackexchange.tar.gz\n",
    "!head -n 12404 cooking.stackexchange.txt > cooking.train\n",
    "!tail -n 3000 cooking.stackexchange.txt > cooking.valid"
   ]
  },
  {
   "cell_type": "code",
   "execution_count": 1,
   "id": "42de6fd6",
   "metadata": {},
   "outputs": [],
   "source": [
    "import fasttext\n",
    "import numpy as np"
   ]
  },
  {
   "cell_type": "code",
   "execution_count": 2,
   "id": "9f9ab20d",
   "metadata": {},
   "outputs": [
    {
     "name": "stderr",
     "output_type": "stream",
     "text": [
      "Read 0M words\n",
      "Number of words:  14543\n",
      "Number of labels: 735\n",
      "Progress: 100.0% words/sec/thread: 2027877 lr:  0.000000 avg.loss:  4.040552 ETA:   0h 0m 0s\n"
     ]
    }
   ],
   "source": [
    "model = fasttext.train_supervised(input=\"cooking.train\", lr=0.8, epoch=70, loss='hs')"
   ]
  },
  {
   "cell_type": "code",
   "execution_count": 3,
   "id": "2b1d9925",
   "metadata": {},
   "outputs": [
    {
     "data": {
      "text/plain": [
       "(3000, 0.5, 0.21623180049012541)"
      ]
     },
     "execution_count": 3,
     "metadata": {},
     "output_type": "execute_result"
    }
   ],
   "source": [
    "model.test(\"cooking.valid\")"
   ]
  },
  {
   "cell_type": "code",
   "execution_count": 4,
   "id": "9e60d9f3",
   "metadata": {},
   "outputs": [],
   "source": [
    "class_names = model.labels"
   ]
  },
  {
   "cell_type": "code",
   "execution_count": 5,
   "id": "ca7d13a9",
   "metadata": {},
   "outputs": [],
   "source": [
    "class_names = [s.replace(\"__label__\", \"\") for s in class_names]"
   ]
  },
  {
   "cell_type": "code",
   "execution_count": 6,
   "id": "ce3e3460",
   "metadata": {},
   "outputs": [],
   "source": [
    "k = len(class_names)\n",
    "idx_to_labels = {i:k for k, i in zip(class_names, range(k))}\n",
    "labels_to_idx = {k:i for k, i in zip(class_names, range(k))}"
   ]
  },
  {
   "cell_type": "code",
   "execution_count": 7,
   "id": "b5fc3910",
   "metadata": {},
   "outputs": [
    {
     "data": {
      "text/plain": [
       "(10, 735)"
      ]
     },
     "execution_count": 7,
     "metadata": {},
     "output_type": "execute_result"
    }
   ],
   "source": [
    "labels_to_idx['cake'], k"
   ]
  },
  {
   "cell_type": "code",
   "execution_count": 8,
   "id": "f0e802ac",
   "metadata": {},
   "outputs": [],
   "source": [
    "def get_predictions(model, text_list):\n",
    "    \n",
    "    predictions = model.predict(text_list, k=k)\n",
    "    x, y = predictions\n",
    "    \n",
    "    probabilities_full_list = []\n",
    "    for label_list, prob_list in zip(x, y):\n",
    "        label_prob_pair_dict = {}\n",
    "        for lbl, prob in zip(label_list, prob_list):\n",
    "            label_prob_pair_dict[lbl.replace(\"__label__\", \"\")] = prob\n",
    "        probabilities_list = []\n",
    "        for cls in class_names:\n",
    "            if cls in label_prob_pair_dict:\n",
    "                p = label_prob_pair_dict[cls]\n",
    "                probabilities_list.append(p)\n",
    "            else:\n",
    "                probabilities_list.append(0.0)\n",
    "        probabilities_full_list.append(probabilities_list)\n",
    "        \n",
    "    return np.array(probabilities_full_list)"
   ]
  },
  {
   "cell_type": "code",
   "execution_count": 9,
   "id": "34eb8d30",
   "metadata": {},
   "outputs": [
    {
     "name": "stdout",
     "output_type": "stream",
     "text": [
      "CPU times: user 1.22 s, sys: 53.5 ms, total: 1.27 s\n",
      "Wall time: 1.27 s\n"
     ]
    }
   ],
   "source": [
    "%%time\n",
    "results = get_predictions(model, [\"cake\"]*1000*10)"
   ]
  },
  {
   "cell_type": "markdown",
   "id": "3f0570bc",
   "metadata": {},
   "source": [
    "# Unbox"
   ]
  },
  {
   "cell_type": "code",
   "execution_count": null,
   "id": "c16e4344",
   "metadata": {},
   "outputs": [],
   "source": [
    "import unboxapi\n",
    "# client = unboxapi.UnboxClient(\"YOUR_API_KEY_HERE\")\n",
    "unboxapi.DEPLOYMENT = unboxapi.DeploymentType.AWS\n",
    "unboxapi.api.UNBOX_ENDPOINT = \"http://0.0.0.0:8080/api\" # Use this for local testing\n",
    "client = unboxapi.UnboxClient(\"481bb19f-c58c-415b-a957-36cbfe17ec85\")"
   ]
  },
  {
   "cell_type": "markdown",
   "id": "ed6ae533",
   "metadata": {},
   "source": [
    "# add model"
   ]
  },
  {
   "cell_type": "code",
   "execution_count": null,
   "id": "bb09ca2f",
   "metadata": {},
   "outputs": [],
   "source": [
    "from unboxapi.models import ModelType\n",
    "\n",
    "model = client.add_model(\n",
    "    function=get_predictions, \n",
    "    model=model,\n",
    "    model_type=ModelType.fasttext,\n",
    "    class_names=class_names,\n",
    "    name='Cooking Fast Text',\n",
    "    description='this is my fasttext model'\n",
    ")\n",
    "model.to_dict()"
   ]
  },
  {
   "cell_type": "markdown",
   "id": "7ef6777e",
   "metadata": {},
   "source": [
    "# add dataset"
   ]
  },
  {
   "cell_type": "code",
   "execution_count": null,
   "id": "788bed60",
   "metadata": {},
   "outputs": [],
   "source": [
    "small_df.to_csv(\"cooking_validation.csv\", index=False)"
   ]
  },
  {
   "cell_type": "code",
   "execution_count": null,
   "id": "051de3b5",
   "metadata": {},
   "outputs": [],
   "source": [
    "sm_df = pd.read_csv(\"cooking_validation.csv\")"
   ]
  },
  {
   "cell_type": "code",
   "execution_count": null,
   "id": "53e5a670",
   "metadata": {},
   "outputs": [],
   "source": [
    "dataset = client.add_dataframe(\n",
    "    df=small_df,\n",
    "    class_names=class_names,\n",
    "    label_column_name='label',\n",
    "    text_column_name='text',\n",
    "    name=\"Small Cooking Dataset\",\n",
    "    description='this is my fasttext validation dataset'\n",
    ")\n",
    "dataset.to_dict()"
   ]
  }
 ],
 "metadata": {
  "kernelspec": {
   "display_name": "Python 3 (ipykernel)",
   "language": "python",
   "name": "python3"
  },
  "language_info": {
   "codemirror_mode": {
    "name": "ipython",
    "version": 3
   },
   "file_extension": ".py",
   "mimetype": "text/x-python",
   "name": "python",
   "nbconvert_exporter": "python",
   "pygments_lexer": "ipython3",
   "version": "3.8.10"
  }
 },
 "nbformat": 4,
 "nbformat_minor": 5
}
