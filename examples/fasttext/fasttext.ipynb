{
 "cells": [
  {
   "cell_type": "markdown",
   "id": "c3d921f0",
   "metadata": {},
   "source": [
    "## Build model"
   ]
  },
  {
   "cell_type": "code",
   "execution_count": null,
   "id": "mineral-madison",
   "metadata": {},
   "outputs": [],
   "source": [
    "%%bash\n",
    "\n",
    "if [ ! -d ./data ]; then\n",
    "    mkdir ./data\n",
    "fi\n",
    "\n",
    "curl https://dl.fbaipublicfiles.com/fasttext/data/cooking.stackexchange.tar.gz --output data/cooking.stackexchange.tar.gz && tar xvzf data/cooking.stackexchange.tar.gz -C data\n",
    "head -n 12404 data/cooking.stackexchange.txt > data/cooking.train\n",
    "tail -n 3000 data/cooking.stackexchange.txt > data/cooking.valid"
   ]
  },
  {
   "cell_type": "code",
   "execution_count": null,
   "id": "42de6fd6",
   "metadata": {},
   "outputs": [],
   "source": [
    "import fasttext\n",
    "import numpy as np"
   ]
  },
  {
   "cell_type": "code",
   "execution_count": null,
   "id": "9f9ab20d",
   "metadata": {},
   "outputs": [],
   "source": [
    "model = fasttext.train_supervised(input=\"./data/cooking.train\", lr=0.8, epoch=70, loss='hs')"
   ]
  },
  {
   "cell_type": "code",
   "execution_count": null,
   "id": "2b1d9925",
   "metadata": {},
   "outputs": [],
   "source": [
    "model.test(\"./data/cooking.valid\")"
   ]
  },
  {
   "cell_type": "code",
   "execution_count": null,
   "id": "9e60d9f3",
   "metadata": {},
   "outputs": [],
   "source": [
    "class_names = model.labels"
   ]
  },
  {
   "cell_type": "code",
   "execution_count": null,
   "id": "ca7d13a9",
   "metadata": {},
   "outputs": [],
   "source": [
    "class_names = [s.replace(\"__label__\", \"\") for s in class_names]"
   ]
  },
  {
   "cell_type": "code",
   "execution_count": null,
   "id": "ce3e3460",
   "metadata": {},
   "outputs": [],
   "source": [
    "k = len(class_names)\n",
    "idx_to_labels = {i:k for k, i in zip(class_names, range(k))}\n",
    "labels_to_idx = {k:i for k, i in zip(class_names, range(k))}"
   ]
  },
  {
   "cell_type": "code",
   "execution_count": null,
   "id": "b5fc3910",
   "metadata": {},
   "outputs": [],
   "source": [
    "labels_to_idx['cake'], k"
   ]
  },
  {
   "cell_type": "code",
   "execution_count": null,
   "id": "f0e802ac",
   "metadata": {},
   "outputs": [],
   "source": [
    "def get_predictions(model, text_list):\n",
    "    \n",
    "    predictions = model.predict(text_list, k=k)\n",
    "    x, y = predictions\n",
    "    \n",
    "    probabilities_full_list = []\n",
    "    for label_list, prob_list in zip(x, y):\n",
    "        label_prob_pair_dict = {}\n",
    "        for lbl, prob in zip(label_list, prob_list):\n",
    "            label_prob_pair_dict[lbl.replace(\"__label__\", \"\")] = prob\n",
    "        probabilities_list = []\n",
    "        for cls in class_names:\n",
    "            if cls in label_prob_pair_dict:\n",
    "                p = label_prob_pair_dict[cls]\n",
    "                probabilities_list.append(p)\n",
    "            else:\n",
    "                probabilities_list.append(0.0)\n",
    "        probabilities_full_list.append(probabilities_list)\n",
    "        \n",
    "    return np.array(probabilities_full_list)"
   ]
  },
  {
   "cell_type": "code",
   "execution_count": null,
   "id": "34eb8d30",
   "metadata": {},
   "outputs": [],
   "source": [
    "%%time\n",
    "results = get_predictions(model, [\"cake\"]*1000*10)"
   ]
  },
  {
   "cell_type": "markdown",
   "id": "3f0570bc",
   "metadata": {},
   "source": [
    "# Unbox"
   ]
  },
  {
   "cell_type": "code",
   "execution_count": null,
   "id": "c16e4344",
   "metadata": {},
   "outputs": [],
   "source": [
    "import unboxapi\n",
    "# client = unboxapi.UnboxClient(\"YOUR_API_KEY_HERE\")\n",
    "unboxapi.DEPLOYMENT = unboxapi.DeploymentType.ONPREM\n",
    "unboxapi.api.UNBOX_ENDPOINT = \"http://0.0.0.0:8080/api\" # Use this for local testing\n",
    "client = unboxapi.UnboxClient(\"b7e910c2-2101-4fa9-a52b-8a9ba137ae1e\")"
   ]
  },
  {
   "cell_type": "markdown",
   "id": "ed6ae533",
   "metadata": {},
   "source": [
    "### Upload model"
   ]
  },
  {
   "cell_type": "code",
   "execution_count": null,
   "id": "bb09ca2f",
   "metadata": {},
   "outputs": [],
   "source": [
    "from unboxapi.models import ModelType\n",
    "\n",
    "ml_model = client.add_model(\n",
    "    function=get_predictions, \n",
    "    model=model,\n",
    "    model_type=ModelType.fasttext,\n",
    "    class_names=class_names,\n",
    "    name='Cooking Fast Text',\n",
    "    description='this is my fasttext model'\n",
    ")\n",
    "ml_model.to_dict()"
   ]
  },
  {
   "cell_type": "markdown",
   "id": "7ef6777e",
   "metadata": {},
   "source": [
    "### Upload dataset"
   ]
  },
  {
   "cell_type": "code",
   "execution_count": null,
   "id": "788bed60",
   "metadata": {},
   "outputs": [],
   "source": [
    "# @Gabe to fix this part\n",
    "import pandas as pd\n",
    "small_df = pd.read_csv(\"cooking_validation.csv\")"
   ]
  },
  {
   "cell_type": "code",
   "execution_count": null,
   "id": "53e5a670",
   "metadata": {},
   "outputs": [],
   "source": [
    "dataset = client.add_dataset(\n",
    "    df=small_df,\n",
    "    class_names=class_names,\n",
    "    label_column_name='label',\n",
    "    text_column_name='text',\n",
    "    name=\"Small Cooking Dataset\",\n",
    "    description='this is my fasttext validation dataset'\n",
    ")\n",
    "dataset.to_dict()"
   ]
  }
 ],
 "metadata": {
  "kernelspec": {
   "display_name": "Python 3 (ipykernel)",
   "language": "python",
   "name": "python3"
  },
  "language_info": {
   "codemirror_mode": {
    "name": "ipython",
    "version": 3
   },
   "file_extension": ".py",
   "mimetype": "text/x-python",
   "name": "python",
   "nbconvert_exporter": "python",
   "pygments_lexer": "ipython3",
   "version": "3.8.10"
  }
 },
 "nbformat": 4,
 "nbformat_minor": 5
}
