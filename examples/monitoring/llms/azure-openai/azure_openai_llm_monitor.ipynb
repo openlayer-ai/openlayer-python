{
 "cells": [
  {
   "cell_type": "markdown",
   "id": "2722b419",
   "metadata": {},
   "source": [
    "[![Open In Colab](https://colab.research.google.com/assets/colab-badge.svg)](https://colab.research.google.com/github/openlayer-ai/examples-gallery/blob/main/monitoring/llms/azure-openai/azure_openai_llm_monitor.ipynb)\n",
    "\n",
    "\n",
    "# <a id=\"top\">Azure OpenAI LLM monitoring quickstart</a>\n",
    "\n",
    "This notebook illustrates how to get started monitoring Azure OpenAI LLMs with Openlayer."
   ]
  },
  {
   "cell_type": "code",
   "execution_count": null,
   "id": "020c8f6a",
   "metadata": {},
   "outputs": [],
   "source": [
    "!pip install openlayer"
   ]
  },
  {
   "cell_type": "markdown",
   "id": "75c2a473",
   "metadata": {},
   "source": [
    "## 1. Set the environment variables"
   ]
  },
  {
   "cell_type": "code",
   "execution_count": 1,
   "id": "f3f4fa13",
   "metadata": {},
   "outputs": [],
   "source": [
    "import os\n",
    "import openai\n",
    "\n",
    "# Azure OpenAI env variables\n",
    "os.environ[\"ENDPOINT\"] = \"YOUR_AZURE_OPENAI_ENDPOINT_HERE\"\n",
    "os.environ[\"AZURE_API_KEY\"] = \"YOUR_AZURE_OPENAI_API_KEY_HERE\"\n",
    "os.environ[\"DEPLOYMENT_NAME\"] = \"YOUR_AZURE_OPENAI_DEPLOYMENT_NAME_HERE\"\n",
    "\n",
    "# Openlayer env variables\n",
    "os.environ[\"OPENLAYER_API_KEY\"] = \"YOUR_OPENLAYER_API_KEY_HERE\"\n",
    "os.environ[\"OPENLAYER_PROJECT_NAME\"] = \"YOUR_OPENLAYER_PROJECT_NAME_HERE\" "
   ]
  },
  {
   "cell_type": "markdown",
   "id": "9758533f",
   "metadata": {},
   "source": [
    "## 2. Instantiate the monitor"
   ]
  },
  {
   "cell_type": "code",
   "execution_count": 2,
   "id": "e60584fa",
   "metadata": {},
   "outputs": [
    {
     "data": {
      "text/plain": [
       "<openlayer.llm_monitors.AzureOpenAIMonitor at 0x7f8758d3abe0>"
      ]
     },
     "execution_count": 2,
     "metadata": {},
     "output_type": "execute_result"
    }
   ],
   "source": [
    "from openlayer import llm_monitors\n",
    "\n",
    "from openai import AzureOpenAI\n",
    "    \n",
    "azure_client = AzureOpenAI(\n",
    "    api_key=os.environ.get(\"AZURE_API_KEY\"),  \n",
    "    api_version=\"2024-02-01\",\n",
    "    azure_endpoint=os.environ.get(\"ENDPOINT\"),\n",
    ")\n",
    "\n",
    "llm_monitors.AzureOpenAIMonitor(client=azure_client)"
   ]
  },
  {
   "cell_type": "markdown",
   "id": "72a6b954",
   "metadata": {},
   "source": [
    "## 3. Use your monitored Azure OpenAI client normally"
   ]
  },
  {
   "cell_type": "markdown",
   "id": "76a350b4",
   "metadata": {},
   "source": [
    "That's it! Now you can continue using Azure OpenAI LLMs normally. The data is automatically published to Openlayer and you can start creating tests around it!"
   ]
  },
  {
   "cell_type": "code",
   "execution_count": 3,
   "id": "e00c1c79",
   "metadata": {},
   "outputs": [],
   "source": [
    "completion = azure_client.chat.completions.create(\n",
    "    model=os.environ.get(\"DEPLOYMENT_NAME\"),\n",
    "    messages=[\n",
    "        {\"role\": \"system\", \"content\": \"You are a helpful assistant.\"},\n",
    "        {\"role\": \"user\", \"content\": \"How are you doing today?\"},\n",
    "        {\"role\": \"assistant\", \"content\": \"Pretty well! How about you?\"},\n",
    "        {\"role\": \"user\", \"content\": \"I am doing well, but would like some words of encouragement.\"},\n",
    "    ]\n",
    ")"
   ]
  },
  {
   "cell_type": "code",
   "execution_count": null,
   "id": "abaf6987-c257-4f0d-96e7-3739b24c7206",
   "metadata": {},
   "outputs": [],
   "source": []
  }
 ],
 "metadata": {
  "kernelspec": {
   "display_name": "Python 3 (ipykernel)",
   "language": "python",
   "name": "python3"
  },
  "language_info": {
   "codemirror_mode": {
    "name": "ipython",
    "version": 3
   },
   "file_extension": ".py",
   "mimetype": "text/x-python",
   "name": "python",
   "nbconvert_exporter": "python",
   "pygments_lexer": "ipython3",
   "version": "3.9.18"
  }
 },
 "nbformat": 4,
 "nbformat_minor": 5
}
