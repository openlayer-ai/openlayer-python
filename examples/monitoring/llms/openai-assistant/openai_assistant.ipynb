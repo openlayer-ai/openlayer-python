{
 "cells": [
  {
   "cell_type": "markdown",
   "id": "2722b419",
   "metadata": {},
   "source": [
    "[![Open In Colab](https://colab.research.google.com/assets/colab-badge.svg)](https://colab.research.google.com/github/openlayer-ai/examples-gallery/blob/main/monitoring/llms/openai-assistant/openai_assistant.ipynb)\n",
    "\n",
    "\n",
    "# <a id=\"top\">OpenAI assistant monitoring</a>\n",
    "\n",
    "This notebook illustrates how to get started monitoring [OpenAI Assistants](https://platform.openai.com/docs/assistants/overview) with Openlayer."
   ]
  },
  {
   "cell_type": "code",
   "execution_count": null,
   "id": "020c8f6a",
   "metadata": {},
   "outputs": [],
   "source": [
    "!pip install openlayer"
   ]
  },
  {
   "cell_type": "markdown",
   "id": "75c2a473",
   "metadata": {},
   "source": [
    "## 1. Set the environment variables"
   ]
  },
  {
   "cell_type": "code",
   "execution_count": null,
   "id": "f3f4fa13",
   "metadata": {},
   "outputs": [],
   "source": [
    "import openai\n",
    "import os\n",
    "\n",
    "# Set the environment variables\n",
    "os.environ[\"OPENAI_API_KEY\"] = \"YOUR_OPENAI_API_KEY_HERE\"\n",
    "os.environ[\"OPENLAYER_API_KEY\"] = \"YOUR_OPENLAYER_API_KEY_HERE\"\n",
    "os.environ[\"OPENLAYER_PROJECT_NAME\"] = \"YOUR_OPENLAYER_PROJECT_NAME_HERE\""
   ]
  },
  {
   "cell_type": "markdown",
   "id": "9758533f",
   "metadata": {},
   "source": [
    "## 2. Instantiate the monitor"
   ]
  },
  {
   "cell_type": "code",
   "execution_count": null,
   "id": "e60584fa",
   "metadata": {},
   "outputs": [],
   "source": [
    "from openlayer import llm_monitors\n",
    "\n",
    "openai_client = openai.OpenAI()\n",
    "monitor = llm_monitors.OpenAIMonitor(client=openai_client, publish=True)"
   ]
  },
  {
   "cell_type": "markdown",
   "id": "72a6b954",
   "metadata": {},
   "source": [
    "## 3. Create assistant, thread, and run it"
   ]
  },
  {
   "cell_type": "code",
   "execution_count": null,
   "id": "c6983a9d",
   "metadata": {},
   "outputs": [],
   "source": [
    "# Create the assistant\n",
    "assistant = openai_client.beta.assistants.create(\n",
    "    name=\"Data visualizer\",\n",
    "    description=\"You are great at creating and explaining beautiful data visualizations.\",\n",
    "    model=\"gpt-4\",\n",
    "    tools=[{\"type\": \"code_interpreter\"}],\n",
    ")"
   ]
  },
  {
   "cell_type": "code",
   "execution_count": null,
   "id": "5b522ab2",
   "metadata": {},
   "outputs": [],
   "source": [
    "# Create a thread\n",
    "thread = openai_client.beta.threads.create(\n",
    "    messages=[\n",
    "        {\n",
    "        \"role\": \"user\",\n",
    "        \"content\": \"Create a data visualization of the american GDP.\",\n",
    "        }\n",
    "    ]\n",
    ")"
   ]
  },
  {
   "cell_type": "code",
   "execution_count": null,
   "id": "de7e048a",
   "metadata": {},
   "outputs": [],
   "source": [
    "# Run assistant on thread\n",
    "run = openai_client.beta.threads.runs.create(\n",
    "    thread_id=thread.id,\n",
    "    assistant_id=assistant.id\n",
    ")"
   ]
  },
  {
   "cell_type": "code",
   "execution_count": null,
   "id": "4d47c1f1",
   "metadata": {},
   "outputs": [],
   "source": [
    "import time\n",
    "\n",
    "# Keep polling the run results\n",
    "while run.status != \"completed\":\n",
    "    run = openai_client.beta.threads.runs.retrieve(thread_id=thread.id, run_id=run.id)\n",
    "\n",
    "    # Monitor the run with the Openlayer `monitor`. If complete, the thread is sent to Openlayer\n",
    "    monitor.monitor_thread_run(run)\n",
    "\n",
    "    time.sleep(5)"
   ]
  },
  {
   "cell_type": "code",
   "execution_count": null,
   "id": "b90a28d7",
   "metadata": {},
   "outputs": [],
   "source": []
  }
 ],
 "metadata": {
  "kernelspec": {
   "display_name": "Python 3 (ipykernel)",
   "language": "python",
   "name": "python3"
  },
  "language_info": {
   "codemirror_mode": {
    "name": "ipython",
    "version": 3
   },
   "file_extension": ".py",
   "mimetype": "text/x-python",
   "name": "python",
   "nbconvert_exporter": "python",
   "pygments_lexer": "ipython3",
   "version": "3.8.13"
  }
 },
 "nbformat": 4,
 "nbformat_minor": 5
}
