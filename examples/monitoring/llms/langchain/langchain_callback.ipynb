{
 "cells": [
  {
   "cell_type": "markdown",
   "id": "2722b419",
   "metadata": {},
   "source": [
    "[![Open In Colab](https://colab.research.google.com/assets/colab-badge.svg)](https://colab.research.google.com/github/openlayer-ai/examples-gallery/blob/main/monitoring/llms/langchain/langchain_callback.ipynb)\n",
    "\n",
    "\n",
    "# <a id=\"top\">Openlayer LangChain callback handler</a>\n",
    "\n",
    "This notebook illustrates how use Openlayer's callback handler to monitor LLMs/chains built with LangChain."
   ]
  },
  {
   "cell_type": "code",
   "execution_count": null,
   "id": "020c8f6a",
   "metadata": {},
   "outputs": [],
   "source": [
    "!pip install openlayer"
   ]
  },
  {
   "cell_type": "markdown",
   "id": "75c2a473",
   "metadata": {},
   "source": [
    "## 1. Set the environment variables"
   ]
  },
  {
   "cell_type": "code",
   "execution_count": null,
   "id": "f3f4fa13",
   "metadata": {},
   "outputs": [],
   "source": [
    "import os\n",
    "import openai\n",
    "\n",
    "# OpenAI env variable\n",
    "os.environ[\"OPENAI_API_KEY\"] = \"YOUR_OPENAI_API_KEY_HERE\"\n",
    "\n",
    "# Openlayer env variables\n",
    "os.environ[\"OPENLAYER_API_KEY\"] = \"YOUR_OPENLAYER_API_KEY_HERE\"\n",
    "os.environ[\"OPENLAYER_PROJECT_NAME\"] = \"YOUR_PROJECT_NAME_HERE\""
   ]
  },
  {
   "cell_type": "markdown",
   "id": "9758533f",
   "metadata": {},
   "source": [
    "## 2. Instantiate the `OpenlayerHandler`"
   ]
  },
  {
   "cell_type": "code",
   "execution_count": null,
   "id": "e60584fa",
   "metadata": {},
   "outputs": [],
   "source": [
    "from openlayer.integrations import langchain_callback\n",
    "\n",
    "openlayer_handler = langchain_callback.OpenlayerHandler()"
   ]
  },
  {
   "cell_type": "markdown",
   "id": "72a6b954",
   "metadata": {},
   "source": [
    "## 3. Use LangChain"
   ]
  },
  {
   "cell_type": "markdown",
   "id": "76a350b4",
   "metadata": {},
   "source": [
    "Now, you can pass the `openlayer_handler` as a callback to LLM's or chain invokations."
   ]
  },
  {
   "cell_type": "code",
   "execution_count": null,
   "id": "e00c1c79",
   "metadata": {},
   "outputs": [],
   "source": [
    "from langchain_core.messages import HumanMessage\n",
    "from langchain_openai import ChatOpenAI"
   ]
  },
  {
   "cell_type": "code",
   "execution_count": null,
   "id": "abaf6987-c257-4f0d-96e7-3739b24c7206",
   "metadata": {},
   "outputs": [],
   "source": [
    "chat = ChatOpenAI(max_tokens=25, callbacks=[openlayer_handler])"
   ]
  },
  {
   "cell_type": "code",
   "execution_count": null,
   "id": "4123669f-aa28-47b7-8d46-ee898aba99e8",
   "metadata": {},
   "outputs": [],
   "source": [
    "chat.invoke([HumanMessage(content=\"What's the meaning of life?\")])"
   ]
  },
  {
   "cell_type": "markdown",
   "id": "9a702ad1-da68-4757-95a6-4661ddaef251",
   "metadata": {},
   "source": [
    "That's it! Now your data is being streamed to Openlayer after every invokation."
   ]
  },
  {
   "cell_type": "code",
   "execution_count": null,
   "id": "a3092828-3fbd-4f12-bae7-8de7f7319ff0",
   "metadata": {},
   "outputs": [],
   "source": []
  }
 ],
 "metadata": {
  "kernelspec": {
   "display_name": "Python 3 (ipykernel)",
   "language": "python",
   "name": "python3"
  },
  "language_info": {
   "codemirror_mode": {
    "name": "ipython",
    "version": 3
   },
   "file_extension": ".py",
   "mimetype": "text/x-python",
   "name": "python",
   "nbconvert_exporter": "python",
   "pygments_lexer": "ipython3",
   "version": "3.9.18"
  }
 },
 "nbformat": 4,
 "nbformat_minor": 5
}
