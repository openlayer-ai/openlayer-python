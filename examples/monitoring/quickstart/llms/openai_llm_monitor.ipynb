{
 "cells": [
  {
   "cell_type": "markdown",
   "id": "2722b419",
   "metadata": {},
   "source": [
    "[![Open In Colab](https://colab.research.google.com/assets/colab-badge.svg)](https://colab.research.google.com/github/openlayer-ai/examples-gallery/blob/main/monitoring/quickstart/llms/openai_llm_monitor.ipynb)\n",
    "\n",
    "\n",
    "# <a id=\"top\">LLM monitoring quickstart</a>\n",
    "\n",
    "This notebook illustrates how to get started monitoring OpenAI LLMs with Openlayer."
   ]
  },
  {
   "cell_type": "code",
   "execution_count": null,
   "id": "020c8f6a",
   "metadata": {},
   "outputs": [],
   "source": [
    "!pip install openlayer"
   ]
  },
  {
   "cell_type": "markdown",
   "id": "75c2a473",
   "metadata": {},
   "source": [
    "## 1. Set the environment variables"
   ]
  },
  {
   "cell_type": "code",
   "execution_count": null,
   "id": "f3f4fa13",
   "metadata": {},
   "outputs": [],
   "source": [
    "import os\n",
    "import openai\n",
    "\n",
    "# OpenAI env variable\n",
    "os.environ[\"OPENAI_API_KEY\"] = \"YOUR_OPENAI_API_KEY_HERE\"\n",
    "\n",
    "# Openlayer env variables\n",
    "os.environ[\"OPENLAYER_API_KEY\"] = \"YOUR_OPENLAYER_API_KEY_HERE\"\n",
    "os.environ[\"OPENLAYER_PROJECT_NAME\"] = \"YOUR_PROJECT_NAME_HERE\" "
   ]
  },
  {
   "cell_type": "markdown",
   "id": "9758533f",
   "metadata": {},
   "source": [
    "## 2. Instantiate the monitor"
   ]
  },
  {
   "cell_type": "code",
   "execution_count": null,
   "id": "e60584fa",
   "metadata": {},
   "outputs": [],
   "source": [
    "from openlayer import llm_monitors\n",
    "\n",
    "openai_client = openai.OpenAI()\n",
    "openai_monitor = llm_monitors.OpenAIMonitor(client=openai_client)"
   ]
  },
  {
   "cell_type": "markdown",
   "id": "72a6b954",
   "metadata": {},
   "source": [
    "## 3. Use your monitored OpenAI client normally"
   ]
  },
  {
   "cell_type": "markdown",
   "id": "76a350b4",
   "metadata": {},
   "source": [
    "That's it! Now you can continue using OpenAI LLMs normally. The data is automatically published to Openlayer and you can start creating tests around it!"
   ]
  },
  {
   "cell_type": "markdown",
   "id": "397097b4-aea9-4064-8621-4e0d2077da6d",
   "metadata": {},
   "source": [
    "#### If you call the `create` method with `stream=False` (default):"
   ]
  },
  {
   "cell_type": "code",
   "execution_count": null,
   "id": "e00c1c79",
   "metadata": {},
   "outputs": [],
   "source": [
    "completion = openai_client.chat.completions.create(\n",
    "    model=\"gpt-3.5-turbo\",\n",
    "    messages=[\n",
    "        {\"role\": \"system\", \"content\": \"You are a helpful assistant.\"},\n",
    "        {\"role\": \"user\", \"content\": \"How are you doing today?\"},\n",
    "        {\"role\": \"assistant\", \"content\": \"Pretty well! How about you?\"},\n",
    "        {\"role\": \"user\", \"content\": \"I am doing well, but would like some words of encouragement.\"},\n",
    "    ]\n",
    ")"
   ]
  },
  {
   "cell_type": "markdown",
   "id": "dff26b5d-4e86-4863-9f86-5dc98fe51140",
   "metadata": {},
   "source": [
    "#### If you call the `create` method with `stream=True`:\n"
   ]
  },
  {
   "cell_type": "code",
   "execution_count": null,
   "id": "aee9d5c7-496b-48ca-8095-7e79c0753712",
   "metadata": {},
   "outputs": [],
   "source": [
    "chunks = openai_client.chat.completions.create(\n",
    "    model=\"gpt-3.5-turbo\",\n",
    "    messages=[\n",
    "        {\"role\": \"system\", \"content\": \"You are a helpful assistant.\"},\n",
    "        {\"role\": \"user\", \"content\": \"How are you doing today?\"},\n",
    "        {\"role\": \"assistant\", \"content\": \"Pretty well! How about you?\"},\n",
    "        {\"role\": \"user\", \"content\": \"I am doing well, but would like some words of encouragement.\"},\n",
    "    ],\n",
    "    stream=True   \n",
    ")"
   ]
  },
  {
   "cell_type": "code",
   "execution_count": null,
   "id": "20d15545-dab2-4763-83f0-6dafb2834886",
   "metadata": {},
   "outputs": [],
   "source": [
    "# Collect the messages from the stream\n",
    "collected_messages = []\n",
    "for chunk in chunks:\n",
    "    collected_messages.append(chunk.choices[0].delta.content)   "
   ]
  },
  {
   "cell_type": "code",
   "execution_count": null,
   "id": "e79ee882",
   "metadata": {},
   "outputs": [],
   "source": []
  }
 ],
 "metadata": {
  "kernelspec": {
   "display_name": "Python 3 (ipykernel)",
   "language": "python",
   "name": "python3"
  },
  "language_info": {
   "codemirror_mode": {
    "name": "ipython",
    "version": 3
   },
   "file_extension": ".py",
   "mimetype": "text/x-python",
   "name": "python",
   "nbconvert_exporter": "python",
   "pygments_lexer": "ipython3",
   "version": "3.9.18"
  }
 },
 "nbformat": 4,
 "nbformat_minor": 5
}
