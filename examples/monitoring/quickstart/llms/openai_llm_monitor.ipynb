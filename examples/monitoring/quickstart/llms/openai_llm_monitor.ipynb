{
 "cells": [
  {
   "cell_type": "markdown",
   "id": "2722b419",
   "metadata": {},
   "source": [
    "[![Open In Colab](https://colab.research.google.com/assets/colab-badge.svg)](https://colab.research.google.com/github/openlayer-ai/examples-gallery/blob/main/monitoring/quickstart/llms/openai-llm-monitor.ipynb)\n",
    "\n",
    "\n",
    "# <a id=\"top\">LLM monitoring quickstart</a>\n",
    "\n",
    "This notebook illustrates how to get started monitoring OpenAI LLMs with Openlayer."
   ]
  },
  {
   "cell_type": "markdown",
   "id": "75c2a473",
   "metadata": {},
   "source": [
    "## 1. Set the environment variables"
   ]
  },
  {
   "cell_type": "code",
   "execution_count": 1,
   "id": "f3f4fa13",
   "metadata": {},
   "outputs": [],
   "source": [
    "import os\n",
    "\n",
    "os.environ[\"OPENLAYER_API_KEY\"] = \"YOUR_OPENLAYER_API_KEY_HERE\"\n",
    "os.environ[\"OPENLAYER_PROJECT_NAME\"] = \"Your Openlayer Project Name Here\" "
   ]
  },
  {
   "cell_type": "markdown",
   "id": "9758533f",
   "metadata": {},
   "source": [
    "## 2. Instantiate the monitor"
   ]
  },
  {
   "cell_type": "code",
   "execution_count": 2,
   "id": "e60584fa",
   "metadata": {},
   "outputs": [],
   "source": [
    "from openlayer import llm_monitors\n",
    "\n",
    "openai_monitor = llm_monitors.OpenAIMonitor(publish=True)  # with publish=True, every row gets published to Openlayer automatically"
   ]
  },
  {
   "cell_type": "markdown",
   "id": "72a6b954",
   "metadata": {},
   "source": [
    "## 3. Turn it on!"
   ]
  },
  {
   "cell_type": "code",
   "execution_count": 8,
   "id": "2cb5ce9b",
   "metadata": {},
   "outputs": [
    {
     "name": "stdout",
     "output_type": "stream",
     "text": [
      "Monitoring is already on!\n",
      "To stop it, call `stop_monitoring`.\n"
     ]
    }
   ],
   "source": [
    "openai_monitor.start_monitoring()"
   ]
  },
  {
   "cell_type": "markdown",
   "id": "76a350b4",
   "metadata": {},
   "source": [
    "That's it! Now you can continue using OpenAI LLMs normally. The data is automatically published to Openlayer and you can start creating goals around it!"
   ]
  },
  {
   "cell_type": "code",
   "execution_count": 4,
   "id": "fb648049-00bd-447c-8feb-ecf794d45ba7",
   "metadata": {},
   "outputs": [],
   "source": [
    "import openai\n",
    "\n",
    "openai.api_key = \"YOUR_OPENAI_API_KEY_HERE\""
   ]
  },
  {
   "cell_type": "code",
   "execution_count": 5,
   "id": "7d1e8c74-c667-44a7-b8ea-8f5b83049ea7",
   "metadata": {},
   "outputs": [
    {
     "name": "stdout",
     "output_type": "stream",
     "text": [
      "Data published!\n"
     ]
    }
   ],
   "source": [
    "completion = openai.ChatCompletion.create(\n",
    "  model=\"gpt-3.5-turbo\",\n",
    "  messages=[\n",
    "    {\"role\": \"system\", \"content\": \"You are a helpful assistant.\"},\n",
    "    {\"role\": \"user\", \"content\": \"How are you doing today?\"}\n",
    "  ]\n",
    ")"
   ]
  },
  {
   "cell_type": "code",
   "execution_count": 6,
   "id": "58dd9603",
   "metadata": {},
   "outputs": [
    {
     "name": "stdout",
     "output_type": "stream",
     "text": [
      "Data published!\n"
     ]
    }
   ],
   "source": [
    "completion = openai.ChatCompletion.create(\n",
    "  model=\"gpt-3.5-turbo\",\n",
    "  messages=[\n",
    "    {\"role\": \"system\", \"content\": \"You are a helpful assistant.\"},\n",
    "    {\"role\": \"user\", \"content\": \"Is Python strongly typed?\"}\n",
    "  ]\n",
    ")"
   ]
  },
  {
   "cell_type": "markdown",
   "id": "f7c3dfbc",
   "metadata": {},
   "source": [
    "You can also access all the data accumulated (and in this case, published to Openlayer) with the `data` attribute:"
   ]
  },
  {
   "cell_type": "code",
   "execution_count": 7,
   "id": "27bb2bdc",
   "metadata": {},
   "outputs": [
    {
     "data": {
      "text/html": [
       "<div>\n",
       "<style scoped>\n",
       "    .dataframe tbody tr th:only-of-type {\n",
       "        vertical-align: middle;\n",
       "    }\n",
       "\n",
       "    .dataframe tbody tr th {\n",
       "        vertical-align: top;\n",
       "    }\n",
       "\n",
       "    .dataframe thead th {\n",
       "        text-align: right;\n",
       "    }\n",
       "</style>\n",
       "<table border=\"1\" class=\"dataframe\">\n",
       "  <thead>\n",
       "    <tr style=\"text-align: right;\">\n",
       "      <th></th>\n",
       "      <th>input</th>\n",
       "      <th>output</th>\n",
       "      <th>tokens</th>\n",
       "      <th>latency</th>\n",
       "    </tr>\n",
       "  </thead>\n",
       "  <tbody>\n",
       "    <tr>\n",
       "      <th>0</th>\n",
       "      <td>How are you doing today?</td>\n",
       "      <td>Thank you for asking! As an AI, I don't have f...</td>\n",
       "      <td>62</td>\n",
       "      <td>6400.212049</td>\n",
       "    </tr>\n",
       "    <tr>\n",
       "      <th>1</th>\n",
       "      <td>Is Python strongly typed?</td>\n",
       "      <td>Yes, Python is considered a strongly typed lan...</td>\n",
       "      <td>68</td>\n",
       "      <td>7226.889133</td>\n",
       "    </tr>\n",
       "  </tbody>\n",
       "</table>\n",
       "</div>"
      ],
      "text/plain": [
       "                       input  \\\n",
       "0   How are you doing today?   \n",
       "1  Is Python strongly typed?   \n",
       "\n",
       "                                              output  tokens      latency  \n",
       "0  Thank you for asking! As an AI, I don't have f...      62  6400.212049  \n",
       "1  Yes, Python is considered a strongly typed lan...      68  7226.889133  "
      ]
     },
     "execution_count": 7,
     "metadata": {},
     "output_type": "execute_result"
    }
   ],
   "source": [
    "openai_monitor.data"
   ]
  },
  {
   "cell_type": "code",
   "execution_count": 9,
   "id": "f9139f2b",
   "metadata": {},
   "outputs": [
    {
     "name": "stdout",
     "output_type": "stream",
     "text": [
      "Monitoring stopped.\n"
     ]
    }
   ],
   "source": [
    "openai_monitor.stop_monitoring()"
   ]
  },
  {
   "cell_type": "code",
   "execution_count": null,
   "id": "654bb896",
   "metadata": {},
   "outputs": [],
   "source": []
  }
 ],
 "metadata": {
  "kernelspec": {
   "display_name": "Python 3 (ipykernel)",
   "language": "python",
   "name": "python3"
  },
  "language_info": {
   "codemirror_mode": {
    "name": "ipython",
    "version": 3
   },
   "file_extension": ".py",
   "mimetype": "text/x-python",
   "name": "python",
   "nbconvert_exporter": "python",
   "pygments_lexer": "ipython3",
   "version": "3.8.13"
  }
 },
 "nbformat": 4,
 "nbformat_minor": 5
}
