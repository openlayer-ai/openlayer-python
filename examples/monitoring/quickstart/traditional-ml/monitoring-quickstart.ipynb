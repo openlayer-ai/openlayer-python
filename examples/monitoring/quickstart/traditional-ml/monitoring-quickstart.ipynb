{
    "cells": [
        {
            "cell_type": "markdown",
            "id": "ef55abc9",
            "metadata": {},
            "source": [
                "[![Open In Colab](https://colab.research.google.com/assets/colab-badge.svg)](https://colab.research.google.com/github/openlayer-ai/examples-gallery/blob/main/monitoring/quickstart/traditional-ml/monitoring-quickstart.ipynb)\n",
                "\n",
                "\n",
                "# <a id=\"top\">Monitoring quickstart</a>\n",
                "\n",
                "This notebook illustrates a typical monitoring flow using Openlayer. For more details, refer to the [How to set up monitoring guide](https://docs.openlayer.com/documentation/how-to-guides/set-up-monitoring) from the documentation.\n",
                "\n",
                "\n",
                "## <a id=\"toc\">Table of contents</a>\n",
                "\n",
                "1. [**Creating a project and an inference pipeline**](#inference-pipeline) \n",
                "\n",
                "2. [**Publishing batches of production data**](#publish-batches)\n",
                "\n",
                "3. [(Optional) **Uploading a reference dataset**](#reference-dataset)\n",
                "\n",
                "4. [(Optional) **Publishing ground truths**](#ground-truths)\n",
                "\n",
                "Before we start, let's download the sample data and import pandas."
            ]
        },
        {
            "cell_type": "code",
            "execution_count": 1,
            "id": "3d193436",
            "metadata": {},
            "outputs": [],
            "source": [
                "%%bash\n",
                "\n",
                "if [ ! -e \"churn_train.csv\" ]; then\n",
                "    curl \"https://openlayer-static-assets.s3.us-west-2.amazonaws.com/examples-datasets/monitoring/churn_train.csv\" --output \"churn_train.csv\"\n",
                "fi\n",
                "\n",
                "if [ ! -e \"prod_data_no_ground_truths.csv\" ]; then\n",
                "    curl \"https://openlayer-static-assets.s3.us-west-2.amazonaws.com/examples-datasets/monitoring/prod_data_no_ground_truths.csv\" --output \"prod_data_no_ground_truths.csv\"\n",
                "fi\n",
                "\n",
                "if [ ! -e \"prod_ground_truths.csv\" ]; then\n",
                "    curl \"https://openlayer-static-assets.s3.us-west-2.amazonaws.com/examples-datasets/monitoring/prod_ground_truths.csv\" --output \"prod_ground_truths.csv\"\n",
                "fi"
            ]
        },
        {
            "cell_type": "code",
            "execution_count": 1,
            "id": "9dce8f60",
            "metadata": {},
            "outputs": [],
            "source": [
                "import pandas as pd"
            ]
        },
        {
            "cell_type": "markdown",
            "id": "c4ea849d",
            "metadata": {},
            "source": [
                "## <a id=\"inference-pipeline\"> 1. Creating a project and an inference pipeline </a>\n",
                "\n",
                "[Back to top](#top)"
            ]
        },
        {
            "cell_type": "code",
            "execution_count": null,
            "id": "05f27b6c",
            "metadata": {},
            "outputs": [],
            "source": [
                "!pip install openlayer"
            ]
        },
        {
            "cell_type": "code",
            "execution_count": 2,
            "id": "8504e063",
            "metadata": {},
            "outputs": [],
            "source": [
                "import openlayer\n",
                "\n",
                "openlayer.api.OPENLAYER_ENDPOINT = \"http://localhost:8080/v1\"\n",
                "openlayer.api.STORAGE = openlayer.api.StorageType.ONPREM\n",
                "\n",
                "client = openlayer.OpenlayerClient(\"-feQN48QZ9haCfq80m3zcpUTndHhjf-A\")"
            ]
        },
        {
            "cell_type": "code",
            "execution_count": 3,
            "id": "5377494b",
            "metadata": {},
            "outputs": [
                {
                    "name": "stdout",
                    "output_type": "stream",
                    "text": [
                        "Created your project. Navigate to http://localhost:8000/w-33c53ff/107dec23-c941-44e8-b63d-40dc76073a07 to see it.\n"
                    ]
                }
            ],
            "source": [
                "from openlayer.tasks import TaskType\n",
                "\n",
                "project = client.create_project(\n",
                "    name=\"Churn Prediction 2\",\n",
                "    task_type=TaskType.TabularClassification,\n",
                ")"
            ]
        },
        {
            "cell_type": "markdown",
            "id": "ed0c9bf6",
            "metadata": {},
            "source": [
                "Now that you are authenticated and have a project on the platform, it's time to create an inference pipeline. Creating an inference pipeline is what enables the monitoring capabilities in a project."
            ]
        },
        {
            "cell_type": "code",
            "execution_count": 4,
            "id": "147b5294",
            "metadata": {},
            "outputs": [
                {
                    "name": "stdout",
                    "output_type": "stream",
                    "text": [
                        "Created your inference pipeline. Navigate to http://localhost:8000/w-33c53ff/107dec23-c941-44e8-b63d-40dc76073a07?mode=monitoring&inferencePipelineId=dc75c134-09f2-47c3-b645-9d61fb10c7b6 to see it.\n"
                    ]
                }
            ],
            "source": [
                "inference_pipeline = project.create_inference_pipeline()"
            ]
        },
        {
            "cell_type": "markdown",
            "id": "3c8608ea",
            "metadata": {},
            "source": [
                "## <a id=\"publish-batches\"> 2. Publishing production data </a>\n",
                "\n",
                "[Back to top](#top)\n",
                "\n",
                "In production, as the model makes predictions, the data can be published to Openlayer. This is done with the `publish_batch_data` method. \n",
                "\n",
                "The data published to Openlayer can have a column with **inference ids** and another with **timestamps** (UNIX sec format). These are both optional and, if not provided, will receive default values. The inference id is particularly important if you wish to publish ground truths at a later time. "
            ]
        },
        {
            "cell_type": "code",
            "execution_count": 5,
            "id": "918da1f7",
            "metadata": {},
            "outputs": [],
            "source": [
                "production_data = pd.read_csv(\"prod_data_no_ground_truths.csv\")"
            ]
        },
        {
            "cell_type": "code",
            "execution_count": 6,
            "id": "deec9e95",
            "metadata": {},
            "outputs": [],
            "source": [
                "batch_1 = production_data.loc[:342]\n",
                "batch_2 = production_data.loc[343:684]\n",
                "batch_3 = production_data.loc[686:]"
            ]
        },
        {
            "cell_type": "code",
            "execution_count": 7,
            "id": "25b66229",
            "metadata": {},
            "outputs": [
                {
                    "data": {
                        "text/html": [
                            "<div>\n",
                            "<style scoped>\n",
                            "    .dataframe tbody tr th:only-of-type {\n",
                            "        vertical-align: middle;\n",
                            "    }\n",
                            "\n",
                            "    .dataframe tbody tr th {\n",
                            "        vertical-align: top;\n",
                            "    }\n",
                            "\n",
                            "    .dataframe thead th {\n",
                            "        text-align: right;\n",
                            "    }\n",
                            "</style>\n",
                            "<table border=\"1\" class=\"dataframe\">\n",
                            "  <thead>\n",
                            "    <tr style=\"text-align: right;\">\n",
                            "      <th></th>\n",
                            "      <th>CreditScore</th>\n",
                            "      <th>Geography</th>\n",
                            "      <th>Gender</th>\n",
                            "      <th>Age</th>\n",
                            "      <th>Tenure</th>\n",
                            "      <th>Balance</th>\n",
                            "      <th>NumOfProducts</th>\n",
                            "      <th>HasCrCard</th>\n",
                            "      <th>IsActiveMember</th>\n",
                            "      <th>EstimatedSalary</th>\n",
                            "      <th>AggregateRate</th>\n",
                            "      <th>Year</th>\n",
                            "      <th>predictions</th>\n",
                            "      <th>inference_id</th>\n",
                            "      <th>timestamp</th>\n",
                            "    </tr>\n",
                            "  </thead>\n",
                            "  <tbody>\n",
                            "    <tr>\n",
                            "      <th>0</th>\n",
                            "      <td>796</td>\n",
                            "      <td>Spain</td>\n",
                            "      <td>Male</td>\n",
                            "      <td>56.0</td>\n",
                            "      <td>6</td>\n",
                            "      <td>94231.13</td>\n",
                            "      <td>1</td>\n",
                            "      <td>0</td>\n",
                            "      <td>0</td>\n",
                            "      <td>121164.60</td>\n",
                            "      <td>2.52</td>\n",
                            "      <td>2023</td>\n",
                            "      <td>1</td>\n",
                            "      <td>2edc5eb5-ff0d-448a-acf6-7543b9252fc6</td>\n",
                            "      <td>1694361665</td>\n",
                            "    </tr>\n",
                            "    <tr>\n",
                            "      <th>1</th>\n",
                            "      <td>733</td>\n",
                            "      <td>France</td>\n",
                            "      <td>Male</td>\n",
                            "      <td>39.0</td>\n",
                            "      <td>1</td>\n",
                            "      <td>0.00</td>\n",
                            "      <td>2</td>\n",
                            "      <td>1</td>\n",
                            "      <td>1</td>\n",
                            "      <td>141841.31</td>\n",
                            "      <td>0.42</td>\n",
                            "      <td>2023</td>\n",
                            "      <td>0</td>\n",
                            "      <td>786c8682-9261-4345-8004-98736624a850</td>\n",
                            "      <td>1694361665</td>\n",
                            "    </tr>\n",
                            "    <tr>\n",
                            "      <th>2</th>\n",
                            "      <td>556</td>\n",
                            "      <td>France</td>\n",
                            "      <td>Male</td>\n",
                            "      <td>34.0</td>\n",
                            "      <td>8</td>\n",
                            "      <td>163757.06</td>\n",
                            "      <td>1</td>\n",
                            "      <td>1</td>\n",
                            "      <td>1</td>\n",
                            "      <td>104000.06</td>\n",
                            "      <td>3.36</td>\n",
                            "      <td>2023</td>\n",
                            "      <td>0</td>\n",
                            "      <td>60b2a8b5-d936-4329-a5db-25c9a36f6a7a</td>\n",
                            "      <td>1694361665</td>\n",
                            "    </tr>\n",
                            "    <tr>\n",
                            "      <th>3</th>\n",
                            "      <td>489</td>\n",
                            "      <td>Spain</td>\n",
                            "      <td>Male</td>\n",
                            "      <td>58.0</td>\n",
                            "      <td>4</td>\n",
                            "      <td>0.00</td>\n",
                            "      <td>2</td>\n",
                            "      <td>1</td>\n",
                            "      <td>1</td>\n",
                            "      <td>191419.32</td>\n",
                            "      <td>1.68</td>\n",
                            "      <td>2023</td>\n",
                            "      <td>0</td>\n",
                            "      <td>2860bb85-1469-401a-9009-10ce0070d6e7</td>\n",
                            "      <td>1694361665</td>\n",
                            "    </tr>\n",
                            "    <tr>\n",
                            "      <th>4</th>\n",
                            "      <td>639</td>\n",
                            "      <td>France</td>\n",
                            "      <td>Male</td>\n",
                            "      <td>22.0</td>\n",
                            "      <td>4</td>\n",
                            "      <td>0.00</td>\n",
                            "      <td>2</td>\n",
                            "      <td>1</td>\n",
                            "      <td>0</td>\n",
                            "      <td>28188.96</td>\n",
                            "      <td>1.68</td>\n",
                            "      <td>2023</td>\n",
                            "      <td>0</td>\n",
                            "      <td>90d128f1-2797-45d9-8106-619e4bd09889</td>\n",
                            "      <td>1694361665</td>\n",
                            "    </tr>\n",
                            "  </tbody>\n",
                            "</table>\n",
                            "</div>"
                        ],
                        "text/plain": [
                            "   CreditScore Geography Gender   Age  Tenure    Balance  NumOfProducts  \\\n",
                            "0          796     Spain   Male  56.0       6   94231.13              1   \n",
                            "1          733    France   Male  39.0       1       0.00              2   \n",
                            "2          556    France   Male  34.0       8  163757.06              1   \n",
                            "3          489     Spain   Male  58.0       4       0.00              2   \n",
                            "4          639    France   Male  22.0       4       0.00              2   \n",
                            "\n",
                            "   HasCrCard  IsActiveMember  EstimatedSalary  AggregateRate  Year  \\\n",
                            "0          0               0        121164.60           2.52  2023   \n",
                            "1          1               1        141841.31           0.42  2023   \n",
                            "2          1               1        104000.06           3.36  2023   \n",
                            "3          1               1        191419.32           1.68  2023   \n",
                            "4          1               0         28188.96           1.68  2023   \n",
                            "\n",
                            "   predictions                          inference_id   timestamp  \n",
                            "0            1  2edc5eb5-ff0d-448a-acf6-7543b9252fc6  1694361665  \n",
                            "1            0  786c8682-9261-4345-8004-98736624a850  1694361665  \n",
                            "2            0  60b2a8b5-d936-4329-a5db-25c9a36f6a7a  1694361665  \n",
                            "3            0  2860bb85-1469-401a-9009-10ce0070d6e7  1694361665  \n",
                            "4            0  90d128f1-2797-45d9-8106-619e4bd09889  1694361665  "
                        ]
                    },
                    "execution_count": 7,
                    "metadata": {},
                    "output_type": "execute_result"
                }
            ],
            "source": [
                "batch_1.head()"
            ]
        },
        {
            "cell_type": "markdown",
            "id": "1bcf399a",
            "metadata": {},
            "source": [
                "### <a id=\"publish-batches\"> Publish to Openlayer </a>\n",
                "\n",
                "Here, we're simulating three calls to `publish_batch_data`. In practice, this is a code snippet that lives in your inference pipeline and that gets called after the model predictions."
            ]
        },
        {
            "cell_type": "code",
            "execution_count": 8,
            "id": "1b8f28f8",
            "metadata": {},
            "outputs": [],
            "source": [
                "batch_config = {\n",
                "    \"categoricalFeatureNames\": [\"Gender\", \"Geography\"],\n",
                "    \"classNames\": [\"Retained\", \"Exited\"],\n",
                "    \"featureNames\": [\n",
                "        \"CreditScore\", \n",
                "        \"Geography\",\n",
                "        \"Gender\",\n",
                "        \"Age\", \n",
                "        \"Tenure\",\n",
                "        \"Balance\",\n",
                "        \"NumOfProducts\",\n",
                "        \"HasCrCard\",\n",
                "        \"IsActiveMember\",\n",
                "        \"EstimatedSalary\",\n",
                "        \"AggregateRate\",\n",
                "        \"Year\"\n",
                "    ],\n",
                "    \"timestampColumnName\": \"timestamp\",\n",
                "    \"inferenceIdColumnName\": \"inference_id\",\n",
                "    \"predictionsColumnName\": \"predictions\"\n",
                "}\n"
            ]
        },
        {
            "cell_type": "code",
            "execution_count": 9,
            "id": "bde01a2b",
            "metadata": {},
            "outputs": [
                {
                    "name": "stdout",
                    "output_type": "stream",
                    "text": [
                        "Data published!\n"
                    ]
                }
            ],
            "source": [
                "inference_pipeline.publish_batch_data(\n",
                "    batch_df=batch_1,\n",
                "    batch_config=batch_config\n",
                ")"
            ]
        },
        {
            "cell_type": "code",
            "execution_count": 10,
            "id": "bfc3dea6",
            "metadata": {},
            "outputs": [
                {
                    "name": "stdout",
                    "output_type": "stream",
                    "text": [
                        "Data published!\n"
                    ]
                }
            ],
            "source": [
                "inference_pipeline.publish_batch_data(\n",
                "    batch_df=batch_2,\n",
                "    batch_config=batch_config\n",
                ")"
            ]
        },
        {
            "cell_type": "code",
            "execution_count": 14,
            "id": "3770848c",
            "metadata": {},
            "outputs": [],
            "source": [
                "stream_data = batch_3.iloc[:2, :].to_dict(orient=\"records\")"
            ]
        },
        {
            "cell_type": "code",
            "execution_count": 15,
            "id": "d2b085c1",
            "metadata": {},
            "outputs": [
                {
                    "data": {
                        "text/plain": [
                            "[{'CreditScore': 545,\n",
                            "  'Geography': 'France',\n",
                            "  'Gender': 'Female',\n",
                            "  'Age': 26.0,\n",
                            "  'Tenure': 1,\n",
                            "  'Balance': 0.0,\n",
                            "  'NumOfProducts': 2,\n",
                            "  'HasCrCard': 1,\n",
                            "  'IsActiveMember': 1,\n",
                            "  'EstimatedSalary': 199638.56,\n",
                            "  'AggregateRate': 0.42,\n",
                            "  'Year': 2022,\n",
                            "  'predictions': 0,\n",
                            "  'inference_id': '8d79c28e-20db-4fb9-bee1-9efe01b414dd',\n",
                            "  'timestamp': 1694620865},\n",
                            " {'CreditScore': 771,\n",
                            "  'Geography': 'Germany',\n",
                            "  'Gender': 'Female',\n",
                            "  'Age': 36.0,\n",
                            "  'Tenure': 5,\n",
                            "  'Balance': 77846.9,\n",
                            "  'NumOfProducts': 1,\n",
                            "  'HasCrCard': 0,\n",
                            "  'IsActiveMember': 0,\n",
                            "  'EstimatedSalary': 99805.99,\n",
                            "  'AggregateRate': 2.1,\n",
                            "  'Year': 2022,\n",
                            "  'predictions': 1,\n",
                            "  'inference_id': '0fc0f4c1-4e73-4488-afbe-79e93a5a0509',\n",
                            "  'timestamp': 1694620865}]"
                        ]
                    },
                    "execution_count": 15,
                    "metadata": {},
                    "output_type": "execute_result"
                }
            ],
            "source": [
                "stream_data"
            ]
        },
        {
            "cell_type": "code",
            "execution_count": 16,
            "id": "159b4e24",
            "metadata": {},
            "outputs": [
                {
                    "ename": "OpenlayerInvalidRequest",
                    "evalue": "<Response [400]> {'categoricalFeatureNames': ['Gender', 'Geography'], 'label': 'production', 'metadata': {}, 'predictionScoresColumnName': None, 'language': 'en', 'columnNames': ['CreditScore', 'Geography', 'Gender', 'Age', 'Tenure', 'Balance', 'NumOfProducts', 'HasCrCard', 'IsActiveMember', 'EstimatedSalary', 'AggregateRate', 'Year', 'predictions', 'inference_id', 'timestamp'], 'predictionsColumnName': 'predictions', 'inferenceIdColumnName': 'inference_id', 'sep': ',', 'classNames': ['Retained', 'Exited'], 'featureNames': ['CreditScore', 'Geography', 'Gender', 'Age', 'Tenure', 'Balance', 'NumOfProducts', 'HasCrCard', 'IsActiveMember', 'EstimatedSalary', 'AggregateRate', 'Year'], 'timestampColumnName': 'timestamp', 'labelColumnName': None, 'latencyColumnName': None} is not valid under any of the given schemas - 'config'",
                    "output_type": "error",
                    "traceback": [
                        "\u001b[0;31m---------------------------------------------------------------------------\u001b[0m",
                        "\u001b[0;31mOpenlayerInvalidRequest\u001b[0m                   Traceback (most recent call last)",
                        "Cell \u001b[0;32mIn[16], line 1\u001b[0m\n\u001b[0;32m----> 1\u001b[0m \u001b[43minference_pipeline\u001b[49m\u001b[38;5;241;43m.\u001b[39;49m\u001b[43mstream_data\u001b[49m\u001b[43m(\u001b[49m\n\u001b[1;32m      2\u001b[0m \u001b[43m    \u001b[49m\u001b[43mstream_data\u001b[49m\u001b[38;5;241;43m=\u001b[39;49m\u001b[43mstream_data\u001b[49m\u001b[43m,\u001b[49m\n\u001b[1;32m      3\u001b[0m \u001b[43m    \u001b[49m\u001b[43mstream_config\u001b[49m\u001b[38;5;241;43m=\u001b[39;49m\u001b[43mbatch_config\u001b[49m\n\u001b[1;32m      4\u001b[0m \u001b[43m)\u001b[49m\n",
                        "File \u001b[0;32m~/Desktop/openlayer-repos/openlayer-python-client/openlayer/inference_pipelines.py:311\u001b[0m, in \u001b[0;36mInferencePipeline.stream_data\u001b[0;34m(self, *args, **kwargs)\u001b[0m\n\u001b[1;32m    242\u001b[0m \u001b[38;5;28;01mdef\u001b[39;00m \u001b[38;5;21mstream_data\u001b[39m(\u001b[38;5;28mself\u001b[39m, \u001b[38;5;241m*\u001b[39margs, \u001b[38;5;241m*\u001b[39m\u001b[38;5;241m*\u001b[39mkwargs):\n\u001b[1;32m    243\u001b[0m \u001b[38;5;250m    \u001b[39m\u001b[38;5;124;03m\"\"\"Streams production data to the Openlayer platform.\u001b[39;00m\n\u001b[1;32m    244\u001b[0m \n\u001b[1;32m    245\u001b[0m \u001b[38;5;124;03m    Parameters\u001b[39;00m\n\u001b[0;32m   (...)\u001b[0m\n\u001b[1;32m    309\u001b[0m \u001b[38;5;124;03m    ... )\u001b[39;00m\n\u001b[1;32m    310\u001b[0m \u001b[38;5;124;03m    \"\"\"\u001b[39;00m\n\u001b[0;32m--> 311\u001b[0m     \u001b[38;5;28;01mreturn\u001b[39;00m \u001b[38;5;28;43mself\u001b[39;49m\u001b[38;5;241;43m.\u001b[39;49m\u001b[43mclient\u001b[49m\u001b[38;5;241;43m.\u001b[39;49m\u001b[43mstream_data\u001b[49m\u001b[43m(\u001b[49m\n\u001b[1;32m    312\u001b[0m \u001b[43m        \u001b[49m\u001b[38;5;241;43m*\u001b[39;49m\u001b[43margs\u001b[49m\u001b[43m,\u001b[49m\n\u001b[1;32m    313\u001b[0m \u001b[43m        \u001b[49m\u001b[43minference_pipeline_id\u001b[49m\u001b[38;5;241;43m=\u001b[39;49m\u001b[38;5;28;43mself\u001b[39;49m\u001b[38;5;241;43m.\u001b[39;49m\u001b[43mid\u001b[49m\u001b[43m,\u001b[49m\n\u001b[1;32m    314\u001b[0m \u001b[43m        \u001b[49m\u001b[43mtask_type\u001b[49m\u001b[38;5;241;43m=\u001b[39;49m\u001b[38;5;28;43mself\u001b[39;49m\u001b[38;5;241;43m.\u001b[39;49m\u001b[43mtaskType\u001b[49m\u001b[43m,\u001b[49m\n\u001b[1;32m    315\u001b[0m \u001b[43m        \u001b[49m\u001b[38;5;241;43m*\u001b[39;49m\u001b[38;5;241;43m*\u001b[39;49m\u001b[43mkwargs\u001b[49m\u001b[43m,\u001b[49m\n\u001b[1;32m    316\u001b[0m \u001b[43m    \u001b[49m\u001b[43m)\u001b[49m\n",
                        "File \u001b[0;32m~/Desktop/openlayer-repos/openlayer-python-client/openlayer/__init__.py:1108\u001b[0m, in \u001b[0;36mOpenlayerClient.stream_data\u001b[0;34m(self, inference_pipeline_id, task_type, stream_data, stream_config, stream_config_file_path)\u001b[0m\n\u001b[1;32m   1100\u001b[0m stream_config, stream_df \u001b[38;5;241m=\u001b[39m \u001b[38;5;28mself\u001b[39m\u001b[38;5;241m.\u001b[39m_add_default_columns(\n\u001b[1;32m   1101\u001b[0m     config\u001b[38;5;241m=\u001b[39mstream_config, df\u001b[38;5;241m=\u001b[39mstream_df\n\u001b[1;32m   1102\u001b[0m )\n\u001b[1;32m   1104\u001b[0m body \u001b[38;5;241m=\u001b[39m {\n\u001b[1;32m   1105\u001b[0m     \u001b[38;5;124m\"\u001b[39m\u001b[38;5;124mconfig\u001b[39m\u001b[38;5;124m\"\u001b[39m: stream_config,\n\u001b[1;32m   1106\u001b[0m     \u001b[38;5;124m\"\u001b[39m\u001b[38;5;124mrows\u001b[39m\u001b[38;5;124m\"\u001b[39m: stream_df\u001b[38;5;241m.\u001b[39mto_dict(orient\u001b[38;5;241m=\u001b[39m\u001b[38;5;124m\"\u001b[39m\u001b[38;5;124mrecords\u001b[39m\u001b[38;5;124m\"\u001b[39m),\n\u001b[1;32m   1107\u001b[0m }\n\u001b[0;32m-> 1108\u001b[0m \u001b[38;5;28;43mself\u001b[39;49m\u001b[38;5;241;43m.\u001b[39;49m\u001b[43mapi\u001b[49m\u001b[38;5;241;43m.\u001b[39;49m\u001b[43mpost_request\u001b[49m\u001b[43m(\u001b[49m\n\u001b[1;32m   1109\u001b[0m \u001b[43m    \u001b[49m\u001b[43mendpoint\u001b[49m\u001b[38;5;241;43m=\u001b[39;49m\u001b[38;5;124;43mf\u001b[39;49m\u001b[38;5;124;43m\"\u001b[39;49m\u001b[38;5;124;43minference-pipelines/\u001b[39;49m\u001b[38;5;132;43;01m{\u001b[39;49;00m\u001b[43minference_pipeline_id\u001b[49m\u001b[38;5;132;43;01m}\u001b[39;49;00m\u001b[38;5;124;43m/data-stream\u001b[39;49m\u001b[38;5;124;43m\"\u001b[39;49m\u001b[43m,\u001b[49m\n\u001b[1;32m   1110\u001b[0m \u001b[43m    \u001b[49m\u001b[43mbody\u001b[49m\u001b[38;5;241;43m=\u001b[39;49m\u001b[43mbody\u001b[49m\u001b[43m,\u001b[49m\n\u001b[1;32m   1111\u001b[0m \u001b[43m\u001b[49m\u001b[43m)\u001b[49m\n\u001b[1;32m   1112\u001b[0m \u001b[38;5;28mprint\u001b[39m(\u001b[38;5;124m\"\u001b[39m\u001b[38;5;124mStream published!\u001b[39m\u001b[38;5;124m\"\u001b[39m)\n",
                        "File \u001b[0;32m~/Desktop/openlayer-repos/openlayer-python-client/openlayer/api.py:160\u001b[0m, in \u001b[0;36mApi.post_request\u001b[0;34m(self, endpoint, body, files, data)\u001b[0m\n\u001b[1;32m    158\u001b[0m \u001b[38;5;28;01mdef\u001b[39;00m \u001b[38;5;21mpost_request\u001b[39m(\u001b[38;5;28mself\u001b[39m, endpoint: \u001b[38;5;28mstr\u001b[39m, body\u001b[38;5;241m=\u001b[39m\u001b[38;5;28;01mNone\u001b[39;00m, files\u001b[38;5;241m=\u001b[39m\u001b[38;5;28;01mNone\u001b[39;00m, data\u001b[38;5;241m=\u001b[39m\u001b[38;5;28;01mNone\u001b[39;00m):\n\u001b[1;32m    159\u001b[0m \u001b[38;5;250m    \u001b[39m\u001b[38;5;124;03m\"\"\"Generic POST Request Wrapper.\"\"\"\u001b[39;00m\n\u001b[0;32m--> 160\u001b[0m     \u001b[38;5;28;01mreturn\u001b[39;00m \u001b[38;5;28;43mself\u001b[39;49m\u001b[38;5;241;43m.\u001b[39;49m\u001b[43m_api_request\u001b[49m\u001b[43m(\u001b[49m\n\u001b[1;32m    161\u001b[0m \u001b[43m        \u001b[49m\u001b[38;5;124;43m\"\u001b[39;49m\u001b[38;5;124;43mPOST\u001b[39;49m\u001b[38;5;124;43m\"\u001b[39;49m\u001b[43m,\u001b[49m\n\u001b[1;32m    162\u001b[0m \u001b[43m        \u001b[49m\u001b[43mendpoint\u001b[49m\u001b[43m,\u001b[49m\n\u001b[1;32m    163\u001b[0m \u001b[43m        \u001b[49m\u001b[43mheaders\u001b[49m\u001b[38;5;241;43m=\u001b[39;49m\u001b[38;5;28;43mself\u001b[39;49m\u001b[38;5;241;43m.\u001b[39;49m\u001b[43m_headers\u001b[49m\n\u001b[1;32m    164\u001b[0m \u001b[43m        \u001b[49m\u001b[38;5;28;43;01mif\u001b[39;49;00m\u001b[43m \u001b[49m\u001b[43mfiles\u001b[49m\u001b[43m \u001b[49m\u001b[38;5;129;43;01mis\u001b[39;49;00m\u001b[43m \u001b[49m\u001b[38;5;28;43;01mNone\u001b[39;49;00m\n\u001b[1;32m    165\u001b[0m \u001b[43m        \u001b[49m\u001b[38;5;28;43;01melse\u001b[39;49;00m\u001b[43m \u001b[49m\u001b[38;5;28;43mself\u001b[39;49m\u001b[38;5;241;43m.\u001b[39;49m\u001b[43m_headers_multipart_form_data\u001b[49m\u001b[43m,\u001b[49m\n\u001b[1;32m    166\u001b[0m \u001b[43m        \u001b[49m\u001b[43mbody\u001b[49m\u001b[38;5;241;43m=\u001b[39;49m\u001b[43mbody\u001b[49m\u001b[43m,\u001b[49m\n\u001b[1;32m    167\u001b[0m \u001b[43m        \u001b[49m\u001b[43mfiles\u001b[49m\u001b[38;5;241;43m=\u001b[39;49m\u001b[43mfiles\u001b[49m\u001b[43m,\u001b[49m\n\u001b[1;32m    168\u001b[0m \u001b[43m        \u001b[49m\u001b[43mdata\u001b[49m\u001b[38;5;241;43m=\u001b[39;49m\u001b[43mdata\u001b[49m\u001b[43m,\u001b[49m\n\u001b[1;32m    169\u001b[0m \u001b[43m    \u001b[49m\u001b[43m)\u001b[49m\n",
                        "File \u001b[0;32m~/Desktop/openlayer-repos/openlayer-python-client/openlayer/api.py:150\u001b[0m, in \u001b[0;36mApi._api_request\u001b[0;34m(self, method, endpoint, headers, params, body, files, data)\u001b[0m\n\u001b[1;32m    148\u001b[0m     json \u001b[38;5;241m=\u001b[39m res\u001b[38;5;241m.\u001b[39mjson()\n\u001b[1;32m    149\u001b[0m \u001b[38;5;28;01melse\u001b[39;00m:\n\u001b[0;32m--> 150\u001b[0m     \u001b[38;5;28;43mself\u001b[39;49m\u001b[38;5;241;43m.\u001b[39;49m\u001b[43m_raise_on_respose\u001b[49m\u001b[43m(\u001b[49m\u001b[43mres\u001b[49m\u001b[43m)\u001b[49m\n\u001b[1;32m    152\u001b[0m \u001b[38;5;28;01mreturn\u001b[39;00m json\n",
                        "File \u001b[0;32m~/Desktop/openlayer-repos/openlayer-python-client/openlayer/api.py:128\u001b[0m, in \u001b[0;36mApi._raise_on_respose\u001b[0;34m(res)\u001b[0m\n\u001b[1;32m    125\u001b[0m     message \u001b[38;5;241m=\u001b[39m res\u001b[38;5;241m.\u001b[39mtext\n\u001b[1;32m    127\u001b[0m exception \u001b[38;5;241m=\u001b[39m ExceptionMap\u001b[38;5;241m.\u001b[39mget(res\u001b[38;5;241m.\u001b[39mstatus_code, OpenlayerException)\n\u001b[0;32m--> 128\u001b[0m \u001b[38;5;28;01mraise\u001b[39;00m exception(message, res\u001b[38;5;241m.\u001b[39mstatus_code)\n",
                        "\u001b[0;31mOpenlayerInvalidRequest\u001b[0m: <Response [400]> {'categoricalFeatureNames': ['Gender', 'Geography'], 'label': 'production', 'metadata': {}, 'predictionScoresColumnName': None, 'language': 'en', 'columnNames': ['CreditScore', 'Geography', 'Gender', 'Age', 'Tenure', 'Balance', 'NumOfProducts', 'HasCrCard', 'IsActiveMember', 'EstimatedSalary', 'AggregateRate', 'Year', 'predictions', 'inference_id', 'timestamp'], 'predictionsColumnName': 'predictions', 'inferenceIdColumnName': 'inference_id', 'sep': ',', 'classNames': ['Retained', 'Exited'], 'featureNames': ['CreditScore', 'Geography', 'Gender', 'Age', 'Tenure', 'Balance', 'NumOfProducts', 'HasCrCard', 'IsActiveMember', 'EstimatedSalary', 'AggregateRate', 'Year'], 'timestampColumnName': 'timestamp', 'labelColumnName': None, 'latencyColumnName': None} is not valid under any of the given schemas - 'config'"
                    ]
                }
            ],
            "source": [
                "inference_pipeline.stream_data(\n",
                "    stream_data=stream_data,\n",
                "    stream_config=batch_config\n",
                ")"
            ]
        },
        {
            "cell_type": "markdown",
            "id": "d00f6e8e",
            "metadata": {},
            "source": [
                "**That's it!** You're now able to set up tests and alerts for your production data. The next sections are optional and enable some features on the platform."
            ]
        },
        {
            "cell_type": "markdown",
            "id": "39592b32",
            "metadata": {},
            "source": [
                "## <a id=\"reference-dataset\"> 3. Uploading a reference dataset </a>\n",
                "\n",
                "[Back to top](#top)\n",
                "\n",
                "A reference dataset is optional, but it enables drift monitoring. Ideally, the reference dataset is a representative sample of the training set used to train the deployed model. In this section, we first load the dataset and then we upload it to Openlayer using the `upload_reference_dataframe` method."
            ]
        },
        {
            "cell_type": "code",
            "execution_count": null,
            "id": "31809ca9",
            "metadata": {},
            "outputs": [],
            "source": [
                "training_set = pd.read_csv(\"./churn_train.csv\")"
            ]
        },
        {
            "cell_type": "markdown",
            "id": "a6336802",
            "metadata": {},
            "source": [
                "### <a id=\"upload-reference\"> Uploading the dataset to Openlayer </a>"
            ]
        },
        {
            "cell_type": "code",
            "execution_count": null,
            "id": "0f8e23e3",
            "metadata": {},
            "outputs": [],
            "source": [
                "dataset_config = {\n",
                "    \"categoricalFeatureNames\": [\"Gender\", \"Geography\"],\n",
                "    \"classNames\": [\"Retained\", \"Exited\"],\n",
                "        \"featureNames\": [\n",
                "        \"CreditScore\", \n",
                "        \"Geography\",\n",
                "        \"Gender\",\n",
                "        \"Age\", \n",
                "        \"Tenure\",\n",
                "        \"Balance\",\n",
                "        \"NumOfProducts\",\n",
                "        \"HasCrCard\",\n",
                "        \"IsActiveMember\",\n",
                "        \"EstimatedSalary\",\n",
                "        \"AggregateRate\",\n",
                "        \"Year\"\n",
                "    ],\n",
                "    \"labelColumnName\": \"Exited\",\n",
                "    \"label\": \"reference\"\n",
                "}"
            ]
        },
        {
            "cell_type": "code",
            "execution_count": null,
            "id": "f6cf719f",
            "metadata": {},
            "outputs": [],
            "source": [
                "inference_pipeline.upload_reference_dataframe(\n",
                "    dataset_df=training_set,\n",
                "    dataset_config=dataset_config\n",
                ")"
            ]
        },
        {
            "cell_type": "markdown",
            "id": "fbc1fca3",
            "metadata": {},
            "source": [
                "## <a id=\"ground-truths\"> 4. Publishing ground truths for past batches </a>\n",
                "\n",
                "[Back to top](#top)\n",
                "\n",
                "The ground truths are needed to create Performance tests. The `publish_ground_truths` method can be used to update the ground truths for batches of data already published to the Openlayer platform. The inference id is what gets used to merge the ground truths with the corresponding rows."
            ]
        },
        {
            "cell_type": "code",
            "execution_count": null,
            "id": "03355dcf",
            "metadata": {},
            "outputs": [],
            "source": [
                "ground_truths = pd.read_csv(\"prod_ground_truths.csv\")"
            ]
        },
        {
            "cell_type": "markdown",
            "id": "903480c8",
            "metadata": {},
            "source": [
                "### <a id=\"publish-truth\">Publish ground truths </a>"
            ]
        },
        {
            "cell_type": "code",
            "execution_count": null,
            "id": "ccd906c2",
            "metadata": {},
            "outputs": [],
            "source": [
                "inference_pipeline.publish_ground_truths(\n",
                "    df=ground_truths,\n",
                "    ground_truth_column_name=\"Exited\",\n",
                "    inference_id_column_name=\"inference_id\",\n",
                ")"
            ]
        },
        {
            "cell_type": "code",
            "execution_count": null,
            "id": "f3749495",
            "metadata": {},
            "outputs": [],
            "source": []
        }
    ],
    "metadata": {
        "kernelspec": {
            "display_name": "Python 3 (ipykernel)",
            "language": "python",
            "name": "python3"
        },
        "language_info": {
            "codemirror_mode": {
                "name": "ipython",
                "version": 3
            },
            "file_extension": ".py",
            "mimetype": "text/x-python",
            "name": "python",
            "nbconvert_exporter": "python",
            "pygments_lexer": "ipython3",
            "version": "3.8.13"
        }
    },
    "nbformat": 4,
    "nbformat_minor": 5
}