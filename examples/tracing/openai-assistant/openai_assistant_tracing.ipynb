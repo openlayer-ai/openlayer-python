{
 "cells": [
  {
   "cell_type": "markdown",
   "id": "2722b419",
   "metadata": {},
   "source": [
    "[![Open In Colab](https://colab.research.google.com/assets/colab-badge.svg)](https://colab.research.google.com/github/openlayer-ai/openlayer-python/blob/main/examples/tracing/openai-assistant/openai_assistant_tracing.ipynb)\n",
    "\n",
    "\n",
    "# <a id=\"top\">OpenAI assistant monitoring</a>\n",
    "\n",
    "This notebook illustrates how to get started monitoring [OpenAI Assistants](https://platform.openai.com/docs/assistants/overview) with Openlayer."
   ]
  },
  {
   "cell_type": "code",
   "execution_count": null,
   "id": "020c8f6a",
   "metadata": {},
   "outputs": [],
   "source": [
    "!pip install openlayer"
   ]
  },
  {
   "cell_type": "markdown",
   "id": "75c2a473",
   "metadata": {},
   "source": [
    "## 1. Set the environment variables"
   ]
  },
  {
   "cell_type": "code",
   "execution_count": null,
   "id": "f3f4fa13",
   "metadata": {},
   "outputs": [],
   "source": [
    "import os\n",
    "\n",
    "import openai\n",
    "\n",
    "# OpenAI env variables\n",
    "os.environ[\"OPENAI_API_KEY\"] = \"YOUR_OPENAI_API_KEY_HERE\"\n",
    "\n",
    "# Openlayer env variables\n",
    "os.environ[\"OPENLAYER_API_KEY\"] = \"YOUR_OPENLAYER_API_KEY_HERE\"\n",
    "os.environ[\"OPENLAYER_INFERENCE_PIPELINE_ID\"] = \"YOUR_OPENLAYER_INFERENCE_PIPELINE_ID_HERE\""
   ]
  },
  {
   "cell_type": "markdown",
   "id": "9758533f",
   "metadata": {},
   "source": [
    "## 2. Instantiate the OpenAI client"
   ]
  },
  {
   "cell_type": "code",
   "execution_count": null,
   "id": "e60584fa",
   "metadata": {},
   "outputs": [],
   "source": [
    "openai_client = openai.OpenAI()"
   ]
  },
  {
   "cell_type": "markdown",
   "id": "72a6b954",
   "metadata": {},
   "source": [
    "## 3. Create assistant, thread, and run it"
   ]
  },
  {
   "cell_type": "code",
   "execution_count": null,
   "id": "c6983a9d",
   "metadata": {},
   "outputs": [],
   "source": [
    "# Create the assistant\n",
    "assistant = openai_client.beta.assistants.create(\n",
    "    name=\"Data visualizer\",\n",
    "    description=\"You are great at creating and explaining beautiful data visualizations.\",\n",
    "    model=\"gpt-4\",\n",
    "    tools=[{\"type\": \"code_interpreter\"}],\n",
    ")"
   ]
  },
  {
   "cell_type": "code",
   "execution_count": null,
   "id": "5b522ab2",
   "metadata": {},
   "outputs": [],
   "source": [
    "# Create a thread\n",
    "thread = openai_client.beta.threads.create(\n",
    "    messages=[\n",
    "        {\n",
    "            \"role\": \"user\",\n",
    "            \"content\": \"Create a data visualization of the american GDP.\",\n",
    "        }\n",
    "    ]\n",
    ")"
   ]
  },
  {
   "cell_type": "code",
   "execution_count": null,
   "id": "de7e048a",
   "metadata": {},
   "outputs": [],
   "source": [
    "# Run assistant on thread\n",
    "run = openai_client.beta.threads.runs.create(thread_id=thread.id, assistant_id=assistant.id)"
   ]
  },
  {
   "cell_type": "code",
   "execution_count": null,
   "id": "4d47c1f1",
   "metadata": {},
   "outputs": [],
   "source": [
    "import time\n",
    "\n",
    "from openlayer.lib import trace_openai_assistant_thread_run\n",
    "\n",
    "# Keep polling the run results\n",
    "while run.status != \"completed\":\n",
    "    run = openai_client.beta.threads.runs.retrieve(thread_id=thread.id, run_id=run.id)\n",
    "\n",
    "    # Trace the run with the Openlayer `trace_openai_assistant_thread_run`. If complete, the thread is sent to Openlayer\n",
    "    trace_openai_assistant_thread_run(openai_client, run)\n",
    "\n",
    "    time.sleep(5)"
   ]
  },
  {
   "cell_type": "code",
   "execution_count": null,
   "id": "b90a28d7",
   "metadata": {},
   "outputs": [],
   "source": []
  }
 ],
 "metadata": {
  "kernelspec": {
   "display_name": "Python 3 (ipykernel)",
   "language": "python",
   "name": "python3"
  },
  "language_info": {
   "codemirror_mode": {
    "name": "ipython",
    "version": 3
   },
   "file_extension": ".py",
   "mimetype": "text/x-python",
   "name": "python",
   "nbconvert_exporter": "python",
   "pygments_lexer": "ipython3",
   "version": "3.9.18"
  }
 },
 "nbformat": 4,
 "nbformat_minor": 5
}
