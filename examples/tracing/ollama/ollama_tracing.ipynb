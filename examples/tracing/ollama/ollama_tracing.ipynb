{
 "cells": [
  {
   "cell_type": "markdown",
   "id": "2722b419",
   "metadata": {},
   "source": [
    "[![Open In Colab](https://colab.research.google.com/assets/colab-badge.svg)](https://colab.research.google.com/github/openlayer-ai/openlayer-python/blob/main/examples/tracing/ollama/ollama_tracing.ipynb)\n",
    "\n",
    "\n",
    "# <a id=\"top\">Ollama tracing</a>\n",
    "\n",
    "This notebook illustrates how use Openlayer's callback handler to trace Ollama calls. \n",
    "\n",
    "Before running this notebook, make sure you first follow [these instructions](https://github.com/ollama/ollama) to set up and run a local Ollama instance."
   ]
  },
  {
   "cell_type": "code",
   "execution_count": null,
   "id": "020c8f6a",
   "metadata": {},
   "outputs": [],
   "source": [
    "!pip install openlayer langchain-ollama"
   ]
  },
  {
   "cell_type": "markdown",
   "id": "75c2a473",
   "metadata": {},
   "source": [
    "## 1. Set the environment variables"
   ]
  },
  {
   "cell_type": "code",
   "execution_count": null,
   "id": "f3f4fa13",
   "metadata": {},
   "outputs": [],
   "source": [
    "import os\n",
    "\n",
    "# Openlayer env variables\n",
    "os.environ[\"OPENLAYER_API_KEY\"] = \"YOUR_OPENLAYER_API_KEY_HERE\"\n",
    "os.environ[\"OPENLAYER_INFERENCE_PIPELINE_ID\"] = \"YOUR_OPENLAYER_INFERENCE_PIPELINE_ID_HERE\""
   ]
  },
  {
   "cell_type": "markdown",
   "id": "9758533f",
   "metadata": {},
   "source": [
    "## 2. Instantiate the `OpenlayerHandler`"
   ]
  },
  {
   "cell_type": "code",
   "execution_count": null,
   "id": "e60584fa",
   "metadata": {},
   "outputs": [],
   "source": [
    "from openlayer.lib.integrations import langchain_callback\n",
    "\n",
    "openlayer_handler = langchain_callback.OpenlayerHandler()"
   ]
  },
  {
   "cell_type": "markdown",
   "id": "76a350b4",
   "metadata": {},
   "source": [
    "## 3. Use an Ollama model with LangChain\n",
    "\n",
    "Now, you can pass the `openlayer_handler` as a callback to LLM's or chain invokations."
   ]
  },
  {
   "cell_type": "code",
   "execution_count": null,
   "id": "e00c1c79",
   "metadata": {},
   "outputs": [],
   "source": [
    "from langchain_ollama import ChatOllama"
   ]
  },
  {
   "cell_type": "code",
   "execution_count": null,
   "id": "abaf6987-c257-4f0d-96e7-3739b24c7206",
   "metadata": {},
   "outputs": [],
   "source": [
    "chat = ChatOllama(\n",
    "    model=\"llama3.1\",\n",
    "    callbacks=[openlayer_handler]\n",
    ")"
   ]
  },
  {
   "cell_type": "code",
   "execution_count": null,
   "id": "4123669f-aa28-47b7-8d46-ee898aba99e8",
   "metadata": {},
   "outputs": [],
   "source": [
    "chat.invoke(\"What's the meaning of life?\")"
   ]
  },
  {
   "cell_type": "markdown",
   "id": "9a702ad1-da68-4757-95a6-4661ddaef251",
   "metadata": {},
   "source": [
    "That's it! Now your data is being streamed to Openlayer after every invokation."
   ]
  },
  {
   "cell_type": "code",
   "execution_count": null,
   "id": "a3092828-3fbd-4f12-bae7-8de7f7319ff0",
   "metadata": {},
   "outputs": [],
   "source": []
  }
 ],
 "metadata": {
  "kernelspec": {
   "display_name": "Python 3 (ipykernel)",
   "language": "python",
   "name": "python3"
  },
  "language_info": {
   "codemirror_mode": {
    "name": "ipython",
    "version": 3
   },
   "file_extension": ".py",
   "mimetype": "text/x-python",
   "name": "python",
   "nbconvert_exporter": "python",
   "pygments_lexer": "ipython3",
   "version": "3.9.19"
  }
 },
 "nbformat": 4,
 "nbformat_minor": 5
}
