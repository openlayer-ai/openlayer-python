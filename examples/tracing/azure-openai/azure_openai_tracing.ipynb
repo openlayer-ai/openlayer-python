{
 "cells": [
  {
   "cell_type": "markdown",
   "id": "2722b419",
   "metadata": {},
   "source": [
    "[![Open In Colab](https://colab.research.google.com/assets/colab-badge.svg)](https://colab.research.google.com/github/openlayer-ai/openlayer-python/blob/main/examples/tracing/azure-openai/azure_openai_tracing.ipynb)\n",
    "\n",
    "\n",
    "# <a id=\"top\">Azure OpenAI LLM monitoring quickstart</a>\n",
    "\n",
    "This notebook illustrates how to get started monitoring Azure OpenAI LLMs with Openlayer."
   ]
  },
  {
   "cell_type": "code",
   "execution_count": null,
   "id": "020c8f6a",
   "metadata": {},
   "outputs": [],
   "source": [
    "!pip install openlayer"
   ]
  },
  {
   "cell_type": "markdown",
   "id": "75c2a473",
   "metadata": {},
   "source": [
    "## 1. Set the environment variables"
   ]
  },
  {
   "cell_type": "code",
   "execution_count": null,
   "id": "f3f4fa13",
   "metadata": {},
   "outputs": [],
   "source": [
    "import os\n",
    "import openai\n",
    "\n",
    "# Azure OpenAI env variables\n",
    "os.environ[\"AZURE_OPENAI_ENDPOINT\"] = \"YOUR_AZURE_OPENAI_ENDPOINT_HERE\"\n",
    "os.environ[\"AZURE_OPENAI_API_KEY\"] = \"YOUR_AZURE_OPENAI_API_KEY_HERE\"\n",
    "os.environ[\"AZURE_OPENAI_DEPLOYMENT_NAME\"] = \"YOUR_AZURE_OPENAI_DEPLOYMENT_NAME_HERE\"\n",
    "\n",
    "# Openlayer env variables\n",
    "os.environ[\"OPENLAYER_API_KEY\"] = \"YOUR_OPENLAYER_API_KEY_HERE\"\n",
    "os.environ[\"OPENLAYER_INFERENCE_PIPELINE_ID\"] = \"YOUR_OPENLAYER_INFERENCE_PIPELINE_ID_HERE\""
   ]
  },
  {
   "cell_type": "markdown",
   "id": "9758533f",
   "metadata": {},
   "source": [
    "## 2. Import the `trace_openai` function"
   ]
  },
  {
   "cell_type": "code",
   "execution_count": null,
   "id": "e60584fa",
   "metadata": {},
   "outputs": [],
   "source": [
    "from openlayer.lib import trace_openai\n",
    "\n",
    "from openai import AzureOpenAI\n",
    "\n",
    "azure_client = trace_openai(\n",
    "    AzureOpenAI(\n",
    "        api_key=os.environ.get(\"AZURE_OPENAI_API_KEY\"),\n",
    "        api_version=\"2024-02-01\",\n",
    "        azure_endpoint=os.environ.get(\"AZURE_OPENAI_ENDPOINT\"),\n",
    "    )\n",
    ")"
   ]
  },
  {
   "cell_type": "markdown",
   "id": "72a6b954",
   "metadata": {},
   "source": [
    "## 3. Use your traced Azure OpenAI client normally"
   ]
  },
  {
   "cell_type": "markdown",
   "id": "76a350b4",
   "metadata": {},
   "source": [
    "That's it! Now you can continue using your Azure OpenAI client normally. The data is automatically published to Openlayer and you can start creating tests around it!"
   ]
  },
  {
   "cell_type": "code",
   "execution_count": null,
   "id": "e00c1c79",
   "metadata": {},
   "outputs": [],
   "source": [
    "completion = azure_client.chat.completions.create(\n",
    "    model=os.environ.get(\"AZURE_OPENAI_DEPLOYMENT_NAME\"),\n",
    "    messages=[\n",
    "        {\"role\": \"user\", \"content\": \"How are you doing today?\"},\n",
    "    ],\n",
    ")"
   ]
  },
  {
   "cell_type": "code",
   "execution_count": null,
   "id": "abaf6987-c257-4f0d-96e7-3739b24c7206",
   "metadata": {},
   "outputs": [],
   "source": []
  }
 ],
 "metadata": {
  "kernelspec": {
   "display_name": "Python 3 (ipykernel)",
   "language": "python",
   "name": "python3"
  },
  "language_info": {
   "codemirror_mode": {
    "name": "ipython",
    "version": 3
   },
   "file_extension": ".py",
   "mimetype": "text/x-python",
   "name": "python",
   "nbconvert_exporter": "python",
   "pygments_lexer": "ipython3",
   "version": "3.9.18"
  }
 },
 "nbformat": 4,
 "nbformat_minor": 5
}
