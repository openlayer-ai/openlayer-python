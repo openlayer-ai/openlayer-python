{
 "cells": [
  {
   "cell_type": "markdown",
   "id": "intro",
   "metadata": {},
   "source": [
    "[![Open In Colab](https://colab.research.google.com/assets/colab-badge.svg)](https://colab.research.google.com/github/openlayer-ai/openlayer-python/blob/main/examples/tracing/offline_buffering.ipynb)\n",
    "\n",
    "\n",
    "# <a id=\"top\">Offline buffering for tracing</a>\n",
    "\n",
    "This notebook shows how to use offline buffering to handle network failures gracefully when tracing with Openlayer."
   ]
  },
  {
   "cell_type": "code",
   "execution_count": null,
   "id": "install",
   "metadata": {},
   "outputs": [],
   "source": [
    "!pip install openlayer"
   ]
  },
  {
   "cell_type": "markdown",
   "id": "setup",
   "metadata": {},
   "source": [
    "## 1. Configure with offline buffering"
   ]
  },
  {
   "cell_type": "code",
   "execution_count": null,
   "id": "config",
   "metadata": {},
   "outputs": [],
   "source": [
    "from openlayer.lib import trace, configure\n",
    "\n",
    "\n",
    "# Define a callback for when traces fail to send\n",
    "def on_failure(trace_data, config, error):  # noqa: ARG001\n",
    "    # Failed traces are automatically buffered when offline_buffer_enabled=True\n",
    "    pass\n",
    "\n",
    "# Configure tracer with offline buffering\n",
    "configure(\n",
    "    api_key=\"your_api_key\",\n",
    "    inference_pipeline_id=\"your_pipeline_id\",\n",
    "    on_flush_failure=on_failure,\n",
    "    offline_buffer_enabled=True,\n",
    "    offline_buffer_path=\"./buffer\",\n",
    "    max_buffer_size=100\n",
    ")"
   ]
  },
  {
   "cell_type": "markdown",
   "id": "usage",
   "metadata": {},
   "source": [
    "## 2. Use tracing normally"
   ]
  },
  {
   "cell_type": "code",
   "execution_count": null,
   "id": "trace",
   "metadata": {},
   "outputs": [],
   "source": [
    "@trace()\n",
    "def process_query(query: str) -> str:\n",
    "    return f\"Processed: {query}\"\n",
    "\n",
    "# If network fails, traces are automatically buffered\n",
    "result = process_query(\"What is AI?\")\n",
    "result"
   ]
  },
  {
   "cell_type": "markdown",
   "id": "status",
   "metadata": {},
   "source": [
    "## 3. Check buffer status"
   ]
  },
  {
   "cell_type": "code",
   "execution_count": null,
   "id": "check",
   "metadata": {},
   "outputs": [],
   "source": [
    "from openlayer.lib.tracing import tracer\n",
    "\n",
    "status = tracer.get_buffer_status()\n",
    "status"
   ]
  },
  {
   "cell_type": "markdown",
   "id": "replay",
   "metadata": {},
   "source": [
    "## 4. Replay buffered traces"
   ]
  },
  {
   "cell_type": "code",
   "execution_count": null,
   "id": "replay-code",
   "metadata": {},
   "outputs": [],
   "source": [
    "# When connectivity is restored, replay failed traces\n",
    "result = tracer.replay_buffered_traces()\n",
    "result"
   ]
  },
  {
   "cell_type": "markdown",
   "id": "summary",
   "metadata": {},
   "source": [
    "## Summary\n",
    "\n",
    "With offline buffering:\n",
    "\n",
    "- ✅ Failed traces are automatically saved locally\n",
    "- ✅ No data loss during network outages  \n",
    "- ✅ Easy replay when connectivity returns\n",
    "- ✅ Custom failure callbacks for monitoring"
   ]
  }
 ],
 "metadata": {
  "kernelspec": {
   "display_name": "Python 3 (ipykernel)",
   "language": "python",
   "name": "python3"
  },
  "language_info": {
   "codemirror_mode": {
    "name": "ipython",
    "version": 3
   },
   "file_extension": ".py",
   "mimetype": "text/x-python",
   "name": "python",
   "nbconvert_exporter": "python",
   "pygments_lexer": "ipython3",
   "version": "3.9.18"
  }
 },
 "nbformat": 4,
 "nbformat_minor": 5
}
