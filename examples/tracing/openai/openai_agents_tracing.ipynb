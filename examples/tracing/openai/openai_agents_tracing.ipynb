{
 "cells": [
  {
   "cell_type": "markdown",
   "metadata": {
    "vscode": {
     "languageId": "raw"
    }
   },
   "source": [
    "[![Open In Colab](https://colab.research.google.com/assets/colab-badge.svg)](https://colab.research.google.com/github/openlayer-ai/openlayer-python/blob/main/examples/tracing/openai/openai_agents_tracing.ipynb)\n",
    "\n",
    "# OpenAI Agents SDK with Openlayer Tracing\n",
    "\n",
    "This notebook demonstrates how to integrate **OpenAI Agents SDK** with **Openlayer** for comprehensive tracing and monitoring of multi-agent conversations.\n",
    "\n",
    "## What you'll learn:\n",
    "- How to set up OpenAI Agents SDK with Openlayer tracing\n",
    "- How to create multiple agents with different roles\n",
    "- How to implement handoffs between agents\n",
    "- How to use function tools in agents\n",
    "- How to monitor the complete conversation flow in Openlayer\n",
    "\n",
    "## Requirements:\n",
    "- OpenAI API key\n",
    "- Openlayer API key and Inference Pipeline ID\n",
    "- Internet connection for installing dependencies\n"
   ]
  },
  {
   "cell_type": "markdown",
   "metadata": {},
   "source": [
    "## 1. Installation\n",
    "\n",
    "First, let's install the required dependencies:\n"
   ]
  },
  {
   "cell_type": "code",
   "execution_count": null,
   "metadata": {},
   "outputs": [],
   "source": [
    "# Install OpenAI Agents SDK and Openlayer\n",
    "!pip install openai-agents openlayer"
   ]
  },
  {
   "cell_type": "markdown",
   "metadata": {
    "vscode": {
     "languageId": "raw"
    }
   },
   "source": [
    "## 2. Environment Variables Setup\n",
    "\n",
    "**⚠️ IMPORTANT**: Replace the placeholder values with your actual API keys:\n",
    "\n",
    "### Required Environment Variables:\n",
    "- **`OPENAI_API_KEY`**: Your OpenAI API key (get it from https://platform.openai.com/api-keys)\n",
    "- **`OPENLAYER_API_KEY`**: Your Openlayer API key (get it from your Openlayer dashboard)\n",
    "- **`OPENLAYER_INFERENCE_PIPELINE_ID`**: Your Openlayer inference pipeline ID (create one in your Openlayer dashboard)\n",
    "\n",
    "### How to get these:\n",
    "1. **OpenAI API Key**: Go to https://platform.openai.com/api-keys and create a new API key\n",
    "2. **Openlayer API Key**: Log into your Openlayer dashboard and go to Settings → API Keys\n",
    "3. **Inference Pipeline ID**: Create a new inference pipeline in your Openlayer dashboard and copy the ID\n"
   ]
  },
  {
   "cell_type": "code",
   "execution_count": null,
   "metadata": {},
   "outputs": [],
   "source": [
    "import os\n",
    "\n",
    "# Set up OpenAI API key\n",
    "os.environ[\"OPENAI_API_KEY\"] = \"YOUR_OPENAI_API_KEY_HERE\"\n",
    "\n",
    "# Set up Openlayer environment variables\n",
    "os.environ[\"OPENLAYER_INFERENCE_PIPELINE_ID\"] = \"YOUR_OPENLAYER_INFERENCE_PIPELINE_ID_HERE\"\n",
    "os.environ[\"OPENLAYER_API_KEY\"] = \"YOUR_OPENLAYER_API_KEY_HERE\"\n"
   ]
  },
  {
   "cell_type": "markdown",
   "metadata": {
    "vscode": {
     "languageId": "raw"
    }
   },
   "source": [
    "## 3. Imports and Setup\n",
    "\n",
    "Let's import all the necessary modules and set up logging for better debugging:\n"
   ]
  },
  {
   "cell_type": "code",
   "execution_count": null,
   "metadata": {},
   "outputs": [],
   "source": [
    "import uuid\n",
    "import random\n",
    "\n",
    "# OpenAI Agents SDK imports\n",
    "from agents import (\n",
    "    Agent,\n",
    "    Runner,\n",
    "    ItemHelpers,\n",
    "    ToolCallItem,\n",
    "    HandoffOutputItem,\n",
    "    MessageOutputItem,\n",
    "    RunContextWrapper,\n",
    "    ToolCallOutputItem,\n",
    "    trace as agent_trace,\n",
    "    handoff,\n",
    "    function_tool,\n",
    "    set_trace_processors,\n",
    ")\n",
    "from pydantic import BaseModel\n",
    "from agents.extensions.handoff_prompt import RECOMMENDED_PROMPT_PREFIX\n",
    "\n",
    "# Openlayer integration\n",
    "from openlayer.lib.integrations.openai_agents import OpenlayerTracerProcessor\n"
   ]
  },
  {
   "cell_type": "markdown",
   "metadata": {
    "vscode": {
     "languageId": "raw"
    }
   },
   "source": [
    "## 4. Configure Openlayer Tracing\n",
    "\n",
    "Now let's set up the Openlayer tracing processor. This will automatically capture all agent interactions and send them to Openlayer for monitoring:\n"
   ]
  },
  {
   "cell_type": "code",
   "execution_count": null,
   "metadata": {},
   "outputs": [],
   "source": [
    "# Set up Openlayer tracing processor\n",
    "set_trace_processors([\n",
    "    OpenlayerTracerProcessor(\n",
    "        service_name=\"airline_customer_service\",\n",
    "        version=\"1.0.0\",\n",
    "        environment=\"development\"\n",
    "    )\n",
    "])"
   ]
  },
  {
   "cell_type": "markdown",
   "metadata": {
    "vscode": {
     "languageId": "raw"
    }
   },
   "source": [
    "## 5. Define Context and Data Models\n",
    "\n",
    "Let's define the context model that will be shared across all agents. This helps maintain conversation state:\n"
   ]
  },
  {
   "cell_type": "code",
   "execution_count": null,
   "metadata": {},
   "outputs": [],
   "source": [
    "class AirlineAgentContext(BaseModel):\n",
    "    \"\"\"Context model to maintain conversation state across agents.\"\"\"\n",
    "    passenger_name: str | None = None\n",
    "    confirmation_number: str | None = None\n",
    "    seat_number: str | None = None\n",
    "    flight_number: str | None = None\n"
   ]
  },
  {
   "cell_type": "markdown",
   "metadata": {
    "vscode": {
     "languageId": "raw"
    }
   },
   "source": [
    "## 6. Create Function Tools\n",
    "\n",
    "Function tools are reusable functions that agents can call to perform specific tasks. Let's create tools for FAQ lookup and seat updates:\n"
   ]
  },
  {
   "cell_type": "code",
   "execution_count": null,
   "metadata": {},
   "outputs": [],
   "source": [
    "@function_tool(\n",
    "    name_override=\"faq_lookup_tool\",\n",
    "    description_override=\"Lookup frequently asked questions.\"\n",
    ")\n",
    "async def faq_lookup_tool(question: str) -> str:\n",
    "    \"\"\"Tool to answer frequently asked questions about the airline.\"\"\"\n",
    "    if \"bag\" in question or \"baggage\" in question:\n",
    "        return (\n",
    "            \"You are allowed to bring one bag on the plane. \"\n",
    "            \"It must be under 50 pounds and 22 inches x 14 inches x 9 inches.\"\n",
    "        )\n",
    "    elif \"seats\" in question or \"plane\" in question:\n",
    "        return (\n",
    "            \"There are 120 seats on the plane. \"\n",
    "            \"There are 22 business class seats and 98 economy seats. \"\n",
    "            \"Exit rows are rows 4 and 16. \"\n",
    "            \"Rows 5-8 are Economy Plus, with extra legroom. \"\n",
    "        )\n",
    "    elif \"wifi\" in question:\n",
    "        return \"We have free wifi on the plane, join Airline-Wifi\"\n",
    "    return \"I'm sorry, I don't know the answer to that question.\"\n",
    "\n",
    "\n",
    "@function_tool\n",
    "async def update_seat(\n",
    "    context: RunContextWrapper[AirlineAgentContext],\n",
    "    confirmation_number: str,\n",
    "    new_seat: str\n",
    ") -> str:\n",
    "    \"\"\"\n",
    "    Update the seat for a given confirmation number.\n",
    "\n",
    "    Args:\n",
    "        confirmation_number: The confirmation number for the flight.\n",
    "        new_seat: The new seat to update to.\n",
    "    \"\"\"\n",
    "    # Update the context based on the customer's input\n",
    "    context.context.confirmation_number = confirmation_number\n",
    "    context.context.seat_number = new_seat\n",
    "    # Ensure that the flight number has been set by the incoming handoff\n",
    "    assert context.context.flight_number is not None, \"Flight number is required\"\n",
    "    return f\"Updated seat to {new_seat} for confirmation number {confirmation_number}\""
   ]
  },
  {
   "cell_type": "markdown",
   "metadata": {
    "vscode": {
     "languageId": "raw"
    }
   },
   "source": [
    "## 7. Create Hook Functions\n",
    "\n",
    "Hooks are functions that run when specific events occur, such as agent handoffs. Let's create a hook for seat booking:\n"
   ]
  },
  {
   "cell_type": "code",
   "execution_count": null,
   "metadata": {},
   "outputs": [],
   "source": [
    "async def on_seat_booking_handoff(context: RunContextWrapper[AirlineAgentContext]) -> None:\n",
    "    \"\"\"Hook that runs when handing off to the seat booking agent.\"\"\"\n",
    "    # Generate a random flight number when booking seats\n",
    "    flight_number = f\"FLT-{random.randint(100, 999)}\"\n",
    "    context.context.flight_number = flight_number"
   ]
  },
  {
   "cell_type": "markdown",
   "metadata": {
    "vscode": {
     "languageId": "raw"
    }
   },
   "source": [
    "## 8. Create Specialized Agents\n",
    "\n",
    "Now let's create our specialized agents. Each agent has a specific role and set of tools:\n"
   ]
  },
  {
   "cell_type": "code",
   "execution_count": null,
   "metadata": {},
   "outputs": [],
   "source": [
    "# FAQ Agent - Handles frequently asked questions\n",
    "faq_agent = Agent[AirlineAgentContext](\n",
    "    name=\"FAQ Agent\",\n",
    "    handoff_description=\"A helpful agent that can answer questions about the airline.\",\n",
    "    instructions=f\"\"\"{RECOMMENDED_PROMPT_PREFIX}\n",
    "    You are an FAQ agent. If you are speaking to a customer, you probably were transferred to from the triage agent.\n",
    "    Use the following routine to support the customer.\n",
    "    # Routine\n",
    "    1. Identify the last question asked by the customer.\n",
    "    2. Use the faq lookup tool to answer the question. Do not rely on your own knowledge.\n",
    "    3. If you cannot answer the question, transfer back to the triage agent.\"\"\",\n",
    "    tools=[faq_lookup_tool],\n",
    ")\n",
    "\n",
    "# Seat Booking Agent - Handles seat changes and updates\n",
    "seat_booking_agent = Agent[AirlineAgentContext](\n",
    "    name=\"Seat Booking Agent\",\n",
    "    handoff_description=\"A helpful agent that can update a seat on a flight.\",\n",
    "    instructions=f\"\"\"{RECOMMENDED_PROMPT_PREFIX}\n",
    "    You are a seat booking agent. If you are speaking to a customer, you probably were transferred to from the triage agent.\n",
    "    Use the following routine to support the customer.\n",
    "    # Routine\n",
    "    1. Ask for their confirmation number.\n",
    "    2. Ask the customer what their desired seat number is.\n",
    "    3. Use the update seat tool to update the seat on the flight.\n",
    "    If the customer asks a question that is not related to the routine, transfer back to the triage agent. \"\"\",\n",
    "    tools=[update_seat],\n",
    ")\n",
    "\n",
    "# Triage Agent - Routes customers to the appropriate specialized agent\n",
    "triage_agent = Agent[AirlineAgentContext](\n",
    "    name=\"Triage Agent\",\n",
    "    handoff_description=\"A triage agent that can delegate a customer's request to the appropriate agent.\",\n",
    "    instructions=(\n",
    "        f\"{RECOMMENDED_PROMPT_PREFIX} \"\n",
    "        \"You are a helpful triaging agent. You can use your tools to delegate questions to other appropriate agents.\"\n",
    "    ),\n",
    "    handoffs=[\n",
    "        faq_agent,\n",
    "        handoff(agent=seat_booking_agent, on_handoff=on_seat_booking_handoff),\n",
    "    ],\n",
    ")\n",
    "\n",
    "# Set up bidirectional handoffs (agents can return to triage)\n",
    "faq_agent.handoffs.append(triage_agent)\n",
    "seat_booking_agent.handoffs.append(triage_agent)\n"
   ]
  },
  {
   "cell_type": "markdown",
   "metadata": {
    "vscode": {
     "languageId": "raw"
    }
   },
   "source": [
    "## 9. Create a Conversation Runner\n",
    "\n",
    "Now let's create a function to run a conversation with our agents:\n"
   ]
  },
  {
   "cell_type": "code",
   "execution_count": null,
   "metadata": {},
   "outputs": [],
   "source": [
    "async def run_conversation(user_input: str, conversation_id: str = None) -> str:\n",
    "    \"\"\"Run a single conversation turn with the agent system.\"\"\"\n",
    "    if conversation_id is None:\n",
    "        conversation_id = uuid.uuid4().hex[:16]\n",
    "\n",
    "    current_agent = triage_agent\n",
    "    context = AirlineAgentContext()\n",
    "\n",
    "    responses = []\n",
    "\n",
    "    # Wrap the agent execution in a trace for Openlayer monitoring\n",
    "    with agent_trace(\"Customer service\", group_id=conversation_id):\n",
    "        result = await Runner.run(current_agent, user_input, context=context)\n",
    "\n",
    "        # Process the results\n",
    "        for new_item in result.new_items:\n",
    "            agent_name = new_item.agent.name\n",
    "\n",
    "            if isinstance(new_item, MessageOutputItem):\n",
    "                message = ItemHelpers.text_message_output(new_item)\n",
    "                responses.append(f\"{agent_name}: {message}\")\n",
    "            elif isinstance(new_item, HandoffOutputItem):\n",
    "                handoff_msg = f\"Handed off from {new_item.source_agent.name} to {new_item.target_agent.name}\"\n",
    "                responses.append(handoff_msg)\n",
    "            elif isinstance(new_item, ToolCallItem):\n",
    "                responses.append(f\"{agent_name}: Calling a tool\")\n",
    "            elif isinstance(new_item, ToolCallOutputItem):\n",
    "                responses.append(f\"{agent_name}: Tool call output: {new_item.output}\")\n",
    "            else:\n",
    "                responses.append(f\"{agent_name}: {new_item.__class__.__name__}\")\n",
    "\n",
    "    return \"\\n\".join(responses)\n"
   ]
  },
  {
   "cell_type": "markdown",
   "metadata": {
    "vscode": {
     "languageId": "raw"
    }
   },
   "source": [
    "## 10. Test the Integration\n",
    "\n",
    "Let's test our multi-agent system with different types of queries. Each conversation will be automatically traced and sent to Openlayer:\n",
    "\n",
    "### Test 1: FAQ Query about Baggage\n"
   ]
  },
  {
   "cell_type": "code",
   "execution_count": null,
   "metadata": {},
   "outputs": [],
   "source": [
    "# Test FAQ functionality\n",
    "response = await run_conversation(\"What are the baggage restrictions?\")\n",
    "response\n"
   ]
  },
  {
   "cell_type": "markdown",
   "metadata": {
    "vscode": {
     "languageId": "raw"
    }
   },
   "source": [
    "### Test 2: Seat Booking Request\n"
   ]
  },
  {
   "cell_type": "code",
   "execution_count": null,
   "metadata": {},
   "outputs": [],
   "source": [
    "# Test seat booking functionality\n",
    "response = await run_conversation(\"I want to change my seat\")\n",
    "response\n"
   ]
  },
  {
   "cell_type": "markdown",
   "metadata": {
    "vscode": {
     "languageId": "raw"
    }
   },
   "source": [
    "### Test 3: Complex Multi-turn Conversation\n"
   ]
  },
  {
   "cell_type": "code",
   "execution_count": null,
   "metadata": {},
   "outputs": [],
   "source": [
    "# Test a more complex interaction\n",
    "response = await run_conversation(\"I need help with my flight. Can you tell me about the seats and also help me change mine?\")\n",
    "response\n"
   ]
  },
  {
   "cell_type": "code",
   "execution_count": null,
   "metadata": {},
   "outputs": [],
   "source": []
  }
 ],
 "metadata": {
  "kernelspec": {
   "display_name": "agents",
   "language": "python",
   "name": "python3"
  },
  "language_info": {
   "codemirror_mode": {
    "name": "ipython",
    "version": 3
   },
   "file_extension": ".py",
   "mimetype": "text/x-python",
   "name": "python",
   "nbconvert_exporter": "python",
   "pygments_lexer": "ipython3",
   "version": "3.10.14"
  }
 },
 "nbformat": 4,
 "nbformat_minor": 2
}
