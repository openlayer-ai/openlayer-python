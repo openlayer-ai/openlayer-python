{
 "cells": [
  {
   "cell_type": "markdown",
   "id": "intro",
   "metadata": {},
   "source": [
    "[![Open In Colab](https://colab.research.google.com/assets/colab-badge.svg)](https://colab.research.google.com/github/openlayer-ai/openlayer-python/blob/main/examples/tracing/openai/openai_parse_tracing.ipynb)\n",
    "\n",
    "\n",
    "# <a id=\"top\">OpenAI parse method monitoring with Openlayer</a>\n",
    "\n",
    "This notebook shows how to monitor OpenAI's `chat.completions.parse()` method for structured outputs with Openlayer."
   ]
  },
  {
   "cell_type": "code",
   "execution_count": null,
   "id": "install",
   "metadata": {},
   "outputs": [],
   "source": [
    "!pip install openlayer openai pydantic"
   ]
  },
  {
   "cell_type": "markdown",
   "id": "setup",
   "metadata": {},
   "source": [
    "## 1. Set the environment variables"
   ]
  },
  {
   "cell_type": "code",
   "execution_count": null,
   "id": "env-vars",
   "metadata": {},
   "outputs": [],
   "source": [
    "import os\n",
    "\n",
    "import openai\n",
    "from pydantic import BaseModel\n",
    "\n",
    "# OpenAI API key\n",
    "os.environ[\"OPENAI_API_KEY\"] = \"YOUR_OPENAI_API_KEY_HERE\"\n",
    "\n",
    "# Openlayer configuration\n",
    "os.environ[\"OPENLAYER_API_KEY\"] = \"YOUR_OPENLAYER_API_KEY_HERE\"\n",
    "os.environ[\"OPENLAYER_INFERENCE_PIPELINE_ID\"] = \"YOUR_OPENLAYER_INFERENCE_PIPELINE_ID_HERE\""
   ]
  },
  {
   "cell_type": "markdown",
   "id": "trace",
   "metadata": {},
   "source": [
    "## 2. Create traced OpenAI client"
   ]
  },
  {
   "cell_type": "code",
   "execution_count": null,
   "id": "create-client",
   "metadata": {},
   "outputs": [],
   "source": [
    "from openlayer.lib import trace_openai\n",
    "\n",
    "# Single function traces both create AND parse methods\n",
    "client = trace_openai(openai.OpenAI())"
   ]
  },
  {
   "cell_type": "markdown",
   "id": "model",
   "metadata": {},
   "source": [
    "## 3. Define Pydantic model"
   ]
  },
  {
   "cell_type": "code",
   "execution_count": null,
   "id": "define-model",
   "metadata": {},
   "outputs": [],
   "source": [
    "class Person(BaseModel):\n",
    "    name: str\n",
    "    age: int\n",
    "    occupation: str"
   ]
  },
  {
   "cell_type": "markdown",
   "id": "use-parse",
   "metadata": {},
   "source": [
    "## 4. Use parse method for structured output"
   ]
  },
  {
   "cell_type": "code",
   "execution_count": null,
   "id": "parse-example",
   "metadata": {},
   "outputs": [],
   "source": [
    "# Parse method automatically returns structured Pydantic object\n",
    "completion = client.chat.completions.parse(\n",
    "    model=\"gpt-4o-mini\",\n",
    "    messages=[\n",
    "        {\"role\": \"user\", \"content\": \"Extract: John Doe is 30 years old and works as a software engineer\"}\n",
    "    ],\n",
    "    response_format=Person,\n",
    ")\n",
    "\n",
    "person = completion.parsed\n",
    "person"
   ]
  },
  {
   "cell_type": "markdown",
   "id": "summary",
   "metadata": {},
   "source": [
    "## Summary\n",
    "\n",
    "The same `trace_openai()` function now supports:\n",
    "\n",
    "- ✅ **chat.completions.create()** - Traditional completions\n",
    "- ✅ **chat.completions.parse()** - Structured outputs with Pydantic/JSON Schema\n",
    "- ✅ **Automatic tracing** - Token usage, latency, and response quality\n",
    "- ✅ **Streaming support** - Both methods support streaming\n",
    "\n",
    "All traces are automatically sent to Openlayer!"
   ]
  }
 ],
 "metadata": {
  "kernelspec": {
   "display_name": "Python 3 (ipykernel)",
   "language": "python",
   "name": "python3"
  },
  "language_info": {
   "codemirror_mode": {
    "name": "ipython",
    "version": 3
   },
   "file_extension": ".py",
   "mimetype": "text/x-python",
   "name": "python",
   "nbconvert_exporter": "python",
   "pygments_lexer": "ipython3",
   "version": "3.9.18"
  }
 },
 "nbformat": 4,
 "nbformat_minor": 5
}
