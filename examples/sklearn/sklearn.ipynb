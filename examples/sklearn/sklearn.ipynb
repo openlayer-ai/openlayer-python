{
 "cells": [
  {
   "cell_type": "markdown",
   "id": "aa6d6893",
   "metadata": {},
   "source": [
    "## Build model"
   ]
  },
  {
   "cell_type": "code",
   "execution_count": 1,
   "id": "320d25d5",
   "metadata": {},
   "outputs": [],
   "source": [
    "import tempfile\n",
    "import numpy as np\n",
    "import pandas as pd\n",
    "from sklearn.feature_extraction.text import CountVectorizer\n",
    "from sklearn.linear_model import LogisticRegression\n",
    "from sklearn.metrics import classification_report, roc_auc_score, roc_curve\n",
    "from sklearn.pipeline import Pipeline"
   ]
  },
  {
   "cell_type": "code",
   "execution_count": 2,
   "id": "aff547a7",
   "metadata": {},
   "outputs": [
    {
     "name": "stdout",
     "output_type": "stream",
     "text": [
      "Archive:  ./data/trainingandtestdata.zip\n"
     ]
    }
   ],
   "source": [
    "%%bash\n",
    "\n",
    "if [ ! -d ./data ]; then\n",
    "    mkdir ./data\n",
    "fi\n",
    "\n",
    "if [ ! -f ./data/trainingandtestdata.zip ]; then\n",
    "    wget -q -O ./data/trainingandtestdata.zip http://cs.stanford.edu/people/alecmgo/trainingandtestdata.zip\n",
    "fi\n",
    "\n",
    "unzip -n ./data/trainingandtestdata.zip -d ./data"
   ]
  },
  {
   "cell_type": "code",
   "execution_count": 3,
   "id": "4dbaed99",
   "metadata": {},
   "outputs": [],
   "source": [
    "columns = ['polarity', 'tweetid', 'date', 'query_name', 'user', 'text']\n",
    "df_train_file_path = './data/training.1600000.processed.noemoticon.csv'\n",
    "df_train_name = 'training.1600000.processed.noemoticon'\n",
    "df_train = pd.read_csv(df_train_file_path,\n",
    "                      header=None,\n",
    "                      encoding='ISO-8859-1')\n",
    "\n",
    "df_test_file_path = './data/testdata.manual.2009.06.14.csv'\n",
    "df_test_name = 'testdata.manual.2009.06.14'\n",
    "df_test = pd.read_csv(df_test_file_path,\n",
    "                     header=None,\n",
    "                     encoding='ISO-8859-1')\n",
    "df_train.columns = columns\n",
    "df_test.columns = columns\n",
    "df_train.shape[0]\n",
    "\n",
    "df_train = df_train.sample(frac=1)[:160000]"
   ]
  },
  {
   "cell_type": "code",
   "execution_count": 4,
   "id": "45bd6017",
   "metadata": {},
   "outputs": [
    {
     "name": "stderr",
     "output_type": "stream",
     "text": [
      "/Users/gbayomi/opt/anaconda3/envs/stress/lib/python3.7/site-packages/sklearn/linear_model/_logistic.py:765: ConvergenceWarning: lbfgs failed to converge (status=1):\n",
      "STOP: TOTAL NO. of ITERATIONS REACHED LIMIT.\n",
      "\n",
      "Increase the number of iterations (max_iter) or scale the data as shown in:\n",
      "    https://scikit-learn.org/stable/modules/preprocessing.html\n",
      "Please also refer to the documentation for alternative solver options:\n",
      "    https://scikit-learn.org/stable/modules/linear_model.html#logistic-regression\n",
      "  extra_warning_msg=_LOGISTIC_SOLVER_CONVERGENCE_MSG)\n"
     ]
    },
    {
     "data": {
      "text/plain": [
       "Pipeline(steps=[('count_vect',\n",
       "                 CountVectorizer(min_df=100, ngram_range=(1, 2),\n",
       "                                 stop_words='english')),\n",
       "                ('lr', LogisticRegression())])"
      ]
     },
     "execution_count": 4,
     "metadata": {},
     "output_type": "execute_result"
    }
   ],
   "source": [
    "sentiment_lr = Pipeline([\n",
    "                         ('count_vect', CountVectorizer(min_df=100,\n",
    "                                                        ngram_range=(1,2),\n",
    "                                                        stop_words='english')), \n",
    "                         ('lr', LogisticRegression())])\n",
    "#sentiment_lr.fit(df_train.text, df_train.polarity)\n",
    "sentiment_lr.fit(df_train.text, df_train.polarity)"
   ]
  },
  {
   "cell_type": "code",
   "execution_count": 5,
   "id": "114f05a2",
   "metadata": {},
   "outputs": [
    {
     "name": "stdout",
     "output_type": "stream",
     "text": [
      "              precision    recall  f1-score   support\n",
      "\n",
      "           0       0.84      0.71      0.77       177\n",
      "           4       0.75      0.87      0.81       182\n",
      "\n",
      "    accuracy                           0.79       359\n",
      "   macro avg       0.80      0.79      0.79       359\n",
      "weighted avg       0.80      0.79      0.79       359\n",
      "\n"
     ]
    }
   ],
   "source": [
    "x_test, y_test = df_test.text[df_test.polarity != 2], df_test.polarity[df_test.polarity != 2]\n",
    "print(classification_report(y_test, sentiment_lr.predict(x_test)))"
   ]
  },
  {
   "cell_type": "code",
   "execution_count": 6,
   "id": "8ac3882d",
   "metadata": {},
   "outputs": [
    {
     "data": {
      "text/plain": [
       "array([4])"
      ]
     },
     "execution_count": 6,
     "metadata": {},
     "output_type": "execute_result"
    }
   ],
   "source": [
    "sentiment_lr.predict([x_test[0]])"
   ]
  },
  {
   "cell_type": "code",
   "execution_count": 7,
   "id": "def2a333",
   "metadata": {},
   "outputs": [
    {
     "data": {
      "text/plain": [
       "array([4, 0])"
      ]
     },
     "execution_count": 7,
     "metadata": {},
     "output_type": "execute_result"
    }
   ],
   "source": [
    "sentiment_lr.predict(['good', 'bad'])"
   ]
  },
  {
   "cell_type": "code",
   "execution_count": 8,
   "id": "0b64657e",
   "metadata": {},
   "outputs": [],
   "source": [
    "from predictor import predict_func\n",
    "def predict_function(model, text_list):\n",
    "    return predict_func(model, text_list)"
   ]
  },
  {
   "cell_type": "code",
   "execution_count": 9,
   "id": "116ef886",
   "metadata": {},
   "outputs": [
    {
     "data": {
      "text/plain": [
       "(array([[0.16322228, 0.83677772],\n",
       "        [0.20672419, 0.79327581],\n",
       "        [0.94389994, 0.05610006]]),\n",
       " ['negative', 'positive'],\n",
       " [0, 4])"
      ]
     },
     "execution_count": 9,
     "metadata": {},
     "output_type": "execute_result"
    }
   ],
   "source": [
    "texts = ['some new text, sweet noodles', 'happy time', 'sad day']\n",
    "predict_function(sentiment_lr, texts)"
   ]
  },
  {
   "cell_type": "markdown",
   "id": "proved-ground",
   "metadata": {},
   "source": [
    "### Predict function and model"
   ]
  },
  {
   "cell_type": "code",
   "execution_count": 10,
   "id": "engaged-finger",
   "metadata": {},
   "outputs": [
    {
     "data": {
      "text/plain": [
       "(array([[0.26012889, 0.73987111]]), ['negative', 'positive'], [0, 4])"
      ]
     },
     "execution_count": 10,
     "metadata": {},
     "output_type": "execute_result"
    }
   ],
   "source": [
    "predict_function(sentiment_lr, [\"great\"])"
   ]
  },
  {
   "cell_type": "markdown",
   "id": "printable-acrobat",
   "metadata": {},
   "source": [
    "# Unbox"
   ]
  },
  {
   "cell_type": "markdown",
   "id": "unable-approval",
   "metadata": {},
   "source": [
    "### Pack model"
   ]
  },
  {
   "cell_type": "code",
   "execution_count": 11,
   "id": "further-court",
   "metadata": {},
   "outputs": [
    {
     "name": "stdout",
     "output_type": "stream",
     "text": [
      "User is not logged in.\n"
     ]
    }
   ],
   "source": [
    "import unboxapi\n",
    "client = unboxapi.UnboxClient()"
   ]
  },
  {
   "cell_type": "code",
   "execution_count": 13,
   "id": "intensive-appreciation",
   "metadata": {},
   "outputs": [
    {
     "name": "stdout",
     "output_type": "stream",
     "text": [
      "[2021-05-12 12:21:47,523] INFO - BentoService bundle 'SklearnModel:20210512122144_1D24FF' saved to: /Users/gbayomi/bentoml/repository/SklearnModel/20210512122144_1D24FF\n"
     ]
    }
   ],
   "source": [
    "saved_path = client.pack_model(\n",
    "    function=predict_function, \n",
    "    model=sentiment_lr,\n",
    "    model_name=\"SklearnModel\",\n",
    "    local_imports=[\"predictor\"]\n",
    ")"
   ]
  },
  {
   "cell_type": "markdown",
   "id": "f5e63dc5",
   "metadata": {},
   "source": [
    "### Load"
   ]
  },
  {
   "cell_type": "code",
   "execution_count": 14,
   "id": "7b59d5f4",
   "metadata": {},
   "outputs": [],
   "source": [
    "import bentoml\n",
    "from pandas import DataFrame"
   ]
  },
  {
   "cell_type": "code",
   "execution_count": 15,
   "id": "c83652f9",
   "metadata": {},
   "outputs": [
    {
     "name": "stdout",
     "output_type": "stream",
     "text": [
      "[2021-05-12 12:21:54,812] WARNING - Module `template_model` already loaded, using existing imported module.\n",
      "[2021-05-12 12:21:56,377] WARNING - pip package requirement scikit-learn already exist\n"
     ]
    }
   ],
   "source": [
    "bento_model = bentoml.load(saved_path)"
   ]
  },
  {
   "cell_type": "markdown",
   "id": "4e7e3d50",
   "metadata": {},
   "source": [
    "### Test locally"
   ]
  },
  {
   "cell_type": "code",
   "execution_count": 16,
   "id": "00788aac",
   "metadata": {},
   "outputs": [
    {
     "data": {
      "text/plain": [
       "[{'negative': 0.26012888950640967, 'positive': 0.7398711104935903}]"
      ]
     },
     "execution_count": 16,
     "metadata": {},
     "output_type": "execute_result"
    }
   ],
   "source": [
    "bento_model.predict([{\"text\": \"great\"}])"
   ]
  },
  {
   "cell_type": "code",
   "execution_count": 17,
   "id": "detected-exception",
   "metadata": {},
   "outputs": [
    {
     "data": {
      "text/plain": [
       "[[{'negative': 0.26012888950640967, 'positive': 0.7398711104935903},\n",
       "  {'negative': 0.7937340674938305, 'positive': 0.2062659325061696}]]"
      ]
     },
     "execution_count": 17,
     "metadata": {},
     "output_type": "execute_result"
    }
   ],
   "source": [
    "bento_model.predictbatch([{\"batch\": [\"great\", \"terrible\"]}])"
   ]
  },
  {
   "cell_type": "code",
   "execution_count": 18,
   "id": "middle-desperate",
   "metadata": {},
   "outputs": [
    {
     "data": {
      "text/plain": [
       "[([0, 1], ['great', 'terrible'])]"
      ]
     },
     "execution_count": 18,
     "metadata": {},
     "output_type": "execute_result"
    }
   ],
   "source": [
    "bento_model.predictactive([{\"batch\": [\"great\", \"terrible\"], \"n_instances\": 2}])"
   ]
  },
  {
   "cell_type": "markdown",
   "id": "developmental-battlefield",
   "metadata": {},
   "source": [
    "### Test as an endpoint"
   ]
  },
  {
   "cell_type": "code",
   "execution_count": 19,
   "id": "incomplete-pound",
   "metadata": {},
   "outputs": [
    {
     "name": "stdout",
     "output_type": "stream",
     "text": [
      "[2021-05-12 12:22:20,313] INFO - Getting latest version SklearnModel:20210512122144_1D24FF\n",
      "[2021-05-12 12:22:23,588] INFO - {'service_name': 'SklearnModel', 'service_version': '20210512122144_1D24FF', 'api': 'predict', 'task': {'data': '{\"text\": \"Which baking dish is best to bake a banana bread ?\"}', 'task_id': '535c28ee-03aa-4182-a6bd-233ff86186eb', 'cli_args': ('--input', '{\"text\": \"Which baking dish is best to bake a banana bread ?\"}'), 'inference_job_args': {}}, 'result': {'data': '{\"negative\": 0.2729064092809028, \"positive\": 0.7270935907190972}', 'http_status': 200, 'http_headers': (('Content-Type', 'application/json'),)}, 'request_id': '535c28ee-03aa-4182-a6bd-233ff86186eb'}\n",
      "{\"negative\": 0.2729064092809028, \"positive\": 0.7270935907190972}\n"
     ]
    }
   ],
   "source": [
    "!bentoml run SklearnModel:latest predict --input '{\"text\": \"Which baking dish is best to bake a banana bread ?\"}'"
   ]
  },
  {
   "cell_type": "code",
   "execution_count": 20,
   "id": "rising-syndication",
   "metadata": {},
   "outputs": [
    {
     "name": "stdout",
     "output_type": "stream",
     "text": [
      "[2021-05-12 12:22:27,228] INFO - Getting latest version SklearnModel:20210512122144_1D24FF\n",
      "[2021-05-12 12:22:30,532] INFO - {'service_name': 'SklearnModel', 'service_version': '20210512122144_1D24FF', 'api': 'predictbatch', 'task': {'data': '{\"batch\": [\"great\", \"terrible\"]}', 'task_id': '1c16c044-c495-4e45-8a6b-46dee3be1eaa', 'cli_args': ('--input', '{\"batch\": [\"great\", \"terrible\"]}'), 'inference_job_args': {}}, 'result': {'data': '[{\"negative\": 0.26012888950640967, \"positive\": 0.7398711104935903}, {\"negative\": 0.7937340674938305, \"positive\": 0.2062659325061696}]', 'http_status': 200, 'http_headers': (('Content-Type', 'application/json'),)}, 'request_id': '1c16c044-c495-4e45-8a6b-46dee3be1eaa'}\n",
      "[{\"negative\": 0.26012888950640967, \"positive\": 0.7398711104935903}, {\"negative\": 0.7937340674938305, \"positive\": 0.2062659325061696}]\n"
     ]
    }
   ],
   "source": [
    "!bentoml run SklearnModel:latest predictbatch --input '{\"batch\": [\"great\", \"terrible\"]}'"
   ]
  },
  {
   "cell_type": "code",
   "execution_count": 21,
   "id": "coordinate-virtue",
   "metadata": {},
   "outputs": [
    {
     "name": "stdout",
     "output_type": "stream",
     "text": [
      "[2021-05-12 12:22:34,146] INFO - Getting latest version SklearnModel:20210512122144_1D24FF\n",
      "[2021-05-12 12:22:37,368] INFO - {'service_name': 'SklearnModel', 'service_version': '20210512122144_1D24FF', 'api': 'predictactive', 'task': {'data': '{\"batch\": [\"great\", \"terrible\"], \"n_instances\": 2}', 'task_id': '3d3b1920-d906-4e6a-99b1-5e194f52a9e9', 'cli_args': ('--input', '{\"batch\": [\"great\", \"terrible\"], \"n_instances\": 2}'), 'inference_job_args': {}}, 'result': {'data': '[[0, 1], [\"great\", \"terrible\"]]', 'http_status': 200, 'http_headers': (('Content-Type', 'application/json'),)}, 'request_id': '3d3b1920-d906-4e6a-99b1-5e194f52a9e9'}\n",
      "[[0, 1], [\"great\", \"terrible\"]]\n"
     ]
    }
   ],
   "source": [
    "!bentoml run SklearnModel:latest predictactive --input '{\"batch\": [\"great\", \"terrible\"], \"n_instances\": 2}'"
   ]
  },
  {
   "cell_type": "code",
   "execution_count": null,
   "id": "comprehensive-looking",
   "metadata": {},
   "outputs": [],
   "source": []
  }
 ],
 "metadata": {
  "kernelspec": {
   "display_name": "Python 3",
   "language": "python",
   "name": "python3"
  },
  "language_info": {
   "codemirror_mode": {
    "name": "ipython",
    "version": 3
   },
   "file_extension": ".py",
   "mimetype": "text/x-python",
   "name": "python",
   "nbconvert_exporter": "python",
   "pygments_lexer": "ipython3",
   "version": "3.8.8"
  }
 },
 "nbformat": 4,
 "nbformat_minor": 5
}
