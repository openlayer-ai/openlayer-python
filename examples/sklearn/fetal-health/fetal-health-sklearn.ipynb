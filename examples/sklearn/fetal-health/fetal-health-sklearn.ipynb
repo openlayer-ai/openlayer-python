{
 "cells": [
  {
   "cell_type": "code",
   "execution_count": 1,
   "metadata": {},
   "outputs": [],
   "source": [
    "import numpy as np\n",
    "from sklearn.metrics import accuracy_score\n",
    "from sklearn.linear_model import LogisticRegression\n",
    "from sklearn.svm import SVC\n",
    "from sklearn.gaussian_process import GaussianProcessClassifier\n",
    "from sklearn.gaussian_process.kernels import RBF\n",
    "from sklearn import datasets\n",
    "import pandas as pd\n",
    "\n",
    "from sklearn.model_selection import train_test_split\n",
    "from sklearn.metrics import classification_report"
   ]
  },
  {
   "cell_type": "code",
   "execution_count": 2,
   "metadata": {},
   "outputs": [],
   "source": [
    "df = pd.read_csv(\"fetal_health.csv\")"
   ]
  },
  {
   "cell_type": "code",
   "execution_count": 3,
   "metadata": {},
   "outputs": [],
   "source": [
    "df['fetal_health'] = df.fetal_health.astype(int)\n",
    "df['fetal_health'] = df['fetal_health'].map({3: 0, 1:1, 2:2})"
   ]
  },
  {
   "cell_type": "code",
   "execution_count": 4,
   "metadata": {},
   "outputs": [
    {
     "data": {
      "text/plain": [
       "array([2, 1, 0])"
      ]
     },
     "execution_count": 4,
     "metadata": {},
     "output_type": "execute_result"
    }
   ],
   "source": [
    "df.fetal_health.unique()"
   ]
  },
  {
   "cell_type": "code",
   "execution_count": 5,
   "metadata": {},
   "outputs": [],
   "source": [
    "train, test = train_test_split(df, test_size=0.2)"
   ]
  },
  {
   "cell_type": "code",
   "execution_count": 6,
   "metadata": {},
   "outputs": [],
   "source": [
    "x_train = train.loc[:, train.columns != 'fetal_health'].to_numpy()\n",
    "y_train = train['fetal_health'].to_numpy()\n",
    "x_test = test.loc[:, test.columns != 'fetal_health'].to_numpy()\n",
    "y_test = test['fetal_health'].to_numpy()"
   ]
  },
  {
   "cell_type": "code",
   "execution_count": 7,
   "metadata": {},
   "outputs": [],
   "source": [
    "clf = LogisticRegression(C=10, penalty='l1',\n",
    "                                      solver='saga',\n",
    "                                      multi_class='multinomial',\n",
    "                                      max_iter=10000)"
   ]
  },
  {
   "cell_type": "code",
   "execution_count": 8,
   "metadata": {},
   "outputs": [
    {
     "data": {
      "text/plain": [
       "LogisticRegression(C=10, max_iter=10000, multi_class='multinomial',\n",
       "                   penalty='l1', solver='saga')"
      ]
     },
     "execution_count": 8,
     "metadata": {},
     "output_type": "execute_result"
    }
   ],
   "source": [
    "clf.fit(x_train, y_train)"
   ]
  },
  {
   "cell_type": "code",
   "execution_count": 9,
   "metadata": {},
   "outputs": [
    {
     "name": "stdout",
     "output_type": "stream",
     "text": [
      "              precision    recall  f1-score   support\n",
      "\n",
      "           0       0.78      0.84      0.81        38\n",
      "           1       0.90      0.96      0.93       321\n",
      "           2       0.71      0.43      0.54        67\n",
      "\n",
      "    accuracy                           0.87       426\n",
      "   macro avg       0.80      0.75      0.76       426\n",
      "weighted avg       0.86      0.87      0.86       426\n",
      "\n"
     ]
    }
   ],
   "source": [
    "print(classification_report(y_test, clf.predict(x_test)))"
   ]
  },
  {
   "cell_type": "markdown",
   "metadata": {},
   "source": [
    "# UNBOX"
   ]
  },
  {
   "cell_type": "code",
   "execution_count": 10,
   "metadata": {},
   "outputs": [],
   "source": [
    "import unboxapi\n",
    "from unboxapi.tasks import TaskType\n",
    "from unboxapi.models import ModelType\n",
    "client = unboxapi.UnboxClient(\"22791537-9377-4328-bafb-e7b013c32e0c\")"
   ]
  },
  {
   "cell_type": "markdown",
   "metadata": {},
   "source": [
    "## Create function"
   ]
  },
  {
   "cell_type": "code",
   "execution_count": 11,
   "metadata": {},
   "outputs": [],
   "source": [
    "import numpy as np\n",
    "\n",
    "def predict_proba(model, input_features: np.ndarray):\n",
    "    return model.predict_proba(input_features)"
   ]
  },
  {
   "cell_type": "code",
   "execution_count": 12,
   "metadata": {},
   "outputs": [],
   "source": [
    "class_names = [\"Pathological\", \"Normal\", \"Suspect\"]"
   ]
  },
  {
   "cell_type": "code",
   "execution_count": 13,
   "metadata": {},
   "outputs": [],
   "source": [
    "feature_names = test.loc[:, test.columns != 'fetal_health'].columns.values.tolist()"
   ]
  },
  {
   "cell_type": "code",
   "execution_count": 14,
   "metadata": {},
   "outputs": [
    {
     "data": {
      "text/plain": [
       "{'_links': {'models': '/api/datasets/22/models',\n",
       "  'rows': '/api/datasets/22/rows',\n",
       "  'self': '/api/datasets/22',\n",
       "  'tags': '/api/datasets/22/tags'},\n",
       " 'classNameCounts': None,\n",
       " 'classNames': ['Pathological', 'Normal', 'Suspect'],\n",
       " 'columnNames': None,\n",
       " 'dateCreated': '2021-10-25T22:18:47.736745Z',\n",
       " 'description': 'this is my fetal health training demo dataset',\n",
       " 'featureNames': ['baseline value',\n",
       "  'accelerations',\n",
       "  'fetal_movement',\n",
       "  'uterine_contractions',\n",
       "  'light_decelerations',\n",
       "  'severe_decelerations',\n",
       "  'prolongued_decelerations',\n",
       "  'abnormal_short_term_variability',\n",
       "  'mean_value_of_short_term_variability',\n",
       "  'percentage_of_time_with_abnormal_long_term_variability',\n",
       "  'mean_value_of_long_term_variability',\n",
       "  'histogram_width',\n",
       "  'histogram_min',\n",
       "  'histogram_max',\n",
       "  'histogram_number_of_peaks',\n",
       "  'histogram_number_of_zeroes',\n",
       "  'histogram_mode',\n",
       "  'histogram_mean',\n",
       "  'histogram_median',\n",
       "  'histogram_variance',\n",
       "  'histogram_tendency'],\n",
       " 'id': 22,\n",
       " 'inProgressNotifications': ['dataset_22_save_dataset_rows'],\n",
       " 'labelColumnIndex': 21,\n",
       " 'language': 'en',\n",
       " 'modelCount': 0,\n",
       " 'name': 'Fetal Health Sklearn Train - N3',\n",
       " 'rowCount': 0,\n",
       " 'tagCount': 0,\n",
       " 'taskType': 'tabular-classification',\n",
       " 'version': 0}"
      ]
     },
     "execution_count": 14,
     "metadata": {},
     "output_type": "execute_result"
    }
   ],
   "source": [
    "from unboxapi.tasks import TaskType\n",
    "\n",
    "dataset = client.add_dataframe(\n",
    "    df=test,\n",
    "    class_names=class_names,\n",
    "    label_column_name='fetal_health',\n",
    "    name=\"Fetal Health Sklearn Train - N3\",\n",
    "    description='this is my fetal health training demo dataset',\n",
    "    task_type=TaskType.TabularClassification,\n",
    "    feature_names=feature_names,\n",
    ")\n",
    "dataset.to_dict()"
   ]
  },
  {
   "cell_type": "code",
   "execution_count": 18,
   "metadata": {},
   "outputs": [
    {
     "name": "stdout",
     "output_type": "stream",
     "text": [
      "Bundling model and artifacts...\n",
      "Uploading model to Unbox...\n"
     ]
    },
    {
     "data": {
      "text/plain": [
       "{'_links': {'datasets': '/api/models/9e716108-801d-4fea-80ea-55e0b92981f7/datasets',\n",
       "  'inferenceRuns': '/api/models/9e716108-801d-4fea-80ea-55e0b92981f7/inference-runs',\n",
       "  'runReports': '/api/models/9e716108-801d-4fea-80ea-55e0b92981f7/run-reports',\n",
       "  'self': '/api/models/9e716108-801d-4fea-80ea-55e0b92981f7'},\n",
       " 'classNames': ['Pathological', 'Normal', 'Suspect'],\n",
       " 'datasetCount': 0,\n",
       " 'dateCreated': '2021-10-25T22:19:56.333728Z',\n",
       " 'description': 'this is my second tabular classification model',\n",
       " 'featureNames': ['baseline value',\n",
       "  'accelerations',\n",
       "  'fetal_movement',\n",
       "  'uterine_contractions',\n",
       "  'light_decelerations',\n",
       "  'severe_decelerations',\n",
       "  'prolongued_decelerations',\n",
       "  'abnormal_short_term_variability',\n",
       "  'mean_value_of_short_term_variability',\n",
       "  'percentage_of_time_with_abnormal_long_term_variability',\n",
       "  'mean_value_of_long_term_variability',\n",
       "  'histogram_width',\n",
       "  'histogram_min',\n",
       "  'histogram_max',\n",
       "  'histogram_number_of_peaks',\n",
       "  'histogram_number_of_zeroes',\n",
       "  'histogram_mode',\n",
       "  'histogram_mean',\n",
       "  'histogram_median',\n",
       "  'histogram_variance',\n",
       "  'histogram_tendency'],\n",
       " 'featureSettings': None,\n",
       " 'id': '9e716108-801d-4fea-80ea-55e0b92981f7',\n",
       " 'inProgressNotifications': ['model_9e716108-801d-4fea-80ea-55e0b92981f7_create_endpoint'],\n",
       " 'inferenceRunCount': 0,\n",
       " 'modelApi': None,\n",
       " 'name': 'Fetal Classifier - N3',\n",
       " 'runReportCount': 0,\n",
       " 'taskType': 'tabular-classification',\n",
       " 'type': 'sklearn'}"
      ]
     },
     "execution_count": 18,
     "metadata": {},
     "output_type": "execute_result"
    }
   ],
   "source": [
    "model = client.add_model(\n",
    "    function=predict_proba, \n",
    "    model=clf,\n",
    "    model_type=ModelType.sklearn,\n",
    "    task_type=TaskType.TabularClassification,\n",
    "    class_names=class_names,\n",
    "    name='Fetal Classifier - N3',\n",
    "    description='this is my second tabular classification model',\n",
    "    feature_names=feature_names,\n",
    "    preprocessed_train_sample_df=train[:100],\n",
    ")\n",
    "model.to_dict()"
   ]
  },
  {
   "cell_type": "code",
   "execution_count": null,
   "metadata": {},
   "outputs": [],
   "source": []
  }
 ],
 "metadata": {
  "kernelspec": {
   "display_name": "Python 3 (ipykernel)",
   "language": "python",
   "name": "python3"
  },
  "language_info": {
   "codemirror_mode": {
    "name": "ipython",
    "version": 3
   },
   "file_extension": ".py",
   "mimetype": "text/x-python",
   "name": "python",
   "nbconvert_exporter": "python",
   "pygments_lexer": "ipython3",
   "version": "3.7.11"
  }
 },
 "nbformat": 4,
 "nbformat_minor": 1
}
