{
 "cells": [
  {
   "cell_type": "code",
   "execution_count": null,
   "id": "33179b0c",
   "metadata": {},
   "outputs": [],
   "source": [
    "import pandas as pd\n",
    "import numpy as np\n",
    "import json\n",
    "import pickle\n",
    "\n",
    "from sklearn.model_selection import train_test_split,GridSearchCV,cross_val_score,KFold\n",
    "from sklearn.preprocessing import StandardScaler  \n",
    "from sklearn.metrics import accuracy_score\n",
    "from sklearn.neighbors import KNeighborsClassifier\n",
    "from sklearn.discriminant_analysis import LinearDiscriminantAnalysis\n",
    "from sklearn.linear_model import LogisticRegression\n",
    "from sklearn.svm import SVC\n",
    "from sklearn.naive_bayes import GaussianNB\n",
    "from sklearn.tree import DecisionTreeClassifier\n",
    "from sklearn.ensemble import RandomForestClassifier,GradientBoostingClassifier,VotingClassifier,BaggingClassifier\n",
    "\n",
    "from sklearn.metrics import classification_report"
   ]
  },
  {
   "cell_type": "code",
   "execution_count": null,
   "id": "40472b51",
   "metadata": {},
   "outputs": [],
   "source": [
    "data = pd.read_csv(\"Churn_Modelling.csv\")"
   ]
  },
  {
   "cell_type": "code",
   "execution_count": null,
   "id": "679e0b36",
   "metadata": {},
   "outputs": [],
   "source": [
    "X = data.iloc[:, 3:-1]\n",
    "y = data.iloc[:, -1]"
   ]
  },
  {
   "cell_type": "code",
   "execution_count": null,
   "id": "204253ba",
   "metadata": {},
   "outputs": [],
   "source": [
    "def data_encode(df):\n",
    "    df = df.copy(True)\n",
    "    categorical_map = {}\n",
    "    for col in df.select_dtypes(include=['category','object']).columns:\n",
    "        codes,uniques = df[col].factorize(sort=True)\n",
    "        df[col]=codes\n",
    "        categorical_map[col] = list(uniques)\n",
    "    return df, categorical_map"
   ]
  },
  {
   "cell_type": "code",
   "execution_count": null,
   "id": "1b2b11c3",
   "metadata": {},
   "outputs": [],
   "source": [
    "X_enc, categorical_map = data_encode(X)"
   ]
  },
  {
   "cell_type": "code",
   "execution_count": null,
   "id": "91e7b366",
   "metadata": {},
   "outputs": [],
   "source": [
    "sklearn_model = LogisticRegression(random_state=1300)"
   ]
  },
  {
   "cell_type": "code",
   "execution_count": null,
   "id": "b76d541a",
   "metadata": {},
   "outputs": [],
   "source": [
    "x_train, x_val, y_train, y_val = train_test_split(X_enc, y, test_size = 0.2, random_state = 0)"
   ]
  },
  {
   "cell_type": "code",
   "execution_count": null,
   "id": "ee882b61",
   "metadata": {},
   "outputs": [],
   "source": [
    "sklearn_model.fit(x_train, y_train)"
   ]
  },
  {
   "cell_type": "code",
   "execution_count": null,
   "id": "a4f603d9",
   "metadata": {},
   "outputs": [],
   "source": [
    "print(classification_report(y_val, sklearn_model.predict(x_val)))"
   ]
  },
  {
   "cell_type": "code",
   "execution_count": null,
   "id": "5d0e0298",
   "metadata": {},
   "outputs": [],
   "source": [
    "class_names = [\"Retained\", \"Exited\"]\n",
    "feature_names = x_val.columns.values.tolist()"
   ]
  },
  {
   "cell_type": "markdown",
   "id": "f3c514e1",
   "metadata": {},
   "source": [
    "# UNBOX"
   ]
  },
  {
   "cell_type": "code",
   "execution_count": null,
   "id": "82a38cd9",
   "metadata": {},
   "outputs": [],
   "source": [
    "import unboxapi\n",
    "from unboxapi.tasks import TaskType\n",
    "from unboxapi.models import ModelType\n",
    "client = unboxapi.UnboxClient(\"YOUR_API_KEY_HERE\")"
   ]
  },
  {
   "cell_type": "markdown",
   "id": "bf6ce89a",
   "metadata": {},
   "source": [
    "## Create function"
   ]
  },
  {
   "cell_type": "code",
   "execution_count": null,
   "id": "d233987d",
   "metadata": {},
   "outputs": [],
   "source": [
    "def predict_proba(model, input_features: np.ndarray):\n",
    "    return model.predict_proba(input_features)"
   ]
  },
  {
   "cell_type": "code",
   "execution_count": null,
   "id": "674147b8",
   "metadata": {},
   "outputs": [],
   "source": [
    "predict_proba(sklearn_model, x_val[:10][feature_names].to_numpy())"
   ]
  },
  {
   "cell_type": "code",
   "execution_count": null,
   "id": "ebb1171a",
   "metadata": {},
   "outputs": [],
   "source": [
    "x_val['churn'] = y_val.values"
   ]
  },
  {
   "cell_type": "code",
   "execution_count": null,
   "id": "230f1aa6",
   "metadata": {},
   "outputs": [],
   "source": [
    "from unboxapi.tasks import TaskType\n",
    "\n",
    "dataset = client.add_dataframe(\n",
    "    df=x_val,\n",
    "    class_names=class_names,\n",
    "    label_column_name='churn',\n",
    "    name=\"Churn Validation\",\n",
    "    description='this is my churn dataset',\n",
    "    task_type=TaskType.TabularClassification,\n",
    "    feature_names=feature_names,\n",
    "    categorical_features_map=categorical_map,\n",
    ")\n",
    "dataset.to_dict()"
   ]
  },
  {
   "cell_type": "code",
   "execution_count": null,
   "id": "ace580e8",
   "metadata": {},
   "outputs": [],
   "source": [
    "model = client.add_model(\n",
    "    function=predict_proba, \n",
    "    model=sklearn_model,\n",
    "    model_type=ModelType.sklearn,\n",
    "    task_type=TaskType.TabularClassification,\n",
    "    class_names=class_names,\n",
    "    name='Churn Classifier',\n",
    "    description='this is my churn classification model',\n",
    "    feature_names=feature_names,\n",
    "    train_sample_df=x_train[:100],\n",
    "    categorical_features_map=categorical_map,\n",
    ")\n",
    "model.to_dict()"
   ]
  }
 ],
 "metadata": {
  "kernelspec": {
   "display_name": "Python 3 (ipykernel)",
   "language": "python",
   "name": "python3"
  },
  "language_info": {
   "codemirror_mode": {
    "name": "ipython",
    "version": 3
   },
   "file_extension": ".py",
   "mimetype": "text/x-python",
   "name": "python",
   "nbconvert_exporter": "python",
   "pygments_lexer": "ipython3",
   "version": "3.8.10"
  }
 },
 "nbformat": 4,
 "nbformat_minor": 5
}
