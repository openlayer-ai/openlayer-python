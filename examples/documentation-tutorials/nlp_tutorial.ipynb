{
  "nbformat": 4,
  "nbformat_minor": 0,
  "metadata": {
    "colab": {
      "name": "unbox-nlp-tutorial.ipynb",
      "provenance": [],
      "collapsed_sections": []
    },
    "kernelspec": {
      "name": "python3",
      "display_name": "Python 3"
    },
    "language_info": {
      "name": "python"
    }
  },
  "cells": [
    {
      "cell_type": "markdown",
      "source": [
        "## Installing the Python API and downloading the dataset"
      ],
      "metadata": {
        "id": "QbwwmVQCVOxl"
      }
    },
    {
      "cell_type": "code",
      "execution_count": null,
      "metadata": {
        "id": "LQqlZtF3vQUX",
        "colab": {
          "base_uri": "https://localhost:8080/"
        },
        "outputId": "a003a244-80e6-4326-87cf-49c503fdc895"
      },
      "outputs": [
        {
          "output_type": "stream",
          "name": "stdout",
          "text": [
            "Looking in indexes: https://pypi.org/simple, https://us-python.pkg.dev/colab-wheels/public/simple/\n",
            "Collecting unboxapi\n",
            "  Downloading unboxapi-0.1.2-py3-none-any.whl (15 kB)\n",
            "Collecting bentoml==0.13.1\n",
            "  Downloading BentoML-0.13.1-py3-none-any.whl (4.0 MB)\n",
            "\u001b[K     |████████████████████████████████| 4.0 MB 5.5 MB/s \n",
            "\u001b[?25hRequirement already satisfied: jupyter in /usr/local/lib/python3.7/dist-packages (from unboxapi) (1.0.0)\n",
            "Requirement already satisfied: requests in /usr/local/lib/python3.7/dist-packages (from unboxapi) (2.23.0)\n",
            "Requirement already satisfied: tqdm in /usr/local/lib/python3.7/dist-packages (from unboxapi) (4.64.0)\n",
            "Requirement already satisfied: pandas in /usr/local/lib/python3.7/dist-packages (from unboxapi) (1.3.5)\n",
            "Collecting simple-di\n",
            "  Downloading simple_di-0.1.5-py3-none-any.whl (9.8 kB)\n",
            "Collecting configparser\n",
            "  Downloading configparser-5.2.0-py3-none-any.whl (19 kB)\n",
            "Requirement already satisfied: flask in /usr/local/lib/python3.7/dist-packages (from bentoml==0.13.1->unboxapi) (1.1.4)\n",
            "Collecting deepmerge\n",
            "  Downloading deepmerge-1.0.1-py3-none-any.whl (8.0 kB)\n",
            "Requirement already satisfied: psutil in /usr/local/lib/python3.7/dist-packages (from bentoml==0.13.1->unboxapi) (5.4.8)\n",
            "Requirement already satisfied: click>=7.0 in /usr/local/lib/python3.7/dist-packages (from bentoml==0.13.1->unboxapi) (7.1.2)\n",
            "Collecting sqlalchemy<1.4.0,>=1.3.0\n",
            "  Downloading SQLAlchemy-1.3.24-cp37-cp37m-manylinux2010_x86_64.whl (1.3 MB)\n",
            "\u001b[K     |████████████████████████████████| 1.3 MB 42.6 MB/s \n",
            "\u001b[?25hRequirement already satisfied: numpy in /usr/local/lib/python3.7/dist-packages (from bentoml==0.13.1->unboxapi) (1.21.6)\n",
            "Collecting boto3\n",
            "  Downloading boto3-1.24.29-py3-none-any.whl (132 kB)\n",
            "\u001b[K     |████████████████████████████████| 132 kB 48.9 MB/s \n",
            "\u001b[?25hCollecting docker\n",
            "  Downloading docker-5.0.3-py2.py3-none-any.whl (146 kB)\n",
            "\u001b[K     |████████████████████████████████| 146 kB 49.0 MB/s \n",
            "\u001b[?25hRequirement already satisfied: tabulate in /usr/local/lib/python3.7/dist-packages (from bentoml==0.13.1->unboxapi) (0.8.10)\n",
            "Requirement already satisfied: urllib3<=1.25.11 in /usr/local/lib/python3.7/dist-packages (from bentoml==0.13.1->unboxapi) (1.24.3)\n",
            "Collecting cerberus\n",
            "  Downloading Cerberus-1.3.4.tar.gz (63 kB)\n",
            "\u001b[K     |████████████████████████████████| 63 kB 2.7 MB/s \n",
            "\u001b[?25h  Installing build dependencies ... \u001b[?25l\u001b[?25hdone\n",
            "  Getting requirements to build wheel ... \u001b[?25l\u001b[?25hdone\n",
            "    Preparing wheel metadata ... \u001b[?25l\u001b[?25hdone\n",
            "Collecting humanfriendly\n",
            "  Downloading humanfriendly-10.0-py2.py3-none-any.whl (86 kB)\n",
            "\u001b[K     |████████████████████████████████| 86 kB 6.7 MB/s \n",
            "\u001b[?25hRequirement already satisfied: prometheus-client in /usr/local/lib/python3.7/dist-packages (from bentoml==0.13.1->unboxapi) (0.14.1)\n",
            "Collecting aiohttp-cors==0.7.0\n",
            "  Downloading aiohttp_cors-0.7.0-py3-none-any.whl (27 kB)\n",
            "Collecting sqlalchemy-utils<0.36.8\n",
            "  Downloading SQLAlchemy-Utils-0.36.5.tar.gz (131 kB)\n",
            "\u001b[K     |████████████████████████████████| 131 kB 67.8 MB/s \n",
            "\u001b[?25hRequirement already satisfied: protobuf>=3.8.0 in /usr/local/lib/python3.7/dist-packages (from bentoml==0.13.1->unboxapi) (3.17.3)\n",
            "Requirement already satisfied: packaging in /usr/local/lib/python3.7/dist-packages (from bentoml==0.13.1->unboxapi) (21.3)\n",
            "Collecting python-json-logger\n",
            "  Downloading python_json_logger-2.0.4-py3-none-any.whl (7.8 kB)\n",
            "Requirement already satisfied: grpcio in /usr/local/lib/python3.7/dist-packages (from bentoml==0.13.1->unboxapi) (1.47.0)\n",
            "Collecting schema\n",
            "  Downloading schema-0.7.5-py2.py3-none-any.whl (17 kB)\n",
            "Collecting ruamel.yaml>=0.15.0\n",
            "  Downloading ruamel.yaml-0.17.21-py3-none-any.whl (109 kB)\n",
            "\u001b[K     |████████████████████████████████| 109 kB 35.2 MB/s \n",
            "\u001b[?25hCollecting alembic\n",
            "  Downloading alembic-1.8.1-py3-none-any.whl (209 kB)\n",
            "\u001b[K     |████████████████████████████████| 209 kB 41.9 MB/s \n",
            "\u001b[?25hRequirement already satisfied: python-dateutil<3.0.0,>=2.7.3 in /usr/local/lib/python3.7/dist-packages (from bentoml==0.13.1->unboxapi) (2.8.2)\n",
            "Collecting gunicorn\n",
            "  Downloading gunicorn-20.1.0-py3-none-any.whl (79 kB)\n",
            "\u001b[K     |████████████████████████████████| 79 kB 8.9 MB/s \n",
            "\u001b[?25hRequirement already satisfied: chardet in /usr/local/lib/python3.7/dist-packages (from bentoml==0.13.1->unboxapi) (3.0.4)\n",
            "Collecting aiohttp\n",
            "  Downloading aiohttp-3.8.1-cp37-cp37m-manylinux_2_5_x86_64.manylinux1_x86_64.manylinux_2_12_x86_64.manylinux2010_x86_64.whl (1.1 MB)\n",
            "\u001b[K     |████████████████████████████████| 1.1 MB 54.3 MB/s \n",
            "\u001b[?25hRequirement already satisfied: certifi in /usr/local/lib/python3.7/dist-packages (from bentoml==0.13.1->unboxapi) (2022.6.15)\n",
            "Collecting multidict<7.0,>=4.5\n",
            "  Downloading multidict-6.0.2-cp37-cp37m-manylinux_2_17_x86_64.manylinux2014_x86_64.whl (94 kB)\n",
            "\u001b[K     |████████████████████████████████| 94 kB 3.8 MB/s \n",
            "\u001b[?25hCollecting frozenlist>=1.1.1\n",
            "  Downloading frozenlist-1.3.0-cp37-cp37m-manylinux_2_5_x86_64.manylinux1_x86_64.manylinux_2_17_x86_64.manylinux2014_x86_64.whl (144 kB)\n",
            "\u001b[K     |████████████████████████████████| 144 kB 57.6 MB/s \n",
            "\u001b[?25hRequirement already satisfied: attrs>=17.3.0 in /usr/local/lib/python3.7/dist-packages (from aiohttp->bentoml==0.13.1->unboxapi) (21.4.0)\n",
            "Collecting asynctest==0.13.0\n",
            "  Downloading asynctest-0.13.0-py3-none-any.whl (26 kB)\n",
            "Requirement already satisfied: charset-normalizer<3.0,>=2.0 in /usr/local/lib/python3.7/dist-packages (from aiohttp->bentoml==0.13.1->unboxapi) (2.1.0)\n",
            "Collecting async-timeout<5.0,>=4.0.0a3\n",
            "  Downloading async_timeout-4.0.2-py3-none-any.whl (5.8 kB)\n",
            "Requirement already satisfied: typing-extensions>=3.7.4 in /usr/local/lib/python3.7/dist-packages (from aiohttp->bentoml==0.13.1->unboxapi) (4.1.1)\n",
            "Collecting aiosignal>=1.1.2\n",
            "  Downloading aiosignal-1.2.0-py3-none-any.whl (8.2 kB)\n",
            "Collecting yarl<2.0,>=1.0\n",
            "  Downloading yarl-1.7.2-cp37-cp37m-manylinux_2_5_x86_64.manylinux1_x86_64.manylinux_2_12_x86_64.manylinux2010_x86_64.whl (271 kB)\n",
            "\u001b[K     |████████████████████████████████| 271 kB 53.1 MB/s \n",
            "\u001b[?25hRequirement already satisfied: six>=1.9 in /usr/local/lib/python3.7/dist-packages (from protobuf>=3.8.0->bentoml==0.13.1->unboxapi) (1.15.0)\n",
            "Collecting ruamel.yaml.clib>=0.2.6\n",
            "  Downloading ruamel.yaml.clib-0.2.6-cp37-cp37m-manylinux1_x86_64.whl (546 kB)\n",
            "\u001b[K     |████████████████████████████████| 546 kB 55.7 MB/s \n",
            "\u001b[?25hRequirement already satisfied: idna>=2.0 in /usr/local/lib/python3.7/dist-packages (from yarl<2.0,>=1.0->aiohttp->bentoml==0.13.1->unboxapi) (2.10)\n",
            "Collecting Mako\n",
            "  Downloading Mako-1.2.1-py3-none-any.whl (78 kB)\n",
            "\u001b[K     |████████████████████████████████| 78 kB 8.3 MB/s \n",
            "\u001b[?25hRequirement already satisfied: importlib-metadata in /usr/local/lib/python3.7/dist-packages (from alembic->bentoml==0.13.1->unboxapi) (4.12.0)\n",
            "Requirement already satisfied: importlib-resources in /usr/local/lib/python3.7/dist-packages (from alembic->bentoml==0.13.1->unboxapi) (5.8.0)\n",
            "Collecting botocore<1.28.0,>=1.27.29\n",
            "  Downloading botocore-1.27.29-py3-none-any.whl (9.0 MB)\n",
            "\u001b[K     |████████████████████████████████| 9.0 MB 36.5 MB/s \n",
            "\u001b[?25hCollecting s3transfer<0.7.0,>=0.6.0\n",
            "  Downloading s3transfer-0.6.0-py3-none-any.whl (79 kB)\n",
            "\u001b[K     |████████████████████████████████| 79 kB 11.0 MB/s \n",
            "\u001b[?25hCollecting jmespath<2.0.0,>=0.7.1\n",
            "  Downloading jmespath-1.0.1-py3-none-any.whl (20 kB)\n",
            "Collecting urllib3<=1.25.11\n",
            "  Downloading urllib3-1.25.11-py2.py3-none-any.whl (127 kB)\n",
            "\u001b[K     |████████████████████████████████| 127 kB 28.0 MB/s \n",
            "\u001b[?25hRequirement already satisfied: setuptools in /usr/local/lib/python3.7/dist-packages (from cerberus->bentoml==0.13.1->unboxapi) (57.4.0)\n",
            "Collecting websocket-client>=0.32.0\n",
            "  Downloading websocket_client-1.3.3-py3-none-any.whl (54 kB)\n",
            "\u001b[K     |████████████████████████████████| 54 kB 3.2 MB/s \n",
            "\u001b[?25hRequirement already satisfied: itsdangerous<2.0,>=0.24 in /usr/local/lib/python3.7/dist-packages (from flask->bentoml==0.13.1->unboxapi) (1.1.0)\n",
            "Requirement already satisfied: Werkzeug<2.0,>=0.15 in /usr/local/lib/python3.7/dist-packages (from flask->bentoml==0.13.1->unboxapi) (1.0.1)\n",
            "Requirement already satisfied: Jinja2<3.0,>=2.10.1 in /usr/local/lib/python3.7/dist-packages (from flask->bentoml==0.13.1->unboxapi) (2.11.3)\n",
            "Requirement already satisfied: MarkupSafe>=0.23 in /usr/local/lib/python3.7/dist-packages (from Jinja2<3.0,>=2.10.1->flask->bentoml==0.13.1->unboxapi) (2.0.1)\n",
            "Requirement already satisfied: zipp>=0.5 in /usr/local/lib/python3.7/dist-packages (from importlib-metadata->alembic->bentoml==0.13.1->unboxapi) (3.8.0)\n",
            "Requirement already satisfied: qtconsole in /usr/local/lib/python3.7/dist-packages (from jupyter->unboxapi) (5.3.1)\n",
            "Requirement already satisfied: jupyter-console in /usr/local/lib/python3.7/dist-packages (from jupyter->unboxapi) (5.2.0)\n",
            "Requirement already satisfied: ipywidgets in /usr/local/lib/python3.7/dist-packages (from jupyter->unboxapi) (7.7.1)\n",
            "Requirement already satisfied: ipykernel in /usr/local/lib/python3.7/dist-packages (from jupyter->unboxapi) (4.10.1)\n",
            "Requirement already satisfied: notebook in /usr/local/lib/python3.7/dist-packages (from jupyter->unboxapi) (5.3.1)\n",
            "Requirement already satisfied: nbconvert in /usr/local/lib/python3.7/dist-packages (from jupyter->unboxapi) (5.6.1)\n",
            "Requirement already satisfied: traitlets>=4.1.0 in /usr/local/lib/python3.7/dist-packages (from ipykernel->jupyter->unboxapi) (5.1.1)\n",
            "Requirement already satisfied: ipython>=4.0.0 in /usr/local/lib/python3.7/dist-packages (from ipykernel->jupyter->unboxapi) (5.5.0)\n",
            "Requirement already satisfied: tornado>=4.0 in /usr/local/lib/python3.7/dist-packages (from ipykernel->jupyter->unboxapi) (5.1.1)\n",
            "Requirement already satisfied: jupyter-client in /usr/local/lib/python3.7/dist-packages (from ipykernel->jupyter->unboxapi) (5.3.5)\n",
            "Requirement already satisfied: decorator in /usr/local/lib/python3.7/dist-packages (from ipython>=4.0.0->ipykernel->jupyter->unboxapi) (4.4.2)\n",
            "Requirement already satisfied: pickleshare in /usr/local/lib/python3.7/dist-packages (from ipython>=4.0.0->ipykernel->jupyter->unboxapi) (0.7.5)\n",
            "Requirement already satisfied: pygments in /usr/local/lib/python3.7/dist-packages (from ipython>=4.0.0->ipykernel->jupyter->unboxapi) (2.6.1)\n",
            "Requirement already satisfied: simplegeneric>0.8 in /usr/local/lib/python3.7/dist-packages (from ipython>=4.0.0->ipykernel->jupyter->unboxapi) (0.8.1)\n",
            "Requirement already satisfied: prompt-toolkit<2.0.0,>=1.0.4 in /usr/local/lib/python3.7/dist-packages (from ipython>=4.0.0->ipykernel->jupyter->unboxapi) (1.0.18)\n",
            "Requirement already satisfied: pexpect in /usr/local/lib/python3.7/dist-packages (from ipython>=4.0.0->ipykernel->jupyter->unboxapi) (4.8.0)\n",
            "Requirement already satisfied: wcwidth in /usr/local/lib/python3.7/dist-packages (from prompt-toolkit<2.0.0,>=1.0.4->ipython>=4.0.0->ipykernel->jupyter->unboxapi) (0.2.5)\n",
            "Requirement already satisfied: widgetsnbextension~=3.6.0 in /usr/local/lib/python3.7/dist-packages (from ipywidgets->jupyter->unboxapi) (3.6.1)\n",
            "Requirement already satisfied: ipython-genutils~=0.2.0 in /usr/local/lib/python3.7/dist-packages (from ipywidgets->jupyter->unboxapi) (0.2.0)\n",
            "Requirement already satisfied: jupyterlab-widgets>=1.0.0 in /usr/local/lib/python3.7/dist-packages (from ipywidgets->jupyter->unboxapi) (1.1.1)\n",
            "Requirement already satisfied: Send2Trash in /usr/local/lib/python3.7/dist-packages (from notebook->jupyter->unboxapi) (1.8.0)\n",
            "Requirement already satisfied: nbformat in /usr/local/lib/python3.7/dist-packages (from notebook->jupyter->unboxapi) (5.4.0)\n",
            "Requirement already satisfied: jupyter-core>=4.4.0 in /usr/local/lib/python3.7/dist-packages (from notebook->jupyter->unboxapi) (4.11.1)\n",
            "Requirement already satisfied: terminado>=0.8.1 in /usr/local/lib/python3.7/dist-packages (from notebook->jupyter->unboxapi) (0.13.3)\n",
            "Requirement already satisfied: pyzmq>=13 in /usr/local/lib/python3.7/dist-packages (from jupyter-client->ipykernel->jupyter->unboxapi) (23.2.0)\n",
            "Requirement already satisfied: ptyprocess in /usr/local/lib/python3.7/dist-packages (from terminado>=0.8.1->notebook->jupyter->unboxapi) (0.7.0)\n",
            "Requirement already satisfied: bleach in /usr/local/lib/python3.7/dist-packages (from nbconvert->jupyter->unboxapi) (5.0.1)\n",
            "Requirement already satisfied: mistune<2,>=0.8.1 in /usr/local/lib/python3.7/dist-packages (from nbconvert->jupyter->unboxapi) (0.8.4)\n",
            "Requirement already satisfied: testpath in /usr/local/lib/python3.7/dist-packages (from nbconvert->jupyter->unboxapi) (0.6.0)\n",
            "Requirement already satisfied: entrypoints>=0.2.2 in /usr/local/lib/python3.7/dist-packages (from nbconvert->jupyter->unboxapi) (0.4)\n",
            "Requirement already satisfied: defusedxml in /usr/local/lib/python3.7/dist-packages (from nbconvert->jupyter->unboxapi) (0.7.1)\n",
            "Requirement already satisfied: pandocfilters>=1.4.1 in /usr/local/lib/python3.7/dist-packages (from nbconvert->jupyter->unboxapi) (1.5.0)\n",
            "Requirement already satisfied: fastjsonschema in /usr/local/lib/python3.7/dist-packages (from nbformat->notebook->jupyter->unboxapi) (2.15.3)\n",
            "Requirement already satisfied: jsonschema>=2.6 in /usr/local/lib/python3.7/dist-packages (from nbformat->notebook->jupyter->unboxapi) (4.3.3)\n",
            "Requirement already satisfied: pyrsistent!=0.17.0,!=0.17.1,!=0.17.2,>=0.14.0 in /usr/local/lib/python3.7/dist-packages (from jsonschema>=2.6->nbformat->notebook->jupyter->unboxapi) (0.18.1)\n",
            "Requirement already satisfied: webencodings in /usr/local/lib/python3.7/dist-packages (from bleach->nbconvert->jupyter->unboxapi) (0.5.1)\n",
            "Requirement already satisfied: pyparsing!=3.0.5,>=2.0.2 in /usr/local/lib/python3.7/dist-packages (from packaging->bentoml==0.13.1->unboxapi) (3.0.9)\n",
            "Requirement already satisfied: pytz>=2017.3 in /usr/local/lib/python3.7/dist-packages (from pandas->unboxapi) (2022.1)\n",
            "Requirement already satisfied: qtpy>=2.0.1 in /usr/local/lib/python3.7/dist-packages (from qtconsole->jupyter->unboxapi) (2.1.0)\n",
            "Requirement already satisfied: contextlib2>=0.5.5 in /usr/local/lib/python3.7/dist-packages (from schema->bentoml==0.13.1->unboxapi) (0.5.5)\n",
            "Building wheels for collected packages: sqlalchemy-utils, cerberus\n",
            "  Building wheel for sqlalchemy-utils (setup.py) ... \u001b[?25l\u001b[?25hdone\n",
            "  Created wheel for sqlalchemy-utils: filename=SQLAlchemy_Utils-0.36.5-py2.py3-none-any.whl size=93148 sha256=765b962cf686e01f029412847d2555140795b8523cd4a00a3bfb997bc8b64a22\n",
            "  Stored in directory: /root/.cache/pip/wheels/5e/68/7d/c641a758d1c29e38dcc10b04e9b137e8fbe3a7b8136d6aa24c\n",
            "  Building wheel for cerberus (PEP 517) ... \u001b[?25l\u001b[?25hdone\n",
            "  Created wheel for cerberus: filename=Cerberus-1.3.4-py3-none-any.whl size=58196 sha256=1ba71aa114f609f733a54e3a5b20afd3a02a8b4ecb118fdfbf97262c75a996be\n",
            "  Stored in directory: /root/.cache/pip/wheels/6c/bd/4b/a3b7dcd0bc718e601a9ba7cba5f7c1d73fd777b6dc48d6eaa0\n",
            "Successfully built sqlalchemy-utils cerberus\n",
            "Installing collected packages: urllib3, multidict, jmespath, frozenlist, yarl, botocore, asynctest, async-timeout, aiosignal, websocket-client, sqlalchemy, s3transfer, ruamel.yaml.clib, Mako, aiohttp, sqlalchemy-utils, simple-di, schema, ruamel.yaml, python-json-logger, humanfriendly, gunicorn, docker, deepmerge, configparser, cerberus, boto3, alembic, aiohttp-cors, bentoml, unboxapi\n",
            "  Attempting uninstall: urllib3\n",
            "    Found existing installation: urllib3 1.24.3\n",
            "    Uninstalling urllib3-1.24.3:\n",
            "      Successfully uninstalled urllib3-1.24.3\n",
            "  Attempting uninstall: sqlalchemy\n",
            "    Found existing installation: SQLAlchemy 1.4.39\n",
            "    Uninstalling SQLAlchemy-1.4.39:\n",
            "      Successfully uninstalled SQLAlchemy-1.4.39\n",
            "\u001b[31mERROR: pip's dependency resolver does not currently take into account all the packages that are installed. This behaviour is the source of the following dependency conflicts.\n",
            "datascience 0.10.6 requires folium==0.2.1, but you have folium 0.8.3 which is incompatible.\u001b[0m\n",
            "Successfully installed Mako-1.2.1 aiohttp-3.8.1 aiohttp-cors-0.7.0 aiosignal-1.2.0 alembic-1.8.1 async-timeout-4.0.2 asynctest-0.13.0 bentoml-0.13.1 boto3-1.24.29 botocore-1.27.29 cerberus-1.3.4 configparser-5.2.0 deepmerge-1.0.1 docker-5.0.3 frozenlist-1.3.0 gunicorn-20.1.0 humanfriendly-10.0 jmespath-1.0.1 multidict-6.0.2 python-json-logger-2.0.4 ruamel.yaml-0.17.21 ruamel.yaml.clib-0.2.6 s3transfer-0.6.0 schema-0.7.5 simple-di-0.1.5 sqlalchemy-1.3.24 sqlalchemy-utils-0.36.5 unboxapi-0.1.2 urllib3-1.25.11 websocket-client-1.3.3 yarl-1.7.2\n"
          ]
        }
      ],
      "source": [
        "!pip install unboxapi"
      ]
    },
    {
      "cell_type": "code",
      "source": [
        "!wget \"https://raw.githubusercontent.com/unboxai/artifacts/master/training.csv\""
      ],
      "metadata": {
        "colab": {
          "base_uri": "https://localhost:8080/"
        },
        "id": "0UXXMn8GVCwi",
        "outputId": "d15dc53c-f708-40c0-fb10-16e7aa26d99f"
      },
      "execution_count": null,
      "outputs": [
        {
          "output_type": "stream",
          "name": "stdout",
          "text": [
            "--2022-06-29 19:54:04--  https://raw.githubusercontent.com/unboxai/artifacts/master/training.csv\n",
            "Resolving raw.githubusercontent.com (raw.githubusercontent.com)... 185.199.108.133, 185.199.109.133, 185.199.110.133, ...\n",
            "Connecting to raw.githubusercontent.com (raw.githubusercontent.com)|185.199.108.133|:443... connected.\n",
            "HTTP request sent, awaiting response... 200 OK\n",
            "Length: 663037 (647K) [text/plain]\n",
            "Saving to: ‘training.csv’\n",
            "\n",
            "\rtraining.csv          0%[                    ]       0  --.-KB/s               \rtraining.csv        100%[===================>] 647.50K  --.-KB/s    in 0.008s  \n",
            "\n",
            "2022-06-29 19:54:04 (74.9 MB/s) - ‘training.csv’ saved [663037/663037]\n",
            "\n"
          ]
        }
      ]
    },
    {
      "cell_type": "markdown",
      "source": [
        "# Welcome to the Unbox NLP tutorial!\n",
        "\n",
        "We made our best to make it as simple as possible. You should use this notebook together with the tutorial from our documentation."
      ],
      "metadata": {
        "id": "kqVpPs6_vU-L"
      }
    },
    {
      "cell_type": "markdown",
      "source": [
        "## 1. Loading the dataset\n",
        "\n",
        "First, let's import the libraries we need and load the banking dataset."
      ],
      "metadata": {
        "id": "-zdJxUw0vifB"
      }
    },
    {
      "cell_type": "code",
      "source": [
        "import numpy as np\n",
        "import pandas as pd\n",
        "\n",
        "from sklearn.feature_extraction.text import CountVectorizer\n",
        "from sklearn.linear_model import LogisticRegression\n",
        "from sklearn.metrics import accuracy_score\n",
        "from sklearn.pipeline import Pipeline"
      ],
      "metadata": {
        "id": "Zzeis4-5vcwl"
      },
      "execution_count": null,
      "outputs": []
    },
    {
      "cell_type": "code",
      "source": [
        "# loading and having a look at the full banking dataset\n",
        "banking_dataset = pd.read_csv(\"training.csv\")\n",
        "\n",
        "banking_dataset.head()"
      ],
      "metadata": {
        "id": "l7AnoWwbvmZn",
        "colab": {
          "base_uri": "https://localhost:8080/",
          "height": 204
        },
        "outputId": "dfa5da91-e592-45be-9ab5-fe069d6967c6"
      },
      "execution_count": null,
      "outputs": [
        {
          "output_type": "execute_result",
          "data": {
            "text/plain": [
              "                                                text      category\n",
              "0                     I am still waiting on my card?  card_arrival\n",
              "1  What can I do if my card still hasn't arrived ...  card_arrival\n",
              "2  I have been waiting over a week. Is the card s...  card_arrival\n",
              "3  Can I track my card while it is in the process...  card_arrival\n",
              "4  How do I know if I will get my card, or if it ...  card_arrival"
            ],
            "text/html": [
              "\n",
              "  <div id=\"df-2b851dae-14c8-4316-817e-38a57090f94d\">\n",
              "    <div class=\"colab-df-container\">\n",
              "      <div>\n",
              "<style scoped>\n",
              "    .dataframe tbody tr th:only-of-type {\n",
              "        vertical-align: middle;\n",
              "    }\n",
              "\n",
              "    .dataframe tbody tr th {\n",
              "        vertical-align: top;\n",
              "    }\n",
              "\n",
              "    .dataframe thead th {\n",
              "        text-align: right;\n",
              "    }\n",
              "</style>\n",
              "<table border=\"1\" class=\"dataframe\">\n",
              "  <thead>\n",
              "    <tr style=\"text-align: right;\">\n",
              "      <th></th>\n",
              "      <th>text</th>\n",
              "      <th>category</th>\n",
              "    </tr>\n",
              "  </thead>\n",
              "  <tbody>\n",
              "    <tr>\n",
              "      <th>0</th>\n",
              "      <td>I am still waiting on my card?</td>\n",
              "      <td>card_arrival</td>\n",
              "    </tr>\n",
              "    <tr>\n",
              "      <th>1</th>\n",
              "      <td>What can I do if my card still hasn't arrived ...</td>\n",
              "      <td>card_arrival</td>\n",
              "    </tr>\n",
              "    <tr>\n",
              "      <th>2</th>\n",
              "      <td>I have been waiting over a week. Is the card s...</td>\n",
              "      <td>card_arrival</td>\n",
              "    </tr>\n",
              "    <tr>\n",
              "      <th>3</th>\n",
              "      <td>Can I track my card while it is in the process...</td>\n",
              "      <td>card_arrival</td>\n",
              "    </tr>\n",
              "    <tr>\n",
              "      <th>4</th>\n",
              "      <td>How do I know if I will get my card, or if it ...</td>\n",
              "      <td>card_arrival</td>\n",
              "    </tr>\n",
              "  </tbody>\n",
              "</table>\n",
              "</div>\n",
              "      <button class=\"colab-df-convert\" onclick=\"convertToInteractive('df-2b851dae-14c8-4316-817e-38a57090f94d')\"\n",
              "              title=\"Convert this dataframe to an interactive table.\"\n",
              "              style=\"display:none;\">\n",
              "        \n",
              "  <svg xmlns=\"http://www.w3.org/2000/svg\" height=\"24px\"viewBox=\"0 0 24 24\"\n",
              "       width=\"24px\">\n",
              "    <path d=\"M0 0h24v24H0V0z\" fill=\"none\"/>\n",
              "    <path d=\"M18.56 5.44l.94 2.06.94-2.06 2.06-.94-2.06-.94-.94-2.06-.94 2.06-2.06.94zm-11 1L8.5 8.5l.94-2.06 2.06-.94-2.06-.94L8.5 2.5l-.94 2.06-2.06.94zm10 10l.94 2.06.94-2.06 2.06-.94-2.06-.94-.94-2.06-.94 2.06-2.06.94z\"/><path d=\"M17.41 7.96l-1.37-1.37c-.4-.4-.92-.59-1.43-.59-.52 0-1.04.2-1.43.59L10.3 9.45l-7.72 7.72c-.78.78-.78 2.05 0 2.83L4 21.41c.39.39.9.59 1.41.59.51 0 1.02-.2 1.41-.59l7.78-7.78 2.81-2.81c.8-.78.8-2.07 0-2.86zM5.41 20L4 18.59l7.72-7.72 1.47 1.35L5.41 20z\"/>\n",
              "  </svg>\n",
              "      </button>\n",
              "      \n",
              "  <style>\n",
              "    .colab-df-container {\n",
              "      display:flex;\n",
              "      flex-wrap:wrap;\n",
              "      gap: 12px;\n",
              "    }\n",
              "\n",
              "    .colab-df-convert {\n",
              "      background-color: #E8F0FE;\n",
              "      border: none;\n",
              "      border-radius: 50%;\n",
              "      cursor: pointer;\n",
              "      display: none;\n",
              "      fill: #1967D2;\n",
              "      height: 32px;\n",
              "      padding: 0 0 0 0;\n",
              "      width: 32px;\n",
              "    }\n",
              "\n",
              "    .colab-df-convert:hover {\n",
              "      background-color: #E2EBFA;\n",
              "      box-shadow: 0px 1px 2px rgba(60, 64, 67, 0.3), 0px 1px 3px 1px rgba(60, 64, 67, 0.15);\n",
              "      fill: #174EA6;\n",
              "    }\n",
              "\n",
              "    [theme=dark] .colab-df-convert {\n",
              "      background-color: #3B4455;\n",
              "      fill: #D2E3FC;\n",
              "    }\n",
              "\n",
              "    [theme=dark] .colab-df-convert:hover {\n",
              "      background-color: #434B5C;\n",
              "      box-shadow: 0px 1px 3px 1px rgba(0, 0, 0, 0.15);\n",
              "      filter: drop-shadow(0px 1px 2px rgba(0, 0, 0, 0.3));\n",
              "      fill: #FFFFFF;\n",
              "    }\n",
              "  </style>\n",
              "\n",
              "      <script>\n",
              "        const buttonEl =\n",
              "          document.querySelector('#df-2b851dae-14c8-4316-817e-38a57090f94d button.colab-df-convert');\n",
              "        buttonEl.style.display =\n",
              "          google.colab.kernel.accessAllowed ? 'block' : 'none';\n",
              "\n",
              "        async function convertToInteractive(key) {\n",
              "          const element = document.querySelector('#df-2b851dae-14c8-4316-817e-38a57090f94d');\n",
              "          const dataTable =\n",
              "            await google.colab.kernel.invokeFunction('convertToInteractive',\n",
              "                                                     [key], {});\n",
              "          if (!dataTable) return;\n",
              "\n",
              "          const docLinkHtml = 'Like what you see? Visit the ' +\n",
              "            '<a target=\"_blank\" href=https://colab.research.google.com/notebooks/data_table.ipynb>data table notebook</a>'\n",
              "            + ' to learn more about interactive tables.';\n",
              "          element.innerHTML = '';\n",
              "          dataTable['output_type'] = 'display_data';\n",
              "          await google.colab.output.renderOutput(dataTable, element);\n",
              "          const docLink = document.createElement('div');\n",
              "          docLink.innerHTML = docLinkHtml;\n",
              "          element.appendChild(docLink);\n",
              "        }\n",
              "      </script>\n",
              "    </div>\n",
              "  </div>\n",
              "  "
            ]
          },
          "metadata": {},
          "execution_count": 4
        }
      ]
    },
    {
      "cell_type": "markdown",
      "source": [
        "The label we want to learn to predict is in the column `category`. However, we first need to encode it in a way that each category receives a label. We can easily do that with pandas."
      ],
      "metadata": {
        "id": "lHuPVtTsvorV"
      }
    },
    {
      "cell_type": "code",
      "source": [
        "banking_dataset['category'] = banking_dataset['category'].astype('category')\n",
        "banking_dataset['label_code'] = banking_dataset['category'].cat.codes"
      ],
      "metadata": {
        "id": "80g42rwQvr6c"
      },
      "execution_count": null,
      "outputs": []
    },
    {
      "cell_type": "markdown",
      "source": [
        "## 2. Getting the label list\n",
        "\n",
        "The label list is simply a list with the names of all the categories. This list will be passed as an argument when we upload our model and dataset to Unbox so that we can display them nicely."
      ],
      "metadata": {
        "id": "ICmutD8kvuxp"
      }
    },
    {
      "cell_type": "code",
      "source": [
        "label_dict = dict(zip(banking_dataset['category'].cat.codes, banking_dataset['category']))\n",
        "\n",
        "label_list = [None] * len(label_dict)\n",
        "for index, label in label_dict.items():\n",
        "    label_list[index] = label"
      ],
      "metadata": {
        "id": "r063P1fxvywu"
      },
      "execution_count": null,
      "outputs": []
    },
    {
      "cell_type": "markdown",
      "source": [
        "## 3. Splitting the data into training and validation sets\n",
        "\n",
        "Now, let's split the banking dataset into training and validation sets. To do so, we will shuffle the data and use the first 7000 rows as a training set and the remaining ones as a validation set."
      ],
      "metadata": {
        "id": "eAzVe49Qv4pc"
      }
    },
    {
      "cell_type": "code",
      "source": [
        "# shuffling the data\n",
        "banking_dataset = banking_dataset.sample(frac=1, random_state=42)  \n",
        "\n",
        "training_set = banking_dataset[:7000]\n",
        "validation_set = banking_dataset[7000:]"
      ],
      "metadata": {
        "id": "7_BdWiDDv2XY"
      },
      "execution_count": null,
      "outputs": []
    },
    {
      "cell_type": "markdown",
      "source": [
        "## 4. Training and evaluating our model\n",
        "\n",
        "We are going to train a logistic regression on the training data. Let's then check out what the model's performance is in the validation set."
      ],
      "metadata": {
        "id": "7z-icAuev_BX"
      }
    },
    {
      "cell_type": "code",
      "source": [
        "sklearn_model = Pipeline([('count_vect', CountVectorizer(ngram_range=(1,2), stop_words='english')), \n",
        "                          ('lr', LogisticRegression(random_state=42))])\n",
        "sklearn_model.fit(training_set['text'], training_set['label_code'])"
      ],
      "metadata": {
        "id": "K2RC3kbjwGSF",
        "colab": {
          "base_uri": "https://localhost:8080/"
        },
        "outputId": "31e9c500-df8b-4d4e-f5d0-f6c0984d2db5"
      },
      "execution_count": null,
      "outputs": [
        {
          "output_type": "execute_result",
          "data": {
            "text/plain": [
              "Pipeline(steps=[('count_vect',\n",
              "                 CountVectorizer(ngram_range=(1, 2), stop_words='english')),\n",
              "                ('lr', LogisticRegression(random_state=42))])"
            ]
          },
          "metadata": {},
          "execution_count": 8
        }
      ]
    },
    {
      "cell_type": "code",
      "source": [
        "print(\"The model's accuracy on the validation set is equal to: \" + \n",
        "      str(100 * accuracy_score(validation_set['label_code'], sklearn_model.predict(validation_set['text']))) + \"%\")"
      ],
      "metadata": {
        "id": "toWlNlkrwKzA",
        "colab": {
          "base_uri": "https://localhost:8080/"
        },
        "outputId": "c3c69f2b-8ea3-4d37-cf1a-d51698855a92"
      },
      "execution_count": null,
      "outputs": [
        {
          "output_type": "stream",
          "name": "stdout",
          "text": [
            "The model's accuracy on the validation set is equal to: 84.63073852295409%\n"
          ]
        }
      ]
    },
    {
      "cell_type": "markdown",
      "source": [
        "## 5. Unbox part -- have fun creating the next few cells!\n",
        "\n",
        "Now it's up to you!\n",
        "\n",
        "Head back to the tutorial to see how you need to fill out the next few cells."
      ],
      "metadata": {
        "id": "eFYCxIyLwNMx"
      }
    },
    {
      "cell_type": "code",
      "source": [
        "# instantiating the client\n",
        "import unboxapi\n",
        "\n",
        "client = unboxapi.UnboxClient('b132697b-97d3-4771-b014-90054cc31a7b')"
      ],
      "metadata": {
        "id": "jWtk_WjzwQ1F"
      },
      "execution_count": null,
      "outputs": []
    },
    {
      "cell_type": "code",
      "source": [
        "# defining the predict function\n",
        "def predict_function(model, text_list):\n",
        "    return model.predict_proba(text_list)"
      ],
      "metadata": {
        "id": "KhLUlavmwUrp"
      },
      "execution_count": null,
      "outputs": []
    },
    {
      "cell_type": "code",
      "source": [
        "# uploading the model\n",
        "from unboxapi.tasks import TaskType\n",
        "from unboxapi.models import ModelType\n",
        "\n",
        "unbox_model = client.add_model(\n",
        "    function=predict_function, \n",
        "    model=sklearn_model,\n",
        "    model_type=ModelType.sklearn,\n",
        "    task_type=TaskType.TextClassification,\n",
        "    class_names=label_list,\n",
        "    name=\"Banking Classifier\",\n",
        "    description=\"this is my sklearn banking model\"\n",
        ")\n",
        "\n",
        "unbox_model.to_dict()"
      ],
      "metadata": {
        "id": "PDlTQBYWwYB0",
        "colab": {
          "base_uri": "https://localhost:8080/"
        },
        "outputId": "18866b15-a8b0-4944-8680-d6e72e00bbf3"
      },
      "execution_count": null,
      "outputs": [
        {
          "output_type": "stream",
          "name": "stdout",
          "text": [
            "[2022-06-29 19:54:41,202] WARNING - pip package requirement `bentoml==0.13.1` not found in current python environment\n",
            "Bundling model and artifacts...\n",
            "Uploading model to Unbox...\n"
          ]
        },
        {
          "output_type": "stream",
          "name": "stderr",
          "text": [
            "100%|██████████| 4.88M/4.88M [00:00<00:00, 24.5MB/s]\n"
          ]
        },
        {
          "output_type": "execute_result",
          "data": {
            "text/plain": [
              "{'classNames': ['Refund_not_showing_up',\n",
              "  'age_limit',\n",
              "  'atm_support',\n",
              "  'automatic_top_up',\n",
              "  'balance_not_updated_after_cheque_or_cash_deposit',\n",
              "  'beneficiary_not_allowed',\n",
              "  'cancel_transfer',\n",
              "  'card_acceptance',\n",
              "  'card_arrival',\n",
              "  'card_delivery_estimate',\n",
              "  'card_linking',\n",
              "  'card_not_working',\n",
              "  'card_payment_fee_charged',\n",
              "  'card_payment_not_recognised',\n",
              "  'card_payment_wrong_exchange_rate',\n",
              "  'card_swallowed',\n",
              "  'change_pin',\n",
              "  'compromised_card',\n",
              "  'contactless_not_working',\n",
              "  'declined_card_payment',\n",
              "  'declined_cash_withdrawal',\n",
              "  'declined_transfer',\n",
              "  'direct_debit_payment_not_recognised',\n",
              "  'disposable_card_limits',\n",
              "  'edit_personal_details',\n",
              "  'exchange_rate',\n",
              "  'exchange_via_app',\n",
              "  'extra_charge_on_statement',\n",
              "  'failed_transfer',\n",
              "  'fiat_currency_support',\n",
              "  'get_physical_card',\n",
              "  'getting_spare_card',\n",
              "  'getting_virtual_card',\n",
              "  'lost_or_stolen_card',\n",
              "  'lost_or_stolen_phone',\n",
              "  'passcode_forgotten',\n",
              "  'pending_card_payment',\n",
              "  'pending_cash_withdrawal',\n",
              "  'pending_top_up',\n",
              "  'pending_transfer',\n",
              "  'pin_blocked',\n",
              "  'receiving_money',\n",
              "  'request_refund',\n",
              "  'reverted_card_payment?',\n",
              "  'supported_cards_and_currencies',\n",
              "  'terminate_account',\n",
              "  'top_up_by_bank_transfer_charge',\n",
              "  'top_up_by_cash_or_cheque',\n",
              "  'top_up_limits',\n",
              "  'top_up_reverted',\n",
              "  'topping_up_by_card',\n",
              "  'transaction_charged_twice',\n",
              "  'transfer_fee_charged',\n",
              "  'transfer_into_account',\n",
              "  'transfer_not_received_by_recipient',\n",
              "  'transfer_timing',\n",
              "  'unable_to_verify_identity',\n",
              "  'verify_source_of_funds',\n",
              "  'verify_top_up',\n",
              "  'visa_or_mastercard',\n",
              "  'why_verify_identity',\n",
              "  'wrong_amount_of_cash_received'],\n",
              " 'datasetCount': 0,\n",
              " 'dateCreated': '2022-06-29T19:54:42.245576Z',\n",
              " 'description': 'this is my sklearn banking model',\n",
              " 'featureNames': ['text'],\n",
              " 'featureSettings': None,\n",
              " 'id': 'c380f57c-43f2-4064-985e-abf24a611874',\n",
              " 'inProgressNotifications': ['model_c380f57c-43f2-4064-985e-abf24a611874_create_endpoint'],\n",
              " 'inferenceRunCount': 0,\n",
              " 'modelApi': None,\n",
              " 'name': 'Banking Classifier',\n",
              " 'projects': [],\n",
              " 'runReportCount': 0,\n",
              " 'taskType': 'text-classification',\n",
              " 'type': 'sklearn'}"
            ]
          },
          "metadata": {},
          "execution_count": 13
        }
      ]
    },
    {
      "cell_type": "code",
      "source": [
        "# uploading the dataset\n",
        "from unboxapi.tasks import TaskType\n",
        "\n",
        "dataset = client.add_dataframe(\n",
        "    df=validation_set,\n",
        "    class_names=label_list,\n",
        "    label_column_name=\"label_code\",\n",
        "    text_column_name=\"text\",\n",
        "    task_type=TaskType.TextClassification,\n",
        "    name=\"Banking Validation\",\n",
        "    description=\"my banking validation dataset\"\n",
        ")\n",
        "\n",
        "dataset.to_dict()"
      ],
      "metadata": {
        "id": "7k4UgkB5wZm1",
        "colab": {
          "base_uri": "https://localhost:8080/"
        },
        "outputId": "0789ddfa-3a5c-45e6-ad72-78d724a3990e"
      },
      "execution_count": null,
      "outputs": [
        {
          "output_type": "stream",
          "name": "stderr",
          "text": [
            "100%|██████████| 85.1k/85.1k [00:00<00:00, 908kB/s]\n"
          ]
        },
        {
          "output_type": "execute_result",
          "data": {
            "text/plain": [
              "{'classNameCounts': None,\n",
              " 'classNames': ['Refund_not_showing_up',\n",
              "  'age_limit',\n",
              "  'atm_support',\n",
              "  'automatic_top_up',\n",
              "  'balance_not_updated_after_cheque_or_cash_deposit',\n",
              "  'beneficiary_not_allowed',\n",
              "  'cancel_transfer',\n",
              "  'card_acceptance',\n",
              "  'card_arrival',\n",
              "  'card_delivery_estimate',\n",
              "  'card_linking',\n",
              "  'card_not_working',\n",
              "  'card_payment_fee_charged',\n",
              "  'card_payment_not_recognised',\n",
              "  'card_payment_wrong_exchange_rate',\n",
              "  'card_swallowed',\n",
              "  'change_pin',\n",
              "  'compromised_card',\n",
              "  'contactless_not_working',\n",
              "  'declined_card_payment',\n",
              "  'declined_cash_withdrawal',\n",
              "  'declined_transfer',\n",
              "  'direct_debit_payment_not_recognised',\n",
              "  'disposable_card_limits',\n",
              "  'edit_personal_details',\n",
              "  'exchange_rate',\n",
              "  'exchange_via_app',\n",
              "  'extra_charge_on_statement',\n",
              "  'failed_transfer',\n",
              "  'fiat_currency_support',\n",
              "  'get_physical_card',\n",
              "  'getting_spare_card',\n",
              "  'getting_virtual_card',\n",
              "  'lost_or_stolen_card',\n",
              "  'lost_or_stolen_phone',\n",
              "  'passcode_forgotten',\n",
              "  'pending_card_payment',\n",
              "  'pending_cash_withdrawal',\n",
              "  'pending_top_up',\n",
              "  'pending_transfer',\n",
              "  'pin_blocked',\n",
              "  'receiving_money',\n",
              "  'request_refund',\n",
              "  'reverted_card_payment?',\n",
              "  'supported_cards_and_currencies',\n",
              "  'terminate_account',\n",
              "  'top_up_by_bank_transfer_charge',\n",
              "  'top_up_by_cash_or_cheque',\n",
              "  'top_up_limits',\n",
              "  'top_up_reverted',\n",
              "  'topping_up_by_card',\n",
              "  'transaction_charged_twice',\n",
              "  'transfer_fee_charged',\n",
              "  'transfer_into_account',\n",
              "  'transfer_not_received_by_recipient',\n",
              "  'transfer_timing',\n",
              "  'unable_to_verify_identity',\n",
              "  'verify_source_of_funds',\n",
              "  'verify_top_up',\n",
              "  'visa_or_mastercard',\n",
              "  'why_verify_identity',\n",
              "  'wrong_amount_of_cash_received'],\n",
              " 'columnNames': None,\n",
              " 'columnSettings': None,\n",
              " 'dateCreated': '2022-06-29T19:54:43.106690Z',\n",
              " 'description': 'my banking validation dataset',\n",
              " 'featureNames': ['text'],\n",
              " 'id': 966,\n",
              " 'inProgressNotifications': ['dataset_966_save_dataset_rows'],\n",
              " 'labelColumnIndex': None,\n",
              " 'language': 'en',\n",
              " 'modelCount': 0,\n",
              " 'name': 'Banking Validation',\n",
              " 'projects': [],\n",
              " 'rowCount': 0,\n",
              " 'tagCount': 0,\n",
              " 'taskType': 'text-classification',\n",
              " 'version': 0}"
            ]
          },
          "metadata": {},
          "execution_count": 14
        }
      ]
    },
    {
      "cell_type": "code",
      "source": [
        ""
      ],
      "metadata": {
        "id": "ZEV1-n-2wbAh"
      },
      "execution_count": null,
      "outputs": []
    }
  ]
}