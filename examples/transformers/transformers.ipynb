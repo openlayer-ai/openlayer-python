{
 "cells": [
  {
   "cell_type": "markdown",
   "id": "functional-football",
   "metadata": {},
   "source": [
    "## Build model"
   ]
  },
  {
   "cell_type": "code",
   "execution_count": null,
   "id": "designing-oregon",
   "metadata": {},
   "outputs": [],
   "source": [
    "from transformers import AutoTokenizer, AutoModelForSequenceClassification\n",
    "from scipy.special import softmax"
   ]
  },
  {
   "cell_type": "code",
   "execution_count": null,
   "id": "noticed-buffer",
   "metadata": {},
   "outputs": [],
   "source": [
    "tokenizer = AutoTokenizer.from_pretrained(\n",
    "    \"distilbert-base-uncased-finetuned-sst-2-english\"\n",
    ")"
   ]
  },
  {
   "cell_type": "code",
   "execution_count": null,
   "id": "sonic-brief",
   "metadata": {},
   "outputs": [],
   "source": [
    "model = AutoModelForSequenceClassification.from_pretrained(\n",
    "    \"distilbert-base-uncased-finetuned-sst-2-english\"\n",
    ")"
   ]
  },
  {
   "cell_type": "code",
   "execution_count": null,
   "id": "auburn-idaho",
   "metadata": {},
   "outputs": [],
   "source": [
    "def predict_proba(model, texts, tokenizer):\n",
    "    \n",
    "    encodings = [\n",
    "        tokenizer.encode_plus(\n",
    "            text, return_tensors=\"pt\"\n",
    "        ) for text in texts]\n",
    "    \n",
    "    results = [\n",
    "        model(**encoding) for encoding in encodings\n",
    "    ]\n",
    "    \n",
    "    list_results = [\n",
    "        softmax(result[0].detach().numpy()[0]).tolist()\n",
    "        for result in results\n",
    "    ]\n",
    "        \n",
    "    return list_results"
   ]
  },
  {
   "cell_type": "code",
   "execution_count": null,
   "id": "civic-click",
   "metadata": {},
   "outputs": [],
   "source": [
    "predict_proba(model, [\"good\", \"bad\"], tokenizer)"
   ]
  },
  {
   "cell_type": "markdown",
   "id": "scientific-dubai",
   "metadata": {},
   "source": [
    "# UNBOX"
   ]
  },
  {
   "cell_type": "code",
   "execution_count": null,
   "id": "worldwide-german",
   "metadata": {},
   "outputs": [],
   "source": [
    "import unboxapi\n",
    "client = unboxapi.UnboxClient(\"ebcc2698-d638-11eb-938e-1e008a21a07a\")\n",
    "unboxapi.api.UNBOX_ENDPOINT = \"http://0.0.0.0:8080/api\" # Use this for local testing"
   ]
  },
  {
   "cell_type": "markdown",
   "id": "classified-machinery",
   "metadata": {},
   "source": [
    "# Package & Upload to Unbox"
   ]
  },
  {
   "cell_type": "markdown",
   "id": "valuable-witch",
   "metadata": {},
   "source": [
    "### Upload model"
   ]
  },
  {
   "cell_type": "code",
   "execution_count": null,
   "id": "judicial-contrast",
   "metadata": {},
   "outputs": [],
   "source": [
    "from unboxapi.models import ModelType\n",
    "\n",
    "model = client.add_model(\n",
    "    function=predict_proba, \n",
    "    model=model,\n",
    "    model_type=ModelType.transformers,\n",
    "    class_names=['negative', 'positive'],\n",
    "    name='transformers.sentiment_analyzer',\n",
    "    description='this is my transformers sentiment model',\n",
    "    tokenizer=tokenizer,\n",
    "    requirements_txt_file='./requirements.txt'\n",
    ")\n",
    "model.to_dict()"
   ]
  }
 ],
 "metadata": {
  "kernelspec": {
   "display_name": "Python 3",
   "language": "python",
   "name": "python3"
  },
  "language_info": {
   "codemirror_mode": {
    "name": "ipython",
    "version": 3
   },
   "file_extension": ".py",
   "mimetype": "text/x-python",
   "name": "python",
   "nbconvert_exporter": "python",
   "pygments_lexer": "ipython3",
   "version": "3.7.10"
  }
 },
 "nbformat": 4,
 "nbformat_minor": 5
}
