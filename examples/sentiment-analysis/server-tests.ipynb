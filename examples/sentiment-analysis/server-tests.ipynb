{
 "cells": [
  {
   "cell_type": "code",
   "execution_count": 1,
   "id": "proof-frequency",
   "metadata": {},
   "outputs": [],
   "source": [
    "from requests import get, post"
   ]
  },
  {
   "cell_type": "code",
   "execution_count": null,
   "id": "close-collective",
   "metadata": {},
   "outputs": [],
   "source": [
    "# create user\n",
    "payload = {\n",
    "    \"name\": \"rishab\",\n",
    "    \"email\": \"rishramanathan@gmail.com\",\n",
    "    \"password\": \"00000000\",\n",
    "    \"username\": \"rishramanathan\"\n",
    "}\n",
    "response = post('http://0.0.0.0:8080/api/users', json=payload)\n",
    "response.json()"
   ]
  },
  {
   "cell_type": "code",
   "execution_count": 2,
   "id": "ceramic-transaction",
   "metadata": {},
   "outputs": [],
   "source": [
    "# get token\n",
    "response = get('http://0.0.0.0:8080/api/tokens', auth=(\"rishramanathan@gmail.com\", \"00000000\"))\n",
    "token = response.json()[\"token\"]"
   ]
  },
  {
   "cell_type": "code",
   "execution_count": 5,
   "id": "saving-convention",
   "metadata": {},
   "outputs": [
    {
     "data": {
      "text/plain": [
       "{'_links': {'datasets': '/api/users/NbHswBQwqUaG2Z4Zxu3f6RRFcW43/datasets',\n",
       "  'models': '/api/users/NbHswBQwqUaG2Z4Zxu3f6RRFcW43/models',\n",
       "  'self': '/api/users/NbHswBQwqUaG2Z4Zxu3f6RRFcW43',\n",
       "  'tasks': '/api/users/NbHswBQwqUaG2Z4Zxu3f6RRFcW43/tasks'},\n",
       " 'datasetCount': 1,\n",
       " 'email': 'rishramanathan@gmail.com',\n",
       " 'id': 'NbHswBQwqUaG2Z4Zxu3f6RRFcW43',\n",
       " 'modelCount': 1,\n",
       " 'name': 'rishab',\n",
       " 'taskCount': 4,\n",
       " 'username': 'rishramanathan'}"
      ]
     },
     "execution_count": 5,
     "metadata": {},
     "output_type": "execute_result"
    }
   ],
   "source": [
    "# user\n",
    "response = get('http://0.0.0.0:8080/api/users', headers={\"Authorization\": f\"Bearer {token}\"})\n",
    "data = response.json()\n",
    "user_id = data['id']\n",
    "data"
   ]
  },
  {
   "cell_type": "code",
   "execution_count": null,
   "id": "drawn-promise",
   "metadata": {},
   "outputs": [],
   "source": [
    "# user's datasets\n",
    "response = get(f'http://0.0.0.0:8080/api/users/{user_id}/datasets', headers={\"Authorization\": f\"Bearer {token}\"})\n",
    "response.json()"
   ]
  },
  {
   "cell_type": "code",
   "execution_count": null,
   "id": "hairy-extent",
   "metadata": {},
   "outputs": [],
   "source": [
    "# user's models\n",
    "response = get(f'http://0.0.0.0:8080/api/users/{user_id}/models', headers={\"Authorization\": f\"Bearer {token}\"})\n",
    "response.json()"
   ]
  },
  {
   "cell_type": "code",
   "execution_count": 6,
   "id": "accurate-faith",
   "metadata": {},
   "outputs": [
    {
     "data": {
      "text/plain": [
       "{'_links': {'next': None,\n",
       "  'prev': None,\n",
       "  'self': '/api/users/NbHswBQwqUaG2Z4Zxu3f6RRFcW43/tasks?page=1&per_page=10'},\n",
       " '_meta': {'page': 1, 'perPage': 10, 'totalItems': 4, 'totalPages': 1},\n",
       " 'items': [{'_links': {'datasets': '/api/tasks/1/datasets',\n",
       "    'models': '/api/tasks/1/models',\n",
       "    'self': '/api/tasks/1',\n",
       "    'test_reports': '/api/tasks/1/test-reports',\n",
       "    'test_suites': '/api/tasks/1/test-suites'},\n",
       "   'datasetCount': 1,\n",
       "   'dateCreated': '2021-03-27T23:03:16.371201Z',\n",
       "   'description': None,\n",
       "   'id': 1,\n",
       "   'modelCount': 1,\n",
       "   'name': 'test',\n",
       "   'testReportCount': 0,\n",
       "   'testSuiteCount': 0},\n",
       "  {'_links': {'datasets': '/api/tasks/2/datasets',\n",
       "    'models': '/api/tasks/2/models',\n",
       "    'self': '/api/tasks/2',\n",
       "    'test_reports': '/api/tasks/2/test-reports',\n",
       "    'test_suites': '/api/tasks/2/test-suites'},\n",
       "   'datasetCount': 1,\n",
       "   'dateCreated': '2021-03-27T23:03:24.976638Z',\n",
       "   'description': None,\n",
       "   'id': 2,\n",
       "   'modelCount': 1,\n",
       "   'name': 'test',\n",
       "   'testReportCount': 26,\n",
       "   'testSuiteCount': 1},\n",
       "  {'_links': {'datasets': '/api/tasks/3/datasets',\n",
       "    'models': '/api/tasks/3/models',\n",
       "    'self': '/api/tasks/3',\n",
       "    'test_reports': '/api/tasks/3/test-reports',\n",
       "    'test_suites': '/api/tasks/3/test-suites'},\n",
       "   'datasetCount': 1,\n",
       "   'dateCreated': '2021-03-30T23:09:38.737790Z',\n",
       "   'description': None,\n",
       "   'id': 3,\n",
       "   'modelCount': 1,\n",
       "   'name': 'my ui task',\n",
       "   'testReportCount': 0,\n",
       "   'testSuiteCount': 0},\n",
       "  {'_links': {'datasets': '/api/tasks/4/datasets',\n",
       "    'models': '/api/tasks/4/models',\n",
       "    'self': '/api/tasks/4',\n",
       "    'test_reports': '/api/tasks/4/test-reports',\n",
       "    'test_suites': '/api/tasks/4/test-suites'},\n",
       "   'datasetCount': 1,\n",
       "   'dateCreated': '2021-03-30T23:09:43.188004Z',\n",
       "   'description': None,\n",
       "   'id': 4,\n",
       "   'modelCount': 1,\n",
       "   'name': 'my ui task',\n",
       "   'testReportCount': 0,\n",
       "   'testSuiteCount': 0}]}"
      ]
     },
     "execution_count": 6,
     "metadata": {},
     "output_type": "execute_result"
    }
   ],
   "source": [
    "# user's tasks\n",
    "response = get(f'http://0.0.0.0:8080/api/users/{user_id}/tasks', headers={\"Authorization\": f\"Bearer {token}\"})\n",
    "response.json()"
   ]
  },
  {
   "cell_type": "code",
   "execution_count": 7,
   "id": "painful-vessel",
   "metadata": {},
   "outputs": [
    {
     "data": {
      "text/plain": [
       "{'category': 'inv',\n",
       " 'confidenceThreshold': None,\n",
       " 'count': 20,\n",
       " 'countPerRow': 3,\n",
       " 'dateCreated': '2021-03-30T23:44:43.370403Z',\n",
       " 'description': None,\n",
       " 'directionalExpectation': None,\n",
       " 'id': 2,\n",
       " 'label': None,\n",
       " 'name': 'inv_test',\n",
       " 'perturbType': 'change_names',\n",
       " 'template': None}"
      ]
     },
     "execution_count": 7,
     "metadata": {},
     "output_type": "execute_result"
    }
   ],
   "source": [
    "# create test suite\n",
    "taskId = 2\n",
    "payload = {\n",
    "    \"name\": \"inv_test\",\n",
    "    \"count\": 20,\n",
    "    \"category\": \"inv\",\n",
    "    \"countPerRow\": 3,\n",
    "    \"perturbType\": \"change_names\",\n",
    "}\n",
    "response = post(f'http://0.0.0.0:8080/api/tasks/{taskId}/test-suites', headers={\"Authorization\": f\"Bearer {token}\"}, json=payload)\n",
    "response.json()"
   ]
  },
  {
   "cell_type": "code",
   "execution_count": 11,
   "id": "crazy-approval",
   "metadata": {},
   "outputs": [
    {
     "data": {
      "text/plain": [
       "{'_links': {'self': '/api/test-reports/29',\n",
       "  'test-runs': '/api/test-reports/29/test-runs'},\n",
       " 'datasetId': 1,\n",
       " 'dateCreated': '2021-03-31T00:13:14.371311Z',\n",
       " 'failCount': 0,\n",
       " 'id': 29,\n",
       " 'modelId': 'c24012ea-0485-4aa3-be17-a027e9841962',\n",
       " 'successCount': 2,\n",
       " 'taskId': 2,\n",
       " 'testSuiteId': 2}"
      ]
     },
     "execution_count": 11,
     "metadata": {},
     "output_type": "execute_result"
    }
   ],
   "source": [
    "# create test report\n",
    "taskId = 2\n",
    "payload = {\n",
    "    \"datasetId\": 1,\n",
    "    \"modelId\": \"c24012ea-0485-4aa3-be17-a027e9841962\",\n",
    "    \"testSuiteId\": 2,\n",
    "}\n",
    "response = post(f'http://0.0.0.0:8080/api/tasks/{taskId}/test-reports', headers={\"Authorization\": f\"Bearer {token}\"}, json=payload)\n",
    "response.json()"
   ]
  }
 ],
 "metadata": {
  "kernelspec": {
   "display_name": "Python 3",
   "language": "python",
   "name": "python3"
  },
  "language_info": {
   "codemirror_mode": {
    "name": "ipython",
    "version": 3
   },
   "file_extension": ".py",
   "mimetype": "text/x-python",
   "name": "python",
   "nbconvert_exporter": "python",
   "pygments_lexer": "ipython3",
   "version": "3.7.10"
  }
 },
 "nbformat": 4,
 "nbformat_minor": 5
}
