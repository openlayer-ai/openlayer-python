{
 "cells": [
  {
   "cell_type": "code",
   "execution_count": null,
   "id": "noticed-cassette",
   "metadata": {},
   "outputs": [],
   "source": [
    "from requests import get, post, put\n",
    "# url = \"https://unbox-flask-server-qpvun7qfdq-wn.a.run.app\"\n",
    "url = \"http://0.0.0.0:8080\""
   ]
  },
  {
   "cell_type": "code",
   "execution_count": null,
   "id": "passive-strategy",
   "metadata": {},
   "outputs": [],
   "source": [
    "# create user\n",
    "payload = {\n",
    "    \"name\": \"rishab\",\n",
    "    \"email\": \"rishramanathan@gmail.com\",\n",
    "    \"password\": \"00000000\",\n",
    "    \"username\": \"rishramanathan\"\n",
    "}\n",
    "response = post(f'{url}/api/users', json=payload)\n",
    "response.json()"
   ]
  },
  {
   "cell_type": "code",
   "execution_count": null,
   "id": "comic-agriculture",
   "metadata": {},
   "outputs": [],
   "source": [
    "# get token\n",
    "response = get(f'{url}/api/tokens', auth=(\"rishramanathan@gmail.com\", \"00000000\"))\n",
    "token = response.json()[\"token\"]\n",
    "token"
   ]
  },
  {
   "cell_type": "code",
   "execution_count": null,
   "id": "meaning-ordinance",
   "metadata": {},
   "outputs": [],
   "source": [
    "# user\n",
    "response = get(f'{url}/api/users', headers={\"Authorization\": f\"Bearer {token}\"})\n",
    "data = response.json()\n",
    "user_id = data['id']\n",
    "data"
   ]
  },
  {
   "cell_type": "code",
   "execution_count": null,
   "id": "variable-monkey",
   "metadata": {},
   "outputs": [],
   "source": [
    "# set defaults\n",
    "model_id = \"\"\n",
    "small_dataset_id = 2\n",
    "large_dataset_id = 1\n",
    "task_id = 1\n",
    "run_report_id = 1"
   ]
  },
  {
   "cell_type": "code",
   "execution_count": null,
   "id": "fatal-bookmark",
   "metadata": {},
   "outputs": [],
   "source": [
    "# model presigned url\n",
    "response = get(f'{url}/api/notifications', headers={\"Authorization\": f\"Bearer {token}\"})\n",
    "response.json()"
   ]
  },
  {
   "cell_type": "code",
   "execution_count": null,
   "id": "agricultural-palestinian",
   "metadata": {},
   "outputs": [],
   "source": [
    "# user's models\n",
    "response = get(f'{url}/api/users/{user_id}/models', headers={\"Authorization\": f\"Bearer {token}\"})\n",
    "response.json()"
   ]
  },
  {
   "cell_type": "code",
   "execution_count": null,
   "id": "representative-canal",
   "metadata": {},
   "outputs": [],
   "source": [
    "# create a task\n",
    "payload = {\n",
    "    \"name\": \"Rishab's Kickass Sentiment Analyzer\",\n",
    "}\n",
    "response = post(f'{url}/api/models/{model_id}/tasks', headers={\"Authorization\": f\"Bearer {token}\"}, json=payload)\n",
    "response.json()"
   ]
  },
  {
   "cell_type": "code",
   "execution_count": null,
   "id": "comfortable-sandwich",
   "metadata": {},
   "outputs": [],
   "source": [
    "# user's tasks\n",
    "response = get(f'{url}/api/users/{user_id}/tasks', headers={\"Authorization\": f\"Bearer {token}\"})\n",
    "response.json()"
   ]
  },
  {
   "cell_type": "code",
   "execution_count": null,
   "id": "exterior-acrobat",
   "metadata": {},
   "outputs": [],
   "source": [
    "# user's datasets\n",
    "response = get(f'{url}/api/users/{user_id}/datasets', headers={\"Authorization\": f\"Bearer {token}\"})\n",
    "response.json()"
   ]
  },
  {
   "cell_type": "code",
   "execution_count": null,
   "id": "sunrise-holmes",
   "metadata": {},
   "outputs": [],
   "source": [
    "# add a dataset to task\n",
    "payload = {\n",
    "    \"datasets\": [small_dataset_id],\n",
    "}\n",
    "response = put(f'{url}/api/tasks/1', headers={\"Authorization\": f\"Bearer {token}\"}, json=payload)\n",
    "response.json()"
   ]
  },
  {
   "cell_type": "code",
   "execution_count": null,
   "id": "spectacular-concrete",
   "metadata": {},
   "outputs": [],
   "source": [
    "# dataset's rows\n",
    "response = get(f'{url}/api/datasets/{small_dataset_id}/rows?tagId=1', headers={\"Authorization\": f\"Bearer {token}\"})\n",
    "response.json()"
   ]
  },
  {
   "cell_type": "code",
   "execution_count": null,
   "id": "baking-xerox",
   "metadata": {},
   "outputs": [],
   "source": [
    "# add tag to dataset\n",
    "payload = {\n",
    "    \"tags\": [\n",
    "        {\n",
    "            \"name\": \"uno\",\n",
    "            \"rows\": [20, 21]\n",
    "        }\n",
    "    ],\n",
    "}\n",
    "response = put(f'{url}/api/datasets/1', headers={\"Authorization\": f\"Bearer {token}\"}, json=payload)\n",
    "response.json()"
   ]
  },
  {
   "cell_type": "code",
   "execution_count": null,
   "id": "worldwide-knight",
   "metadata": {},
   "outputs": [],
   "source": [
    "# dataset's tags\n",
    "response = get(f'{url}/api/datasets/{small_dataset_id}/tags', headers={\"Authorization\": f\"Bearer {token}\"})\n",
    "response.json()"
   ]
  },
  {
   "cell_type": "code",
   "execution_count": null,
   "id": "bizarre-toddler",
   "metadata": {},
   "outputs": [],
   "source": [
    "# remove rows from tag\n",
    "payload = {\n",
    "    \"rows\": [12]\n",
    "}\n",
    "response = put(f'{url}/api/tags/3/remove-rows', headers={\"Authorization\": f\"Bearer {token}\"}, json=payload)\n",
    "response.json()"
   ]
  },
  {
   "cell_type": "code",
   "execution_count": null,
   "id": "united-adaptation",
   "metadata": {},
   "outputs": [],
   "source": [
    "# create run report\n",
    "payload = {\n",
    "    \"datasetId\": small_dataset_id,\n",
    "    \"modelId\": model_id,\n",
    "    \"useApi\": False,\n",
    "}\n",
    "response = post(f'{url}/api/models/{modelId}/run-reports', headers={\"Authorization\": f\"Bearer {token}\"}, json=payload)\n",
    "response.json()"
   ]
  },
  {
   "cell_type": "code",
   "execution_count": null,
   "id": "increasing-journalist",
   "metadata": {},
   "outputs": [],
   "source": [
    "# run report's rows\n",
    "response = get(f'{url}/api/run-reports/{run_report_id}/runs?searchQuery=fucking', headers={\"Authorization\": f\"Bearer {token}\"})\n",
    "response.json()"
   ]
  },
  {
   "cell_type": "code",
   "execution_count": null,
   "id": "connected-flash",
   "metadata": {},
   "outputs": [],
   "source": [
    "# row's runs\n",
    "response = get(f'{url}/api/rows/73/runs?tagId=1', headers={\"Authorization\": f\"Bearer {token}\"})\n",
    "response.json()"
   ]
  },
  {
   "cell_type": "markdown",
   "id": "lightweight-showcase",
   "metadata": {},
   "source": [
    "# Test Suite / Reports"
   ]
  },
  {
   "cell_type": "code",
   "execution_count": null,
   "id": "invalid-likelihood",
   "metadata": {},
   "outputs": [],
   "source": [
    "# create inv test suite\n",
    "payload = {\n",
    "    \"name\": \"inv_test\",\n",
    "    \"count\": None,\n",
    "    \"tags\": [\"uno\", \"dos\"],\n",
    "    \"category\": \"inv\",\n",
    "    \"countPerRow\": 1,\n",
    "    \"perturbType\": \"add_typos\",\n",
    "}\n",
    "response = post(f'{url}/api/tasks/{task_id}/test-suites', headers={\"Authorization\": f\"Bearer {token}\"}, json=payload)\n",
    "response.json()"
   ]
  },
  {
   "cell_type": "code",
   "execution_count": null,
   "id": "broad-delight",
   "metadata": {},
   "outputs": [],
   "source": [
    "# create inv test report\n",
    "payload = {\n",
    "    \"datasetId\": 1,\n",
    "    \"modelId\": model_id,\n",
    "    \"testSuiteId\": 1,\n",
    "}\n",
    "response = post(f'{url}/api/tasks/{task_id}/test-reports', headers={\"Authorization\": f\"Bearer {token}\"}, json=payload)\n",
    "response.json()"
   ]
  },
  {
   "cell_type": "code",
   "execution_count": null,
   "id": "wired-preference",
   "metadata": {},
   "outputs": [],
   "source": [
    "# create mft test suite\n",
    "payload = {\n",
    "    \"name\": \"mft_test\",\n",
    "    \"count\": 10,\n",
    "    \"countPerRow\": 3,\n",
    "    \"category\": \"mft\",\n",
    "    \"label\": \"positive\",\n",
    "    \"template\": \"This is a {good, enjoyable} {mask}\"\n",
    "}\n",
    "response = post(f'{url}/api/tasks/{task_id}/test-suites', headers={\"Authorization\": f\"Bearer {token}\"}, json=payload)\n",
    "response.json()"
   ]
  },
  {
   "cell_type": "code",
   "execution_count": null,
   "id": "alone-configuration",
   "metadata": {},
   "outputs": [],
   "source": [
    "# create mft test report\n",
    "payload = {\n",
    "    \"modelId\": model_id,\n",
    "    \"testSuiteId\": 2,\n",
    "}\n",
    "response = post(f'{url}/api/tasks/{task_id}/test-reports', headers={\"Authorization\": f\"Bearer {token}\"}, json=payload)\n",
    "response.json()"
   ]
  },
  {
   "cell_type": "code",
   "execution_count": null,
   "id": "tested-stephen",
   "metadata": {},
   "outputs": [],
   "source": [
    "# create confidence test suite\n",
    "payload = {\n",
    "    \"name\": \"conf_test\",\n",
    "    \"count\": None,\n",
    "    \"countPerRow\": None,\n",
    "    \"category\": \"confidence\",\n",
    "    \"tags\": [\"uno\", \"dos\"],\n",
    "    \"confidenceThreshold\": 0.80,\n",
    "}\n",
    "response = post(f'{url}/api/tasks/{task_id}/test-suites', headers={\"Authorization\": f\"Bearer {token}\"}, json=payload)\n",
    "response.json()"
   ]
  },
  {
   "cell_type": "code",
   "execution_count": null,
   "id": "appointed-baltimore",
   "metadata": {},
   "outputs": [],
   "source": [
    "# create confidence test report\n",
    "payload = {\n",
    "    \"datasetId\": small_dataset_id,\n",
    "    \"modelId\": model_id,\n",
    "    \"testSuiteId\": 3,\n",
    "}\n",
    "response = post(f'{url}/api/tasks/{task_id}/test-reports', headers={\"Authorization\": f\"Bearer {token}\"}, json=payload)\n",
    "response.json()"
   ]
  },
  {
   "cell_type": "code",
   "execution_count": null,
   "id": "popular-classroom",
   "metadata": {},
   "outputs": [],
   "source": [
    "# test report's test runs\n",
    "response = get(f'{url}/api/test-reports/1/test-runs?searchQuery=Kindle2&tagId=2', headers={\"Authorization\": f\"Bearer {token}\"})\n",
    "response.json()"
   ]
  },
  {
   "cell_type": "markdown",
   "id": "adjustable-halifax",
   "metadata": {},
   "source": []
  },
  {
   "cell_type": "code",
   "execution_count": null,
   "id": "potential-supply",
   "metadata": {},
   "outputs": [],
   "source": [
    "# web signup\n",
    "payload = {\n",
    "    \"email\": \"rishramanathan@gmail.com\",\n",
    "}\n",
    "response = post(f'{url}/api/web-signup', json=payload)\n",
    "response.json()"
   ]
  }
 ],
 "metadata": {
  "kernelspec": {
   "display_name": "Python 3",
   "language": "python",
   "name": "python3"
  },
  "language_info": {
   "codemirror_mode": {
    "name": "ipython",
    "version": 3
   },
   "file_extension": ".py",
   "mimetype": "text/x-python",
   "name": "python",
   "nbconvert_exporter": "python",
   "pygments_lexer": "ipython3",
   "version": "3.7.10"
  }
 },
 "nbformat": 4,
 "nbformat_minor": 5
}
