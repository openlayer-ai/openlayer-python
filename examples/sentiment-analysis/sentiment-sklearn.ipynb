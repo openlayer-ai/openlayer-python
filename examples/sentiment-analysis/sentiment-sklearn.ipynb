{
 "cells": [
  {
   "cell_type": "markdown",
   "id": "wrong-composer",
   "metadata": {},
   "source": [
    "# IMPORT"
   ]
  },
  {
   "cell_type": "code",
   "execution_count": 1,
   "id": "atlantic-norway",
   "metadata": {},
   "outputs": [],
   "source": [
    "import tempfile\n",
    "import numpy as np\n",
    "import pandas as pd\n",
    "from sklearn.feature_extraction.text import CountVectorizer\n",
    "from sklearn.linear_model import LogisticRegression\n",
    "from sklearn.metrics import classification_report, roc_auc_score, roc_curve\n",
    "from sklearn.pipeline import Pipeline"
   ]
  },
  {
   "cell_type": "markdown",
   "id": "chubby-clarity",
   "metadata": {},
   "source": [
    "# LOAD DATA, TRAIN MODEL"
   ]
  },
  {
   "cell_type": "code",
   "execution_count": 2,
   "id": "precise-vatican",
   "metadata": {},
   "outputs": [
    {
     "name": "stdout",
     "output_type": "stream",
     "text": [
      "Archive:  ./data/trainingandtestdata.zip\n"
     ]
    }
   ],
   "source": [
    "%%bash\n",
    "\n",
    "if [ ! -d ./data ]; then\n",
    "    mkdir ./data\n",
    "fi\n",
    "\n",
    "if [ ! -f ./data/trainingandtestdata.zip ]; then\n",
    "    wget -q -O ./data/trainingandtestdata.zip http://cs.stanford.edu/people/alecmgo/trainingandtestdata.zip\n",
    "fi\n",
    "\n",
    "unzip -n ./data/trainingandtestdata.zip -d ./data"
   ]
  },
  {
   "cell_type": "code",
   "execution_count": 3,
   "id": "incomplete-nirvana",
   "metadata": {},
   "outputs": [],
   "source": [
    "columns = ['polarity', 'tweetid', 'date', 'query_name', 'user', 'text']\n",
    "df_train_file_path = './data/training.1600000.processed.noemoticon.csv'\n",
    "df_train_name = 'training.1600000.processed.noemoticon'\n",
    "df_train = pd.read_csv(df_train_file_path,\n",
    "                      header=None,\n",
    "                      encoding='ISO-8859-1')\n",
    "\n",
    "df_test_file_path = './data/testdata.manual.2009.06.14.csv'\n",
    "df_test_name = 'testdata.manual.2009.06.14'\n",
    "df_test = pd.read_csv(df_test_file_path,\n",
    "                     header=None,\n",
    "                     encoding='ISO-8859-1')\n",
    "df_train.columns = columns\n",
    "df_test.columns = columns"
   ]
  },
  {
   "cell_type": "code",
   "execution_count": 4,
   "id": "digital-covering",
   "metadata": {},
   "outputs": [],
   "source": [
    "import random\n",
    "# Remove 'neutral' since it isn't in training dataset\n",
    "df_test['polarity'] = df_test['polarity'].replace(2, random.choice([0, 4]))\n",
    "# Make labels monotonically increasing [0,1]\n",
    "df_test['polarity'] = df_test['polarity'].replace(4, 1)\n",
    "df_train['polarity'] = df_train['polarity'].replace(4, 1)"
   ]
  },
  {
   "cell_type": "code",
   "execution_count": 5,
   "id": "multiple-disability",
   "metadata": {},
   "outputs": [
    {
     "name": "stderr",
     "output_type": "stream",
     "text": [
      "/Users/rishabramanathan/opt/miniconda3/envs/unbox_demo/lib/python3.7/site-packages/sklearn/linear_model/_logistic.py:765: ConvergenceWarning: lbfgs failed to converge (status=1):\n",
      "STOP: TOTAL NO. of ITERATIONS REACHED LIMIT.\n",
      "\n",
      "Increase the number of iterations (max_iter) or scale the data as shown in:\n",
      "    https://scikit-learn.org/stable/modules/preprocessing.html\n",
      "Please also refer to the documentation for alternative solver options:\n",
      "    https://scikit-learn.org/stable/modules/linear_model.html#logistic-regression\n",
      "  extra_warning_msg=_LOGISTIC_SOLVER_CONVERGENCE_MSG)\n"
     ]
    },
    {
     "data": {
      "text/plain": [
       "Pipeline(steps=[('count_vect',\n",
       "                 CountVectorizer(min_df=100, ngram_range=(1, 2),\n",
       "                                 stop_words='english')),\n",
       "                ('lr', LogisticRegression())])"
      ]
     },
     "execution_count": 5,
     "metadata": {},
     "output_type": "execute_result"
    }
   ],
   "source": [
    "sentiment_lr = Pipeline([\n",
    "                         ('count_vect', CountVectorizer(min_df=100,\n",
    "                                                        ngram_range=(1,2),\n",
    "                                                        stop_words='english')), \n",
    "                         ('lr', LogisticRegression())])\n",
    "sentiment_lr.fit(df_train.text, df_train.polarity)"
   ]
  },
  {
   "cell_type": "code",
   "execution_count": 6,
   "id": "civilian-auditor",
   "metadata": {},
   "outputs": [
    {
     "name": "stdout",
     "output_type": "stream",
     "text": [
      "              precision    recall  f1-score   support\n",
      "\n",
      "           0       0.89      0.54      0.67       316\n",
      "           1       0.52      0.88      0.66       182\n",
      "\n",
      "    accuracy                           0.66       498\n",
      "   macro avg       0.71      0.71      0.66       498\n",
      "weighted avg       0.75      0.66      0.67       498\n",
      "\n"
     ]
    }
   ],
   "source": [
    "x_test, y_test = df_test.text, df_test.polarity\n",
    "print(classification_report(y_test, sentiment_lr.predict(x_test)))"
   ]
  },
  {
   "cell_type": "code",
   "execution_count": 7,
   "id": "numerous-ability",
   "metadata": {},
   "outputs": [
    {
     "data": {
      "text/plain": [
       "array([1])"
      ]
     },
     "execution_count": 7,
     "metadata": {},
     "output_type": "execute_result"
    }
   ],
   "source": [
    "sentiment_lr.predict([x_test[0]])"
   ]
  },
  {
   "cell_type": "code",
   "execution_count": 8,
   "id": "electronic-princess",
   "metadata": {},
   "outputs": [
    {
     "data": {
      "text/plain": [
       "array([1, 0])"
      ]
     },
     "execution_count": 8,
     "metadata": {},
     "output_type": "execute_result"
    }
   ],
   "source": [
    "sentiment_lr.predict(['good', 'bad'])"
   ]
  },
  {
   "cell_type": "markdown",
   "id": "scientific-dubai",
   "metadata": {},
   "source": [
    "# UNBOX"
   ]
  },
  {
   "cell_type": "code",
   "execution_count": 9,
   "id": "medium-field",
   "metadata": {},
   "outputs": [],
   "source": [
    "import unboxapi\n",
    "# client = unboxapi.UnboxClient(\"YOUR_API_KEY_HERE\")\n",
    "client = unboxapi.UnboxClient(\"ebcc2698-d638-11eb-938e-1e008a21a07a\")\n",
    "unboxapi.api.UNBOX_ENDPOINT = \"http://0.0.0.0:8080/api\" # Use this for local testing"
   ]
  },
  {
   "cell_type": "markdown",
   "id": "southwest-corruption",
   "metadata": {},
   "source": [
    "## Create function"
   ]
  },
  {
   "cell_type": "code",
   "execution_count": 10,
   "id": "maritime-writing",
   "metadata": {},
   "outputs": [],
   "source": [
    "def predict_function(model, text_list):\n",
    "    return model.predict_proba(text_list)"
   ]
  },
  {
   "cell_type": "code",
   "execution_count": 11,
   "id": "bored-treasury",
   "metadata": {},
   "outputs": [
    {
     "data": {
      "text/plain": [
       "array([[0.15715401, 0.84284599],\n",
       "       [0.20192416, 0.79807584],\n",
       "       [0.97165564, 0.02834436]])"
      ]
     },
     "execution_count": 11,
     "metadata": {},
     "output_type": "execute_result"
    }
   ],
   "source": [
    "texts = ['some new text, sweet noodles', 'happy time', 'sad day']\n",
    "\n",
    "predict_function(sentiment_lr, texts)"
   ]
  },
  {
   "cell_type": "markdown",
   "id": "classified-machinery",
   "metadata": {},
   "source": [
    "# Package & Upload to Unbox"
   ]
  },
  {
   "cell_type": "markdown",
   "id": "binding-polymer",
   "metadata": {},
   "source": [
    "### Upload dataset from dataframe"
   ]
  },
  {
   "cell_type": "code",
   "execution_count": null,
   "id": "corporate-azerbaijan",
   "metadata": {},
   "outputs": [],
   "source": [
    "dataset = client.add_dataframe(\n",
    "    df=df_test,\n",
    "    class_names=['negative', 'positive'],\n",
    "    label_column_name='polarity',\n",
    "    text_column_name='text',\n",
    "    name=df_test_name,\n",
    "    description='this is my sentiment test dataset'\n",
    ")\n",
    "dataset.to_dict()"
   ]
  },
  {
   "cell_type": "markdown",
   "id": "valuable-witch",
   "metadata": {},
   "source": [
    "### Upload model"
   ]
  },
  {
   "cell_type": "code",
   "execution_count": 12,
   "id": "present-seating",
   "metadata": {
    "scrolled": true
   },
   "outputs": [
    {
     "name": "stdout",
     "output_type": "stream",
     "text": [
      "Connecting to Unbox server\n"
     ]
    },
    {
     "name": "stderr",
     "output_type": "stream",
     "text": [
      "100%|██████████| 55.4M/55.4M [00:16<00:00, 3.53MB/s]\n"
     ]
    },
    {
     "data": {
      "text/plain": [
       "{'_links': {'datasets': '/api/models/9043be49-a64a-41d1-9fa2-d61c7f32441b/datasets',\n",
       "  'inferenceRuns': '/api/models/9043be49-a64a-41d1-9fa2-d61c7f32441b/inference-runs',\n",
       "  'runReports': '/api/models/9043be49-a64a-41d1-9fa2-d61c7f32441b/run-reports',\n",
       "  'self': '/api/models/9043be49-a64a-41d1-9fa2-d61c7f32441b'},\n",
       " 'classNames': ['negative', 'positive'],\n",
       " 'datasetCount': 0,\n",
       " 'dateCreated': '2021-06-27T01:37:03.332631Z',\n",
       " 'description': 'this is my sklearn sentiment model',\n",
       " 'id': '9043be49-a64a-41d1-9fa2-d61c7f32441b',\n",
       " 'inProgressNotifications': ['model_9043be49-a64a-41d1-9fa2-d61c7f32441b_create_endpoint'],\n",
       " 'inferenceRunCount': 0,\n",
       " 'modelApi': None,\n",
       " 'name': '05.15.2021.sentiment_analyzer',\n",
       " 'runReportCount': 0}"
      ]
     },
     "execution_count": 12,
     "metadata": {},
     "output_type": "execute_result"
    }
   ],
   "source": [
    "from unboxapi.models import ModelType\n",
    "\n",
    "model = client.add_model(\n",
    "    function=predict_function, \n",
    "    model=sentiment_lr,\n",
    "    model_type=ModelType.sklearn,\n",
    "    class_names=['negative', 'positive'],\n",
    "    name='05.15.2021.sentiment_analyzer',\n",
    "    description='this is my sklearn sentiment model'\n",
    ")\n",
    "model.to_dict()"
   ]
  },
  {
   "cell_type": "markdown",
   "id": "smooth-opinion",
   "metadata": {},
   "source": [
    "### Upload dataset from csv"
   ]
  },
  {
   "cell_type": "code",
   "execution_count": null,
   "id": "covered-grace",
   "metadata": {},
   "outputs": [],
   "source": [
    "print('\\nUploading dataset (from file)...')\n",
    "with tempfile.TemporaryDirectory() as tmpdir:\n",
    "    df_train.to_csv(f'{tmpdir}/dataset.csv')\n",
    "    dataset = client.add_dataset(\n",
    "        file_path=f'{tmpdir}/dataset.csv', \n",
    "        class_names=['negative', 'positive'],\n",
    "        label_column_name='polarity',\n",
    "        text_column_name='text',\n",
    "        name=df_train_name,\n",
    "        description='this is my sentiment train dataset',\n",
    "    )\n",
    "dataset.to_dict()"
   ]
  }
 ],
 "metadata": {
  "kernelspec": {
   "display_name": "Python 3",
   "language": "python",
   "name": "python3"
  },
  "language_info": {
   "codemirror_mode": {
    "name": "ipython",
    "version": 3
   },
   "file_extension": ".py",
   "mimetype": "text/x-python",
   "name": "python",
   "nbconvert_exporter": "python",
   "pygments_lexer": "ipython3",
   "version": "3.7.10"
  }
 },
 "nbformat": 4,
 "nbformat_minor": 5
}
