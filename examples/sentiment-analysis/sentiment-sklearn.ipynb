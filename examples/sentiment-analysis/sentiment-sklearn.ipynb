{
 "cells": [
  {
   "cell_type": "markdown",
   "id": "wrong-composer",
   "metadata": {},
   "source": [
    "# IMPORT"
   ]
  },
  {
   "cell_type": "code",
   "execution_count": 5,
   "id": "atlantic-norway",
   "metadata": {},
   "outputs": [],
   "source": [
    "import tempfile\n",
    "import numpy as np\n",
    "import pandas as pd\n",
    "from sklearn.feature_extraction.text import CountVectorizer\n",
    "from sklearn.linear_model import LogisticRegression\n",
    "from sklearn.metrics import classification_report, roc_auc_score, roc_curve\n",
    "from sklearn.pipeline import Pipeline"
   ]
  },
  {
   "cell_type": "markdown",
   "id": "chubby-clarity",
   "metadata": {},
   "source": [
    "# LOAD DATA, TRAIN MODEL"
   ]
  },
  {
   "cell_type": "code",
   "execution_count": 6,
   "id": "precise-vatican",
   "metadata": {},
   "outputs": [
    {
     "name": "stdout",
     "output_type": "stream",
     "text": [
      "Archive:  ./data/trainingandtestdata.zip\n"
     ]
    }
   ],
   "source": [
    "%%bash\n",
    "\n",
    "if [ ! -d ./data ]; then\n",
    "    mkdir ./data\n",
    "fi\n",
    "\n",
    "if [ ! -f ./data/trainingandtestdata.zip ]; then\n",
    "    wget -q -O ./data/trainingandtestdata.zip http://cs.stanford.edu/people/alecmgo/trainingandtestdata.zip\n",
    "fi\n",
    "\n",
    "unzip -n ./data/trainingandtestdata.zip -d ./data"
   ]
  },
  {
   "cell_type": "code",
   "execution_count": 7,
   "id": "incomplete-nirvana",
   "metadata": {},
   "outputs": [
    {
     "data": {
      "text/plain": [
       "1600000"
      ]
     },
     "execution_count": 7,
     "metadata": {},
     "output_type": "execute_result"
    }
   ],
   "source": [
    "columns = ['polarity', 'tweetid', 'date', 'query_name', 'user', 'text']\n",
    "df_train_file_path = './data/training.1600000.processed.noemoticon.csv'\n",
    "df_train_name = 'training.1600000.processed.noemoticon'\n",
    "df_train = pd.read_csv(df_train_file_path,\n",
    "                      header=None,\n",
    "                      encoding='ISO-8859-1')\n",
    "\n",
    "df_test_file_path = './data/testdata.manual.2009.06.14.csv'\n",
    "df_test_name = 'testdata.manual.2009.06.14'\n",
    "df_test = pd.read_csv(df_test_file_path,\n",
    "                     header=None,\n",
    "                     encoding='ISO-8859-1')\n",
    "df_train.columns = columns\n",
    "df_test.columns = columns\n",
    "df_train.shape[0]"
   ]
  },
  {
   "cell_type": "code",
   "execution_count": 8,
   "id": "multiple-disability",
   "metadata": {},
   "outputs": [
    {
     "name": "stderr",
     "output_type": "stream",
     "text": [
      "/Users/rishabramanathan/opt/miniconda3/envs/unbox_demo/lib/python3.7/site-packages/sklearn/linear_model/_logistic.py:765: ConvergenceWarning: lbfgs failed to converge (status=1):\n",
      "STOP: TOTAL NO. of ITERATIONS REACHED LIMIT.\n",
      "\n",
      "Increase the number of iterations (max_iter) or scale the data as shown in:\n",
      "    https://scikit-learn.org/stable/modules/preprocessing.html\n",
      "Please also refer to the documentation for alternative solver options:\n",
      "    https://scikit-learn.org/stable/modules/linear_model.html#logistic-regression\n",
      "  extra_warning_msg=_LOGISTIC_SOLVER_CONVERGENCE_MSG)\n"
     ]
    },
    {
     "data": {
      "text/plain": [
       "Pipeline(steps=[('count_vect',\n",
       "                 CountVectorizer(min_df=100, ngram_range=(1, 2),\n",
       "                                 stop_words='english')),\n",
       "                ('lr', LogisticRegression())])"
      ]
     },
     "execution_count": 8,
     "metadata": {},
     "output_type": "execute_result"
    }
   ],
   "source": [
    "sentiment_lr = Pipeline([\n",
    "                         ('count_vect', CountVectorizer(min_df=100,\n",
    "                                                        ngram_range=(1,2),\n",
    "                                                        stop_words='english')), \n",
    "                         ('lr', LogisticRegression())])\n",
    "sentiment_lr.fit(df_train.text, df_train.polarity)"
   ]
  },
  {
   "cell_type": "code",
   "execution_count": 9,
   "id": "civilian-auditor",
   "metadata": {},
   "outputs": [
    {
     "name": "stdout",
     "output_type": "stream",
     "text": [
      "              precision    recall  f1-score   support\n",
      "\n",
      "           0       0.87      0.82      0.84       177\n",
      "           4       0.83      0.88      0.86       182\n",
      "\n",
      "    accuracy                           0.85       359\n",
      "   macro avg       0.85      0.85      0.85       359\n",
      "weighted avg       0.85      0.85      0.85       359\n",
      "\n"
     ]
    }
   ],
   "source": [
    "x_test, y_test = df_test.text[df_test.polarity != 2], df_test.polarity[df_test.polarity != 2]\n",
    "print(classification_report(y_test, sentiment_lr.predict(x_test)))"
   ]
  },
  {
   "cell_type": "code",
   "execution_count": 10,
   "id": "numerous-ability",
   "metadata": {},
   "outputs": [
    {
     "data": {
      "text/plain": [
       "array([4])"
      ]
     },
     "execution_count": 10,
     "metadata": {},
     "output_type": "execute_result"
    }
   ],
   "source": [
    "sentiment_lr.predict([x_test[0]])"
   ]
  },
  {
   "cell_type": "code",
   "execution_count": 11,
   "id": "electronic-princess",
   "metadata": {},
   "outputs": [
    {
     "data": {
      "text/plain": [
       "array([4, 0])"
      ]
     },
     "execution_count": 11,
     "metadata": {},
     "output_type": "execute_result"
    }
   ],
   "source": [
    "sentiment_lr.predict(['good', 'bad'])"
   ]
  },
  {
   "cell_type": "markdown",
   "id": "scientific-dubai",
   "metadata": {},
   "source": [
    "# UNBOX"
   ]
  },
  {
   "cell_type": "code",
   "execution_count": 65,
   "id": "medium-field",
   "metadata": {},
   "outputs": [],
   "source": [
    "import unboxapi\n",
    "client = unboxapi.UnboxClient(email=\"rishramanathan@gmail.com\", password=\"00000000\")"
   ]
  },
  {
   "cell_type": "markdown",
   "id": "southwest-corruption",
   "metadata": {},
   "source": [
    "## Create function"
   ]
  },
  {
   "cell_type": "code",
   "execution_count": 13,
   "id": "maritime-writing",
   "metadata": {},
   "outputs": [],
   "source": [
    "# class_dict = { 4: 'positive', 2: 'neutral', 0: 'negative'}\n",
    "class_names = ['negative', 'positive']\n",
    "dataset_labels = [0, 4]\n",
    "def predict_function(model, text_list):\n",
    "    return model.predict_proba(text_list), class_names, dataset_labels"
   ]
  },
  {
   "cell_type": "code",
   "execution_count": 14,
   "id": "bored-treasury",
   "metadata": {},
   "outputs": [
    {
     "data": {
      "text/plain": [
       "(array([[0.15715401, 0.84284599],\n",
       "        [0.20192416, 0.79807584],\n",
       "        [0.97165564, 0.02834436]]),\n",
       " ['negative', 'positive'],\n",
       " [0, 4])"
      ]
     },
     "execution_count": 14,
     "metadata": {},
     "output_type": "execute_result"
    }
   ],
   "source": [
    "texts = ['some new text, sweet noodles', 'happy time', 'sad day']\n",
    "\n",
    "predict_function(sentiment_lr, texts)"
   ]
  },
  {
   "cell_type": "markdown",
   "id": "classified-machinery",
   "metadata": {},
   "source": [
    "# Package (function, model) & Upload to Unbox Server"
   ]
  },
  {
   "cell_type": "code",
   "execution_count": 15,
   "id": "present-seating",
   "metadata": {
    "scrolled": true
   },
   "outputs": [
    {
     "name": "stdout",
     "output_type": "stream",
     "text": [
      "Uploading model...\n",
      "Packaged bento content\n",
      "Connecting to Unbox server\n",
      "Complete. Response: {'_links': {'datasets': '/api/models/c24012ea-0485-4aa3-be17-a027e9841962/datasets', 'inferenceRuns': '/api/models/c24012ea-0485-4aa3-be17-a027e9841962/inference-runs', 'runReports': '/api/models/c24012ea-0485-4aa3-be17-a027e9841962/run-reports', 'self': '/api/models/c24012ea-0485-4aa3-be17-a027e9841962'}, 'datasetCount': 0, 'dateCreated': '2021-03-27T22:54:37.093992Z', 'description': 'this is my sklearn sentiment model', 'id': 'c24012ea-0485-4aa3-be17-a027e9841962', 'inferenceRunCount': 0, 'modelApi': None, 'name': '03.15.2021.sentiment_analyzer', 'runReportCount': 0}\n"
     ]
    }
   ],
   "source": [
    "print('Uploading model...')\n",
    "response = client.add_model(function=predict_function, \n",
    "                 model=sentiment_lr, \n",
    "                 name='03.15.2021.sentiment_analyzer',\n",
    "                 description='this is my sklearn sentiment model')\n",
    "print(f'Complete. Response:')\n",
    "response.json()"
   ]
  },
  {
   "cell_type": "code",
   "execution_count": 88,
   "id": "covered-grace",
   "metadata": {},
   "outputs": [
    {
     "name": "stdout",
     "output_type": "stream",
     "text": [
      "\n",
      "Uploading dataset (from file)...\n",
      "Complete. Response: {'_links': {'models': '/api/datasets/8/models', 'rows': '/api/datasets/8/rows', 'self': '/api/datasets/8', 'tags': '/api/datasets/8/tags'}, 'dateCreated': '2021-03-22T07:32:16.416655Z', 'description': 'this is my sentiment train dataset', 'id': 8, 'labelColumn': 'polarity', 'modelCount': 0, 'name': 'training.1600000.processed.noemoticon', 'tagCount': 0, 'textColumn': 'text'}\n"
     ]
    }
   ],
   "source": [
    "print('\\nUploading dataset (from file)...')\n",
    "with tempfile.TemporaryDirectory() as tmpdir:\n",
    "    df_train.to_csv(f'{tmpdir}/dataset.csv')\n",
    "    response = client.add_dataset(file_path=f'{tmpdir}/dataset.csv', \n",
    "                                  name=df_train_name, \n",
    "                                  description='this is my sentiment train dataset',\n",
    "                                  label_column_name='polarity',\n",
    "                                  text_column_name='text')\n",
    "print(f'Complete. Response:')\n",
    "response.json()"
   ]
  },
  {
   "cell_type": "code",
   "execution_count": 16,
   "id": "corporate-azerbaijan",
   "metadata": {},
   "outputs": [
    {
     "name": "stdout",
     "output_type": "stream",
     "text": [
      "\n",
      "Uploading dataset (from data frame)...\n",
      "Complete. Response: {'_links': {'models': '/api/datasets/1/models', 'rows': '/api/datasets/1/rows', 'self': '/api/datasets/1', 'tags': '/api/datasets/1/tags'}, 'dateCreated': '2021-03-27T22:54:51.026300Z', 'description': 'this is my sentiment test dataset', 'id': 1, 'labelColumn': 'polarity', 'modelCount': 0, 'name': 'testdata.manual.2009.06.14', 'tagCount': 0, 'textColumn': 'text'}\n"
     ]
    }
   ],
   "source": [
    "print('\\nUploading dataset (from data frame)...')\n",
    "response = client.add_dataframe(df=df_test, \n",
    "                                name=df_test_name, \n",
    "                                description='this is my sentiment test dataset',\n",
    "                                label_column_name='polarity',\n",
    "                                text_column_name='text')\n",
    "print(f'Complete. Response:')\n",
    "response.json()"
   ]
  }
 ],
 "metadata": {
  "kernelspec": {
   "display_name": "Python 3",
   "language": "python",
   "name": "python3"
  },
  "language_info": {
   "codemirror_mode": {
    "name": "ipython",
    "version": 3
   },
   "file_extension": ".py",
   "mimetype": "text/x-python",
   "name": "python",
   "nbconvert_exporter": "python",
   "pygments_lexer": "ipython3",
   "version": "3.7.10"
  }
 },
 "nbformat": 4,
 "nbformat_minor": 5
}
