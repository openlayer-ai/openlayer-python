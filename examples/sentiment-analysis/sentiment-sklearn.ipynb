{
 "cells": [
  {
   "cell_type": "markdown",
   "id": "wrong-composer",
   "metadata": {},
   "source": [
    "# IMPORT"
   ]
  },
  {
   "cell_type": "code",
   "execution_count": 1,
   "id": "atlantic-norway",
   "metadata": {},
   "outputs": [],
   "source": [
    "import tempfile\n",
    "import numpy as np\n",
    "import pandas as pd\n",
    "from sklearn.feature_extraction.text import CountVectorizer\n",
    "from sklearn.linear_model import LogisticRegression\n",
    "from sklearn.metrics import classification_report, roc_auc_score, roc_curve\n",
    "from sklearn.pipeline import Pipeline"
   ]
  },
  {
   "cell_type": "markdown",
   "id": "chubby-clarity",
   "metadata": {},
   "source": [
    "# LOAD DATA, TRAIN MODEL"
   ]
  },
  {
   "cell_type": "code",
   "execution_count": 2,
   "id": "precise-vatican",
   "metadata": {},
   "outputs": [
    {
     "name": "stdout",
     "output_type": "stream",
     "text": [
      "Archive:  ./data/trainingandtestdata.zip\n"
     ]
    }
   ],
   "source": [
    "%%bash\n",
    "\n",
    "if [ ! -d ./data ]; then\n",
    "    mkdir ./data\n",
    "fi\n",
    "\n",
    "if [ ! -f ./data/trainingandtestdata.zip ]; then\n",
    "    wget -q -O ./data/trainingandtestdata.zip http://cs.stanford.edu/people/alecmgo/trainingandtestdata.zip\n",
    "fi\n",
    "\n",
    "unzip -n ./data/trainingandtestdata.zip -d ./data"
   ]
  },
  {
   "cell_type": "code",
   "execution_count": 20,
   "id": "incomplete-nirvana",
   "metadata": {},
   "outputs": [
    {
     "data": {
      "text/plain": [
       "1600000"
      ]
     },
     "execution_count": 20,
     "metadata": {},
     "output_type": "execute_result"
    }
   ],
   "source": [
    "columns = ['polarity', 'tweetid', 'date', 'query_name', 'user', 'text']\n",
    "df_train_file_path = './data/training.1600000.processed.noemoticon.csv'\n",
    "df_train_name = 'training.1600000.processed.noemoticon'\n",
    "df_train = pd.read_csv(df_train_file_path,\n",
    "                      header=None,\n",
    "                      encoding='ISO-8859-1')\n",
    "\n",
    "df_test_file_path = './data/testdata.manual.2009.06.14.csv'\n",
    "df_test_name = 'testdata.manual.2009.06.14'\n",
    "df_test = pd.read_csv(df_test_file_path,\n",
    "                     header=None,\n",
    "                     encoding='ISO-8859-1')\n",
    "df_train.columns = columns\n",
    "df_test.columns = columns"
   ]
  },
  {
   "cell_type": "code",
   "execution_count": 25,
   "id": "digital-covering",
   "metadata": {},
   "outputs": [],
   "source": [
    "import random\n",
    "# Remove 'neutral' since it isn't in training dataset\n",
    "df_test['polarity'] = df_test['polarity'].replace(2, random.choice([0, 4]))\n",
    "# Make labels monotonically increasing [0,1]\n",
    "df_test['polarity'] = df_test['polarity'].replace(4, 1)\n",
    "df_train['polarity'] = df_train['polarity'].replace(4, 1)"
   ]
  },
  {
   "cell_type": "code",
   "execution_count": 26,
   "id": "multiple-disability",
   "metadata": {},
   "outputs": [
    {
     "name": "stderr",
     "output_type": "stream",
     "text": [
      "/Users/rishabramanathan/opt/miniconda3/envs/unbox_demo/lib/python3.7/site-packages/sklearn/linear_model/_logistic.py:765: ConvergenceWarning: lbfgs failed to converge (status=1):\n",
      "STOP: TOTAL NO. of ITERATIONS REACHED LIMIT.\n",
      "\n",
      "Increase the number of iterations (max_iter) or scale the data as shown in:\n",
      "    https://scikit-learn.org/stable/modules/preprocessing.html\n",
      "Please also refer to the documentation for alternative solver options:\n",
      "    https://scikit-learn.org/stable/modules/linear_model.html#logistic-regression\n",
      "  extra_warning_msg=_LOGISTIC_SOLVER_CONVERGENCE_MSG)\n"
     ]
    },
    {
     "data": {
      "text/plain": [
       "Pipeline(steps=[('count_vect',\n",
       "                 CountVectorizer(min_df=100, ngram_range=(1, 2),\n",
       "                                 stop_words='english')),\n",
       "                ('lr', LogisticRegression())])"
      ]
     },
     "execution_count": 26,
     "metadata": {},
     "output_type": "execute_result"
    }
   ],
   "source": [
    "sentiment_lr = Pipeline([\n",
    "                         ('count_vect', CountVectorizer(min_df=100,\n",
    "                                                        ngram_range=(1,2),\n",
    "                                                        stop_words='english')), \n",
    "                         ('lr', LogisticRegression())])\n",
    "sentiment_lr.fit(df_train.text, df_train.polarity)"
   ]
  },
  {
   "cell_type": "code",
   "execution_count": 27,
   "id": "civilian-auditor",
   "metadata": {},
   "outputs": [
    {
     "name": "stdout",
     "output_type": "stream",
     "text": [
      "              precision    recall  f1-score   support\n",
      "\n",
      "           0       0.89      0.54      0.67       316\n",
      "           1       0.52      0.88      0.66       182\n",
      "\n",
      "    accuracy                           0.66       498\n",
      "   macro avg       0.71      0.71      0.66       498\n",
      "weighted avg       0.75      0.66      0.67       498\n",
      "\n"
     ]
    }
   ],
   "source": [
    "x_test, y_test = df_test.text, df_test.polarity\n",
    "print(classification_report(y_test, sentiment_lr.predict(x_test)))"
   ]
  },
  {
   "cell_type": "code",
   "execution_count": 28,
   "id": "numerous-ability",
   "metadata": {},
   "outputs": [
    {
     "data": {
      "text/plain": [
       "array([1])"
      ]
     },
     "execution_count": 28,
     "metadata": {},
     "output_type": "execute_result"
    }
   ],
   "source": [
    "sentiment_lr.predict([x_test[0]])"
   ]
  },
  {
   "cell_type": "code",
   "execution_count": 29,
   "id": "electronic-princess",
   "metadata": {},
   "outputs": [
    {
     "data": {
      "text/plain": [
       "array([1, 0])"
      ]
     },
     "execution_count": 29,
     "metadata": {},
     "output_type": "execute_result"
    }
   ],
   "source": [
    "sentiment_lr.predict(['good', 'bad'])"
   ]
  },
  {
   "cell_type": "markdown",
   "id": "scientific-dubai",
   "metadata": {},
   "source": [
    "# UNBOX"
   ]
  },
  {
   "cell_type": "code",
   "execution_count": 10,
   "id": "medium-field",
   "metadata": {},
   "outputs": [],
   "source": [
    "import unboxapi\n",
    "client = unboxapi.UnboxClient(email=\"rishramanathan@gmail.com\", password=\"00000000\")"
   ]
  },
  {
   "cell_type": "markdown",
   "id": "southwest-corruption",
   "metadata": {},
   "source": [
    "## Create function"
   ]
  },
  {
   "cell_type": "code",
   "execution_count": 30,
   "id": "maritime-writing",
   "metadata": {},
   "outputs": [],
   "source": [
    "def predict_function(model, text_list):\n",
    "    return model.predict_proba(text_list)"
   ]
  },
  {
   "cell_type": "code",
   "execution_count": 31,
   "id": "bored-treasury",
   "metadata": {},
   "outputs": [
    {
     "data": {
      "text/plain": [
       "array([[0.15715401, 0.84284599],\n",
       "       [0.20192416, 0.79807584],\n",
       "       [0.97165564, 0.02834436]])"
      ]
     },
     "execution_count": 31,
     "metadata": {},
     "output_type": "execute_result"
    }
   ],
   "source": [
    "texts = ['some new text, sweet noodles', 'happy time', 'sad day']\n",
    "\n",
    "predict_function(sentiment_lr, texts)"
   ]
  },
  {
   "cell_type": "markdown",
   "id": "classified-machinery",
   "metadata": {},
   "source": [
    "# Package (function, model) & Upload to Unbox Server"
   ]
  },
  {
   "cell_type": "code",
   "execution_count": null,
   "id": "present-seating",
   "metadata": {
    "scrolled": true
   },
   "outputs": [],
   "source": [
    "print('Uploading model...')\n",
    "response = client.add_model(function=predict_function, \n",
    "                            model=sentiment_lr,\n",
    "                            class_names=['negative', 'positive'],\n",
    "                            name='05.15.2021.sentiment_analyzer',\n",
    "                            description='this is my sklearn sentiment model')\n",
    "print(f'Complete. Response:')\n",
    "response.json()"
   ]
  },
  {
   "cell_type": "code",
   "execution_count": null,
   "id": "covered-grace",
   "metadata": {},
   "outputs": [],
   "source": [
    "print('\\nUploading dataset (from file)...')\n",
    "with tempfile.TemporaryDirectory() as tmpdir:\n",
    "    df_train.to_csv(f'{tmpdir}/dataset.csv')\n",
    "    response = client.add_dataset(file_path=f'{tmpdir}/dataset.csv', \n",
    "                                  name=df_train_name,\n",
    "                                  description='this is my sentiment train dataset',\n",
    "                                  class_names=['negative', 'positive'],\n",
    "                                  label_column_name='polarity',\n",
    "                                  text_column_name='text')\n",
    "print(f'Complete. Response:')\n",
    "response.json()"
   ]
  },
  {
   "cell_type": "code",
   "execution_count": 13,
   "id": "corporate-azerbaijan",
   "metadata": {},
   "outputs": [
    {
     "name": "stderr",
     "output_type": "stream",
     "text": [
      "\r",
      "  0%|          | 0.00/67.1k [00:00<?, ?B/s]"
     ]
    },
    {
     "name": "stdout",
     "output_type": "stream",
     "text": [
      "\n",
      "Uploading dataset (from data frame)...\n"
     ]
    },
    {
     "name": "stderr",
     "output_type": "stream",
     "text": [
      "\r",
      "100%|██████████| 67.1k/67.1k [00:00<00:00, 230kB/s]"
     ]
    },
    {
     "name": "stdout",
     "output_type": "stream",
     "text": [
      "Complete. Response:\n"
     ]
    },
    {
     "name": "stderr",
     "output_type": "stream",
     "text": [
      "\n"
     ]
    },
    {
     "data": {
      "text/plain": [
       "{'_links': {'models': '/api/datasets/13/models',\n",
       "  'rows': '/api/datasets/13/rows',\n",
       "  'self': '/api/datasets/13',\n",
       "  'tags': '/api/datasets/13/tags'},\n",
       " 'dateCreated': '2021-05-16T01:14:46.801164Z',\n",
       " 'description': 'this is my sentiment test dataset',\n",
       " 'id': 13,\n",
       " 'labelColumnIndex': 0,\n",
       " 'modelCount': 0,\n",
       " 'name': 'testdata.manual.2009.06.14',\n",
       " 'rowCount': 0,\n",
       " 'tagCount': 0,\n",
       " 'textColumnIndex': 5}"
      ]
     },
     "execution_count": 13,
     "metadata": {},
     "output_type": "execute_result"
    }
   ],
   "source": [
    "print('\\nUploading dataset (from data frame)...')\n",
    "response = client.add_dataframe(df=df_test,\n",
    "                                name=df_test_name, \n",
    "                                description='this is my sentiment test dataset',\n",
    "                                class_names=['negative', 'positive'],\n",
    "                                label_column_name='polarity',\n",
    "                                text_column_name='text')\n",
    "print(f'Complete. Response:')\n",
    "response.json()"
   ]
  }
 ],
 "metadata": {
  "kernelspec": {
   "display_name": "Python 3",
   "language": "python",
   "name": "python3"
  },
  "language_info": {
   "codemirror_mode": {
    "name": "ipython",
    "version": 3
   },
   "file_extension": ".py",
   "mimetype": "text/x-python",
   "name": "python",
   "nbconvert_exporter": "python",
   "pygments_lexer": "ipython3",
   "version": "3.7.10"
  }
 },
 "nbformat": 4,
 "nbformat_minor": 5
}
