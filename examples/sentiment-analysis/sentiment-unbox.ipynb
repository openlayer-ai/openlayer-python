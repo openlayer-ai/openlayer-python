{
 "cells": [
  {
   "cell_type": "markdown",
   "id": "wrong-composer",
   "metadata": {},
   "source": [
    "# IMPORT"
   ]
  },
  {
   "cell_type": "code",
   "execution_count": null,
   "id": "atlantic-norway",
   "metadata": {},
   "outputs": [],
   "source": [
    "import tempfile\n",
    "import numpy as np\n",
    "import pandas as pd\n",
    "from sklearn.feature_extraction.text import CountVectorizer\n",
    "from sklearn.linear_model import LogisticRegression\n",
    "from sklearn.metrics import classification_report, roc_auc_score, roc_curve\n",
    "from sklearn.pipeline import Pipeline"
   ]
  },
  {
   "cell_type": "markdown",
   "id": "chubby-clarity",
   "metadata": {},
   "source": [
    "# LOAD DATA, TRAIN MODEL"
   ]
  },
  {
   "cell_type": "code",
   "execution_count": null,
   "id": "precise-vatican",
   "metadata": {},
   "outputs": [],
   "source": [
    "%%bash\n",
    "\n",
    "if [ ! -d ./data ]; then\n",
    "    mkdir ./data\n",
    "fi\n",
    "\n",
    "if [ ! -f ./data/trainingandtestdata.zip ]; then\n",
    "    wget -q -O ./data/trainingandtestdata.zip http://cs.stanford.edu/people/alecmgo/trainingandtestdata.zip\n",
    "fi\n",
    "\n",
    "unzip -n ./data/trainingandtestdata.zip -d ./data"
   ]
  },
  {
   "cell_type": "code",
   "execution_count": null,
   "id": "incomplete-nirvana",
   "metadata": {},
   "outputs": [],
   "source": [
    "columns = ['polarity', 'tweetid', 'date', 'query_name', 'user', 'text']\n",
    "df_train_file_path = './data/training.1600000.processed.noemoticon.csv'\n",
    "df_train_name = 'training.1600000.processed.noemoticon'\n",
    "df_train = pd.read_csv(df_train_file_path,\n",
    "                      header=None,\n",
    "                      encoding='ISO-8859-1')\n",
    "\n",
    "df_test_file_path = './data/testdata.manual.2009.06.14.csv'\n",
    "df_test_name = 'testdata.manual.2009.06.14'\n",
    "df_test = pd.read_csv(df_test_file_path,\n",
    "                     header=None,\n",
    "                     encoding='ISO-8859-1')\n",
    "df_train.columns = columns\n",
    "df_test.columns = columns"
   ]
  },
  {
   "cell_type": "code",
   "execution_count": null,
   "id": "multiple-disability",
   "metadata": {},
   "outputs": [],
   "source": [
    "sentiment_lr = Pipeline([\n",
    "                         ('count_vect', CountVectorizer(min_df=100,\n",
    "                                                        ngram_range=(1,2),\n",
    "                                                        stop_words='english')), \n",
    "                         ('lr', LogisticRegression())])\n",
    "sentiment_lr.fit(df_train.text, df_train.polarity)"
   ]
  },
  {
   "cell_type": "code",
   "execution_count": null,
   "id": "civilian-auditor",
   "metadata": {},
   "outputs": [],
   "source": [
    "x_test, y_test = df_test.text[df_test.polarity != 2], df_test.polarity[df_test.polarity != 2]\n",
    "print(classification_report(y_test, sentiment_lr.predict(x_test)))"
   ]
  },
  {
   "cell_type": "code",
   "execution_count": null,
   "id": "numerous-ability",
   "metadata": {},
   "outputs": [],
   "source": [
    "sentiment_lr.predict([x_test[0]])"
   ]
  },
  {
   "cell_type": "code",
   "execution_count": null,
   "id": "electronic-princess",
   "metadata": {},
   "outputs": [],
   "source": [
    "sentiment_lr.predict(['good', 'bad'])"
   ]
  },
  {
   "cell_type": "markdown",
   "id": "scientific-dubai",
   "metadata": {},
   "source": [
    "# UNBOX"
   ]
  },
  {
   "cell_type": "code",
   "execution_count": 1,
   "id": "medium-field",
   "metadata": {},
   "outputs": [],
   "source": [
    "import unboxapi\n",
    "client = unboxapi.UnboxClient(email='me@vikasnair.com', password='00000000')"
   ]
  },
  {
   "cell_type": "markdown",
   "id": "southwest-corruption",
   "metadata": {},
   "source": [
    "## Create function"
   ]
  },
  {
   "cell_type": "code",
   "execution_count": null,
   "id": "maritime-writing",
   "metadata": {},
   "outputs": [],
   "source": [
    "# class_dict = { 4: 'positive', 2: 'neutral', 0: 'negative'}\n",
    "class_names = ['negative', 'positive']\n",
    "dataset_labels = [0, 4]\n",
    "def predict_function(model, text_list):\n",
    "    return model.predict_proba(text_list), class_names, dataset_labels"
   ]
  },
  {
   "cell_type": "code",
   "execution_count": null,
   "id": "bored-treasury",
   "metadata": {},
   "outputs": [],
   "source": [
    "texts = ['some new text, sweet noodles', 'happy time', 'sad day']\n",
    "\n",
    "predict_function(sentiment_lr, texts)"
   ]
  },
  {
   "cell_type": "markdown",
   "id": "classified-machinery",
   "metadata": {},
   "source": [
    "# Package (function, model) & Upload to Firebase"
   ]
  },
  {
   "cell_type": "code",
   "execution_count": null,
   "id": "present-seating",
   "metadata": {
    "scrolled": true
   },
   "outputs": [],
   "source": [
    "print('Uploading model...')\n",
    "client.add_model(function=predict_function, \n",
    "                 model=sentiment_lr, \n",
    "                 name='03.11.2021.sentiment_analyzer',\n",
    "                 description='this is my sklearn sentiment model')\n",
    "print('Complete.')"
   ]
  },
  {
   "cell_type": "code",
   "execution_count": null,
   "id": "covered-grace",
   "metadata": {},
   "outputs": [],
   "source": [
    "print('\\nUploading dataset (from file)...')\n",
    "with tempfile.TemporaryDirectory() as tmpdir:\n",
    "    df_train.to_csv(f'{tmpdir}/dataset.csv')\n",
    "    response_i = client.add_dataset(file_path=f'{tmpdir}/dataset.csv', \n",
    "                                    name=df_train_name, \n",
    "                                    description='this is my sentiment train dataset',\n",
    "                                    label_column_name='polarity',\n",
    "                                    text_column_name='text')\n",
    "print(f'Complete. Response: {response_i}')"
   ]
  },
  {
   "cell_type": "code",
   "execution_count": null,
   "id": "corporate-azerbaijan",
   "metadata": {},
   "outputs": [],
   "source": [
    "print('\\nUploading dataset (from data frame)...')\n",
    "response_j = client.add_dataframe(df=df_test, \n",
    "                                  name=df_test_name, \n",
    "                                  description='this is my sentiment test dataset',\n",
    "                                  label_column_name='polarity',\n",
    "                                  text_column_name='text')\n",
    "print(f'Complete. Response: {response_j}')"
   ]
  },
  {
   "cell_type": "code",
   "execution_count": 10,
   "id": "portable-ballot",
   "metadata": {},
   "outputs": [
    {
     "name": "stdout",
     "output_type": "stream",
     "text": [
      "b'<!DOCTYPE HTML PUBLIC \"-//W3C//DTD HTML 3.2 Final//EN\">\\n<title>500 Internal Server Error</title>\\n<h1>Internal Server Error</h1>\\n<p>The server encountered an internal error and was unable to complete your request. Either the server is overloaded or there is an error in the application.</p>\\n'\n"
     ]
    }
   ],
   "source": [
    "# Test error analysis / dataset-model association\n",
    "result = client._test_associate(model_id='6fd90796-82db-11eb-9127-1e008a21a079', \n",
    "                                dataset_id='89b0098a-82db-11eb-9127-1e008a21a079',\n",
    "                                user_id='ytGD2XvoGPSaippqWhAmi5V8mHT2')\n",
    "print(result.content)"
   ]
  },
  {
   "cell_type": "code",
   "execution_count": null,
   "id": "lovely-patch",
   "metadata": {},
   "outputs": [],
   "source": []
  }
 ],
 "metadata": {
  "kernelspec": {
   "display_name": "Python 3",
   "language": "python",
   "name": "python3"
  },
  "language_info": {
   "codemirror_mode": {
    "name": "ipython",
    "version": 3
   },
   "file_extension": ".py",
   "mimetype": "text/x-python",
   "name": "python",
   "nbconvert_exporter": "python",
   "pygments_lexer": "ipython3",
   "version": "3.7.10"
  }
 },
 "nbformat": 4,
 "nbformat_minor": 5
}
