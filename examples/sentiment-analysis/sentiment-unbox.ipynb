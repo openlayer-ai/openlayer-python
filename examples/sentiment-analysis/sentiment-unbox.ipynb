{
 "cells": [
  {
   "cell_type": "markdown",
   "id": "wrong-composer",
   "metadata": {},
   "source": [
    "# IMPORT"
   ]
  },
  {
   "cell_type": "code",
   "execution_count": 1,
   "id": "atlantic-norway",
   "metadata": {},
   "outputs": [],
   "source": [
    "import tempfile\n",
    "import numpy as np\n",
    "import pandas as pd\n",
    "from sklearn.feature_extraction.text import CountVectorizer\n",
    "from sklearn.linear_model import LogisticRegression\n",
    "from sklearn.metrics import classification_report, roc_auc_score, roc_curve\n",
    "from sklearn.pipeline import Pipeline"
   ]
  },
  {
   "cell_type": "markdown",
   "id": "chubby-clarity",
   "metadata": {},
   "source": [
    "# LOAD DATA, TRAIN MODEL"
   ]
  },
  {
   "cell_type": "code",
   "execution_count": 2,
   "id": "precise-vatican",
   "metadata": {},
   "outputs": [
    {
     "name": "stdout",
     "output_type": "stream",
     "text": [
      "Archive:  ./data/trainingandtestdata.zip\n"
     ]
    }
   ],
   "source": [
    "%%bash\n",
    "\n",
    "if [ ! -d ./data ]; then\n",
    "    mkdir ./data\n",
    "fi\n",
    "\n",
    "if [ ! -f ./data/trainingandtestdata.zip ]; then\n",
    "    wget -q -O ./data/trainingandtestdata.zip http://cs.stanford.edu/people/alecmgo/trainingandtestdata.zip\n",
    "fi\n",
    "\n",
    "unzip -n ./data/trainingandtestdata.zip -d ./data"
   ]
  },
  {
   "cell_type": "code",
   "execution_count": 3,
   "id": "incomplete-nirvana",
   "metadata": {},
   "outputs": [],
   "source": [
    "columns = ['polarity', 'tweetid', 'date', 'query_name', 'user', 'text']\n",
    "df_train_file_path = './data/training.1600000.processed.noemoticon.csv'\n",
    "df_train_name = 'training.1600000.processed.noemoticon'\n",
    "df_train = pd.read_csv(df_train_file_path,\n",
    "                      header=None,\n",
    "                      encoding='ISO-8859-1')\n",
    "\n",
    "df_test_file_path = './data/testdata.manual.2009.06.14.csv'\n",
    "df_test_name = 'testdata.manual.2009.06.14'\n",
    "df_test = pd.read_csv(df_test_file_path,\n",
    "                     header=None,\n",
    "                     encoding='ISO-8859-1')\n",
    "df_train.columns = columns\n",
    "df_test.columns = columns"
   ]
  },
  {
   "cell_type": "code",
   "execution_count": 4,
   "id": "multiple-disability",
   "metadata": {},
   "outputs": [
    {
     "name": "stderr",
     "output_type": "stream",
     "text": [
      "/Users/rishabramanathan/opt/miniconda3/envs/unbox_demo/lib/python3.7/site-packages/sklearn/linear_model/_logistic.py:765: ConvergenceWarning: lbfgs failed to converge (status=1):\n",
      "STOP: TOTAL NO. of ITERATIONS REACHED LIMIT.\n",
      "\n",
      "Increase the number of iterations (max_iter) or scale the data as shown in:\n",
      "    https://scikit-learn.org/stable/modules/preprocessing.html\n",
      "Please also refer to the documentation for alternative solver options:\n",
      "    https://scikit-learn.org/stable/modules/linear_model.html#logistic-regression\n",
      "  extra_warning_msg=_LOGISTIC_SOLVER_CONVERGENCE_MSG)\n"
     ]
    },
    {
     "data": {
      "text/plain": [
       "Pipeline(steps=[('count_vect',\n",
       "                 CountVectorizer(min_df=100, ngram_range=(1, 2),\n",
       "                                 stop_words='english')),\n",
       "                ('lr', LogisticRegression())])"
      ]
     },
     "execution_count": 4,
     "metadata": {},
     "output_type": "execute_result"
    }
   ],
   "source": [
    "sentiment_lr = Pipeline([\n",
    "                         ('count_vect', CountVectorizer(min_df=100,\n",
    "                                                        ngram_range=(1,2),\n",
    "                                                        stop_words='english')), \n",
    "                         ('lr', LogisticRegression())])\n",
    "sentiment_lr.fit(df_train.text, df_train.polarity)"
   ]
  },
  {
   "cell_type": "code",
   "execution_count": 5,
   "id": "civilian-auditor",
   "metadata": {},
   "outputs": [
    {
     "name": "stdout",
     "output_type": "stream",
     "text": [
      "              precision    recall  f1-score   support\n",
      "\n",
      "           0       0.87      0.82      0.84       177\n",
      "           4       0.83      0.88      0.86       182\n",
      "\n",
      "    accuracy                           0.85       359\n",
      "   macro avg       0.85      0.85      0.85       359\n",
      "weighted avg       0.85      0.85      0.85       359\n",
      "\n"
     ]
    }
   ],
   "source": [
    "x_test, y_test = df_test.text[df_test.polarity != 2], df_test.polarity[df_test.polarity != 2]\n",
    "print(classification_report(y_test, sentiment_lr.predict(x_test)))"
   ]
  },
  {
   "cell_type": "code",
   "execution_count": 6,
   "id": "numerous-ability",
   "metadata": {},
   "outputs": [
    {
     "data": {
      "text/plain": [
       "array([4])"
      ]
     },
     "execution_count": 6,
     "metadata": {},
     "output_type": "execute_result"
    }
   ],
   "source": [
    "sentiment_lr.predict([x_test[0]])"
   ]
  },
  {
   "cell_type": "code",
   "execution_count": 7,
   "id": "electronic-princess",
   "metadata": {},
   "outputs": [
    {
     "data": {
      "text/plain": [
       "array([4, 0])"
      ]
     },
     "execution_count": 7,
     "metadata": {},
     "output_type": "execute_result"
    }
   ],
   "source": [
    "sentiment_lr.predict(['good', 'bad'])"
   ]
  },
  {
   "cell_type": "markdown",
   "id": "scientific-dubai",
   "metadata": {},
   "source": [
    "# UNBOX"
   ]
  },
  {
   "cell_type": "code",
   "execution_count": 1,
   "id": "medium-field",
   "metadata": {},
   "outputs": [],
   "source": [
    "import unboxapi\n",
    "client = unboxapi.UnboxClient(email='me@vikasnair.com', password='00000000')"
   ]
  },
  {
   "cell_type": "markdown",
   "id": "southwest-corruption",
   "metadata": {},
   "source": [
    "## Create function"
   ]
  },
  {
   "cell_type": "code",
   "execution_count": 9,
   "id": "maritime-writing",
   "metadata": {},
   "outputs": [],
   "source": [
    "# class_dict = { 4: 'positive', 2: 'neutral', 0: 'negative'}\n",
    "class_names = ['negative', 'positive']\n",
    "dataset_labels = [0, 4]\n",
    "def predict_function(model, text_list):\n",
    "    return model.predict_proba(text_list), class_names, dataset_labels"
   ]
  },
  {
   "cell_type": "code",
   "execution_count": 10,
   "id": "bored-treasury",
   "metadata": {},
   "outputs": [
    {
     "data": {
      "text/plain": [
       "(array([[0.15715401, 0.84284599],\n",
       "        [0.20192416, 0.79807584],\n",
       "        [0.97165564, 0.02834436]]),\n",
       " ['negative', 'positive'],\n",
       " [0, 4])"
      ]
     },
     "execution_count": 10,
     "metadata": {},
     "output_type": "execute_result"
    }
   ],
   "source": [
    "texts = ['some new text, sweet noodles', 'happy time', 'sad day']\n",
    "\n",
    "predict_function(sentiment_lr, texts)"
   ]
  },
  {
   "cell_type": "markdown",
   "id": "classified-machinery",
   "metadata": {},
   "source": [
    "# Package (function, model) & Upload to Firebase"
   ]
  },
  {
   "cell_type": "code",
   "execution_count": 13,
   "id": "present-seating",
   "metadata": {
    "scrolled": true
   },
   "outputs": [
    {
     "name": "stdout",
     "output_type": "stream",
     "text": [
      "Uploading model...\n",
      "[2021-03-13 16:42:52,567] WARNING - pip package requirement scikit-learn already exist\n",
      "[2021-03-13 16:43:25,150] INFO - Detected non-PyPI-released BentoML installed, copying local BentoML modulefiles to target saved bundle path..\n"
     ]
    },
    {
     "name": "stderr",
     "output_type": "stream",
     "text": [
      "warning: no previously-included files matching '*~' found anywhere in distribution\n",
      "warning: no previously-included files matching '*.pyo' found anywhere in distribution\n",
      "warning: no previously-included files matching '.git' found anywhere in distribution\n",
      "warning: no previously-included files matching '.ipynb_checkpoints' found anywhere in distribution\n",
      "warning: no previously-included files matching '__pycache__' found anywhere in distribution\n",
      "warning: no directories found matching 'bentoml/yatai/web/dist'\n",
      "no previously-included directories found matching 'e2e_tests'\n",
      "no previously-included directories found matching 'tests'\n",
      "no previously-included directories found matching 'benchmark'\n"
     ]
    },
    {
     "name": "stdout",
     "output_type": "stream",
     "text": [
      "UPDATING BentoML-0.11.0+33.g7e83376/bentoml/_version.py\n",
      "set BentoML-0.11.0+33.g7e83376/bentoml/_version.py to '0.11.0+33.g7e83376'\n",
      "Complete.\n"
     ]
    }
   ],
   "source": [
    "print('Uploading model...')\n",
    "client.add_model(function=predict_function, \n",
    "                 model=sentiment_lr, \n",
    "                 name='03.11.2021.sentiment_analyzer',\n",
    "                 description='this is my sklearn sentiment model')\n",
    "print('Complete.')"
   ]
  },
  {
   "cell_type": "code",
   "execution_count": 14,
   "id": "covered-grace",
   "metadata": {},
   "outputs": [
    {
     "name": "stdout",
     "output_type": "stream",
     "text": [
      "\n",
      "Uploading dataset (from file)...\n",
      "Complete. Response: {'columns': ['Unnamed: 0', 'polarity', 'tweetid', 'date', 'query_name', 'user', 'text'], 'datasetId': '62f26430-845e-11eb-a9b2-1e008a21a079', 'description': 'this is my sentiment train dataset', 'labelColumnName': 'polarity', 'name': 'training.1600000.processed.noemoticon', 'otherColumns': ['Unnamed: 0', 'polarity', 'tweetid'], 'textColumnName': 'text', 'textColumns': ['date', 'query_name', 'user', 'text']}\n"
     ]
    }
   ],
   "source": [
    "print('\\nUploading dataset (from file)...')\n",
    "with tempfile.TemporaryDirectory() as tmpdir:\n",
    "    df_train.to_csv(f'{tmpdir}/dataset.csv')\n",
    "    response_i = client.add_dataset(file_path=f'{tmpdir}/dataset.csv', \n",
    "                                    name=df_train_name, \n",
    "                                    description='this is my sentiment train dataset',\n",
    "                                    label_column_name='polarity',\n",
    "                                    text_column_name='text')\n",
    "print(f'Complete. Response: {response_i}')"
   ]
  },
  {
   "cell_type": "code",
   "execution_count": null,
   "id": "corporate-azerbaijan",
   "metadata": {},
   "outputs": [],
   "source": [
    "print('\\nUploading dataset (from data frame)...')\n",
    "response_j = client.add_dataframe(df=df_test, \n",
    "                                  name=df_test_name, \n",
    "                                  description='this is my sentiment test dataset',\n",
    "                                  label_column_name='polarity',\n",
    "                                  text_column_name='text')\n",
    "print(f'Complete. Response: {response_j}')"
   ]
  },
  {
   "cell_type": "code",
   "execution_count": 2,
   "id": "portable-ballot",
   "metadata": {},
   "outputs": [
    {
     "name": "stdout",
     "output_type": "stream",
     "text": [
      "b'{\"accuracy\":0.78389625,\"confusionMatrix\":\"[[601610, 198390], [147376, 652624]]\",\"datasetId\":\"62f26430-845e-11eb-a9b2-1e008a21a079\",\"f1\":0.7836763410978951,\"modelId\":\"49b71a1a-845e-11eb-a9b2-1e008a21a079\",\"nearDuplicates\":\"[[0], [1], [2], [3], [747032, 748075, 773226, 785590, 786543, 1060454, 1248661, 1265120, 1452592, 1532443, 1594818, 729286, 710223, 707142, 737968], [743573, 766419, 1346035, 1410079, 5], [196815, 208955, 283686, 84168, 6, 103005, 185250, 158167, 302075, 330174, 323783, 326559, 407913, 410133, 54], [7], [292178, 726410, 355326, 1029937, 109554, 8], [90002, 130471, 124945, 65405, 136259, 145422, 164290, 170847, 209016, 244167, 221146, 258411, 210893, 259308, 9], [10], [11], [12], [13], [14], [15], [16], [17], [18], [19]]\",\"runId\":\"182072ac-845f-11eb-a4c9-1e008a21a079\"}\\n'\n"
     ]
    }
   ],
   "source": [
    "# Test error analysis / dataset-model association\n",
    "result = client._test_associate(model_id='49b71a1a-845e-11eb-a9b2-1e008a21a079', \n",
    "                                dataset_id='62f26430-845e-11eb-a9b2-1e008a21a079',\n",
    "                                user_id='ytGD2XvoGPSaippqWhAmi5V8mHT2')\n",
    "print(result.content)"
   ]
  },
  {
   "cell_type": "code",
   "execution_count": 14,
   "id": "friendly-street",
   "metadata": {},
   "outputs": [
    {
     "name": "stdout",
     "output_type": "stream",
     "text": [
      "b'{\"examples\":[],\"nfailed\":0,\"npassed\":2}\\n'\n"
     ]
    }
   ],
   "source": [
    "# Test checklist invariance test\n",
    "test_config = {'testType': 'inv', 'examplesPerRow': 3, 'perturbationMode': 'change_names'}\n",
    "\n",
    "result = client._test_add_test_suite(run_id='182072ac-845f-11eb-a4c9-1e008a21a079', \n",
    "                                     user_id='ytGD2XvoGPSaippqWhAmi5V8mHT2',\n",
    "                                     test_config=test_config)\n",
    "print(result.content)"
   ]
  }
 ],
 "metadata": {
  "kernelspec": {
   "display_name": "Python 3",
   "language": "python",
   "name": "python3"
  },
  "language_info": {
   "codemirror_mode": {
    "name": "ipython",
    "version": 3
   },
   "file_extension": ".py",
   "mimetype": "text/x-python",
   "name": "python",
   "nbconvert_exporter": "python",
   "pygments_lexer": "ipython3",
   "version": "3.7.10"
  }
 },
 "nbformat": 4,
 "nbformat_minor": 5
}
