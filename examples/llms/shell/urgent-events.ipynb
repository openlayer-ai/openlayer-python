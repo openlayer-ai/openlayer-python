{
 "cells": [
  {
   "cell_type": "markdown",
   "id": "9deda21b",
   "metadata": {},
   "source": [
    "[![Open In Colab](https://colab.research.google.com/assets/colab-badge.svg)](https://colab.research.google.com/github/openlayer-ai/examples-gallery/blob/main/text-classification/pilots/pilots-urgent-event.ipynb)\n",
    "\n",
    "\n",
    "# <a id=\"top\">Urgent event classification using sklearn</a>\n",
    "\n",
    "This notebook illustrates how sklearn models can be uploaded to the Openlayer platform.\n",
    "\n",
    "\n",
    "## <a id=\"toc\">Table of contents</a>\n",
    "\n",
    "1. [**Getting the data and training the model**](#1)\n",
    "    - [Downloading the dataset](#download)\n",
    "    - [Training the model](#train)\n",
    "    \n",
    "\n",
    "2. [**Using Openlayer's Python API**](#2)\n",
    "    - [Instantiating the client](#client)\n",
    "    - [Creating a project](#project)\n",
    "    - [Uploading datasets](#dataset)\n",
    "    - [Uploading models](#model)\n",
    "        - [Shell models](#shell)\n",
    "    - [Committing and pushing to the platform](#commit)"
   ]
  },
  {
   "cell_type": "code",
   "execution_count": null,
   "id": "56758c0a",
   "metadata": {},
   "outputs": [],
   "source": [
    "%%bash\n",
    "\n",
    "if [ ! -e \"requirements.txt\" ]; then\n",
    "    curl \"https://raw.githubusercontent.com/openlayer-ai/examples-gallery/main/text-classification/documentation-tutorial/requirements.txt\" --output \"requirements.txt\"\n",
    "fi"
   ]
  },
  {
   "cell_type": "code",
   "execution_count": null,
   "id": "7debb76b",
   "metadata": {},
   "outputs": [],
   "source": [
    "!pip install -r requirements.txt"
   ]
  },
  {
   "cell_type": "markdown",
   "id": "ee2b5430",
   "metadata": {},
   "source": [
    "## <a id=\"1\"> 1. Getting the data and training the model </a>\n",
    "\n",
    "[Back to top](#top)\n",
    "\n",
    "In this first part, we will get the dataset, pre-process it, split it into training and validation sets, and train a model. Feel free to skim through this section if you are already comfortable with how these steps look for an sklearn model.   "
   ]
  },
  {
   "cell_type": "code",
   "execution_count": 1,
   "id": "4f69dcb3",
   "metadata": {},
   "outputs": [],
   "source": [
    "import numpy as np\n",
    "import pandas as pd\n",
    "\n",
    "from sklearn.ensemble import GradientBoostingClassifier\n",
    "from sklearn.feature_extraction.text import CountVectorizer\n",
    "from sklearn.metrics import classification_report\n",
    "from sklearn.pipeline import Pipeline"
   ]
  },
  {
   "cell_type": "markdown",
   "id": "1bcd7852",
   "metadata": {},
   "source": [
    "### <a id=\"download\">Downloading the dataset </a>\n",
    "\n",
    "We have stored the dataset on the following S3 bucket. If, for some reason, you get an error reading the csv directly from it, feel free to copy and paste the URL in your browser and download the csv file. "
   ]
  },
  {
   "cell_type": "code",
   "execution_count": 2,
   "id": "2ed8bf11",
   "metadata": {},
   "outputs": [],
   "source": [
    "%%bash\n",
    "\n",
    "if [ ! -e \"urgent_train.csv\" ]; then\n",
    "    curl \"https://openlayer-static-assets.s3.us-west-2.amazonaws.com/examples-datasets/text-classification/pilots/urgent_train.csv\" --output \"urgent_train.csv\"\n",
    "fi\n",
    "\n",
    "if [ ! -e \"urgent_val.csv\" ]; then\n",
    "    curl \"https://openlayer-static-assets.s3.us-west-2.amazonaws.com/examples-datasets/text-classification/pilots/urgent_val.csv\" --output \"urgent_val.csv\"\n",
    "fi"
   ]
  },
  {
   "cell_type": "code",
   "execution_count": 3,
   "id": "ac811397",
   "metadata": {},
   "outputs": [
    {
     "data": {
      "text/html": [
       "<div>\n",
       "<style scoped>\n",
       "    .dataframe tbody tr th:only-of-type {\n",
       "        vertical-align: middle;\n",
       "    }\n",
       "\n",
       "    .dataframe tbody tr th {\n",
       "        vertical-align: top;\n",
       "    }\n",
       "\n",
       "    .dataframe thead th {\n",
       "        text-align: right;\n",
       "    }\n",
       "</style>\n",
       "<table border=\"1\" class=\"dataframe\">\n",
       "  <thead>\n",
       "    <tr style=\"text-align: right;\">\n",
       "      <th></th>\n",
       "      <th>text</th>\n",
       "      <th>label</th>\n",
       "    </tr>\n",
       "  </thead>\n",
       "  <tbody>\n",
       "    <tr>\n",
       "      <th>0</th>\n",
       "      <td>i have to do what i have to do i feel like a l...</td>\n",
       "      <td>0</td>\n",
       "    </tr>\n",
       "    <tr>\n",
       "      <th>1</th>\n",
       "      <td>i feel like i am being punished for the choice...</td>\n",
       "      <td>0</td>\n",
       "    </tr>\n",
       "    <tr>\n",
       "      <th>2</th>\n",
       "      <td>i highly recommend it if you want to feel tota...</td>\n",
       "      <td>0</td>\n",
       "    </tr>\n",
       "    <tr>\n",
       "      <th>3</th>\n",
       "      <td>if i download images from internet for two hou...</td>\n",
       "      <td>0</td>\n",
       "    </tr>\n",
       "    <tr>\n",
       "      <th>4</th>\n",
       "      <td>i have to mention that i feel slightly unhappy...</td>\n",
       "      <td>0</td>\n",
       "    </tr>\n",
       "  </tbody>\n",
       "</table>\n",
       "</div>"
      ],
      "text/plain": [
       "                                                text  label\n",
       "0  i have to do what i have to do i feel like a l...      0\n",
       "1  i feel like i am being punished for the choice...      0\n",
       "2  i highly recommend it if you want to feel tota...      0\n",
       "3  if i download images from internet for two hou...      0\n",
       "4  i have to mention that i feel slightly unhappy...      0"
      ]
     },
     "execution_count": 3,
     "metadata": {},
     "output_type": "execute_result"
    }
   ],
   "source": [
    "validation_set = pd.read_csv(\"./urgent_val.csv\")\n",
    "\n",
    "validation_set.head()"
   ]
  },
  {
   "cell_type": "code",
   "execution_count": 4,
   "id": "73ee9910",
   "metadata": {},
   "outputs": [],
   "source": [
    "# Emulating an LLM dataset\n",
    "validation_set[\"input_var\"] = 7\n",
    "validation_set[\"model_output\"] = validation_set[\"text\"]\n",
    "validation_set[\"label\"] = validation_set[\"text\"]"
   ]
  },
  {
   "cell_type": "code",
   "execution_count": 5,
   "id": "03acd643",
   "metadata": {},
   "outputs": [
    {
     "data": {
      "text/html": [
       "<div>\n",
       "<style scoped>\n",
       "    .dataframe tbody tr th:only-of-type {\n",
       "        vertical-align: middle;\n",
       "    }\n",
       "\n",
       "    .dataframe tbody tr th {\n",
       "        vertical-align: top;\n",
       "    }\n",
       "\n",
       "    .dataframe thead th {\n",
       "        text-align: right;\n",
       "    }\n",
       "</style>\n",
       "<table border=\"1\" class=\"dataframe\">\n",
       "  <thead>\n",
       "    <tr style=\"text-align: right;\">\n",
       "      <th></th>\n",
       "      <th>text</th>\n",
       "      <th>label</th>\n",
       "      <th>input_var</th>\n",
       "      <th>model_output</th>\n",
       "    </tr>\n",
       "  </thead>\n",
       "  <tbody>\n",
       "    <tr>\n",
       "      <th>0</th>\n",
       "      <td>i have to do what i have to do i feel like a l...</td>\n",
       "      <td>i have to do what i have to do i feel like a l...</td>\n",
       "      <td>7</td>\n",
       "      <td>i have to do what i have to do i feel like a l...</td>\n",
       "    </tr>\n",
       "    <tr>\n",
       "      <th>1</th>\n",
       "      <td>i feel like i am being punished for the choice...</td>\n",
       "      <td>i feel like i am being punished for the choice...</td>\n",
       "      <td>7</td>\n",
       "      <td>i feel like i am being punished for the choice...</td>\n",
       "    </tr>\n",
       "    <tr>\n",
       "      <th>2</th>\n",
       "      <td>i highly recommend it if you want to feel tota...</td>\n",
       "      <td>i highly recommend it if you want to feel tota...</td>\n",
       "      <td>7</td>\n",
       "      <td>i highly recommend it if you want to feel tota...</td>\n",
       "    </tr>\n",
       "    <tr>\n",
       "      <th>3</th>\n",
       "      <td>if i download images from internet for two hou...</td>\n",
       "      <td>if i download images from internet for two hou...</td>\n",
       "      <td>7</td>\n",
       "      <td>if i download images from internet for two hou...</td>\n",
       "    </tr>\n",
       "    <tr>\n",
       "      <th>4</th>\n",
       "      <td>i have to mention that i feel slightly unhappy...</td>\n",
       "      <td>i have to mention that i feel slightly unhappy...</td>\n",
       "      <td>7</td>\n",
       "      <td>i have to mention that i feel slightly unhappy...</td>\n",
       "    </tr>\n",
       "  </tbody>\n",
       "</table>\n",
       "</div>"
      ],
      "text/plain": [
       "                                                text  \\\n",
       "0  i have to do what i have to do i feel like a l...   \n",
       "1  i feel like i am being punished for the choice...   \n",
       "2  i highly recommend it if you want to feel tota...   \n",
       "3  if i download images from internet for two hou...   \n",
       "4  i have to mention that i feel slightly unhappy...   \n",
       "\n",
       "                                               label  input_var  \\\n",
       "0  i have to do what i have to do i feel like a l...          7   \n",
       "1  i feel like i am being punished for the choice...          7   \n",
       "2  i highly recommend it if you want to feel tota...          7   \n",
       "3  if i download images from internet for two hou...          7   \n",
       "4  i have to mention that i feel slightly unhappy...          7   \n",
       "\n",
       "                                        model_output  \n",
       "0  i have to do what i have to do i feel like a l...  \n",
       "1  i feel like i am being punished for the choice...  \n",
       "2  i highly recommend it if you want to feel tota...  \n",
       "3  if i download images from internet for two hou...  \n",
       "4  i have to mention that i feel slightly unhappy...  "
      ]
     },
     "execution_count": 5,
     "metadata": {},
     "output_type": "execute_result"
    }
   ],
   "source": [
    "validation_set.head()"
   ]
  },
  {
   "cell_type": "markdown",
   "id": "eb702d1f",
   "metadata": {},
   "source": [
    "## <a id=\"2\"> 2. Using Openlayer's Python API</a>\n",
    "\n",
    "[Back to top](#top)\n",
    "\n",
    "Now it's time to upload the datasets and model to the Openlayer platform."
   ]
  },
  {
   "cell_type": "markdown",
   "id": "d03531ba",
   "metadata": {},
   "source": [
    "### <a id=\"client\">Instantiating the client</a>"
   ]
  },
  {
   "cell_type": "code",
   "execution_count": 6,
   "id": "65964db9",
   "metadata": {},
   "outputs": [],
   "source": [
    "import openlayer\n",
    "\n",
    "openlayer.api.STORAGE = openlayer.api.StorageType.ONPREM\n",
    "openlayer.api.OPENLAYER_ENDPOINT = \"http://localhost:8080/v1\"\n",
    "\n",
    "client = openlayer.OpenlayerClient(\"WQPSLkDT4kvRTU7JzWM9Wa-L5OQs-Xl9\")"
   ]
  },
  {
   "cell_type": "code",
   "execution_count": 7,
   "id": "2dee6250",
   "metadata": {},
   "outputs": [
    {
     "name": "stdout",
     "output_type": "stream",
     "text": [
      "Found your project. Navigate to http://localhost:8000/w-1db4b41/5873426e-6de8-40a4-9530-2071c6d8bc3e to see it.\n"
     ]
    }
   ],
   "source": [
    "from openlayer.tasks import TaskType\n",
    "\n",
    "project = client.create_or_load_project(\n",
    "    name=\"Urgent event classification - LLM\",\n",
    "    task_type=TaskType.TextClassification,\n",
    "    description=\"Evaluation of ML approaches to classify messages\"\n",
    ")"
   ]
  },
  {
   "cell_type": "code",
   "execution_count": 8,
   "id": "e5266a51",
   "metadata": {},
   "outputs": [],
   "source": [
    "# Some variables that will go into the `dataset_config.yaml` file\n",
    "column_names = list(validation_set.columns)\n",
    "input_variable_names = [\"text\", \"input_var\"]\n",
    "output_column_name = \"model_output\"\n",
    "ground_truth_column_name = \"label\""
   ]
  },
  {
   "cell_type": "code",
   "execution_count": 9,
   "id": "5c9f4e21",
   "metadata": {},
   "outputs": [],
   "source": [
    "import yaml \n",
    "\n",
    "validation_dataset_config = {\n",
    "    \"columnNames\": column_names,\n",
    "    \"inputVariableNames\": input_variable_names,\n",
    "    \"label\": \"validation\",\n",
    "    \"outputColumnName\": output_column_name,\n",
    "}\n",
    "\n",
    "with open(\"validation_dataset_config.yaml\", \"w\") as dataset_config_file:\n",
    "    yaml.dump(validation_dataset_config, dataset_config_file, default_flow_style=False)"
   ]
  },
  {
   "cell_type": "code",
   "execution_count": 10,
   "id": "de279558",
   "metadata": {},
   "outputs": [
    {
     "name": "stderr",
     "output_type": "stream",
     "text": [
      "[2023-07-21 11:01:35,299] - INFO - ----------------------------------------------------------------------------\n",
      "[2023-07-21 11:01:35,300] - INFO -                           Dataset validations                          \n",
      "[2023-07-21 11:01:35,300] - INFO - ----------------------------------------------------------------------------\n",
      "\n",
      "[2023-07-21 11:01:35,314] - INFO - ✓ All validation dataset validations passed!\n",
      "\n"
     ]
    },
    {
     "name": "stdout",
     "output_type": "stream",
     "text": [
      "<openlayer.validators.dataset_validators.LLMDatasetValidator object at 0x7fe6c850fe20>\n",
      "Found an existing `validation` resource staged.\n",
      "Do you want to overwrite it? [y/n] \n",
      "Keeping the existing `validation` resource staged.\n"
     ]
    }
   ],
   "source": [
    "project.add_dataframe(\n",
    "    dataset_df=validation_set,\n",
    "    dataset_config_file_path=\"validation_dataset_config.yaml\",\n",
    ")"
   ]
  },
  {
   "cell_type": "code",
   "execution_count": 11,
   "id": "fc7fbd33",
   "metadata": {},
   "outputs": [
    {
     "name": "stdout",
     "output_type": "stream",
     "text": [
      "The following resources are staged, waiting to be committed:\n",
      "\t - model\n",
      "\t - validation\n",
      "Use the `commit` method to add a commit message to your changes.\n"
     ]
    }
   ],
   "source": [
    "project.status()"
   ]
  },
  {
   "cell_type": "markdown",
   "id": "1c27a597",
   "metadata": {},
   "source": [
    "#### <a id=\"shell\">Shell models</a>\n",
    "\n",
    "To upload a shell model, we only need to define its name, the architecture type, and add some metadata that will be rendered in the platform to help us identify it. This information should be saved to a `model_config.yaml` file.\n",
    "\n",
    "Let's create a `model_config.yaml` file for our model:"
   ]
  },
  {
   "cell_type": "code",
   "execution_count": 14,
   "id": "888cdd36",
   "metadata": {},
   "outputs": [],
   "source": [
    "import yaml\n",
    "\n",
    "llm_config = {\n",
    "    \"modelType\": \"shell\",\n",
    "    \"name\": \"Urgent event classifier\",\n",
    "    \"architectureType\": \"llm\",\n",
    "    \"metadata\": {  # Can add anything here, as long as it is a dict\n",
    "        \"blabla\": \"123\",\n",
    "    },\n",
    "}\n",
    "\n",
    "with open(\"llm_config.yaml\", \"w\") as model_config_file:\n",
    "    yaml.dump(llm_config, model_config_file, default_flow_style=False)"
   ]
  },
  {
   "cell_type": "code",
   "execution_count": 15,
   "id": "1481fab4",
   "metadata": {},
   "outputs": [
    {
     "name": "stderr",
     "output_type": "stream",
     "text": [
      "[2023-07-21 11:01:43,699] - INFO - ----------------------------------------------------------------------------\n",
      "[2023-07-21 11:01:43,702] - INFO -                           Model validations                          \n",
      "[2023-07-21 11:01:43,708] - INFO - ----------------------------------------------------------------------------\n",
      "\n",
      "[2023-07-21 11:01:43,718] - INFO - ✓ All model validations passed!\n",
      "\n"
     ]
    },
    {
     "name": "stdout",
     "output_type": "stream",
     "text": [
      "<openlayer.validators.model_validators.LLMValidator object at 0x7fe70b2246d0>\n",
      "{'name': 'Urgent event classifier', 'metadata': {'blabla': '123'}, 'architectureType': 'llm'}\n",
      "None\n",
      "Found an existing `model` resource staged.\n",
      "Do you want to overwrite it? [y/n] y\n",
      "Overwriting previously staged `model` resource...\n",
      "Staged the `model` resource!\n"
     ]
    }
   ],
   "source": [
    "project.add_model(\n",
    "    model_config_file_path=\"llm_config.yaml\",\n",
    ")"
   ]
  },
  {
   "cell_type": "markdown",
   "id": "c122ac03",
   "metadata": {},
   "source": [
    "We can check that both datasets and model are staged using the `project.status()` method."
   ]
  },
  {
   "cell_type": "code",
   "execution_count": 16,
   "id": "8be750bd",
   "metadata": {},
   "outputs": [
    {
     "name": "stdout",
     "output_type": "stream",
     "text": [
      "The following resources are staged, waiting to be committed:\n",
      "\t - model\n",
      "\t - validation\n",
      "Use the `commit` method to add a commit message to your changes.\n"
     ]
    }
   ],
   "source": [
    "project.status()"
   ]
  },
  {
   "cell_type": "markdown",
   "id": "719be517",
   "metadata": {},
   "source": [
    "### <a id=\"commit\"> Committing and pushing to the platform </a>\n",
    "\n",
    "Finally, we can commit the first project version to the platform. "
   ]
  },
  {
   "cell_type": "code",
   "execution_count": 17,
   "id": "32250bc6",
   "metadata": {},
   "outputs": [
    {
     "name": "stderr",
     "output_type": "stream",
     "text": [
      "[2023-07-21 11:01:46,298] - INFO - ----------------------------------------------------------------------------\n",
      "[2023-07-21 11:01:46,310] - INFO -                           Commit message validations                          \n",
      "[2023-07-21 11:01:46,311] - INFO - ----------------------------------------------------------------------------\n",
      "\n",
      "[2023-07-21 11:01:46,312] - INFO - ✓ All commit message validations passed!\n",
      "\n"
     ]
    },
    {
     "name": "stdout",
     "output_type": "stream",
     "text": [
      "Committed!\n"
     ]
    }
   ],
   "source": [
    "project.commit(\"Initial commit!\")"
   ]
  },
  {
   "cell_type": "code",
   "execution_count": 18,
   "id": "c9a29256",
   "metadata": {},
   "outputs": [
    {
     "name": "stdout",
     "output_type": "stream",
     "text": [
      "The following resources are committed, waiting to be pushed:\n",
      "\t - model\n",
      "\t - validation\n",
      "Commit message from Fri Jul 21 11:01:46 2023:\n",
      "\t Initial commit!\n",
      "Use the `push` method to push your changes to the platform.\n"
     ]
    }
   ],
   "source": [
    "project.status()"
   ]
  },
  {
   "cell_type": "code",
   "execution_count": 19,
   "id": "77743d22",
   "metadata": {},
   "outputs": [
    {
     "name": "stderr",
     "output_type": "stream",
     "text": [
      "[2023-07-21 11:01:47,042] - INFO - ----------------------------------------------------------------------------\n",
      "[2023-07-21 11:01:47,043] - INFO -                           Commit bundle validations                          \n",
      "[2023-07-21 11:01:47,043] - INFO - ----------------------------------------------------------------------------\n",
      "\n"
     ]
    },
    {
     "name": "stdout",
     "output_type": "stream",
     "text": [
      "entrou\n",
      "model_output\n"
     ]
    },
    {
     "ename": "ValueError",
     "evalue": "Invalid model type: None. The model type must be one of 'shell', 'full' or 'baseline'.",
     "output_type": "error",
     "traceback": [
      "\u001b[0;31m---------------------------------------------------------------------------\u001b[0m",
      "\u001b[0;31mValueError\u001b[0m                                Traceback (most recent call last)",
      "Cell \u001b[0;32mIn[19], line 1\u001b[0m\n\u001b[0;32m----> 1\u001b[0m \u001b[43mproject\u001b[49m\u001b[38;5;241;43m.\u001b[39;49m\u001b[43mpush\u001b[49m\u001b[43m(\u001b[49m\u001b[43m)\u001b[49m\n",
      "File \u001b[0;32m~/Desktop/openlayer-repos/openlayer-python-client/openlayer/projects.py:82\u001b[0m, in \u001b[0;36mProject.push\u001b[0;34m(self, *args, **kwargs)\u001b[0m\n\u001b[1;32m     80\u001b[0m \u001b[38;5;28;01mdef\u001b[39;00m \u001b[38;5;21mpush\u001b[39m(\u001b[38;5;28mself\u001b[39m, \u001b[38;5;241m*\u001b[39margs, \u001b[38;5;241m*\u001b[39m\u001b[38;5;241m*\u001b[39mkwargs):\n\u001b[1;32m     81\u001b[0m \u001b[38;5;250m    \u001b[39m\u001b[38;5;124;03m\"\"\"Pushes the commited resources to the platform.\"\"\"\u001b[39;00m\n\u001b[0;32m---> 82\u001b[0m     \u001b[38;5;28;01mreturn\u001b[39;00m \u001b[38;5;28;43mself\u001b[39;49m\u001b[38;5;241;43m.\u001b[39;49m\u001b[43mclient\u001b[49m\u001b[38;5;241;43m.\u001b[39;49m\u001b[43mpush\u001b[49m\u001b[43m(\u001b[49m\n\u001b[1;32m     83\u001b[0m \u001b[43m        \u001b[49m\u001b[38;5;241;43m*\u001b[39;49m\u001b[43margs\u001b[49m\u001b[43m,\u001b[49m\u001b[43m \u001b[49m\u001b[43mproject_id\u001b[49m\u001b[38;5;241;43m=\u001b[39;49m\u001b[38;5;28;43mself\u001b[39;49m\u001b[38;5;241;43m.\u001b[39;49m\u001b[43mid\u001b[49m\u001b[43m,\u001b[49m\u001b[43m \u001b[49m\u001b[43mtask_type\u001b[49m\u001b[38;5;241;43m=\u001b[39;49m\u001b[43mtasks\u001b[49m\u001b[38;5;241;43m.\u001b[39;49m\u001b[43mTaskType\u001b[49m\u001b[43m(\u001b[49m\u001b[38;5;28;43mself\u001b[39;49m\u001b[38;5;241;43m.\u001b[39;49m\u001b[43mtaskType\u001b[49m\u001b[43m)\u001b[49m\u001b[43m,\u001b[49m\u001b[43m \u001b[49m\u001b[38;5;241;43m*\u001b[39;49m\u001b[38;5;241;43m*\u001b[39;49m\u001b[43mkwargs\u001b[49m\n\u001b[1;32m     84\u001b[0m \u001b[43m    \u001b[49m\u001b[43m)\u001b[49m\n",
      "File \u001b[0;32m~/Desktop/openlayer-repos/openlayer-python-client/openlayer/__init__.py:1124\u001b[0m, in \u001b[0;36mOpenlayerClient.push\u001b[0;34m(self, project_id, task_type)\u001b[0m\n\u001b[1;32m   1121\u001b[0m task_type \u001b[38;5;241m=\u001b[39m TaskType\u001b[38;5;241m.\u001b[39mLLM\n\u001b[1;32m   1122\u001b[0m \u001b[38;5;66;03m# hack ---------------------------------------------------------------\u001b[39;00m\n\u001b[0;32m-> 1124\u001b[0m \u001b[38;5;28;01mif\u001b[39;00m \u001b[38;5;28;43mself\u001b[39;49m\u001b[38;5;241;43m.\u001b[39;49m\u001b[43m_ready_for_push\u001b[49m\u001b[43m(\u001b[49m\u001b[43mproject_dir\u001b[49m\u001b[38;5;241;43m=\u001b[39;49m\u001b[43mproject_dir\u001b[49m\u001b[43m,\u001b[49m\u001b[43m \u001b[49m\u001b[43mtask_type\u001b[49m\u001b[38;5;241;43m=\u001b[39;49m\u001b[43mtask_type\u001b[49m\u001b[43m)\u001b[49m:\n\u001b[1;32m   1125\u001b[0m     \u001b[38;5;28;01mwith\u001b[39;00m \u001b[38;5;28mopen\u001b[39m(\n\u001b[1;32m   1126\u001b[0m         \u001b[38;5;124mf\u001b[39m\u001b[38;5;124m\"\u001b[39m\u001b[38;5;132;01m{\u001b[39;00mproject_dir\u001b[38;5;132;01m}\u001b[39;00m\u001b[38;5;124m/commit.yaml\u001b[39m\u001b[38;5;124m\"\u001b[39m, \u001b[38;5;124m\"\u001b[39m\u001b[38;5;124mr\u001b[39m\u001b[38;5;124m\"\u001b[39m, encoding\u001b[38;5;241m=\u001b[39m\u001b[38;5;124m\"\u001b[39m\u001b[38;5;124mUTF-8\u001b[39m\u001b[38;5;124m\"\u001b[39m\n\u001b[1;32m   1127\u001b[0m     ) \u001b[38;5;28;01mas\u001b[39;00m commit_file:\n\u001b[1;32m   1128\u001b[0m         commit \u001b[38;5;241m=\u001b[39m yaml\u001b[38;5;241m.\u001b[39msafe_load(commit_file)\n",
      "File \u001b[0;32m~/Desktop/openlayer-repos/openlayer-python-client/openlayer/__init__.py:1189\u001b[0m, in \u001b[0;36mOpenlayerClient._ready_for_push\u001b[0;34m(self, project_dir, task_type)\u001b[0m\n\u001b[1;32m   1182\u001b[0m \u001b[38;5;66;03m# Validate bundle resources\u001b[39;00m\n\u001b[1;32m   1183\u001b[0m commit_bundle_validator \u001b[38;5;241m=\u001b[39m commit_validators\u001b[38;5;241m.\u001b[39mget_validator(\n\u001b[1;32m   1184\u001b[0m     task_type\u001b[38;5;241m=\u001b[39mtask_type,\n\u001b[1;32m   1185\u001b[0m     bundle_path\u001b[38;5;241m=\u001b[39mproject_dir,\n\u001b[1;32m   1186\u001b[0m     skip_dataset_validation\u001b[38;5;241m=\u001b[39m\u001b[38;5;28;01mTrue\u001b[39;00m,\n\u001b[1;32m   1187\u001b[0m     skip_model_validation\u001b[38;5;241m=\u001b[39m\u001b[38;5;28;01mFalse\u001b[39;00m,  \u001b[38;5;66;03m# Don't skip because the sample data is different\u001b[39;00m\n\u001b[1;32m   1188\u001b[0m )\n\u001b[0;32m-> 1189\u001b[0m failed_validations \u001b[38;5;241m=\u001b[39m \u001b[43mcommit_bundle_validator\u001b[49m\u001b[38;5;241;43m.\u001b[39;49m\u001b[43mvalidate\u001b[49m\u001b[43m(\u001b[49m\u001b[43m)\u001b[49m\n\u001b[1;32m   1191\u001b[0m \u001b[38;5;28;01mif\u001b[39;00m failed_validations:\n\u001b[1;32m   1192\u001b[0m     \u001b[38;5;28;01mraise\u001b[39;00m exceptions\u001b[38;5;241m.\u001b[39mOpenlayerValidationError(\n\u001b[1;32m   1193\u001b[0m         \u001b[38;5;124m\"\u001b[39m\u001b[38;5;124mThere are issues with the staged resources. \u001b[39m\u001b[38;5;130;01m\\n\u001b[39;00m\u001b[38;5;124m\"\u001b[39m\n\u001b[1;32m   1194\u001b[0m         \u001b[38;5;124m\"\u001b[39m\u001b[38;5;124mMake sure to fix all of the issues listed above before pushing.\u001b[39m\u001b[38;5;124m\"\u001b[39m,\n\u001b[1;32m   1195\u001b[0m     ) \u001b[38;5;28;01mfrom\u001b[39;00m \u001b[38;5;28mNone\u001b[39m\n",
      "File \u001b[0;32m~/Desktop/openlayer-repos/openlayer-python-client/openlayer/validators/base_validator.py:38\u001b[0m, in \u001b[0;36mBaseValidator.validate\u001b[0;34m(self)\u001b[0m\n\u001b[1;32m     31\u001b[0m \u001b[38;5;250m\u001b[39m\u001b[38;5;124;03m\"\"\"Template method for validating a resource.\u001b[39;00m\n\u001b[1;32m     32\u001b[0m \n\u001b[1;32m     33\u001b[0m \u001b[38;5;124;03mReturns\u001b[39;00m\n\u001b[1;32m     34\u001b[0m \u001b[38;5;124;03m-------\u001b[39;00m\n\u001b[1;32m     35\u001b[0m \u001b[38;5;124;03mList[str]: A list of failed validations.\u001b[39;00m\n\u001b[1;32m     36\u001b[0m \u001b[38;5;124;03m\"\"\"\u001b[39;00m\n\u001b[1;32m     37\u001b[0m \u001b[38;5;28mself\u001b[39m\u001b[38;5;241m.\u001b[39m_display_opening_message()\n\u001b[0;32m---> 38\u001b[0m \u001b[38;5;28;43mself\u001b[39;49m\u001b[38;5;241;43m.\u001b[39;49m\u001b[43m_validate\u001b[49m\u001b[43m(\u001b[49m\u001b[43m)\u001b[49m\n\u001b[1;32m     39\u001b[0m \u001b[38;5;28mself\u001b[39m\u001b[38;5;241m.\u001b[39m_display_closing_message()\n\u001b[1;32m     41\u001b[0m \u001b[38;5;28;01mreturn\u001b[39;00m \u001b[38;5;28mself\u001b[39m\u001b[38;5;241m.\u001b[39mfailed_validations\n",
      "File \u001b[0;32m~/Desktop/openlayer-repos/openlayer-python-client/openlayer/validators/commit_validators.py:92\u001b[0m, in \u001b[0;36mBaseCommitBundleValidator._validate\u001b[0;34m(self)\u001b[0m\n\u001b[1;32m     89\u001b[0m \u001b[38;5;66;03m# Validate individual resources only if the bundle is in a valid state\u001b[39;00m\n\u001b[1;32m     90\u001b[0m \u001b[38;5;66;03m# TODO: improve the logic that determines whether to validate individual resources\u001b[39;00m\n\u001b[1;32m     91\u001b[0m \u001b[38;5;28;01mif\u001b[39;00m \u001b[38;5;129;01mnot\u001b[39;00m \u001b[38;5;28mself\u001b[39m\u001b[38;5;241m.\u001b[39mfailed_validations:\n\u001b[0;32m---> 92\u001b[0m     \u001b[38;5;28;43mself\u001b[39;49m\u001b[38;5;241;43m.\u001b[39;49m\u001b[43m_validate_bundle_resources\u001b[49m\u001b[43m(\u001b[49m\u001b[43m)\u001b[49m\n\u001b[1;32m     94\u001b[0m \u001b[38;5;28;01mif\u001b[39;00m \u001b[38;5;129;01mnot\u001b[39;00m \u001b[38;5;28mself\u001b[39m\u001b[38;5;241m.\u001b[39mfailed_validations:\n\u001b[1;32m     95\u001b[0m     \u001b[38;5;28mself\u001b[39m\u001b[38;5;241m.\u001b[39m_validate_resource_consistency()\n",
      "File \u001b[0;32m~/Desktop/openlayer-repos/openlayer-python-client/openlayer/validators/commit_validators.py:257\u001b[0m, in \u001b[0;36mBaseCommitBundleValidator._validate_bundle_resources\u001b[0;34m(self)\u001b[0m\n\u001b[1;32m    252\u001b[0m     model_validator \u001b[38;5;241m=\u001b[39m baseline_model_validators\u001b[38;5;241m.\u001b[39mget_validator(\n\u001b[1;32m    253\u001b[0m         task_type\u001b[38;5;241m=\u001b[39m\u001b[38;5;28mself\u001b[39m\u001b[38;5;241m.\u001b[39mtask_type,\n\u001b[1;32m    254\u001b[0m         model_config_file_path\u001b[38;5;241m=\u001b[39mmodel_config_file_path,\n\u001b[1;32m    255\u001b[0m     )\n\u001b[1;32m    256\u001b[0m \u001b[38;5;28;01melse\u001b[39;00m:\n\u001b[0;32m--> 257\u001b[0m     \u001b[38;5;28;01mraise\u001b[39;00m \u001b[38;5;167;01mValueError\u001b[39;00m(\n\u001b[1;32m    258\u001b[0m         \u001b[38;5;124mf\u001b[39m\u001b[38;5;124m\"\u001b[39m\u001b[38;5;124mInvalid model type: \u001b[39m\u001b[38;5;132;01m{\u001b[39;00mmodel_type\u001b[38;5;132;01m}\u001b[39;00m\u001b[38;5;124m. \u001b[39m\u001b[38;5;124m\"\u001b[39m\n\u001b[1;32m    259\u001b[0m         \u001b[38;5;124m\"\u001b[39m\u001b[38;5;124mThe model type must be one of \u001b[39m\u001b[38;5;124m'\u001b[39m\u001b[38;5;124mshell\u001b[39m\u001b[38;5;124m'\u001b[39m\u001b[38;5;124m, \u001b[39m\u001b[38;5;124m'\u001b[39m\u001b[38;5;124mfull\u001b[39m\u001b[38;5;124m'\u001b[39m\u001b[38;5;124m or \u001b[39m\u001b[38;5;124m'\u001b[39m\u001b[38;5;124mbaseline\u001b[39m\u001b[38;5;124m'\u001b[39m\u001b[38;5;124m.\u001b[39m\u001b[38;5;124m\"\u001b[39m\n\u001b[1;32m    260\u001b[0m     )\n\u001b[1;32m    261\u001b[0m \u001b[38;5;28mself\u001b[39m\u001b[38;5;241m.\u001b[39mfailed_validations\u001b[38;5;241m.\u001b[39mextend(model_validator\u001b[38;5;241m.\u001b[39mvalidate())\n",
      "\u001b[0;31mValueError\u001b[0m: Invalid model type: None. The model type must be one of 'shell', 'full' or 'baseline'."
     ]
    }
   ],
   "source": [
    "project.push()"
   ]
  },
  {
   "cell_type": "code",
   "execution_count": null,
   "id": "6d35426a",
   "metadata": {},
   "outputs": [],
   "source": []
  },
  {
   "cell_type": "code",
   "execution_count": null,
   "id": "8cc4db31",
   "metadata": {},
   "outputs": [],
   "source": []
  }
 ],
 "metadata": {
  "kernelspec": {
   "display_name": "Python 3 (ipykernel)",
   "language": "python",
   "name": "python3"
  },
  "language_info": {
   "codemirror_mode": {
    "name": "ipython",
    "version": 3
   },
   "file_extension": ".py",
   "mimetype": "text/x-python",
   "name": "python",
   "nbconvert_exporter": "python",
   "pygments_lexer": "ipython3",
   "version": "3.8.13"
  }
 },
 "nbformat": 4,
 "nbformat_minor": 5
}
