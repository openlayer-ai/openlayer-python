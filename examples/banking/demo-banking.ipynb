{
 "cells": [
  {
   "cell_type": "markdown",
   "id": "flush-triumph",
   "metadata": {},
   "source": [
    "# IMPORT"
   ]
  },
  {
   "cell_type": "code",
   "execution_count": 1,
   "id": "female-creativity",
   "metadata": {},
   "outputs": [],
   "source": [
    "import tempfile\n",
    "import numpy as np\n",
    "import pandas as pd\n",
    "from sklearn.feature_extraction.text import CountVectorizer\n",
    "from sklearn.linear_model import LogisticRegression\n",
    "from sklearn.metrics import classification_report, roc_auc_score, roc_curve\n",
    "from sklearn.pipeline import Pipeline"
   ]
  },
  {
   "cell_type": "code",
   "execution_count": 5,
   "id": "stuffed-updating",
   "metadata": {},
   "outputs": [],
   "source": [
    "import unboxapi"
   ]
  },
  {
   "cell_type": "markdown",
   "id": "fossil-press",
   "metadata": {},
   "source": [
    "# LOAD DATA, TRAIN MODEL"
   ]
  },
  {
   "cell_type": "code",
   "execution_count": 6,
   "id": "defined-interview",
   "metadata": {},
   "outputs": [],
   "source": [
    "df = pd.read_csv(\"./training.csv\")\n",
    "df = df.sample(frac=1)"
   ]
  },
  {
   "cell_type": "code",
   "execution_count": 7,
   "id": "collective-headline",
   "metadata": {},
   "outputs": [],
   "source": [
    "df[\"category\"] = df.category.astype('category')\n",
    "df[\"label_code\"] = df.category.cat.codes"
   ]
  },
  {
   "cell_type": "code",
   "execution_count": 37,
   "id": "acquired-rwanda",
   "metadata": {},
   "outputs": [
    {
     "data": {
      "text/plain": [
       "('declined_transfer', 'transfer_not_received_by_recipient')"
      ]
     },
     "execution_count": 37,
     "metadata": {},
     "output_type": "execute_result"
    }
   ],
   "source": [
    "label_dict = dict(zip(df.category.cat.codes, df.category))\n",
    "\n",
    "label_list = [None] * len(label_dict)\n",
    "for index, label in label_dict.items():\n",
    "    label_list[index] = label\n",
    "# classes = list(label_dict.values())\n",
    "# classes[41], classes[54], label_dict[41], label_dict[54]\n",
    "label_list[21], label_list[54]\n",
    "# label_list[42], label_list[55]\n",
    "# label_list"
   ]
  },
  {
   "cell_type": "code",
   "execution_count": 9,
   "id": "early-curve",
   "metadata": {},
   "outputs": [],
   "source": [
    "df_train = df[:7000]\n",
    "df_test = df[7000:]"
   ]
  },
  {
   "cell_type": "code",
   "execution_count": 10,
   "id": "adverse-colombia",
   "metadata": {},
   "outputs": [
    {
     "data": {
      "text/html": [
       "<div>\n",
       "<style scoped>\n",
       "    .dataframe tbody tr th:only-of-type {\n",
       "        vertical-align: middle;\n",
       "    }\n",
       "\n",
       "    .dataframe tbody tr th {\n",
       "        vertical-align: top;\n",
       "    }\n",
       "\n",
       "    .dataframe thead th {\n",
       "        text-align: right;\n",
       "    }\n",
       "</style>\n",
       "<table border=\"1\" class=\"dataframe\">\n",
       "  <thead>\n",
       "    <tr style=\"text-align: right;\">\n",
       "      <th></th>\n",
       "      <th>text</th>\n",
       "      <th>category</th>\n",
       "      <th>label_code</th>\n",
       "    </tr>\n",
       "  </thead>\n",
       "  <tbody>\n",
       "    <tr>\n",
       "      <th>7130</th>\n",
       "      <td>I was unable to transfer to another account.</td>\n",
       "      <td>beneficiary_not_allowed</td>\n",
       "      <td>5</td>\n",
       "    </tr>\n",
       "    <tr>\n",
       "      <th>3849</th>\n",
       "      <td>Why do I have to give you my drivers license</td>\n",
       "      <td>why_verify_identity</td>\n",
       "      <td>60</td>\n",
       "    </tr>\n",
       "    <tr>\n",
       "      <th>5012</th>\n",
       "      <td>my card was frozen due to putting in the wrong...</td>\n",
       "      <td>declined_cash_withdrawal</td>\n",
       "      <td>20</td>\n",
       "    </tr>\n",
       "    <tr>\n",
       "      <th>7619</th>\n",
       "      <td>Can I transfer money to my card via bank-trans...</td>\n",
       "      <td>transfer_into_account</td>\n",
       "      <td>53</td>\n",
       "    </tr>\n",
       "    <tr>\n",
       "      <th>7522</th>\n",
       "      <td>Hi I'm sending some money over to an investmen...</td>\n",
       "      <td>failed_transfer</td>\n",
       "      <td>28</td>\n",
       "    </tr>\n",
       "    <tr>\n",
       "      <th>...</th>\n",
       "      <td>...</td>\n",
       "      <td>...</td>\n",
       "      <td>...</td>\n",
       "    </tr>\n",
       "    <tr>\n",
       "      <th>3664</th>\n",
       "      <td>details need to be modified</td>\n",
       "      <td>edit_personal_details</td>\n",
       "      <td>24</td>\n",
       "    </tr>\n",
       "    <tr>\n",
       "      <th>1001</th>\n",
       "      <td>I need assistance with understanding which fia...</td>\n",
       "      <td>fiat_currency_support</td>\n",
       "      <td>29</td>\n",
       "    </tr>\n",
       "    <tr>\n",
       "      <th>114</th>\n",
       "      <td>I still haven't gotten my new card.  When will...</td>\n",
       "      <td>card_arrival</td>\n",
       "      <td>8</td>\n",
       "    </tr>\n",
       "    <tr>\n",
       "      <th>6472</th>\n",
       "      <td>Looking at my statement I see that I was doubl...</td>\n",
       "      <td>transaction_charged_twice</td>\n",
       "      <td>51</td>\n",
       "    </tr>\n",
       "    <tr>\n",
       "      <th>5924</th>\n",
       "      <td>Could you explain why my card payment did not ...</td>\n",
       "      <td>declined_card_payment</td>\n",
       "      <td>19</td>\n",
       "    </tr>\n",
       "  </tbody>\n",
       "</table>\n",
       "<p>7000 rows × 3 columns</p>\n",
       "</div>"
      ],
      "text/plain": [
       "                                                   text  \\\n",
       "7130       I was unable to transfer to another account.   \n",
       "3849       Why do I have to give you my drivers license   \n",
       "5012  my card was frozen due to putting in the wrong...   \n",
       "7619  Can I transfer money to my card via bank-trans...   \n",
       "7522  Hi I'm sending some money over to an investmen...   \n",
       "...                                                 ...   \n",
       "3664                        details need to be modified   \n",
       "1001  I need assistance with understanding which fia...   \n",
       "114   I still haven't gotten my new card.  When will...   \n",
       "6472  Looking at my statement I see that I was doubl...   \n",
       "5924  Could you explain why my card payment did not ...   \n",
       "\n",
       "                       category  label_code  \n",
       "7130    beneficiary_not_allowed           5  \n",
       "3849        why_verify_identity          60  \n",
       "5012   declined_cash_withdrawal          20  \n",
       "7619      transfer_into_account          53  \n",
       "7522            failed_transfer          28  \n",
       "...                         ...         ...  \n",
       "3664      edit_personal_details          24  \n",
       "1001      fiat_currency_support          29  \n",
       "114                card_arrival           8  \n",
       "6472  transaction_charged_twice          51  \n",
       "5924      declined_card_payment          19  \n",
       "\n",
       "[7000 rows x 3 columns]"
      ]
     },
     "execution_count": 10,
     "metadata": {},
     "output_type": "execute_result"
    }
   ],
   "source": [
    "df_train"
   ]
  },
  {
   "cell_type": "code",
   "execution_count": 11,
   "id": "spanish-midnight",
   "metadata": {},
   "outputs": [
    {
     "data": {
      "text/plain": [
       "Pipeline(steps=[('count_vect',\n",
       "                 CountVectorizer(ngram_range=(1, 2), stop_words='english')),\n",
       "                ('lr', LogisticRegression())])"
      ]
     },
     "execution_count": 11,
     "metadata": {},
     "output_type": "execute_result"
    }
   ],
   "source": [
    "model = Pipeline([\n",
    "                         ('count_vect', CountVectorizer(ngram_range=(1,2),\n",
    "                                                        stop_words='english')), \n",
    "                         ('lr', LogisticRegression())])\n",
    "model.fit(df_train.text, df_train.label_code)"
   ]
  },
  {
   "cell_type": "code",
   "execution_count": 12,
   "id": "documentary-guard",
   "metadata": {},
   "outputs": [
    {
     "name": "stdout",
     "output_type": "stream",
     "text": [
      "              precision    recall  f1-score   support\n",
      "\n",
      "           0       1.00      1.00      1.00        18\n",
      "           1       1.00      0.94      0.97        18\n",
      "           2       0.87      0.93      0.90        14\n",
      "           3       1.00      1.00      1.00        11\n",
      "           4       0.77      0.81      0.79        21\n",
      "           5       0.92      0.92      0.92        13\n",
      "           6       0.79      0.79      0.79        14\n",
      "           7       0.44      0.57      0.50         7\n",
      "           8       0.60      0.90      0.72        20\n",
      "           9       0.67      0.50      0.57        12\n",
      "          10       0.92      1.00      0.96        12\n",
      "          11       0.94      0.71      0.81        21\n",
      "          12       1.00      0.87      0.93        30\n",
      "          13       0.67      0.80      0.73        15\n",
      "          14       0.95      0.90      0.93        21\n",
      "          15       1.00      1.00      1.00         4\n",
      "          16       1.00      0.68      0.81        19\n",
      "          17       0.76      0.87      0.81        15\n",
      "          19       0.73      0.79      0.76        14\n",
      "          20       0.93      0.89      0.91        28\n",
      "          21       0.94      0.89      0.91        18\n",
      "          22       0.89      0.76      0.82        21\n",
      "          23       1.00      0.94      0.97        17\n",
      "          24       0.80      0.94      0.86        17\n",
      "          25       0.83      0.91      0.87        11\n",
      "          26       1.00      0.72      0.84        18\n",
      "          27       0.74      0.82      0.78        17\n",
      "          28       0.74      0.81      0.77        21\n",
      "          29       0.93      0.88      0.90        16\n",
      "          30       0.70      1.00      0.82        14\n",
      "          31       0.95      0.90      0.93        21\n",
      "          32       1.00      1.00      1.00        14\n",
      "          33       1.00      0.50      0.67        10\n",
      "          34       0.93      1.00      0.96        13\n",
      "          35       0.95      0.90      0.92        20\n",
      "          36       0.85      0.85      0.85        27\n",
      "          37       0.93      0.81      0.87        16\n",
      "          38       0.63      0.85      0.72        20\n",
      "          39       0.85      0.89      0.87        19\n",
      "          40       1.00      0.83      0.91        12\n",
      "          41       0.92      0.79      0.85        14\n",
      "          42       0.89      0.80      0.84        20\n",
      "          43       1.00      0.74      0.85        23\n",
      "          44       0.83      0.83      0.83        18\n",
      "          45       0.79      1.00      0.88        15\n",
      "          46       0.83      0.71      0.77         7\n",
      "          47       0.62      0.83      0.71         6\n",
      "          48       0.93      0.81      0.87        16\n",
      "          49       0.92      0.79      0.85        14\n",
      "          50       0.64      0.64      0.64        14\n",
      "          51       0.85      0.85      0.85        20\n",
      "          52       1.00      0.86      0.92        21\n",
      "          53       0.81      0.76      0.79        17\n",
      "          54       0.68      0.79      0.73        19\n",
      "          55       0.69      0.85      0.76        13\n",
      "          56       1.00      0.79      0.88        14\n",
      "          57       0.84      1.00      0.91        16\n",
      "          58       1.00      0.94      0.97        16\n",
      "          59       0.91      1.00      0.95        21\n",
      "          60       0.73      1.00      0.85        11\n",
      "          61       0.89      0.94      0.92        18\n",
      "\n",
      "    accuracy                           0.85      1002\n",
      "   macro avg       0.86      0.85      0.85      1002\n",
      "weighted avg       0.87      0.85      0.85      1002\n",
      "\n"
     ]
    }
   ],
   "source": [
    "x_test, y_test = df_test.text, df_test.label_code\n",
    "print(classification_report(y_test, model.predict(x_test)))"
   ]
  },
  {
   "cell_type": "code",
   "execution_count": 13,
   "id": "external-concert",
   "metadata": {},
   "outputs": [
    {
     "data": {
      "text/plain": [
       "array([38, 38], dtype=int8)"
      ]
     },
     "execution_count": 13,
     "metadata": {},
     "output_type": "execute_result"
    }
   ],
   "source": [
    "model.predict(['good', 'bad'])"
   ]
  },
  {
   "cell_type": "markdown",
   "id": "selected-portsmouth",
   "metadata": {},
   "source": [
    "# UNBOX"
   ]
  },
  {
   "cell_type": "code",
   "execution_count": 14,
   "id": "beautiful-psychiatry",
   "metadata": {},
   "outputs": [],
   "source": [
    "client = unboxapi.UnboxClient(email=\"rishramanathan@gmail.com\", password=\"00000000\")"
   ]
  },
  {
   "cell_type": "markdown",
   "id": "completed-partner",
   "metadata": {},
   "source": [
    "## Create function"
   ]
  },
  {
   "cell_type": "code",
   "execution_count": 15,
   "id": "registered-grocery",
   "metadata": {},
   "outputs": [],
   "source": [
    "def predict_function(model, text_list):\n",
    "    return model.predict_proba(text_list)"
   ]
  },
  {
   "cell_type": "code",
   "execution_count": 16,
   "id": "african-rwanda",
   "metadata": {},
   "outputs": [
    {
     "data": {
      "text/plain": [
       "array([[0.00852357, 0.01669756, 0.01068027, 0.0228188 , 0.0089844 ,\n",
       "        0.01406004, 0.00781095, 0.00566106, 0.03103156, 0.01397135,\n",
       "        0.0084006 , 0.00551908, 0.00665079, 0.00639764, 0.00522564,\n",
       "        0.00405348, 0.01197911, 0.00618045, 0.03428782, 0.00832405,\n",
       "        0.0098909 , 0.00663925, 0.00642163, 0.00419048, 0.04736751,\n",
       "        0.01073335, 0.00992688, 0.01244332, 0.00918442, 0.01340178,\n",
       "        0.00755564, 0.0150688 , 0.0042628 , 0.00992986, 0.01100459,\n",
       "        0.02882817, 0.00618531, 0.00530631, 0.17106178, 0.00573017,\n",
       "        0.00845502, 0.01572657, 0.02002863, 0.00509546, 0.00816318,\n",
       "        0.00550121, 0.01270336, 0.02182341, 0.05706666, 0.03840284,\n",
       "        0.02281725, 0.01485796, 0.00778001, 0.00471963, 0.02116457,\n",
       "        0.00764416, 0.01711816, 0.01796821, 0.01659056, 0.01222613,\n",
       "        0.01927908, 0.01247674],\n",
       "       [0.01051825, 0.01628611, 0.01214672, 0.04459304, 0.00824011,\n",
       "        0.0122483 , 0.00713119, 0.00710198, 0.00849703, 0.06595936,\n",
       "        0.00333111, 0.00681633, 0.00655064, 0.00655234, 0.00512864,\n",
       "        0.00269315, 0.00445818, 0.00598549, 0.00743733, 0.00522909,\n",
       "        0.01693869, 0.00578607, 0.00974702, 0.00469357, 0.01597008,\n",
       "        0.01036409, 0.00956795, 0.0121464 , 0.01167059, 0.01284697,\n",
       "        0.00689514, 0.0088246 , 0.00387653, 0.00509671, 0.01011694,\n",
       "        0.01645533, 0.00617801, 0.00668657, 0.14938572, 0.00833271,\n",
       "        0.00922851, 0.01402251, 0.0246419 , 0.00498373, 0.00911208,\n",
       "        0.00697233, 0.00967566, 0.0219514 , 0.05658634, 0.05096044,\n",
       "        0.0169767 , 0.02173885, 0.00862988, 0.00427448, 0.01884034,\n",
       "        0.03893655, 0.01815398, 0.01546189, 0.01922668, 0.01597996,\n",
       "        0.01931437, 0.01584731],\n",
       "       [0.00950576, 0.01942726, 0.01406357, 0.02692768, 0.0133715 ,\n",
       "        0.01411189, 0.00821536, 0.00803609, 0.00861014, 0.03770253,\n",
       "        0.00350377, 0.00883521, 0.00747198, 0.00694516, 0.00597487,\n",
       "        0.00294806, 0.00484576, 0.00661207, 0.00856401, 0.00611347,\n",
       "        0.00995441, 0.01088719, 0.01800592, 0.01064804, 0.01803921,\n",
       "        0.01105067, 0.01074212, 0.0140565 , 0.00848257, 0.01455267,\n",
       "        0.00762867, 0.00887808, 0.00419946, 0.00552077, 0.0112186 ,\n",
       "        0.01878066, 0.00636138, 0.00607587, 0.08043347, 0.00743791,\n",
       "        0.01027205, 0.01758551, 0.02298553, 0.00590003, 0.01089984,\n",
       "        0.00653824, 0.01244429, 0.02535454, 0.11913776, 0.07231879,\n",
       "        0.02025658, 0.0172896 , 0.0074563 , 0.00467074, 0.02281717,\n",
       "        0.00774364, 0.01903739, 0.01925525, 0.02204616, 0.01528919,\n",
       "        0.02266257, 0.01329847]])"
      ]
     },
     "execution_count": 16,
     "metadata": {},
     "output_type": "execute_result"
    }
   ],
   "source": [
    "texts = ['some new text, sweet noodles', 'happy time', 'sad day']\n",
    "\n",
    "predict_function(model, texts)"
   ]
  },
  {
   "cell_type": "markdown",
   "id": "chicken-dragon",
   "metadata": {},
   "source": [
    "# Package (function, model) & Upload to Unbox Server"
   ]
  },
  {
   "cell_type": "code",
   "execution_count": 28,
   "id": "ordinary-pendant",
   "metadata": {
    "scrolled": true
   },
   "outputs": [
    {
     "name": "stdout",
     "output_type": "stream",
     "text": [
      "Uploading model...\n",
      "[2021-05-30 17:35:28,044] WARNING - pip package requirement scikit-learn already exist\n",
      "Packaged bento content\n"
     ]
    },
    {
     "name": "stderr",
     "output_type": "stream",
     "text": [
      "  0%|          | 8.00k/4.92M [00:00<01:31, 56.2kB/s]"
     ]
    },
    {
     "name": "stdout",
     "output_type": "stream",
     "text": [
      "Connecting to Unbox server\n"
     ]
    },
    {
     "name": "stderr",
     "output_type": "stream",
     "text": [
      "100%|██████████| 4.92M/4.92M [00:00<00:00, 5.72MB/s]\n"
     ]
    },
    {
     "name": "stdout",
     "output_type": "stream",
     "text": [
      "Complete. Response:\n"
     ]
    },
    {
     "data": {
      "text/plain": [
       "{'_links': {'datasets': '/api/models/fe6f9a91-0d46-453a-8b44-1ce2c7faebab/datasets',\n",
       "  'inferenceRuns': '/api/models/fe6f9a91-0d46-453a-8b44-1ce2c7faebab/inference-runs',\n",
       "  'runReports': '/api/models/fe6f9a91-0d46-453a-8b44-1ce2c7faebab/run-reports',\n",
       "  'self': '/api/models/fe6f9a91-0d46-453a-8b44-1ce2c7faebab'},\n",
       " 'classNames': ['Refund_not_showing_up',\n",
       "  'age_limit',\n",
       "  'atm_support',\n",
       "  'automatic_top_up',\n",
       "  'balance_not_updated_after_cheque_or_cash_deposit',\n",
       "  'beneficiary_not_allowed',\n",
       "  'cancel_transfer',\n",
       "  'card_acceptance',\n",
       "  'card_arrival',\n",
       "  'card_delivery_estimate',\n",
       "  'card_linking',\n",
       "  'card_not_working',\n",
       "  'card_payment_fee_charged',\n",
       "  'card_payment_not_recognised',\n",
       "  'card_payment_wrong_exchange_rate',\n",
       "  'card_swallowed',\n",
       "  'change_pin',\n",
       "  'compromised_card',\n",
       "  'contactless_not_working',\n",
       "  'declined_card_payment',\n",
       "  'declined_cash_withdrawal',\n",
       "  'declined_transfer',\n",
       "  'direct_debit_payment_not_recognised',\n",
       "  'disposable_card_limits',\n",
       "  'edit_personal_details',\n",
       "  'exchange_rate',\n",
       "  'exchange_via_app',\n",
       "  'extra_charge_on_statement',\n",
       "  'failed_transfer',\n",
       "  'fiat_currency_support',\n",
       "  'get_physical_card',\n",
       "  'getting_spare_card',\n",
       "  'getting_virtual_card',\n",
       "  'lost_or_stolen_card',\n",
       "  'lost_or_stolen_phone',\n",
       "  'passcode_forgotten',\n",
       "  'pending_card_payment',\n",
       "  'pending_cash_withdrawal',\n",
       "  'pending_top_up',\n",
       "  'pending_transfer',\n",
       "  'pin_blocked',\n",
       "  'receiving_money',\n",
       "  'request_refund',\n",
       "  'reverted_card_payment?',\n",
       "  'supported_cards_and_currencies',\n",
       "  'terminate_account',\n",
       "  'top_up_by_bank_transfer_charge',\n",
       "  'top_up_by_cash_or_cheque',\n",
       "  'top_up_limits',\n",
       "  'top_up_reverted',\n",
       "  'topping_up_by_card',\n",
       "  'transaction_charged_twice',\n",
       "  'transfer_fee_charged',\n",
       "  'transfer_into_account',\n",
       "  'transfer_not_received_by_recipient',\n",
       "  'transfer_timing',\n",
       "  'unable_to_verify_identity',\n",
       "  'verify_source_of_funds',\n",
       "  'verify_top_up',\n",
       "  'visa_or_mastercard',\n",
       "  'why_verify_identity',\n",
       "  'wrong_amount_of_cash_received'],\n",
       " 'datasetCount': 0,\n",
       " 'dateCreated': '2021-05-31T00:35:29.878771Z',\n",
       " 'description': 'this is my sklearn banking model',\n",
       " 'id': 'fe6f9a91-0d46-453a-8b44-1ce2c7faebab',\n",
       " 'inProgressNotifications': ['model_fe6f9a91-0d46-453a-8b44-1ce2c7faebab_create_endpoint'],\n",
       " 'inferenceRunCount': 0,\n",
       " 'modelApi': None,\n",
       " 'name': 'banking fixed',\n",
       " 'runReportCount': 0}"
      ]
     },
     "execution_count": 28,
     "metadata": {},
     "output_type": "execute_result"
    }
   ],
   "source": [
    "print('Uploading model...')\n",
    "response = client.add_model(function=predict_function, \n",
    "                            model=model,\n",
    "                            class_names=label_list,\n",
    "                            name='banking fixed',\n",
    "                            description='this is my sklearn banking model')\n",
    "print(f'Complete. Response:')\n",
    "response.json()"
   ]
  },
  {
   "cell_type": "code",
   "execution_count": 29,
   "id": "medieval-australian",
   "metadata": {},
   "outputs": [
    {
     "name": "stderr",
     "output_type": "stream",
     "text": [
      "\r",
      "  0%|          | 0.00/86.1k [00:00<?, ?B/s]"
     ]
    },
    {
     "name": "stdout",
     "output_type": "stream",
     "text": [
      "\n",
      "Uploading dataset (from file)...\n"
     ]
    },
    {
     "name": "stderr",
     "output_type": "stream",
     "text": [
      "100%|██████████| 86.1k/86.1k [00:00<00:00, 271kB/s]\n"
     ]
    },
    {
     "name": "stdout",
     "output_type": "stream",
     "text": [
      "Complete. Response:\n"
     ]
    },
    {
     "data": {
      "text/plain": [
       "{'_links': {'models': '/api/datasets/4/models',\n",
       "  'rows': '/api/datasets/4/rows',\n",
       "  'self': '/api/datasets/4',\n",
       "  'tags': '/api/datasets/4/tags'},\n",
       " 'classNames': ['Refund_not_showing_up',\n",
       "  'age_limit',\n",
       "  'atm_support',\n",
       "  'automatic_top_up',\n",
       "  'balance_not_updated_after_cheque_or_cash_deposit',\n",
       "  'beneficiary_not_allowed',\n",
       "  'cancel_transfer',\n",
       "  'card_acceptance',\n",
       "  'card_arrival',\n",
       "  'card_delivery_estimate',\n",
       "  'card_linking',\n",
       "  'card_not_working',\n",
       "  'card_payment_fee_charged',\n",
       "  'card_payment_not_recognised',\n",
       "  'card_payment_wrong_exchange_rate',\n",
       "  'card_swallowed',\n",
       "  'change_pin',\n",
       "  'compromised_card',\n",
       "  'contactless_not_working',\n",
       "  'declined_card_payment',\n",
       "  'declined_cash_withdrawal',\n",
       "  'declined_transfer',\n",
       "  'direct_debit_payment_not_recognised',\n",
       "  'disposable_card_limits',\n",
       "  'edit_personal_details',\n",
       "  'exchange_rate',\n",
       "  'exchange_via_app',\n",
       "  'extra_charge_on_statement',\n",
       "  'failed_transfer',\n",
       "  'fiat_currency_support',\n",
       "  'get_physical_card',\n",
       "  'getting_spare_card',\n",
       "  'getting_virtual_card',\n",
       "  'lost_or_stolen_card',\n",
       "  'lost_or_stolen_phone',\n",
       "  'passcode_forgotten',\n",
       "  'pending_card_payment',\n",
       "  'pending_cash_withdrawal',\n",
       "  'pending_top_up',\n",
       "  'pending_transfer',\n",
       "  'pin_blocked',\n",
       "  'receiving_money',\n",
       "  'request_refund',\n",
       "  'reverted_card_payment?',\n",
       "  'supported_cards_and_currencies',\n",
       "  'terminate_account',\n",
       "  'top_up_by_bank_transfer_charge',\n",
       "  'top_up_by_cash_or_cheque',\n",
       "  'top_up_limits',\n",
       "  'top_up_reverted',\n",
       "  'topping_up_by_card',\n",
       "  'transaction_charged_twice',\n",
       "  'transfer_fee_charged',\n",
       "  'transfer_into_account',\n",
       "  'transfer_not_received_by_recipient',\n",
       "  'transfer_timing',\n",
       "  'unable_to_verify_identity',\n",
       "  'verify_source_of_funds',\n",
       "  'verify_top_up',\n",
       "  'visa_or_mastercard',\n",
       "  'why_verify_identity',\n",
       "  'wrong_amount_of_cash_received'],\n",
       " 'columnNames': None,\n",
       " 'dateCreated': '2021-05-31T00:35:42.150024Z',\n",
       " 'description': 'banking validation dataset',\n",
       " 'id': 4,\n",
       " 'inProgressNotifications': ['dataset_4_save_dataset_rows'],\n",
       " 'labelColumnIndex': 3,\n",
       " 'modelCount': 0,\n",
       " 'name': 'banking fixed',\n",
       " 'rowCount': 0,\n",
       " 'tagCount': 0,\n",
       " 'textColumnIndex': 1}"
      ]
     },
     "execution_count": 29,
     "metadata": {},
     "output_type": "execute_result"
    }
   ],
   "source": [
    "print('\\nUploading dataset (from file)...')\n",
    "with tempfile.TemporaryDirectory() as tmpdir:\n",
    "    df_test.to_csv(f'{tmpdir}/dataset_cloud.csv')\n",
    "    response = client.add_dataset(file_path=f'{tmpdir}/dataset_cloud.csv', \n",
    "                                  name=\"banking fixed\",\n",
    "                                  description='banking validation dataset',\n",
    "                                  class_names=label_list,\n",
    "                                  label_column_name='label_code',\n",
    "                                  text_column_name='text')\n",
    "print(f'Complete. Response:')\n",
    "response.json()"
   ]
  },
  {
   "cell_type": "code",
   "execution_count": 19,
   "id": "suspended-packing",
   "metadata": {},
   "outputs": [
    {
     "data": {
      "text/html": [
       "<div>\n",
       "<style scoped>\n",
       "    .dataframe tbody tr th:only-of-type {\n",
       "        vertical-align: middle;\n",
       "    }\n",
       "\n",
       "    .dataframe tbody tr th {\n",
       "        vertical-align: top;\n",
       "    }\n",
       "\n",
       "    .dataframe thead th {\n",
       "        text-align: right;\n",
       "    }\n",
       "</style>\n",
       "<table border=\"1\" class=\"dataframe\">\n",
       "  <thead>\n",
       "    <tr style=\"text-align: right;\">\n",
       "      <th></th>\n",
       "      <th>text</th>\n",
       "      <th>category</th>\n",
       "      <th>label_code</th>\n",
       "    </tr>\n",
       "  </thead>\n",
       "  <tbody>\n",
       "    <tr>\n",
       "      <th>7130</th>\n",
       "      <td>I was unable to transfer to another account.</td>\n",
       "      <td>beneficiary_not_allowed</td>\n",
       "      <td>5</td>\n",
       "    </tr>\n",
       "    <tr>\n",
       "      <th>3849</th>\n",
       "      <td>Why do I have to give you my drivers license</td>\n",
       "      <td>why_verify_identity</td>\n",
       "      <td>60</td>\n",
       "    </tr>\n",
       "    <tr>\n",
       "      <th>5012</th>\n",
       "      <td>my card was frozen due to putting in the wrong...</td>\n",
       "      <td>declined_cash_withdrawal</td>\n",
       "      <td>20</td>\n",
       "    </tr>\n",
       "    <tr>\n",
       "      <th>7619</th>\n",
       "      <td>Can I transfer money to my card via bank-trans...</td>\n",
       "      <td>transfer_into_account</td>\n",
       "      <td>53</td>\n",
       "    </tr>\n",
       "    <tr>\n",
       "      <th>7522</th>\n",
       "      <td>Hi I'm sending some money over to an investmen...</td>\n",
       "      <td>failed_transfer</td>\n",
       "      <td>28</td>\n",
       "    </tr>\n",
       "    <tr>\n",
       "      <th>...</th>\n",
       "      <td>...</td>\n",
       "      <td>...</td>\n",
       "      <td>...</td>\n",
       "    </tr>\n",
       "    <tr>\n",
       "      <th>3664</th>\n",
       "      <td>details need to be modified</td>\n",
       "      <td>edit_personal_details</td>\n",
       "      <td>24</td>\n",
       "    </tr>\n",
       "    <tr>\n",
       "      <th>1001</th>\n",
       "      <td>I need assistance with understanding which fia...</td>\n",
       "      <td>fiat_currency_support</td>\n",
       "      <td>29</td>\n",
       "    </tr>\n",
       "    <tr>\n",
       "      <th>114</th>\n",
       "      <td>I still haven't gotten my new card.  When will...</td>\n",
       "      <td>card_arrival</td>\n",
       "      <td>8</td>\n",
       "    </tr>\n",
       "    <tr>\n",
       "      <th>6472</th>\n",
       "      <td>Looking at my statement I see that I was doubl...</td>\n",
       "      <td>transaction_charged_twice</td>\n",
       "      <td>51</td>\n",
       "    </tr>\n",
       "    <tr>\n",
       "      <th>5924</th>\n",
       "      <td>Could you explain why my card payment did not ...</td>\n",
       "      <td>declined_card_payment</td>\n",
       "      <td>19</td>\n",
       "    </tr>\n",
       "  </tbody>\n",
       "</table>\n",
       "<p>7000 rows × 3 columns</p>\n",
       "</div>"
      ],
      "text/plain": [
       "                                                   text  \\\n",
       "7130       I was unable to transfer to another account.   \n",
       "3849       Why do I have to give you my drivers license   \n",
       "5012  my card was frozen due to putting in the wrong...   \n",
       "7619  Can I transfer money to my card via bank-trans...   \n",
       "7522  Hi I'm sending some money over to an investmen...   \n",
       "...                                                 ...   \n",
       "3664                        details need to be modified   \n",
       "1001  I need assistance with understanding which fia...   \n",
       "114   I still haven't gotten my new card.  When will...   \n",
       "6472  Looking at my statement I see that I was doubl...   \n",
       "5924  Could you explain why my card payment did not ...   \n",
       "\n",
       "                       category  label_code  \n",
       "7130    beneficiary_not_allowed           5  \n",
       "3849        why_verify_identity          60  \n",
       "5012   declined_cash_withdrawal          20  \n",
       "7619      transfer_into_account          53  \n",
       "7522            failed_transfer          28  \n",
       "...                         ...         ...  \n",
       "3664      edit_personal_details          24  \n",
       "1001      fiat_currency_support          29  \n",
       "114                card_arrival           8  \n",
       "6472  transaction_charged_twice          51  \n",
       "5924      declined_card_payment          19  \n",
       "\n",
       "[7000 rows x 3 columns]"
      ]
     },
     "execution_count": 19,
     "metadata": {},
     "output_type": "execute_result"
    }
   ],
   "source": [
    "df_train"
   ]
  },
  {
   "cell_type": "code",
   "execution_count": 20,
   "id": "embedded-assurance",
   "metadata": {},
   "outputs": [
    {
     "name": "stdout",
     "output_type": "stream",
     "text": [
      "\n",
      "Uploading dataset (from data frame)...\n"
     ]
    },
    {
     "ename": "NameError",
     "evalue": "name 'df_test_name' is not defined",
     "output_type": "error",
     "traceback": [
      "\u001b[0;31m---------------------------------------------------------------------------\u001b[0m",
      "\u001b[0;31mNameError\u001b[0m                                 Traceback (most recent call last)",
      "\u001b[0;32m<ipython-input-20-7c4d6ebe380c>\u001b[0m in \u001b[0;36m<module>\u001b[0;34m\u001b[0m\n\u001b[1;32m      1\u001b[0m \u001b[0mprint\u001b[0m\u001b[0;34m(\u001b[0m\u001b[0;34m'\\nUploading dataset (from data frame)...'\u001b[0m\u001b[0;34m)\u001b[0m\u001b[0;34m\u001b[0m\u001b[0;34m\u001b[0m\u001b[0m\n\u001b[1;32m      2\u001b[0m response = client.add_dataframe(df=df_test,\n\u001b[0;32m----> 3\u001b[0;31m                                 \u001b[0mname\u001b[0m\u001b[0;34m=\u001b[0m\u001b[0mdf_test_name\u001b[0m\u001b[0;34m,\u001b[0m\u001b[0;34m\u001b[0m\u001b[0;34m\u001b[0m\u001b[0m\n\u001b[0m\u001b[1;32m      4\u001b[0m                                 \u001b[0mdescription\u001b[0m\u001b[0;34m=\u001b[0m\u001b[0;34m'this is my sentiment test dataset'\u001b[0m\u001b[0;34m,\u001b[0m\u001b[0;34m\u001b[0m\u001b[0;34m\u001b[0m\u001b[0m\n\u001b[1;32m      5\u001b[0m                                 \u001b[0mclass_names\u001b[0m\u001b[0;34m=\u001b[0m\u001b[0;34m[\u001b[0m\u001b[0;34m'negative'\u001b[0m\u001b[0;34m,\u001b[0m \u001b[0;34m'positive'\u001b[0m\u001b[0;34m]\u001b[0m\u001b[0;34m,\u001b[0m\u001b[0;34m\u001b[0m\u001b[0;34m\u001b[0m\u001b[0m\n",
      "\u001b[0;31mNameError\u001b[0m: name 'df_test_name' is not defined"
     ]
    }
   ],
   "source": [
    "print('\\nUploading dataset (from data frame)...')\n",
    "response = client.add_dataframe(df=df_test,\n",
    "                                name=\"df_test_name\", \n",
    "                                description='this is my sentiment test dataset',\n",
    "                                class_names=['negative', 'positive'],\n",
    "                                label_column_name='polarity',\n",
    "                                text_column_name='text')\n",
    "print(f'Complete. Response:')\n",
    "response.json()"
   ]
  },
  {
   "cell_type": "code",
   "execution_count": null,
   "id": "assumed-richardson",
   "metadata": {},
   "outputs": [],
   "source": []
  }
 ],
 "metadata": {
  "kernelspec": {
   "display_name": "Python 3",
   "language": "python",
   "name": "python3"
  },
  "language_info": {
   "codemirror_mode": {
    "name": "ipython",
    "version": 3
   },
   "file_extension": ".py",
   "mimetype": "text/x-python",
   "name": "python",
   "nbconvert_exporter": "python",
   "pygments_lexer": "ipython3",
   "version": "3.7.10"
  }
 },
 "nbformat": 4,
 "nbformat_minor": 5
}
